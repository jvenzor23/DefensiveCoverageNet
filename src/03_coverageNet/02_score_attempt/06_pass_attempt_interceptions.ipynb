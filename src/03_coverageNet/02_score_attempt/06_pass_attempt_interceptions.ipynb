{
 "cells": [
  {
   "cell_type": "code",
   "execution_count": 1,
   "metadata": {
    "collapsed": true
   },
   "outputs": [],
   "source": [
    "import numpy as np\n",
    "import pandas as pd\n",
    "import tensorflow as tf\n",
    "from tensorflow.keras import layers\n",
    "import matplotlib.pyplot as plt\n",
    "%matplotlib inline"
   ]
  },
  {
   "cell_type": "code",
   "execution_count": 2,
   "metadata": {},
   "outputs": [
    {
     "data": {
      "text/html": [
       "\n",
       "<style>\n",
       ".output_png {\n",
       "    display: table-cell;\n",
       "    text-align: center;\n",
       "    vertical-align: middle;\n",
       "}\n",
       "</style>\n"
      ],
      "text/plain": [
       "<IPython.core.display.HTML object>"
      ]
     },
     "execution_count": 2,
     "metadata": {},
     "output_type": "execute_result"
    }
   ],
   "source": [
    "from IPython.core.display import HTML\n",
    "HTML(\"\"\"\n",
    "<style>\n",
    ".output_png {\n",
    "    display: table-cell;\n",
    "    text-align: center;\n",
    "    vertical-align: middle;\n",
    "}\n",
    "</style>\n",
    "\"\"\")"
   ]
  },
  {
   "cell_type": "markdown",
   "metadata": {},
   "source": [
    "# Reading in the Data"
   ]
  },
  {
   "cell_type": "code",
   "execution_count": 3,
   "metadata": {
    "collapsed": true
   },
   "outputs": [],
   "source": [
    "yac_data = pd.read_csv(\"~/Desktop/CoverageNet/src/03_coverageNet/02_score_attempt/outputs/interception_training_tensor.csv\")"
   ]
  },
  {
   "cell_type": "code",
   "execution_count": 4,
   "metadata": {
    "scrolled": true
   },
   "outputs": [
    {
     "data": {
      "text/html": [
       "<div>\n",
       "<style scoped>\n",
       "    .dataframe tbody tr th:only-of-type {\n",
       "        vertical-align: middle;\n",
       "    }\n",
       "\n",
       "    .dataframe tbody tr th {\n",
       "        vertical-align: top;\n",
       "    }\n",
       "\n",
       "    .dataframe thead th {\n",
       "        text-align: right;\n",
       "    }\n",
       "</style>\n",
       "<table border=\"1\" class=\"dataframe\">\n",
       "  <thead>\n",
       "    <tr style=\"text-align: right;\">\n",
       "      <th></th>\n",
       "      <th>group</th>\n",
       "      <th>gameId</th>\n",
       "      <th>playId</th>\n",
       "      <th>defense_nflId</th>\n",
       "      <th>offense_nflId</th>\n",
       "      <th>playId3</th>\n",
       "      <th>playId2</th>\n",
       "      <th>defenseId</th>\n",
       "      <th>offenseId</th>\n",
       "      <th>defense_s_x</th>\n",
       "      <th>...</th>\n",
       "      <th>receiver_s_x</th>\n",
       "      <th>receiver_s_y</th>\n",
       "      <th>receiver_distance_from_los</th>\n",
       "      <th>defense_football_x</th>\n",
       "      <th>defense_football_y</th>\n",
       "      <th>receiver_football_x</th>\n",
       "      <th>receiver_football_y</th>\n",
       "      <th>football_s</th>\n",
       "      <th>receiver_football_defender_dist_diff</th>\n",
       "      <th>defender_receiver_football_dist_diff</th>\n",
       "    </tr>\n",
       "  </thead>\n",
       "  <tbody>\n",
       "    <tr>\n",
       "      <th>0</th>\n",
       "      <td>test</td>\n",
       "      <td>2018090600</td>\n",
       "      <td>3392</td>\n",
       "      <td>79848</td>\n",
       "      <td>310</td>\n",
       "      <td>1</td>\n",
       "      <td>1</td>\n",
       "      <td>1</td>\n",
       "      <td>1</td>\n",
       "      <td>-1.821280</td>\n",
       "      <td>...</td>\n",
       "      <td>5.873921</td>\n",
       "      <td>4.300635</td>\n",
       "      <td>8.31</td>\n",
       "      <td>0.22</td>\n",
       "      <td>-3.98</td>\n",
       "      <td>14.68</td>\n",
       "      <td>16.43</td>\n",
       "      <td>19.25</td>\n",
       "      <td>-2.980322</td>\n",
       "      <td>-18.046793</td>\n",
       "    </tr>\n",
       "    <tr>\n",
       "      <th>1</th>\n",
       "      <td>test</td>\n",
       "      <td>2018090600</td>\n",
       "      <td>3392</td>\n",
       "      <td>79848</td>\n",
       "      <td>2533040</td>\n",
       "      <td>1</td>\n",
       "      <td>1</td>\n",
       "      <td>1</td>\n",
       "      <td>2</td>\n",
       "      <td>-1.821280</td>\n",
       "      <td>...</td>\n",
       "      <td>5.873921</td>\n",
       "      <td>4.300635</td>\n",
       "      <td>8.31</td>\n",
       "      <td>0.22</td>\n",
       "      <td>-3.98</td>\n",
       "      <td>14.68</td>\n",
       "      <td>16.43</td>\n",
       "      <td>19.25</td>\n",
       "      <td>-2.980322</td>\n",
       "      <td>-18.046793</td>\n",
       "    </tr>\n",
       "    <tr>\n",
       "      <th>2</th>\n",
       "      <td>test</td>\n",
       "      <td>2018090600</td>\n",
       "      <td>3392</td>\n",
       "      <td>79848</td>\n",
       "      <td>2543583</td>\n",
       "      <td>1</td>\n",
       "      <td>1</td>\n",
       "      <td>1</td>\n",
       "      <td>3</td>\n",
       "      <td>-1.821280</td>\n",
       "      <td>...</td>\n",
       "      <td>5.873921</td>\n",
       "      <td>4.300635</td>\n",
       "      <td>8.31</td>\n",
       "      <td>0.22</td>\n",
       "      <td>-3.98</td>\n",
       "      <td>14.68</td>\n",
       "      <td>16.43</td>\n",
       "      <td>19.25</td>\n",
       "      <td>-2.980322</td>\n",
       "      <td>-18.046793</td>\n",
       "    </tr>\n",
       "    <tr>\n",
       "      <th>3</th>\n",
       "      <td>test</td>\n",
       "      <td>2018090600</td>\n",
       "      <td>3392</td>\n",
       "      <td>79848</td>\n",
       "      <td>2555415</td>\n",
       "      <td>1</td>\n",
       "      <td>1</td>\n",
       "      <td>1</td>\n",
       "      <td>4</td>\n",
       "      <td>-1.821280</td>\n",
       "      <td>...</td>\n",
       "      <td>5.873921</td>\n",
       "      <td>4.300635</td>\n",
       "      <td>8.31</td>\n",
       "      <td>0.22</td>\n",
       "      <td>-3.98</td>\n",
       "      <td>14.68</td>\n",
       "      <td>16.43</td>\n",
       "      <td>19.25</td>\n",
       "      <td>-2.980322</td>\n",
       "      <td>-18.046793</td>\n",
       "    </tr>\n",
       "    <tr>\n",
       "      <th>4</th>\n",
       "      <td>test</td>\n",
       "      <td>2018090600</td>\n",
       "      <td>3392</td>\n",
       "      <td>79848</td>\n",
       "      <td>2560854</td>\n",
       "      <td>1</td>\n",
       "      <td>1</td>\n",
       "      <td>1</td>\n",
       "      <td>5</td>\n",
       "      <td>-1.821280</td>\n",
       "      <td>...</td>\n",
       "      <td>5.873921</td>\n",
       "      <td>4.300635</td>\n",
       "      <td>8.31</td>\n",
       "      <td>0.22</td>\n",
       "      <td>-3.98</td>\n",
       "      <td>14.68</td>\n",
       "      <td>16.43</td>\n",
       "      <td>19.25</td>\n",
       "      <td>-2.980322</td>\n",
       "      <td>-18.046793</td>\n",
       "    </tr>\n",
       "    <tr>\n",
       "      <th>5</th>\n",
       "      <td>test</td>\n",
       "      <td>2018090600</td>\n",
       "      <td>3392</td>\n",
       "      <td>2495613</td>\n",
       "      <td>310</td>\n",
       "      <td>1</td>\n",
       "      <td>1</td>\n",
       "      <td>2</td>\n",
       "      <td>1</td>\n",
       "      <td>-1.863472</td>\n",
       "      <td>...</td>\n",
       "      <td>5.873921</td>\n",
       "      <td>4.300635</td>\n",
       "      <td>8.31</td>\n",
       "      <td>15.03</td>\n",
       "      <td>-6.34</td>\n",
       "      <td>14.68</td>\n",
       "      <td>16.43</td>\n",
       "      <td>19.25</td>\n",
       "      <td>-0.739821</td>\n",
       "      <td>-5.720404</td>\n",
       "    </tr>\n",
       "    <tr>\n",
       "      <th>6</th>\n",
       "      <td>test</td>\n",
       "      <td>2018090600</td>\n",
       "      <td>3392</td>\n",
       "      <td>2495613</td>\n",
       "      <td>2533040</td>\n",
       "      <td>1</td>\n",
       "      <td>1</td>\n",
       "      <td>2</td>\n",
       "      <td>2</td>\n",
       "      <td>-1.863472</td>\n",
       "      <td>...</td>\n",
       "      <td>5.873921</td>\n",
       "      <td>4.300635</td>\n",
       "      <td>8.31</td>\n",
       "      <td>15.03</td>\n",
       "      <td>-6.34</td>\n",
       "      <td>14.68</td>\n",
       "      <td>16.43</td>\n",
       "      <td>19.25</td>\n",
       "      <td>-0.739821</td>\n",
       "      <td>-5.720404</td>\n",
       "    </tr>\n",
       "    <tr>\n",
       "      <th>7</th>\n",
       "      <td>test</td>\n",
       "      <td>2018090600</td>\n",
       "      <td>3392</td>\n",
       "      <td>2495613</td>\n",
       "      <td>2543583</td>\n",
       "      <td>1</td>\n",
       "      <td>1</td>\n",
       "      <td>2</td>\n",
       "      <td>3</td>\n",
       "      <td>-1.863472</td>\n",
       "      <td>...</td>\n",
       "      <td>5.873921</td>\n",
       "      <td>4.300635</td>\n",
       "      <td>8.31</td>\n",
       "      <td>15.03</td>\n",
       "      <td>-6.34</td>\n",
       "      <td>14.68</td>\n",
       "      <td>16.43</td>\n",
       "      <td>19.25</td>\n",
       "      <td>-0.739821</td>\n",
       "      <td>-5.720404</td>\n",
       "    </tr>\n",
       "    <tr>\n",
       "      <th>8</th>\n",
       "      <td>test</td>\n",
       "      <td>2018090600</td>\n",
       "      <td>3392</td>\n",
       "      <td>2495613</td>\n",
       "      <td>2555415</td>\n",
       "      <td>1</td>\n",
       "      <td>1</td>\n",
       "      <td>2</td>\n",
       "      <td>4</td>\n",
       "      <td>-1.863472</td>\n",
       "      <td>...</td>\n",
       "      <td>5.873921</td>\n",
       "      <td>4.300635</td>\n",
       "      <td>8.31</td>\n",
       "      <td>15.03</td>\n",
       "      <td>-6.34</td>\n",
       "      <td>14.68</td>\n",
       "      <td>16.43</td>\n",
       "      <td>19.25</td>\n",
       "      <td>-0.739821</td>\n",
       "      <td>-5.720404</td>\n",
       "    </tr>\n",
       "    <tr>\n",
       "      <th>9</th>\n",
       "      <td>test</td>\n",
       "      <td>2018090600</td>\n",
       "      <td>3392</td>\n",
       "      <td>2495613</td>\n",
       "      <td>2560854</td>\n",
       "      <td>1</td>\n",
       "      <td>1</td>\n",
       "      <td>2</td>\n",
       "      <td>5</td>\n",
       "      <td>-1.863472</td>\n",
       "      <td>...</td>\n",
       "      <td>5.873921</td>\n",
       "      <td>4.300635</td>\n",
       "      <td>8.31</td>\n",
       "      <td>15.03</td>\n",
       "      <td>-6.34</td>\n",
       "      <td>14.68</td>\n",
       "      <td>16.43</td>\n",
       "      <td>19.25</td>\n",
       "      <td>-0.739821</td>\n",
       "      <td>-5.720404</td>\n",
       "    </tr>\n",
       "    <tr>\n",
       "      <th>10</th>\n",
       "      <td>test</td>\n",
       "      <td>2018090600</td>\n",
       "      <td>3392</td>\n",
       "      <td>2534832</td>\n",
       "      <td>310</td>\n",
       "      <td>1</td>\n",
       "      <td>1</td>\n",
       "      <td>3</td>\n",
       "      <td>1</td>\n",
       "      <td>-3.512859</td>\n",
       "      <td>...</td>\n",
       "      <td>5.873921</td>\n",
       "      <td>4.300635</td>\n",
       "      <td>8.31</td>\n",
       "      <td>-0.04</td>\n",
       "      <td>-2.49</td>\n",
       "      <td>14.68</td>\n",
       "      <td>16.43</td>\n",
       "      <td>19.25</td>\n",
       "      <td>-1.938881</td>\n",
       "      <td>-19.542547</td>\n",
       "    </tr>\n",
       "    <tr>\n",
       "      <th>11</th>\n",
       "      <td>test</td>\n",
       "      <td>2018090600</td>\n",
       "      <td>3392</td>\n",
       "      <td>2534832</td>\n",
       "      <td>2533040</td>\n",
       "      <td>1</td>\n",
       "      <td>1</td>\n",
       "      <td>3</td>\n",
       "      <td>2</td>\n",
       "      <td>-3.512859</td>\n",
       "      <td>...</td>\n",
       "      <td>5.873921</td>\n",
       "      <td>4.300635</td>\n",
       "      <td>8.31</td>\n",
       "      <td>-0.04</td>\n",
       "      <td>-2.49</td>\n",
       "      <td>14.68</td>\n",
       "      <td>16.43</td>\n",
       "      <td>19.25</td>\n",
       "      <td>-1.938881</td>\n",
       "      <td>-19.542547</td>\n",
       "    </tr>\n",
       "    <tr>\n",
       "      <th>12</th>\n",
       "      <td>test</td>\n",
       "      <td>2018090600</td>\n",
       "      <td>3392</td>\n",
       "      <td>2534832</td>\n",
       "      <td>2543583</td>\n",
       "      <td>1</td>\n",
       "      <td>1</td>\n",
       "      <td>3</td>\n",
       "      <td>3</td>\n",
       "      <td>-3.512859</td>\n",
       "      <td>...</td>\n",
       "      <td>5.873921</td>\n",
       "      <td>4.300635</td>\n",
       "      <td>8.31</td>\n",
       "      <td>-0.04</td>\n",
       "      <td>-2.49</td>\n",
       "      <td>14.68</td>\n",
       "      <td>16.43</td>\n",
       "      <td>19.25</td>\n",
       "      <td>-1.938881</td>\n",
       "      <td>-19.542547</td>\n",
       "    </tr>\n",
       "    <tr>\n",
       "      <th>13</th>\n",
       "      <td>test</td>\n",
       "      <td>2018090600</td>\n",
       "      <td>3392</td>\n",
       "      <td>2534832</td>\n",
       "      <td>2555415</td>\n",
       "      <td>1</td>\n",
       "      <td>1</td>\n",
       "      <td>3</td>\n",
       "      <td>4</td>\n",
       "      <td>-3.512859</td>\n",
       "      <td>...</td>\n",
       "      <td>5.873921</td>\n",
       "      <td>4.300635</td>\n",
       "      <td>8.31</td>\n",
       "      <td>-0.04</td>\n",
       "      <td>-2.49</td>\n",
       "      <td>14.68</td>\n",
       "      <td>16.43</td>\n",
       "      <td>19.25</td>\n",
       "      <td>-1.938881</td>\n",
       "      <td>-19.542547</td>\n",
       "    </tr>\n",
       "    <tr>\n",
       "      <th>14</th>\n",
       "      <td>test</td>\n",
       "      <td>2018090600</td>\n",
       "      <td>3392</td>\n",
       "      <td>2534832</td>\n",
       "      <td>2560854</td>\n",
       "      <td>1</td>\n",
       "      <td>1</td>\n",
       "      <td>3</td>\n",
       "      <td>5</td>\n",
       "      <td>-3.512859</td>\n",
       "      <td>...</td>\n",
       "      <td>5.873921</td>\n",
       "      <td>4.300635</td>\n",
       "      <td>8.31</td>\n",
       "      <td>-0.04</td>\n",
       "      <td>-2.49</td>\n",
       "      <td>14.68</td>\n",
       "      <td>16.43</td>\n",
       "      <td>19.25</td>\n",
       "      <td>-1.938881</td>\n",
       "      <td>-19.542547</td>\n",
       "    </tr>\n",
       "    <tr>\n",
       "      <th>15</th>\n",
       "      <td>test</td>\n",
       "      <td>2018090600</td>\n",
       "      <td>3392</td>\n",
       "      <td>2552315</td>\n",
       "      <td>310</td>\n",
       "      <td>1</td>\n",
       "      <td>1</td>\n",
       "      <td>4</td>\n",
       "      <td>1</td>\n",
       "      <td>-2.983267</td>\n",
       "      <td>...</td>\n",
       "      <td>5.873921</td>\n",
       "      <td>4.300635</td>\n",
       "      <td>8.31</td>\n",
       "      <td>0.11</td>\n",
       "      <td>-1.51</td>\n",
       "      <td>14.68</td>\n",
       "      <td>16.43</td>\n",
       "      <td>19.25</td>\n",
       "      <td>-1.078352</td>\n",
       "      <td>-20.518867</td>\n",
       "    </tr>\n",
       "    <tr>\n",
       "      <th>16</th>\n",
       "      <td>test</td>\n",
       "      <td>2018090600</td>\n",
       "      <td>3392</td>\n",
       "      <td>2552315</td>\n",
       "      <td>2533040</td>\n",
       "      <td>1</td>\n",
       "      <td>1</td>\n",
       "      <td>4</td>\n",
       "      <td>2</td>\n",
       "      <td>-2.983267</td>\n",
       "      <td>...</td>\n",
       "      <td>5.873921</td>\n",
       "      <td>4.300635</td>\n",
       "      <td>8.31</td>\n",
       "      <td>0.11</td>\n",
       "      <td>-1.51</td>\n",
       "      <td>14.68</td>\n",
       "      <td>16.43</td>\n",
       "      <td>19.25</td>\n",
       "      <td>-1.078352</td>\n",
       "      <td>-20.518867</td>\n",
       "    </tr>\n",
       "    <tr>\n",
       "      <th>17</th>\n",
       "      <td>test</td>\n",
       "      <td>2018090600</td>\n",
       "      <td>3392</td>\n",
       "      <td>2552315</td>\n",
       "      <td>2543583</td>\n",
       "      <td>1</td>\n",
       "      <td>1</td>\n",
       "      <td>4</td>\n",
       "      <td>3</td>\n",
       "      <td>-2.983267</td>\n",
       "      <td>...</td>\n",
       "      <td>5.873921</td>\n",
       "      <td>4.300635</td>\n",
       "      <td>8.31</td>\n",
       "      <td>0.11</td>\n",
       "      <td>-1.51</td>\n",
       "      <td>14.68</td>\n",
       "      <td>16.43</td>\n",
       "      <td>19.25</td>\n",
       "      <td>-1.078352</td>\n",
       "      <td>-20.518867</td>\n",
       "    </tr>\n",
       "    <tr>\n",
       "      <th>18</th>\n",
       "      <td>test</td>\n",
       "      <td>2018090600</td>\n",
       "      <td>3392</td>\n",
       "      <td>2552315</td>\n",
       "      <td>2555415</td>\n",
       "      <td>1</td>\n",
       "      <td>1</td>\n",
       "      <td>4</td>\n",
       "      <td>4</td>\n",
       "      <td>-2.983267</td>\n",
       "      <td>...</td>\n",
       "      <td>5.873921</td>\n",
       "      <td>4.300635</td>\n",
       "      <td>8.31</td>\n",
       "      <td>0.11</td>\n",
       "      <td>-1.51</td>\n",
       "      <td>14.68</td>\n",
       "      <td>16.43</td>\n",
       "      <td>19.25</td>\n",
       "      <td>-1.078352</td>\n",
       "      <td>-20.518867</td>\n",
       "    </tr>\n",
       "    <tr>\n",
       "      <th>19</th>\n",
       "      <td>test</td>\n",
       "      <td>2018090600</td>\n",
       "      <td>3392</td>\n",
       "      <td>2552315</td>\n",
       "      <td>2560854</td>\n",
       "      <td>1</td>\n",
       "      <td>1</td>\n",
       "      <td>4</td>\n",
       "      <td>5</td>\n",
       "      <td>-2.983267</td>\n",
       "      <td>...</td>\n",
       "      <td>5.873921</td>\n",
       "      <td>4.300635</td>\n",
       "      <td>8.31</td>\n",
       "      <td>0.11</td>\n",
       "      <td>-1.51</td>\n",
       "      <td>14.68</td>\n",
       "      <td>16.43</td>\n",
       "      <td>19.25</td>\n",
       "      <td>-1.078352</td>\n",
       "      <td>-20.518867</td>\n",
       "    </tr>\n",
       "  </tbody>\n",
       "</table>\n",
       "<p>20 rows × 29 columns</p>\n",
       "</div>"
      ],
      "text/plain": [
       "   group      gameId  playId  defense_nflId  offense_nflId  playId3  playId2  \\\n",
       "0   test  2018090600    3392          79848            310        1        1   \n",
       "1   test  2018090600    3392          79848        2533040        1        1   \n",
       "2   test  2018090600    3392          79848        2543583        1        1   \n",
       "3   test  2018090600    3392          79848        2555415        1        1   \n",
       "4   test  2018090600    3392          79848        2560854        1        1   \n",
       "5   test  2018090600    3392        2495613            310        1        1   \n",
       "6   test  2018090600    3392        2495613        2533040        1        1   \n",
       "7   test  2018090600    3392        2495613        2543583        1        1   \n",
       "8   test  2018090600    3392        2495613        2555415        1        1   \n",
       "9   test  2018090600    3392        2495613        2560854        1        1   \n",
       "10  test  2018090600    3392        2534832            310        1        1   \n",
       "11  test  2018090600    3392        2534832        2533040        1        1   \n",
       "12  test  2018090600    3392        2534832        2543583        1        1   \n",
       "13  test  2018090600    3392        2534832        2555415        1        1   \n",
       "14  test  2018090600    3392        2534832        2560854        1        1   \n",
       "15  test  2018090600    3392        2552315            310        1        1   \n",
       "16  test  2018090600    3392        2552315        2533040        1        1   \n",
       "17  test  2018090600    3392        2552315        2543583        1        1   \n",
       "18  test  2018090600    3392        2552315        2555415        1        1   \n",
       "19  test  2018090600    3392        2552315        2560854        1        1   \n",
       "\n",
       "    defenseId  offenseId  defense_s_x  ...  receiver_s_x  receiver_s_y  \\\n",
       "0           1          1    -1.821280  ...      5.873921      4.300635   \n",
       "1           1          2    -1.821280  ...      5.873921      4.300635   \n",
       "2           1          3    -1.821280  ...      5.873921      4.300635   \n",
       "3           1          4    -1.821280  ...      5.873921      4.300635   \n",
       "4           1          5    -1.821280  ...      5.873921      4.300635   \n",
       "5           2          1    -1.863472  ...      5.873921      4.300635   \n",
       "6           2          2    -1.863472  ...      5.873921      4.300635   \n",
       "7           2          3    -1.863472  ...      5.873921      4.300635   \n",
       "8           2          4    -1.863472  ...      5.873921      4.300635   \n",
       "9           2          5    -1.863472  ...      5.873921      4.300635   \n",
       "10          3          1    -3.512859  ...      5.873921      4.300635   \n",
       "11          3          2    -3.512859  ...      5.873921      4.300635   \n",
       "12          3          3    -3.512859  ...      5.873921      4.300635   \n",
       "13          3          4    -3.512859  ...      5.873921      4.300635   \n",
       "14          3          5    -3.512859  ...      5.873921      4.300635   \n",
       "15          4          1    -2.983267  ...      5.873921      4.300635   \n",
       "16          4          2    -2.983267  ...      5.873921      4.300635   \n",
       "17          4          3    -2.983267  ...      5.873921      4.300635   \n",
       "18          4          4    -2.983267  ...      5.873921      4.300635   \n",
       "19          4          5    -2.983267  ...      5.873921      4.300635   \n",
       "\n",
       "    receiver_distance_from_los  defense_football_x  defense_football_y  \\\n",
       "0                         8.31                0.22               -3.98   \n",
       "1                         8.31                0.22               -3.98   \n",
       "2                         8.31                0.22               -3.98   \n",
       "3                         8.31                0.22               -3.98   \n",
       "4                         8.31                0.22               -3.98   \n",
       "5                         8.31               15.03               -6.34   \n",
       "6                         8.31               15.03               -6.34   \n",
       "7                         8.31               15.03               -6.34   \n",
       "8                         8.31               15.03               -6.34   \n",
       "9                         8.31               15.03               -6.34   \n",
       "10                        8.31               -0.04               -2.49   \n",
       "11                        8.31               -0.04               -2.49   \n",
       "12                        8.31               -0.04               -2.49   \n",
       "13                        8.31               -0.04               -2.49   \n",
       "14                        8.31               -0.04               -2.49   \n",
       "15                        8.31                0.11               -1.51   \n",
       "16                        8.31                0.11               -1.51   \n",
       "17                        8.31                0.11               -1.51   \n",
       "18                        8.31                0.11               -1.51   \n",
       "19                        8.31                0.11               -1.51   \n",
       "\n",
       "    receiver_football_x  receiver_football_y  football_s  \\\n",
       "0                 14.68                16.43       19.25   \n",
       "1                 14.68                16.43       19.25   \n",
       "2                 14.68                16.43       19.25   \n",
       "3                 14.68                16.43       19.25   \n",
       "4                 14.68                16.43       19.25   \n",
       "5                 14.68                16.43       19.25   \n",
       "6                 14.68                16.43       19.25   \n",
       "7                 14.68                16.43       19.25   \n",
       "8                 14.68                16.43       19.25   \n",
       "9                 14.68                16.43       19.25   \n",
       "10                14.68                16.43       19.25   \n",
       "11                14.68                16.43       19.25   \n",
       "12                14.68                16.43       19.25   \n",
       "13                14.68                16.43       19.25   \n",
       "14                14.68                16.43       19.25   \n",
       "15                14.68                16.43       19.25   \n",
       "16                14.68                16.43       19.25   \n",
       "17                14.68                16.43       19.25   \n",
       "18                14.68                16.43       19.25   \n",
       "19                14.68                16.43       19.25   \n",
       "\n",
       "    receiver_football_defender_dist_diff  defender_receiver_football_dist_diff  \n",
       "0                              -2.980322                            -18.046793  \n",
       "1                              -2.980322                            -18.046793  \n",
       "2                              -2.980322                            -18.046793  \n",
       "3                              -2.980322                            -18.046793  \n",
       "4                              -2.980322                            -18.046793  \n",
       "5                              -0.739821                             -5.720404  \n",
       "6                              -0.739821                             -5.720404  \n",
       "7                              -0.739821                             -5.720404  \n",
       "8                              -0.739821                             -5.720404  \n",
       "9                              -0.739821                             -5.720404  \n",
       "10                             -1.938881                            -19.542547  \n",
       "11                             -1.938881                            -19.542547  \n",
       "12                             -1.938881                            -19.542547  \n",
       "13                             -1.938881                            -19.542547  \n",
       "14                             -1.938881                            -19.542547  \n",
       "15                             -1.078352                            -20.518867  \n",
       "16                             -1.078352                            -20.518867  \n",
       "17                             -1.078352                            -20.518867  \n",
       "18                             -1.078352                            -20.518867  \n",
       "19                             -1.078352                            -20.518867  \n",
       "\n",
       "[20 rows x 29 columns]"
      ]
     },
     "execution_count": 4,
     "metadata": {},
     "output_type": "execute_result"
    }
   ],
   "source": [
    "yac_data.head(20)"
   ]
  },
  {
   "cell_type": "code",
   "execution_count": 5,
   "metadata": {},
   "outputs": [
    {
     "data": {
      "text/plain": [
       "(43230, 29)"
      ]
     },
     "execution_count": 5,
     "metadata": {},
     "output_type": "execute_result"
    }
   ],
   "source": [
    "yac_data.shape"
   ]
  },
  {
   "cell_type": "code",
   "execution_count": 6,
   "metadata": {
    "collapsed": true
   },
   "outputs": [],
   "source": [
    "target_data = pd.read_csv(\"~/Desktop/CoverageNet/src/03_coverageNet/02_score_attempt/outputs/interception_training_target.csv\")"
   ]
  },
  {
   "cell_type": "code",
   "execution_count": 7,
   "metadata": {},
   "outputs": [
    {
     "data": {
      "text/html": [
       "<div>\n",
       "<style scoped>\n",
       "    .dataframe tbody tr th:only-of-type {\n",
       "        vertical-align: middle;\n",
       "    }\n",
       "\n",
       "    .dataframe tbody tr th {\n",
       "        vertical-align: top;\n",
       "    }\n",
       "\n",
       "    .dataframe thead th {\n",
       "        text-align: right;\n",
       "    }\n",
       "</style>\n",
       "<table border=\"1\" class=\"dataframe\">\n",
       "  <thead>\n",
       "    <tr style=\"text-align: right;\">\n",
       "      <th></th>\n",
       "      <th>group</th>\n",
       "      <th>gameId</th>\n",
       "      <th>playId</th>\n",
       "      <th>playId2</th>\n",
       "      <th>playId3</th>\n",
       "      <th>offensePlayResult</th>\n",
       "      <th>offensePlayResult_adj</th>\n",
       "    </tr>\n",
       "  </thead>\n",
       "  <tbody>\n",
       "    <tr>\n",
       "      <th>0</th>\n",
       "      <td>test</td>\n",
       "      <td>2018090600</td>\n",
       "      <td>3392</td>\n",
       "      <td>1</td>\n",
       "      <td>1</td>\n",
       "      <td>11</td>\n",
       "      <td>11</td>\n",
       "    </tr>\n",
       "    <tr>\n",
       "      <th>1</th>\n",
       "      <td>test</td>\n",
       "      <td>2018090600</td>\n",
       "      <td>3481</td>\n",
       "      <td>2</td>\n",
       "      <td>2</td>\n",
       "      <td>-2</td>\n",
       "      <td>-2</td>\n",
       "    </tr>\n",
       "    <tr>\n",
       "      <th>2</th>\n",
       "      <td>test</td>\n",
       "      <td>2018090905</td>\n",
       "      <td>1646</td>\n",
       "      <td>3</td>\n",
       "      <td>16</td>\n",
       "      <td>42</td>\n",
       "      <td>42</td>\n",
       "    </tr>\n",
       "    <tr>\n",
       "      <th>3</th>\n",
       "      <td>test</td>\n",
       "      <td>2018091000</td>\n",
       "      <td>2735</td>\n",
       "      <td>4</td>\n",
       "      <td>24</td>\n",
       "      <td>-7</td>\n",
       "      <td>-7</td>\n",
       "    </tr>\n",
       "    <tr>\n",
       "      <th>4</th>\n",
       "      <td>test</td>\n",
       "      <td>2018091300</td>\n",
       "      <td>3685</td>\n",
       "      <td>5</td>\n",
       "      <td>30</td>\n",
       "      <td>28</td>\n",
       "      <td>28</td>\n",
       "    </tr>\n",
       "    <tr>\n",
       "      <th>5</th>\n",
       "      <td>test</td>\n",
       "      <td>2018091604</td>\n",
       "      <td>608</td>\n",
       "      <td>6</td>\n",
       "      <td>37</td>\n",
       "      <td>-24</td>\n",
       "      <td>-24</td>\n",
       "    </tr>\n",
       "    <tr>\n",
       "      <th>6</th>\n",
       "      <td>test</td>\n",
       "      <td>2018091700</td>\n",
       "      <td>1147</td>\n",
       "      <td>7</td>\n",
       "      <td>47</td>\n",
       "      <td>38</td>\n",
       "      <td>38</td>\n",
       "    </tr>\n",
       "    <tr>\n",
       "      <th>7</th>\n",
       "      <td>test</td>\n",
       "      <td>2018091700</td>\n",
       "      <td>3637</td>\n",
       "      <td>8</td>\n",
       "      <td>49</td>\n",
       "      <td>-46</td>\n",
       "      <td>-46</td>\n",
       "    </tr>\n",
       "    <tr>\n",
       "      <th>8</th>\n",
       "      <td>test</td>\n",
       "      <td>2018092301</td>\n",
       "      <td>3690</td>\n",
       "      <td>9</td>\n",
       "      <td>52</td>\n",
       "      <td>-29</td>\n",
       "      <td>-29</td>\n",
       "    </tr>\n",
       "    <tr>\n",
       "      <th>9</th>\n",
       "      <td>test</td>\n",
       "      <td>2018092302</td>\n",
       "      <td>3475</td>\n",
       "      <td>10</td>\n",
       "      <td>55</td>\n",
       "      <td>43</td>\n",
       "      <td>43</td>\n",
       "    </tr>\n",
       "  </tbody>\n",
       "</table>\n",
       "</div>"
      ],
      "text/plain": [
       "  group      gameId  playId  playId2  playId3  offensePlayResult  \\\n",
       "0  test  2018090600    3392        1        1                 11   \n",
       "1  test  2018090600    3481        2        2                 -2   \n",
       "2  test  2018090905    1646        3       16                 42   \n",
       "3  test  2018091000    2735        4       24                 -7   \n",
       "4  test  2018091300    3685        5       30                 28   \n",
       "5  test  2018091604     608        6       37                -24   \n",
       "6  test  2018091700    1147        7       47                 38   \n",
       "7  test  2018091700    3637        8       49                -46   \n",
       "8  test  2018092301    3690        9       52                -29   \n",
       "9  test  2018092302    3475       10       55                 43   \n",
       "\n",
       "   offensePlayResult_adj  \n",
       "0                     11  \n",
       "1                     -2  \n",
       "2                     42  \n",
       "3                     -7  \n",
       "4                     28  \n",
       "5                    -24  \n",
       "6                     38  \n",
       "7                    -46  \n",
       "8                    -29  \n",
       "9                     43  "
      ]
     },
     "execution_count": 7,
     "metadata": {},
     "output_type": "execute_result"
    }
   ],
   "source": [
    "target_data.head(10)"
   ]
  },
  {
   "cell_type": "markdown",
   "metadata": {},
   "source": [
    "# Formatting the Data"
   ]
  },
  {
   "cell_type": "code",
   "execution_count": 8,
   "metadata": {},
   "outputs": [
    {
     "data": {
      "text/plain": [
       "Index(['group', 'gameId', 'playId', 'defense_nflId', 'offense_nflId',\n",
       "       'playId3', 'playId2', 'defenseId', 'offenseId', 'defense_s_x',\n",
       "       'defense_s_y', 'defense_receiver_x', 'defense_receiver_y',\n",
       "       'defense_receiver_s_x', 'defense_receiver_s_y', 'defense_offense_x',\n",
       "       'defense_offense_y', 'defense_offense_s_x', 'defense_offense_s_y',\n",
       "       'receiver_s_x', 'receiver_s_y', 'receiver_distance_from_los',\n",
       "       'defense_football_x', 'defense_football_y', 'receiver_football_x',\n",
       "       'receiver_football_y', 'football_s',\n",
       "       'receiver_football_defender_dist_diff',\n",
       "       'defender_receiver_football_dist_diff'],\n",
       "      dtype='object')"
      ]
     },
     "execution_count": 8,
     "metadata": {},
     "output_type": "execute_result"
    }
   ],
   "source": [
    "yac_data.columns"
   ]
  },
  {
   "cell_type": "code",
   "execution_count": 9,
   "metadata": {
    "collapsed": true
   },
   "outputs": [],
   "source": [
    "def create_x(data, nfeatures):\n",
    "    # creating a numpy tensor to hold the play data\n",
    "    np_mat = np.array(data.drop(['group', 'gameId', 'playId', 'playId3','defense_nflId', 'offense_nflId'],\n",
    "                               axis = 1))\n",
    "    \n",
    "    # setting parameters\n",
    "    ngames = np.max(np.array(data['playId2']))\n",
    "    nDef = 11\n",
    "    nOff = 10\n",
    "    \n",
    "    # initializing the tensor\n",
    "    np_tensor = np.zeros((ngames, nDef, nOff, nfeatures))\n",
    "    \n",
    "    for row in range(len(np_mat)):\n",
    "        np_tensor[int(np_mat[row][0]) - 1][int(np_mat[row][1]) - 1][int(np_mat[row][2]) - 1] = np_mat[row][3:]\n",
    "    \n",
    "    np_tensor = np_tensor.astype('float32')\n",
    "    \n",
    "    return(np_tensor)"
   ]
  },
  {
   "cell_type": "code",
   "execution_count": 10,
   "metadata": {
    "collapsed": true
   },
   "outputs": [],
   "source": [
    "X_train = create_x(data = yac_data[yac_data[\"group\"] == \"training\"],\n",
    "                  nfeatures = 20)"
   ]
  },
  {
   "cell_type": "code",
   "execution_count": 11,
   "metadata": {},
   "outputs": [
    {
     "data": {
      "text/plain": [
       "(550, 11, 10, 20)"
      ]
     },
     "execution_count": 11,
     "metadata": {},
     "output_type": "execute_result"
    }
   ],
   "source": [
    "X_train.shape"
   ]
  },
  {
   "cell_type": "code",
   "execution_count": 12,
   "metadata": {},
   "outputs": [
    {
     "data": {
      "text/plain": [
       "array([ 0.05744928, -3.0194535 ,  1.57      , -0.62      , -3.5260618 ,\n",
       "        0.6514248 ,  9.7       , 11.24      , -1.5077093 , -1.2799482 ,\n",
       "        3.583511  , -3.6708784 ,  5.51      , 14.19      , 12.2       ,\n",
       "       12.62      , 12.82      ,  0.5       , 16.301365  ,  0.7241748 ],\n",
       "      dtype=float32)"
      ]
     },
     "execution_count": 12,
     "metadata": {},
     "output_type": "execute_result"
    }
   ],
   "source": [
    "X_train[0][0][0]"
   ]
  },
  {
   "cell_type": "code",
   "execution_count": 13,
   "metadata": {},
   "outputs": [],
   "source": [
    "X_validation = create_x(data = yac_data[(yac_data[\"group\"] == \"validation\")&(yac_data[\"gameId\"] < 20000000000)],\n",
    "                  nfeatures = 20)"
   ]
  },
  {
   "cell_type": "code",
   "execution_count": 14,
   "metadata": {},
   "outputs": [
    {
     "data": {
      "text/plain": [
       "(59, 11, 10, 20)"
      ]
     },
     "execution_count": 14,
     "metadata": {},
     "output_type": "execute_result"
    }
   ],
   "source": [
    "X_validation.shape"
   ]
  },
  {
   "cell_type": "code",
   "execution_count": 15,
   "metadata": {},
   "outputs": [
    {
     "data": {
      "text/plain": [
       "array([-0.08405993, -5.069303  ,  2.39      ,  1.72      ,  0.42095637,\n",
       "       -0.21550474, 19.68      , -4.3       ,  0.91263175, -1.2264519 ,\n",
       "       -0.50501627, -4.8537984 ,  6.91      , 19.6       , -4.25      ,\n",
       "       17.21      , -5.97      ,  5.45      , 15.271493  ,  1.8394212 ],\n",
       "      dtype=float32)"
      ]
     },
     "execution_count": 15,
     "metadata": {},
     "output_type": "execute_result"
    }
   ],
   "source": [
    "X_validation[0][0][0]"
   ]
  },
  {
   "cell_type": "code",
   "execution_count": 16,
   "metadata": {},
   "outputs": [],
   "source": [
    "X_test = create_x(data = yac_data[(yac_data[\"group\"] == \"test\")&(yac_data[\"gameId\"] < 20000000000)],\n",
    "                  nfeatures = 20)"
   ]
  },
  {
   "cell_type": "code",
   "execution_count": 17,
   "metadata": {},
   "outputs": [
    {
     "data": {
      "text/plain": [
       "(59, 11, 10, 20)"
      ]
     },
     "execution_count": 17,
     "metadata": {},
     "output_type": "execute_result"
    }
   ],
   "source": [
    "X_test.shape"
   ]
  },
  {
   "cell_type": "code",
   "execution_count": 18,
   "metadata": {},
   "outputs": [
    {
     "data": {
      "text/plain": [
       "array([ -1.8212798 ,   0.2618015 , -14.46      , -20.41      ,\n",
       "        -7.6952004 ,  -4.038833  ,   2.31      ,  -2.82      ,\n",
       "        -1.2171696 ,  -0.44527063,   5.8739204 ,   4.3006344 ,\n",
       "         8.31      ,   0.22      ,  -3.98      ,  14.68      ,\n",
       "        16.43      ,  19.25      ,  -2.980322  , -18.046793  ],\n",
       "      dtype=float32)"
      ]
     },
     "execution_count": 18,
     "metadata": {},
     "output_type": "execute_result"
    }
   ],
   "source": [
    "X_test[0][0][0]"
   ]
  },
  {
   "cell_type": "code",
   "execution_count": 19,
   "metadata": {
    "collapsed": true
   },
   "outputs": [],
   "source": [
    "def create_y(data):\n",
    "    targets = np.array(data[\"offensePlayResult_adj\"])\n",
    "    \n",
    "    y = np.zeros((targets.shape[0], 199))\n",
    "    for idx, target in enumerate(list(targets)):\n",
    "        y[idx][99 + target] = 1\n",
    "    \n",
    "    return(y)"
   ]
  },
  {
   "cell_type": "code",
   "execution_count": 20,
   "metadata": {
    "collapsed": true
   },
   "outputs": [],
   "source": [
    "y_train = create_y(data = target_data[(target_data[\"group\"] == \"training\")])"
   ]
  },
  {
   "cell_type": "code",
   "execution_count": 21,
   "metadata": {},
   "outputs": [
    {
     "data": {
      "text/plain": [
       "(550, 199)"
      ]
     },
     "execution_count": 21,
     "metadata": {},
     "output_type": "execute_result"
    }
   ],
   "source": [
    "y_train.shape"
   ]
  },
  {
   "cell_type": "code",
   "execution_count": 22,
   "metadata": {},
   "outputs": [
    {
     "data": {
      "text/plain": [
       "array([0., 0., 0., 0., 0., 0., 0., 0., 0., 0., 0., 0., 0., 0., 0., 0., 0.,\n",
       "       0., 0., 0., 0., 0., 0., 0., 0., 0., 0., 0., 0., 0., 0., 0., 0., 0.,\n",
       "       0., 0., 0., 0., 0., 0., 0., 0., 0., 0., 0., 0., 0., 0., 0., 0., 0.,\n",
       "       0., 0., 0., 0., 0., 0., 0., 0., 0., 0., 0., 0., 0., 0., 0., 0., 0.,\n",
       "       0., 0., 0., 0., 0., 0., 1., 0., 0., 0., 0., 0., 0., 0., 0., 0., 0.,\n",
       "       0., 0., 0., 0., 0., 0., 0., 0., 0., 0., 0., 0., 0., 0., 0., 0., 0.,\n",
       "       0., 0., 0., 0., 0., 0., 0., 0., 0., 0., 0., 0., 0., 0., 0., 0., 0.,\n",
       "       0., 0., 0., 0., 0., 0., 0., 0., 0., 0., 0., 0., 0., 0., 0., 0., 0.,\n",
       "       0., 0., 0., 0., 0., 0., 0., 0., 0., 0., 0., 0., 0., 0., 0., 0., 0.,\n",
       "       0., 0., 0., 0., 0., 0., 0., 0., 0., 0., 0., 0., 0., 0., 0., 0., 0.,\n",
       "       0., 0., 0., 0., 0., 0., 0., 0., 0., 0., 0., 0., 0., 0., 0., 0., 0.,\n",
       "       0., 0., 0., 0., 0., 0., 0., 0., 0., 0., 0., 0.])"
      ]
     },
     "execution_count": 22,
     "metadata": {},
     "output_type": "execute_result"
    }
   ],
   "source": [
    "y_train[0]"
   ]
  },
  {
   "cell_type": "code",
   "execution_count": 23,
   "metadata": {
    "collapsed": true
   },
   "outputs": [],
   "source": [
    "y_validation = create_y(data = target_data[(target_data[\"group\"] == \"validation\")&(target_data[\"gameId\"] < 20000000000)])"
   ]
  },
  {
   "cell_type": "code",
   "execution_count": 24,
   "metadata": {},
   "outputs": [
    {
     "data": {
      "text/plain": [
       "(59, 199)"
      ]
     },
     "execution_count": 24,
     "metadata": {},
     "output_type": "execute_result"
    }
   ],
   "source": [
    "y_validation.shape"
   ]
  },
  {
   "cell_type": "code",
   "execution_count": 25,
   "metadata": {
    "collapsed": true
   },
   "outputs": [],
   "source": [
    "y_test = create_y(data = target_data[(target_data[\"group\"] == \"test\") & (target_data[\"gameId\"] < 20000000000)])"
   ]
  },
  {
   "cell_type": "code",
   "execution_count": 26,
   "metadata": {},
   "outputs": [
    {
     "data": {
      "text/plain": [
       "(59, 199)"
      ]
     },
     "execution_count": 26,
     "metadata": {},
     "output_type": "execute_result"
    }
   ],
   "source": [
    "y_test.shape"
   ]
  },
  {
   "cell_type": "code",
   "execution_count": 27,
   "metadata": {},
   "outputs": [
    {
     "data": {
      "text/plain": [
       "array([0., 0., 0., 0., 0., 0., 0., 0., 0., 0., 0., 0., 0., 0., 0., 0., 0.,\n",
       "       0., 0., 0., 0., 0., 0., 0., 0., 0., 0., 0., 0., 0., 0., 0., 0., 0.,\n",
       "       0., 0., 0., 0., 0., 0., 0., 0., 0., 0., 0., 0., 0., 0., 0., 0., 0.,\n",
       "       0., 0., 0., 0., 0., 0., 0., 0., 0., 0., 0., 0., 0., 0., 0., 0., 0.,\n",
       "       0., 0., 0., 0., 0., 0., 0., 0., 0., 0., 0., 0., 0., 0., 0., 0., 0.,\n",
       "       0., 0., 0., 0., 0., 0., 0., 0., 0., 0., 0., 0., 0., 0., 0., 0., 0.,\n",
       "       0., 0., 0., 0., 0., 0., 0., 0., 1., 0., 0., 0., 0., 0., 0., 0., 0.,\n",
       "       0., 0., 0., 0., 0., 0., 0., 0., 0., 0., 0., 0., 0., 0., 0., 0., 0.,\n",
       "       0., 0., 0., 0., 0., 0., 0., 0., 0., 0., 0., 0., 0., 0., 0., 0., 0.,\n",
       "       0., 0., 0., 0., 0., 0., 0., 0., 0., 0., 0., 0., 0., 0., 0., 0., 0.,\n",
       "       0., 0., 0., 0., 0., 0., 0., 0., 0., 0., 0., 0., 0., 0., 0., 0., 0.,\n",
       "       0., 0., 0., 0., 0., 0., 0., 0., 0., 0., 0., 0.])"
      ]
     },
     "execution_count": 27,
     "metadata": {},
     "output_type": "execute_result"
    }
   ],
   "source": [
    "y_test[0]"
   ]
  },
  {
   "cell_type": "markdown",
   "metadata": {},
   "source": [
    "# Training a Convolutional Neural Network Model"
   ]
  },
  {
   "cell_type": "code",
   "execution_count": 28,
   "metadata": {
    "collapsed": true
   },
   "outputs": [],
   "source": [
    "model = tf.keras.Sequential()"
   ]
  },
  {
   "cell_type": "code",
   "execution_count": 29,
   "metadata": {
    "collapsed": true
   },
   "outputs": [],
   "source": [
    "# first convolutional neural network\n",
    "model.add(layers.Conv2D(50, \n",
    "                        kernel_size=(1,1), \n",
    "                        strides=(1,1), \n",
    "                        input_shape = (11,10,20)))\n",
    "model.add(layers.Activation('relu'))\n",
    "model.add(layers.Conv2D(100, \n",
    "                        kernel_size=(1,1), \n",
    "                        strides=(1,1)))\n",
    "model.add(layers.Activation('relu'))\n",
    "model.add(layers.Conv2D(50, \n",
    "                        kernel_size=(1,1), \n",
    "                        strides=(1,1)))\n",
    "model.add(layers.Activation('relu'))\n",
    "\n",
    "import tensorflow.keras.backend as K\n",
    "\n",
    "def channelPool(x):\n",
    "    return .5*K.max(x,axis=2) + .5*K.mean(x,axis=2)\n",
    "\n",
    "model.add(layers.Lambda(channelPool))"
   ]
  },
  {
   "cell_type": "code",
   "execution_count": 30,
   "metadata": {
    "collapsed": true
   },
   "outputs": [],
   "source": [
    "# second convolutional neural network\n",
    "model.add(layers.BatchNormalization())\n",
    "model.add(layers.Conv1D(50, \n",
    "                        kernel_size=1, \n",
    "                        strides=1))\n",
    "model.add(layers.Activation('relu'))\n",
    "model.add(layers.BatchNormalization())\n",
    "model.add(layers.Conv1D(100, \n",
    "                        kernel_size=1, \n",
    "                        strides=1))\n",
    "model.add(layers.Activation('relu'))\n",
    "model.add(layers.BatchNormalization())\n",
    "model.add(layers.Dropout(0.3))\n",
    "model.add(layers.Conv1D(50, \n",
    "                        kernel_size=1, \n",
    "                        strides=1))\n",
    "model.add(layers.Activation('relu'))\n",
    "model.add(layers.BatchNormalization())\n",
    "# model.add(layers.AvgPool2D(pool_size=(11, 1)))\n",
    "\n",
    "def channelPool(x):\n",
    "    return .5*K.max(x,axis=1) + .5*K.mean(x,axis=1)\n",
    "\n",
    "model.add(layers.Lambda(channelPool))"
   ]
  },
  {
   "cell_type": "code",
   "execution_count": 31,
   "metadata": {
    "collapsed": true
   },
   "outputs": [],
   "source": [
    "model.add(layers.Flatten())\n",
    "model.add(layers.Dense(96))\n",
    "model.add(layers.Activation('relu'))\n",
    "model.add(layers.BatchNormalization())\n",
    "model.add(layers.Dense(256))\n",
    "model.add(layers.Activation('relu'))\n",
    "model.add(layers.BatchNormalization())\n",
    "model.add(layers.Dropout(0.3))\n",
    "model.add(layers.Dense(199))\n",
    "model.add(layers.Activation('softmax'))"
   ]
  },
  {
   "cell_type": "code",
   "execution_count": 32,
   "metadata": {
    "scrolled": true
   },
   "outputs": [
    {
     "name": "stdout",
     "output_type": "stream",
     "text": [
      "Model: \"sequential\"\n",
      "_________________________________________________________________\n",
      "Layer (type)                 Output Shape              Param #   \n",
      "=================================================================\n",
      "conv2d (Conv2D)              (None, 11, 10, 50)        1050      \n",
      "_________________________________________________________________\n",
      "activation (Activation)      (None, 11, 10, 50)        0         \n",
      "_________________________________________________________________\n",
      "conv2d_1 (Conv2D)            (None, 11, 10, 100)       5100      \n",
      "_________________________________________________________________\n",
      "activation_1 (Activation)    (None, 11, 10, 100)       0         \n",
      "_________________________________________________________________\n",
      "conv2d_2 (Conv2D)            (None, 11, 10, 50)        5050      \n",
      "_________________________________________________________________\n",
      "activation_2 (Activation)    (None, 11, 10, 50)        0         \n",
      "_________________________________________________________________\n",
      "lambda (Lambda)              (None, 11, 50)            0         \n",
      "_________________________________________________________________\n",
      "batch_normalization (BatchNo (None, 11, 50)            200       \n",
      "_________________________________________________________________\n",
      "conv1d (Conv1D)              (None, 11, 50)            2550      \n",
      "_________________________________________________________________\n",
      "activation_3 (Activation)    (None, 11, 50)            0         \n",
      "_________________________________________________________________\n",
      "batch_normalization_1 (Batch (None, 11, 50)            200       \n",
      "_________________________________________________________________\n",
      "conv1d_1 (Conv1D)            (None, 11, 100)           5100      \n",
      "_________________________________________________________________\n",
      "activation_4 (Activation)    (None, 11, 100)           0         \n",
      "_________________________________________________________________\n",
      "batch_normalization_2 (Batch (None, 11, 100)           400       \n",
      "_________________________________________________________________\n",
      "dropout (Dropout)            (None, 11, 100)           0         \n",
      "_________________________________________________________________\n",
      "conv1d_2 (Conv1D)            (None, 11, 50)            5050      \n",
      "_________________________________________________________________\n",
      "activation_5 (Activation)    (None, 11, 50)            0         \n",
      "_________________________________________________________________\n",
      "batch_normalization_3 (Batch (None, 11, 50)            200       \n",
      "_________________________________________________________________\n",
      "lambda_1 (Lambda)            (None, 50)                0         \n",
      "_________________________________________________________________\n",
      "flatten (Flatten)            (None, 50)                0         \n",
      "_________________________________________________________________\n",
      "dense (Dense)                (None, 96)                4896      \n",
      "_________________________________________________________________\n",
      "activation_6 (Activation)    (None, 96)                0         \n",
      "_________________________________________________________________\n",
      "batch_normalization_4 (Batch (None, 96)                384       \n",
      "_________________________________________________________________\n",
      "dense_1 (Dense)              (None, 256)               24832     \n",
      "_________________________________________________________________\n",
      "activation_7 (Activation)    (None, 256)               0         \n",
      "_________________________________________________________________\n",
      "batch_normalization_5 (Batch (None, 256)               1024      \n",
      "_________________________________________________________________\n",
      "dropout_1 (Dropout)          (None, 256)               0         \n",
      "_________________________________________________________________\n",
      "dense_2 (Dense)              (None, 199)               51143     \n",
      "_________________________________________________________________\n",
      "activation_8 (Activation)    (None, 199)               0         \n",
      "=================================================================\n",
      "Total params: 107,179\n",
      "Trainable params: 105,975\n",
      "Non-trainable params: 1,204\n",
      "_________________________________________________________________\n"
     ]
    }
   ],
   "source": [
    "model.summary()"
   ]
  },
  {
   "cell_type": "code",
   "execution_count": 33,
   "metadata": {
    "collapsed": true
   },
   "outputs": [],
   "source": [
    "import tensorflow.keras.backend as K\n",
    "def crps(y_true, y_pred):\n",
    "    y_pred =  K.cumsum(y_pred, axis=1)\n",
    "    ym =  K.cast(K.reshape(K.argmax(y_true, axis=1) - 99, (-1, 1)), \n",
    "        dtype='int32')\n",
    "    n = K.arange(-99, 100)\n",
    "    step = K.cast(K.greater_equal(n - ym, 0), dtype='float32')\n",
    "    return K.mean(K.sum(K.square(y_pred - step), axis=1)) / 199"
   ]
  },
  {
   "cell_type": "code",
   "execution_count": 34,
   "metadata": {
    "collapsed": true
   },
   "outputs": [],
   "source": [
    "from tensorflow.keras.callbacks import EarlyStopping,  ModelCheckpoint"
   ]
  },
  {
   "cell_type": "code",
   "execution_count": 35,
   "metadata": {
    "collapsed": true
   },
   "outputs": [],
   "source": [
    "from tensorflow.keras.optimizers import Adam\n",
    "model.compile(loss=[crps], metrics=[crps], optimizer='adam')"
   ]
  },
  {
   "cell_type": "code",
   "execution_count": 36,
   "metadata": {
    "scrolled": true
   },
   "outputs": [
    {
     "name": "stdout",
     "output_type": "stream",
     "text": [
      "Epoch 1/25\n",
      "18/18 [==============================] - 1s 64ms/step - loss: 0.0884 - crps: 0.0880 - val_loss: 0.0926 - val_crps: 0.0928\n",
      "Epoch 2/25\n",
      "18/18 [==============================] - 0s 26ms/step - loss: 0.0719 - crps: 0.0730 - val_loss: 0.0893 - val_crps: 0.0894\n",
      "Epoch 3/25\n",
      "18/18 [==============================] - 0s 26ms/step - loss: 0.0617 - crps: 0.0610 - val_loss: 0.0843 - val_crps: 0.0844\n",
      "Epoch 4/25\n",
      "18/18 [==============================] - 0s 25ms/step - loss: 0.0565 - crps: 0.0558 - val_loss: 0.0780 - val_crps: 0.0781\n",
      "Epoch 5/25\n",
      "18/18 [==============================] - 0s 25ms/step - loss: 0.0553 - crps: 0.0552 - val_loss: 0.0720 - val_crps: 0.0721\n",
      "Epoch 6/25\n",
      "18/18 [==============================] - 0s 26ms/step - loss: 0.0527 - crps: 0.0529 - val_loss: 0.0665 - val_crps: 0.0666\n",
      "Epoch 7/25\n",
      "18/18 [==============================] - 0s 26ms/step - loss: 0.0529 - crps: 0.0528 - val_loss: 0.0627 - val_crps: 0.0628\n",
      "Epoch 8/25\n",
      "18/18 [==============================] - 0s 28ms/step - loss: 0.0512 - crps: 0.0509 - val_loss: 0.0577 - val_crps: 0.0579\n",
      "Epoch 9/25\n",
      "18/18 [==============================] - 0s 24ms/step - loss: 0.0502 - crps: 0.0506 - val_loss: 0.0545 - val_crps: 0.0547\n",
      "Epoch 10/25\n",
      "18/18 [==============================] - 0s 23ms/step - loss: 0.0501 - crps: 0.0524 - val_loss: 0.0513 - val_crps: 0.0516\n",
      "Epoch 11/25\n",
      "18/18 [==============================] - 0s 28ms/step - loss: 0.0495 - crps: 0.0497 - val_loss: 0.0472 - val_crps: 0.0474 0s - loss: 0.0487 - cr\n",
      "Epoch 12/25\n",
      "18/18 [==============================] - 0s 25ms/step - loss: 0.0494 - crps: 0.0484 - val_loss: 0.0480 - val_crps: 0.0482\n",
      "Epoch 13/25\n",
      "18/18 [==============================] - ETA: 0s - loss: 0.0495 - crps: 0.04 - 1s 28ms/step - loss: 0.0492 - crps: 0.0496 - val_loss: 0.0464 - val_crps: 0.0466\n",
      "Epoch 14/25\n",
      "18/18 [==============================] - 0s 27ms/step - loss: 0.0477 - crps: 0.0498 - val_loss: 0.0472 - val_crps: 0.0475\n",
      "Epoch 15/25\n",
      "18/18 [==============================] - 1s 29ms/step - loss: 0.0481 - crps: 0.0483 - val_loss: 0.0465 - val_crps: 0.0468\n",
      "Epoch 16/25\n",
      "18/18 [==============================] - 0s 25ms/step - loss: 0.0477 - crps: 0.0475 - val_loss: 0.0468 - val_crps: 0.0471\n",
      "Epoch 17/25\n",
      "18/18 [==============================] - 0s 25ms/step - loss: 0.0452 - crps: 0.0451 - val_loss: 0.0473 - val_crps: 0.0474\n",
      "Epoch 18/25\n",
      "18/18 [==============================] - 0s 24ms/step - loss: 0.0452 - crps: 0.0452 - val_loss: 0.0459 - val_crps: 0.0462\n",
      "Epoch 19/25\n",
      "18/18 [==============================] - 1s 31ms/step - loss: 0.0448 - crps: 0.0444 - val_loss: 0.0462 - val_crps: 0.0466\n",
      "Epoch 20/25\n",
      "18/18 [==============================] - 1s 28ms/step - loss: 0.0439 - crps: 0.0454 - val_loss: 0.0438 - val_crps: 0.0442\n",
      "Epoch 21/25\n",
      "18/18 [==============================] - 1s 29ms/step - loss: 0.0446 - crps: 0.0446 - val_loss: 0.0473 - val_crps: 0.0480\n",
      "Epoch 22/25\n",
      "18/18 [==============================] - 1s 30ms/step - loss: 0.0445 - crps: 0.0467 - val_loss: 0.0446 - val_crps: 0.0447\n",
      "Epoch 23/25\n",
      "18/18 [==============================] - 1s 28ms/step - loss: 0.0440 - crps: 0.0434 - val_loss: 0.0496 - val_crps: 0.0498\n",
      "Epoch 24/25\n",
      "18/18 [==============================] - 0s 27ms/step - loss: 0.0431 - crps: 0.0433 - val_loss: 0.0511 - val_crps: 0.0513\n",
      "Epoch 25/25\n",
      "18/18 [==============================] - 0s 26ms/step - loss: 0.0423 - crps: 0.0426 - val_loss: 0.0490 - val_crps: 0.0493\n"
     ]
    }
   ],
   "source": [
    "history = model.fit(X_train, y_train,\n",
    "                   validation_data = (X_validation, y_validation),\n",
    "                   # batch_size = 64,\n",
    "                   epochs = 25,\n",
    "                   verbose = 1)"
   ]
  },
  {
   "cell_type": "code",
   "execution_count": 37,
   "metadata": {},
   "outputs": [
    {
     "name": "stdout",
     "output_type": "stream",
     "text": [
      "2/2 [==============================] - 0s 7ms/step - loss: 0.0676 - crps: 0.0675\n"
     ]
    },
    {
     "data": {
      "text/plain": [
       "[0.06763791292905807, 0.06750909984111786]"
      ]
     },
     "execution_count": 37,
     "metadata": {},
     "output_type": "execute_result"
    }
   ],
   "source": [
    "model.evaluate(X_test, y_test)"
   ]
  },
  {
   "cell_type": "markdown",
   "metadata": {},
   "source": [
    "# Examining Results\n",
    "\n",
    "The plays analyzed are part of the holdout set, so the CNN model did not ever see the data in training, or indirectly through optimizing the crps of the cross-validation set."
   ]
  },
  {
   "cell_type": "markdown",
   "metadata": {},
   "source": [
    "### Play that Went For Negative Yardage"
   ]
  },
  {
   "attachments": {
    "7674be99-5e2f-4ee0-b307-52281c0858ab.png": {
     "image/png": "[encoded data removed]"
    }
   },
   "cell_type": "markdown",
   "metadata": {},
   "source": [
    "![7674be99-5e2f-4ee0-b307-52281c0858ab.png](attachment:7674be99-5e2f-4ee0-b307-52281c0858ab.png)"
   ]
  },
  {
   "cell_type": "code",
   "execution_count": 38,
   "metadata": {},
   "outputs": [
    {
     "data": {
      "text/plain": [
       "5"
      ]
     },
     "execution_count": 38,
     "metadata": {},
     "output_type": "execute_result"
    }
   ],
   "source": [
    "yac_data[(yac_data[\"gameId\"] == 2018091300) & (yac_data[\"playId\"] == 3685)][\"playId2\"].iloc[0]"
   ]
  },
  {
   "cell_type": "code",
   "execution_count": 39,
   "metadata": {},
   "outputs": [
    {
     "name": "stdout",
     "output_type": "stream",
     "text": [
      "The actual result of the play was a 28 gain.\n"
     ]
    }
   ],
   "source": [
    "yards = target_data[(target_data[\"gameId\"] == 2018091300) & (target_data[\"playId\"] == 3685)][\"offensePlayResult\"].iloc[0]\n",
    "print(\"The actual result of the play was a \" + str(yards) + \" gain.\")"
   ]
  },
  {
   "cell_type": "code",
   "execution_count": 40,
   "metadata": {},
   "outputs": [
    {
     "data": {
      "text/plain": [
       "28"
      ]
     },
     "execution_count": 40,
     "metadata": {},
     "output_type": "execute_result"
    }
   ],
   "source": [
    "np.argmax(y_test[5-1]) - 99"
   ]
  },
  {
   "cell_type": "code",
   "execution_count": 42,
   "metadata": {},
   "outputs": [
    {
     "data": {
      "image/png": "[encoded data removed]",
      "text/plain": [
       "<matplotlib.figure.Figure at 0x138a19438>"
      ]
     },
     "metadata": {},
     "output_type": "display_data"
    }
   ],
   "source": [
    "plt.plot(np.arange(-99,100), model.predict(X_test)[4], 'b-')\n",
    "plt.xlim(0,50)\n",
    "plt.ylim(0,1)\n",
    "plt.show()"
   ]
  },
  {
   "cell_type": "code",
   "execution_count": 43,
   "metadata": {},
   "outputs": [
    {
     "data": {
      "text/plain": [
       "32.48871237975172"
      ]
     },
     "execution_count": 43,
     "metadata": {},
     "output_type": "execute_result"
    }
   ],
   "source": [
    "# yardage prediction\n",
    "model.predict(X_test)[4].dot(np.arange(-99,100))"
   ]
  },
  {
   "cell_type": "markdown",
   "metadata": {},
   "source": [
    "### Play that Went For No Yardage"
   ]
  },
  {
   "attachments": {
    "fdcca105-5d05-4fac-bf40-e66bdaf47562.png": {
     "image/png": "[encoded data removed]"
    }
   },
   "cell_type": "markdown",
   "metadata": {},
   "source": [
    "![fdcca105-5d05-4fac-bf40-e66bdaf47562.png](attachment:fdcca105-5d05-4fac-bf40-e66bdaf47562.png)"
   ]
  },
  {
   "cell_type": "code",
   "execution_count": 44,
   "metadata": {},
   "outputs": [
    {
     "data": {
      "text/plain": [
       "27"
      ]
     },
     "execution_count": 44,
     "metadata": {},
     "output_type": "execute_result"
    }
   ],
   "source": [
    "yac_data[(yac_data[\"gameId\"] == 2018102104) & (yac_data[\"playId\"] == 3542)][\"playId2\"].iloc[0]"
   ]
  },
  {
   "cell_type": "code",
   "execution_count": 45,
   "metadata": {},
   "outputs": [
    {
     "name": "stdout",
     "output_type": "stream",
     "text": [
      "The actual result of the play was a 0 gain.\n"
     ]
    }
   ],
   "source": [
    "yards = target_data[(target_data[\"gameId\"] == 2018102104) & (target_data[\"playId\"] == 3542)][\"offensePlayResult\"].iloc[0]\n",
    "print(\"The actual result of the play was a \" + str(yards) + \" gain.\")"
   ]
  },
  {
   "cell_type": "code",
   "execution_count": 46,
   "metadata": {},
   "outputs": [
    {
     "data": {
      "text/plain": [
       "0"
      ]
     },
     "execution_count": 46,
     "metadata": {},
     "output_type": "execute_result"
    }
   ],
   "source": [
    "np.argmax(y_test[27-1]) - 99"
   ]
  },
  {
   "cell_type": "code",
   "execution_count": 49,
   "metadata": {},
   "outputs": [
    {
     "data": {
      "image/png": "[encoded data removed]",
      "text/plain": [
       "<matplotlib.figure.Figure at 0x138ea5400>"
      ]
     },
     "metadata": {},
     "output_type": "display_data"
    }
   ],
   "source": [
    "plt.plot(np.arange(-99,100), model.predict(X_test)[26], 'b-')\n",
    "plt.xlim(-40,20)\n",
    "plt.ylim(0,1)\n",
    "plt.show()"
   ]
  },
  {
   "cell_type": "code",
   "execution_count": 50,
   "metadata": {},
   "outputs": [
    {
     "data": {
      "text/plain": [
       "-2.3346387303771223"
      ]
     },
     "execution_count": 50,
     "metadata": {},
     "output_type": "execute_result"
    }
   ],
   "source": [
    "# yardage prediction\n",
    "model.predict(X_test)[26].dot(np.arange(-99,100))"
   ]
  },
  {
   "cell_type": "markdown",
   "metadata": {},
   "source": [
    "### Play that Went For 10 Yards"
   ]
  },
  {
   "attachments": {
    "231f4fb0-5395-4a17-adc9-5750e01793d9.png": {
     "image/png": "[encoded data removed]"
    }
   },
   "cell_type": "markdown",
   "metadata": {},
   "source": [
    "![231f4fb0-5395-4a17-adc9-5750e01793d9.png](attachment:231f4fb0-5395-4a17-adc9-5750e01793d9.png)"
   ]
  },
  {
   "cell_type": "code",
   "execution_count": 51,
   "metadata": {},
   "outputs": [
    {
     "data": {
      "text/plain": [
       "59"
      ]
     },
     "execution_count": 51,
     "metadata": {},
     "output_type": "execute_result"
    }
   ],
   "source": [
    "yac_data[(yac_data[\"gameId\"] == 2018123014) & (yac_data[\"playId\"] == 329)][\"playId2\"].iloc[0]"
   ]
  },
  {
   "cell_type": "code",
   "execution_count": 52,
   "metadata": {},
   "outputs": [
    {
     "name": "stdout",
     "output_type": "stream",
     "text": [
      "The actual result of the play was a -12 gain.\n"
     ]
    }
   ],
   "source": [
    "yards = target_data[(target_data[\"gameId\"] == 2018123014) & (target_data[\"playId\"] == 329)][\"offensePlayResult\"].iloc[0]\n",
    "print(\"The actual result of the play was a \" + str(yards) + \" gain.\")"
   ]
  },
  {
   "cell_type": "code",
   "execution_count": 53,
   "metadata": {},
   "outputs": [
    {
     "data": {
      "text/plain": [
       "-12"
      ]
     },
     "execution_count": 53,
     "metadata": {},
     "output_type": "execute_result"
    }
   ],
   "source": [
    "np.argmax(y_test[59-1]) - 99"
   ]
  },
  {
   "cell_type": "code",
   "execution_count": 55,
   "metadata": {},
   "outputs": [
    {
     "data": {
      "image/png": "[encoded data removed]",
      "text/plain": [
       "<matplotlib.figure.Figure at 0x138b375c0>"
      ]
     },
     "metadata": {},
     "output_type": "display_data"
    }
   ],
   "source": [
    "plt.plot(np.arange(-99,100), model.predict(X_test)[58], 'b-')\n",
    "plt.xlim(-30,30)\n",
    "plt.ylim(0,.5)\n",
    "plt.show()"
   ]
  },
  {
   "cell_type": "code",
   "execution_count": 56,
   "metadata": {},
   "outputs": [
    {
     "data": {
      "text/plain": [
       "2.134997689674492"
      ]
     },
     "execution_count": 56,
     "metadata": {},
     "output_type": "execute_result"
    }
   ],
   "source": [
    "# yardage prediction\n",
    "model.predict(X_test)[58].dot(np.arange(-99,100))"
   ]
  },
  {
   "cell_type": "markdown",
   "metadata": {},
   "source": [
    "### Play that Went For 30+ Yards"
   ]
  },
  {
   "attachments": {
    "bcef4974-0374-4252-b75b-bdffbda71660.png": {
     "image/png": "[encoded data removed]"
    }
   },
   "cell_type": "markdown",
   "metadata": {},
   "source": [
    "![bcef4974-0374-4252-b75b-bdffbda71660.png](attachment:bcef4974-0374-4252-b75b-bdffbda71660.png)"
   ]
  },
  {
   "cell_type": "code",
   "execution_count": 57,
   "metadata": {},
   "outputs": [
    {
     "data": {
      "text/plain": [
       "9"
      ]
     },
     "execution_count": 57,
     "metadata": {},
     "output_type": "execute_result"
    }
   ],
   "source": [
    "yac_data[(yac_data[\"gameId\"] == 2018092301) & (yac_data[\"playId\"] == 3690)][\"playId2\"].iloc[0]"
   ]
  },
  {
   "cell_type": "code",
   "execution_count": 58,
   "metadata": {},
   "outputs": [
    {
     "name": "stdout",
     "output_type": "stream",
     "text": [
      "The actual result of the play was a -29 gain.\n"
     ]
    }
   ],
   "source": [
    "yards = target_data[(target_data[\"gameId\"] == 2018092301) & (target_data[\"playId\"] == 3690)][\"offensePlayResult\"].iloc[0]\n",
    "print(\"The actual result of the play was a \" + str(yards) + \" gain.\")"
   ]
  },
  {
   "cell_type": "code",
   "execution_count": 59,
   "metadata": {},
   "outputs": [
    {
     "data": {
      "text/plain": [
       "-29"
      ]
     },
     "execution_count": 59,
     "metadata": {},
     "output_type": "execute_result"
    }
   ],
   "source": [
    "np.argmax(y_test[9-1]) - 99"
   ]
  },
  {
   "cell_type": "code",
   "execution_count": 60,
   "metadata": {},
   "outputs": [
    {
     "data": {
      "image/png": "[encoded data removed]",
      "text/plain": [
       "<matplotlib.figure.Figure at 0x13abdf668>"
      ]
     },
     "metadata": {},
     "output_type": "display_data"
    }
   ],
   "source": [
    "plt.plot(np.arange(-99,100), model.predict(X_test)[8], 'b-')\n",
    "plt.xlim(-40,10)\n",
    "plt.ylim(0,.5)\n",
    "plt.show()"
   ]
  },
  {
   "cell_type": "code",
   "execution_count": 61,
   "metadata": {},
   "outputs": [
    {
     "data": {
      "text/plain": [
       "2.925759796793386"
      ]
     },
     "execution_count": 61,
     "metadata": {},
     "output_type": "execute_result"
    }
   ],
   "source": [
    "# yardage prediction\n",
    "model.predict(X_test)[8].dot(np.arange(-99,100))"
   ]
  },
  {
   "cell_type": "markdown",
   "metadata": {},
   "source": [
    "# Scoring Entire Data Set"
   ]
  },
  {
   "cell_type": "code",
   "execution_count": 66,
   "metadata": {
    "collapsed": true
   },
   "outputs": [],
   "source": [
    "pass_arrived_score = pd.read_csv(\"~/Desktop/CoverageNet/src/03_coverageNet/02_score_attempt/outputs/pass_attempt_score_tensor.csv\")"
   ]
  },
  {
   "cell_type": "code",
   "execution_count": 67,
   "metadata": {
    "scrolled": true
   },
   "outputs": [
    {
     "data": {
      "text/html": [
       "<div>\n",
       "<style scoped>\n",
       "    .dataframe tbody tr th:only-of-type {\n",
       "        vertical-align: middle;\n",
       "    }\n",
       "\n",
       "    .dataframe tbody tr th {\n",
       "        vertical-align: top;\n",
       "    }\n",
       "\n",
       "    .dataframe thead th {\n",
       "        text-align: right;\n",
       "    }\n",
       "</style>\n",
       "<table border=\"1\" class=\"dataframe\">\n",
       "  <thead>\n",
       "    <tr style=\"text-align: right;\">\n",
       "      <th></th>\n",
       "      <th>group</th>\n",
       "      <th>gameId</th>\n",
       "      <th>playId</th>\n",
       "      <th>defense_nflId</th>\n",
       "      <th>offense_nflId</th>\n",
       "      <th>playId2</th>\n",
       "      <th>defenseId</th>\n",
       "      <th>offenseId</th>\n",
       "      <th>defense_s_x</th>\n",
       "      <th>defense_s_y</th>\n",
       "      <th>...</th>\n",
       "      <th>receiver_s_x</th>\n",
       "      <th>receiver_s_y</th>\n",
       "      <th>receiver_distance_from_los</th>\n",
       "      <th>defense_football_x</th>\n",
       "      <th>defense_football_y</th>\n",
       "      <th>receiver_football_x</th>\n",
       "      <th>receiver_football_y</th>\n",
       "      <th>football_s</th>\n",
       "      <th>receiver_football_defender_dist_diff</th>\n",
       "      <th>defender_receiver_football_dist_diff</th>\n",
       "    </tr>\n",
       "  </thead>\n",
       "  <tbody>\n",
       "    <tr>\n",
       "      <th>0</th>\n",
       "      <td>full</td>\n",
       "      <td>2018090600</td>\n",
       "      <td>75</td>\n",
       "      <td>79848</td>\n",
       "      <td>310</td>\n",
       "      <td>1</td>\n",
       "      <td>1</td>\n",
       "      <td>1</td>\n",
       "      <td>3.658502</td>\n",
       "      <td>-4.146837</td>\n",
       "      <td>...</td>\n",
       "      <td>2.749019</td>\n",
       "      <td>-1.454302</td>\n",
       "      <td>9.31</td>\n",
       "      <td>12.08</td>\n",
       "      <td>-11.36</td>\n",
       "      <td>16.21</td>\n",
       "      <td>-17.94</td>\n",
       "      <td>2.05</td>\n",
       "      <td>16.409923</td>\n",
       "      <td>-7.596262</td>\n",
       "    </tr>\n",
       "    <tr>\n",
       "      <th>1</th>\n",
       "      <td>full</td>\n",
       "      <td>2018090600</td>\n",
       "      <td>75</td>\n",
       "      <td>79848</td>\n",
       "      <td>2533040</td>\n",
       "      <td>1</td>\n",
       "      <td>1</td>\n",
       "      <td>2</td>\n",
       "      <td>3.658502</td>\n",
       "      <td>-4.146837</td>\n",
       "      <td>...</td>\n",
       "      <td>2.749019</td>\n",
       "      <td>-1.454302</td>\n",
       "      <td>9.31</td>\n",
       "      <td>12.08</td>\n",
       "      <td>-11.36</td>\n",
       "      <td>16.21</td>\n",
       "      <td>-17.94</td>\n",
       "      <td>2.05</td>\n",
       "      <td>16.409923</td>\n",
       "      <td>-7.596262</td>\n",
       "    </tr>\n",
       "    <tr>\n",
       "      <th>2</th>\n",
       "      <td>full</td>\n",
       "      <td>2018090600</td>\n",
       "      <td>75</td>\n",
       "      <td>79848</td>\n",
       "      <td>2543583</td>\n",
       "      <td>1</td>\n",
       "      <td>1</td>\n",
       "      <td>3</td>\n",
       "      <td>3.658502</td>\n",
       "      <td>-4.146837</td>\n",
       "      <td>...</td>\n",
       "      <td>2.749019</td>\n",
       "      <td>-1.454302</td>\n",
       "      <td>9.31</td>\n",
       "      <td>12.08</td>\n",
       "      <td>-11.36</td>\n",
       "      <td>16.21</td>\n",
       "      <td>-17.94</td>\n",
       "      <td>2.05</td>\n",
       "      <td>16.409923</td>\n",
       "      <td>-7.596262</td>\n",
       "    </tr>\n",
       "    <tr>\n",
       "      <th>3</th>\n",
       "      <td>full</td>\n",
       "      <td>2018090600</td>\n",
       "      <td>75</td>\n",
       "      <td>79848</td>\n",
       "      <td>2555415</td>\n",
       "      <td>1</td>\n",
       "      <td>1</td>\n",
       "      <td>4</td>\n",
       "      <td>3.658502</td>\n",
       "      <td>-4.146837</td>\n",
       "      <td>...</td>\n",
       "      <td>2.749019</td>\n",
       "      <td>-1.454302</td>\n",
       "      <td>9.31</td>\n",
       "      <td>12.08</td>\n",
       "      <td>-11.36</td>\n",
       "      <td>16.21</td>\n",
       "      <td>-17.94</td>\n",
       "      <td>2.05</td>\n",
       "      <td>16.409923</td>\n",
       "      <td>-7.596262</td>\n",
       "    </tr>\n",
       "    <tr>\n",
       "      <th>4</th>\n",
       "      <td>full</td>\n",
       "      <td>2018090600</td>\n",
       "      <td>75</td>\n",
       "      <td>79848</td>\n",
       "      <td>2559033</td>\n",
       "      <td>1</td>\n",
       "      <td>1</td>\n",
       "      <td>5</td>\n",
       "      <td>3.658502</td>\n",
       "      <td>-4.146837</td>\n",
       "      <td>...</td>\n",
       "      <td>2.749019</td>\n",
       "      <td>-1.454302</td>\n",
       "      <td>9.31</td>\n",
       "      <td>12.08</td>\n",
       "      <td>-11.36</td>\n",
       "      <td>16.21</td>\n",
       "      <td>-17.94</td>\n",
       "      <td>2.05</td>\n",
       "      <td>16.409923</td>\n",
       "      <td>-7.596262</td>\n",
       "    </tr>\n",
       "    <tr>\n",
       "      <th>5</th>\n",
       "      <td>full</td>\n",
       "      <td>2018090600</td>\n",
       "      <td>75</td>\n",
       "      <td>0</td>\n",
       "      <td>0</td>\n",
       "      <td>1</td>\n",
       "      <td>1</td>\n",
       "      <td>6</td>\n",
       "      <td>0.000000</td>\n",
       "      <td>0.000000</td>\n",
       "      <td>...</td>\n",
       "      <td>0.000000</td>\n",
       "      <td>0.000000</td>\n",
       "      <td>0.00</td>\n",
       "      <td>0.00</td>\n",
       "      <td>0.00</td>\n",
       "      <td>0.00</td>\n",
       "      <td>0.00</td>\n",
       "      <td>0.00</td>\n",
       "      <td>0.000000</td>\n",
       "      <td>0.000000</td>\n",
       "    </tr>\n",
       "    <tr>\n",
       "      <th>6</th>\n",
       "      <td>full</td>\n",
       "      <td>2018090600</td>\n",
       "      <td>75</td>\n",
       "      <td>0</td>\n",
       "      <td>0</td>\n",
       "      <td>1</td>\n",
       "      <td>1</td>\n",
       "      <td>7</td>\n",
       "      <td>0.000000</td>\n",
       "      <td>0.000000</td>\n",
       "      <td>...</td>\n",
       "      <td>0.000000</td>\n",
       "      <td>0.000000</td>\n",
       "      <td>0.00</td>\n",
       "      <td>0.00</td>\n",
       "      <td>0.00</td>\n",
       "      <td>0.00</td>\n",
       "      <td>0.00</td>\n",
       "      <td>0.00</td>\n",
       "      <td>0.000000</td>\n",
       "      <td>0.000000</td>\n",
       "    </tr>\n",
       "    <tr>\n",
       "      <th>7</th>\n",
       "      <td>full</td>\n",
       "      <td>2018090600</td>\n",
       "      <td>75</td>\n",
       "      <td>0</td>\n",
       "      <td>0</td>\n",
       "      <td>1</td>\n",
       "      <td>1</td>\n",
       "      <td>8</td>\n",
       "      <td>0.000000</td>\n",
       "      <td>0.000000</td>\n",
       "      <td>...</td>\n",
       "      <td>0.000000</td>\n",
       "      <td>0.000000</td>\n",
       "      <td>0.00</td>\n",
       "      <td>0.00</td>\n",
       "      <td>0.00</td>\n",
       "      <td>0.00</td>\n",
       "      <td>0.00</td>\n",
       "      <td>0.00</td>\n",
       "      <td>0.000000</td>\n",
       "      <td>0.000000</td>\n",
       "    </tr>\n",
       "    <tr>\n",
       "      <th>8</th>\n",
       "      <td>full</td>\n",
       "      <td>2018090600</td>\n",
       "      <td>75</td>\n",
       "      <td>0</td>\n",
       "      <td>0</td>\n",
       "      <td>1</td>\n",
       "      <td>1</td>\n",
       "      <td>9</td>\n",
       "      <td>0.000000</td>\n",
       "      <td>0.000000</td>\n",
       "      <td>...</td>\n",
       "      <td>0.000000</td>\n",
       "      <td>0.000000</td>\n",
       "      <td>0.00</td>\n",
       "      <td>0.00</td>\n",
       "      <td>0.00</td>\n",
       "      <td>0.00</td>\n",
       "      <td>0.00</td>\n",
       "      <td>0.00</td>\n",
       "      <td>0.000000</td>\n",
       "      <td>0.000000</td>\n",
       "    </tr>\n",
       "    <tr>\n",
       "      <th>9</th>\n",
       "      <td>full</td>\n",
       "      <td>2018090600</td>\n",
       "      <td>75</td>\n",
       "      <td>0</td>\n",
       "      <td>0</td>\n",
       "      <td>1</td>\n",
       "      <td>1</td>\n",
       "      <td>10</td>\n",
       "      <td>0.000000</td>\n",
       "      <td>0.000000</td>\n",
       "      <td>...</td>\n",
       "      <td>0.000000</td>\n",
       "      <td>0.000000</td>\n",
       "      <td>0.00</td>\n",
       "      <td>0.00</td>\n",
       "      <td>0.00</td>\n",
       "      <td>0.00</td>\n",
       "      <td>0.00</td>\n",
       "      <td>0.00</td>\n",
       "      <td>0.000000</td>\n",
       "      <td>0.000000</td>\n",
       "    </tr>\n",
       "    <tr>\n",
       "      <th>10</th>\n",
       "      <td>full</td>\n",
       "      <td>2018090600</td>\n",
       "      <td>75</td>\n",
       "      <td>2495613</td>\n",
       "      <td>310</td>\n",
       "      <td>1</td>\n",
       "      <td>2</td>\n",
       "      <td>1</td>\n",
       "      <td>2.076452</td>\n",
       "      <td>2.842313</td>\n",
       "      <td>...</td>\n",
       "      <td>2.749019</td>\n",
       "      <td>-1.454302</td>\n",
       "      <td>9.31</td>\n",
       "      <td>10.88</td>\n",
       "      <td>8.33</td>\n",
       "      <td>16.21</td>\n",
       "      <td>-17.94</td>\n",
       "      <td>2.05</td>\n",
       "      <td>-2.626595</td>\n",
       "      <td>-10.475987</td>\n",
       "    </tr>\n",
       "    <tr>\n",
       "      <th>11</th>\n",
       "      <td>full</td>\n",
       "      <td>2018090600</td>\n",
       "      <td>75</td>\n",
       "      <td>2495613</td>\n",
       "      <td>2533040</td>\n",
       "      <td>1</td>\n",
       "      <td>2</td>\n",
       "      <td>2</td>\n",
       "      <td>2.076452</td>\n",
       "      <td>2.842313</td>\n",
       "      <td>...</td>\n",
       "      <td>2.749019</td>\n",
       "      <td>-1.454302</td>\n",
       "      <td>9.31</td>\n",
       "      <td>10.88</td>\n",
       "      <td>8.33</td>\n",
       "      <td>16.21</td>\n",
       "      <td>-17.94</td>\n",
       "      <td>2.05</td>\n",
       "      <td>-2.626595</td>\n",
       "      <td>-10.475987</td>\n",
       "    </tr>\n",
       "    <tr>\n",
       "      <th>12</th>\n",
       "      <td>full</td>\n",
       "      <td>2018090600</td>\n",
       "      <td>75</td>\n",
       "      <td>2495613</td>\n",
       "      <td>2543583</td>\n",
       "      <td>1</td>\n",
       "      <td>2</td>\n",
       "      <td>3</td>\n",
       "      <td>2.076452</td>\n",
       "      <td>2.842313</td>\n",
       "      <td>...</td>\n",
       "      <td>2.749019</td>\n",
       "      <td>-1.454302</td>\n",
       "      <td>9.31</td>\n",
       "      <td>10.88</td>\n",
       "      <td>8.33</td>\n",
       "      <td>16.21</td>\n",
       "      <td>-17.94</td>\n",
       "      <td>2.05</td>\n",
       "      <td>-2.626595</td>\n",
       "      <td>-10.475987</td>\n",
       "    </tr>\n",
       "    <tr>\n",
       "      <th>13</th>\n",
       "      <td>full</td>\n",
       "      <td>2018090600</td>\n",
       "      <td>75</td>\n",
       "      <td>2495613</td>\n",
       "      <td>2555415</td>\n",
       "      <td>1</td>\n",
       "      <td>2</td>\n",
       "      <td>4</td>\n",
       "      <td>2.076452</td>\n",
       "      <td>2.842313</td>\n",
       "      <td>...</td>\n",
       "      <td>2.749019</td>\n",
       "      <td>-1.454302</td>\n",
       "      <td>9.31</td>\n",
       "      <td>10.88</td>\n",
       "      <td>8.33</td>\n",
       "      <td>16.21</td>\n",
       "      <td>-17.94</td>\n",
       "      <td>2.05</td>\n",
       "      <td>-2.626595</td>\n",
       "      <td>-10.475987</td>\n",
       "    </tr>\n",
       "    <tr>\n",
       "      <th>14</th>\n",
       "      <td>full</td>\n",
       "      <td>2018090600</td>\n",
       "      <td>75</td>\n",
       "      <td>2495613</td>\n",
       "      <td>2559033</td>\n",
       "      <td>1</td>\n",
       "      <td>2</td>\n",
       "      <td>5</td>\n",
       "      <td>2.076452</td>\n",
       "      <td>2.842313</td>\n",
       "      <td>...</td>\n",
       "      <td>2.749019</td>\n",
       "      <td>-1.454302</td>\n",
       "      <td>9.31</td>\n",
       "      <td>10.88</td>\n",
       "      <td>8.33</td>\n",
       "      <td>16.21</td>\n",
       "      <td>-17.94</td>\n",
       "      <td>2.05</td>\n",
       "      <td>-2.626595</td>\n",
       "      <td>-10.475987</td>\n",
       "    </tr>\n",
       "    <tr>\n",
       "      <th>15</th>\n",
       "      <td>full</td>\n",
       "      <td>2018090600</td>\n",
       "      <td>75</td>\n",
       "      <td>0</td>\n",
       "      <td>0</td>\n",
       "      <td>1</td>\n",
       "      <td>2</td>\n",
       "      <td>6</td>\n",
       "      <td>0.000000</td>\n",
       "      <td>0.000000</td>\n",
       "      <td>...</td>\n",
       "      <td>0.000000</td>\n",
       "      <td>0.000000</td>\n",
       "      <td>0.00</td>\n",
       "      <td>0.00</td>\n",
       "      <td>0.00</td>\n",
       "      <td>0.00</td>\n",
       "      <td>0.00</td>\n",
       "      <td>0.00</td>\n",
       "      <td>0.000000</td>\n",
       "      <td>0.000000</td>\n",
       "    </tr>\n",
       "    <tr>\n",
       "      <th>16</th>\n",
       "      <td>full</td>\n",
       "      <td>2018090600</td>\n",
       "      <td>75</td>\n",
       "      <td>0</td>\n",
       "      <td>0</td>\n",
       "      <td>1</td>\n",
       "      <td>2</td>\n",
       "      <td>7</td>\n",
       "      <td>0.000000</td>\n",
       "      <td>0.000000</td>\n",
       "      <td>...</td>\n",
       "      <td>0.000000</td>\n",
       "      <td>0.000000</td>\n",
       "      <td>0.00</td>\n",
       "      <td>0.00</td>\n",
       "      <td>0.00</td>\n",
       "      <td>0.00</td>\n",
       "      <td>0.00</td>\n",
       "      <td>0.00</td>\n",
       "      <td>0.000000</td>\n",
       "      <td>0.000000</td>\n",
       "    </tr>\n",
       "    <tr>\n",
       "      <th>17</th>\n",
       "      <td>full</td>\n",
       "      <td>2018090600</td>\n",
       "      <td>75</td>\n",
       "      <td>0</td>\n",
       "      <td>0</td>\n",
       "      <td>1</td>\n",
       "      <td>2</td>\n",
       "      <td>8</td>\n",
       "      <td>0.000000</td>\n",
       "      <td>0.000000</td>\n",
       "      <td>...</td>\n",
       "      <td>0.000000</td>\n",
       "      <td>0.000000</td>\n",
       "      <td>0.00</td>\n",
       "      <td>0.00</td>\n",
       "      <td>0.00</td>\n",
       "      <td>0.00</td>\n",
       "      <td>0.00</td>\n",
       "      <td>0.00</td>\n",
       "      <td>0.000000</td>\n",
       "      <td>0.000000</td>\n",
       "    </tr>\n",
       "    <tr>\n",
       "      <th>18</th>\n",
       "      <td>full</td>\n",
       "      <td>2018090600</td>\n",
       "      <td>75</td>\n",
       "      <td>0</td>\n",
       "      <td>0</td>\n",
       "      <td>1</td>\n",
       "      <td>2</td>\n",
       "      <td>9</td>\n",
       "      <td>0.000000</td>\n",
       "      <td>0.000000</td>\n",
       "      <td>...</td>\n",
       "      <td>0.000000</td>\n",
       "      <td>0.000000</td>\n",
       "      <td>0.00</td>\n",
       "      <td>0.00</td>\n",
       "      <td>0.00</td>\n",
       "      <td>0.00</td>\n",
       "      <td>0.00</td>\n",
       "      <td>0.00</td>\n",
       "      <td>0.000000</td>\n",
       "      <td>0.000000</td>\n",
       "    </tr>\n",
       "    <tr>\n",
       "      <th>19</th>\n",
       "      <td>full</td>\n",
       "      <td>2018090600</td>\n",
       "      <td>75</td>\n",
       "      <td>0</td>\n",
       "      <td>0</td>\n",
       "      <td>1</td>\n",
       "      <td>2</td>\n",
       "      <td>10</td>\n",
       "      <td>0.000000</td>\n",
       "      <td>0.000000</td>\n",
       "      <td>...</td>\n",
       "      <td>0.000000</td>\n",
       "      <td>0.000000</td>\n",
       "      <td>0.00</td>\n",
       "      <td>0.00</td>\n",
       "      <td>0.00</td>\n",
       "      <td>0.00</td>\n",
       "      <td>0.00</td>\n",
       "      <td>0.00</td>\n",
       "      <td>0.000000</td>\n",
       "      <td>0.000000</td>\n",
       "    </tr>\n",
       "  </tbody>\n",
       "</table>\n",
       "<p>20 rows × 28 columns</p>\n",
       "</div>"
      ],
      "text/plain": [
       "   group      gameId  playId  defense_nflId  offense_nflId  playId2  \\\n",
       "0   full  2018090600      75          79848            310        1   \n",
       "1   full  2018090600      75          79848        2533040        1   \n",
       "2   full  2018090600      75          79848        2543583        1   \n",
       "3   full  2018090600      75          79848        2555415        1   \n",
       "4   full  2018090600      75          79848        2559033        1   \n",
       "5   full  2018090600      75              0              0        1   \n",
       "6   full  2018090600      75              0              0        1   \n",
       "7   full  2018090600      75              0              0        1   \n",
       "8   full  2018090600      75              0              0        1   \n",
       "9   full  2018090600      75              0              0        1   \n",
       "10  full  2018090600      75        2495613            310        1   \n",
       "11  full  2018090600      75        2495613        2533040        1   \n",
       "12  full  2018090600      75        2495613        2543583        1   \n",
       "13  full  2018090600      75        2495613        2555415        1   \n",
       "14  full  2018090600      75        2495613        2559033        1   \n",
       "15  full  2018090600      75              0              0        1   \n",
       "16  full  2018090600      75              0              0        1   \n",
       "17  full  2018090600      75              0              0        1   \n",
       "18  full  2018090600      75              0              0        1   \n",
       "19  full  2018090600      75              0              0        1   \n",
       "\n",
       "    defenseId  offenseId  defense_s_x  defense_s_y  ...  receiver_s_x  \\\n",
       "0           1          1     3.658502    -4.146837  ...      2.749019   \n",
       "1           1          2     3.658502    -4.146837  ...      2.749019   \n",
       "2           1          3     3.658502    -4.146837  ...      2.749019   \n",
       "3           1          4     3.658502    -4.146837  ...      2.749019   \n",
       "4           1          5     3.658502    -4.146837  ...      2.749019   \n",
       "5           1          6     0.000000     0.000000  ...      0.000000   \n",
       "6           1          7     0.000000     0.000000  ...      0.000000   \n",
       "7           1          8     0.000000     0.000000  ...      0.000000   \n",
       "8           1          9     0.000000     0.000000  ...      0.000000   \n",
       "9           1         10     0.000000     0.000000  ...      0.000000   \n",
       "10          2          1     2.076452     2.842313  ...      2.749019   \n",
       "11          2          2     2.076452     2.842313  ...      2.749019   \n",
       "12          2          3     2.076452     2.842313  ...      2.749019   \n",
       "13          2          4     2.076452     2.842313  ...      2.749019   \n",
       "14          2          5     2.076452     2.842313  ...      2.749019   \n",
       "15          2          6     0.000000     0.000000  ...      0.000000   \n",
       "16          2          7     0.000000     0.000000  ...      0.000000   \n",
       "17          2          8     0.000000     0.000000  ...      0.000000   \n",
       "18          2          9     0.000000     0.000000  ...      0.000000   \n",
       "19          2         10     0.000000     0.000000  ...      0.000000   \n",
       "\n",
       "    receiver_s_y  receiver_distance_from_los  defense_football_x  \\\n",
       "0      -1.454302                        9.31               12.08   \n",
       "1      -1.454302                        9.31               12.08   \n",
       "2      -1.454302                        9.31               12.08   \n",
       "3      -1.454302                        9.31               12.08   \n",
       "4      -1.454302                        9.31               12.08   \n",
       "5       0.000000                        0.00                0.00   \n",
       "6       0.000000                        0.00                0.00   \n",
       "7       0.000000                        0.00                0.00   \n",
       "8       0.000000                        0.00                0.00   \n",
       "9       0.000000                        0.00                0.00   \n",
       "10     -1.454302                        9.31               10.88   \n",
       "11     -1.454302                        9.31               10.88   \n",
       "12     -1.454302                        9.31               10.88   \n",
       "13     -1.454302                        9.31               10.88   \n",
       "14     -1.454302                        9.31               10.88   \n",
       "15      0.000000                        0.00                0.00   \n",
       "16      0.000000                        0.00                0.00   \n",
       "17      0.000000                        0.00                0.00   \n",
       "18      0.000000                        0.00                0.00   \n",
       "19      0.000000                        0.00                0.00   \n",
       "\n",
       "    defense_football_y  receiver_football_x  receiver_football_y  football_s  \\\n",
       "0               -11.36                16.21               -17.94        2.05   \n",
       "1               -11.36                16.21               -17.94        2.05   \n",
       "2               -11.36                16.21               -17.94        2.05   \n",
       "3               -11.36                16.21               -17.94        2.05   \n",
       "4               -11.36                16.21               -17.94        2.05   \n",
       "5                 0.00                 0.00                 0.00        0.00   \n",
       "6                 0.00                 0.00                 0.00        0.00   \n",
       "7                 0.00                 0.00                 0.00        0.00   \n",
       "8                 0.00                 0.00                 0.00        0.00   \n",
       "9                 0.00                 0.00                 0.00        0.00   \n",
       "10                8.33                16.21               -17.94        2.05   \n",
       "11                8.33                16.21               -17.94        2.05   \n",
       "12                8.33                16.21               -17.94        2.05   \n",
       "13                8.33                16.21               -17.94        2.05   \n",
       "14                8.33                16.21               -17.94        2.05   \n",
       "15                0.00                 0.00                 0.00        0.00   \n",
       "16                0.00                 0.00                 0.00        0.00   \n",
       "17                0.00                 0.00                 0.00        0.00   \n",
       "18                0.00                 0.00                 0.00        0.00   \n",
       "19                0.00                 0.00                 0.00        0.00   \n",
       "\n",
       "    receiver_football_defender_dist_diff  defender_receiver_football_dist_diff  \n",
       "0                              16.409923                             -7.596262  \n",
       "1                              16.409923                             -7.596262  \n",
       "2                              16.409923                             -7.596262  \n",
       "3                              16.409923                             -7.596262  \n",
       "4                              16.409923                             -7.596262  \n",
       "5                               0.000000                              0.000000  \n",
       "6                               0.000000                              0.000000  \n",
       "7                               0.000000                              0.000000  \n",
       "8                               0.000000                              0.000000  \n",
       "9                               0.000000                              0.000000  \n",
       "10                             -2.626595                            -10.475987  \n",
       "11                             -2.626595                            -10.475987  \n",
       "12                             -2.626595                            -10.475987  \n",
       "13                             -2.626595                            -10.475987  \n",
       "14                             -2.626595                            -10.475987  \n",
       "15                              0.000000                              0.000000  \n",
       "16                              0.000000                              0.000000  \n",
       "17                              0.000000                              0.000000  \n",
       "18                              0.000000                              0.000000  \n",
       "19                              0.000000                              0.000000  \n",
       "\n",
       "[20 rows x 28 columns]"
      ]
     },
     "execution_count": 67,
     "metadata": {},
     "output_type": "execute_result"
    }
   ],
   "source": [
    "pass_arrived_score.head(20)"
   ]
  },
  {
   "cell_type": "code",
   "execution_count": 68,
   "metadata": {},
   "outputs": [
    {
     "data": {
      "text/plain": [
       "(1894090, 28)"
      ]
     },
     "execution_count": 68,
     "metadata": {},
     "output_type": "execute_result"
    }
   ],
   "source": [
    "pass_arrived_score.shape"
   ]
  },
  {
   "cell_type": "markdown",
   "metadata": {},
   "source": [
    "# Formatting the Data"
   ]
  },
  {
   "cell_type": "code",
   "execution_count": 69,
   "metadata": {},
   "outputs": [
    {
     "data": {
      "text/plain": [
       "Index(['group', 'gameId', 'playId', 'defense_nflId', 'offense_nflId',\n",
       "       'playId2', 'defenseId', 'offenseId', 'defense_s_x', 'defense_s_y',\n",
       "       'defense_receiver_x', 'defense_receiver_y', 'defense_receiver_s_x',\n",
       "       'defense_receiver_s_y', 'defense_offense_x', 'defense_offense_y',\n",
       "       'defense_offense_s_x', 'defense_offense_s_y', 'receiver_s_x',\n",
       "       'receiver_s_y', 'receiver_distance_from_los', 'defense_football_x',\n",
       "       'defense_football_y', 'receiver_football_x', 'receiver_football_y',\n",
       "       'football_s', 'receiver_football_defender_dist_diff',\n",
       "       'defender_receiver_football_dist_diff'],\n",
       "      dtype='object')"
      ]
     },
     "execution_count": 69,
     "metadata": {},
     "output_type": "execute_result"
    }
   ],
   "source": [
    "pass_arrived_score.columns"
   ]
  },
  {
   "cell_type": "code",
   "execution_count": 70,
   "metadata": {
    "collapsed": true
   },
   "outputs": [],
   "source": [
    "def create_x(data, nfeatures):\n",
    "    # creating a numpy tensor to hold the play data\n",
    "    np_mat = np.array(data.drop(['group', 'gameId', 'playId','defense_nflId', 'offense_nflId'],\n",
    "                               axis = 1))\n",
    "    \n",
    "    # setting parameters\n",
    "    ngames = np.max(np.array(data['playId2']))\n",
    "    nDef = 11\n",
    "    nOff = 10\n",
    "    \n",
    "    # initializing the tensor\n",
    "    np_tensor = np.zeros((ngames, nDef, nOff, nfeatures))\n",
    "    \n",
    "    for row in range(len(np_mat)):\n",
    "        np_tensor[int(np_mat[row][0]) - 1][int(np_mat[row][1]) - 1][int(np_mat[row][2]) - 1] = np_mat[row][3:]\n",
    "    \n",
    "    np_tensor = np_tensor.astype('float32')\n",
    "    \n",
    "    return(np_tensor)"
   ]
  },
  {
   "cell_type": "code",
   "execution_count": 71,
   "metadata": {
    "collapsed": true
   },
   "outputs": [],
   "source": [
    "X_score = create_x(data = pass_arrived_score,\n",
    "                  nfeatures = 20)"
   ]
  },
  {
   "cell_type": "code",
   "execution_count": 72,
   "metadata": {},
   "outputs": [
    {
     "data": {
      "text/plain": [
       "(17219, 11, 10, 20)"
      ]
     },
     "execution_count": 72,
     "metadata": {},
     "output_type": "execute_result"
    }
   ],
   "source": [
    "X_score.shape"
   ]
  },
  {
   "cell_type": "code",
   "execution_count": 73,
   "metadata": {},
   "outputs": [
    {
     "data": {
      "text/plain": [
       "array([  3.6585023 ,  -4.146837  ,  -4.13      ,   6.58      ,\n",
       "         0.90948343,  -2.6925352 ,  11.61      , -11.55      ,\n",
       "         3.2822537 ,  -3.3958135 ,   2.749019  ,  -1.4543022 ,\n",
       "         9.31      ,  12.08      , -11.36      ,  16.21      ,\n",
       "       -17.94      ,   2.05      ,  16.409924  ,  -7.596262  ],\n",
       "      dtype=float32)"
      ]
     },
     "execution_count": 73,
     "metadata": {},
     "output_type": "execute_result"
    }
   ],
   "source": [
    "X_score[0][0][0]"
   ]
  },
  {
   "cell_type": "markdown",
   "metadata": {},
   "source": [
    "# Saving Predictions"
   ]
  },
  {
   "cell_type": "code",
   "execution_count": 74,
   "metadata": {
    "collapsed": true
   },
   "outputs": [],
   "source": [
    "score_preds = model.predict(X_score)"
   ]
  },
  {
   "cell_type": "code",
   "execution_count": 75,
   "metadata": {},
   "outputs": [
    {
     "data": {
      "text/plain": [
       "array([8.18860310e-04, 1.24560634e-03, 4.52594104e-04, 2.45568983e-04,\n",
       "       3.28213908e-04, 3.12522432e-04, 1.08408311e-03, 5.19003894e-04,\n",
       "       6.14926161e-04, 1.78752191e-04, 4.12224443e-04, 2.13255465e-04,\n",
       "       1.18695339e-03, 1.21578039e-03, 2.01913048e-04, 3.37880920e-04,\n",
       "       7.81041628e-04, 1.21477444e-03, 5.19198715e-04, 6.41214661e-04,\n",
       "       7.01372570e-04, 1.48080802e-03, 1.57485891e-03, 8.80174804e-04,\n",
       "       6.70744455e-04, 2.11478182e-04, 4.62469063e-04, 1.04977738e-03,\n",
       "       1.54877387e-04, 4.96271648e-04, 2.12142550e-04, 1.05997873e-03,\n",
       "       7.64768221e-04, 7.46708014e-04, 1.68367784e-04, 1.71140989e-03,\n",
       "       5.13861363e-04, 4.58081980e-04, 4.46120452e-04, 1.46349892e-03,\n",
       "       6.24671520e-04, 6.98933378e-04, 5.34901570e-04, 8.92774144e-04,\n",
       "       3.60316073e-04, 1.11476297e-03, 1.03022216e-03, 9.63669328e-04,\n",
       "       1.26768439e-03, 1.24301994e-03, 2.07621045e-03, 5.84562426e-04,\n",
       "       1.33574998e-03, 5.64840157e-04, 2.20253758e-04, 2.91050412e-03,\n",
       "       1.96349830e-03, 6.78696553e-04, 3.83149600e-04, 2.70103617e-03,\n",
       "       4.32457251e-04, 3.24921426e-03, 1.38488307e-03, 9.28147696e-03,\n",
       "       1.32343767e-03, 4.72194664e-02, 6.95082708e-04, 2.85128248e-03,\n",
       "       4.10793815e-03, 7.55456649e-03, 3.62080958e-04, 3.15714907e-03,\n",
       "       7.90897850e-03, 8.03174265e-03, 5.74846677e-02, 1.47328544e-02,\n",
       "       7.59907765e-03, 1.26958697e-03, 1.03615026e-03, 5.10482118e-04,\n",
       "       3.34180482e-02, 9.24452301e-03, 2.02219258e-03, 1.75020173e-02,\n",
       "       9.11954697e-03, 1.22074531e-02, 8.27027106e-05, 1.81450304e-02,\n",
       "       5.02410904e-02, 1.16653908e-02, 3.09656723e-04, 5.69234192e-02,\n",
       "       1.60124747e-03, 1.32708717e-02, 2.04278696e-02, 3.53487488e-03,\n",
       "       2.00732557e-05, 2.70822202e-04, 2.41194487e-01, 8.67329654e-04,\n",
       "       6.04834931e-04, 1.06890926e-04, 4.84051406e-02, 2.43898537e-02,\n",
       "       5.64361773e-02, 4.97196561e-05, 2.71147657e-02, 6.47695852e-04,\n",
       "       3.36864707e-03, 3.93005200e-02, 2.55239604e-04, 1.65453777e-04,\n",
       "       2.84307956e-04, 1.89032453e-05, 1.90286187e-03, 2.11673716e-04,\n",
       "       2.59608813e-02, 5.66901825e-03, 1.40038389e-03, 6.33499294e-05,\n",
       "       1.32133413e-04, 3.04166198e-04, 6.07314287e-04, 9.79442484e-06,\n",
       "       1.40785254e-04, 5.87973809e-05, 4.52096254e-04, 2.42468348e-04,\n",
       "       4.00020886e-04, 5.83533947e-05, 4.28850879e-04, 1.88431470e-04,\n",
       "       3.90558962e-05, 5.88927302e-04, 6.16665056e-05, 4.28044077e-05,\n",
       "       3.19988612e-04, 3.22939195e-05, 4.03917977e-04, 3.71840761e-05,\n",
       "       5.41165005e-04, 4.47836137e-05, 5.02104995e-05, 3.22697219e-04,\n",
       "       1.12742659e-04, 9.24224383e-04, 3.68062174e-05, 3.20371211e-04,\n",
       "       1.38287432e-04, 1.47941842e-04, 4.40400385e-04, 3.08225979e-04,\n",
       "       3.41890322e-04, 1.92361462e-04, 1.80994117e-04, 4.31197899e-04,\n",
       "       2.16206448e-04, 3.56440549e-04, 4.67487873e-04, 1.43070996e-04,\n",
       "       2.56964646e-04, 5.09026868e-04, 4.59661998e-04, 1.12976169e-03,\n",
       "       3.57241457e-04, 1.68391620e-04, 4.81817871e-04, 4.35040507e-04,\n",
       "       1.84740731e-03, 4.75804351e-04, 3.42170679e-04, 3.07917624e-04,\n",
       "       4.33847890e-04, 3.80841753e-04, 3.45133682e-04, 6.47160923e-04,\n",
       "       3.21641041e-04, 4.59913485e-04, 7.23776291e-04, 6.31131465e-04,\n",
       "       1.62345869e-03, 4.45649290e-04, 4.25821054e-04, 5.26328280e-04,\n",
       "       6.14857592e-04, 1.64133642e-04, 2.79475935e-04, 8.55372462e-04,\n",
       "       3.18783976e-04, 6.05749257e-04, 6.76430180e-04, 1.87618280e-04,\n",
       "       6.12643373e-04, 3.83690756e-04, 4.08182212e-04, 5.11986902e-04,\n",
       "       6.54350210e-04, 8.77118844e-04, 3.28094844e-04], dtype=float32)"
      ]
     },
     "execution_count": 75,
     "metadata": {},
     "output_type": "execute_result"
    }
   ],
   "source": [
    "score_preds[0]"
   ]
  },
  {
   "cell_type": "code",
   "execution_count": 76,
   "metadata": {
    "collapsed": true
   },
   "outputs": [],
   "source": [
    "full_preds_df = pd.DataFrame(score_preds, columns = [str(int(x - 99)) for x in np.linspace(0,198, 199)])"
   ]
  },
  {
   "cell_type": "code",
   "execution_count": 77,
   "metadata": {},
   "outputs": [
    {
     "data": {
      "text/plain": [
       "(17219, 199)"
      ]
     },
     "execution_count": 77,
     "metadata": {},
     "output_type": "execute_result"
    }
   ],
   "source": [
    "full_preds_df.shape"
   ]
  },
  {
   "cell_type": "code",
   "execution_count": 78,
   "metadata": {
    "collapsed": true
   },
   "outputs": [],
   "source": [
    "full_preds_df2 = pd.concat([pass_arrived_score2[[\"gameId\",\"playId\"]].drop_duplicates().reset_index(), full_preds_df], axis = 1)\n",
    "full_preds_df2 = full_preds_df2[full_preds_df2[\"gameId\"] < 10000000000]\n",
    "full_preds_df2 = full_preds_df2.drop(['index'], axis = 1)"
   ]
  },
  {
   "cell_type": "code",
   "execution_count": 79,
   "metadata": {},
   "outputs": [
    {
     "data": {
      "text/plain": [
       "(17219, 201)"
      ]
     },
     "execution_count": 79,
     "metadata": {},
     "output_type": "execute_result"
    }
   ],
   "source": [
    "full_preds_df2.shape"
   ]
  },
  {
   "cell_type": "code",
   "execution_count": 80,
   "metadata": {},
   "outputs": [
    {
     "data": {
      "text/html": [
       "<div>\n",
       "<style scoped>\n",
       "    .dataframe tbody tr th:only-of-type {\n",
       "        vertical-align: middle;\n",
       "    }\n",
       "\n",
       "    .dataframe tbody tr th {\n",
       "        vertical-align: top;\n",
       "    }\n",
       "\n",
       "    .dataframe thead th {\n",
       "        text-align: right;\n",
       "    }\n",
       "</style>\n",
       "<table border=\"1\" class=\"dataframe\">\n",
       "  <thead>\n",
       "    <tr style=\"text-align: right;\">\n",
       "      <th></th>\n",
       "      <th>gameId</th>\n",
       "      <th>playId</th>\n",
       "      <th>-99</th>\n",
       "      <th>-98</th>\n",
       "      <th>-97</th>\n",
       "      <th>-96</th>\n",
       "      <th>-95</th>\n",
       "      <th>-94</th>\n",
       "      <th>-93</th>\n",
       "      <th>-92</th>\n",
       "      <th>...</th>\n",
       "      <th>90</th>\n",
       "      <th>91</th>\n",
       "      <th>92</th>\n",
       "      <th>93</th>\n",
       "      <th>94</th>\n",
       "      <th>95</th>\n",
       "      <th>96</th>\n",
       "      <th>97</th>\n",
       "      <th>98</th>\n",
       "      <th>99</th>\n",
       "    </tr>\n",
       "  </thead>\n",
       "  <tbody>\n",
       "    <tr>\n",
       "      <th>0</th>\n",
       "      <td>2018090600</td>\n",
       "      <td>75</td>\n",
       "      <td>0.000819</td>\n",
       "      <td>0.001246</td>\n",
       "      <td>0.000453</td>\n",
       "      <td>0.000246</td>\n",
       "      <td>0.000328</td>\n",
       "      <td>0.000313</td>\n",
       "      <td>0.001084</td>\n",
       "      <td>0.000519</td>\n",
       "      <td>...</td>\n",
       "      <td>0.000606</td>\n",
       "      <td>0.000676</td>\n",
       "      <td>0.000188</td>\n",
       "      <td>0.000613</td>\n",
       "      <td>0.000384</td>\n",
       "      <td>0.000408</td>\n",
       "      <td>0.000512</td>\n",
       "      <td>0.000654</td>\n",
       "      <td>0.000877</td>\n",
       "      <td>0.000328</td>\n",
       "    </tr>\n",
       "    <tr>\n",
       "      <th>1</th>\n",
       "      <td>2018090600</td>\n",
       "      <td>146</td>\n",
       "      <td>0.000258</td>\n",
       "      <td>0.000562</td>\n",
       "      <td>0.000130</td>\n",
       "      <td>0.000177</td>\n",
       "      <td>0.000156</td>\n",
       "      <td>0.000219</td>\n",
       "      <td>0.000433</td>\n",
       "      <td>0.000231</td>\n",
       "      <td>...</td>\n",
       "      <td>0.000153</td>\n",
       "      <td>0.000205</td>\n",
       "      <td>0.000079</td>\n",
       "      <td>0.000173</td>\n",
       "      <td>0.000197</td>\n",
       "      <td>0.000551</td>\n",
       "      <td>0.000152</td>\n",
       "      <td>0.000204</td>\n",
       "      <td>0.000378</td>\n",
       "      <td>0.000077</td>\n",
       "    </tr>\n",
       "    <tr>\n",
       "      <th>2</th>\n",
       "      <td>2018090600</td>\n",
       "      <td>168</td>\n",
       "      <td>0.000109</td>\n",
       "      <td>0.002245</td>\n",
       "      <td>0.000458</td>\n",
       "      <td>0.000754</td>\n",
       "      <td>0.000612</td>\n",
       "      <td>0.000394</td>\n",
       "      <td>0.000259</td>\n",
       "      <td>0.000384</td>\n",
       "      <td>...</td>\n",
       "      <td>0.000694</td>\n",
       "      <td>0.000502</td>\n",
       "      <td>0.000158</td>\n",
       "      <td>0.000472</td>\n",
       "      <td>0.000403</td>\n",
       "      <td>0.000579</td>\n",
       "      <td>0.000377</td>\n",
       "      <td>0.000428</td>\n",
       "      <td>0.000828</td>\n",
       "      <td>0.000218</td>\n",
       "    </tr>\n",
       "    <tr>\n",
       "      <th>3</th>\n",
       "      <td>2018090600</td>\n",
       "      <td>190</td>\n",
       "      <td>0.000877</td>\n",
       "      <td>0.000629</td>\n",
       "      <td>0.000382</td>\n",
       "      <td>0.000679</td>\n",
       "      <td>0.000224</td>\n",
       "      <td>0.000245</td>\n",
       "      <td>0.000136</td>\n",
       "      <td>0.001136</td>\n",
       "      <td>...</td>\n",
       "      <td>0.000638</td>\n",
       "      <td>0.000767</td>\n",
       "      <td>0.001837</td>\n",
       "      <td>0.000562</td>\n",
       "      <td>0.000574</td>\n",
       "      <td>0.000522</td>\n",
       "      <td>0.000489</td>\n",
       "      <td>0.001754</td>\n",
       "      <td>0.000449</td>\n",
       "      <td>0.000580</td>\n",
       "    </tr>\n",
       "    <tr>\n",
       "      <th>4</th>\n",
       "      <td>2018090600</td>\n",
       "      <td>256</td>\n",
       "      <td>0.000149</td>\n",
       "      <td>0.000550</td>\n",
       "      <td>0.000190</td>\n",
       "      <td>0.000265</td>\n",
       "      <td>0.000296</td>\n",
       "      <td>0.000369</td>\n",
       "      <td>0.000294</td>\n",
       "      <td>0.000206</td>\n",
       "      <td>...</td>\n",
       "      <td>0.000415</td>\n",
       "      <td>0.000199</td>\n",
       "      <td>0.000136</td>\n",
       "      <td>0.000214</td>\n",
       "      <td>0.000214</td>\n",
       "      <td>0.000334</td>\n",
       "      <td>0.000107</td>\n",
       "      <td>0.000279</td>\n",
       "      <td>0.000496</td>\n",
       "      <td>0.000110</td>\n",
       "    </tr>\n",
       "    <tr>\n",
       "      <th>5</th>\n",
       "      <td>2018090600</td>\n",
       "      <td>320</td>\n",
       "      <td>0.000371</td>\n",
       "      <td>0.000924</td>\n",
       "      <td>0.000437</td>\n",
       "      <td>0.000473</td>\n",
       "      <td>0.000590</td>\n",
       "      <td>0.000303</td>\n",
       "      <td>0.000251</td>\n",
       "      <td>0.000430</td>\n",
       "      <td>...</td>\n",
       "      <td>0.000848</td>\n",
       "      <td>0.000343</td>\n",
       "      <td>0.000090</td>\n",
       "      <td>0.000274</td>\n",
       "      <td>0.000401</td>\n",
       "      <td>0.000299</td>\n",
       "      <td>0.000429</td>\n",
       "      <td>0.000351</td>\n",
       "      <td>0.001115</td>\n",
       "      <td>0.000460</td>\n",
       "    </tr>\n",
       "    <tr>\n",
       "      <th>6</th>\n",
       "      <td>2018090600</td>\n",
       "      <td>344</td>\n",
       "      <td>0.000366</td>\n",
       "      <td>0.000315</td>\n",
       "      <td>0.000209</td>\n",
       "      <td>0.000305</td>\n",
       "      <td>0.000342</td>\n",
       "      <td>0.000184</td>\n",
       "      <td>0.000427</td>\n",
       "      <td>0.000319</td>\n",
       "      <td>...</td>\n",
       "      <td>0.000596</td>\n",
       "      <td>0.000216</td>\n",
       "      <td>0.000038</td>\n",
       "      <td>0.000120</td>\n",
       "      <td>0.000189</td>\n",
       "      <td>0.000288</td>\n",
       "      <td>0.000239</td>\n",
       "      <td>0.000264</td>\n",
       "      <td>0.000480</td>\n",
       "      <td>0.000554</td>\n",
       "    </tr>\n",
       "    <tr>\n",
       "      <th>7</th>\n",
       "      <td>2018090600</td>\n",
       "      <td>402</td>\n",
       "      <td>0.000377</td>\n",
       "      <td>0.000067</td>\n",
       "      <td>0.000075</td>\n",
       "      <td>0.000099</td>\n",
       "      <td>0.000072</td>\n",
       "      <td>0.000035</td>\n",
       "      <td>0.000236</td>\n",
       "      <td>0.000112</td>\n",
       "      <td>...</td>\n",
       "      <td>0.000093</td>\n",
       "      <td>0.000036</td>\n",
       "      <td>0.000041</td>\n",
       "      <td>0.000066</td>\n",
       "      <td>0.000047</td>\n",
       "      <td>0.000203</td>\n",
       "      <td>0.000174</td>\n",
       "      <td>0.000113</td>\n",
       "      <td>0.000142</td>\n",
       "      <td>0.000220</td>\n",
       "    </tr>\n",
       "    <tr>\n",
       "      <th>8</th>\n",
       "      <td>2018090600</td>\n",
       "      <td>492</td>\n",
       "      <td>0.000072</td>\n",
       "      <td>0.001872</td>\n",
       "      <td>0.000539</td>\n",
       "      <td>0.001182</td>\n",
       "      <td>0.001023</td>\n",
       "      <td>0.000554</td>\n",
       "      <td>0.000318</td>\n",
       "      <td>0.000423</td>\n",
       "      <td>...</td>\n",
       "      <td>0.000536</td>\n",
       "      <td>0.000825</td>\n",
       "      <td>0.000200</td>\n",
       "      <td>0.000459</td>\n",
       "      <td>0.000349</td>\n",
       "      <td>0.000548</td>\n",
       "      <td>0.000295</td>\n",
       "      <td>0.000465</td>\n",
       "      <td>0.000474</td>\n",
       "      <td>0.000256</td>\n",
       "    </tr>\n",
       "    <tr>\n",
       "      <th>9</th>\n",
       "      <td>2018090600</td>\n",
       "      <td>521</td>\n",
       "      <td>0.000506</td>\n",
       "      <td>0.000549</td>\n",
       "      <td>0.000209</td>\n",
       "      <td>0.000316</td>\n",
       "      <td>0.000172</td>\n",
       "      <td>0.000281</td>\n",
       "      <td>0.000526</td>\n",
       "      <td>0.000312</td>\n",
       "      <td>...</td>\n",
       "      <td>0.000347</td>\n",
       "      <td>0.000387</td>\n",
       "      <td>0.000087</td>\n",
       "      <td>0.000294</td>\n",
       "      <td>0.000162</td>\n",
       "      <td>0.001060</td>\n",
       "      <td>0.000446</td>\n",
       "      <td>0.000764</td>\n",
       "      <td>0.000549</td>\n",
       "      <td>0.000225</td>\n",
       "    </tr>\n",
       "  </tbody>\n",
       "</table>\n",
       "<p>10 rows × 201 columns</p>\n",
       "</div>"
      ],
      "text/plain": [
       "       gameId  playId       -99       -98       -97       -96       -95  \\\n",
       "0  2018090600      75  0.000819  0.001246  0.000453  0.000246  0.000328   \n",
       "1  2018090600     146  0.000258  0.000562  0.000130  0.000177  0.000156   \n",
       "2  2018090600     168  0.000109  0.002245  0.000458  0.000754  0.000612   \n",
       "3  2018090600     190  0.000877  0.000629  0.000382  0.000679  0.000224   \n",
       "4  2018090600     256  0.000149  0.000550  0.000190  0.000265  0.000296   \n",
       "5  2018090600     320  0.000371  0.000924  0.000437  0.000473  0.000590   \n",
       "6  2018090600     344  0.000366  0.000315  0.000209  0.000305  0.000342   \n",
       "7  2018090600     402  0.000377  0.000067  0.000075  0.000099  0.000072   \n",
       "8  2018090600     492  0.000072  0.001872  0.000539  0.001182  0.001023   \n",
       "9  2018090600     521  0.000506  0.000549  0.000209  0.000316  0.000172   \n",
       "\n",
       "        -94       -93       -92  ...        90        91        92        93  \\\n",
       "0  0.000313  0.001084  0.000519  ...  0.000606  0.000676  0.000188  0.000613   \n",
       "1  0.000219  0.000433  0.000231  ...  0.000153  0.000205  0.000079  0.000173   \n",
       "2  0.000394  0.000259  0.000384  ...  0.000694  0.000502  0.000158  0.000472   \n",
       "3  0.000245  0.000136  0.001136  ...  0.000638  0.000767  0.001837  0.000562   \n",
       "4  0.000369  0.000294  0.000206  ...  0.000415  0.000199  0.000136  0.000214   \n",
       "5  0.000303  0.000251  0.000430  ...  0.000848  0.000343  0.000090  0.000274   \n",
       "6  0.000184  0.000427  0.000319  ...  0.000596  0.000216  0.000038  0.000120   \n",
       "7  0.000035  0.000236  0.000112  ...  0.000093  0.000036  0.000041  0.000066   \n",
       "8  0.000554  0.000318  0.000423  ...  0.000536  0.000825  0.000200  0.000459   \n",
       "9  0.000281  0.000526  0.000312  ...  0.000347  0.000387  0.000087  0.000294   \n",
       "\n",
       "         94        95        96        97        98        99  \n",
       "0  0.000384  0.000408  0.000512  0.000654  0.000877  0.000328  \n",
       "1  0.000197  0.000551  0.000152  0.000204  0.000378  0.000077  \n",
       "2  0.000403  0.000579  0.000377  0.000428  0.000828  0.000218  \n",
       "3  0.000574  0.000522  0.000489  0.001754  0.000449  0.000580  \n",
       "4  0.000214  0.000334  0.000107  0.000279  0.000496  0.000110  \n",
       "5  0.000401  0.000299  0.000429  0.000351  0.001115  0.000460  \n",
       "6  0.000189  0.000288  0.000239  0.000264  0.000480  0.000554  \n",
       "7  0.000047  0.000203  0.000174  0.000113  0.000142  0.000220  \n",
       "8  0.000349  0.000548  0.000295  0.000465  0.000474  0.000256  \n",
       "9  0.000162  0.001060  0.000446  0.000764  0.000549  0.000225  \n",
       "\n",
       "[10 rows x 201 columns]"
      ]
     },
     "execution_count": 80,
     "metadata": {},
     "output_type": "execute_result"
    }
   ],
   "source": [
    "full_preds_df2.head(10)"
   ]
  },
  {
   "cell_type": "code",
   "execution_count": 81,
   "metadata": {
    "collapsed": true
   },
   "outputs": [],
   "source": [
    "full_preds_df3 = pd.melt(full_preds_df2, \n",
    "        id_vars=['gameId', 'playId'], \n",
    "        value_vars=[str(int(x - 99)) for x in np.linspace(0,198, 199)],\n",
    "        var_name='offensePlayResult', \n",
    "        value_name='probability')\n",
    "\n",
    "full_preds_df3[\"offensePlayResult\"] = [int(x) for x in np.array(full_preds_df3[\"offensePlayResult\"])]\n",
    "full_preds_df3 = full_preds_df3.sort_values(['gameId','playId','offensePlayResult'])"
   ]
  },
  {
   "cell_type": "code",
   "execution_count": 82,
   "metadata": {},
   "outputs": [
    {
     "data": {
      "text/html": [
       "<div>\n",
       "<style scoped>\n",
       "    .dataframe tbody tr th:only-of-type {\n",
       "        vertical-align: middle;\n",
       "    }\n",
       "\n",
       "    .dataframe tbody tr th {\n",
       "        vertical-align: top;\n",
       "    }\n",
       "\n",
       "    .dataframe thead th {\n",
       "        text-align: right;\n",
       "    }\n",
       "</style>\n",
       "<table border=\"1\" class=\"dataframe\">\n",
       "  <thead>\n",
       "    <tr style=\"text-align: right;\">\n",
       "      <th></th>\n",
       "      <th>gameId</th>\n",
       "      <th>playId</th>\n",
       "      <th>offensePlayResult</th>\n",
       "      <th>probability</th>\n",
       "    </tr>\n",
       "  </thead>\n",
       "  <tbody>\n",
       "    <tr>\n",
       "      <th>0</th>\n",
       "      <td>2018090600</td>\n",
       "      <td>75</td>\n",
       "      <td>-99</td>\n",
       "      <td>0.000819</td>\n",
       "    </tr>\n",
       "    <tr>\n",
       "      <th>17219</th>\n",
       "      <td>2018090600</td>\n",
       "      <td>75</td>\n",
       "      <td>-98</td>\n",
       "      <td>0.001246</td>\n",
       "    </tr>\n",
       "    <tr>\n",
       "      <th>34438</th>\n",
       "      <td>2018090600</td>\n",
       "      <td>75</td>\n",
       "      <td>-97</td>\n",
       "      <td>0.000453</td>\n",
       "    </tr>\n",
       "    <tr>\n",
       "      <th>51657</th>\n",
       "      <td>2018090600</td>\n",
       "      <td>75</td>\n",
       "      <td>-96</td>\n",
       "      <td>0.000246</td>\n",
       "    </tr>\n",
       "    <tr>\n",
       "      <th>68876</th>\n",
       "      <td>2018090600</td>\n",
       "      <td>75</td>\n",
       "      <td>-95</td>\n",
       "      <td>0.000328</td>\n",
       "    </tr>\n",
       "    <tr>\n",
       "      <th>86095</th>\n",
       "      <td>2018090600</td>\n",
       "      <td>75</td>\n",
       "      <td>-94</td>\n",
       "      <td>0.000313</td>\n",
       "    </tr>\n",
       "    <tr>\n",
       "      <th>103314</th>\n",
       "      <td>2018090600</td>\n",
       "      <td>75</td>\n",
       "      <td>-93</td>\n",
       "      <td>0.001084</td>\n",
       "    </tr>\n",
       "    <tr>\n",
       "      <th>120533</th>\n",
       "      <td>2018090600</td>\n",
       "      <td>75</td>\n",
       "      <td>-92</td>\n",
       "      <td>0.000519</td>\n",
       "    </tr>\n",
       "    <tr>\n",
       "      <th>137752</th>\n",
       "      <td>2018090600</td>\n",
       "      <td>75</td>\n",
       "      <td>-91</td>\n",
       "      <td>0.000615</td>\n",
       "    </tr>\n",
       "    <tr>\n",
       "      <th>154971</th>\n",
       "      <td>2018090600</td>\n",
       "      <td>75</td>\n",
       "      <td>-90</td>\n",
       "      <td>0.000179</td>\n",
       "    </tr>\n",
       "  </tbody>\n",
       "</table>\n",
       "</div>"
      ],
      "text/plain": [
       "            gameId  playId  offensePlayResult  probability\n",
       "0       2018090600      75                -99     0.000819\n",
       "17219   2018090600      75                -98     0.001246\n",
       "34438   2018090600      75                -97     0.000453\n",
       "51657   2018090600      75                -96     0.000246\n",
       "68876   2018090600      75                -95     0.000328\n",
       "86095   2018090600      75                -94     0.000313\n",
       "103314  2018090600      75                -93     0.001084\n",
       "120533  2018090600      75                -92     0.000519\n",
       "137752  2018090600      75                -91     0.000615\n",
       "154971  2018090600      75                -90     0.000179"
      ]
     },
     "execution_count": 82,
     "metadata": {},
     "output_type": "execute_result"
    }
   ],
   "source": [
    "full_preds_df3.head(10)"
   ]
  },
  {
   "cell_type": "code",
   "execution_count": 83,
   "metadata": {},
   "outputs": [
    {
     "data": {
      "text/plain": [
       "(3426581, 4)"
      ]
     },
     "execution_count": 83,
     "metadata": {},
     "output_type": "execute_result"
    }
   ],
   "source": [
    "full_preds_df3.shape"
   ]
  },
  {
   "cell_type": "code",
   "execution_count": 84,
   "metadata": {
    "collapsed": true
   },
   "outputs": [],
   "source": [
    "full_preds_df3.to_csv(\"~/Desktop/CoverageNet/src/03_coverageNet/02_score_attempt/outputs/interceptions_yards_probs.csv\", \n",
    "                        index = False)"
   ]
  },
  {
   "cell_type": "code",
   "execution_count": 85,
   "metadata": {},
   "outputs": [
    {
     "name": "stdout",
     "output_type": "stream",
     "text": [
      "WARNING:tensorflow:From /anaconda3/lib/python3.6/site-packages/tensorflow/python/training/tracking/tracking.py:111: Model.state_updates (from tensorflow.python.keras.engine.training) is deprecated and will be removed in a future version.\n",
      "Instructions for updating:\n",
      "This property should not be used in TensorFlow 2.0, as updates are applied automatically.\n",
      "WARNING:tensorflow:From /anaconda3/lib/python3.6/site-packages/tensorflow/python/training/tracking/tracking.py:111: Layer.updates (from tensorflow.python.keras.engine.base_layer) is deprecated and will be removed in a future version.\n",
      "Instructions for updating:\n",
      "This property should not be used in TensorFlow 2.0, as updates are applied automatically.\n",
      "INFO:tensorflow:Assets written to: interceptions_yards_model/assets\n"
     ]
    }
   ],
   "source": [
    "# saving model\n",
    "model.save('interceptions_yards_model')"
   ]
  },
  {
   "cell_type": "code",
   "execution_count": null,
   "metadata": {
    "collapsed": true
   },
   "outputs": [],
   "source": []
  }
 ],
 "metadata": {
  "kernelspec": {
   "display_name": "Python 3",
   "language": "python",
   "name": "python3"
  },
  "language_info": {
   "codemirror_mode": {
    "name": "ipython",
    "version": 3
   },
   "file_extension": ".py",
   "mimetype": "text/x-python",
   "name": "python",
   "nbconvert_exporter": "python",
   "pygments_lexer": "ipython3",
   "version": "3.6.3"
  }
 },
 "nbformat": 4,
 "nbformat_minor": 2
}
