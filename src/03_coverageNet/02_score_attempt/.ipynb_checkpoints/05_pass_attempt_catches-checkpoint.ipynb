{
 "cells": [
  {
   "cell_type": "code",
   "execution_count": 1,
   "metadata": {
    "collapsed": true
   },
   "outputs": [],
   "source": [
    "import numpy as np\n",
    "import pandas as pd\n",
    "import tensorflow as tf\n",
    "from tensorflow.keras import layers\n",
    "import matplotlib.pyplot as plt\n",
    "%matplotlib inline"
   ]
  },
  {
   "cell_type": "code",
   "execution_count": 2,
   "metadata": {},
   "outputs": [
    {
     "data": {
      "text/html": [
       "\n",
       "<style>\n",
       ".output_png {\n",
       "    display: table-cell;\n",
       "    text-align: center;\n",
       "    vertical-align: middle;\n",
       "}\n",
       "</style>\n"
      ],
      "text/plain": [
       "<IPython.core.display.HTML object>"
      ]
     },
     "execution_count": 2,
     "metadata": {},
     "output_type": "execute_result"
    }
   ],
   "source": [
    "from IPython.core.display import HTML\n",
    "HTML(\"\"\"\n",
    "<style>\n",
    ".output_png {\n",
    "    display: table-cell;\n",
    "    text-align: center;\n",
    "    vertical-align: middle;\n",
    "}\n",
    "</style>\n",
    "\"\"\")"
   ]
  },
  {
   "cell_type": "markdown",
   "metadata": {},
   "source": [
    "# Reading in the Data"
   ]
  },
  {
   "cell_type": "code",
   "execution_count": 3,
   "metadata": {
    "collapsed": true
   },
   "outputs": [],
   "source": [
    "yac_data = pd.read_csv(\"~/Desktop/CoverageNet/src/03_coverageNet/02_score_attempt/outputs/pass_complete_training_tensor.csv\")"
   ]
  },
  {
   "cell_type": "code",
   "execution_count": 4,
   "metadata": {
    "scrolled": true
   },
   "outputs": [
    {
     "data": {
      "text/html": [
       "<div>\n",
       "<style scoped>\n",
       "    .dataframe tbody tr th:only-of-type {\n",
       "        vertical-align: middle;\n",
       "    }\n",
       "\n",
       "    .dataframe tbody tr th {\n",
       "        vertical-align: top;\n",
       "    }\n",
       "\n",
       "    .dataframe thead th {\n",
       "        text-align: right;\n",
       "    }\n",
       "</style>\n",
       "<table border=\"1\" class=\"dataframe\">\n",
       "  <thead>\n",
       "    <tr style=\"text-align: right;\">\n",
       "      <th></th>\n",
       "      <th>group</th>\n",
       "      <th>gameId</th>\n",
       "      <th>playId</th>\n",
       "      <th>defense_nflId</th>\n",
       "      <th>offense_nflId</th>\n",
       "      <th>playId3</th>\n",
       "      <th>playId2</th>\n",
       "      <th>defenseId</th>\n",
       "      <th>offenseId</th>\n",
       "      <th>defense_s_x</th>\n",
       "      <th>...</th>\n",
       "      <th>receiver_s_x</th>\n",
       "      <th>receiver_s_y</th>\n",
       "      <th>receiver_distance_from_los</th>\n",
       "      <th>defense_football_x</th>\n",
       "      <th>defense_football_y</th>\n",
       "      <th>receiver_football_x</th>\n",
       "      <th>receiver_football_y</th>\n",
       "      <th>football_s</th>\n",
       "      <th>receiver_football_defender_dist_diff</th>\n",
       "      <th>defender_receiver_football_dist_diff</th>\n",
       "    </tr>\n",
       "  </thead>\n",
       "  <tbody>\n",
       "    <tr>\n",
       "      <th>0</th>\n",
       "      <td>test</td>\n",
       "      <td>2018090600</td>\n",
       "      <td>75</td>\n",
       "      <td>79848</td>\n",
       "      <td>310</td>\n",
       "      <td>1</td>\n",
       "      <td>1</td>\n",
       "      <td>1</td>\n",
       "      <td>1</td>\n",
       "      <td>3.658502</td>\n",
       "      <td>...</td>\n",
       "      <td>2.749019</td>\n",
       "      <td>-1.454302</td>\n",
       "      <td>9.31</td>\n",
       "      <td>12.08</td>\n",
       "      <td>-11.36</td>\n",
       "      <td>16.21</td>\n",
       "      <td>-17.94</td>\n",
       "      <td>2.05</td>\n",
       "      <td>16.409923</td>\n",
       "      <td>-7.596262</td>\n",
       "    </tr>\n",
       "    <tr>\n",
       "      <th>1</th>\n",
       "      <td>test</td>\n",
       "      <td>2018090600</td>\n",
       "      <td>75</td>\n",
       "      <td>79848</td>\n",
       "      <td>2533040</td>\n",
       "      <td>1</td>\n",
       "      <td>1</td>\n",
       "      <td>1</td>\n",
       "      <td>2</td>\n",
       "      <td>3.658502</td>\n",
       "      <td>...</td>\n",
       "      <td>2.749019</td>\n",
       "      <td>-1.454302</td>\n",
       "      <td>9.31</td>\n",
       "      <td>12.08</td>\n",
       "      <td>-11.36</td>\n",
       "      <td>16.21</td>\n",
       "      <td>-17.94</td>\n",
       "      <td>2.05</td>\n",
       "      <td>16.409923</td>\n",
       "      <td>-7.596262</td>\n",
       "    </tr>\n",
       "    <tr>\n",
       "      <th>2</th>\n",
       "      <td>test</td>\n",
       "      <td>2018090600</td>\n",
       "      <td>75</td>\n",
       "      <td>79848</td>\n",
       "      <td>2543583</td>\n",
       "      <td>1</td>\n",
       "      <td>1</td>\n",
       "      <td>1</td>\n",
       "      <td>3</td>\n",
       "      <td>3.658502</td>\n",
       "      <td>...</td>\n",
       "      <td>2.749019</td>\n",
       "      <td>-1.454302</td>\n",
       "      <td>9.31</td>\n",
       "      <td>12.08</td>\n",
       "      <td>-11.36</td>\n",
       "      <td>16.21</td>\n",
       "      <td>-17.94</td>\n",
       "      <td>2.05</td>\n",
       "      <td>16.409923</td>\n",
       "      <td>-7.596262</td>\n",
       "    </tr>\n",
       "    <tr>\n",
       "      <th>3</th>\n",
       "      <td>test</td>\n",
       "      <td>2018090600</td>\n",
       "      <td>75</td>\n",
       "      <td>79848</td>\n",
       "      <td>2555415</td>\n",
       "      <td>1</td>\n",
       "      <td>1</td>\n",
       "      <td>1</td>\n",
       "      <td>4</td>\n",
       "      <td>3.658502</td>\n",
       "      <td>...</td>\n",
       "      <td>2.749019</td>\n",
       "      <td>-1.454302</td>\n",
       "      <td>9.31</td>\n",
       "      <td>12.08</td>\n",
       "      <td>-11.36</td>\n",
       "      <td>16.21</td>\n",
       "      <td>-17.94</td>\n",
       "      <td>2.05</td>\n",
       "      <td>16.409923</td>\n",
       "      <td>-7.596262</td>\n",
       "    </tr>\n",
       "    <tr>\n",
       "      <th>4</th>\n",
       "      <td>test</td>\n",
       "      <td>2018090600</td>\n",
       "      <td>75</td>\n",
       "      <td>79848</td>\n",
       "      <td>2559033</td>\n",
       "      <td>1</td>\n",
       "      <td>1</td>\n",
       "      <td>1</td>\n",
       "      <td>5</td>\n",
       "      <td>3.658502</td>\n",
       "      <td>...</td>\n",
       "      <td>2.749019</td>\n",
       "      <td>-1.454302</td>\n",
       "      <td>9.31</td>\n",
       "      <td>12.08</td>\n",
       "      <td>-11.36</td>\n",
       "      <td>16.21</td>\n",
       "      <td>-17.94</td>\n",
       "      <td>2.05</td>\n",
       "      <td>16.409923</td>\n",
       "      <td>-7.596262</td>\n",
       "    </tr>\n",
       "    <tr>\n",
       "      <th>5</th>\n",
       "      <td>test</td>\n",
       "      <td>2018090600</td>\n",
       "      <td>75</td>\n",
       "      <td>0</td>\n",
       "      <td>0</td>\n",
       "      <td>1</td>\n",
       "      <td>1</td>\n",
       "      <td>1</td>\n",
       "      <td>6</td>\n",
       "      <td>0.000000</td>\n",
       "      <td>...</td>\n",
       "      <td>0.000000</td>\n",
       "      <td>0.000000</td>\n",
       "      <td>0.00</td>\n",
       "      <td>0.00</td>\n",
       "      <td>0.00</td>\n",
       "      <td>0.00</td>\n",
       "      <td>0.00</td>\n",
       "      <td>0.00</td>\n",
       "      <td>0.000000</td>\n",
       "      <td>0.000000</td>\n",
       "    </tr>\n",
       "    <tr>\n",
       "      <th>6</th>\n",
       "      <td>test</td>\n",
       "      <td>2018090600</td>\n",
       "      <td>75</td>\n",
       "      <td>0</td>\n",
       "      <td>0</td>\n",
       "      <td>1</td>\n",
       "      <td>1</td>\n",
       "      <td>1</td>\n",
       "      <td>7</td>\n",
       "      <td>0.000000</td>\n",
       "      <td>...</td>\n",
       "      <td>0.000000</td>\n",
       "      <td>0.000000</td>\n",
       "      <td>0.00</td>\n",
       "      <td>0.00</td>\n",
       "      <td>0.00</td>\n",
       "      <td>0.00</td>\n",
       "      <td>0.00</td>\n",
       "      <td>0.00</td>\n",
       "      <td>0.000000</td>\n",
       "      <td>0.000000</td>\n",
       "    </tr>\n",
       "    <tr>\n",
       "      <th>7</th>\n",
       "      <td>test</td>\n",
       "      <td>2018090600</td>\n",
       "      <td>75</td>\n",
       "      <td>0</td>\n",
       "      <td>0</td>\n",
       "      <td>1</td>\n",
       "      <td>1</td>\n",
       "      <td>1</td>\n",
       "      <td>8</td>\n",
       "      <td>0.000000</td>\n",
       "      <td>...</td>\n",
       "      <td>0.000000</td>\n",
       "      <td>0.000000</td>\n",
       "      <td>0.00</td>\n",
       "      <td>0.00</td>\n",
       "      <td>0.00</td>\n",
       "      <td>0.00</td>\n",
       "      <td>0.00</td>\n",
       "      <td>0.00</td>\n",
       "      <td>0.000000</td>\n",
       "      <td>0.000000</td>\n",
       "    </tr>\n",
       "    <tr>\n",
       "      <th>8</th>\n",
       "      <td>test</td>\n",
       "      <td>2018090600</td>\n",
       "      <td>75</td>\n",
       "      <td>0</td>\n",
       "      <td>0</td>\n",
       "      <td>1</td>\n",
       "      <td>1</td>\n",
       "      <td>1</td>\n",
       "      <td>9</td>\n",
       "      <td>0.000000</td>\n",
       "      <td>...</td>\n",
       "      <td>0.000000</td>\n",
       "      <td>0.000000</td>\n",
       "      <td>0.00</td>\n",
       "      <td>0.00</td>\n",
       "      <td>0.00</td>\n",
       "      <td>0.00</td>\n",
       "      <td>0.00</td>\n",
       "      <td>0.00</td>\n",
       "      <td>0.000000</td>\n",
       "      <td>0.000000</td>\n",
       "    </tr>\n",
       "    <tr>\n",
       "      <th>9</th>\n",
       "      <td>test</td>\n",
       "      <td>2018090600</td>\n",
       "      <td>75</td>\n",
       "      <td>0</td>\n",
       "      <td>0</td>\n",
       "      <td>1</td>\n",
       "      <td>1</td>\n",
       "      <td>1</td>\n",
       "      <td>10</td>\n",
       "      <td>0.000000</td>\n",
       "      <td>...</td>\n",
       "      <td>0.000000</td>\n",
       "      <td>0.000000</td>\n",
       "      <td>0.00</td>\n",
       "      <td>0.00</td>\n",
       "      <td>0.00</td>\n",
       "      <td>0.00</td>\n",
       "      <td>0.00</td>\n",
       "      <td>0.00</td>\n",
       "      <td>0.000000</td>\n",
       "      <td>0.000000</td>\n",
       "    </tr>\n",
       "    <tr>\n",
       "      <th>10</th>\n",
       "      <td>test</td>\n",
       "      <td>2018090600</td>\n",
       "      <td>75</td>\n",
       "      <td>2495613</td>\n",
       "      <td>310</td>\n",
       "      <td>1</td>\n",
       "      <td>1</td>\n",
       "      <td>2</td>\n",
       "      <td>1</td>\n",
       "      <td>2.076452</td>\n",
       "      <td>...</td>\n",
       "      <td>2.749019</td>\n",
       "      <td>-1.454302</td>\n",
       "      <td>9.31</td>\n",
       "      <td>10.88</td>\n",
       "      <td>8.33</td>\n",
       "      <td>16.21</td>\n",
       "      <td>-17.94</td>\n",
       "      <td>2.05</td>\n",
       "      <td>-2.626595</td>\n",
       "      <td>-10.475987</td>\n",
       "    </tr>\n",
       "    <tr>\n",
       "      <th>11</th>\n",
       "      <td>test</td>\n",
       "      <td>2018090600</td>\n",
       "      <td>75</td>\n",
       "      <td>2495613</td>\n",
       "      <td>2533040</td>\n",
       "      <td>1</td>\n",
       "      <td>1</td>\n",
       "      <td>2</td>\n",
       "      <td>2</td>\n",
       "      <td>2.076452</td>\n",
       "      <td>...</td>\n",
       "      <td>2.749019</td>\n",
       "      <td>-1.454302</td>\n",
       "      <td>9.31</td>\n",
       "      <td>10.88</td>\n",
       "      <td>8.33</td>\n",
       "      <td>16.21</td>\n",
       "      <td>-17.94</td>\n",
       "      <td>2.05</td>\n",
       "      <td>-2.626595</td>\n",
       "      <td>-10.475987</td>\n",
       "    </tr>\n",
       "    <tr>\n",
       "      <th>12</th>\n",
       "      <td>test</td>\n",
       "      <td>2018090600</td>\n",
       "      <td>75</td>\n",
       "      <td>2495613</td>\n",
       "      <td>2543583</td>\n",
       "      <td>1</td>\n",
       "      <td>1</td>\n",
       "      <td>2</td>\n",
       "      <td>3</td>\n",
       "      <td>2.076452</td>\n",
       "      <td>...</td>\n",
       "      <td>2.749019</td>\n",
       "      <td>-1.454302</td>\n",
       "      <td>9.31</td>\n",
       "      <td>10.88</td>\n",
       "      <td>8.33</td>\n",
       "      <td>16.21</td>\n",
       "      <td>-17.94</td>\n",
       "      <td>2.05</td>\n",
       "      <td>-2.626595</td>\n",
       "      <td>-10.475987</td>\n",
       "    </tr>\n",
       "    <tr>\n",
       "      <th>13</th>\n",
       "      <td>test</td>\n",
       "      <td>2018090600</td>\n",
       "      <td>75</td>\n",
       "      <td>2495613</td>\n",
       "      <td>2555415</td>\n",
       "      <td>1</td>\n",
       "      <td>1</td>\n",
       "      <td>2</td>\n",
       "      <td>4</td>\n",
       "      <td>2.076452</td>\n",
       "      <td>...</td>\n",
       "      <td>2.749019</td>\n",
       "      <td>-1.454302</td>\n",
       "      <td>9.31</td>\n",
       "      <td>10.88</td>\n",
       "      <td>8.33</td>\n",
       "      <td>16.21</td>\n",
       "      <td>-17.94</td>\n",
       "      <td>2.05</td>\n",
       "      <td>-2.626595</td>\n",
       "      <td>-10.475987</td>\n",
       "    </tr>\n",
       "    <tr>\n",
       "      <th>14</th>\n",
       "      <td>test</td>\n",
       "      <td>2018090600</td>\n",
       "      <td>75</td>\n",
       "      <td>2495613</td>\n",
       "      <td>2559033</td>\n",
       "      <td>1</td>\n",
       "      <td>1</td>\n",
       "      <td>2</td>\n",
       "      <td>5</td>\n",
       "      <td>2.076452</td>\n",
       "      <td>...</td>\n",
       "      <td>2.749019</td>\n",
       "      <td>-1.454302</td>\n",
       "      <td>9.31</td>\n",
       "      <td>10.88</td>\n",
       "      <td>8.33</td>\n",
       "      <td>16.21</td>\n",
       "      <td>-17.94</td>\n",
       "      <td>2.05</td>\n",
       "      <td>-2.626595</td>\n",
       "      <td>-10.475987</td>\n",
       "    </tr>\n",
       "    <tr>\n",
       "      <th>15</th>\n",
       "      <td>test</td>\n",
       "      <td>2018090600</td>\n",
       "      <td>75</td>\n",
       "      <td>0</td>\n",
       "      <td>0</td>\n",
       "      <td>1</td>\n",
       "      <td>1</td>\n",
       "      <td>2</td>\n",
       "      <td>6</td>\n",
       "      <td>0.000000</td>\n",
       "      <td>...</td>\n",
       "      <td>0.000000</td>\n",
       "      <td>0.000000</td>\n",
       "      <td>0.00</td>\n",
       "      <td>0.00</td>\n",
       "      <td>0.00</td>\n",
       "      <td>0.00</td>\n",
       "      <td>0.00</td>\n",
       "      <td>0.00</td>\n",
       "      <td>0.000000</td>\n",
       "      <td>0.000000</td>\n",
       "    </tr>\n",
       "    <tr>\n",
       "      <th>16</th>\n",
       "      <td>test</td>\n",
       "      <td>2018090600</td>\n",
       "      <td>75</td>\n",
       "      <td>0</td>\n",
       "      <td>0</td>\n",
       "      <td>1</td>\n",
       "      <td>1</td>\n",
       "      <td>2</td>\n",
       "      <td>7</td>\n",
       "      <td>0.000000</td>\n",
       "      <td>...</td>\n",
       "      <td>0.000000</td>\n",
       "      <td>0.000000</td>\n",
       "      <td>0.00</td>\n",
       "      <td>0.00</td>\n",
       "      <td>0.00</td>\n",
       "      <td>0.00</td>\n",
       "      <td>0.00</td>\n",
       "      <td>0.00</td>\n",
       "      <td>0.000000</td>\n",
       "      <td>0.000000</td>\n",
       "    </tr>\n",
       "    <tr>\n",
       "      <th>17</th>\n",
       "      <td>test</td>\n",
       "      <td>2018090600</td>\n",
       "      <td>75</td>\n",
       "      <td>0</td>\n",
       "      <td>0</td>\n",
       "      <td>1</td>\n",
       "      <td>1</td>\n",
       "      <td>2</td>\n",
       "      <td>8</td>\n",
       "      <td>0.000000</td>\n",
       "      <td>...</td>\n",
       "      <td>0.000000</td>\n",
       "      <td>0.000000</td>\n",
       "      <td>0.00</td>\n",
       "      <td>0.00</td>\n",
       "      <td>0.00</td>\n",
       "      <td>0.00</td>\n",
       "      <td>0.00</td>\n",
       "      <td>0.00</td>\n",
       "      <td>0.000000</td>\n",
       "      <td>0.000000</td>\n",
       "    </tr>\n",
       "    <tr>\n",
       "      <th>18</th>\n",
       "      <td>test</td>\n",
       "      <td>2018090600</td>\n",
       "      <td>75</td>\n",
       "      <td>0</td>\n",
       "      <td>0</td>\n",
       "      <td>1</td>\n",
       "      <td>1</td>\n",
       "      <td>2</td>\n",
       "      <td>9</td>\n",
       "      <td>0.000000</td>\n",
       "      <td>...</td>\n",
       "      <td>0.000000</td>\n",
       "      <td>0.000000</td>\n",
       "      <td>0.00</td>\n",
       "      <td>0.00</td>\n",
       "      <td>0.00</td>\n",
       "      <td>0.00</td>\n",
       "      <td>0.00</td>\n",
       "      <td>0.00</td>\n",
       "      <td>0.000000</td>\n",
       "      <td>0.000000</td>\n",
       "    </tr>\n",
       "    <tr>\n",
       "      <th>19</th>\n",
       "      <td>test</td>\n",
       "      <td>2018090600</td>\n",
       "      <td>75</td>\n",
       "      <td>0</td>\n",
       "      <td>0</td>\n",
       "      <td>1</td>\n",
       "      <td>1</td>\n",
       "      <td>2</td>\n",
       "      <td>10</td>\n",
       "      <td>0.000000</td>\n",
       "      <td>...</td>\n",
       "      <td>0.000000</td>\n",
       "      <td>0.000000</td>\n",
       "      <td>0.00</td>\n",
       "      <td>0.00</td>\n",
       "      <td>0.00</td>\n",
       "      <td>0.00</td>\n",
       "      <td>0.00</td>\n",
       "      <td>0.00</td>\n",
       "      <td>0.000000</td>\n",
       "      <td>0.000000</td>\n",
       "    </tr>\n",
       "  </tbody>\n",
       "</table>\n",
       "<p>20 rows × 29 columns</p>\n",
       "</div>"
      ],
      "text/plain": [
       "   group      gameId  playId  defense_nflId  offense_nflId  playId3  playId2  \\\n",
       "0   test  2018090600      75          79848            310        1        1   \n",
       "1   test  2018090600      75          79848        2533040        1        1   \n",
       "2   test  2018090600      75          79848        2543583        1        1   \n",
       "3   test  2018090600      75          79848        2555415        1        1   \n",
       "4   test  2018090600      75          79848        2559033        1        1   \n",
       "5   test  2018090600      75              0              0        1        1   \n",
       "6   test  2018090600      75              0              0        1        1   \n",
       "7   test  2018090600      75              0              0        1        1   \n",
       "8   test  2018090600      75              0              0        1        1   \n",
       "9   test  2018090600      75              0              0        1        1   \n",
       "10  test  2018090600      75        2495613            310        1        1   \n",
       "11  test  2018090600      75        2495613        2533040        1        1   \n",
       "12  test  2018090600      75        2495613        2543583        1        1   \n",
       "13  test  2018090600      75        2495613        2555415        1        1   \n",
       "14  test  2018090600      75        2495613        2559033        1        1   \n",
       "15  test  2018090600      75              0              0        1        1   \n",
       "16  test  2018090600      75              0              0        1        1   \n",
       "17  test  2018090600      75              0              0        1        1   \n",
       "18  test  2018090600      75              0              0        1        1   \n",
       "19  test  2018090600      75              0              0        1        1   \n",
       "\n",
       "    defenseId  offenseId  defense_s_x  ...  receiver_s_x  receiver_s_y  \\\n",
       "0           1          1     3.658502  ...      2.749019     -1.454302   \n",
       "1           1          2     3.658502  ...      2.749019     -1.454302   \n",
       "2           1          3     3.658502  ...      2.749019     -1.454302   \n",
       "3           1          4     3.658502  ...      2.749019     -1.454302   \n",
       "4           1          5     3.658502  ...      2.749019     -1.454302   \n",
       "5           1          6     0.000000  ...      0.000000      0.000000   \n",
       "6           1          7     0.000000  ...      0.000000      0.000000   \n",
       "7           1          8     0.000000  ...      0.000000      0.000000   \n",
       "8           1          9     0.000000  ...      0.000000      0.000000   \n",
       "9           1         10     0.000000  ...      0.000000      0.000000   \n",
       "10          2          1     2.076452  ...      2.749019     -1.454302   \n",
       "11          2          2     2.076452  ...      2.749019     -1.454302   \n",
       "12          2          3     2.076452  ...      2.749019     -1.454302   \n",
       "13          2          4     2.076452  ...      2.749019     -1.454302   \n",
       "14          2          5     2.076452  ...      2.749019     -1.454302   \n",
       "15          2          6     0.000000  ...      0.000000      0.000000   \n",
       "16          2          7     0.000000  ...      0.000000      0.000000   \n",
       "17          2          8     0.000000  ...      0.000000      0.000000   \n",
       "18          2          9     0.000000  ...      0.000000      0.000000   \n",
       "19          2         10     0.000000  ...      0.000000      0.000000   \n",
       "\n",
       "    receiver_distance_from_los  defense_football_x  defense_football_y  \\\n",
       "0                         9.31               12.08              -11.36   \n",
       "1                         9.31               12.08              -11.36   \n",
       "2                         9.31               12.08              -11.36   \n",
       "3                         9.31               12.08              -11.36   \n",
       "4                         9.31               12.08              -11.36   \n",
       "5                         0.00                0.00                0.00   \n",
       "6                         0.00                0.00                0.00   \n",
       "7                         0.00                0.00                0.00   \n",
       "8                         0.00                0.00                0.00   \n",
       "9                         0.00                0.00                0.00   \n",
       "10                        9.31               10.88                8.33   \n",
       "11                        9.31               10.88                8.33   \n",
       "12                        9.31               10.88                8.33   \n",
       "13                        9.31               10.88                8.33   \n",
       "14                        9.31               10.88                8.33   \n",
       "15                        0.00                0.00                0.00   \n",
       "16                        0.00                0.00                0.00   \n",
       "17                        0.00                0.00                0.00   \n",
       "18                        0.00                0.00                0.00   \n",
       "19                        0.00                0.00                0.00   \n",
       "\n",
       "    receiver_football_x  receiver_football_y  football_s  \\\n",
       "0                 16.21               -17.94        2.05   \n",
       "1                 16.21               -17.94        2.05   \n",
       "2                 16.21               -17.94        2.05   \n",
       "3                 16.21               -17.94        2.05   \n",
       "4                 16.21               -17.94        2.05   \n",
       "5                  0.00                 0.00        0.00   \n",
       "6                  0.00                 0.00        0.00   \n",
       "7                  0.00                 0.00        0.00   \n",
       "8                  0.00                 0.00        0.00   \n",
       "9                  0.00                 0.00        0.00   \n",
       "10                16.21               -17.94        2.05   \n",
       "11                16.21               -17.94        2.05   \n",
       "12                16.21               -17.94        2.05   \n",
       "13                16.21               -17.94        2.05   \n",
       "14                16.21               -17.94        2.05   \n",
       "15                 0.00                 0.00        0.00   \n",
       "16                 0.00                 0.00        0.00   \n",
       "17                 0.00                 0.00        0.00   \n",
       "18                 0.00                 0.00        0.00   \n",
       "19                 0.00                 0.00        0.00   \n",
       "\n",
       "    receiver_football_defender_dist_diff  defender_receiver_football_dist_diff  \n",
       "0                              16.409923                             -7.596262  \n",
       "1                              16.409923                             -7.596262  \n",
       "2                              16.409923                             -7.596262  \n",
       "3                              16.409923                             -7.596262  \n",
       "4                              16.409923                             -7.596262  \n",
       "5                               0.000000                              0.000000  \n",
       "6                               0.000000                              0.000000  \n",
       "7                               0.000000                              0.000000  \n",
       "8                               0.000000                              0.000000  \n",
       "9                               0.000000                              0.000000  \n",
       "10                             -2.626595                            -10.475987  \n",
       "11                             -2.626595                            -10.475987  \n",
       "12                             -2.626595                            -10.475987  \n",
       "13                             -2.626595                            -10.475987  \n",
       "14                             -2.626595                            -10.475987  \n",
       "15                              0.000000                              0.000000  \n",
       "16                              0.000000                              0.000000  \n",
       "17                              0.000000                              0.000000  \n",
       "18                              0.000000                              0.000000  \n",
       "19                              0.000000                              0.000000  \n",
       "\n",
       "[20 rows x 29 columns]"
      ]
     },
     "execution_count": 4,
     "metadata": {},
     "output_type": "execute_result"
    }
   ],
   "source": [
    "yac_data.head(20)"
   ]
  },
  {
   "cell_type": "code",
   "execution_count": 5,
   "metadata": {},
   "outputs": [
    {
     "data": {
      "text/plain": [
       "(2410540, 29)"
      ]
     },
     "execution_count": 5,
     "metadata": {},
     "output_type": "execute_result"
    }
   ],
   "source": [
    "yac_data.shape"
   ]
  },
  {
   "cell_type": "code",
   "execution_count": 6,
   "metadata": {
    "collapsed": true
   },
   "outputs": [],
   "source": [
    "target_data = pd.read_csv(\"~/Desktop/CoverageNet/src/03_coverageNet/02_score_attempt/outputs/pass_complete_training_target.csv\")"
   ]
  },
  {
   "cell_type": "code",
   "execution_count": 7,
   "metadata": {},
   "outputs": [
    {
     "data": {
      "text/html": [
       "<div>\n",
       "<style scoped>\n",
       "    .dataframe tbody tr th:only-of-type {\n",
       "        vertical-align: middle;\n",
       "    }\n",
       "\n",
       "    .dataframe tbody tr th {\n",
       "        vertical-align: top;\n",
       "    }\n",
       "\n",
       "    .dataframe thead th {\n",
       "        text-align: right;\n",
       "    }\n",
       "</style>\n",
       "<table border=\"1\" class=\"dataframe\">\n",
       "  <thead>\n",
       "    <tr style=\"text-align: right;\">\n",
       "      <th></th>\n",
       "      <th>group</th>\n",
       "      <th>gameId</th>\n",
       "      <th>playId</th>\n",
       "      <th>playId2</th>\n",
       "      <th>playId3</th>\n",
       "      <th>offensePlayResult</th>\n",
       "      <th>offensePlayResult_adj</th>\n",
       "    </tr>\n",
       "  </thead>\n",
       "  <tbody>\n",
       "    <tr>\n",
       "      <th>0</th>\n",
       "      <td>test</td>\n",
       "      <td>2018090600</td>\n",
       "      <td>75</td>\n",
       "      <td>1</td>\n",
       "      <td>1</td>\n",
       "      <td>10</td>\n",
       "      <td>10</td>\n",
       "    </tr>\n",
       "    <tr>\n",
       "      <th>1</th>\n",
       "      <td>test</td>\n",
       "      <td>2018090600</td>\n",
       "      <td>1344</td>\n",
       "      <td>2</td>\n",
       "      <td>13</td>\n",
       "      <td>10</td>\n",
       "      <td>10</td>\n",
       "    </tr>\n",
       "    <tr>\n",
       "      <th>2</th>\n",
       "      <td>test</td>\n",
       "      <td>2018090600</td>\n",
       "      <td>1750</td>\n",
       "      <td>3</td>\n",
       "      <td>17</td>\n",
       "      <td>7</td>\n",
       "      <td>7</td>\n",
       "    </tr>\n",
       "    <tr>\n",
       "      <th>3</th>\n",
       "      <td>test</td>\n",
       "      <td>2018090600</td>\n",
       "      <td>2116</td>\n",
       "      <td>4</td>\n",
       "      <td>20</td>\n",
       "      <td>4</td>\n",
       "      <td>4</td>\n",
       "    </tr>\n",
       "    <tr>\n",
       "      <th>4</th>\n",
       "      <td>test</td>\n",
       "      <td>2018090600</td>\n",
       "      <td>3279</td>\n",
       "      <td>5</td>\n",
       "      <td>30</td>\n",
       "      <td>5</td>\n",
       "      <td>5</td>\n",
       "    </tr>\n",
       "    <tr>\n",
       "      <th>5</th>\n",
       "      <td>test</td>\n",
       "      <td>2018090600</td>\n",
       "      <td>3844</td>\n",
       "      <td>6</td>\n",
       "      <td>33</td>\n",
       "      <td>14</td>\n",
       "      <td>14</td>\n",
       "    </tr>\n",
       "    <tr>\n",
       "      <th>6</th>\n",
       "      <td>test</td>\n",
       "      <td>2018090600</td>\n",
       "      <td>3979</td>\n",
       "      <td>7</td>\n",
       "      <td>36</td>\n",
       "      <td>6</td>\n",
       "      <td>6</td>\n",
       "    </tr>\n",
       "    <tr>\n",
       "      <th>7</th>\n",
       "      <td>test</td>\n",
       "      <td>2018090900</td>\n",
       "      <td>71</td>\n",
       "      <td>8</td>\n",
       "      <td>42</td>\n",
       "      <td>25</td>\n",
       "      <td>25</td>\n",
       "    </tr>\n",
       "    <tr>\n",
       "      <th>8</th>\n",
       "      <td>test</td>\n",
       "      <td>2018090900</td>\n",
       "      <td>622</td>\n",
       "      <td>9</td>\n",
       "      <td>47</td>\n",
       "      <td>3</td>\n",
       "      <td>3</td>\n",
       "    </tr>\n",
       "    <tr>\n",
       "      <th>9</th>\n",
       "      <td>test</td>\n",
       "      <td>2018090900</td>\n",
       "      <td>1823</td>\n",
       "      <td>10</td>\n",
       "      <td>56</td>\n",
       "      <td>10</td>\n",
       "      <td>10</td>\n",
       "    </tr>\n",
       "  </tbody>\n",
       "</table>\n",
       "</div>"
      ],
      "text/plain": [
       "  group      gameId  playId  playId2  playId3  offensePlayResult  \\\n",
       "0  test  2018090600      75        1        1                 10   \n",
       "1  test  2018090600    1344        2       13                 10   \n",
       "2  test  2018090600    1750        3       17                  7   \n",
       "3  test  2018090600    2116        4       20                  4   \n",
       "4  test  2018090600    3279        5       30                  5   \n",
       "5  test  2018090600    3844        6       33                 14   \n",
       "6  test  2018090600    3979        7       36                  6   \n",
       "7  test  2018090900      71        8       42                 25   \n",
       "8  test  2018090900     622        9       47                  3   \n",
       "9  test  2018090900    1823       10       56                 10   \n",
       "\n",
       "   offensePlayResult_adj  \n",
       "0                     10  \n",
       "1                     10  \n",
       "2                      7  \n",
       "3                      4  \n",
       "4                      5  \n",
       "5                     14  \n",
       "6                      6  \n",
       "7                     25  \n",
       "8                      3  \n",
       "9                     10  "
      ]
     },
     "execution_count": 7,
     "metadata": {},
     "output_type": "execute_result"
    }
   ],
   "source": [
    "target_data.head(10)"
   ]
  },
  {
   "cell_type": "markdown",
   "metadata": {},
   "source": [
    "# Formatting the Data"
   ]
  },
  {
   "cell_type": "code",
   "execution_count": 8,
   "metadata": {},
   "outputs": [
    {
     "data": {
      "text/plain": [
       "Index(['group', 'gameId', 'playId', 'defense_nflId', 'offense_nflId',\n",
       "       'playId3', 'playId2', 'defenseId', 'offenseId', 'defense_s_x',\n",
       "       'defense_s_y', 'defense_receiver_x', 'defense_receiver_y',\n",
       "       'defense_receiver_s_x', 'defense_receiver_s_y', 'defense_offense_x',\n",
       "       'defense_offense_y', 'defense_offense_s_x', 'defense_offense_s_y',\n",
       "       'receiver_s_x', 'receiver_s_y', 'receiver_distance_from_los',\n",
       "       'defense_football_x', 'defense_football_y', 'receiver_football_x',\n",
       "       'receiver_football_y', 'football_s',\n",
       "       'receiver_football_defender_dist_diff',\n",
       "       'defender_receiver_football_dist_diff'],\n",
       "      dtype='object')"
      ]
     },
     "execution_count": 8,
     "metadata": {},
     "output_type": "execute_result"
    }
   ],
   "source": [
    "yac_data.columns"
   ]
  },
  {
   "cell_type": "code",
   "execution_count": 9,
   "metadata": {
    "collapsed": true
   },
   "outputs": [],
   "source": [
    "def create_x(data, nfeatures):\n",
    "    # creating a numpy tensor to hold the play data\n",
    "    np_mat = np.array(data.drop(['group', 'gameId', 'playId', 'playId3','defense_nflId', 'offense_nflId'],\n",
    "                               axis = 1))\n",
    "    \n",
    "    # setting parameters\n",
    "    ngames = np.max(np.array(data['playId2']))\n",
    "    nDef = 11\n",
    "    nOff = 10\n",
    "    \n",
    "    # initializing the tensor\n",
    "    np_tensor = np.zeros((ngames, nDef, nOff, nfeatures))\n",
    "    \n",
    "    for row in range(len(np_mat)):\n",
    "        np_tensor[int(np_mat[row][0]) - 1][int(np_mat[row][1]) - 1][int(np_mat[row][2]) - 1] = np_mat[row][3:]\n",
    "    \n",
    "    np_tensor = np_tensor.astype('float32')\n",
    "    \n",
    "    return(np_tensor)"
   ]
  },
  {
   "cell_type": "code",
   "execution_count": 10,
   "metadata": {
    "collapsed": true
   },
   "outputs": [],
   "source": [
    "X_train = create_x(data = yac_data[yac_data[\"group\"] == \"training\"],\n",
    "                  nfeatures = 20)"
   ]
  },
  {
   "cell_type": "code",
   "execution_count": 11,
   "metadata": {},
   "outputs": [
    {
     "data": {
      "text/plain": [
       "(15340, 11, 10, 20)"
      ]
     },
     "execution_count": 11,
     "metadata": {},
     "output_type": "execute_result"
    }
   ],
   "source": [
    "X_train.shape"
   ]
  },
  {
   "cell_type": "code",
   "execution_count": 12,
   "metadata": {},
   "outputs": [
    {
     "data": {
      "text/plain": [
       "array([ 0.41392103, -1.0622003 , -4.07      , -1.2       , -6.5630484 ,\n",
       "       -3.2767656 , 18.34      ,  4.25      ,  0.4396746 , -3.442061  ,\n",
       "        6.9769692 ,  2.2145653 , 13.3       , 18.63      ,  4.79      ,\n",
       "       22.7       ,  5.99      ,  2.81      , 19.233793  , -4.241082  ],\n",
       "      dtype=float32)"
      ]
     },
     "execution_count": 12,
     "metadata": {},
     "output_type": "execute_result"
    }
   ],
   "source": [
    "X_train[0][0][0]"
   ]
  },
  {
   "cell_type": "code",
   "execution_count": 13,
   "metadata": {
    "collapsed": true
   },
   "outputs": [],
   "source": [
    "X_validation = create_x(data = yac_data[(yac_data[\"group\"] == \"validation\")&(yac_data[\"gameId\"] < 20000000000)],\n",
    "                  nfeatures = 20)"
   ]
  },
  {
   "cell_type": "code",
   "execution_count": 14,
   "metadata": {},
   "outputs": [
    {
     "data": {
      "text/plain": [
       "(1643, 11, 10, 20)"
      ]
     },
     "execution_count": 14,
     "metadata": {},
     "output_type": "execute_result"
    }
   ],
   "source": [
    "X_validation.shape"
   ]
  },
  {
   "cell_type": "code",
   "execution_count": 15,
   "metadata": {},
   "outputs": [
    {
     "data": {
      "text/plain": [
       "array([-2.493639 ,  6.828958 , -1.04     ,  7.38     , -4.343713 ,\n",
       "        2.628324 ,  8.82     ,  3.54     , -2.686929 ,  1.952787 ,\n",
       "        1.850074 ,  4.200634 ,  1.36     ,  8.86     ,  4.04     ,\n",
       "        9.9      , -3.34     ,  4.07     ,  2.995315 , -0.7106165],\n",
       "      dtype=float32)"
      ]
     },
     "execution_count": 15,
     "metadata": {},
     "output_type": "execute_result"
    }
   ],
   "source": [
    "X_validation[0][0][0]"
   ]
  },
  {
   "cell_type": "code",
   "execution_count": 16,
   "metadata": {
    "collapsed": true
   },
   "outputs": [],
   "source": [
    "X_test = create_x(data = yac_data[(yac_data[\"group\"] == \"test\")&(yac_data[\"gameId\"] < 20000000000)],\n",
    "                  nfeatures = 20)"
   ]
  },
  {
   "cell_type": "code",
   "execution_count": 17,
   "metadata": {},
   "outputs": [
    {
     "data": {
      "text/plain": [
       "(1644, 11, 10, 20)"
      ]
     },
     "execution_count": 17,
     "metadata": {},
     "output_type": "execute_result"
    }
   ],
   "source": [
    "X_test.shape"
   ]
  },
  {
   "cell_type": "code",
   "execution_count": 18,
   "metadata": {},
   "outputs": [
    {
     "data": {
      "text/plain": [
       "array([  3.6585023 ,  -4.146837  ,  -4.13      ,   6.58      ,\n",
       "         0.90948343,  -2.6925352 ,  11.61      , -11.55      ,\n",
       "         3.2822537 ,  -3.3958135 ,   2.749019  ,  -1.4543022 ,\n",
       "         9.31      ,  12.08      , -11.36      ,  16.21      ,\n",
       "       -17.94      ,   2.05      ,  16.409924  ,  -7.596262  ],\n",
       "      dtype=float32)"
      ]
     },
     "execution_count": 18,
     "metadata": {},
     "output_type": "execute_result"
    }
   ],
   "source": [
    "X_test[0][0][0]"
   ]
  },
  {
   "cell_type": "code",
   "execution_count": 19,
   "metadata": {
    "collapsed": true
   },
   "outputs": [],
   "source": [
    "def create_y(data):\n",
    "    targets = np.array(data[\"offensePlayResult_adj\"])\n",
    "    \n",
    "    y = np.zeros((targets.shape[0], 199))\n",
    "    for idx, target in enumerate(list(targets)):\n",
    "        y[idx][99 + target] = 1\n",
    "    \n",
    "    return(y)"
   ]
  },
  {
   "cell_type": "code",
   "execution_count": 20,
   "metadata": {
    "collapsed": true
   },
   "outputs": [],
   "source": [
    "y_train = create_y(data = target_data[(target_data[\"group\"] == \"training\")])"
   ]
  },
  {
   "cell_type": "code",
   "execution_count": 21,
   "metadata": {},
   "outputs": [
    {
     "data": {
      "text/plain": [
       "(15340, 199)"
      ]
     },
     "execution_count": 21,
     "metadata": {},
     "output_type": "execute_result"
    }
   ],
   "source": [
    "y_train.shape"
   ]
  },
  {
   "cell_type": "code",
   "execution_count": 22,
   "metadata": {},
   "outputs": [
    {
     "data": {
      "text/plain": [
       "array([0., 0., 0., 0., 0., 0., 0., 0., 0., 0., 0., 0., 0., 0., 0., 0., 0.,\n",
       "       0., 0., 0., 0., 0., 0., 0., 0., 0., 0., 0., 0., 0., 0., 0., 0., 0.,\n",
       "       0., 0., 0., 0., 0., 0., 0., 0., 0., 0., 0., 0., 0., 0., 0., 0., 0.,\n",
       "       0., 0., 0., 0., 0., 0., 0., 0., 0., 0., 0., 0., 0., 0., 0., 0., 0.,\n",
       "       0., 0., 0., 0., 0., 0., 0., 0., 0., 0., 0., 0., 0., 0., 0., 0., 0.,\n",
       "       0., 0., 0., 0., 0., 0., 0., 0., 0., 0., 0., 0., 0., 0., 0., 0., 0.,\n",
       "       0., 0., 0., 0., 0., 0., 0., 0., 0., 0., 0., 0., 0., 0., 0., 0., 0.,\n",
       "       0., 0., 0., 0., 0., 0., 0., 0., 0., 0., 0., 0., 0., 1., 0., 0., 0.,\n",
       "       0., 0., 0., 0., 0., 0., 0., 0., 0., 0., 0., 0., 0., 0., 0., 0., 0.,\n",
       "       0., 0., 0., 0., 0., 0., 0., 0., 0., 0., 0., 0., 0., 0., 0., 0., 0.,\n",
       "       0., 0., 0., 0., 0., 0., 0., 0., 0., 0., 0., 0., 0., 0., 0., 0., 0.,\n",
       "       0., 0., 0., 0., 0., 0., 0., 0., 0., 0., 0., 0.])"
      ]
     },
     "execution_count": 22,
     "metadata": {},
     "output_type": "execute_result"
    }
   ],
   "source": [
    "y_train[0]"
   ]
  },
  {
   "cell_type": "code",
   "execution_count": 23,
   "metadata": {
    "collapsed": true
   },
   "outputs": [],
   "source": [
    "y_validation = create_y(data = target_data[(target_data[\"group\"] == \"validation\")&(target_data[\"gameId\"] < 20000000000)])"
   ]
  },
  {
   "cell_type": "code",
   "execution_count": 24,
   "metadata": {},
   "outputs": [
    {
     "data": {
      "text/plain": [
       "(1643, 199)"
      ]
     },
     "execution_count": 24,
     "metadata": {},
     "output_type": "execute_result"
    }
   ],
   "source": [
    "y_validation.shape"
   ]
  },
  {
   "cell_type": "code",
   "execution_count": 25,
   "metadata": {
    "collapsed": true
   },
   "outputs": [],
   "source": [
    "y_test = create_y(data = target_data[(target_data[\"group\"] == \"test\") & (target_data[\"gameId\"] < 20000000000)])"
   ]
  },
  {
   "cell_type": "code",
   "execution_count": 26,
   "metadata": {},
   "outputs": [
    {
     "data": {
      "text/plain": [
       "(1644, 199)"
      ]
     },
     "execution_count": 26,
     "metadata": {},
     "output_type": "execute_result"
    }
   ],
   "source": [
    "y_test.shape"
   ]
  },
  {
   "cell_type": "code",
   "execution_count": 27,
   "metadata": {},
   "outputs": [
    {
     "data": {
      "text/plain": [
       "array([0., 0., 0., 0., 0., 0., 0., 0., 0., 0., 0., 0., 0., 0., 0., 0., 0.,\n",
       "       0., 0., 0., 0., 0., 0., 0., 0., 0., 0., 0., 0., 0., 0., 0., 0., 0.,\n",
       "       0., 0., 0., 0., 0., 0., 0., 0., 0., 0., 0., 0., 0., 0., 0., 0., 0.,\n",
       "       0., 0., 0., 0., 0., 0., 0., 0., 0., 0., 0., 0., 0., 0., 0., 0., 0.,\n",
       "       0., 0., 0., 0., 0., 0., 0., 0., 0., 0., 0., 0., 0., 0., 0., 0., 0.,\n",
       "       0., 0., 0., 0., 0., 0., 0., 0., 0., 0., 0., 0., 0., 0., 0., 0., 0.,\n",
       "       0., 0., 0., 0., 0., 0., 0., 1., 0., 0., 0., 0., 0., 0., 0., 0., 0.,\n",
       "       0., 0., 0., 0., 0., 0., 0., 0., 0., 0., 0., 0., 0., 0., 0., 0., 0.,\n",
       "       0., 0., 0., 0., 0., 0., 0., 0., 0., 0., 0., 0., 0., 0., 0., 0., 0.,\n",
       "       0., 0., 0., 0., 0., 0., 0., 0., 0., 0., 0., 0., 0., 0., 0., 0., 0.,\n",
       "       0., 0., 0., 0., 0., 0., 0., 0., 0., 0., 0., 0., 0., 0., 0., 0., 0.,\n",
       "       0., 0., 0., 0., 0., 0., 0., 0., 0., 0., 0., 0.])"
      ]
     },
     "execution_count": 27,
     "metadata": {},
     "output_type": "execute_result"
    }
   ],
   "source": [
    "y_test[0]"
   ]
  },
  {
   "cell_type": "markdown",
   "metadata": {},
   "source": [
    "# Training a Convolutional Neural Network Model"
   ]
  },
  {
   "cell_type": "code",
   "execution_count": 29,
   "metadata": {
    "collapsed": true
   },
   "outputs": [],
   "source": [
    "model = tf.keras.Sequential()"
   ]
  },
  {
   "cell_type": "code",
   "execution_count": 30,
   "metadata": {
    "collapsed": true
   },
   "outputs": [],
   "source": [
    "# first convolutional neural network\n",
    "model.add(layers.Conv2D(128, \n",
    "                        kernel_size=(1,1), \n",
    "                        strides=(1,1), \n",
    "                        input_shape = (11,10,20)))\n",
    "model.add(layers.Activation('relu'))\n",
    "model.add(layers.Conv2D(160, \n",
    "                        kernel_size=(1,1), \n",
    "                        strides=(1,1)))\n",
    "model.add(layers.Activation('relu'))\n",
    "model.add(layers.Conv2D(128, \n",
    "                        kernel_size=(1,1), \n",
    "                        strides=(1,1)))\n",
    "model.add(layers.Activation('relu'))\n",
    "\n",
    "import tensorflow.keras.backend as K\n",
    "\n",
    "def channelPool(x):\n",
    "    return .5*K.max(x,axis=2) + .5*K.mean(x,axis=2)\n",
    "\n",
    "model.add(layers.Lambda(channelPool))"
   ]
  },
  {
   "cell_type": "code",
   "execution_count": 31,
   "metadata": {
    "collapsed": true
   },
   "outputs": [],
   "source": [
    "# second convolutional neural network\n",
    "model.add(layers.BatchNormalization())\n",
    "model.add(layers.Conv1D(160, \n",
    "                        kernel_size=1, \n",
    "                        strides=1))\n",
    "model.add(layers.Activation('relu'))\n",
    "model.add(layers.BatchNormalization())\n",
    "model.add(layers.Conv1D(196, \n",
    "                        kernel_size=1, \n",
    "                        strides=1))\n",
    "model.add(layers.Activation('relu'))\n",
    "model.add(layers.BatchNormalization())\n",
    "model.add(layers.Conv1D(196, \n",
    "                        kernel_size=1, \n",
    "                        strides=1))\n",
    "model.add(layers.Activation('relu'))\n",
    "model.add(layers.BatchNormalization())\n",
    "# model.add(layers.AvgPool2D(pool_size=(11, 1)))\n",
    "\n",
    "def channelPool(x):\n",
    "    return .5*K.max(x,axis=1) + .5*K.mean(x,axis=1)\n",
    "\n",
    "model.add(layers.Lambda(channelPool))"
   ]
  },
  {
   "cell_type": "code",
   "execution_count": 32,
   "metadata": {
    "collapsed": true
   },
   "outputs": [],
   "source": [
    "model.add(layers.Flatten())\n",
    "model.add(layers.Dense(96))\n",
    "model.add(layers.Activation('relu'))\n",
    "model.add(layers.BatchNormalization())\n",
    "model.add(layers.Dense(256))\n",
    "model.add(layers.Activation('relu'))\n",
    "model.add(layers.BatchNormalization())\n",
    "model.add(layers.Dropout(0.3))\n",
    "model.add(layers.Dense(199))\n",
    "model.add(layers.Activation('softmax'))"
   ]
  },
  {
   "cell_type": "code",
   "execution_count": 33,
   "metadata": {
    "scrolled": true
   },
   "outputs": [
    {
     "name": "stdout",
     "output_type": "stream",
     "text": [
      "Model: \"sequential\"\n",
      "_________________________________________________________________\n",
      "Layer (type)                 Output Shape              Param #   \n",
      "=================================================================\n",
      "conv2d (Conv2D)              (None, 11, 10, 128)       2688      \n",
      "_________________________________________________________________\n",
      "activation (Activation)      (None, 11, 10, 128)       0         \n",
      "_________________________________________________________________\n",
      "conv2d_1 (Conv2D)            (None, 11, 10, 160)       20640     \n",
      "_________________________________________________________________\n",
      "activation_1 (Activation)    (None, 11, 10, 160)       0         \n",
      "_________________________________________________________________\n",
      "conv2d_2 (Conv2D)            (None, 11, 10, 128)       20608     \n",
      "_________________________________________________________________\n",
      "activation_2 (Activation)    (None, 11, 10, 128)       0         \n",
      "_________________________________________________________________\n",
      "lambda (Lambda)              (None, 11, 128)           0         \n",
      "_________________________________________________________________\n",
      "batch_normalization (BatchNo (None, 11, 128)           512       \n",
      "_________________________________________________________________\n",
      "conv1d (Conv1D)              (None, 11, 160)           20640     \n",
      "_________________________________________________________________\n",
      "activation_3 (Activation)    (None, 11, 160)           0         \n",
      "_________________________________________________________________\n",
      "batch_normalization_1 (Batch (None, 11, 160)           640       \n",
      "_________________________________________________________________\n",
      "conv1d_1 (Conv1D)            (None, 11, 196)           31556     \n",
      "_________________________________________________________________\n",
      "activation_4 (Activation)    (None, 11, 196)           0         \n",
      "_________________________________________________________________\n",
      "batch_normalization_2 (Batch (None, 11, 196)           784       \n",
      "_________________________________________________________________\n",
      "conv1d_2 (Conv1D)            (None, 11, 196)           38612     \n",
      "_________________________________________________________________\n",
      "activation_5 (Activation)    (None, 11, 196)           0         \n",
      "_________________________________________________________________\n",
      "batch_normalization_3 (Batch (None, 11, 196)           784       \n",
      "_________________________________________________________________\n",
      "lambda_1 (Lambda)            (None, 196)               0         \n",
      "_________________________________________________________________\n",
      "flatten (Flatten)            (None, 196)               0         \n",
      "_________________________________________________________________\n",
      "dense (Dense)                (None, 96)                18912     \n",
      "_________________________________________________________________\n",
      "activation_6 (Activation)    (None, 96)                0         \n",
      "_________________________________________________________________\n",
      "batch_normalization_4 (Batch (None, 96)                384       \n",
      "_________________________________________________________________\n",
      "dense_1 (Dense)              (None, 256)               24832     \n",
      "_________________________________________________________________\n",
      "activation_7 (Activation)    (None, 256)               0         \n",
      "_________________________________________________________________\n",
      "batch_normalization_5 (Batch (None, 256)               1024      \n",
      "_________________________________________________________________\n",
      "dropout (Dropout)            (None, 256)               0         \n",
      "_________________________________________________________________\n",
      "dense_2 (Dense)              (None, 199)               51143     \n",
      "_________________________________________________________________\n",
      "activation_8 (Activation)    (None, 199)               0         \n",
      "=================================================================\n",
      "Total params: 233,759\n",
      "Trainable params: 231,695\n",
      "Non-trainable params: 2,064\n",
      "_________________________________________________________________\n"
     ]
    }
   ],
   "source": [
    "model.summary()"
   ]
  },
  {
   "cell_type": "code",
   "execution_count": 30,
   "metadata": {
    "collapsed": true
   },
   "outputs": [],
   "source": [
    "import tensorflow.keras.backend as K\n",
    "def crps(y_true, y_pred):\n",
    "    y_pred =  K.cumsum(y_pred, axis=1)\n",
    "    ym =  K.cast(K.reshape(K.argmax(y_true, axis=1) - 99, (-1, 1)), \n",
    "        dtype='int32')\n",
    "    n = K.arange(-99, 100)\n",
    "    step = K.cast(K.greater_equal(n - ym, 0), dtype='float32')\n",
    "    return K.mean(K.sum(K.square(y_pred - step), axis=1)) / 199"
   ]
  },
  {
   "cell_type": "code",
   "execution_count": 35,
   "metadata": {
    "collapsed": true
   },
   "outputs": [],
   "source": [
    "from tensorflow.keras.callbacks import EarlyStopping,  ModelCheckpoint"
   ]
  },
  {
   "cell_type": "code",
   "execution_count": 36,
   "metadata": {
    "collapsed": true
   },
   "outputs": [],
   "source": [
    "from tensorflow.keras.optimizers import Adam\n",
    "model.compile(loss=[crps], metrics=[crps], optimizer='adam')"
   ]
  },
  {
   "cell_type": "code",
   "execution_count": 37,
   "metadata": {
    "scrolled": true
   },
   "outputs": [
    {
     "name": "stdout",
     "output_type": "stream",
     "text": [
      "Epoch 1/20\n",
      "480/480 [==============================] - 16s 33ms/step - loss: 0.0229 - crps: 0.0229 - val_loss: 0.0178 - val_crps: 0.0176\n",
      "Epoch 2/20\n",
      "480/480 [==============================] - 17s 36ms/step - loss: 0.0171 - crps: 0.0171 - val_loss: 0.0159 - val_crps: 0.0158\n",
      "Epoch 3/20\n",
      "480/480 [==============================] - 17s 35ms/step - loss: 0.0158 - crps: 0.0158 - val_loss: 0.0153 - val_crps: 0.0153\n",
      "Epoch 4/20\n",
      "480/480 [==============================] - 16s 34ms/step - loss: 0.0151 - crps: 0.0151 - val_loss: 0.0151 - val_crps: 0.0150\n",
      "Epoch 5/20\n",
      "480/480 [==============================] - 18s 37ms/step - loss: 0.0148 - crps: 0.0148 - val_loss: 0.0138 - val_crps: 0.0137\n",
      "Epoch 6/20\n",
      "480/480 [==============================] - 17s 35ms/step - loss: 0.0145 - crps: 0.0145 - val_loss: 0.0148 - val_crps: 0.0147 0.0145 - crps: \n",
      "Epoch 7/20\n",
      "480/480 [==============================] - 17s 36ms/step - loss: 0.0143 - crps: 0.0143 - val_loss: 0.0139 - val_crps: 0.0139\n",
      "Epoch 8/20\n",
      "480/480 [==============================] - 16s 34ms/step - loss: 0.0140 - crps: 0.0140 - val_loss: 0.0136 - val_crps: 0.0136\n",
      "Epoch 9/20\n",
      "480/480 [==============================] - 16s 34ms/step - loss: 0.0140 - crps: 0.0140 - val_loss: 0.0143 - val_crps: 0.0142\n",
      "Epoch 10/20\n",
      "480/480 [==============================] - 16s 34ms/step - loss: 0.0138 - crps: 0.0138 - val_loss: 0.0140 - val_crps: 0.0139\n",
      "Epoch 11/20\n",
      "480/480 [==============================] - 16s 34ms/step - loss: 0.0137 - crps: 0.0137 - val_loss: 0.0140 - val_crps: 0.0140\n",
      "Epoch 12/20\n",
      "480/480 [==============================] - 16s 34ms/step - loss: 0.0137 - crps: 0.0137 - val_loss: 0.0146 - val_crps: 0.0145\n",
      "Epoch 13/20\n",
      "480/480 [==============================] - 19s 40ms/step - loss: 0.0135 - crps: 0.0135 - val_loss: 0.0145 - val_crps: 0.0144\n",
      "Epoch 14/20\n",
      "480/480 [==============================] - 20s 43ms/step - loss: 0.0134 - crps: 0.0134 - val_loss: 0.0135 - val_crps: 0.0134\n",
      "Epoch 15/20\n",
      "480/480 [==============================] - 19s 40ms/step - loss: 0.0132 - crps: 0.0132 - val_loss: 0.0138 - val_crps: 0.0138\n",
      "Epoch 16/20\n",
      "480/480 [==============================] - 18s 37ms/step - loss: 0.0132 - crps: 0.0132 - val_loss: 0.0151 - val_crps: 0.0150\n",
      "Epoch 17/20\n",
      "480/480 [==============================] - 17s 35ms/step - loss: 0.0130 - crps: 0.0130 - val_loss: 0.0136 - val_crps: 0.0136\n",
      "Epoch 18/20\n",
      "480/480 [==============================] - 18s 37ms/step - loss: 0.0128 - crps: 0.0128 - val_loss: 0.0138 - val_crps: 0.0138\n",
      "Epoch 19/20\n",
      "480/480 [==============================] - 16s 34ms/step - loss: 0.0129 - crps: 0.0129 - val_loss: 0.0139 - val_crps: 0.0138\n",
      "Epoch 20/20\n",
      "480/480 [==============================] - 17s 36ms/step - loss: 0.0128 - crps: 0.0128 - val_loss: 0.0135 - val_crps: 0.0135\n"
     ]
    }
   ],
   "source": [
    "history = model.fit(X_train, y_train,\n",
    "                   validation_data = (X_validation, y_validation),\n",
    "                   # batch_size = 64,\n",
    "                   epochs = 20,\n",
    "                   verbose = 1)"
   ]
  },
  {
   "cell_type": "code",
   "execution_count": 38,
   "metadata": {},
   "outputs": [
    {
     "name": "stdout",
     "output_type": "stream",
     "text": [
      "52/52 [==============================] - 0s 9ms/step - loss: 0.0131 - crps: 0.0130\n"
     ]
    },
    {
     "data": {
      "text/plain": [
       "[0.0130676981061697, 0.013025712221860886]"
      ]
     },
     "execution_count": 38,
     "metadata": {},
     "output_type": "execute_result"
    }
   ],
   "source": [
    "model.evaluate(X_test, y_test)"
   ]
  },
  {
   "cell_type": "markdown",
   "metadata": {},
   "source": [
    "# Examining Results\n",
    "\n",
    "The plays analyzed are part of the holdout set, so the CNN model did not ever see the data in training, or indirectly through optimizing the crps of the cross-validation set."
   ]
  },
  {
   "cell_type": "markdown",
   "metadata": {},
   "source": [
    "### Play that Went For Negative Yardage"
   ]
  },
  {
   "attachments": {
    "245dcac0-b91c-46d0-b77b-e5b350003ac3.png": {
     "image/png": "[encoded data removed]"
    }
   },
   "cell_type": "markdown",
   "metadata": {},
   "source": [
    "![245dcac0-b91c-46d0-b77b-e5b350003ac3.png](attachment:245dcac0-b91c-46d0-b77b-e5b350003ac3.png)"
   ]
  },
  {
   "cell_type": "code",
   "execution_count": 39,
   "metadata": {},
   "outputs": [
    {
     "data": {
      "text/plain": [
       "152"
      ]
     },
     "execution_count": 39,
     "metadata": {},
     "output_type": "execute_result"
    }
   ],
   "source": [
    "yac_data[(yac_data[\"gameId\"] == 2018091606) & (yac_data[\"playId\"] == 1712)][\"playId2\"].iloc[0]"
   ]
  },
  {
   "cell_type": "code",
   "execution_count": 40,
   "metadata": {},
   "outputs": [
    {
     "name": "stdout",
     "output_type": "stream",
     "text": [
      "The actual result of the play was a -1 gain.\n"
     ]
    }
   ],
   "source": [
    "yards = target_data[(target_data[\"gameId\"] == 2018091606) & (target_data[\"playId\"] == 1712)][\"offensePlayResult\"].iloc[0]\n",
    "print(\"The actual result of the play was a \" + str(yards) + \" gain.\")"
   ]
  },
  {
   "cell_type": "code",
   "execution_count": 41,
   "metadata": {},
   "outputs": [
    {
     "data": {
      "text/plain": [
       "-1"
      ]
     },
     "execution_count": 41,
     "metadata": {},
     "output_type": "execute_result"
    }
   ],
   "source": [
    "np.argmax(y_test[152-1]) - 99"
   ]
  },
  {
   "cell_type": "code",
   "execution_count": 43,
   "metadata": {},
   "outputs": [
    {
     "data": {
      "image/png": "[encoded data removed]",
      "text/plain": [
       "<matplotlib.figure.Figure at 0x1044c2400>"
      ]
     },
     "metadata": {},
     "output_type": "display_data"
    }
   ],
   "source": [
    "plt.plot(np.arange(-99,100), model.predict(X_test)[151], 'b-')\n",
    "plt.xlim(-5,20)\n",
    "plt.ylim(0,1)\n",
    "plt.show()"
   ]
  },
  {
   "cell_type": "code",
   "execution_count": 46,
   "metadata": {},
   "outputs": [
    {
     "data": {
      "text/plain": [
       "5.452471567232351"
      ]
     },
     "execution_count": 46,
     "metadata": {},
     "output_type": "execute_result"
    }
   ],
   "source": [
    "# yardage prediction\n",
    "model.predict(X_test)[151].dot(np.arange(-99,100))"
   ]
  },
  {
   "cell_type": "markdown",
   "metadata": {},
   "source": [
    "### Play that Went For No Yardage"
   ]
  },
  {
   "attachments": {
    "169b8316-2590-4b90-8069-5ab753e70537.png": {
     "image/png": "[encoded data removed]"
    }
   },
   "cell_type": "markdown",
   "metadata": {},
   "source": [
    "![169b8316-2590-4b90-8069-5ab753e70537.png](attachment:169b8316-2590-4b90-8069-5ab753e70537.png)"
   ]
  },
  {
   "cell_type": "code",
   "execution_count": 56,
   "metadata": {},
   "outputs": [
    {
     "data": {
      "text/plain": [
       "290"
      ]
     },
     "execution_count": 56,
     "metadata": {},
     "output_type": "execute_result"
    }
   ],
   "source": [
    "yac_data[(yac_data[\"gameId\"] == 2018092309) & (yac_data[\"playId\"] == 1335)][\"playId2\"].iloc[0]"
   ]
  },
  {
   "cell_type": "code",
   "execution_count": 59,
   "metadata": {},
   "outputs": [
    {
     "name": "stdout",
     "output_type": "stream",
     "text": [
      "The actual result of the play was a 0 gain.\n"
     ]
    }
   ],
   "source": [
    "yards = target_data[(target_data[\"gameId\"] == 2018092309) & (target_data[\"playId\"] == 1335)][\"offensePlayResult\"].iloc[0]\n",
    "print(\"The actual result of the play was a \" + str(yards) + \" gain.\")"
   ]
  },
  {
   "cell_type": "code",
   "execution_count": 49,
   "metadata": {},
   "outputs": [
    {
     "data": {
      "text/plain": [
       "0"
      ]
     },
     "execution_count": 49,
     "metadata": {},
     "output_type": "execute_result"
    }
   ],
   "source": [
    "np.argmax(y_test[261-1]) - 99"
   ]
  },
  {
   "cell_type": "code",
   "execution_count": 57,
   "metadata": {},
   "outputs": [
    {
     "data": {
      "image/png": "[encoded data removed]",
      "text/plain": [
       "<matplotlib.figure.Figure at 0x143664f28>"
      ]
     },
     "metadata": {},
     "output_type": "display_data"
    }
   ],
   "source": [
    "plt.plot(np.arange(-99,100), model.predict(X_test)[289], 'b-')\n",
    "plt.xlim(-5,15)\n",
    "plt.ylim(0,1)\n",
    "plt.show()"
   ]
  },
  {
   "cell_type": "code",
   "execution_count": 58,
   "metadata": {},
   "outputs": [
    {
     "data": {
      "text/plain": [
       "5.802445861501383"
      ]
     },
     "execution_count": 58,
     "metadata": {},
     "output_type": "execute_result"
    }
   ],
   "source": [
    "# yardage prediction\n",
    "model.predict(X_test)[289].dot(np.arange(-99,100))"
   ]
  },
  {
   "cell_type": "markdown",
   "metadata": {},
   "source": [
    "### Play that Went For 10 Yards"
   ]
  },
  {
   "attachments": {
    "8fb78717-7d93-422c-9d32-49c7be43d7b5.png": {
     "image/png": "[encoded data removed]"
    }
   },
   "cell_type": "markdown",
   "metadata": {},
   "source": [
    "![8fb78717-7d93-422c-9d32-49c7be43d7b5.png](attachment:8fb78717-7d93-422c-9d32-49c7be43d7b5.png)"
   ]
  },
  {
   "cell_type": "code",
   "execution_count": 60,
   "metadata": {},
   "outputs": [
    {
     "data": {
      "text/plain": [
       "38"
      ]
     },
     "execution_count": 60,
     "metadata": {},
     "output_type": "execute_result"
    }
   ],
   "source": [
    "yac_data[(yac_data[\"gameId\"] == 2018090905) & (yac_data[\"playId\"] == 1601)][\"playId2\"].iloc[0]"
   ]
  },
  {
   "cell_type": "code",
   "execution_count": 4,
   "metadata": {},
   "outputs": [
    {
     "data": {
      "text/plain": [
       "5.13"
      ]
     },
     "execution_count": 4,
     "metadata": {},
     "output_type": "execute_result"
    }
   ],
   "source": [
    "yac_data[(yac_data[\"gameId\"] == 2018090905) & (yac_data[\"playId\"] == 1601)][\"receiver_distance_from_los\"].iloc[0]"
   ]
  },
  {
   "cell_type": "code",
   "execution_count": 61,
   "metadata": {},
   "outputs": [
    {
     "name": "stdout",
     "output_type": "stream",
     "text": [
      "The actual result of the play was a 10 gain.\n"
     ]
    }
   ],
   "source": [
    "yards = target_data[(target_data[\"gameId\"] == 2018090905) & (target_data[\"playId\"] == 1601)][\"offensePlayResult\"].iloc[0]\n",
    "print(\"The actual result of the play was a \" + str(yards) + \" gain.\")"
   ]
  },
  {
   "cell_type": "code",
   "execution_count": 62,
   "metadata": {},
   "outputs": [
    {
     "data": {
      "text/plain": [
       "10"
      ]
     },
     "execution_count": 62,
     "metadata": {},
     "output_type": "execute_result"
    }
   ],
   "source": [
    "np.argmax(y_test[38-1]) - 99"
   ]
  },
  {
   "cell_type": "code",
   "execution_count": 63,
   "metadata": {},
   "outputs": [
    {
     "data": {
      "image/png": "[encoded data removed]",
      "text/plain": [
       "<matplotlib.figure.Figure at 0x1044c2b00>"
      ]
     },
     "metadata": {},
     "output_type": "display_data"
    }
   ],
   "source": [
    "plt.plot(np.arange(-99,100), model.predict(X_test)[37], 'b-')\n",
    "plt.xlim(-5,20)\n",
    "plt.ylim(0,.5)\n",
    "plt.show()"
   ]
  },
  {
   "cell_type": "code",
   "execution_count": 64,
   "metadata": {},
   "outputs": [
    {
     "data": {
      "text/plain": [
       "11.529253143088681"
      ]
     },
     "execution_count": 64,
     "metadata": {},
     "output_type": "execute_result"
    }
   ],
   "source": [
    "# yardage prediction\n",
    "model.predict(X_test)[37].dot(np.arange(-99,100))"
   ]
  },
  {
   "cell_type": "markdown",
   "metadata": {},
   "source": [
    "### Play that Went For 30+ Yards"
   ]
  },
  {
   "attachments": {
    "417da9d7-f342-41e6-827f-790d10769754.png": {
     "image/png": "[encoded data removed]"
    }
   },
   "cell_type": "markdown",
   "metadata": {},
   "source": [
    "![417da9d7-f342-41e6-827f-790d10769754.png](attachment:417da9d7-f342-41e6-827f-790d10769754.png)"
   ]
  },
  {
   "cell_type": "code",
   "execution_count": 32,
   "metadata": {},
   "outputs": [
    {
     "data": {
      "text/plain": [
       "620"
      ]
     },
     "execution_count": 32,
     "metadata": {},
     "output_type": "execute_result"
    }
   ],
   "source": [
    "yac_data[(yac_data[\"gameId\"] == 2018101500) & (yac_data[\"playId\"] == 1604)][\"playId2\"].iloc[0]"
   ]
  },
  {
   "cell_type": "code",
   "execution_count": 33,
   "metadata": {},
   "outputs": [
    {
     "name": "stdout",
     "output_type": "stream",
     "text": [
      "The actual result of the play was a 30 gain.\n"
     ]
    }
   ],
   "source": [
    "yards = target_data[(target_data[\"gameId\"] == 2018101500) & (target_data[\"playId\"] == 1604)][\"offensePlayResult\"].iloc[0]\n",
    "print(\"The actual result of the play was a \" + str(yards) + \" gain.\")"
   ]
  },
  {
   "cell_type": "code",
   "execution_count": 34,
   "metadata": {},
   "outputs": [
    {
     "data": {
      "text/plain": [
       "16.04"
      ]
     },
     "execution_count": 34,
     "metadata": {},
     "output_type": "execute_result"
    }
   ],
   "source": [
    "yac_data[(yac_data[\"gameId\"] == 2018101500) & (yac_data[\"playId\"] == 1604)][\"receiver_distance_from_los\"].iloc[0]"
   ]
  },
  {
   "cell_type": "code",
   "execution_count": 35,
   "metadata": {},
   "outputs": [
    {
     "data": {
      "text/plain": [
       "30"
      ]
     },
     "execution_count": 35,
     "metadata": {},
     "output_type": "execute_result"
    }
   ],
   "source": [
    "np.argmax(y_test[620-1]) - 99"
   ]
  },
  {
   "cell_type": "code",
   "execution_count": 68,
   "metadata": {},
   "outputs": [
    {
     "data": {
      "image/png": "[encoded data removed]",
      "text/plain": [
       "<matplotlib.figure.Figure at 0x143aa0c50>"
      ]
     },
     "metadata": {},
     "output_type": "display_data"
    }
   ],
   "source": [
    "plt.plot(np.arange(-99,100), model.predict(X_test)[619], 'b-')\n",
    "plt.xlim(-5,40)\n",
    "plt.ylim(0,.5)\n",
    "plt.show()"
   ]
  },
  {
   "cell_type": "code",
   "execution_count": 36,
   "metadata": {},
   "outputs": [
    {
     "data": {
      "image/png": "[encoded data removed]",
      "text/plain": [
       "<matplotlib.figure.Figure at 0x13d620c50>"
      ]
     },
     "metadata": {},
     "output_type": "display_data"
    }
   ],
   "source": [
    "plt.plot(np.arange(-99,100), model_caught_yards.predict(X_test)[619], 'b-')\n",
    "plt.xlim(-5,40)\n",
    "plt.ylim(0,.5)\n",
    "plt.show()"
   ]
  },
  {
   "cell_type": "code",
   "execution_count": 69,
   "metadata": {},
   "outputs": [
    {
     "data": {
      "text/plain": [
       "17.576195511096557"
      ]
     },
     "execution_count": 69,
     "metadata": {},
     "output_type": "execute_result"
    }
   ],
   "source": [
    "# yardage prediction\n",
    "model.predict(X_test)[619].dot(np.arange(-99,100))"
   ]
  },
  {
   "cell_type": "markdown",
   "metadata": {},
   "source": [
    "# Scoring Entire Data Set"
   ]
  },
  {
   "cell_type": "code",
   "execution_count": 37,
   "metadata": {
    "collapsed": true
   },
   "outputs": [],
   "source": [
    "pass_arrived_score = pd.read_csv(\"~/Desktop/CoverageNet/src/03_coverageNet/02_score_attempt/outputs/pass_attempt_score_tensor.csv\")"
   ]
  },
  {
   "cell_type": "code",
   "execution_count": 38,
   "metadata": {
    "scrolled": true
   },
   "outputs": [
    {
     "data": {
      "text/html": [
       "<div>\n",
       "<style scoped>\n",
       "    .dataframe tbody tr th:only-of-type {\n",
       "        vertical-align: middle;\n",
       "    }\n",
       "\n",
       "    .dataframe tbody tr th {\n",
       "        vertical-align: top;\n",
       "    }\n",
       "\n",
       "    .dataframe thead th {\n",
       "        text-align: right;\n",
       "    }\n",
       "</style>\n",
       "<table border=\"1\" class=\"dataframe\">\n",
       "  <thead>\n",
       "    <tr style=\"text-align: right;\">\n",
       "      <th></th>\n",
       "      <th>group</th>\n",
       "      <th>gameId</th>\n",
       "      <th>playId</th>\n",
       "      <th>defense_nflId</th>\n",
       "      <th>offense_nflId</th>\n",
       "      <th>playId2</th>\n",
       "      <th>defenseId</th>\n",
       "      <th>offenseId</th>\n",
       "      <th>defense_s_x</th>\n",
       "      <th>defense_s_y</th>\n",
       "      <th>...</th>\n",
       "      <th>receiver_s_x</th>\n",
       "      <th>receiver_s_y</th>\n",
       "      <th>receiver_distance_from_los</th>\n",
       "      <th>defense_football_x</th>\n",
       "      <th>defense_football_y</th>\n",
       "      <th>receiver_football_x</th>\n",
       "      <th>receiver_football_y</th>\n",
       "      <th>football_s</th>\n",
       "      <th>receiver_football_defender_dist_diff</th>\n",
       "      <th>defender_receiver_football_dist_diff</th>\n",
       "    </tr>\n",
       "  </thead>\n",
       "  <tbody>\n",
       "    <tr>\n",
       "      <th>0</th>\n",
       "      <td>full</td>\n",
       "      <td>2018090600</td>\n",
       "      <td>75</td>\n",
       "      <td>79848</td>\n",
       "      <td>310</td>\n",
       "      <td>1</td>\n",
       "      <td>1</td>\n",
       "      <td>1</td>\n",
       "      <td>3.658502</td>\n",
       "      <td>-4.146837</td>\n",
       "      <td>...</td>\n",
       "      <td>2.749019</td>\n",
       "      <td>-1.454302</td>\n",
       "      <td>9.31</td>\n",
       "      <td>12.08</td>\n",
       "      <td>-11.36</td>\n",
       "      <td>16.21</td>\n",
       "      <td>-17.94</td>\n",
       "      <td>2.05</td>\n",
       "      <td>16.409923</td>\n",
       "      <td>-7.596262</td>\n",
       "    </tr>\n",
       "    <tr>\n",
       "      <th>1</th>\n",
       "      <td>full</td>\n",
       "      <td>2018090600</td>\n",
       "      <td>75</td>\n",
       "      <td>79848</td>\n",
       "      <td>2533040</td>\n",
       "      <td>1</td>\n",
       "      <td>1</td>\n",
       "      <td>2</td>\n",
       "      <td>3.658502</td>\n",
       "      <td>-4.146837</td>\n",
       "      <td>...</td>\n",
       "      <td>2.749019</td>\n",
       "      <td>-1.454302</td>\n",
       "      <td>9.31</td>\n",
       "      <td>12.08</td>\n",
       "      <td>-11.36</td>\n",
       "      <td>16.21</td>\n",
       "      <td>-17.94</td>\n",
       "      <td>2.05</td>\n",
       "      <td>16.409923</td>\n",
       "      <td>-7.596262</td>\n",
       "    </tr>\n",
       "    <tr>\n",
       "      <th>2</th>\n",
       "      <td>full</td>\n",
       "      <td>2018090600</td>\n",
       "      <td>75</td>\n",
       "      <td>79848</td>\n",
       "      <td>2543583</td>\n",
       "      <td>1</td>\n",
       "      <td>1</td>\n",
       "      <td>3</td>\n",
       "      <td>3.658502</td>\n",
       "      <td>-4.146837</td>\n",
       "      <td>...</td>\n",
       "      <td>2.749019</td>\n",
       "      <td>-1.454302</td>\n",
       "      <td>9.31</td>\n",
       "      <td>12.08</td>\n",
       "      <td>-11.36</td>\n",
       "      <td>16.21</td>\n",
       "      <td>-17.94</td>\n",
       "      <td>2.05</td>\n",
       "      <td>16.409923</td>\n",
       "      <td>-7.596262</td>\n",
       "    </tr>\n",
       "    <tr>\n",
       "      <th>3</th>\n",
       "      <td>full</td>\n",
       "      <td>2018090600</td>\n",
       "      <td>75</td>\n",
       "      <td>79848</td>\n",
       "      <td>2555415</td>\n",
       "      <td>1</td>\n",
       "      <td>1</td>\n",
       "      <td>4</td>\n",
       "      <td>3.658502</td>\n",
       "      <td>-4.146837</td>\n",
       "      <td>...</td>\n",
       "      <td>2.749019</td>\n",
       "      <td>-1.454302</td>\n",
       "      <td>9.31</td>\n",
       "      <td>12.08</td>\n",
       "      <td>-11.36</td>\n",
       "      <td>16.21</td>\n",
       "      <td>-17.94</td>\n",
       "      <td>2.05</td>\n",
       "      <td>16.409923</td>\n",
       "      <td>-7.596262</td>\n",
       "    </tr>\n",
       "    <tr>\n",
       "      <th>4</th>\n",
       "      <td>full</td>\n",
       "      <td>2018090600</td>\n",
       "      <td>75</td>\n",
       "      <td>79848</td>\n",
       "      <td>2559033</td>\n",
       "      <td>1</td>\n",
       "      <td>1</td>\n",
       "      <td>5</td>\n",
       "      <td>3.658502</td>\n",
       "      <td>-4.146837</td>\n",
       "      <td>...</td>\n",
       "      <td>2.749019</td>\n",
       "      <td>-1.454302</td>\n",
       "      <td>9.31</td>\n",
       "      <td>12.08</td>\n",
       "      <td>-11.36</td>\n",
       "      <td>16.21</td>\n",
       "      <td>-17.94</td>\n",
       "      <td>2.05</td>\n",
       "      <td>16.409923</td>\n",
       "      <td>-7.596262</td>\n",
       "    </tr>\n",
       "    <tr>\n",
       "      <th>5</th>\n",
       "      <td>full</td>\n",
       "      <td>2018090600</td>\n",
       "      <td>75</td>\n",
       "      <td>0</td>\n",
       "      <td>0</td>\n",
       "      <td>1</td>\n",
       "      <td>1</td>\n",
       "      <td>6</td>\n",
       "      <td>0.000000</td>\n",
       "      <td>0.000000</td>\n",
       "      <td>...</td>\n",
       "      <td>0.000000</td>\n",
       "      <td>0.000000</td>\n",
       "      <td>0.00</td>\n",
       "      <td>0.00</td>\n",
       "      <td>0.00</td>\n",
       "      <td>0.00</td>\n",
       "      <td>0.00</td>\n",
       "      <td>0.00</td>\n",
       "      <td>0.000000</td>\n",
       "      <td>0.000000</td>\n",
       "    </tr>\n",
       "    <tr>\n",
       "      <th>6</th>\n",
       "      <td>full</td>\n",
       "      <td>2018090600</td>\n",
       "      <td>75</td>\n",
       "      <td>0</td>\n",
       "      <td>0</td>\n",
       "      <td>1</td>\n",
       "      <td>1</td>\n",
       "      <td>7</td>\n",
       "      <td>0.000000</td>\n",
       "      <td>0.000000</td>\n",
       "      <td>...</td>\n",
       "      <td>0.000000</td>\n",
       "      <td>0.000000</td>\n",
       "      <td>0.00</td>\n",
       "      <td>0.00</td>\n",
       "      <td>0.00</td>\n",
       "      <td>0.00</td>\n",
       "      <td>0.00</td>\n",
       "      <td>0.00</td>\n",
       "      <td>0.000000</td>\n",
       "      <td>0.000000</td>\n",
       "    </tr>\n",
       "    <tr>\n",
       "      <th>7</th>\n",
       "      <td>full</td>\n",
       "      <td>2018090600</td>\n",
       "      <td>75</td>\n",
       "      <td>0</td>\n",
       "      <td>0</td>\n",
       "      <td>1</td>\n",
       "      <td>1</td>\n",
       "      <td>8</td>\n",
       "      <td>0.000000</td>\n",
       "      <td>0.000000</td>\n",
       "      <td>...</td>\n",
       "      <td>0.000000</td>\n",
       "      <td>0.000000</td>\n",
       "      <td>0.00</td>\n",
       "      <td>0.00</td>\n",
       "      <td>0.00</td>\n",
       "      <td>0.00</td>\n",
       "      <td>0.00</td>\n",
       "      <td>0.00</td>\n",
       "      <td>0.000000</td>\n",
       "      <td>0.000000</td>\n",
       "    </tr>\n",
       "    <tr>\n",
       "      <th>8</th>\n",
       "      <td>full</td>\n",
       "      <td>2018090600</td>\n",
       "      <td>75</td>\n",
       "      <td>0</td>\n",
       "      <td>0</td>\n",
       "      <td>1</td>\n",
       "      <td>1</td>\n",
       "      <td>9</td>\n",
       "      <td>0.000000</td>\n",
       "      <td>0.000000</td>\n",
       "      <td>...</td>\n",
       "      <td>0.000000</td>\n",
       "      <td>0.000000</td>\n",
       "      <td>0.00</td>\n",
       "      <td>0.00</td>\n",
       "      <td>0.00</td>\n",
       "      <td>0.00</td>\n",
       "      <td>0.00</td>\n",
       "      <td>0.00</td>\n",
       "      <td>0.000000</td>\n",
       "      <td>0.000000</td>\n",
       "    </tr>\n",
       "    <tr>\n",
       "      <th>9</th>\n",
       "      <td>full</td>\n",
       "      <td>2018090600</td>\n",
       "      <td>75</td>\n",
       "      <td>0</td>\n",
       "      <td>0</td>\n",
       "      <td>1</td>\n",
       "      <td>1</td>\n",
       "      <td>10</td>\n",
       "      <td>0.000000</td>\n",
       "      <td>0.000000</td>\n",
       "      <td>...</td>\n",
       "      <td>0.000000</td>\n",
       "      <td>0.000000</td>\n",
       "      <td>0.00</td>\n",
       "      <td>0.00</td>\n",
       "      <td>0.00</td>\n",
       "      <td>0.00</td>\n",
       "      <td>0.00</td>\n",
       "      <td>0.00</td>\n",
       "      <td>0.000000</td>\n",
       "      <td>0.000000</td>\n",
       "    </tr>\n",
       "    <tr>\n",
       "      <th>10</th>\n",
       "      <td>full</td>\n",
       "      <td>2018090600</td>\n",
       "      <td>75</td>\n",
       "      <td>2495613</td>\n",
       "      <td>310</td>\n",
       "      <td>1</td>\n",
       "      <td>2</td>\n",
       "      <td>1</td>\n",
       "      <td>2.076452</td>\n",
       "      <td>2.842313</td>\n",
       "      <td>...</td>\n",
       "      <td>2.749019</td>\n",
       "      <td>-1.454302</td>\n",
       "      <td>9.31</td>\n",
       "      <td>10.88</td>\n",
       "      <td>8.33</td>\n",
       "      <td>16.21</td>\n",
       "      <td>-17.94</td>\n",
       "      <td>2.05</td>\n",
       "      <td>-2.626595</td>\n",
       "      <td>-10.475987</td>\n",
       "    </tr>\n",
       "    <tr>\n",
       "      <th>11</th>\n",
       "      <td>full</td>\n",
       "      <td>2018090600</td>\n",
       "      <td>75</td>\n",
       "      <td>2495613</td>\n",
       "      <td>2533040</td>\n",
       "      <td>1</td>\n",
       "      <td>2</td>\n",
       "      <td>2</td>\n",
       "      <td>2.076452</td>\n",
       "      <td>2.842313</td>\n",
       "      <td>...</td>\n",
       "      <td>2.749019</td>\n",
       "      <td>-1.454302</td>\n",
       "      <td>9.31</td>\n",
       "      <td>10.88</td>\n",
       "      <td>8.33</td>\n",
       "      <td>16.21</td>\n",
       "      <td>-17.94</td>\n",
       "      <td>2.05</td>\n",
       "      <td>-2.626595</td>\n",
       "      <td>-10.475987</td>\n",
       "    </tr>\n",
       "    <tr>\n",
       "      <th>12</th>\n",
       "      <td>full</td>\n",
       "      <td>2018090600</td>\n",
       "      <td>75</td>\n",
       "      <td>2495613</td>\n",
       "      <td>2543583</td>\n",
       "      <td>1</td>\n",
       "      <td>2</td>\n",
       "      <td>3</td>\n",
       "      <td>2.076452</td>\n",
       "      <td>2.842313</td>\n",
       "      <td>...</td>\n",
       "      <td>2.749019</td>\n",
       "      <td>-1.454302</td>\n",
       "      <td>9.31</td>\n",
       "      <td>10.88</td>\n",
       "      <td>8.33</td>\n",
       "      <td>16.21</td>\n",
       "      <td>-17.94</td>\n",
       "      <td>2.05</td>\n",
       "      <td>-2.626595</td>\n",
       "      <td>-10.475987</td>\n",
       "    </tr>\n",
       "    <tr>\n",
       "      <th>13</th>\n",
       "      <td>full</td>\n",
       "      <td>2018090600</td>\n",
       "      <td>75</td>\n",
       "      <td>2495613</td>\n",
       "      <td>2555415</td>\n",
       "      <td>1</td>\n",
       "      <td>2</td>\n",
       "      <td>4</td>\n",
       "      <td>2.076452</td>\n",
       "      <td>2.842313</td>\n",
       "      <td>...</td>\n",
       "      <td>2.749019</td>\n",
       "      <td>-1.454302</td>\n",
       "      <td>9.31</td>\n",
       "      <td>10.88</td>\n",
       "      <td>8.33</td>\n",
       "      <td>16.21</td>\n",
       "      <td>-17.94</td>\n",
       "      <td>2.05</td>\n",
       "      <td>-2.626595</td>\n",
       "      <td>-10.475987</td>\n",
       "    </tr>\n",
       "    <tr>\n",
       "      <th>14</th>\n",
       "      <td>full</td>\n",
       "      <td>2018090600</td>\n",
       "      <td>75</td>\n",
       "      <td>2495613</td>\n",
       "      <td>2559033</td>\n",
       "      <td>1</td>\n",
       "      <td>2</td>\n",
       "      <td>5</td>\n",
       "      <td>2.076452</td>\n",
       "      <td>2.842313</td>\n",
       "      <td>...</td>\n",
       "      <td>2.749019</td>\n",
       "      <td>-1.454302</td>\n",
       "      <td>9.31</td>\n",
       "      <td>10.88</td>\n",
       "      <td>8.33</td>\n",
       "      <td>16.21</td>\n",
       "      <td>-17.94</td>\n",
       "      <td>2.05</td>\n",
       "      <td>-2.626595</td>\n",
       "      <td>-10.475987</td>\n",
       "    </tr>\n",
       "    <tr>\n",
       "      <th>15</th>\n",
       "      <td>full</td>\n",
       "      <td>2018090600</td>\n",
       "      <td>75</td>\n",
       "      <td>0</td>\n",
       "      <td>0</td>\n",
       "      <td>1</td>\n",
       "      <td>2</td>\n",
       "      <td>6</td>\n",
       "      <td>0.000000</td>\n",
       "      <td>0.000000</td>\n",
       "      <td>...</td>\n",
       "      <td>0.000000</td>\n",
       "      <td>0.000000</td>\n",
       "      <td>0.00</td>\n",
       "      <td>0.00</td>\n",
       "      <td>0.00</td>\n",
       "      <td>0.00</td>\n",
       "      <td>0.00</td>\n",
       "      <td>0.00</td>\n",
       "      <td>0.000000</td>\n",
       "      <td>0.000000</td>\n",
       "    </tr>\n",
       "    <tr>\n",
       "      <th>16</th>\n",
       "      <td>full</td>\n",
       "      <td>2018090600</td>\n",
       "      <td>75</td>\n",
       "      <td>0</td>\n",
       "      <td>0</td>\n",
       "      <td>1</td>\n",
       "      <td>2</td>\n",
       "      <td>7</td>\n",
       "      <td>0.000000</td>\n",
       "      <td>0.000000</td>\n",
       "      <td>...</td>\n",
       "      <td>0.000000</td>\n",
       "      <td>0.000000</td>\n",
       "      <td>0.00</td>\n",
       "      <td>0.00</td>\n",
       "      <td>0.00</td>\n",
       "      <td>0.00</td>\n",
       "      <td>0.00</td>\n",
       "      <td>0.00</td>\n",
       "      <td>0.000000</td>\n",
       "      <td>0.000000</td>\n",
       "    </tr>\n",
       "    <tr>\n",
       "      <th>17</th>\n",
       "      <td>full</td>\n",
       "      <td>2018090600</td>\n",
       "      <td>75</td>\n",
       "      <td>0</td>\n",
       "      <td>0</td>\n",
       "      <td>1</td>\n",
       "      <td>2</td>\n",
       "      <td>8</td>\n",
       "      <td>0.000000</td>\n",
       "      <td>0.000000</td>\n",
       "      <td>...</td>\n",
       "      <td>0.000000</td>\n",
       "      <td>0.000000</td>\n",
       "      <td>0.00</td>\n",
       "      <td>0.00</td>\n",
       "      <td>0.00</td>\n",
       "      <td>0.00</td>\n",
       "      <td>0.00</td>\n",
       "      <td>0.00</td>\n",
       "      <td>0.000000</td>\n",
       "      <td>0.000000</td>\n",
       "    </tr>\n",
       "    <tr>\n",
       "      <th>18</th>\n",
       "      <td>full</td>\n",
       "      <td>2018090600</td>\n",
       "      <td>75</td>\n",
       "      <td>0</td>\n",
       "      <td>0</td>\n",
       "      <td>1</td>\n",
       "      <td>2</td>\n",
       "      <td>9</td>\n",
       "      <td>0.000000</td>\n",
       "      <td>0.000000</td>\n",
       "      <td>...</td>\n",
       "      <td>0.000000</td>\n",
       "      <td>0.000000</td>\n",
       "      <td>0.00</td>\n",
       "      <td>0.00</td>\n",
       "      <td>0.00</td>\n",
       "      <td>0.00</td>\n",
       "      <td>0.00</td>\n",
       "      <td>0.00</td>\n",
       "      <td>0.000000</td>\n",
       "      <td>0.000000</td>\n",
       "    </tr>\n",
       "    <tr>\n",
       "      <th>19</th>\n",
       "      <td>full</td>\n",
       "      <td>2018090600</td>\n",
       "      <td>75</td>\n",
       "      <td>0</td>\n",
       "      <td>0</td>\n",
       "      <td>1</td>\n",
       "      <td>2</td>\n",
       "      <td>10</td>\n",
       "      <td>0.000000</td>\n",
       "      <td>0.000000</td>\n",
       "      <td>...</td>\n",
       "      <td>0.000000</td>\n",
       "      <td>0.000000</td>\n",
       "      <td>0.00</td>\n",
       "      <td>0.00</td>\n",
       "      <td>0.00</td>\n",
       "      <td>0.00</td>\n",
       "      <td>0.00</td>\n",
       "      <td>0.00</td>\n",
       "      <td>0.000000</td>\n",
       "      <td>0.000000</td>\n",
       "    </tr>\n",
       "  </tbody>\n",
       "</table>\n",
       "<p>20 rows × 28 columns</p>\n",
       "</div>"
      ],
      "text/plain": [
       "   group      gameId  playId  defense_nflId  offense_nflId  playId2  \\\n",
       "0   full  2018090600      75          79848            310        1   \n",
       "1   full  2018090600      75          79848        2533040        1   \n",
       "2   full  2018090600      75          79848        2543583        1   \n",
       "3   full  2018090600      75          79848        2555415        1   \n",
       "4   full  2018090600      75          79848        2559033        1   \n",
       "5   full  2018090600      75              0              0        1   \n",
       "6   full  2018090600      75              0              0        1   \n",
       "7   full  2018090600      75              0              0        1   \n",
       "8   full  2018090600      75              0              0        1   \n",
       "9   full  2018090600      75              0              0        1   \n",
       "10  full  2018090600      75        2495613            310        1   \n",
       "11  full  2018090600      75        2495613        2533040        1   \n",
       "12  full  2018090600      75        2495613        2543583        1   \n",
       "13  full  2018090600      75        2495613        2555415        1   \n",
       "14  full  2018090600      75        2495613        2559033        1   \n",
       "15  full  2018090600      75              0              0        1   \n",
       "16  full  2018090600      75              0              0        1   \n",
       "17  full  2018090600      75              0              0        1   \n",
       "18  full  2018090600      75              0              0        1   \n",
       "19  full  2018090600      75              0              0        1   \n",
       "\n",
       "    defenseId  offenseId  defense_s_x  defense_s_y  ...  receiver_s_x  \\\n",
       "0           1          1     3.658502    -4.146837  ...      2.749019   \n",
       "1           1          2     3.658502    -4.146837  ...      2.749019   \n",
       "2           1          3     3.658502    -4.146837  ...      2.749019   \n",
       "3           1          4     3.658502    -4.146837  ...      2.749019   \n",
       "4           1          5     3.658502    -4.146837  ...      2.749019   \n",
       "5           1          6     0.000000     0.000000  ...      0.000000   \n",
       "6           1          7     0.000000     0.000000  ...      0.000000   \n",
       "7           1          8     0.000000     0.000000  ...      0.000000   \n",
       "8           1          9     0.000000     0.000000  ...      0.000000   \n",
       "9           1         10     0.000000     0.000000  ...      0.000000   \n",
       "10          2          1     2.076452     2.842313  ...      2.749019   \n",
       "11          2          2     2.076452     2.842313  ...      2.749019   \n",
       "12          2          3     2.076452     2.842313  ...      2.749019   \n",
       "13          2          4     2.076452     2.842313  ...      2.749019   \n",
       "14          2          5     2.076452     2.842313  ...      2.749019   \n",
       "15          2          6     0.000000     0.000000  ...      0.000000   \n",
       "16          2          7     0.000000     0.000000  ...      0.000000   \n",
       "17          2          8     0.000000     0.000000  ...      0.000000   \n",
       "18          2          9     0.000000     0.000000  ...      0.000000   \n",
       "19          2         10     0.000000     0.000000  ...      0.000000   \n",
       "\n",
       "    receiver_s_y  receiver_distance_from_los  defense_football_x  \\\n",
       "0      -1.454302                        9.31               12.08   \n",
       "1      -1.454302                        9.31               12.08   \n",
       "2      -1.454302                        9.31               12.08   \n",
       "3      -1.454302                        9.31               12.08   \n",
       "4      -1.454302                        9.31               12.08   \n",
       "5       0.000000                        0.00                0.00   \n",
       "6       0.000000                        0.00                0.00   \n",
       "7       0.000000                        0.00                0.00   \n",
       "8       0.000000                        0.00                0.00   \n",
       "9       0.000000                        0.00                0.00   \n",
       "10     -1.454302                        9.31               10.88   \n",
       "11     -1.454302                        9.31               10.88   \n",
       "12     -1.454302                        9.31               10.88   \n",
       "13     -1.454302                        9.31               10.88   \n",
       "14     -1.454302                        9.31               10.88   \n",
       "15      0.000000                        0.00                0.00   \n",
       "16      0.000000                        0.00                0.00   \n",
       "17      0.000000                        0.00                0.00   \n",
       "18      0.000000                        0.00                0.00   \n",
       "19      0.000000                        0.00                0.00   \n",
       "\n",
       "    defense_football_y  receiver_football_x  receiver_football_y  football_s  \\\n",
       "0               -11.36                16.21               -17.94        2.05   \n",
       "1               -11.36                16.21               -17.94        2.05   \n",
       "2               -11.36                16.21               -17.94        2.05   \n",
       "3               -11.36                16.21               -17.94        2.05   \n",
       "4               -11.36                16.21               -17.94        2.05   \n",
       "5                 0.00                 0.00                 0.00        0.00   \n",
       "6                 0.00                 0.00                 0.00        0.00   \n",
       "7                 0.00                 0.00                 0.00        0.00   \n",
       "8                 0.00                 0.00                 0.00        0.00   \n",
       "9                 0.00                 0.00                 0.00        0.00   \n",
       "10                8.33                16.21               -17.94        2.05   \n",
       "11                8.33                16.21               -17.94        2.05   \n",
       "12                8.33                16.21               -17.94        2.05   \n",
       "13                8.33                16.21               -17.94        2.05   \n",
       "14                8.33                16.21               -17.94        2.05   \n",
       "15                0.00                 0.00                 0.00        0.00   \n",
       "16                0.00                 0.00                 0.00        0.00   \n",
       "17                0.00                 0.00                 0.00        0.00   \n",
       "18                0.00                 0.00                 0.00        0.00   \n",
       "19                0.00                 0.00                 0.00        0.00   \n",
       "\n",
       "    receiver_football_defender_dist_diff  defender_receiver_football_dist_diff  \n",
       "0                              16.409923                             -7.596262  \n",
       "1                              16.409923                             -7.596262  \n",
       "2                              16.409923                             -7.596262  \n",
       "3                              16.409923                             -7.596262  \n",
       "4                              16.409923                             -7.596262  \n",
       "5                               0.000000                              0.000000  \n",
       "6                               0.000000                              0.000000  \n",
       "7                               0.000000                              0.000000  \n",
       "8                               0.000000                              0.000000  \n",
       "9                               0.000000                              0.000000  \n",
       "10                             -2.626595                            -10.475987  \n",
       "11                             -2.626595                            -10.475987  \n",
       "12                             -2.626595                            -10.475987  \n",
       "13                             -2.626595                            -10.475987  \n",
       "14                             -2.626595                            -10.475987  \n",
       "15                              0.000000                              0.000000  \n",
       "16                              0.000000                              0.000000  \n",
       "17                              0.000000                              0.000000  \n",
       "18                              0.000000                              0.000000  \n",
       "19                              0.000000                              0.000000  \n",
       "\n",
       "[20 rows x 28 columns]"
      ]
     },
     "execution_count": 38,
     "metadata": {},
     "output_type": "execute_result"
    }
   ],
   "source": [
    "pass_arrived_score.head(20)"
   ]
  },
  {
   "cell_type": "code",
   "execution_count": 50,
   "metadata": {},
   "outputs": [
    {
     "data": {
      "text/plain": [
       "6457"
      ]
     },
     "execution_count": 50,
     "metadata": {},
     "output_type": "execute_result"
    }
   ],
   "source": [
    "pass_arrived_score[(pass_arrived_score[\"gameId\"] == 2018101500) & (pass_arrived_score[\"playId\"] == 1604)][\"playId2\"].iloc[0]"
   ]
  },
  {
   "cell_type": "code",
   "execution_count": 39,
   "metadata": {},
   "outputs": [
    {
     "data": {
      "text/plain": [
       "(1894090, 28)"
      ]
     },
     "execution_count": 39,
     "metadata": {},
     "output_type": "execute_result"
    }
   ],
   "source": [
    "pass_arrived_score.shape"
   ]
  },
  {
   "cell_type": "markdown",
   "metadata": {},
   "source": [
    "# Formatting the Data"
   ]
  },
  {
   "cell_type": "code",
   "execution_count": 40,
   "metadata": {
    "collapsed": true
   },
   "outputs": [],
   "source": [
    "def create_x(data, nfeatures):\n",
    "    # creating a numpy tensor to hold the play data\n",
    "    np_mat = np.array(data.drop(['group', 'gameId', 'playId','defense_nflId', 'offense_nflId'],\n",
    "                               axis = 1))\n",
    "    \n",
    "    # setting parameters\n",
    "    ngames = np.max(np.array(data['playId2']))\n",
    "    nDef = 11\n",
    "    nOff = 10\n",
    "    \n",
    "    # initializing the tensor\n",
    "    np_tensor = np.zeros((ngames, nDef, nOff, nfeatures))\n",
    "    \n",
    "    for row in range(len(np_mat)):\n",
    "        np_tensor[int(np_mat[row][0]) - 1][int(np_mat[row][1]) - 1][int(np_mat[row][2]) - 1] = np_mat[row][3:]\n",
    "    \n",
    "    np_tensor = np_tensor.astype('float32')\n",
    "    \n",
    "    return(np_tensor)"
   ]
  },
  {
   "cell_type": "code",
   "execution_count": 41,
   "metadata": {
    "collapsed": true
   },
   "outputs": [],
   "source": [
    "X_score = create_x(data = pass_arrived_score,\n",
    "                  nfeatures = 20)"
   ]
  },
  {
   "cell_type": "code",
   "execution_count": 42,
   "metadata": {},
   "outputs": [
    {
     "data": {
      "text/plain": [
       "(17219, 11, 10, 20)"
      ]
     },
     "execution_count": 42,
     "metadata": {},
     "output_type": "execute_result"
    }
   ],
   "source": [
    "X_score.shape"
   ]
  },
  {
   "cell_type": "code",
   "execution_count": 43,
   "metadata": {},
   "outputs": [
    {
     "data": {
      "text/plain": [
       "array([  3.6585023 ,  -4.146837  ,  -4.13      ,   6.58      ,\n",
       "         0.90948343,  -2.6925352 ,  11.61      , -11.55      ,\n",
       "         3.2822537 ,  -3.3958135 ,   2.749019  ,  -1.4543022 ,\n",
       "         9.31      ,  12.08      , -11.36      ,  16.21      ,\n",
       "       -17.94      ,   2.05      ,  16.409924  ,  -7.596262  ],\n",
       "      dtype=float32)"
      ]
     },
     "execution_count": 43,
     "metadata": {},
     "output_type": "execute_result"
    }
   ],
   "source": [
    "X_score[0][0][0]"
   ]
  },
  {
   "cell_type": "markdown",
   "metadata": {},
   "source": [
    "# Saving Predictions"
   ]
  },
  {
   "cell_type": "code",
   "execution_count": 46,
   "metadata": {},
   "outputs": [],
   "source": [
    "score_preds = model.predict(X_score)"
   ]
  },
  {
   "cell_type": "code",
   "execution_count": 47,
   "metadata": {},
   "outputs": [
    {
     "data": {
      "text/plain": [
       "array([4.59929743e-06, 4.89288823e-06, 5.50487493e-06, 3.43901638e-06,\n",
       "       3.76755202e-06, 3.43662987e-06, 4.85133523e-06, 2.53627491e-06,\n",
       "       5.03482897e-06, 4.29942247e-06, 4.88349497e-06, 5.15595229e-06,\n",
       "       4.95615268e-06, 4.73782939e-06, 5.34010405e-06, 4.53587518e-06,\n",
       "       4.70613122e-06, 3.87498449e-06, 5.83874453e-06, 5.08835683e-06,\n",
       "       4.25694634e-06, 4.40025997e-06, 3.62590163e-06, 3.61591515e-06,\n",
       "       4.31922308e-06, 6.02381033e-06, 4.22745734e-06, 5.28428154e-06,\n",
       "       5.87026216e-06, 3.88028002e-06, 3.81598556e-06, 4.33347395e-06,\n",
       "       8.19846173e-06, 4.34616368e-06, 4.14624401e-06, 5.02117291e-06,\n",
       "       3.13672058e-06, 3.52298548e-06, 2.90915159e-06, 5.31367732e-06,\n",
       "       4.05257651e-06, 5.03814863e-06, 5.00529541e-06, 3.43068950e-06,\n",
       "       5.20594449e-06, 3.19326250e-06, 3.80948427e-06, 5.76243337e-06,\n",
       "       3.36909898e-06, 3.81639666e-06, 3.72166710e-06, 4.28449084e-06,\n",
       "       4.36536311e-06, 3.50953496e-06, 3.71316924e-06, 3.62448441e-06,\n",
       "       3.82611597e-06, 4.52584209e-06, 5.09816846e-06, 3.06606103e-06,\n",
       "       5.27505199e-06, 4.38005873e-06, 4.46609420e-06, 4.51863525e-06,\n",
       "       5.85777980e-06, 4.93397783e-06, 3.96914038e-06, 4.75400111e-06,\n",
       "       5.25883797e-06, 5.02270086e-06, 6.38971414e-06, 8.42268673e-06,\n",
       "       5.65848995e-06, 9.16210865e-06, 6.27408463e-06, 7.95113374e-06,\n",
       "       5.89047886e-06, 7.70817951e-06, 1.69760933e-05, 1.00698753e-05,\n",
       "       7.84801523e-06, 7.48380216e-06, 8.35268656e-06, 3.27879061e-05,\n",
       "       1.07262076e-05, 1.12059261e-05, 2.30184087e-05, 1.84726996e-05,\n",
       "       3.01554101e-05, 2.37030890e-05, 3.82306498e-05, 3.04333389e-05,\n",
       "       5.53112623e-05, 4.75272063e-05, 1.00501122e-04, 3.57945246e-05,\n",
       "       1.93137399e-04, 8.86808848e-05, 3.27518763e-04, 1.55988178e-04,\n",
       "       3.00098298e-04, 1.67876162e-04, 4.51761676e-04, 3.86324548e-03,\n",
       "       1.93052611e-03, 7.04836519e-03, 4.41041291e-02, 4.02396880e-02,\n",
       "       1.14793837e-01, 1.20503627e-01, 2.63783842e-01, 1.49489701e-01,\n",
       "       9.15138572e-02, 4.83295284e-02, 5.36377206e-02, 1.51112396e-02,\n",
       "       7.20680458e-03, 7.78983347e-03, 5.31875202e-03, 7.11780740e-03,\n",
       "       7.31845212e-04, 1.24973780e-03, 1.15329647e-04, 2.23465671e-04,\n",
       "       2.09090504e-04, 9.58601478e-03, 2.60443398e-04, 1.43687706e-04,\n",
       "       2.86699680e-04, 1.39032796e-04, 4.67392529e-05, 9.49504392e-05,\n",
       "       1.83792959e-04, 5.25195937e-05, 1.74991274e-05, 9.47588487e-05,\n",
       "       2.80826662e-05, 7.39967218e-05, 2.48401284e-05, 3.50792725e-05,\n",
       "       8.26826945e-05, 8.39182321e-05, 2.58511591e-05, 8.14242667e-05,\n",
       "       1.44831793e-04, 3.97759250e-05, 7.36879956e-05, 7.35055073e-05,\n",
       "       8.41780857e-05, 2.87313887e-05, 1.02815437e-04, 2.75514409e-04,\n",
       "       4.91240135e-05, 1.20739722e-04, 7.50902836e-05, 3.02808839e-05,\n",
       "       3.17561353e-05, 3.60477170e-05, 2.71464833e-05, 2.62015237e-05,\n",
       "       1.55129674e-05, 2.66737479e-05, 9.79794822e-06, 3.26644731e-05,\n",
       "       1.20416880e-05, 1.93605538e-05, 2.32738657e-05, 1.40364664e-05,\n",
       "       1.97179270e-05, 1.10520868e-05, 1.77863658e-05, 1.41577857e-05,\n",
       "       1.13835222e-05, 2.58383916e-05, 1.10944338e-05, 1.79310646e-05,\n",
       "       1.75129680e-05, 2.17029010e-05, 1.59560059e-05, 1.42882709e-05,\n",
       "       9.36112519e-06, 1.28887568e-05, 8.29871078e-06, 1.54408208e-05,\n",
       "       1.22444117e-05, 2.65596736e-05, 8.84558267e-06, 7.94281277e-06,\n",
       "       1.28958754e-05, 2.08864876e-05, 9.48004708e-06, 8.85014742e-06,\n",
       "       9.21798892e-06, 8.03290732e-06, 6.99983457e-06, 7.38270182e-06,\n",
       "       6.70245117e-06, 8.82507356e-06, 1.02767635e-05], dtype=float32)"
      ]
     },
     "execution_count": 47,
     "metadata": {},
     "output_type": "execute_result"
    }
   ],
   "source": [
    "score_preds[0]"
   ]
  },
  {
   "cell_type": "code",
   "execution_count": 52,
   "metadata": {},
   "outputs": [
    {
     "data": {
      "image/png": "[encoded data removed]",
      "text/plain": [
       "<matplotlib.figure.Figure at 0x1392acb38>"
      ]
     },
     "metadata": {},
     "output_type": "display_data"
    }
   ],
   "source": [
    "import matplotlib.pyplot as plt\n",
    "%matplotlib inline\n",
    "plt.plot(np.arange(-99,100), score_preds[6457], 'b-')\n",
    "plt.xlim(-5,40)\n",
    "plt.ylim(0,.5)\n",
    "plt.show()"
   ]
  },
  {
   "cell_type": "code",
   "execution_count": 88,
   "metadata": {
    "collapsed": true
   },
   "outputs": [],
   "source": [
    "full_preds_df = pd.DataFrame(score_preds, columns = [str(int(x - 99)) for x in np.linspace(0,198, 199)])"
   ]
  },
  {
   "cell_type": "code",
   "execution_count": 89,
   "metadata": {},
   "outputs": [
    {
     "data": {
      "text/plain": [
       "(17219, 199)"
      ]
     },
     "execution_count": 89,
     "metadata": {},
     "output_type": "execute_result"
    }
   ],
   "source": [
    "full_preds_df.shape"
   ]
  },
  {
   "cell_type": "code",
   "execution_count": 90,
   "metadata": {
    "collapsed": true
   },
   "outputs": [],
   "source": [
    "full_preds_df2 = pd.concat([pass_arrived_score[[\"gameId\",\"playId\"]].drop_duplicates().reset_index(), full_preds_df], axis = 1)\n",
    "full_preds_df2 = full_preds_df2[full_preds_df2[\"gameId\"] < 10000000000]\n",
    "full_preds_df2 = full_preds_df2.drop(['index'], axis = 1)"
   ]
  },
  {
   "cell_type": "code",
   "execution_count": 91,
   "metadata": {},
   "outputs": [
    {
     "data": {
      "text/plain": [
       "(17219, 201)"
      ]
     },
     "execution_count": 91,
     "metadata": {},
     "output_type": "execute_result"
    }
   ],
   "source": [
    "full_preds_df2.shape"
   ]
  },
  {
   "cell_type": "code",
   "execution_count": 92,
   "metadata": {},
   "outputs": [
    {
     "data": {
      "text/html": [
       "<div>\n",
       "<style scoped>\n",
       "    .dataframe tbody tr th:only-of-type {\n",
       "        vertical-align: middle;\n",
       "    }\n",
       "\n",
       "    .dataframe tbody tr th {\n",
       "        vertical-align: top;\n",
       "    }\n",
       "\n",
       "    .dataframe thead th {\n",
       "        text-align: right;\n",
       "    }\n",
       "</style>\n",
       "<table border=\"1\" class=\"dataframe\">\n",
       "  <thead>\n",
       "    <tr style=\"text-align: right;\">\n",
       "      <th></th>\n",
       "      <th>gameId</th>\n",
       "      <th>playId</th>\n",
       "      <th>-99</th>\n",
       "      <th>-98</th>\n",
       "      <th>-97</th>\n",
       "      <th>-96</th>\n",
       "      <th>-95</th>\n",
       "      <th>-94</th>\n",
       "      <th>-93</th>\n",
       "      <th>-92</th>\n",
       "      <th>...</th>\n",
       "      <th>90</th>\n",
       "      <th>91</th>\n",
       "      <th>92</th>\n",
       "      <th>93</th>\n",
       "      <th>94</th>\n",
       "      <th>95</th>\n",
       "      <th>96</th>\n",
       "      <th>97</th>\n",
       "      <th>98</th>\n",
       "      <th>99</th>\n",
       "    </tr>\n",
       "  </thead>\n",
       "  <tbody>\n",
       "    <tr>\n",
       "      <th>0</th>\n",
       "      <td>2018090600</td>\n",
       "      <td>75</td>\n",
       "      <td>4.599297e-06</td>\n",
       "      <td>0.000005</td>\n",
       "      <td>5.504875e-06</td>\n",
       "      <td>3.439016e-06</td>\n",
       "      <td>3.767552e-06</td>\n",
       "      <td>0.000003</td>\n",
       "      <td>4.851335e-06</td>\n",
       "      <td>2.536275e-06</td>\n",
       "      <td>...</td>\n",
       "      <td>0.000021</td>\n",
       "      <td>0.000009</td>\n",
       "      <td>0.000009</td>\n",
       "      <td>0.000009</td>\n",
       "      <td>0.000008</td>\n",
       "      <td>0.000007</td>\n",
       "      <td>0.000007</td>\n",
       "      <td>0.000007</td>\n",
       "      <td>0.000009</td>\n",
       "      <td>0.000010</td>\n",
       "    </tr>\n",
       "    <tr>\n",
       "      <th>1</th>\n",
       "      <td>2018090600</td>\n",
       "      <td>146</td>\n",
       "      <td>1.116349e-05</td>\n",
       "      <td>0.000009</td>\n",
       "      <td>1.145773e-05</td>\n",
       "      <td>8.093980e-06</td>\n",
       "      <td>9.676312e-06</td>\n",
       "      <td>0.000012</td>\n",
       "      <td>9.282423e-06</td>\n",
       "      <td>1.047674e-05</td>\n",
       "      <td>...</td>\n",
       "      <td>0.000024</td>\n",
       "      <td>0.000015</td>\n",
       "      <td>0.000014</td>\n",
       "      <td>0.000013</td>\n",
       "      <td>0.000009</td>\n",
       "      <td>0.000008</td>\n",
       "      <td>0.000012</td>\n",
       "      <td>0.000018</td>\n",
       "      <td>0.000010</td>\n",
       "      <td>0.000019</td>\n",
       "    </tr>\n",
       "    <tr>\n",
       "      <th>2</th>\n",
       "      <td>2018090600</td>\n",
       "      <td>168</td>\n",
       "      <td>9.789276e-06</td>\n",
       "      <td>0.000008</td>\n",
       "      <td>1.183698e-05</td>\n",
       "      <td>6.953397e-06</td>\n",
       "      <td>8.993208e-06</td>\n",
       "      <td>0.000013</td>\n",
       "      <td>8.416765e-06</td>\n",
       "      <td>9.536408e-06</td>\n",
       "      <td>...</td>\n",
       "      <td>0.000047</td>\n",
       "      <td>0.000040</td>\n",
       "      <td>0.000032</td>\n",
       "      <td>0.000030</td>\n",
       "      <td>0.000021</td>\n",
       "      <td>0.000016</td>\n",
       "      <td>0.000025</td>\n",
       "      <td>0.000021</td>\n",
       "      <td>0.000037</td>\n",
       "      <td>0.000121</td>\n",
       "    </tr>\n",
       "    <tr>\n",
       "      <th>3</th>\n",
       "      <td>2018090600</td>\n",
       "      <td>190</td>\n",
       "      <td>2.308766e-05</td>\n",
       "      <td>0.000031</td>\n",
       "      <td>1.860429e-05</td>\n",
       "      <td>1.556048e-05</td>\n",
       "      <td>2.371256e-05</td>\n",
       "      <td>0.000026</td>\n",
       "      <td>1.734711e-05</td>\n",
       "      <td>2.364195e-05</td>\n",
       "      <td>...</td>\n",
       "      <td>0.000060</td>\n",
       "      <td>0.000064</td>\n",
       "      <td>0.000047</td>\n",
       "      <td>0.000039</td>\n",
       "      <td>0.000034</td>\n",
       "      <td>0.000033</td>\n",
       "      <td>0.000038</td>\n",
       "      <td>0.000042</td>\n",
       "      <td>0.000044</td>\n",
       "      <td>0.000169</td>\n",
       "    </tr>\n",
       "    <tr>\n",
       "      <th>4</th>\n",
       "      <td>2018090600</td>\n",
       "      <td>256</td>\n",
       "      <td>7.748974e-07</td>\n",
       "      <td>0.000002</td>\n",
       "      <td>9.367330e-07</td>\n",
       "      <td>4.074751e-07</td>\n",
       "      <td>8.443774e-07</td>\n",
       "      <td>0.000002</td>\n",
       "      <td>4.112597e-07</td>\n",
       "      <td>4.146976e-07</td>\n",
       "      <td>...</td>\n",
       "      <td>0.000004</td>\n",
       "      <td>0.000004</td>\n",
       "      <td>0.000003</td>\n",
       "      <td>0.000006</td>\n",
       "      <td>0.000002</td>\n",
       "      <td>0.000002</td>\n",
       "      <td>0.000002</td>\n",
       "      <td>0.000003</td>\n",
       "      <td>0.000002</td>\n",
       "      <td>0.000006</td>\n",
       "    </tr>\n",
       "    <tr>\n",
       "      <th>5</th>\n",
       "      <td>2018090600</td>\n",
       "      <td>320</td>\n",
       "      <td>8.053349e-06</td>\n",
       "      <td>0.000006</td>\n",
       "      <td>7.925001e-06</td>\n",
       "      <td>4.630864e-06</td>\n",
       "      <td>6.440136e-06</td>\n",
       "      <td>0.000005</td>\n",
       "      <td>4.719354e-06</td>\n",
       "      <td>6.416228e-06</td>\n",
       "      <td>...</td>\n",
       "      <td>0.000025</td>\n",
       "      <td>0.000029</td>\n",
       "      <td>0.000016</td>\n",
       "      <td>0.000013</td>\n",
       "      <td>0.000013</td>\n",
       "      <td>0.000009</td>\n",
       "      <td>0.000011</td>\n",
       "      <td>0.000010</td>\n",
       "      <td>0.000014</td>\n",
       "      <td>0.000018</td>\n",
       "    </tr>\n",
       "    <tr>\n",
       "      <th>6</th>\n",
       "      <td>2018090600</td>\n",
       "      <td>344</td>\n",
       "      <td>1.077685e-05</td>\n",
       "      <td>0.000008</td>\n",
       "      <td>1.060668e-05</td>\n",
       "      <td>5.930838e-06</td>\n",
       "      <td>9.588291e-06</td>\n",
       "      <td>0.000008</td>\n",
       "      <td>6.490980e-06</td>\n",
       "      <td>7.851009e-06</td>\n",
       "      <td>...</td>\n",
       "      <td>0.000028</td>\n",
       "      <td>0.000027</td>\n",
       "      <td>0.000019</td>\n",
       "      <td>0.000021</td>\n",
       "      <td>0.000013</td>\n",
       "      <td>0.000010</td>\n",
       "      <td>0.000010</td>\n",
       "      <td>0.000013</td>\n",
       "      <td>0.000016</td>\n",
       "      <td>0.000033</td>\n",
       "    </tr>\n",
       "    <tr>\n",
       "      <th>7</th>\n",
       "      <td>2018090600</td>\n",
       "      <td>402</td>\n",
       "      <td>3.088991e-06</td>\n",
       "      <td>0.000004</td>\n",
       "      <td>2.971424e-06</td>\n",
       "      <td>1.822025e-06</td>\n",
       "      <td>2.448221e-06</td>\n",
       "      <td>0.000003</td>\n",
       "      <td>2.638453e-06</td>\n",
       "      <td>1.668472e-06</td>\n",
       "      <td>...</td>\n",
       "      <td>0.000025</td>\n",
       "      <td>0.000010</td>\n",
       "      <td>0.000011</td>\n",
       "      <td>0.000009</td>\n",
       "      <td>0.000007</td>\n",
       "      <td>0.000004</td>\n",
       "      <td>0.000005</td>\n",
       "      <td>0.000004</td>\n",
       "      <td>0.000006</td>\n",
       "      <td>0.000033</td>\n",
       "    </tr>\n",
       "    <tr>\n",
       "      <th>8</th>\n",
       "      <td>2018090600</td>\n",
       "      <td>492</td>\n",
       "      <td>1.749408e-05</td>\n",
       "      <td>0.000019</td>\n",
       "      <td>1.354075e-05</td>\n",
       "      <td>1.127207e-05</td>\n",
       "      <td>1.571026e-05</td>\n",
       "      <td>0.000015</td>\n",
       "      <td>1.997369e-05</td>\n",
       "      <td>1.238338e-05</td>\n",
       "      <td>...</td>\n",
       "      <td>0.000041</td>\n",
       "      <td>0.000045</td>\n",
       "      <td>0.000042</td>\n",
       "      <td>0.000039</td>\n",
       "      <td>0.000015</td>\n",
       "      <td>0.000026</td>\n",
       "      <td>0.000028</td>\n",
       "      <td>0.000030</td>\n",
       "      <td>0.000037</td>\n",
       "      <td>0.000149</td>\n",
       "    </tr>\n",
       "    <tr>\n",
       "      <th>9</th>\n",
       "      <td>2018090600</td>\n",
       "      <td>521</td>\n",
       "      <td>4.744321e-06</td>\n",
       "      <td>0.000004</td>\n",
       "      <td>5.119458e-06</td>\n",
       "      <td>3.245621e-06</td>\n",
       "      <td>5.638444e-06</td>\n",
       "      <td>0.000005</td>\n",
       "      <td>3.916236e-06</td>\n",
       "      <td>3.781536e-06</td>\n",
       "      <td>...</td>\n",
       "      <td>0.000022</td>\n",
       "      <td>0.000011</td>\n",
       "      <td>0.000012</td>\n",
       "      <td>0.000014</td>\n",
       "      <td>0.000008</td>\n",
       "      <td>0.000008</td>\n",
       "      <td>0.000008</td>\n",
       "      <td>0.000011</td>\n",
       "      <td>0.000011</td>\n",
       "      <td>0.000020</td>\n",
       "    </tr>\n",
       "  </tbody>\n",
       "</table>\n",
       "<p>10 rows × 201 columns</p>\n",
       "</div>"
      ],
      "text/plain": [
       "       gameId  playId           -99       -98           -97           -96  \\\n",
       "0  2018090600      75  4.599297e-06  0.000005  5.504875e-06  3.439016e-06   \n",
       "1  2018090600     146  1.116349e-05  0.000009  1.145773e-05  8.093980e-06   \n",
       "2  2018090600     168  9.789276e-06  0.000008  1.183698e-05  6.953397e-06   \n",
       "3  2018090600     190  2.308766e-05  0.000031  1.860429e-05  1.556048e-05   \n",
       "4  2018090600     256  7.748974e-07  0.000002  9.367330e-07  4.074751e-07   \n",
       "5  2018090600     320  8.053349e-06  0.000006  7.925001e-06  4.630864e-06   \n",
       "6  2018090600     344  1.077685e-05  0.000008  1.060668e-05  5.930838e-06   \n",
       "7  2018090600     402  3.088991e-06  0.000004  2.971424e-06  1.822025e-06   \n",
       "8  2018090600     492  1.749408e-05  0.000019  1.354075e-05  1.127207e-05   \n",
       "9  2018090600     521  4.744321e-06  0.000004  5.119458e-06  3.245621e-06   \n",
       "\n",
       "            -95       -94           -93           -92  ...        90  \\\n",
       "0  3.767552e-06  0.000003  4.851335e-06  2.536275e-06  ...  0.000021   \n",
       "1  9.676312e-06  0.000012  9.282423e-06  1.047674e-05  ...  0.000024   \n",
       "2  8.993208e-06  0.000013  8.416765e-06  9.536408e-06  ...  0.000047   \n",
       "3  2.371256e-05  0.000026  1.734711e-05  2.364195e-05  ...  0.000060   \n",
       "4  8.443774e-07  0.000002  4.112597e-07  4.146976e-07  ...  0.000004   \n",
       "5  6.440136e-06  0.000005  4.719354e-06  6.416228e-06  ...  0.000025   \n",
       "6  9.588291e-06  0.000008  6.490980e-06  7.851009e-06  ...  0.000028   \n",
       "7  2.448221e-06  0.000003  2.638453e-06  1.668472e-06  ...  0.000025   \n",
       "8  1.571026e-05  0.000015  1.997369e-05  1.238338e-05  ...  0.000041   \n",
       "9  5.638444e-06  0.000005  3.916236e-06  3.781536e-06  ...  0.000022   \n",
       "\n",
       "         91        92        93        94        95        96        97  \\\n",
       "0  0.000009  0.000009  0.000009  0.000008  0.000007  0.000007  0.000007   \n",
       "1  0.000015  0.000014  0.000013  0.000009  0.000008  0.000012  0.000018   \n",
       "2  0.000040  0.000032  0.000030  0.000021  0.000016  0.000025  0.000021   \n",
       "3  0.000064  0.000047  0.000039  0.000034  0.000033  0.000038  0.000042   \n",
       "4  0.000004  0.000003  0.000006  0.000002  0.000002  0.000002  0.000003   \n",
       "5  0.000029  0.000016  0.000013  0.000013  0.000009  0.000011  0.000010   \n",
       "6  0.000027  0.000019  0.000021  0.000013  0.000010  0.000010  0.000013   \n",
       "7  0.000010  0.000011  0.000009  0.000007  0.000004  0.000005  0.000004   \n",
       "8  0.000045  0.000042  0.000039  0.000015  0.000026  0.000028  0.000030   \n",
       "9  0.000011  0.000012  0.000014  0.000008  0.000008  0.000008  0.000011   \n",
       "\n",
       "         98        99  \n",
       "0  0.000009  0.000010  \n",
       "1  0.000010  0.000019  \n",
       "2  0.000037  0.000121  \n",
       "3  0.000044  0.000169  \n",
       "4  0.000002  0.000006  \n",
       "5  0.000014  0.000018  \n",
       "6  0.000016  0.000033  \n",
       "7  0.000006  0.000033  \n",
       "8  0.000037  0.000149  \n",
       "9  0.000011  0.000020  \n",
       "\n",
       "[10 rows x 201 columns]"
      ]
     },
     "execution_count": 92,
     "metadata": {},
     "output_type": "execute_result"
    }
   ],
   "source": [
    "full_preds_df2.head(10)"
   ]
  },
  {
   "cell_type": "code",
   "execution_count": 93,
   "metadata": {
    "collapsed": true
   },
   "outputs": [],
   "source": [
    "full_preds_df3 = pd.melt(full_preds_df2, \n",
    "        id_vars=['gameId', 'playId'], \n",
    "        value_vars=[str(int(x - 99)) for x in np.linspace(0,198, 199)],\n",
    "        var_name='offensePlayResult', \n",
    "        value_name='probability')\n",
    "\n",
    "full_preds_df3[\"offensePlayResult\"] = [int(x) for x in np.array(full_preds_df3[\"offensePlayResult\"])]\n",
    "full_preds_df3 = full_preds_df3.sort_values(['gameId','playId','offensePlayResult'])"
   ]
  },
  {
   "cell_type": "code",
   "execution_count": 94,
   "metadata": {},
   "outputs": [
    {
     "data": {
      "text/html": [
       "<div>\n",
       "<style scoped>\n",
       "    .dataframe tbody tr th:only-of-type {\n",
       "        vertical-align: middle;\n",
       "    }\n",
       "\n",
       "    .dataframe tbody tr th {\n",
       "        vertical-align: top;\n",
       "    }\n",
       "\n",
       "    .dataframe thead th {\n",
       "        text-align: right;\n",
       "    }\n",
       "</style>\n",
       "<table border=\"1\" class=\"dataframe\">\n",
       "  <thead>\n",
       "    <tr style=\"text-align: right;\">\n",
       "      <th></th>\n",
       "      <th>gameId</th>\n",
       "      <th>playId</th>\n",
       "      <th>offensePlayResult</th>\n",
       "      <th>probability</th>\n",
       "    </tr>\n",
       "  </thead>\n",
       "  <tbody>\n",
       "    <tr>\n",
       "      <th>0</th>\n",
       "      <td>2018090600</td>\n",
       "      <td>75</td>\n",
       "      <td>-99</td>\n",
       "      <td>0.000005</td>\n",
       "    </tr>\n",
       "    <tr>\n",
       "      <th>17219</th>\n",
       "      <td>2018090600</td>\n",
       "      <td>75</td>\n",
       "      <td>-98</td>\n",
       "      <td>0.000005</td>\n",
       "    </tr>\n",
       "    <tr>\n",
       "      <th>34438</th>\n",
       "      <td>2018090600</td>\n",
       "      <td>75</td>\n",
       "      <td>-97</td>\n",
       "      <td>0.000006</td>\n",
       "    </tr>\n",
       "    <tr>\n",
       "      <th>51657</th>\n",
       "      <td>2018090600</td>\n",
       "      <td>75</td>\n",
       "      <td>-96</td>\n",
       "      <td>0.000003</td>\n",
       "    </tr>\n",
       "    <tr>\n",
       "      <th>68876</th>\n",
       "      <td>2018090600</td>\n",
       "      <td>75</td>\n",
       "      <td>-95</td>\n",
       "      <td>0.000004</td>\n",
       "    </tr>\n",
       "    <tr>\n",
       "      <th>86095</th>\n",
       "      <td>2018090600</td>\n",
       "      <td>75</td>\n",
       "      <td>-94</td>\n",
       "      <td>0.000003</td>\n",
       "    </tr>\n",
       "    <tr>\n",
       "      <th>103314</th>\n",
       "      <td>2018090600</td>\n",
       "      <td>75</td>\n",
       "      <td>-93</td>\n",
       "      <td>0.000005</td>\n",
       "    </tr>\n",
       "    <tr>\n",
       "      <th>120533</th>\n",
       "      <td>2018090600</td>\n",
       "      <td>75</td>\n",
       "      <td>-92</td>\n",
       "      <td>0.000003</td>\n",
       "    </tr>\n",
       "    <tr>\n",
       "      <th>137752</th>\n",
       "      <td>2018090600</td>\n",
       "      <td>75</td>\n",
       "      <td>-91</td>\n",
       "      <td>0.000005</td>\n",
       "    </tr>\n",
       "    <tr>\n",
       "      <th>154971</th>\n",
       "      <td>2018090600</td>\n",
       "      <td>75</td>\n",
       "      <td>-90</td>\n",
       "      <td>0.000004</td>\n",
       "    </tr>\n",
       "  </tbody>\n",
       "</table>\n",
       "</div>"
      ],
      "text/plain": [
       "            gameId  playId  offensePlayResult  probability\n",
       "0       2018090600      75                -99     0.000005\n",
       "17219   2018090600      75                -98     0.000005\n",
       "34438   2018090600      75                -97     0.000006\n",
       "51657   2018090600      75                -96     0.000003\n",
       "68876   2018090600      75                -95     0.000004\n",
       "86095   2018090600      75                -94     0.000003\n",
       "103314  2018090600      75                -93     0.000005\n",
       "120533  2018090600      75                -92     0.000003\n",
       "137752  2018090600      75                -91     0.000005\n",
       "154971  2018090600      75                -90     0.000004"
      ]
     },
     "execution_count": 94,
     "metadata": {},
     "output_type": "execute_result"
    }
   ],
   "source": [
    "full_preds_df3.head(10)"
   ]
  },
  {
   "cell_type": "code",
   "execution_count": 95,
   "metadata": {},
   "outputs": [
    {
     "data": {
      "text/plain": [
       "(3426581, 4)"
      ]
     },
     "execution_count": 95,
     "metadata": {},
     "output_type": "execute_result"
    }
   ],
   "source": [
    "full_preds_df3.shape"
   ]
  },
  {
   "cell_type": "code",
   "execution_count": 96,
   "metadata": {
    "collapsed": true
   },
   "outputs": [],
   "source": [
    "full_preds_df3.to_csv(\"~/Desktop/CoverageNet/src/03_coverageNet/02_score_attempt/outputs/pass_caught_yards_probs.csv\", \n",
    "                        index = False)"
   ]
  },
  {
   "cell_type": "code",
   "execution_count": 98,
   "metadata": {},
   "outputs": [
    {
     "data": {
      "image/png": "[encoded data removed]",
      "text/plain": [
       "<matplotlib.figure.Figure at 0x10460c908>"
      ]
     },
     "metadata": {},
     "output_type": "display_data"
    }
   ],
   "source": [
    "# goal line play at the 1 example!\n",
    "plt.plot(np.arange(-99,100), np.array(full_preds_df3[(full_preds_df3[\"gameId\"] == 2018120210) & (full_preds_df3[\"playId\"] == 3716)][\"probability\"]), 'b-')\n",
    "plt.xlim(-3, 3)\n",
    "plt.ylim(0,1)\n",
    "plt.show()"
   ]
  },
  {
   "cell_type": "code",
   "execution_count": 100,
   "metadata": {},
   "outputs": [
    {
     "name": "stdout",
     "output_type": "stream",
     "text": [
      "WARNING:tensorflow:From /anaconda3/lib/python3.6/site-packages/tensorflow/python/training/tracking/tracking.py:111: Model.state_updates (from tensorflow.python.keras.engine.training) is deprecated and will be removed in a future version.\n",
      "Instructions for updating:\n",
      "This property should not be used in TensorFlow 2.0, as updates are applied automatically.\n",
      "WARNING:tensorflow:From /anaconda3/lib/python3.6/site-packages/tensorflow/python/training/tracking/tracking.py:111: Layer.updates (from tensorflow.python.keras.engine.base_layer) is deprecated and will be removed in a future version.\n",
      "Instructions for updating:\n",
      "This property should not be used in TensorFlow 2.0, as updates are applied automatically.\n",
      "INFO:tensorflow:Assets written to: pass_caught_yards_model/assets\n"
     ]
    }
   ],
   "source": [
    "# saving model\n",
    "model.save('pass_caught_yards_model')"
   ]
  },
  {
   "cell_type": "code",
   "execution_count": 31,
   "metadata": {},
   "outputs": [],
   "source": [
    "from tensorflow.keras.models import load_model\n",
    "model_caught_yards = load_model('pass_caught_yards_model',\n",
    "                               custom_objects={'crps':crps})"
   ]
  },
  {
   "cell_type": "code",
   "execution_count": null,
   "metadata": {
    "collapsed": true
   },
   "outputs": [],
   "source": []
  }
 ],
 "metadata": {
  "kernelspec": {
   "display_name": "Python 3",
   "language": "python",
   "name": "python3"
  },
  "language_info": {
   "codemirror_mode": {
    "name": "ipython",
    "version": 3
   },
   "file_extension": ".py",
   "mimetype": "text/x-python",
   "name": "python",
   "nbconvert_exporter": "python",
   "pygments_lexer": "ipython3",
   "version": "3.6.3"
  }
 },
 "nbformat": 4,
 "nbformat_minor": 2
}
