{
 "cells": [
  {
   "cell_type": "code",
   "execution_count": 106,
   "metadata": {
    "collapsed": true
   },
   "outputs": [],
   "source": [
    "import numpy as np\n",
    "import pandas as pd\n",
    "import tensorflow as tf\n",
    "from tensorflow.keras import layers\n",
    "import matplotlib.pyplot as plt\n",
    "%matplotlib inline"
   ]
  },
  {
   "cell_type": "code",
   "execution_count": 107,
   "metadata": {},
   "outputs": [
    {
     "data": {
      "text/html": [
       "\n",
       "<style>\n",
       ".output_png {\n",
       "    display: table-cell;\n",
       "    text-align: center;\n",
       "    vertical-align: middle;\n",
       "}\n",
       "</style>\n"
      ],
      "text/plain": [
       "<IPython.core.display.HTML object>"
      ]
     },
     "execution_count": 107,
     "metadata": {},
     "output_type": "execute_result"
    }
   ],
   "source": [
    "from IPython.core.display import HTML\n",
    "HTML(\"\"\"\n",
    "<style>\n",
    ".output_png {\n",
    "    display: table-cell;\n",
    "    text-align: center;\n",
    "    vertical-align: middle;\n",
    "}\n",
    "</style>\n",
    "\"\"\")"
   ]
  },
  {
   "cell_type": "markdown",
   "metadata": {},
   "source": [
    "# Reading in the Data"
   ]
  },
  {
   "cell_type": "code",
   "execution_count": 108,
   "metadata": {},
   "outputs": [],
   "source": [
    "yac_data = pd.read_csv(\"~/Desktop/CoverageNet/src/03_coverageNet/01_score_arrived/outputs/interception_training_tensor.csv\")"
   ]
  },
  {
   "cell_type": "code",
   "execution_count": 109,
   "metadata": {
    "scrolled": true
   },
   "outputs": [
    {
     "data": {
      "text/html": [
       "<div>\n",
       "<style scoped>\n",
       "    .dataframe tbody tr th:only-of-type {\n",
       "        vertical-align: middle;\n",
       "    }\n",
       "\n",
       "    .dataframe tbody tr th {\n",
       "        vertical-align: top;\n",
       "    }\n",
       "\n",
       "    .dataframe thead th {\n",
       "        text-align: right;\n",
       "    }\n",
       "</style>\n",
       "<table border=\"1\" class=\"dataframe\">\n",
       "  <thead>\n",
       "    <tr style=\"text-align: right;\">\n",
       "      <th></th>\n",
       "      <th>group</th>\n",
       "      <th>gameId</th>\n",
       "      <th>playId</th>\n",
       "      <th>defense_nflId</th>\n",
       "      <th>offense_nflId</th>\n",
       "      <th>playId3</th>\n",
       "      <th>playId2</th>\n",
       "      <th>defenseId</th>\n",
       "      <th>offenseId</th>\n",
       "      <th>defense_s_x</th>\n",
       "      <th>...</th>\n",
       "      <th>defense_offense_x</th>\n",
       "      <th>defense_offense_y</th>\n",
       "      <th>defense_offense_s_x</th>\n",
       "      <th>defense_offense_s_y</th>\n",
       "      <th>receiver_s_x</th>\n",
       "      <th>receiver_s_y</th>\n",
       "      <th>receiver_distance_from_los</th>\n",
       "      <th>defense_football_x</th>\n",
       "      <th>defense_football_y</th>\n",
       "      <th>football_s</th>\n",
       "    </tr>\n",
       "  </thead>\n",
       "  <tbody>\n",
       "    <tr>\n",
       "      <th>0</th>\n",
       "      <td>test</td>\n",
       "      <td>2018090600</td>\n",
       "      <td>3392</td>\n",
       "      <td>79848</td>\n",
       "      <td>310</td>\n",
       "      <td>1</td>\n",
       "      <td>1</td>\n",
       "      <td>1</td>\n",
       "      <td>1</td>\n",
       "      <td>0.895785</td>\n",
       "      <td>...</td>\n",
       "      <td>4.00</td>\n",
       "      <td>-2.67</td>\n",
       "      <td>1.982733</td>\n",
       "      <td>-0.654441</td>\n",
       "      <td>0.585047</td>\n",
       "      <td>4.189346</td>\n",
       "      <td>14.22</td>\n",
       "      <td>-17.87</td>\n",
       "      <td>-27.19</td>\n",
       "      <td>5.87</td>\n",
       "    </tr>\n",
       "    <tr>\n",
       "      <th>1</th>\n",
       "      <td>test</td>\n",
       "      <td>2018090600</td>\n",
       "      <td>3392</td>\n",
       "      <td>79848</td>\n",
       "      <td>2533040</td>\n",
       "      <td>1</td>\n",
       "      <td>1</td>\n",
       "      <td>1</td>\n",
       "      <td>2</td>\n",
       "      <td>0.895785</td>\n",
       "      <td>...</td>\n",
       "      <td>-9.93</td>\n",
       "      <td>-1.81</td>\n",
       "      <td>1.261704</td>\n",
       "      <td>-0.547037</td>\n",
       "      <td>0.585047</td>\n",
       "      <td>4.189346</td>\n",
       "      <td>14.22</td>\n",
       "      <td>-17.87</td>\n",
       "      <td>-27.19</td>\n",
       "      <td>5.87</td>\n",
       "    </tr>\n",
       "    <tr>\n",
       "      <th>2</th>\n",
       "      <td>test</td>\n",
       "      <td>2018090600</td>\n",
       "      <td>3392</td>\n",
       "      <td>79848</td>\n",
       "      <td>2543583</td>\n",
       "      <td>1</td>\n",
       "      <td>1</td>\n",
       "      <td>1</td>\n",
       "      <td>3</td>\n",
       "      <td>0.895785</td>\n",
       "      <td>...</td>\n",
       "      <td>3.86</td>\n",
       "      <td>-0.17</td>\n",
       "      <td>1.512791</td>\n",
       "      <td>1.541616</td>\n",
       "      <td>0.585047</td>\n",
       "      <td>4.189346</td>\n",
       "      <td>14.22</td>\n",
       "      <td>-17.87</td>\n",
       "      <td>-27.19</td>\n",
       "      <td>5.87</td>\n",
       "    </tr>\n",
       "    <tr>\n",
       "      <th>3</th>\n",
       "      <td>test</td>\n",
       "      <td>2018090600</td>\n",
       "      <td>3392</td>\n",
       "      <td>79848</td>\n",
       "      <td>2555415</td>\n",
       "      <td>1</td>\n",
       "      <td>1</td>\n",
       "      <td>1</td>\n",
       "      <td>4</td>\n",
       "      <td>0.895785</td>\n",
       "      <td>...</td>\n",
       "      <td>-22.80</td>\n",
       "      <td>14.40</td>\n",
       "      <td>-1.411428</td>\n",
       "      <td>4.733425</td>\n",
       "      <td>0.585047</td>\n",
       "      <td>4.189346</td>\n",
       "      <td>14.22</td>\n",
       "      <td>-17.87</td>\n",
       "      <td>-27.19</td>\n",
       "      <td>5.87</td>\n",
       "    </tr>\n",
       "    <tr>\n",
       "      <th>4</th>\n",
       "      <td>test</td>\n",
       "      <td>2018090600</td>\n",
       "      <td>3392</td>\n",
       "      <td>79848</td>\n",
       "      <td>2560854</td>\n",
       "      <td>1</td>\n",
       "      <td>1</td>\n",
       "      <td>1</td>\n",
       "      <td>5</td>\n",
       "      <td>0.895785</td>\n",
       "      <td>...</td>\n",
       "      <td>-11.24</td>\n",
       "      <td>-11.88</td>\n",
       "      <td>0.168013</td>\n",
       "      <td>5.013949</td>\n",
       "      <td>0.585047</td>\n",
       "      <td>4.189346</td>\n",
       "      <td>14.22</td>\n",
       "      <td>-17.87</td>\n",
       "      <td>-27.19</td>\n",
       "      <td>5.87</td>\n",
       "    </tr>\n",
       "    <tr>\n",
       "      <th>5</th>\n",
       "      <td>test</td>\n",
       "      <td>2018090600</td>\n",
       "      <td>3392</td>\n",
       "      <td>2495613</td>\n",
       "      <td>310</td>\n",
       "      <td>1</td>\n",
       "      <td>1</td>\n",
       "      <td>2</td>\n",
       "      <td>1</td>\n",
       "      <td>-0.933663</td>\n",
       "      <td>...</td>\n",
       "      <td>15.72</td>\n",
       "      <td>1.75</td>\n",
       "      <td>0.153285</td>\n",
       "      <td>3.115423</td>\n",
       "      <td>0.585047</td>\n",
       "      <td>4.189346</td>\n",
       "      <td>14.22</td>\n",
       "      <td>-6.15</td>\n",
       "      <td>-22.77</td>\n",
       "      <td>5.87</td>\n",
       "    </tr>\n",
       "    <tr>\n",
       "      <th>6</th>\n",
       "      <td>test</td>\n",
       "      <td>2018090600</td>\n",
       "      <td>3392</td>\n",
       "      <td>2495613</td>\n",
       "      <td>2533040</td>\n",
       "      <td>1</td>\n",
       "      <td>1</td>\n",
       "      <td>2</td>\n",
       "      <td>2</td>\n",
       "      <td>-0.933663</td>\n",
       "      <td>...</td>\n",
       "      <td>1.79</td>\n",
       "      <td>2.61</td>\n",
       "      <td>-0.567744</td>\n",
       "      <td>3.222827</td>\n",
       "      <td>0.585047</td>\n",
       "      <td>4.189346</td>\n",
       "      <td>14.22</td>\n",
       "      <td>-6.15</td>\n",
       "      <td>-22.77</td>\n",
       "      <td>5.87</td>\n",
       "    </tr>\n",
       "    <tr>\n",
       "      <th>7</th>\n",
       "      <td>test</td>\n",
       "      <td>2018090600</td>\n",
       "      <td>3392</td>\n",
       "      <td>2495613</td>\n",
       "      <td>2543583</td>\n",
       "      <td>1</td>\n",
       "      <td>1</td>\n",
       "      <td>2</td>\n",
       "      <td>3</td>\n",
       "      <td>-0.933663</td>\n",
       "      <td>...</td>\n",
       "      <td>15.58</td>\n",
       "      <td>4.25</td>\n",
       "      <td>-0.316657</td>\n",
       "      <td>5.311479</td>\n",
       "      <td>0.585047</td>\n",
       "      <td>4.189346</td>\n",
       "      <td>14.22</td>\n",
       "      <td>-6.15</td>\n",
       "      <td>-22.77</td>\n",
       "      <td>5.87</td>\n",
       "    </tr>\n",
       "    <tr>\n",
       "      <th>8</th>\n",
       "      <td>test</td>\n",
       "      <td>2018090600</td>\n",
       "      <td>3392</td>\n",
       "      <td>2495613</td>\n",
       "      <td>2555415</td>\n",
       "      <td>1</td>\n",
       "      <td>1</td>\n",
       "      <td>2</td>\n",
       "      <td>4</td>\n",
       "      <td>-0.933663</td>\n",
       "      <td>...</td>\n",
       "      <td>-11.08</td>\n",
       "      <td>18.82</td>\n",
       "      <td>-3.240876</td>\n",
       "      <td>8.503288</td>\n",
       "      <td>0.585047</td>\n",
       "      <td>4.189346</td>\n",
       "      <td>14.22</td>\n",
       "      <td>-6.15</td>\n",
       "      <td>-22.77</td>\n",
       "      <td>5.87</td>\n",
       "    </tr>\n",
       "    <tr>\n",
       "      <th>9</th>\n",
       "      <td>test</td>\n",
       "      <td>2018090600</td>\n",
       "      <td>3392</td>\n",
       "      <td>2495613</td>\n",
       "      <td>2560854</td>\n",
       "      <td>1</td>\n",
       "      <td>1</td>\n",
       "      <td>2</td>\n",
       "      <td>5</td>\n",
       "      <td>-0.933663</td>\n",
       "      <td>...</td>\n",
       "      <td>0.48</td>\n",
       "      <td>-7.46</td>\n",
       "      <td>-1.661435</td>\n",
       "      <td>8.783813</td>\n",
       "      <td>0.585047</td>\n",
       "      <td>4.189346</td>\n",
       "      <td>14.22</td>\n",
       "      <td>-6.15</td>\n",
       "      <td>-22.77</td>\n",
       "      <td>5.87</td>\n",
       "    </tr>\n",
       "    <tr>\n",
       "      <th>10</th>\n",
       "      <td>test</td>\n",
       "      <td>2018090600</td>\n",
       "      <td>3392</td>\n",
       "      <td>2534832</td>\n",
       "      <td>310</td>\n",
       "      <td>1</td>\n",
       "      <td>1</td>\n",
       "      <td>3</td>\n",
       "      <td>1</td>\n",
       "      <td>-0.418170</td>\n",
       "      <td>...</td>\n",
       "      <td>1.28</td>\n",
       "      <td>-4.09</td>\n",
       "      <td>0.668777</td>\n",
       "      <td>-1.621862</td>\n",
       "      <td>0.585047</td>\n",
       "      <td>4.189346</td>\n",
       "      <td>14.22</td>\n",
       "      <td>-20.59</td>\n",
       "      <td>-28.61</td>\n",
       "      <td>5.87</td>\n",
       "    </tr>\n",
       "    <tr>\n",
       "      <th>11</th>\n",
       "      <td>test</td>\n",
       "      <td>2018090600</td>\n",
       "      <td>3392</td>\n",
       "      <td>2534832</td>\n",
       "      <td>2533040</td>\n",
       "      <td>1</td>\n",
       "      <td>1</td>\n",
       "      <td>3</td>\n",
       "      <td>2</td>\n",
       "      <td>-0.418170</td>\n",
       "      <td>...</td>\n",
       "      <td>-12.65</td>\n",
       "      <td>-3.23</td>\n",
       "      <td>-0.052251</td>\n",
       "      <td>-1.514458</td>\n",
       "      <td>0.585047</td>\n",
       "      <td>4.189346</td>\n",
       "      <td>14.22</td>\n",
       "      <td>-20.59</td>\n",
       "      <td>-28.61</td>\n",
       "      <td>5.87</td>\n",
       "    </tr>\n",
       "    <tr>\n",
       "      <th>12</th>\n",
       "      <td>test</td>\n",
       "      <td>2018090600</td>\n",
       "      <td>3392</td>\n",
       "      <td>2534832</td>\n",
       "      <td>2543583</td>\n",
       "      <td>1</td>\n",
       "      <td>1</td>\n",
       "      <td>3</td>\n",
       "      <td>3</td>\n",
       "      <td>-0.418170</td>\n",
       "      <td>...</td>\n",
       "      <td>1.14</td>\n",
       "      <td>-1.59</td>\n",
       "      <td>0.198835</td>\n",
       "      <td>0.574194</td>\n",
       "      <td>0.585047</td>\n",
       "      <td>4.189346</td>\n",
       "      <td>14.22</td>\n",
       "      <td>-20.59</td>\n",
       "      <td>-28.61</td>\n",
       "      <td>5.87</td>\n",
       "    </tr>\n",
       "    <tr>\n",
       "      <th>13</th>\n",
       "      <td>test</td>\n",
       "      <td>2018090600</td>\n",
       "      <td>3392</td>\n",
       "      <td>2534832</td>\n",
       "      <td>2555415</td>\n",
       "      <td>1</td>\n",
       "      <td>1</td>\n",
       "      <td>3</td>\n",
       "      <td>4</td>\n",
       "      <td>-0.418170</td>\n",
       "      <td>...</td>\n",
       "      <td>-25.52</td>\n",
       "      <td>12.98</td>\n",
       "      <td>-2.725383</td>\n",
       "      <td>3.766003</td>\n",
       "      <td>0.585047</td>\n",
       "      <td>4.189346</td>\n",
       "      <td>14.22</td>\n",
       "      <td>-20.59</td>\n",
       "      <td>-28.61</td>\n",
       "      <td>5.87</td>\n",
       "    </tr>\n",
       "    <tr>\n",
       "      <th>14</th>\n",
       "      <td>test</td>\n",
       "      <td>2018090600</td>\n",
       "      <td>3392</td>\n",
       "      <td>2534832</td>\n",
       "      <td>2560854</td>\n",
       "      <td>1</td>\n",
       "      <td>1</td>\n",
       "      <td>3</td>\n",
       "      <td>5</td>\n",
       "      <td>-0.418170</td>\n",
       "      <td>...</td>\n",
       "      <td>-13.96</td>\n",
       "      <td>-13.30</td>\n",
       "      <td>-1.145942</td>\n",
       "      <td>4.046528</td>\n",
       "      <td>0.585047</td>\n",
       "      <td>4.189346</td>\n",
       "      <td>14.22</td>\n",
       "      <td>-20.59</td>\n",
       "      <td>-28.61</td>\n",
       "      <td>5.87</td>\n",
       "    </tr>\n",
       "    <tr>\n",
       "      <th>15</th>\n",
       "      <td>test</td>\n",
       "      <td>2018090600</td>\n",
       "      <td>3392</td>\n",
       "      <td>2552315</td>\n",
       "      <td>310</td>\n",
       "      <td>1</td>\n",
       "      <td>1</td>\n",
       "      <td>4</td>\n",
       "      <td>1</td>\n",
       "      <td>0.399890</td>\n",
       "      <td>...</td>\n",
       "      <td>1.94</td>\n",
       "      <td>-3.04</td>\n",
       "      <td>1.486838</td>\n",
       "      <td>-1.492216</td>\n",
       "      <td>0.585047</td>\n",
       "      <td>4.189346</td>\n",
       "      <td>14.22</td>\n",
       "      <td>-19.93</td>\n",
       "      <td>-27.56</td>\n",
       "      <td>5.87</td>\n",
       "    </tr>\n",
       "    <tr>\n",
       "      <th>16</th>\n",
       "      <td>test</td>\n",
       "      <td>2018090600</td>\n",
       "      <td>3392</td>\n",
       "      <td>2552315</td>\n",
       "      <td>2533040</td>\n",
       "      <td>1</td>\n",
       "      <td>1</td>\n",
       "      <td>4</td>\n",
       "      <td>2</td>\n",
       "      <td>0.399890</td>\n",
       "      <td>...</td>\n",
       "      <td>-11.99</td>\n",
       "      <td>-2.18</td>\n",
       "      <td>0.765809</td>\n",
       "      <td>-1.384812</td>\n",
       "      <td>0.585047</td>\n",
       "      <td>4.189346</td>\n",
       "      <td>14.22</td>\n",
       "      <td>-19.93</td>\n",
       "      <td>-27.56</td>\n",
       "      <td>5.87</td>\n",
       "    </tr>\n",
       "    <tr>\n",
       "      <th>17</th>\n",
       "      <td>test</td>\n",
       "      <td>2018090600</td>\n",
       "      <td>3392</td>\n",
       "      <td>2552315</td>\n",
       "      <td>2543583</td>\n",
       "      <td>1</td>\n",
       "      <td>1</td>\n",
       "      <td>4</td>\n",
       "      <td>3</td>\n",
       "      <td>0.399890</td>\n",
       "      <td>...</td>\n",
       "      <td>1.80</td>\n",
       "      <td>-0.54</td>\n",
       "      <td>1.016896</td>\n",
       "      <td>0.703841</td>\n",
       "      <td>0.585047</td>\n",
       "      <td>4.189346</td>\n",
       "      <td>14.22</td>\n",
       "      <td>-19.93</td>\n",
       "      <td>-27.56</td>\n",
       "      <td>5.87</td>\n",
       "    </tr>\n",
       "    <tr>\n",
       "      <th>18</th>\n",
       "      <td>test</td>\n",
       "      <td>2018090600</td>\n",
       "      <td>3392</td>\n",
       "      <td>2552315</td>\n",
       "      <td>2555415</td>\n",
       "      <td>1</td>\n",
       "      <td>1</td>\n",
       "      <td>4</td>\n",
       "      <td>4</td>\n",
       "      <td>0.399890</td>\n",
       "      <td>...</td>\n",
       "      <td>-24.86</td>\n",
       "      <td>14.03</td>\n",
       "      <td>-1.907323</td>\n",
       "      <td>3.895649</td>\n",
       "      <td>0.585047</td>\n",
       "      <td>4.189346</td>\n",
       "      <td>14.22</td>\n",
       "      <td>-19.93</td>\n",
       "      <td>-27.56</td>\n",
       "      <td>5.87</td>\n",
       "    </tr>\n",
       "    <tr>\n",
       "      <th>19</th>\n",
       "      <td>test</td>\n",
       "      <td>2018090600</td>\n",
       "      <td>3392</td>\n",
       "      <td>2552315</td>\n",
       "      <td>2560854</td>\n",
       "      <td>1</td>\n",
       "      <td>1</td>\n",
       "      <td>4</td>\n",
       "      <td>5</td>\n",
       "      <td>0.399890</td>\n",
       "      <td>...</td>\n",
       "      <td>-13.30</td>\n",
       "      <td>-12.25</td>\n",
       "      <td>-0.327882</td>\n",
       "      <td>4.176174</td>\n",
       "      <td>0.585047</td>\n",
       "      <td>4.189346</td>\n",
       "      <td>14.22</td>\n",
       "      <td>-19.93</td>\n",
       "      <td>-27.56</td>\n",
       "      <td>5.87</td>\n",
       "    </tr>\n",
       "  </tbody>\n",
       "</table>\n",
       "<p>20 rows × 25 columns</p>\n",
       "</div>"
      ],
      "text/plain": [
       "   group      gameId  playId  defense_nflId  offense_nflId  playId3  playId2  \\\n",
       "0   test  2018090600    3392          79848            310        1        1   \n",
       "1   test  2018090600    3392          79848        2533040        1        1   \n",
       "2   test  2018090600    3392          79848        2543583        1        1   \n",
       "3   test  2018090600    3392          79848        2555415        1        1   \n",
       "4   test  2018090600    3392          79848        2560854        1        1   \n",
       "5   test  2018090600    3392        2495613            310        1        1   \n",
       "6   test  2018090600    3392        2495613        2533040        1        1   \n",
       "7   test  2018090600    3392        2495613        2543583        1        1   \n",
       "8   test  2018090600    3392        2495613        2555415        1        1   \n",
       "9   test  2018090600    3392        2495613        2560854        1        1   \n",
       "10  test  2018090600    3392        2534832            310        1        1   \n",
       "11  test  2018090600    3392        2534832        2533040        1        1   \n",
       "12  test  2018090600    3392        2534832        2543583        1        1   \n",
       "13  test  2018090600    3392        2534832        2555415        1        1   \n",
       "14  test  2018090600    3392        2534832        2560854        1        1   \n",
       "15  test  2018090600    3392        2552315            310        1        1   \n",
       "16  test  2018090600    3392        2552315        2533040        1        1   \n",
       "17  test  2018090600    3392        2552315        2543583        1        1   \n",
       "18  test  2018090600    3392        2552315        2555415        1        1   \n",
       "19  test  2018090600    3392        2552315        2560854        1        1   \n",
       "\n",
       "    defenseId  offenseId  defense_s_x  ...  defense_offense_x  \\\n",
       "0           1          1     0.895785  ...               4.00   \n",
       "1           1          2     0.895785  ...              -9.93   \n",
       "2           1          3     0.895785  ...               3.86   \n",
       "3           1          4     0.895785  ...             -22.80   \n",
       "4           1          5     0.895785  ...             -11.24   \n",
       "5           2          1    -0.933663  ...              15.72   \n",
       "6           2          2    -0.933663  ...               1.79   \n",
       "7           2          3    -0.933663  ...              15.58   \n",
       "8           2          4    -0.933663  ...             -11.08   \n",
       "9           2          5    -0.933663  ...               0.48   \n",
       "10          3          1    -0.418170  ...               1.28   \n",
       "11          3          2    -0.418170  ...             -12.65   \n",
       "12          3          3    -0.418170  ...               1.14   \n",
       "13          3          4    -0.418170  ...             -25.52   \n",
       "14          3          5    -0.418170  ...             -13.96   \n",
       "15          4          1     0.399890  ...               1.94   \n",
       "16          4          2     0.399890  ...             -11.99   \n",
       "17          4          3     0.399890  ...               1.80   \n",
       "18          4          4     0.399890  ...             -24.86   \n",
       "19          4          5     0.399890  ...             -13.30   \n",
       "\n",
       "    defense_offense_y  defense_offense_s_x  defense_offense_s_y  receiver_s_x  \\\n",
       "0               -2.67             1.982733            -0.654441      0.585047   \n",
       "1               -1.81             1.261704            -0.547037      0.585047   \n",
       "2               -0.17             1.512791             1.541616      0.585047   \n",
       "3               14.40            -1.411428             4.733425      0.585047   \n",
       "4              -11.88             0.168013             5.013949      0.585047   \n",
       "5                1.75             0.153285             3.115423      0.585047   \n",
       "6                2.61            -0.567744             3.222827      0.585047   \n",
       "7                4.25            -0.316657             5.311479      0.585047   \n",
       "8               18.82            -3.240876             8.503288      0.585047   \n",
       "9               -7.46            -1.661435             8.783813      0.585047   \n",
       "10              -4.09             0.668777            -1.621862      0.585047   \n",
       "11              -3.23            -0.052251            -1.514458      0.585047   \n",
       "12              -1.59             0.198835             0.574194      0.585047   \n",
       "13              12.98            -2.725383             3.766003      0.585047   \n",
       "14             -13.30            -1.145942             4.046528      0.585047   \n",
       "15              -3.04             1.486838            -1.492216      0.585047   \n",
       "16              -2.18             0.765809            -1.384812      0.585047   \n",
       "17              -0.54             1.016896             0.703841      0.585047   \n",
       "18              14.03            -1.907323             3.895649      0.585047   \n",
       "19             -12.25            -0.327882             4.176174      0.585047   \n",
       "\n",
       "    receiver_s_y  receiver_distance_from_los  defense_football_x  \\\n",
       "0       4.189346                       14.22              -17.87   \n",
       "1       4.189346                       14.22              -17.87   \n",
       "2       4.189346                       14.22              -17.87   \n",
       "3       4.189346                       14.22              -17.87   \n",
       "4       4.189346                       14.22              -17.87   \n",
       "5       4.189346                       14.22               -6.15   \n",
       "6       4.189346                       14.22               -6.15   \n",
       "7       4.189346                       14.22               -6.15   \n",
       "8       4.189346                       14.22               -6.15   \n",
       "9       4.189346                       14.22               -6.15   \n",
       "10      4.189346                       14.22              -20.59   \n",
       "11      4.189346                       14.22              -20.59   \n",
       "12      4.189346                       14.22              -20.59   \n",
       "13      4.189346                       14.22              -20.59   \n",
       "14      4.189346                       14.22              -20.59   \n",
       "15      4.189346                       14.22              -19.93   \n",
       "16      4.189346                       14.22              -19.93   \n",
       "17      4.189346                       14.22              -19.93   \n",
       "18      4.189346                       14.22              -19.93   \n",
       "19      4.189346                       14.22              -19.93   \n",
       "\n",
       "    defense_football_y  football_s  \n",
       "0               -27.19        5.87  \n",
       "1               -27.19        5.87  \n",
       "2               -27.19        5.87  \n",
       "3               -27.19        5.87  \n",
       "4               -27.19        5.87  \n",
       "5               -22.77        5.87  \n",
       "6               -22.77        5.87  \n",
       "7               -22.77        5.87  \n",
       "8               -22.77        5.87  \n",
       "9               -22.77        5.87  \n",
       "10              -28.61        5.87  \n",
       "11              -28.61        5.87  \n",
       "12              -28.61        5.87  \n",
       "13              -28.61        5.87  \n",
       "14              -28.61        5.87  \n",
       "15              -27.56        5.87  \n",
       "16              -27.56        5.87  \n",
       "17              -27.56        5.87  \n",
       "18              -27.56        5.87  \n",
       "19              -27.56        5.87  \n",
       "\n",
       "[20 rows x 25 columns]"
      ]
     },
     "execution_count": 109,
     "metadata": {},
     "output_type": "execute_result"
    }
   ],
   "source": [
    "yac_data.head(20)"
   ]
  },
  {
   "cell_type": "code",
   "execution_count": 110,
   "metadata": {},
   "outputs": [
    {
     "data": {
      "text/plain": [
       "(32400, 25)"
      ]
     },
     "execution_count": 110,
     "metadata": {},
     "output_type": "execute_result"
    }
   ],
   "source": [
    "yac_data.shape"
   ]
  },
  {
   "cell_type": "code",
   "execution_count": 111,
   "metadata": {
    "collapsed": true
   },
   "outputs": [],
   "source": [
    "target_data = pd.read_csv(\"~/Desktop/CoverageNet/src/03_coverageNet/01_score_arrived/outputs/interception_training_target.csv\")"
   ]
  },
  {
   "cell_type": "code",
   "execution_count": 112,
   "metadata": {},
   "outputs": [
    {
     "data": {
      "text/html": [
       "<div>\n",
       "<style scoped>\n",
       "    .dataframe tbody tr th:only-of-type {\n",
       "        vertical-align: middle;\n",
       "    }\n",
       "\n",
       "    .dataframe tbody tr th {\n",
       "        vertical-align: top;\n",
       "    }\n",
       "\n",
       "    .dataframe thead th {\n",
       "        text-align: right;\n",
       "    }\n",
       "</style>\n",
       "<table border=\"1\" class=\"dataframe\">\n",
       "  <thead>\n",
       "    <tr style=\"text-align: right;\">\n",
       "      <th></th>\n",
       "      <th>group</th>\n",
       "      <th>gameId</th>\n",
       "      <th>playId</th>\n",
       "      <th>playId2</th>\n",
       "      <th>playId3</th>\n",
       "      <th>offensePlayResult</th>\n",
       "      <th>offensePlayResult_adj</th>\n",
       "    </tr>\n",
       "  </thead>\n",
       "  <tbody>\n",
       "    <tr>\n",
       "      <th>0</th>\n",
       "      <td>test</td>\n",
       "      <td>2018090600</td>\n",
       "      <td>3392</td>\n",
       "      <td>1</td>\n",
       "      <td>1</td>\n",
       "      <td>11</td>\n",
       "      <td>11</td>\n",
       "    </tr>\n",
       "    <tr>\n",
       "      <th>1</th>\n",
       "      <td>test</td>\n",
       "      <td>2018090903</td>\n",
       "      <td>2230</td>\n",
       "      <td>2</td>\n",
       "      <td>8</td>\n",
       "      <td>-4</td>\n",
       "      <td>-4</td>\n",
       "    </tr>\n",
       "    <tr>\n",
       "      <th>2</th>\n",
       "      <td>test</td>\n",
       "      <td>2018091601</td>\n",
       "      <td>3575</td>\n",
       "      <td>3</td>\n",
       "      <td>29</td>\n",
       "      <td>14</td>\n",
       "      <td>14</td>\n",
       "    </tr>\n",
       "    <tr>\n",
       "      <th>3</th>\n",
       "      <td>test</td>\n",
       "      <td>2018092303</td>\n",
       "      <td>2913</td>\n",
       "      <td>4</td>\n",
       "      <td>50</td>\n",
       "      <td>25</td>\n",
       "      <td>25</td>\n",
       "    </tr>\n",
       "    <tr>\n",
       "      <th>4</th>\n",
       "      <td>test</td>\n",
       "      <td>2018092306</td>\n",
       "      <td>801</td>\n",
       "      <td>5</td>\n",
       "      <td>51</td>\n",
       "      <td>16</td>\n",
       "      <td>16</td>\n",
       "    </tr>\n",
       "    <tr>\n",
       "      <th>5</th>\n",
       "      <td>test</td>\n",
       "      <td>2018092310</td>\n",
       "      <td>1414</td>\n",
       "      <td>6</td>\n",
       "      <td>56</td>\n",
       "      <td>6</td>\n",
       "      <td>6</td>\n",
       "    </tr>\n",
       "    <tr>\n",
       "      <th>6</th>\n",
       "      <td>test</td>\n",
       "      <td>2018093000</td>\n",
       "      <td>2991</td>\n",
       "      <td>7</td>\n",
       "      <td>67</td>\n",
       "      <td>-9</td>\n",
       "      <td>-9</td>\n",
       "    </tr>\n",
       "    <tr>\n",
       "      <th>7</th>\n",
       "      <td>test</td>\n",
       "      <td>2018093006</td>\n",
       "      <td>2852</td>\n",
       "      <td>8</td>\n",
       "      <td>76</td>\n",
       "      <td>35</td>\n",
       "      <td>35</td>\n",
       "    </tr>\n",
       "    <tr>\n",
       "      <th>8</th>\n",
       "      <td>test</td>\n",
       "      <td>2018100400</td>\n",
       "      <td>3866</td>\n",
       "      <td>9</td>\n",
       "      <td>89</td>\n",
       "      <td>-17</td>\n",
       "      <td>-17</td>\n",
       "    </tr>\n",
       "    <tr>\n",
       "      <th>9</th>\n",
       "      <td>test</td>\n",
       "      <td>2018100700</td>\n",
       "      <td>1307</td>\n",
       "      <td>10</td>\n",
       "      <td>90</td>\n",
       "      <td>10</td>\n",
       "      <td>10</td>\n",
       "    </tr>\n",
       "  </tbody>\n",
       "</table>\n",
       "</div>"
      ],
      "text/plain": [
       "  group      gameId  playId  playId2  playId3  offensePlayResult  \\\n",
       "0  test  2018090600    3392        1        1                 11   \n",
       "1  test  2018090903    2230        2        8                 -4   \n",
       "2  test  2018091601    3575        3       29                 14   \n",
       "3  test  2018092303    2913        4       50                 25   \n",
       "4  test  2018092306     801        5       51                 16   \n",
       "5  test  2018092310    1414        6       56                  6   \n",
       "6  test  2018093000    2991        7       67                 -9   \n",
       "7  test  2018093006    2852        8       76                 35   \n",
       "8  test  2018100400    3866        9       89                -17   \n",
       "9  test  2018100700    1307       10       90                 10   \n",
       "\n",
       "   offensePlayResult_adj  \n",
       "0                     11  \n",
       "1                     -4  \n",
       "2                     14  \n",
       "3                     25  \n",
       "4                     16  \n",
       "5                      6  \n",
       "6                     -9  \n",
       "7                     35  \n",
       "8                    -17  \n",
       "9                     10  "
      ]
     },
     "execution_count": 112,
     "metadata": {},
     "output_type": "execute_result"
    }
   ],
   "source": [
    "target_data.head(10)"
   ]
  },
  {
   "cell_type": "markdown",
   "metadata": {},
   "source": [
    "# Formatting the Data"
   ]
  },
  {
   "cell_type": "code",
   "execution_count": 113,
   "metadata": {},
   "outputs": [
    {
     "data": {
      "text/plain": [
       "Index(['group', 'gameId', 'playId', 'defense_nflId', 'offense_nflId',\n",
       "       'playId3', 'playId2', 'defenseId', 'offenseId', 'defense_s_x',\n",
       "       'defense_s_y', 'defense_receiver_x', 'defense_receiver_y',\n",
       "       'defense_receiver_s_x', 'defense_receiver_s_y', 'defense_offense_x',\n",
       "       'defense_offense_y', 'defense_offense_s_x', 'defense_offense_s_y',\n",
       "       'receiver_s_x', 'receiver_s_y', 'receiver_distance_from_los',\n",
       "       'defense_football_x', 'defense_football_y', 'football_s'],\n",
       "      dtype='object')"
      ]
     },
     "execution_count": 113,
     "metadata": {},
     "output_type": "execute_result"
    }
   ],
   "source": [
    "yac_data.columns"
   ]
  },
  {
   "cell_type": "code",
   "execution_count": 114,
   "metadata": {
    "collapsed": true
   },
   "outputs": [],
   "source": [
    "def create_x(data, nfeatures):\n",
    "    # creating a numpy tensor to hold the play data\n",
    "    np_mat = np.array(data.drop(['group', 'gameId', 'playId', 'playId3','defense_nflId', 'offense_nflId'],\n",
    "                               axis = 1))\n",
    "    \n",
    "    # setting parameters\n",
    "    ngames = np.max(np.array(data['playId2']))\n",
    "    nDef = 11\n",
    "    nOff = 10\n",
    "    \n",
    "    # initializing the tensor\n",
    "    np_tensor = np.zeros((ngames, nDef, nOff, nfeatures))\n",
    "    \n",
    "    for row in range(len(np_mat)):\n",
    "        np_tensor[int(np_mat[row][0]) - 1][int(np_mat[row][1]) - 1][int(np_mat[row][2]) - 1] = np_mat[row][3:]\n",
    "    \n",
    "    np_tensor = np_tensor.astype('float32')\n",
    "    \n",
    "    return(np_tensor)"
   ]
  },
  {
   "cell_type": "code",
   "execution_count": 115,
   "metadata": {
    "collapsed": true
   },
   "outputs": [],
   "source": [
    "X_train = create_x(data = yac_data[yac_data[\"group\"] == \"training\"],\n",
    "                  nfeatures = 16)"
   ]
  },
  {
   "cell_type": "code",
   "execution_count": 116,
   "metadata": {},
   "outputs": [
    {
     "data": {
      "text/plain": [
       "(452, 11, 10, 16)"
      ]
     },
     "execution_count": 116,
     "metadata": {},
     "output_type": "execute_result"
    }
   ],
   "source": [
    "X_train.shape"
   ]
  },
  {
   "cell_type": "code",
   "execution_count": 117,
   "metadata": {},
   "outputs": [
    {
     "data": {
      "text/plain": [
       "array([  5.868363 ,   3.1703653,   1.25     , -16.28     ,   1.9394224,\n",
       "        -1.2177466,  -3.37     , -34.29     ,  -2.0850422,   2.0639093,\n",
       "         3.9289408,   4.3881116,  16.35     ,   4.22     , -16.4      ,\n",
       "        17.93     ], dtype=float32)"
      ]
     },
     "execution_count": 117,
     "metadata": {},
     "output_type": "execute_result"
    }
   ],
   "source": [
    "X_train[0][0][0]"
   ]
  },
  {
   "cell_type": "code",
   "execution_count": 118,
   "metadata": {
    "collapsed": true
   },
   "outputs": [],
   "source": [
    "X_validation = create_x(data = yac_data[(yac_data[\"group\"] == \"validation\")&(yac_data[\"gameId\"] < 20000000000)],\n",
    "                  nfeatures = 16)"
   ]
  },
  {
   "cell_type": "code",
   "execution_count": 119,
   "metadata": {},
   "outputs": [
    {
     "data": {
      "text/plain": [
       "(49, 11, 10, 16)"
      ]
     },
     "execution_count": 119,
     "metadata": {},
     "output_type": "execute_result"
    }
   ],
   "source": [
    "X_validation.shape"
   ]
  },
  {
   "cell_type": "code",
   "execution_count": 120,
   "metadata": {},
   "outputs": [
    {
     "data": {
      "text/plain": [
       "array([-0.7682554, -6.9476533,  1.57     ,  4.66     , -4.537274 ,\n",
       "       -5.333807 , 10.39     , -4.69     , -0.4911405, -6.7338605,\n",
       "        3.7690184, -1.6138463,  2.35     ,  2.78     ,  3.26     ,\n",
       "       20.34     ], dtype=float32)"
      ]
     },
     "execution_count": 120,
     "metadata": {},
     "output_type": "execute_result"
    }
   ],
   "source": [
    "X_validation[0][0][0]"
   ]
  },
  {
   "cell_type": "code",
   "execution_count": 121,
   "metadata": {
    "collapsed": true
   },
   "outputs": [],
   "source": [
    "X_test = create_x(data = yac_data[(yac_data[\"group\"] == \"test\")&(yac_data[\"gameId\"] < 20000000000)],\n",
    "                  nfeatures = 16)"
   ]
  },
  {
   "cell_type": "code",
   "execution_count": 122,
   "metadata": {},
   "outputs": [
    {
     "data": {
      "text/plain": [
       "(49, 11, 10, 16)"
      ]
     },
     "execution_count": 122,
     "metadata": {},
     "output_type": "execute_result"
    }
   ],
   "source": [
    "X_test.shape"
   ]
  },
  {
   "cell_type": "code",
   "execution_count": 123,
   "metadata": {},
   "outputs": [
    {
     "data": {
      "text/plain": [
       "array([  0.89578533,   0.9282611 , -20.08      , -27.38      ,\n",
       "         0.31073877,  -3.261085  ,   4.        ,  -2.67      ,\n",
       "         1.9827329 ,  -0.6544407 ,   0.5850465 ,   4.1893463 ,\n",
       "        14.22      , -17.87      , -27.19      ,   5.87      ],\n",
       "      dtype=float32)"
      ]
     },
     "execution_count": 123,
     "metadata": {},
     "output_type": "execute_result"
    }
   ],
   "source": [
    "X_test[0][0][0]"
   ]
  },
  {
   "cell_type": "code",
   "execution_count": 124,
   "metadata": {
    "collapsed": true
   },
   "outputs": [],
   "source": [
    "def create_y(data):\n",
    "    targets = np.array(data[\"offensePlayResult_adj\"])\n",
    "    \n",
    "    y = np.zeros((targets.shape[0], 199))\n",
    "    for idx, target in enumerate(list(targets)):\n",
    "        y[idx][99 + target] = 1\n",
    "    \n",
    "    return(y)"
   ]
  },
  {
   "cell_type": "code",
   "execution_count": 125,
   "metadata": {
    "collapsed": true
   },
   "outputs": [],
   "source": [
    "y_train = create_y(data = target_data[(target_data[\"group\"] == \"training\")])"
   ]
  },
  {
   "cell_type": "code",
   "execution_count": 126,
   "metadata": {},
   "outputs": [
    {
     "data": {
      "text/plain": [
       "(452, 199)"
      ]
     },
     "execution_count": 126,
     "metadata": {},
     "output_type": "execute_result"
    }
   ],
   "source": [
    "y_train.shape"
   ]
  },
  {
   "cell_type": "code",
   "execution_count": 127,
   "metadata": {},
   "outputs": [
    {
     "data": {
      "text/plain": [
       "array([0., 0., 0., 0., 0., 0., 0., 0., 0., 0., 0., 0., 0., 0., 0., 0., 0.,\n",
       "       0., 0., 0., 0., 0., 0., 0., 0., 0., 0., 0., 0., 0., 0., 0., 0., 0.,\n",
       "       0., 0., 0., 0., 0., 0., 0., 0., 0., 0., 0., 0., 0., 0., 0., 0., 0.,\n",
       "       0., 0., 0., 0., 0., 0., 0., 0., 0., 0., 0., 0., 0., 0., 0., 0., 0.,\n",
       "       0., 0., 0., 0., 0., 0., 0., 0., 0., 0., 0., 0., 0., 0., 0., 0., 0.,\n",
       "       0., 0., 0., 0., 0., 0., 0., 0., 0., 0., 0., 0., 1., 0., 0., 0., 0.,\n",
       "       0., 0., 0., 0., 0., 0., 0., 0., 0., 0., 0., 0., 0., 0., 0., 0., 0.,\n",
       "       0., 0., 0., 0., 0., 0., 0., 0., 0., 0., 0., 0., 0., 0., 0., 0., 0.,\n",
       "       0., 0., 0., 0., 0., 0., 0., 0., 0., 0., 0., 0., 0., 0., 0., 0., 0.,\n",
       "       0., 0., 0., 0., 0., 0., 0., 0., 0., 0., 0., 0., 0., 0., 0., 0., 0.,\n",
       "       0., 0., 0., 0., 0., 0., 0., 0., 0., 0., 0., 0., 0., 0., 0., 0., 0.,\n",
       "       0., 0., 0., 0., 0., 0., 0., 0., 0., 0., 0., 0.])"
      ]
     },
     "execution_count": 127,
     "metadata": {},
     "output_type": "execute_result"
    }
   ],
   "source": [
    "y_train[0]"
   ]
  },
  {
   "cell_type": "code",
   "execution_count": 128,
   "metadata": {
    "collapsed": true
   },
   "outputs": [],
   "source": [
    "y_validation = create_y(data = target_data[(target_data[\"group\"] == \"validation\")&(target_data[\"gameId\"] < 20000000000)])"
   ]
  },
  {
   "cell_type": "code",
   "execution_count": 129,
   "metadata": {},
   "outputs": [
    {
     "data": {
      "text/plain": [
       "(49, 199)"
      ]
     },
     "execution_count": 129,
     "metadata": {},
     "output_type": "execute_result"
    }
   ],
   "source": [
    "y_validation.shape"
   ]
  },
  {
   "cell_type": "code",
   "execution_count": 130,
   "metadata": {
    "collapsed": true
   },
   "outputs": [],
   "source": [
    "y_test = create_y(data = target_data[(target_data[\"group\"] == \"test\") & (target_data[\"gameId\"] < 20000000000)])"
   ]
  },
  {
   "cell_type": "code",
   "execution_count": 131,
   "metadata": {},
   "outputs": [
    {
     "data": {
      "text/plain": [
       "(49, 199)"
      ]
     },
     "execution_count": 131,
     "metadata": {},
     "output_type": "execute_result"
    }
   ],
   "source": [
    "y_test.shape"
   ]
  },
  {
   "cell_type": "code",
   "execution_count": 132,
   "metadata": {},
   "outputs": [
    {
     "data": {
      "text/plain": [
       "array([0., 0., 0., 0., 0., 0., 0., 0., 0., 0., 0., 0., 0., 0., 0., 0., 0.,\n",
       "       0., 0., 0., 0., 0., 0., 0., 0., 0., 0., 0., 0., 0., 0., 0., 0., 0.,\n",
       "       0., 0., 0., 0., 0., 0., 0., 0., 0., 0., 0., 0., 0., 0., 0., 0., 0.,\n",
       "       0., 0., 0., 0., 0., 0., 0., 0., 0., 0., 0., 0., 0., 0., 0., 0., 0.,\n",
       "       0., 0., 0., 0., 0., 0., 0., 0., 0., 0., 0., 0., 0., 0., 0., 0., 0.,\n",
       "       0., 0., 0., 0., 0., 0., 0., 0., 0., 0., 0., 0., 0., 0., 0., 0., 0.,\n",
       "       0., 0., 0., 0., 0., 0., 0., 0., 1., 0., 0., 0., 0., 0., 0., 0., 0.,\n",
       "       0., 0., 0., 0., 0., 0., 0., 0., 0., 0., 0., 0., 0., 0., 0., 0., 0.,\n",
       "       0., 0., 0., 0., 0., 0., 0., 0., 0., 0., 0., 0., 0., 0., 0., 0., 0.,\n",
       "       0., 0., 0., 0., 0., 0., 0., 0., 0., 0., 0., 0., 0., 0., 0., 0., 0.,\n",
       "       0., 0., 0., 0., 0., 0., 0., 0., 0., 0., 0., 0., 0., 0., 0., 0., 0.,\n",
       "       0., 0., 0., 0., 0., 0., 0., 0., 0., 0., 0., 0.])"
      ]
     },
     "execution_count": 132,
     "metadata": {},
     "output_type": "execute_result"
    }
   ],
   "source": [
    "y_test[0]"
   ]
  },
  {
   "cell_type": "markdown",
   "metadata": {},
   "source": [
    "# Training a Convolutional Neural Network Model"
   ]
  },
  {
   "cell_type": "code",
   "execution_count": 151,
   "metadata": {
    "collapsed": true
   },
   "outputs": [],
   "source": [
    "model = tf.keras.Sequential()"
   ]
  },
  {
   "cell_type": "code",
   "execution_count": 152,
   "metadata": {
    "collapsed": true
   },
   "outputs": [],
   "source": [
    "# first convolutional neural network\n",
    "model.add(layers.Conv2D(50, \n",
    "                        kernel_size=(1,1), \n",
    "                        strides=(1,1), \n",
    "                        input_shape = (11,10,16)))\n",
    "model.add(layers.Activation('relu'))\n",
    "model.add(layers.Conv2D(100, \n",
    "                        kernel_size=(1,1), \n",
    "                        strides=(1,1)))\n",
    "model.add(layers.Activation('relu'))\n",
    "model.add(layers.Conv2D(50, \n",
    "                        kernel_size=(1,1), \n",
    "                        strides=(1,1)))\n",
    "model.add(layers.Activation('relu'))\n",
    "\n",
    "import tensorflow.keras.backend as K\n",
    "\n",
    "def channelPool(x):\n",
    "    return .5*K.max(x,axis=2) + .5*K.mean(x,axis=2)\n",
    "\n",
    "model.add(layers.Lambda(channelPool))"
   ]
  },
  {
   "cell_type": "code",
   "execution_count": 153,
   "metadata": {
    "collapsed": true
   },
   "outputs": [],
   "source": [
    "# second convolutional neural network\n",
    "model.add(layers.BatchNormalization())\n",
    "model.add(layers.Conv1D(50, \n",
    "                        kernel_size=1, \n",
    "                        strides=1))\n",
    "model.add(layers.Activation('relu'))\n",
    "model.add(layers.BatchNormalization())\n",
    "model.add(layers.Conv1D(100, \n",
    "                        kernel_size=1, \n",
    "                        strides=1))\n",
    "model.add(layers.Activation('relu'))\n",
    "model.add(layers.BatchNormalization())\n",
    "model.add(layers.Dropout(0.3))\n",
    "model.add(layers.Conv1D(50, \n",
    "                        kernel_size=1, \n",
    "                        strides=1))\n",
    "model.add(layers.Activation('relu'))\n",
    "model.add(layers.BatchNormalization())\n",
    "# model.add(layers.AvgPool2D(pool_size=(11, 1)))\n",
    "\n",
    "def channelPool(x):\n",
    "    return .5*K.max(x,axis=1) + .5*K.mean(x,axis=1)\n",
    "\n",
    "model.add(layers.Lambda(channelPool))"
   ]
  },
  {
   "cell_type": "code",
   "execution_count": 154,
   "metadata": {
    "collapsed": true
   },
   "outputs": [],
   "source": [
    "model.add(layers.Flatten())\n",
    "model.add(layers.Dense(96))\n",
    "model.add(layers.Activation('relu'))\n",
    "model.add(layers.BatchNormalization())\n",
    "model.add(layers.Dense(256))\n",
    "model.add(layers.Activation('relu'))\n",
    "model.add(layers.BatchNormalization())\n",
    "model.add(layers.Dropout(0.3))\n",
    "model.add(layers.Dense(199))\n",
    "model.add(layers.Activation('softmax'))"
   ]
  },
  {
   "cell_type": "code",
   "execution_count": 155,
   "metadata": {
    "scrolled": true
   },
   "outputs": [
    {
     "name": "stdout",
     "output_type": "stream",
     "text": [
      "Model: \"sequential_8\"\n",
      "_________________________________________________________________\n",
      "Layer (type)                 Output Shape              Param #   \n",
      "=================================================================\n",
      "conv2d_24 (Conv2D)           (None, 11, 10, 50)        850       \n",
      "_________________________________________________________________\n",
      "activation_72 (Activation)   (None, 11, 10, 50)        0         \n",
      "_________________________________________________________________\n",
      "conv2d_25 (Conv2D)           (None, 11, 10, 100)       5100      \n",
      "_________________________________________________________________\n",
      "activation_73 (Activation)   (None, 11, 10, 100)       0         \n",
      "_________________________________________________________________\n",
      "conv2d_26 (Conv2D)           (None, 11, 10, 50)        5050      \n",
      "_________________________________________________________________\n",
      "activation_74 (Activation)   (None, 11, 10, 50)        0         \n",
      "_________________________________________________________________\n",
      "lambda_16 (Lambda)           (None, 11, 50)            0         \n",
      "_________________________________________________________________\n",
      "batch_normalization_48 (Batc (None, 11, 50)            200       \n",
      "_________________________________________________________________\n",
      "conv1d_24 (Conv1D)           (None, 11, 50)            2550      \n",
      "_________________________________________________________________\n",
      "activation_75 (Activation)   (None, 11, 50)            0         \n",
      "_________________________________________________________________\n",
      "batch_normalization_49 (Batc (None, 11, 50)            200       \n",
      "_________________________________________________________________\n",
      "conv1d_25 (Conv1D)           (None, 11, 100)           5100      \n",
      "_________________________________________________________________\n",
      "activation_76 (Activation)   (None, 11, 100)           0         \n",
      "_________________________________________________________________\n",
      "batch_normalization_50 (Batc (None, 11, 100)           400       \n",
      "_________________________________________________________________\n",
      "dropout_18 (Dropout)         (None, 11, 100)           0         \n",
      "_________________________________________________________________\n",
      "conv1d_26 (Conv1D)           (None, 11, 50)            5050      \n",
      "_________________________________________________________________\n",
      "activation_77 (Activation)   (None, 11, 50)            0         \n",
      "_________________________________________________________________\n",
      "batch_normalization_51 (Batc (None, 11, 50)            200       \n",
      "_________________________________________________________________\n",
      "lambda_17 (Lambda)           (None, 50)                0         \n",
      "_________________________________________________________________\n",
      "flatten_8 (Flatten)          (None, 50)                0         \n",
      "_________________________________________________________________\n",
      "dense_24 (Dense)             (None, 96)                4896      \n",
      "_________________________________________________________________\n",
      "activation_78 (Activation)   (None, 96)                0         \n",
      "_________________________________________________________________\n",
      "batch_normalization_52 (Batc (None, 96)                384       \n",
      "_________________________________________________________________\n",
      "dense_25 (Dense)             (None, 256)               24832     \n",
      "_________________________________________________________________\n",
      "activation_79 (Activation)   (None, 256)               0         \n",
      "_________________________________________________________________\n",
      "batch_normalization_53 (Batc (None, 256)               1024      \n",
      "_________________________________________________________________\n",
      "dropout_19 (Dropout)         (None, 256)               0         \n",
      "_________________________________________________________________\n",
      "dense_26 (Dense)             (None, 199)               51143     \n",
      "_________________________________________________________________\n",
      "activation_80 (Activation)   (None, 199)               0         \n",
      "=================================================================\n",
      "Total params: 106,979\n",
      "Trainable params: 105,775\n",
      "Non-trainable params: 1,204\n",
      "_________________________________________________________________\n"
     ]
    }
   ],
   "source": [
    "model.summary()"
   ]
  },
  {
   "cell_type": "code",
   "execution_count": 156,
   "metadata": {
    "collapsed": true
   },
   "outputs": [],
   "source": [
    "import tensorflow.keras.backend as K\n",
    "def crps(y_true, y_pred):\n",
    "    y_pred =  K.cumsum(y_pred, axis=1)\n",
    "    ym =  K.cast(K.reshape(K.argmax(y_true, axis=1) - 99, (-1, 1)), \n",
    "        dtype='int32')\n",
    "    n = K.arange(-99, 100)\n",
    "    step = K.cast(K.greater_equal(n - ym, 0), dtype='float32')\n",
    "    return K.mean(K.sum(K.square(y_pred - step), axis=1)) / 199"
   ]
  },
  {
   "cell_type": "code",
   "execution_count": 157,
   "metadata": {
    "collapsed": true
   },
   "outputs": [],
   "source": [
    "from tensorflow.keras.callbacks import EarlyStopping,  ModelCheckpoint"
   ]
  },
  {
   "cell_type": "code",
   "execution_count": 158,
   "metadata": {
    "collapsed": true
   },
   "outputs": [],
   "source": [
    "from tensorflow.keras.optimizers import Adam\n",
    "model.compile(loss=[crps], metrics=[crps], optimizer='adam')"
   ]
  },
  {
   "cell_type": "code",
   "execution_count": 159,
   "metadata": {
    "scrolled": true
   },
   "outputs": [
    {
     "name": "stdout",
     "output_type": "stream",
     "text": [
      "Epoch 1/25\n",
      "15/15 [==============================] - 1s 41ms/step - loss: 0.0914 - crps: 0.0900 - val_loss: 0.0957 - val_crps: 0.0942\n",
      "Epoch 2/25\n",
      "15/15 [==============================] - 0s 16ms/step - loss: 0.0720 - crps: 0.0709 - val_loss: 0.0939 - val_crps: 0.0926\n",
      "Epoch 3/25\n",
      "15/15 [==============================] - 0s 20ms/step - loss: 0.0589 - crps: 0.0615 - val_loss: 0.0907 - val_crps: 0.0896\n",
      "Epoch 4/25\n",
      "15/15 [==============================] - 0s 20ms/step - loss: 0.0536 - crps: 0.0528 - val_loss: 0.0863 - val_crps: 0.0853\n",
      "Epoch 5/25\n",
      "15/15 [==============================] - 0s 20ms/step - loss: 0.0512 - crps: 0.0519 - val_loss: 0.0812 - val_crps: 0.0802\n",
      "Epoch 6/25\n",
      "15/15 [==============================] - 0s 19ms/step - loss: 0.0491 - crps: 0.0487 - val_loss: 0.0754 - val_crps: 0.0744\n",
      "Epoch 7/25\n",
      "15/15 [==============================] - 0s 19ms/step - loss: 0.0492 - crps: 0.0488 - val_loss: 0.0696 - val_crps: 0.0685\n",
      "Epoch 8/25\n",
      "15/15 [==============================] - 0s 22ms/step - loss: 0.0457 - crps: 0.0450 - val_loss: 0.0650 - val_crps: 0.0638\n",
      "Epoch 9/25\n",
      "15/15 [==============================] - 0s 19ms/step - loss: 0.0462 - crps: 0.0491 - val_loss: 0.0626 - val_crps: 0.0617\n",
      "Epoch 10/25\n",
      "15/15 [==============================] - 0s 20ms/step - loss: 0.0459 - crps: 0.0459 - val_loss: 0.0600 - val_crps: 0.0590\n",
      "Epoch 11/25\n",
      "15/15 [==============================] - 0s 21ms/step - loss: 0.0445 - crps: 0.0489 - val_loss: 0.0571 - val_crps: 0.0560\n",
      "Epoch 12/25\n",
      "15/15 [==============================] - 0s 20ms/step - loss: 0.0468 - crps: 0.0472 - val_loss: 0.0577 - val_crps: 0.0571\n",
      "Epoch 13/25\n",
      "15/15 [==============================] - 0s 21ms/step - loss: 0.0451 - crps: 0.0448 - val_loss: 0.0550 - val_crps: 0.0551\n",
      "Epoch 14/25\n",
      "15/15 [==============================] - 0s 23ms/step - loss: 0.0449 - crps: 0.0453 - val_loss: 0.0524 - val_crps: 0.0520\n",
      "Epoch 15/25\n",
      "15/15 [==============================] - 0s 25ms/step - loss: 0.0442 - crps: 0.0439 - val_loss: 0.0523 - val_crps: 0.0514\n",
      "Epoch 16/25\n",
      "15/15 [==============================] - 0s 18ms/step - loss: 0.0455 - crps: 0.0448 - val_loss: 0.0512 - val_crps: 0.0507\n",
      "Epoch 17/25\n",
      "15/15 [==============================] - 0s 16ms/step - loss: 0.0438 - crps: 0.0426 - val_loss: 0.0505 - val_crps: 0.0506\n",
      "Epoch 18/25\n",
      "15/15 [==============================] - 0s 19ms/step - loss: 0.0444 - crps: 0.0468 - val_loss: 0.0510 - val_crps: 0.0502\n",
      "Epoch 19/25\n",
      "15/15 [==============================] - 0s 22ms/step - loss: 0.0438 - crps: 0.0437 - val_loss: 0.0516 - val_crps: 0.0516\n",
      "Epoch 20/25\n",
      "15/15 [==============================] - 0s 21ms/step - loss: 0.0426 - crps: 0.0450 - val_loss: 0.0534 - val_crps: 0.0528\n",
      "Epoch 21/25\n",
      "15/15 [==============================] - 0s 22ms/step - loss: 0.0431 - crps: 0.0505 - val_loss: 0.0539 - val_crps: 0.0526\n",
      "Epoch 22/25\n",
      "15/15 [==============================] - 0s 22ms/step - loss: 0.0437 - crps: 0.0429 - val_loss: 0.0566 - val_crps: 0.0552\n",
      "Epoch 23/25\n",
      "15/15 [==============================] - 0s 21ms/step - loss: 0.0407 - crps: 0.0435 - val_loss: 0.0553 - val_crps: 0.0540\n",
      "Epoch 24/25\n",
      "15/15 [==============================] - 0s 22ms/step - loss: 0.0410 - crps: 0.0413 - val_loss: 0.0560 - val_crps: 0.0549\n",
      "Epoch 25/25\n",
      "15/15 [==============================] - 0s 19ms/step - loss: 0.0421 - crps: 0.0444 - val_loss: 0.0571 - val_crps: 0.0565\n"
     ]
    }
   ],
   "source": [
    "history = model.fit(X_train, y_train,\n",
    "                   validation_data = (X_validation, y_validation),\n",
    "                   # batch_size = 64,\n",
    "                   epochs = 25,\n",
    "                   verbose = 1)"
   ]
  },
  {
   "cell_type": "code",
   "execution_count": 160,
   "metadata": {},
   "outputs": [
    {
     "name": "stdout",
     "output_type": "stream",
     "text": [
      "2/2 [==============================] - 0s 3ms/step - loss: 0.0473 - crps: 0.0454\n"
     ]
    },
    {
     "data": {
      "text/plain": [
       "[0.04728379845619202, 0.045415908098220825]"
      ]
     },
     "execution_count": 160,
     "metadata": {},
     "output_type": "execute_result"
    }
   ],
   "source": [
    "model.evaluate(X_test, y_test)"
   ]
  },
  {
   "cell_type": "markdown",
   "metadata": {},
   "source": [
    "# Examining Results\n",
    "\n",
    "The plays analyzed are part of the holdout set, so the CNN model did not ever see the data in training, or indirectly through optimizing the crps of the cross-validation set."
   ]
  },
  {
   "cell_type": "markdown",
   "metadata": {},
   "source": [
    "### Play that Went For Negative Yardage"
   ]
  },
  {
   "attachments": {
    "ebbcd3f0-5eb0-4ae3-a77e-ab3254ec2b38.png": {
     "image/png": "[encoded data removed]"
    }
   },
   "cell_type": "markdown",
   "metadata": {},
   "source": [
    "![ebbcd3f0-5eb0-4ae3-a77e-ab3254ec2b38.png](attachment:ebbcd3f0-5eb0-4ae3-a77e-ab3254ec2b38.png)"
   ]
  },
  {
   "cell_type": "code",
   "execution_count": 161,
   "metadata": {},
   "outputs": [
    {
     "data": {
      "text/plain": [
       "8"
      ]
     },
     "execution_count": 161,
     "metadata": {},
     "output_type": "execute_result"
    }
   ],
   "source": [
    "yac_data[(yac_data[\"gameId\"] == 2018093006) & (yac_data[\"playId\"] == 2852)][\"playId2\"].iloc[0]"
   ]
  },
  {
   "cell_type": "code",
   "execution_count": 162,
   "metadata": {},
   "outputs": [
    {
     "name": "stdout",
     "output_type": "stream",
     "text": [
      "The actual result of the play was a 35 gain.\n"
     ]
    }
   ],
   "source": [
    "yards = target_data[(target_data[\"gameId\"] == 2018093006) & (target_data[\"playId\"] == 2852)][\"offensePlayResult\"].iloc[0]\n",
    "print(\"The actual result of the play was a \" + str(yards) + \" gain.\")"
   ]
  },
  {
   "cell_type": "code",
   "execution_count": 163,
   "metadata": {},
   "outputs": [
    {
     "data": {
      "text/plain": [
       "35"
      ]
     },
     "execution_count": 163,
     "metadata": {},
     "output_type": "execute_result"
    }
   ],
   "source": [
    "np.argmax(y_test[8-1]) - 99"
   ]
  },
  {
   "cell_type": "code",
   "execution_count": 165,
   "metadata": {},
   "outputs": [
    {
     "data": {
      "image/png": "[encoded data removed]",
      "text/plain": [
       "<matplotlib.figure.Figure at 0x1392d7630>"
      ]
     },
     "metadata": {},
     "output_type": "display_data"
    }
   ],
   "source": [
    "plt.plot(np.arange(-99,100), model.predict(X_test)[7], 'b-')\n",
    "plt.xlim(20,50)\n",
    "plt.ylim(0,1)\n",
    "plt.show()"
   ]
  },
  {
   "cell_type": "code",
   "execution_count": 166,
   "metadata": {},
   "outputs": [
    {
     "data": {
      "text/plain": [
       "33.83870244214174"
      ]
     },
     "execution_count": 166,
     "metadata": {},
     "output_type": "execute_result"
    }
   ],
   "source": [
    "# yardage prediction\n",
    "model.predict(X_test)[7].dot(np.arange(-99,100))"
   ]
  },
  {
   "cell_type": "markdown",
   "metadata": {},
   "source": [
    "### Play that Went For No Yardage"
   ]
  },
  {
   "attachments": {
    "4369d8e8-0d25-4dfa-bc20-2c5a454f7628.png": {
     "image/png": "[encoded data removed]"
    }
   },
   "cell_type": "markdown",
   "metadata": {},
   "source": [
    "![4369d8e8-0d25-4dfa-bc20-2c5a454f7628.png](attachment:4369d8e8-0d25-4dfa-bc20-2c5a454f7628.png)"
   ]
  },
  {
   "cell_type": "code",
   "execution_count": 167,
   "metadata": {},
   "outputs": [
    {
     "data": {
      "text/plain": [
       "42"
      ]
     },
     "execution_count": 167,
     "metadata": {},
     "output_type": "execute_result"
    }
   ],
   "source": [
    "yac_data[(yac_data[\"gameId\"] == 2018121606) & (yac_data[\"playId\"] == 3630)][\"playId2\"].iloc[0]"
   ]
  },
  {
   "cell_type": "code",
   "execution_count": 168,
   "metadata": {},
   "outputs": [
    {
     "name": "stdout",
     "output_type": "stream",
     "text": [
      "The actual result of the play was a 0 gain.\n"
     ]
    }
   ],
   "source": [
    "yards = target_data[(target_data[\"gameId\"] == 2018121606) & (target_data[\"playId\"] == 3630)][\"offensePlayResult\"].iloc[0]\n",
    "print(\"The actual result of the play was a \" + str(yards) + \" gain.\")"
   ]
  },
  {
   "cell_type": "code",
   "execution_count": 169,
   "metadata": {},
   "outputs": [
    {
     "data": {
      "text/plain": [
       "0"
      ]
     },
     "execution_count": 169,
     "metadata": {},
     "output_type": "execute_result"
    }
   ],
   "source": [
    "np.argmax(y_test[42-1]) - 99"
   ]
  },
  {
   "cell_type": "code",
   "execution_count": 172,
   "metadata": {},
   "outputs": [
    {
     "data": {
      "image/png": "[encoded data removed]",
      "text/plain": [
       "<matplotlib.figure.Figure at 0x13b9f2b38>"
      ]
     },
     "metadata": {},
     "output_type": "display_data"
    }
   ],
   "source": [
    "plt.plot(np.arange(-99,100), model.predict(X_test)[41], 'b-')\n",
    "plt.xlim(-20,20)\n",
    "plt.ylim(0,1)\n",
    "plt.show()"
   ]
  },
  {
   "cell_type": "code",
   "execution_count": 173,
   "metadata": {},
   "outputs": [
    {
     "data": {
      "text/plain": [
       "-0.9662986529129114"
      ]
     },
     "execution_count": 173,
     "metadata": {},
     "output_type": "execute_result"
    }
   ],
   "source": [
    "# yardage prediction\n",
    "model.predict(X_test)[41].dot(np.arange(-99,100))"
   ]
  },
  {
   "cell_type": "markdown",
   "metadata": {},
   "source": [
    "### Play that Went For 10 Yards"
   ]
  },
  {
   "attachments": {
    "209bc61f-6ca4-4ee8-b203-2ca1fbc11d9f.png": {
     "image/png": "[encoded data removed]"
    }
   },
   "cell_type": "markdown",
   "metadata": {},
   "source": [
    "![209bc61f-6ca4-4ee8-b203-2ca1fbc11d9f.png](attachment:209bc61f-6ca4-4ee8-b203-2ca1fbc11d9f.png)"
   ]
  },
  {
   "cell_type": "code",
   "execution_count": 174,
   "metadata": {},
   "outputs": [
    {
     "data": {
      "text/plain": [
       "26"
      ]
     },
     "execution_count": 174,
     "metadata": {},
     "output_type": "execute_result"
    }
   ],
   "source": [
    "yac_data[(yac_data[\"gameId\"] == 2018110402) & (yac_data[\"playId\"] == 242)][\"playId2\"].iloc[0]"
   ]
  },
  {
   "cell_type": "code",
   "execution_count": 175,
   "metadata": {},
   "outputs": [
    {
     "name": "stdout",
     "output_type": "stream",
     "text": [
      "The actual result of the play was a -12 gain.\n"
     ]
    }
   ],
   "source": [
    "yards = target_data[(target_data[\"gameId\"] == 2018110402) & (target_data[\"playId\"] == 242)][\"offensePlayResult\"].iloc[0]\n",
    "print(\"The actual result of the play was a \" + str(yards) + \" gain.\")"
   ]
  },
  {
   "cell_type": "code",
   "execution_count": 176,
   "metadata": {},
   "outputs": [
    {
     "data": {
      "text/plain": [
       "-12"
      ]
     },
     "execution_count": 176,
     "metadata": {},
     "output_type": "execute_result"
    }
   ],
   "source": [
    "np.argmax(y_test[26-1]) - 99"
   ]
  },
  {
   "cell_type": "code",
   "execution_count": 179,
   "metadata": {},
   "outputs": [
    {
     "data": {
      "image/png": "[encoded data removed]",
      "text/plain": [
       "<matplotlib.figure.Figure at 0x13995dcc0>"
      ]
     },
     "metadata": {},
     "output_type": "display_data"
    }
   ],
   "source": [
    "plt.plot(np.arange(-99,100), model.predict(X_test)[25], 'b-')\n",
    "plt.xlim(-20,20)\n",
    "plt.ylim(0,.5)\n",
    "plt.show()"
   ]
  },
  {
   "cell_type": "code",
   "execution_count": 180,
   "metadata": {},
   "outputs": [
    {
     "data": {
      "text/plain": [
       "8.470139522876707"
      ]
     },
     "execution_count": 180,
     "metadata": {},
     "output_type": "execute_result"
    }
   ],
   "source": [
    "# yardage prediction\n",
    "model.predict(X_test)[25].dot(np.arange(-99,100))"
   ]
  },
  {
   "cell_type": "markdown",
   "metadata": {},
   "source": [
    "### Play that Went For 30+ Yards"
   ]
  },
  {
   "attachments": {
    "1ac2b2d9-5cdc-463a-add5-7c0806576a2a.png": {
     "image/png": "[encoded data removed]"
    }
   },
   "cell_type": "markdown",
   "metadata": {},
   "source": [
    "![1ac2b2d9-5cdc-463a-add5-7c0806576a2a.png](attachment:1ac2b2d9-5cdc-463a-add5-7c0806576a2a.png)"
   ]
  },
  {
   "cell_type": "code",
   "execution_count": 183,
   "metadata": {},
   "outputs": [
    {
     "data": {
      "text/plain": [
       "43"
      ]
     },
     "execution_count": 183,
     "metadata": {},
     "output_type": "execute_result"
    }
   ],
   "source": [
    "yac_data[(yac_data[\"gameId\"] == 2018121607) & (yac_data[\"playId\"] == 1435)][\"playId2\"].iloc[0]"
   ]
  },
  {
   "cell_type": "code",
   "execution_count": 181,
   "metadata": {},
   "outputs": [
    {
     "name": "stdout",
     "output_type": "stream",
     "text": [
      "The actual result of the play was a -53 gain.\n"
     ]
    }
   ],
   "source": [
    "yards = target_data[(target_data[\"gameId\"] == 2018121607) & (target_data[\"playId\"] == 1435)][\"offensePlayResult\"].iloc[0]\n",
    "print(\"The actual result of the play was a \" + str(yards) + \" gain.\")"
   ]
  },
  {
   "cell_type": "code",
   "execution_count": 184,
   "metadata": {},
   "outputs": [
    {
     "data": {
      "text/plain": [
       "-50"
      ]
     },
     "execution_count": 184,
     "metadata": {},
     "output_type": "execute_result"
    }
   ],
   "source": [
    "np.argmax(y_test[43-1]) - 99"
   ]
  },
  {
   "cell_type": "code",
   "execution_count": 187,
   "metadata": {},
   "outputs": [
    {
     "data": {
      "image/png": "[encoded data removed]",
      "text/plain": [
       "<matplotlib.figure.Figure at 0x13a7a8f98>"
      ]
     },
     "metadata": {},
     "output_type": "display_data"
    }
   ],
   "source": [
    "plt.plot(np.arange(-99,100), model.predict(X_test)[42], 'b-')\n",
    "plt.xlim(-40,10)\n",
    "plt.ylim(0,.5)\n",
    "plt.show()"
   ]
  },
  {
   "cell_type": "code",
   "execution_count": 188,
   "metadata": {},
   "outputs": [
    {
     "data": {
      "text/plain": [
       "-15.964995382406748"
      ]
     },
     "execution_count": 188,
     "metadata": {},
     "output_type": "execute_result"
    }
   ],
   "source": [
    "# yardage prediction\n",
    "model.predict(X_test)[42].dot(np.arange(-99,100))"
   ]
  },
  {
   "cell_type": "markdown",
   "metadata": {},
   "source": [
    "# Scoring Entire Data Set"
   ]
  },
  {
   "cell_type": "code",
   "execution_count": 189,
   "metadata": {
    "collapsed": true
   },
   "outputs": [],
   "source": [
    "pass_arrived_score = pd.read_csv(\"~/Desktop/CoverageNet/src/03_coverageNet/01_score_arrived/outputs/pass_arrived_score_tensor.csv\")"
   ]
  },
  {
   "cell_type": "code",
   "execution_count": 190,
   "metadata": {
    "scrolled": true
   },
   "outputs": [
    {
     "data": {
      "text/html": [
       "<div>\n",
       "<style scoped>\n",
       "    .dataframe tbody tr th:only-of-type {\n",
       "        vertical-align: middle;\n",
       "    }\n",
       "\n",
       "    .dataframe tbody tr th {\n",
       "        vertical-align: top;\n",
       "    }\n",
       "\n",
       "    .dataframe thead th {\n",
       "        text-align: right;\n",
       "    }\n",
       "</style>\n",
       "<table border=\"1\" class=\"dataframe\">\n",
       "  <thead>\n",
       "    <tr style=\"text-align: right;\">\n",
       "      <th></th>\n",
       "      <th>group</th>\n",
       "      <th>gameId</th>\n",
       "      <th>playId</th>\n",
       "      <th>defense_nflId</th>\n",
       "      <th>offense_nflId</th>\n",
       "      <th>playId2</th>\n",
       "      <th>defenseId</th>\n",
       "      <th>offenseId</th>\n",
       "      <th>defense_s_x</th>\n",
       "      <th>defense_s_y</th>\n",
       "      <th>...</th>\n",
       "      <th>defense_offense_s_x</th>\n",
       "      <th>defense_offense_s_y</th>\n",
       "      <th>receiver_s_x</th>\n",
       "      <th>receiver_s_y</th>\n",
       "      <th>receiver_distance_from_los</th>\n",
       "      <th>defense_football_x</th>\n",
       "      <th>defense_football_y</th>\n",
       "      <th>football_s</th>\n",
       "      <th>receiver_football_defender_dist_diff</th>\n",
       "      <th>defender_receiver_football_dist_diff</th>\n",
       "    </tr>\n",
       "  </thead>\n",
       "  <tbody>\n",
       "    <tr>\n",
       "      <th>0</th>\n",
       "      <td>full</td>\n",
       "      <td>2018090600</td>\n",
       "      <td>75</td>\n",
       "      <td>79848</td>\n",
       "      <td>310</td>\n",
       "      <td>1</td>\n",
       "      <td>1</td>\n",
       "      <td>1</td>\n",
       "      <td>0.854323</td>\n",
       "      <td>-7.521638</td>\n",
       "      <td>...</td>\n",
       "      <td>0.866988</td>\n",
       "      <td>-6.931774</td>\n",
       "      <td>-1.624206</td>\n",
       "      <td>-3.905746</td>\n",
       "      <td>8.89</td>\n",
       "      <td>0.95</td>\n",
       "      <td>1.29</td>\n",
       "      <td>12.68</td>\n",
       "      <td>-0.367041</td>\n",
       "      <td>-0.988769</td>\n",
       "    </tr>\n",
       "    <tr>\n",
       "      <th>1</th>\n",
       "      <td>full</td>\n",
       "      <td>2018090600</td>\n",
       "      <td>75</td>\n",
       "      <td>79848</td>\n",
       "      <td>2533040</td>\n",
       "      <td>1</td>\n",
       "      <td>1</td>\n",
       "      <td>2</td>\n",
       "      <td>0.854323</td>\n",
       "      <td>-7.521638</td>\n",
       "      <td>...</td>\n",
       "      <td>-1.580489</td>\n",
       "      <td>-5.786186</td>\n",
       "      <td>-1.624206</td>\n",
       "      <td>-3.905746</td>\n",
       "      <td>8.89</td>\n",
       "      <td>0.95</td>\n",
       "      <td>1.29</td>\n",
       "      <td>12.68</td>\n",
       "      <td>-0.367041</td>\n",
       "      <td>-0.988769</td>\n",
       "    </tr>\n",
       "    <tr>\n",
       "      <th>2</th>\n",
       "      <td>full</td>\n",
       "      <td>2018090600</td>\n",
       "      <td>75</td>\n",
       "      <td>79848</td>\n",
       "      <td>2543583</td>\n",
       "      <td>1</td>\n",
       "      <td>1</td>\n",
       "      <td>3</td>\n",
       "      <td>0.854323</td>\n",
       "      <td>-7.521638</td>\n",
       "      <td>...</td>\n",
       "      <td>-2.652919</td>\n",
       "      <td>-5.933634</td>\n",
       "      <td>-1.624206</td>\n",
       "      <td>-3.905746</td>\n",
       "      <td>8.89</td>\n",
       "      <td>0.95</td>\n",
       "      <td>1.29</td>\n",
       "      <td>12.68</td>\n",
       "      <td>-0.367041</td>\n",
       "      <td>-0.988769</td>\n",
       "    </tr>\n",
       "    <tr>\n",
       "      <th>3</th>\n",
       "      <td>full</td>\n",
       "      <td>2018090600</td>\n",
       "      <td>75</td>\n",
       "      <td>79848</td>\n",
       "      <td>2555415</td>\n",
       "      <td>1</td>\n",
       "      <td>1</td>\n",
       "      <td>4</td>\n",
       "      <td>0.854323</td>\n",
       "      <td>-7.521638</td>\n",
       "      <td>...</td>\n",
       "      <td>-1.216309</td>\n",
       "      <td>-14.260702</td>\n",
       "      <td>-1.624206</td>\n",
       "      <td>-3.905746</td>\n",
       "      <td>8.89</td>\n",
       "      <td>0.95</td>\n",
       "      <td>1.29</td>\n",
       "      <td>12.68</td>\n",
       "      <td>-0.367041</td>\n",
       "      <td>-0.988769</td>\n",
       "    </tr>\n",
       "    <tr>\n",
       "      <th>4</th>\n",
       "      <td>full</td>\n",
       "      <td>2018090600</td>\n",
       "      <td>75</td>\n",
       "      <td>79848</td>\n",
       "      <td>2559033</td>\n",
       "      <td>1</td>\n",
       "      <td>1</td>\n",
       "      <td>5</td>\n",
       "      <td>0.854323</td>\n",
       "      <td>-7.521638</td>\n",
       "      <td>...</td>\n",
       "      <td>-0.722724</td>\n",
       "      <td>-14.146517</td>\n",
       "      <td>-1.624206</td>\n",
       "      <td>-3.905746</td>\n",
       "      <td>8.89</td>\n",
       "      <td>0.95</td>\n",
       "      <td>1.29</td>\n",
       "      <td>12.68</td>\n",
       "      <td>-0.367041</td>\n",
       "      <td>-0.988769</td>\n",
       "    </tr>\n",
       "    <tr>\n",
       "      <th>5</th>\n",
       "      <td>full</td>\n",
       "      <td>2018090600</td>\n",
       "      <td>75</td>\n",
       "      <td>0</td>\n",
       "      <td>0</td>\n",
       "      <td>1</td>\n",
       "      <td>1</td>\n",
       "      <td>6</td>\n",
       "      <td>0.000000</td>\n",
       "      <td>0.000000</td>\n",
       "      <td>...</td>\n",
       "      <td>0.000000</td>\n",
       "      <td>0.000000</td>\n",
       "      <td>0.000000</td>\n",
       "      <td>0.000000</td>\n",
       "      <td>0.00</td>\n",
       "      <td>0.00</td>\n",
       "      <td>0.00</td>\n",
       "      <td>0.00</td>\n",
       "      <td>0.000000</td>\n",
       "      <td>0.000000</td>\n",
       "    </tr>\n",
       "    <tr>\n",
       "      <th>6</th>\n",
       "      <td>full</td>\n",
       "      <td>2018090600</td>\n",
       "      <td>75</td>\n",
       "      <td>0</td>\n",
       "      <td>0</td>\n",
       "      <td>1</td>\n",
       "      <td>1</td>\n",
       "      <td>7</td>\n",
       "      <td>0.000000</td>\n",
       "      <td>0.000000</td>\n",
       "      <td>...</td>\n",
       "      <td>0.000000</td>\n",
       "      <td>0.000000</td>\n",
       "      <td>0.000000</td>\n",
       "      <td>0.000000</td>\n",
       "      <td>0.00</td>\n",
       "      <td>0.00</td>\n",
       "      <td>0.00</td>\n",
       "      <td>0.00</td>\n",
       "      <td>0.000000</td>\n",
       "      <td>0.000000</td>\n",
       "    </tr>\n",
       "    <tr>\n",
       "      <th>7</th>\n",
       "      <td>full</td>\n",
       "      <td>2018090600</td>\n",
       "      <td>75</td>\n",
       "      <td>0</td>\n",
       "      <td>0</td>\n",
       "      <td>1</td>\n",
       "      <td>1</td>\n",
       "      <td>8</td>\n",
       "      <td>0.000000</td>\n",
       "      <td>0.000000</td>\n",
       "      <td>...</td>\n",
       "      <td>0.000000</td>\n",
       "      <td>0.000000</td>\n",
       "      <td>0.000000</td>\n",
       "      <td>0.000000</td>\n",
       "      <td>0.00</td>\n",
       "      <td>0.00</td>\n",
       "      <td>0.00</td>\n",
       "      <td>0.00</td>\n",
       "      <td>0.000000</td>\n",
       "      <td>0.000000</td>\n",
       "    </tr>\n",
       "    <tr>\n",
       "      <th>8</th>\n",
       "      <td>full</td>\n",
       "      <td>2018090600</td>\n",
       "      <td>75</td>\n",
       "      <td>0</td>\n",
       "      <td>0</td>\n",
       "      <td>1</td>\n",
       "      <td>1</td>\n",
       "      <td>9</td>\n",
       "      <td>0.000000</td>\n",
       "      <td>0.000000</td>\n",
       "      <td>...</td>\n",
       "      <td>0.000000</td>\n",
       "      <td>0.000000</td>\n",
       "      <td>0.000000</td>\n",
       "      <td>0.000000</td>\n",
       "      <td>0.00</td>\n",
       "      <td>0.00</td>\n",
       "      <td>0.00</td>\n",
       "      <td>0.00</td>\n",
       "      <td>0.000000</td>\n",
       "      <td>0.000000</td>\n",
       "    </tr>\n",
       "    <tr>\n",
       "      <th>9</th>\n",
       "      <td>full</td>\n",
       "      <td>2018090600</td>\n",
       "      <td>75</td>\n",
       "      <td>0</td>\n",
       "      <td>0</td>\n",
       "      <td>1</td>\n",
       "      <td>1</td>\n",
       "      <td>10</td>\n",
       "      <td>0.000000</td>\n",
       "      <td>0.000000</td>\n",
       "      <td>...</td>\n",
       "      <td>0.000000</td>\n",
       "      <td>0.000000</td>\n",
       "      <td>0.000000</td>\n",
       "      <td>0.000000</td>\n",
       "      <td>0.00</td>\n",
       "      <td>0.00</td>\n",
       "      <td>0.00</td>\n",
       "      <td>0.00</td>\n",
       "      <td>0.000000</td>\n",
       "      <td>0.000000</td>\n",
       "    </tr>\n",
       "    <tr>\n",
       "      <th>10</th>\n",
       "      <td>full</td>\n",
       "      <td>2018090600</td>\n",
       "      <td>75</td>\n",
       "      <td>2495613</td>\n",
       "      <td>310</td>\n",
       "      <td>1</td>\n",
       "      <td>2</td>\n",
       "      <td>1</td>\n",
       "      <td>3.172153</td>\n",
       "      <td>-1.785229</td>\n",
       "      <td>...</td>\n",
       "      <td>3.184818</td>\n",
       "      <td>-1.195365</td>\n",
       "      <td>-1.624206</td>\n",
       "      <td>-3.905746</td>\n",
       "      <td>8.89</td>\n",
       "      <td>0.39</td>\n",
       "      <td>28.85</td>\n",
       "      <td>12.68</td>\n",
       "      <td>-27.712084</td>\n",
       "      <td>26.261806</td>\n",
       "    </tr>\n",
       "    <tr>\n",
       "      <th>11</th>\n",
       "      <td>full</td>\n",
       "      <td>2018090600</td>\n",
       "      <td>75</td>\n",
       "      <td>2495613</td>\n",
       "      <td>2533040</td>\n",
       "      <td>1</td>\n",
       "      <td>2</td>\n",
       "      <td>2</td>\n",
       "      <td>3.172153</td>\n",
       "      <td>-1.785229</td>\n",
       "      <td>...</td>\n",
       "      <td>0.737342</td>\n",
       "      <td>-0.049777</td>\n",
       "      <td>-1.624206</td>\n",
       "      <td>-3.905746</td>\n",
       "      <td>8.89</td>\n",
       "      <td>0.39</td>\n",
       "      <td>28.85</td>\n",
       "      <td>12.68</td>\n",
       "      <td>-27.712084</td>\n",
       "      <td>26.261806</td>\n",
       "    </tr>\n",
       "    <tr>\n",
       "      <th>12</th>\n",
       "      <td>full</td>\n",
       "      <td>2018090600</td>\n",
       "      <td>75</td>\n",
       "      <td>2495613</td>\n",
       "      <td>2543583</td>\n",
       "      <td>1</td>\n",
       "      <td>2</td>\n",
       "      <td>3</td>\n",
       "      <td>3.172153</td>\n",
       "      <td>-1.785229</td>\n",
       "      <td>...</td>\n",
       "      <td>-0.335088</td>\n",
       "      <td>-0.197225</td>\n",
       "      <td>-1.624206</td>\n",
       "      <td>-3.905746</td>\n",
       "      <td>8.89</td>\n",
       "      <td>0.39</td>\n",
       "      <td>28.85</td>\n",
       "      <td>12.68</td>\n",
       "      <td>-27.712084</td>\n",
       "      <td>26.261806</td>\n",
       "    </tr>\n",
       "    <tr>\n",
       "      <th>13</th>\n",
       "      <td>full</td>\n",
       "      <td>2018090600</td>\n",
       "      <td>75</td>\n",
       "      <td>2495613</td>\n",
       "      <td>2555415</td>\n",
       "      <td>1</td>\n",
       "      <td>2</td>\n",
       "      <td>4</td>\n",
       "      <td>3.172153</td>\n",
       "      <td>-1.785229</td>\n",
       "      <td>...</td>\n",
       "      <td>1.101521</td>\n",
       "      <td>-8.524293</td>\n",
       "      <td>-1.624206</td>\n",
       "      <td>-3.905746</td>\n",
       "      <td>8.89</td>\n",
       "      <td>0.39</td>\n",
       "      <td>28.85</td>\n",
       "      <td>12.68</td>\n",
       "      <td>-27.712084</td>\n",
       "      <td>26.261806</td>\n",
       "    </tr>\n",
       "    <tr>\n",
       "      <th>14</th>\n",
       "      <td>full</td>\n",
       "      <td>2018090600</td>\n",
       "      <td>75</td>\n",
       "      <td>2495613</td>\n",
       "      <td>2559033</td>\n",
       "      <td>1</td>\n",
       "      <td>2</td>\n",
       "      <td>5</td>\n",
       "      <td>3.172153</td>\n",
       "      <td>-1.785229</td>\n",
       "      <td>...</td>\n",
       "      <td>1.595106</td>\n",
       "      <td>-8.410108</td>\n",
       "      <td>-1.624206</td>\n",
       "      <td>-3.905746</td>\n",
       "      <td>8.89</td>\n",
       "      <td>0.39</td>\n",
       "      <td>28.85</td>\n",
       "      <td>12.68</td>\n",
       "      <td>-27.712084</td>\n",
       "      <td>26.261806</td>\n",
       "    </tr>\n",
       "    <tr>\n",
       "      <th>15</th>\n",
       "      <td>full</td>\n",
       "      <td>2018090600</td>\n",
       "      <td>75</td>\n",
       "      <td>0</td>\n",
       "      <td>0</td>\n",
       "      <td>1</td>\n",
       "      <td>2</td>\n",
       "      <td>6</td>\n",
       "      <td>0.000000</td>\n",
       "      <td>0.000000</td>\n",
       "      <td>...</td>\n",
       "      <td>0.000000</td>\n",
       "      <td>0.000000</td>\n",
       "      <td>0.000000</td>\n",
       "      <td>0.000000</td>\n",
       "      <td>0.00</td>\n",
       "      <td>0.00</td>\n",
       "      <td>0.00</td>\n",
       "      <td>0.00</td>\n",
       "      <td>0.000000</td>\n",
       "      <td>0.000000</td>\n",
       "    </tr>\n",
       "    <tr>\n",
       "      <th>16</th>\n",
       "      <td>full</td>\n",
       "      <td>2018090600</td>\n",
       "      <td>75</td>\n",
       "      <td>0</td>\n",
       "      <td>0</td>\n",
       "      <td>1</td>\n",
       "      <td>2</td>\n",
       "      <td>7</td>\n",
       "      <td>0.000000</td>\n",
       "      <td>0.000000</td>\n",
       "      <td>...</td>\n",
       "      <td>0.000000</td>\n",
       "      <td>0.000000</td>\n",
       "      <td>0.000000</td>\n",
       "      <td>0.000000</td>\n",
       "      <td>0.00</td>\n",
       "      <td>0.00</td>\n",
       "      <td>0.00</td>\n",
       "      <td>0.00</td>\n",
       "      <td>0.000000</td>\n",
       "      <td>0.000000</td>\n",
       "    </tr>\n",
       "    <tr>\n",
       "      <th>17</th>\n",
       "      <td>full</td>\n",
       "      <td>2018090600</td>\n",
       "      <td>75</td>\n",
       "      <td>0</td>\n",
       "      <td>0</td>\n",
       "      <td>1</td>\n",
       "      <td>2</td>\n",
       "      <td>8</td>\n",
       "      <td>0.000000</td>\n",
       "      <td>0.000000</td>\n",
       "      <td>...</td>\n",
       "      <td>0.000000</td>\n",
       "      <td>0.000000</td>\n",
       "      <td>0.000000</td>\n",
       "      <td>0.000000</td>\n",
       "      <td>0.00</td>\n",
       "      <td>0.00</td>\n",
       "      <td>0.00</td>\n",
       "      <td>0.00</td>\n",
       "      <td>0.000000</td>\n",
       "      <td>0.000000</td>\n",
       "    </tr>\n",
       "    <tr>\n",
       "      <th>18</th>\n",
       "      <td>full</td>\n",
       "      <td>2018090600</td>\n",
       "      <td>75</td>\n",
       "      <td>0</td>\n",
       "      <td>0</td>\n",
       "      <td>1</td>\n",
       "      <td>2</td>\n",
       "      <td>9</td>\n",
       "      <td>0.000000</td>\n",
       "      <td>0.000000</td>\n",
       "      <td>...</td>\n",
       "      <td>0.000000</td>\n",
       "      <td>0.000000</td>\n",
       "      <td>0.000000</td>\n",
       "      <td>0.000000</td>\n",
       "      <td>0.00</td>\n",
       "      <td>0.00</td>\n",
       "      <td>0.00</td>\n",
       "      <td>0.00</td>\n",
       "      <td>0.000000</td>\n",
       "      <td>0.000000</td>\n",
       "    </tr>\n",
       "    <tr>\n",
       "      <th>19</th>\n",
       "      <td>full</td>\n",
       "      <td>2018090600</td>\n",
       "      <td>75</td>\n",
       "      <td>0</td>\n",
       "      <td>0</td>\n",
       "      <td>1</td>\n",
       "      <td>2</td>\n",
       "      <td>10</td>\n",
       "      <td>0.000000</td>\n",
       "      <td>0.000000</td>\n",
       "      <td>...</td>\n",
       "      <td>0.000000</td>\n",
       "      <td>0.000000</td>\n",
       "      <td>0.000000</td>\n",
       "      <td>0.000000</td>\n",
       "      <td>0.00</td>\n",
       "      <td>0.00</td>\n",
       "      <td>0.00</td>\n",
       "      <td>0.00</td>\n",
       "      <td>0.000000</td>\n",
       "      <td>0.000000</td>\n",
       "    </tr>\n",
       "  </tbody>\n",
       "</table>\n",
       "<p>20 rows × 26 columns</p>\n",
       "</div>"
      ],
      "text/plain": [
       "   group      gameId  playId  defense_nflId  offense_nflId  playId2  \\\n",
       "0   full  2018090600      75          79848            310        1   \n",
       "1   full  2018090600      75          79848        2533040        1   \n",
       "2   full  2018090600      75          79848        2543583        1   \n",
       "3   full  2018090600      75          79848        2555415        1   \n",
       "4   full  2018090600      75          79848        2559033        1   \n",
       "5   full  2018090600      75              0              0        1   \n",
       "6   full  2018090600      75              0              0        1   \n",
       "7   full  2018090600      75              0              0        1   \n",
       "8   full  2018090600      75              0              0        1   \n",
       "9   full  2018090600      75              0              0        1   \n",
       "10  full  2018090600      75        2495613            310        1   \n",
       "11  full  2018090600      75        2495613        2533040        1   \n",
       "12  full  2018090600      75        2495613        2543583        1   \n",
       "13  full  2018090600      75        2495613        2555415        1   \n",
       "14  full  2018090600      75        2495613        2559033        1   \n",
       "15  full  2018090600      75              0              0        1   \n",
       "16  full  2018090600      75              0              0        1   \n",
       "17  full  2018090600      75              0              0        1   \n",
       "18  full  2018090600      75              0              0        1   \n",
       "19  full  2018090600      75              0              0        1   \n",
       "\n",
       "    defenseId  offenseId  defense_s_x  defense_s_y  ...  defense_offense_s_x  \\\n",
       "0           1          1     0.854323    -7.521638  ...             0.866988   \n",
       "1           1          2     0.854323    -7.521638  ...            -1.580489   \n",
       "2           1          3     0.854323    -7.521638  ...            -2.652919   \n",
       "3           1          4     0.854323    -7.521638  ...            -1.216309   \n",
       "4           1          5     0.854323    -7.521638  ...            -0.722724   \n",
       "5           1          6     0.000000     0.000000  ...             0.000000   \n",
       "6           1          7     0.000000     0.000000  ...             0.000000   \n",
       "7           1          8     0.000000     0.000000  ...             0.000000   \n",
       "8           1          9     0.000000     0.000000  ...             0.000000   \n",
       "9           1         10     0.000000     0.000000  ...             0.000000   \n",
       "10          2          1     3.172153    -1.785229  ...             3.184818   \n",
       "11          2          2     3.172153    -1.785229  ...             0.737342   \n",
       "12          2          3     3.172153    -1.785229  ...            -0.335088   \n",
       "13          2          4     3.172153    -1.785229  ...             1.101521   \n",
       "14          2          5     3.172153    -1.785229  ...             1.595106   \n",
       "15          2          6     0.000000     0.000000  ...             0.000000   \n",
       "16          2          7     0.000000     0.000000  ...             0.000000   \n",
       "17          2          8     0.000000     0.000000  ...             0.000000   \n",
       "18          2          9     0.000000     0.000000  ...             0.000000   \n",
       "19          2         10     0.000000     0.000000  ...             0.000000   \n",
       "\n",
       "    defense_offense_s_y  receiver_s_x  receiver_s_y  \\\n",
       "0             -6.931774     -1.624206     -3.905746   \n",
       "1             -5.786186     -1.624206     -3.905746   \n",
       "2             -5.933634     -1.624206     -3.905746   \n",
       "3            -14.260702     -1.624206     -3.905746   \n",
       "4            -14.146517     -1.624206     -3.905746   \n",
       "5              0.000000      0.000000      0.000000   \n",
       "6              0.000000      0.000000      0.000000   \n",
       "7              0.000000      0.000000      0.000000   \n",
       "8              0.000000      0.000000      0.000000   \n",
       "9              0.000000      0.000000      0.000000   \n",
       "10            -1.195365     -1.624206     -3.905746   \n",
       "11            -0.049777     -1.624206     -3.905746   \n",
       "12            -0.197225     -1.624206     -3.905746   \n",
       "13            -8.524293     -1.624206     -3.905746   \n",
       "14            -8.410108     -1.624206     -3.905746   \n",
       "15             0.000000      0.000000      0.000000   \n",
       "16             0.000000      0.000000      0.000000   \n",
       "17             0.000000      0.000000      0.000000   \n",
       "18             0.000000      0.000000      0.000000   \n",
       "19             0.000000      0.000000      0.000000   \n",
       "\n",
       "    receiver_distance_from_los  defense_football_x  defense_football_y  \\\n",
       "0                         8.89                0.95                1.29   \n",
       "1                         8.89                0.95                1.29   \n",
       "2                         8.89                0.95                1.29   \n",
       "3                         8.89                0.95                1.29   \n",
       "4                         8.89                0.95                1.29   \n",
       "5                         0.00                0.00                0.00   \n",
       "6                         0.00                0.00                0.00   \n",
       "7                         0.00                0.00                0.00   \n",
       "8                         0.00                0.00                0.00   \n",
       "9                         0.00                0.00                0.00   \n",
       "10                        8.89                0.39               28.85   \n",
       "11                        8.89                0.39               28.85   \n",
       "12                        8.89                0.39               28.85   \n",
       "13                        8.89                0.39               28.85   \n",
       "14                        8.89                0.39               28.85   \n",
       "15                        0.00                0.00                0.00   \n",
       "16                        0.00                0.00                0.00   \n",
       "17                        0.00                0.00                0.00   \n",
       "18                        0.00                0.00                0.00   \n",
       "19                        0.00                0.00                0.00   \n",
       "\n",
       "    football_s  receiver_football_defender_dist_diff  \\\n",
       "0        12.68                             -0.367041   \n",
       "1        12.68                             -0.367041   \n",
       "2        12.68                             -0.367041   \n",
       "3        12.68                             -0.367041   \n",
       "4        12.68                             -0.367041   \n",
       "5         0.00                              0.000000   \n",
       "6         0.00                              0.000000   \n",
       "7         0.00                              0.000000   \n",
       "8         0.00                              0.000000   \n",
       "9         0.00                              0.000000   \n",
       "10       12.68                            -27.712084   \n",
       "11       12.68                            -27.712084   \n",
       "12       12.68                            -27.712084   \n",
       "13       12.68                            -27.712084   \n",
       "14       12.68                            -27.712084   \n",
       "15        0.00                              0.000000   \n",
       "16        0.00                              0.000000   \n",
       "17        0.00                              0.000000   \n",
       "18        0.00                              0.000000   \n",
       "19        0.00                              0.000000   \n",
       "\n",
       "    defender_receiver_football_dist_diff  \n",
       "0                              -0.988769  \n",
       "1                              -0.988769  \n",
       "2                              -0.988769  \n",
       "3                              -0.988769  \n",
       "4                              -0.988769  \n",
       "5                               0.000000  \n",
       "6                               0.000000  \n",
       "7                               0.000000  \n",
       "8                               0.000000  \n",
       "9                               0.000000  \n",
       "10                             26.261806  \n",
       "11                             26.261806  \n",
       "12                             26.261806  \n",
       "13                             26.261806  \n",
       "14                             26.261806  \n",
       "15                              0.000000  \n",
       "16                              0.000000  \n",
       "17                              0.000000  \n",
       "18                              0.000000  \n",
       "19                              0.000000  \n",
       "\n",
       "[20 rows x 26 columns]"
      ]
     },
     "execution_count": 190,
     "metadata": {},
     "output_type": "execute_result"
    }
   ],
   "source": [
    "pass_arrived_score.head(20)"
   ]
  },
  {
   "cell_type": "code",
   "execution_count": 191,
   "metadata": {},
   "outputs": [
    {
     "data": {
      "text/plain": [
       "(1558590, 26)"
      ]
     },
     "execution_count": 191,
     "metadata": {},
     "output_type": "execute_result"
    }
   ],
   "source": [
    "pass_arrived_score.shape"
   ]
  },
  {
   "cell_type": "code",
   "execution_count": 192,
   "metadata": {
    "collapsed": true
   },
   "outputs": [],
   "source": [
    "pass_arrived_score2 = pass_arrived_score.drop(['receiver_football_defender_dist_diff', \n",
    "                                                'defender_receiver_football_dist_diff'],\n",
    "                                            axis = 1)"
   ]
  },
  {
   "cell_type": "code",
   "execution_count": 193,
   "metadata": {},
   "outputs": [
    {
     "data": {
      "text/html": [
       "<div>\n",
       "<style scoped>\n",
       "    .dataframe tbody tr th:only-of-type {\n",
       "        vertical-align: middle;\n",
       "    }\n",
       "\n",
       "    .dataframe tbody tr th {\n",
       "        vertical-align: top;\n",
       "    }\n",
       "\n",
       "    .dataframe thead th {\n",
       "        text-align: right;\n",
       "    }\n",
       "</style>\n",
       "<table border=\"1\" class=\"dataframe\">\n",
       "  <thead>\n",
       "    <tr style=\"text-align: right;\">\n",
       "      <th></th>\n",
       "      <th>group</th>\n",
       "      <th>gameId</th>\n",
       "      <th>playId</th>\n",
       "      <th>defense_nflId</th>\n",
       "      <th>offense_nflId</th>\n",
       "      <th>playId2</th>\n",
       "      <th>defenseId</th>\n",
       "      <th>offenseId</th>\n",
       "      <th>defense_s_x</th>\n",
       "      <th>defense_s_y</th>\n",
       "      <th>...</th>\n",
       "      <th>defense_offense_x</th>\n",
       "      <th>defense_offense_y</th>\n",
       "      <th>defense_offense_s_x</th>\n",
       "      <th>defense_offense_s_y</th>\n",
       "      <th>receiver_s_x</th>\n",
       "      <th>receiver_s_y</th>\n",
       "      <th>receiver_distance_from_los</th>\n",
       "      <th>defense_football_x</th>\n",
       "      <th>defense_football_y</th>\n",
       "      <th>football_s</th>\n",
       "    </tr>\n",
       "  </thead>\n",
       "  <tbody>\n",
       "    <tr>\n",
       "      <th>0</th>\n",
       "      <td>full</td>\n",
       "      <td>2018090600</td>\n",
       "      <td>75</td>\n",
       "      <td>79848</td>\n",
       "      <td>310</td>\n",
       "      <td>1</td>\n",
       "      <td>1</td>\n",
       "      <td>1</td>\n",
       "      <td>0.854323</td>\n",
       "      <td>-7.521638</td>\n",
       "      <td>...</td>\n",
       "      <td>13.96</td>\n",
       "      <td>-17.66</td>\n",
       "      <td>0.866988</td>\n",
       "      <td>-6.931774</td>\n",
       "      <td>-1.624206</td>\n",
       "      <td>-3.905746</td>\n",
       "      <td>8.89</td>\n",
       "      <td>0.95</td>\n",
       "      <td>1.29</td>\n",
       "      <td>12.68</td>\n",
       "    </tr>\n",
       "    <tr>\n",
       "      <th>1</th>\n",
       "      <td>full</td>\n",
       "      <td>2018090600</td>\n",
       "      <td>75</td>\n",
       "      <td>79848</td>\n",
       "      <td>2533040</td>\n",
       "      <td>1</td>\n",
       "      <td>1</td>\n",
       "      <td>2</td>\n",
       "      <td>0.854323</td>\n",
       "      <td>-7.521638</td>\n",
       "      <td>...</td>\n",
       "      <td>-4.68</td>\n",
       "      <td>-9.66</td>\n",
       "      <td>-1.580489</td>\n",
       "      <td>-5.786186</td>\n",
       "      <td>-1.624206</td>\n",
       "      <td>-3.905746</td>\n",
       "      <td>8.89</td>\n",
       "      <td>0.95</td>\n",
       "      <td>1.29</td>\n",
       "      <td>12.68</td>\n",
       "    </tr>\n",
       "    <tr>\n",
       "      <th>2</th>\n",
       "      <td>full</td>\n",
       "      <td>2018090600</td>\n",
       "      <td>75</td>\n",
       "      <td>79848</td>\n",
       "      <td>2543583</td>\n",
       "      <td>1</td>\n",
       "      <td>1</td>\n",
       "      <td>3</td>\n",
       "      <td>0.854323</td>\n",
       "      <td>-7.521638</td>\n",
       "      <td>...</td>\n",
       "      <td>8.79</td>\n",
       "      <td>-14.65</td>\n",
       "      <td>-2.652919</td>\n",
       "      <td>-5.933634</td>\n",
       "      <td>-1.624206</td>\n",
       "      <td>-3.905746</td>\n",
       "      <td>8.89</td>\n",
       "      <td>0.95</td>\n",
       "      <td>1.29</td>\n",
       "      <td>12.68</td>\n",
       "    </tr>\n",
       "    <tr>\n",
       "      <th>3</th>\n",
       "      <td>full</td>\n",
       "      <td>2018090600</td>\n",
       "      <td>75</td>\n",
       "      <td>79848</td>\n",
       "      <td>2555415</td>\n",
       "      <td>1</td>\n",
       "      <td>1</td>\n",
       "      <td>4</td>\n",
       "      <td>0.854323</td>\n",
       "      <td>-7.521638</td>\n",
       "      <td>...</td>\n",
       "      <td>-3.99</td>\n",
       "      <td>-28.44</td>\n",
       "      <td>-1.216309</td>\n",
       "      <td>-14.260702</td>\n",
       "      <td>-1.624206</td>\n",
       "      <td>-3.905746</td>\n",
       "      <td>8.89</td>\n",
       "      <td>0.95</td>\n",
       "      <td>1.29</td>\n",
       "      <td>12.68</td>\n",
       "    </tr>\n",
       "    <tr>\n",
       "      <th>4</th>\n",
       "      <td>full</td>\n",
       "      <td>2018090600</td>\n",
       "      <td>75</td>\n",
       "      <td>79848</td>\n",
       "      <td>2559033</td>\n",
       "      <td>1</td>\n",
       "      <td>1</td>\n",
       "      <td>5</td>\n",
       "      <td>0.854323</td>\n",
       "      <td>-7.521638</td>\n",
       "      <td>...</td>\n",
       "      <td>4.79</td>\n",
       "      <td>-34.25</td>\n",
       "      <td>-0.722724</td>\n",
       "      <td>-14.146517</td>\n",
       "      <td>-1.624206</td>\n",
       "      <td>-3.905746</td>\n",
       "      <td>8.89</td>\n",
       "      <td>0.95</td>\n",
       "      <td>1.29</td>\n",
       "      <td>12.68</td>\n",
       "    </tr>\n",
       "    <tr>\n",
       "      <th>5</th>\n",
       "      <td>full</td>\n",
       "      <td>2018090600</td>\n",
       "      <td>75</td>\n",
       "      <td>0</td>\n",
       "      <td>0</td>\n",
       "      <td>1</td>\n",
       "      <td>1</td>\n",
       "      <td>6</td>\n",
       "      <td>0.000000</td>\n",
       "      <td>0.000000</td>\n",
       "      <td>...</td>\n",
       "      <td>0.00</td>\n",
       "      <td>0.00</td>\n",
       "      <td>0.000000</td>\n",
       "      <td>0.000000</td>\n",
       "      <td>0.000000</td>\n",
       "      <td>0.000000</td>\n",
       "      <td>0.00</td>\n",
       "      <td>0.00</td>\n",
       "      <td>0.00</td>\n",
       "      <td>0.00</td>\n",
       "    </tr>\n",
       "    <tr>\n",
       "      <th>6</th>\n",
       "      <td>full</td>\n",
       "      <td>2018090600</td>\n",
       "      <td>75</td>\n",
       "      <td>0</td>\n",
       "      <td>0</td>\n",
       "      <td>1</td>\n",
       "      <td>1</td>\n",
       "      <td>7</td>\n",
       "      <td>0.000000</td>\n",
       "      <td>0.000000</td>\n",
       "      <td>...</td>\n",
       "      <td>0.00</td>\n",
       "      <td>0.00</td>\n",
       "      <td>0.000000</td>\n",
       "      <td>0.000000</td>\n",
       "      <td>0.000000</td>\n",
       "      <td>0.000000</td>\n",
       "      <td>0.00</td>\n",
       "      <td>0.00</td>\n",
       "      <td>0.00</td>\n",
       "      <td>0.00</td>\n",
       "    </tr>\n",
       "    <tr>\n",
       "      <th>7</th>\n",
       "      <td>full</td>\n",
       "      <td>2018090600</td>\n",
       "      <td>75</td>\n",
       "      <td>0</td>\n",
       "      <td>0</td>\n",
       "      <td>1</td>\n",
       "      <td>1</td>\n",
       "      <td>8</td>\n",
       "      <td>0.000000</td>\n",
       "      <td>0.000000</td>\n",
       "      <td>...</td>\n",
       "      <td>0.00</td>\n",
       "      <td>0.00</td>\n",
       "      <td>0.000000</td>\n",
       "      <td>0.000000</td>\n",
       "      <td>0.000000</td>\n",
       "      <td>0.000000</td>\n",
       "      <td>0.00</td>\n",
       "      <td>0.00</td>\n",
       "      <td>0.00</td>\n",
       "      <td>0.00</td>\n",
       "    </tr>\n",
       "    <tr>\n",
       "      <th>8</th>\n",
       "      <td>full</td>\n",
       "      <td>2018090600</td>\n",
       "      <td>75</td>\n",
       "      <td>0</td>\n",
       "      <td>0</td>\n",
       "      <td>1</td>\n",
       "      <td>1</td>\n",
       "      <td>9</td>\n",
       "      <td>0.000000</td>\n",
       "      <td>0.000000</td>\n",
       "      <td>...</td>\n",
       "      <td>0.00</td>\n",
       "      <td>0.00</td>\n",
       "      <td>0.000000</td>\n",
       "      <td>0.000000</td>\n",
       "      <td>0.000000</td>\n",
       "      <td>0.000000</td>\n",
       "      <td>0.00</td>\n",
       "      <td>0.00</td>\n",
       "      <td>0.00</td>\n",
       "      <td>0.00</td>\n",
       "    </tr>\n",
       "    <tr>\n",
       "      <th>9</th>\n",
       "      <td>full</td>\n",
       "      <td>2018090600</td>\n",
       "      <td>75</td>\n",
       "      <td>0</td>\n",
       "      <td>0</td>\n",
       "      <td>1</td>\n",
       "      <td>1</td>\n",
       "      <td>10</td>\n",
       "      <td>0.000000</td>\n",
       "      <td>0.000000</td>\n",
       "      <td>...</td>\n",
       "      <td>0.00</td>\n",
       "      <td>0.00</td>\n",
       "      <td>0.000000</td>\n",
       "      <td>0.000000</td>\n",
       "      <td>0.000000</td>\n",
       "      <td>0.000000</td>\n",
       "      <td>0.00</td>\n",
       "      <td>0.00</td>\n",
       "      <td>0.00</td>\n",
       "      <td>0.00</td>\n",
       "    </tr>\n",
       "    <tr>\n",
       "      <th>10</th>\n",
       "      <td>full</td>\n",
       "      <td>2018090600</td>\n",
       "      <td>75</td>\n",
       "      <td>2495613</td>\n",
       "      <td>310</td>\n",
       "      <td>1</td>\n",
       "      <td>2</td>\n",
       "      <td>1</td>\n",
       "      <td>3.172153</td>\n",
       "      <td>-1.785229</td>\n",
       "      <td>...</td>\n",
       "      <td>13.40</td>\n",
       "      <td>9.90</td>\n",
       "      <td>3.184818</td>\n",
       "      <td>-1.195365</td>\n",
       "      <td>-1.624206</td>\n",
       "      <td>-3.905746</td>\n",
       "      <td>8.89</td>\n",
       "      <td>0.39</td>\n",
       "      <td>28.85</td>\n",
       "      <td>12.68</td>\n",
       "    </tr>\n",
       "    <tr>\n",
       "      <th>11</th>\n",
       "      <td>full</td>\n",
       "      <td>2018090600</td>\n",
       "      <td>75</td>\n",
       "      <td>2495613</td>\n",
       "      <td>2533040</td>\n",
       "      <td>1</td>\n",
       "      <td>2</td>\n",
       "      <td>2</td>\n",
       "      <td>3.172153</td>\n",
       "      <td>-1.785229</td>\n",
       "      <td>...</td>\n",
       "      <td>-5.24</td>\n",
       "      <td>17.90</td>\n",
       "      <td>0.737342</td>\n",
       "      <td>-0.049777</td>\n",
       "      <td>-1.624206</td>\n",
       "      <td>-3.905746</td>\n",
       "      <td>8.89</td>\n",
       "      <td>0.39</td>\n",
       "      <td>28.85</td>\n",
       "      <td>12.68</td>\n",
       "    </tr>\n",
       "    <tr>\n",
       "      <th>12</th>\n",
       "      <td>full</td>\n",
       "      <td>2018090600</td>\n",
       "      <td>75</td>\n",
       "      <td>2495613</td>\n",
       "      <td>2543583</td>\n",
       "      <td>1</td>\n",
       "      <td>2</td>\n",
       "      <td>3</td>\n",
       "      <td>3.172153</td>\n",
       "      <td>-1.785229</td>\n",
       "      <td>...</td>\n",
       "      <td>8.23</td>\n",
       "      <td>12.91</td>\n",
       "      <td>-0.335088</td>\n",
       "      <td>-0.197225</td>\n",
       "      <td>-1.624206</td>\n",
       "      <td>-3.905746</td>\n",
       "      <td>8.89</td>\n",
       "      <td>0.39</td>\n",
       "      <td>28.85</td>\n",
       "      <td>12.68</td>\n",
       "    </tr>\n",
       "    <tr>\n",
       "      <th>13</th>\n",
       "      <td>full</td>\n",
       "      <td>2018090600</td>\n",
       "      <td>75</td>\n",
       "      <td>2495613</td>\n",
       "      <td>2555415</td>\n",
       "      <td>1</td>\n",
       "      <td>2</td>\n",
       "      <td>4</td>\n",
       "      <td>3.172153</td>\n",
       "      <td>-1.785229</td>\n",
       "      <td>...</td>\n",
       "      <td>-4.55</td>\n",
       "      <td>-0.88</td>\n",
       "      <td>1.101521</td>\n",
       "      <td>-8.524293</td>\n",
       "      <td>-1.624206</td>\n",
       "      <td>-3.905746</td>\n",
       "      <td>8.89</td>\n",
       "      <td>0.39</td>\n",
       "      <td>28.85</td>\n",
       "      <td>12.68</td>\n",
       "    </tr>\n",
       "    <tr>\n",
       "      <th>14</th>\n",
       "      <td>full</td>\n",
       "      <td>2018090600</td>\n",
       "      <td>75</td>\n",
       "      <td>2495613</td>\n",
       "      <td>2559033</td>\n",
       "      <td>1</td>\n",
       "      <td>2</td>\n",
       "      <td>5</td>\n",
       "      <td>3.172153</td>\n",
       "      <td>-1.785229</td>\n",
       "      <td>...</td>\n",
       "      <td>4.23</td>\n",
       "      <td>-6.69</td>\n",
       "      <td>1.595106</td>\n",
       "      <td>-8.410108</td>\n",
       "      <td>-1.624206</td>\n",
       "      <td>-3.905746</td>\n",
       "      <td>8.89</td>\n",
       "      <td>0.39</td>\n",
       "      <td>28.85</td>\n",
       "      <td>12.68</td>\n",
       "    </tr>\n",
       "    <tr>\n",
       "      <th>15</th>\n",
       "      <td>full</td>\n",
       "      <td>2018090600</td>\n",
       "      <td>75</td>\n",
       "      <td>0</td>\n",
       "      <td>0</td>\n",
       "      <td>1</td>\n",
       "      <td>2</td>\n",
       "      <td>6</td>\n",
       "      <td>0.000000</td>\n",
       "      <td>0.000000</td>\n",
       "      <td>...</td>\n",
       "      <td>0.00</td>\n",
       "      <td>0.00</td>\n",
       "      <td>0.000000</td>\n",
       "      <td>0.000000</td>\n",
       "      <td>0.000000</td>\n",
       "      <td>0.000000</td>\n",
       "      <td>0.00</td>\n",
       "      <td>0.00</td>\n",
       "      <td>0.00</td>\n",
       "      <td>0.00</td>\n",
       "    </tr>\n",
       "    <tr>\n",
       "      <th>16</th>\n",
       "      <td>full</td>\n",
       "      <td>2018090600</td>\n",
       "      <td>75</td>\n",
       "      <td>0</td>\n",
       "      <td>0</td>\n",
       "      <td>1</td>\n",
       "      <td>2</td>\n",
       "      <td>7</td>\n",
       "      <td>0.000000</td>\n",
       "      <td>0.000000</td>\n",
       "      <td>...</td>\n",
       "      <td>0.00</td>\n",
       "      <td>0.00</td>\n",
       "      <td>0.000000</td>\n",
       "      <td>0.000000</td>\n",
       "      <td>0.000000</td>\n",
       "      <td>0.000000</td>\n",
       "      <td>0.00</td>\n",
       "      <td>0.00</td>\n",
       "      <td>0.00</td>\n",
       "      <td>0.00</td>\n",
       "    </tr>\n",
       "    <tr>\n",
       "      <th>17</th>\n",
       "      <td>full</td>\n",
       "      <td>2018090600</td>\n",
       "      <td>75</td>\n",
       "      <td>0</td>\n",
       "      <td>0</td>\n",
       "      <td>1</td>\n",
       "      <td>2</td>\n",
       "      <td>8</td>\n",
       "      <td>0.000000</td>\n",
       "      <td>0.000000</td>\n",
       "      <td>...</td>\n",
       "      <td>0.00</td>\n",
       "      <td>0.00</td>\n",
       "      <td>0.000000</td>\n",
       "      <td>0.000000</td>\n",
       "      <td>0.000000</td>\n",
       "      <td>0.000000</td>\n",
       "      <td>0.00</td>\n",
       "      <td>0.00</td>\n",
       "      <td>0.00</td>\n",
       "      <td>0.00</td>\n",
       "    </tr>\n",
       "    <tr>\n",
       "      <th>18</th>\n",
       "      <td>full</td>\n",
       "      <td>2018090600</td>\n",
       "      <td>75</td>\n",
       "      <td>0</td>\n",
       "      <td>0</td>\n",
       "      <td>1</td>\n",
       "      <td>2</td>\n",
       "      <td>9</td>\n",
       "      <td>0.000000</td>\n",
       "      <td>0.000000</td>\n",
       "      <td>...</td>\n",
       "      <td>0.00</td>\n",
       "      <td>0.00</td>\n",
       "      <td>0.000000</td>\n",
       "      <td>0.000000</td>\n",
       "      <td>0.000000</td>\n",
       "      <td>0.000000</td>\n",
       "      <td>0.00</td>\n",
       "      <td>0.00</td>\n",
       "      <td>0.00</td>\n",
       "      <td>0.00</td>\n",
       "    </tr>\n",
       "    <tr>\n",
       "      <th>19</th>\n",
       "      <td>full</td>\n",
       "      <td>2018090600</td>\n",
       "      <td>75</td>\n",
       "      <td>0</td>\n",
       "      <td>0</td>\n",
       "      <td>1</td>\n",
       "      <td>2</td>\n",
       "      <td>10</td>\n",
       "      <td>0.000000</td>\n",
       "      <td>0.000000</td>\n",
       "      <td>...</td>\n",
       "      <td>0.00</td>\n",
       "      <td>0.00</td>\n",
       "      <td>0.000000</td>\n",
       "      <td>0.000000</td>\n",
       "      <td>0.000000</td>\n",
       "      <td>0.000000</td>\n",
       "      <td>0.00</td>\n",
       "      <td>0.00</td>\n",
       "      <td>0.00</td>\n",
       "      <td>0.00</td>\n",
       "    </tr>\n",
       "  </tbody>\n",
       "</table>\n",
       "<p>20 rows × 24 columns</p>\n",
       "</div>"
      ],
      "text/plain": [
       "   group      gameId  playId  defense_nflId  offense_nflId  playId2  \\\n",
       "0   full  2018090600      75          79848            310        1   \n",
       "1   full  2018090600      75          79848        2533040        1   \n",
       "2   full  2018090600      75          79848        2543583        1   \n",
       "3   full  2018090600      75          79848        2555415        1   \n",
       "4   full  2018090600      75          79848        2559033        1   \n",
       "5   full  2018090600      75              0              0        1   \n",
       "6   full  2018090600      75              0              0        1   \n",
       "7   full  2018090600      75              0              0        1   \n",
       "8   full  2018090600      75              0              0        1   \n",
       "9   full  2018090600      75              0              0        1   \n",
       "10  full  2018090600      75        2495613            310        1   \n",
       "11  full  2018090600      75        2495613        2533040        1   \n",
       "12  full  2018090600      75        2495613        2543583        1   \n",
       "13  full  2018090600      75        2495613        2555415        1   \n",
       "14  full  2018090600      75        2495613        2559033        1   \n",
       "15  full  2018090600      75              0              0        1   \n",
       "16  full  2018090600      75              0              0        1   \n",
       "17  full  2018090600      75              0              0        1   \n",
       "18  full  2018090600      75              0              0        1   \n",
       "19  full  2018090600      75              0              0        1   \n",
       "\n",
       "    defenseId  offenseId  defense_s_x  defense_s_y  ...  defense_offense_x  \\\n",
       "0           1          1     0.854323    -7.521638  ...              13.96   \n",
       "1           1          2     0.854323    -7.521638  ...              -4.68   \n",
       "2           1          3     0.854323    -7.521638  ...               8.79   \n",
       "3           1          4     0.854323    -7.521638  ...              -3.99   \n",
       "4           1          5     0.854323    -7.521638  ...               4.79   \n",
       "5           1          6     0.000000     0.000000  ...               0.00   \n",
       "6           1          7     0.000000     0.000000  ...               0.00   \n",
       "7           1          8     0.000000     0.000000  ...               0.00   \n",
       "8           1          9     0.000000     0.000000  ...               0.00   \n",
       "9           1         10     0.000000     0.000000  ...               0.00   \n",
       "10          2          1     3.172153    -1.785229  ...              13.40   \n",
       "11          2          2     3.172153    -1.785229  ...              -5.24   \n",
       "12          2          3     3.172153    -1.785229  ...               8.23   \n",
       "13          2          4     3.172153    -1.785229  ...              -4.55   \n",
       "14          2          5     3.172153    -1.785229  ...               4.23   \n",
       "15          2          6     0.000000     0.000000  ...               0.00   \n",
       "16          2          7     0.000000     0.000000  ...               0.00   \n",
       "17          2          8     0.000000     0.000000  ...               0.00   \n",
       "18          2          9     0.000000     0.000000  ...               0.00   \n",
       "19          2         10     0.000000     0.000000  ...               0.00   \n",
       "\n",
       "    defense_offense_y  defense_offense_s_x  defense_offense_s_y  receiver_s_x  \\\n",
       "0              -17.66             0.866988            -6.931774     -1.624206   \n",
       "1               -9.66            -1.580489            -5.786186     -1.624206   \n",
       "2              -14.65            -2.652919            -5.933634     -1.624206   \n",
       "3              -28.44            -1.216309           -14.260702     -1.624206   \n",
       "4              -34.25            -0.722724           -14.146517     -1.624206   \n",
       "5                0.00             0.000000             0.000000      0.000000   \n",
       "6                0.00             0.000000             0.000000      0.000000   \n",
       "7                0.00             0.000000             0.000000      0.000000   \n",
       "8                0.00             0.000000             0.000000      0.000000   \n",
       "9                0.00             0.000000             0.000000      0.000000   \n",
       "10               9.90             3.184818            -1.195365     -1.624206   \n",
       "11              17.90             0.737342            -0.049777     -1.624206   \n",
       "12              12.91            -0.335088            -0.197225     -1.624206   \n",
       "13              -0.88             1.101521            -8.524293     -1.624206   \n",
       "14              -6.69             1.595106            -8.410108     -1.624206   \n",
       "15               0.00             0.000000             0.000000      0.000000   \n",
       "16               0.00             0.000000             0.000000      0.000000   \n",
       "17               0.00             0.000000             0.000000      0.000000   \n",
       "18               0.00             0.000000             0.000000      0.000000   \n",
       "19               0.00             0.000000             0.000000      0.000000   \n",
       "\n",
       "    receiver_s_y  receiver_distance_from_los  defense_football_x  \\\n",
       "0      -3.905746                        8.89                0.95   \n",
       "1      -3.905746                        8.89                0.95   \n",
       "2      -3.905746                        8.89                0.95   \n",
       "3      -3.905746                        8.89                0.95   \n",
       "4      -3.905746                        8.89                0.95   \n",
       "5       0.000000                        0.00                0.00   \n",
       "6       0.000000                        0.00                0.00   \n",
       "7       0.000000                        0.00                0.00   \n",
       "8       0.000000                        0.00                0.00   \n",
       "9       0.000000                        0.00                0.00   \n",
       "10     -3.905746                        8.89                0.39   \n",
       "11     -3.905746                        8.89                0.39   \n",
       "12     -3.905746                        8.89                0.39   \n",
       "13     -3.905746                        8.89                0.39   \n",
       "14     -3.905746                        8.89                0.39   \n",
       "15      0.000000                        0.00                0.00   \n",
       "16      0.000000                        0.00                0.00   \n",
       "17      0.000000                        0.00                0.00   \n",
       "18      0.000000                        0.00                0.00   \n",
       "19      0.000000                        0.00                0.00   \n",
       "\n",
       "    defense_football_y  football_s  \n",
       "0                 1.29       12.68  \n",
       "1                 1.29       12.68  \n",
       "2                 1.29       12.68  \n",
       "3                 1.29       12.68  \n",
       "4                 1.29       12.68  \n",
       "5                 0.00        0.00  \n",
       "6                 0.00        0.00  \n",
       "7                 0.00        0.00  \n",
       "8                 0.00        0.00  \n",
       "9                 0.00        0.00  \n",
       "10               28.85       12.68  \n",
       "11               28.85       12.68  \n",
       "12               28.85       12.68  \n",
       "13               28.85       12.68  \n",
       "14               28.85       12.68  \n",
       "15                0.00        0.00  \n",
       "16                0.00        0.00  \n",
       "17                0.00        0.00  \n",
       "18                0.00        0.00  \n",
       "19                0.00        0.00  \n",
       "\n",
       "[20 rows x 24 columns]"
      ]
     },
     "execution_count": 193,
     "metadata": {},
     "output_type": "execute_result"
    }
   ],
   "source": [
    "pass_arrived_score2.head(20)"
   ]
  },
  {
   "cell_type": "code",
   "execution_count": 194,
   "metadata": {},
   "outputs": [
    {
     "data": {
      "text/plain": [
       "(1558590, 24)"
      ]
     },
     "execution_count": 194,
     "metadata": {},
     "output_type": "execute_result"
    }
   ],
   "source": [
    "pass_arrived_score2.shape"
   ]
  },
  {
   "cell_type": "markdown",
   "metadata": {},
   "source": [
    "# Formatting the Data"
   ]
  },
  {
   "cell_type": "code",
   "execution_count": 195,
   "metadata": {},
   "outputs": [
    {
     "data": {
      "text/plain": [
       "Index(['group', 'gameId', 'playId', 'defense_nflId', 'offense_nflId',\n",
       "       'playId2', 'defenseId', 'offenseId', 'defense_s_x', 'defense_s_y',\n",
       "       'defense_receiver_x', 'defense_receiver_y', 'defense_receiver_s_x',\n",
       "       'defense_receiver_s_y', 'defense_offense_x', 'defense_offense_y',\n",
       "       'defense_offense_s_x', 'defense_offense_s_y', 'receiver_s_x',\n",
       "       'receiver_s_y', 'receiver_distance_from_los', 'defense_football_x',\n",
       "       'defense_football_y', 'football_s',\n",
       "       'receiver_football_defender_dist_diff',\n",
       "       'defender_receiver_football_dist_diff'],\n",
       "      dtype='object')"
      ]
     },
     "execution_count": 195,
     "metadata": {},
     "output_type": "execute_result"
    }
   ],
   "source": [
    "pass_arrived_score.columns"
   ]
  },
  {
   "cell_type": "code",
   "execution_count": 196,
   "metadata": {
    "collapsed": true
   },
   "outputs": [],
   "source": [
    "def create_x(data, nfeatures):\n",
    "    # creating a numpy tensor to hold the play data\n",
    "    np_mat = np.array(data.drop(['group', 'gameId', 'playId','defense_nflId', 'offense_nflId'],\n",
    "                               axis = 1))\n",
    "    \n",
    "    # setting parameters\n",
    "    ngames = np.max(np.array(data['playId2']))\n",
    "    nDef = 11\n",
    "    nOff = 10\n",
    "    \n",
    "    # initializing the tensor\n",
    "    np_tensor = np.zeros((ngames, nDef, nOff, nfeatures))\n",
    "    \n",
    "    for row in range(len(np_mat)):\n",
    "        np_tensor[int(np_mat[row][0]) - 1][int(np_mat[row][1]) - 1][int(np_mat[row][2]) - 1] = np_mat[row][3:]\n",
    "    \n",
    "    np_tensor = np_tensor.astype('float32')\n",
    "    \n",
    "    return(np_tensor)"
   ]
  },
  {
   "cell_type": "code",
   "execution_count": 197,
   "metadata": {
    "collapsed": true
   },
   "outputs": [],
   "source": [
    "X_score = create_x(data = pass_arrived_score2,\n",
    "                  nfeatures = 16)"
   ]
  },
  {
   "cell_type": "code",
   "execution_count": 198,
   "metadata": {},
   "outputs": [
    {
     "data": {
      "text/plain": [
       "(14169, 11, 10, 16)"
      ]
     },
     "execution_count": 198,
     "metadata": {},
     "output_type": "execute_result"
    }
   ],
   "source": [
    "X_score.shape"
   ]
  },
  {
   "cell_type": "code",
   "execution_count": 199,
   "metadata": {},
   "outputs": [
    {
     "data": {
      "text/plain": [
       "array([  0.85432285,  -7.5216374 ,  -1.23      ,   2.69      ,\n",
       "         2.4785287 ,  -3.6158912 ,  13.96      , -17.66      ,\n",
       "         0.8669877 ,  -6.9317737 ,  -1.624206  ,  -3.9057465 ,\n",
       "         8.89      ,   0.95      ,   1.29      ,  12.68      ],\n",
       "      dtype=float32)"
      ]
     },
     "execution_count": 199,
     "metadata": {},
     "output_type": "execute_result"
    }
   ],
   "source": [
    "X_score[0][0][0]"
   ]
  },
  {
   "cell_type": "markdown",
   "metadata": {},
   "source": [
    "# Saving Predictions"
   ]
  },
  {
   "cell_type": "code",
   "execution_count": 200,
   "metadata": {
    "collapsed": true
   },
   "outputs": [],
   "source": [
    "score_preds = model.predict(X_score)"
   ]
  },
  {
   "cell_type": "code",
   "execution_count": 217,
   "metadata": {},
   "outputs": [
    {
     "data": {
      "text/plain": [
       "array([1.9506996e-03, 1.5371479e-04, 1.5680965e-04, 7.1655748e-05,\n",
       "       1.4967205e-04, 3.0265814e-05, 2.8498881e-04, 4.0222306e-04,\n",
       "       4.5399999e-04, 2.1661069e-04, 3.6696470e-04, 6.5952649e-05,\n",
       "       1.8420284e-04, 1.7768717e-03, 1.0515049e-04, 1.1293503e-03,\n",
       "       9.0536667e-04, 1.2131989e-04, 7.7377359e-04, 2.1837883e-04,\n",
       "       1.1900587e-04, 2.7796353e-04, 1.3882684e-04, 2.9284265e-04,\n",
       "       3.7996480e-04, 2.3949138e-04, 6.1677964e-03, 2.0195739e-04,\n",
       "       2.1636263e-04, 8.4393792e-04, 4.7655808e-04, 3.4332721e-04,\n",
       "       9.1368880e-04, 1.7399567e-03, 2.3389493e-04, 4.4147318e-04,\n",
       "       2.7532227e-04, 4.1835749e-05, 2.0673987e-03, 8.6318958e-04,\n",
       "       2.7257475e-04, 3.1797288e-05, 3.5261217e-04, 3.1930066e-04,\n",
       "       4.7661058e-05, 4.9515819e-04, 3.1080097e-04, 2.7081877e-04,\n",
       "       8.0194703e-05, 2.7994267e-03, 2.7578213e-04, 5.0755718e-04,\n",
       "       1.7011651e-03, 6.8108202e-03, 6.8052963e-04, 2.5916551e-04,\n",
       "       2.1677437e-04, 4.3467153e-03, 6.4054038e-04, 8.7371804e-03,\n",
       "       9.9646952e-04, 2.4243056e-05, 5.4274664e-05, 1.9582101e-04,\n",
       "       6.0085027e-04, 3.4931165e-04, 2.6420073e-04, 4.9130578e-04,\n",
       "       1.8272852e-03, 2.6963216e-03, 2.3677552e-02, 3.6479996e-03,\n",
       "       9.5997043e-03, 7.9295430e-03, 5.7054458e-05, 5.4712372e-04,\n",
       "       2.3422060e-04, 3.1189620e-03, 9.1730906e-03, 2.2418778e-03,\n",
       "       4.2634853e-03, 7.1753333e-05, 4.9820985e-03, 5.4244630e-02,\n",
       "       8.2585917e-05, 1.8638996e-02, 1.3896800e-03, 7.8398654e-05,\n",
       "       2.6332450e-03, 7.5077644e-04, 1.6656179e-03, 2.2824254e-04,\n",
       "       1.3395876e-01, 1.4787226e-03, 5.0817207e-02, 4.1652720e-06,\n",
       "       7.2061787e-03, 4.9665006e-04, 2.6913482e-01, 7.0048460e-05,\n",
       "       1.2458272e-02, 6.0608104e-06, 1.0315504e-02, 3.4999628e-02,\n",
       "       1.3231224e-05, 1.5627685e-01, 7.8979949e-04, 2.2826507e-04,\n",
       "       1.2222263e-04, 9.5364628e-03, 1.0624020e-06, 6.4696729e-02,\n",
       "       8.9226151e-06, 5.9258009e-06, 6.9432223e-04, 1.0433643e-03,\n",
       "       1.8349312e-03, 4.1692640e-04, 2.6958189e-03, 2.5822552e-05,\n",
       "       1.4076776e-04, 9.6930069e-04, 2.5678301e-05, 1.1672440e-03,\n",
       "       2.0327163e-03, 1.0615635e-03, 3.0044577e-05, 4.8771678e-04,\n",
       "       2.3691451e-05, 5.5067099e-05, 5.6299218e-04, 6.6406821e-05,\n",
       "       2.6575610e-05, 3.3912834e-06, 2.2323977e-05, 5.2284636e-06,\n",
       "       3.7125476e-05, 1.9076381e-04, 1.9466213e-05, 6.6832135e-06,\n",
       "       3.2828051e-05, 2.2672912e-05, 1.6462151e-06, 1.2839770e-04,\n",
       "       1.3762167e-05, 1.0684110e-04, 1.0684488e-04, 4.6379218e-04,\n",
       "       2.4169787e-04, 6.0238650e-05, 1.7338948e-04, 2.6509697e-03,\n",
       "       7.1680796e-04, 2.3185664e-04, 2.5642159e-05, 5.4866908e-04,\n",
       "       5.9875817e-04, 6.8182890e-05, 5.0808820e-05, 2.2763637e-04,\n",
       "       1.9153127e-03, 5.7052553e-04, 8.7370776e-04, 1.2536471e-04,\n",
       "       5.8740930e-04, 4.7857000e-04, 2.6006548e-04, 1.9190938e-04,\n",
       "       5.3723721e-04, 5.7889632e-05, 3.2196075e-04, 1.4982994e-04,\n",
       "       4.3676206e-04, 5.8920268e-04, 8.8036177e-05, 1.9827379e-04,\n",
       "       3.0284424e-04, 2.2685759e-04, 6.0963031e-04, 5.8517692e-04,\n",
       "       3.0192832e-04, 1.7099663e-04, 3.8408418e-04, 3.5299250e-05,\n",
       "       8.7495057e-05, 5.1561592e-04, 4.3215099e-04, 2.6081759e-04,\n",
       "       8.2150236e-04, 1.9753631e-04, 4.7034034e-04, 4.3855407e-04,\n",
       "       2.7468271e-04, 3.2856051e-04, 7.7621145e-05, 6.3354470e-04,\n",
       "       2.6709246e-04, 3.3402370e-04, 4.1267296e-04], dtype=float32)"
      ]
     },
     "execution_count": 217,
     "metadata": {},
     "output_type": "execute_result"
    }
   ],
   "source": [
    "score_preds[0]"
   ]
  },
  {
   "cell_type": "code",
   "execution_count": 202,
   "metadata": {
    "collapsed": true
   },
   "outputs": [],
   "source": [
    "full_preds_df = pd.DataFrame(score_preds, columns = [str(int(x - 99)) for x in np.linspace(0,198, 199)])"
   ]
  },
  {
   "cell_type": "code",
   "execution_count": 203,
   "metadata": {},
   "outputs": [
    {
     "data": {
      "text/plain": [
       "(14169, 199)"
      ]
     },
     "execution_count": 203,
     "metadata": {},
     "output_type": "execute_result"
    }
   ],
   "source": [
    "full_preds_df.shape"
   ]
  },
  {
   "cell_type": "code",
   "execution_count": 211,
   "metadata": {
    "collapsed": true
   },
   "outputs": [],
   "source": [
    "full_preds_df2 = pd.concat([pass_arrived_score2[[\"gameId\",\"playId\"]].drop_duplicates().reset_index(), full_preds_df], axis = 1)\n",
    "full_preds_df2 = full_preds_df2[full_preds_df2[\"gameId\"] < 10000000000]\n",
    "full_preds_df2 = full_preds_df2.drop(['index'], axis = 1)"
   ]
  },
  {
   "cell_type": "code",
   "execution_count": 212,
   "metadata": {},
   "outputs": [
    {
     "data": {
      "text/plain": [
       "(14169, 201)"
      ]
     },
     "execution_count": 212,
     "metadata": {},
     "output_type": "execute_result"
    }
   ],
   "source": [
    "full_preds_df2.shape"
   ]
  },
  {
   "cell_type": "code",
   "execution_count": 213,
   "metadata": {},
   "outputs": [
    {
     "data": {
      "text/html": [
       "<div>\n",
       "<style scoped>\n",
       "    .dataframe tbody tr th:only-of-type {\n",
       "        vertical-align: middle;\n",
       "    }\n",
       "\n",
       "    .dataframe tbody tr th {\n",
       "        vertical-align: top;\n",
       "    }\n",
       "\n",
       "    .dataframe thead th {\n",
       "        text-align: right;\n",
       "    }\n",
       "</style>\n",
       "<table border=\"1\" class=\"dataframe\">\n",
       "  <thead>\n",
       "    <tr style=\"text-align: right;\">\n",
       "      <th></th>\n",
       "      <th>gameId</th>\n",
       "      <th>playId</th>\n",
       "      <th>-99</th>\n",
       "      <th>-98</th>\n",
       "      <th>-97</th>\n",
       "      <th>-96</th>\n",
       "      <th>-95</th>\n",
       "      <th>-94</th>\n",
       "      <th>-93</th>\n",
       "      <th>-92</th>\n",
       "      <th>...</th>\n",
       "      <th>90</th>\n",
       "      <th>91</th>\n",
       "      <th>92</th>\n",
       "      <th>93</th>\n",
       "      <th>94</th>\n",
       "      <th>95</th>\n",
       "      <th>96</th>\n",
       "      <th>97</th>\n",
       "      <th>98</th>\n",
       "      <th>99</th>\n",
       "    </tr>\n",
       "  </thead>\n",
       "  <tbody>\n",
       "    <tr>\n",
       "      <th>0</th>\n",
       "      <td>2018090600</td>\n",
       "      <td>75</td>\n",
       "      <td>0.001951</td>\n",
       "      <td>0.000154</td>\n",
       "      <td>0.000157</td>\n",
       "      <td>0.000072</td>\n",
       "      <td>0.000150</td>\n",
       "      <td>0.000030</td>\n",
       "      <td>0.000285</td>\n",
       "      <td>0.000402</td>\n",
       "      <td>...</td>\n",
       "      <td>0.000198</td>\n",
       "      <td>0.000470</td>\n",
       "      <td>0.000439</td>\n",
       "      <td>0.000275</td>\n",
       "      <td>0.000329</td>\n",
       "      <td>0.000078</td>\n",
       "      <td>0.000634</td>\n",
       "      <td>0.000267</td>\n",
       "      <td>0.000334</td>\n",
       "      <td>0.000413</td>\n",
       "    </tr>\n",
       "    <tr>\n",
       "      <th>1</th>\n",
       "      <td>2018090600</td>\n",
       "      <td>146</td>\n",
       "      <td>0.001686</td>\n",
       "      <td>0.000152</td>\n",
       "      <td>0.000175</td>\n",
       "      <td>0.000127</td>\n",
       "      <td>0.000395</td>\n",
       "      <td>0.000023</td>\n",
       "      <td>0.000518</td>\n",
       "      <td>0.000176</td>\n",
       "      <td>...</td>\n",
       "      <td>0.000225</td>\n",
       "      <td>0.001006</td>\n",
       "      <td>0.000985</td>\n",
       "      <td>0.000234</td>\n",
       "      <td>0.000325</td>\n",
       "      <td>0.000073</td>\n",
       "      <td>0.000589</td>\n",
       "      <td>0.000199</td>\n",
       "      <td>0.000313</td>\n",
       "      <td>0.000486</td>\n",
       "    </tr>\n",
       "    <tr>\n",
       "      <th>2</th>\n",
       "      <td>2018090600</td>\n",
       "      <td>190</td>\n",
       "      <td>0.000883</td>\n",
       "      <td>0.000478</td>\n",
       "      <td>0.001350</td>\n",
       "      <td>0.001965</td>\n",
       "      <td>0.000690</td>\n",
       "      <td>0.001047</td>\n",
       "      <td>0.000585</td>\n",
       "      <td>0.001121</td>\n",
       "      <td>...</td>\n",
       "      <td>0.002044</td>\n",
       "      <td>0.000900</td>\n",
       "      <td>0.000494</td>\n",
       "      <td>0.000849</td>\n",
       "      <td>0.001159</td>\n",
       "      <td>0.000397</td>\n",
       "      <td>0.001695</td>\n",
       "      <td>0.001243</td>\n",
       "      <td>0.000929</td>\n",
       "      <td>0.001107</td>\n",
       "    </tr>\n",
       "    <tr>\n",
       "      <th>3</th>\n",
       "      <td>2018090600</td>\n",
       "      <td>256</td>\n",
       "      <td>0.000404</td>\n",
       "      <td>0.000268</td>\n",
       "      <td>0.000225</td>\n",
       "      <td>0.000229</td>\n",
       "      <td>0.000309</td>\n",
       "      <td>0.000328</td>\n",
       "      <td>0.000512</td>\n",
       "      <td>0.000220</td>\n",
       "      <td>...</td>\n",
       "      <td>0.000205</td>\n",
       "      <td>0.000690</td>\n",
       "      <td>0.000724</td>\n",
       "      <td>0.000323</td>\n",
       "      <td>0.000295</td>\n",
       "      <td>0.000103</td>\n",
       "      <td>0.000489</td>\n",
       "      <td>0.000356</td>\n",
       "      <td>0.000328</td>\n",
       "      <td>0.000424</td>\n",
       "    </tr>\n",
       "    <tr>\n",
       "      <th>4</th>\n",
       "      <td>2018090600</td>\n",
       "      <td>320</td>\n",
       "      <td>0.000038</td>\n",
       "      <td>0.000004</td>\n",
       "      <td>0.000484</td>\n",
       "      <td>0.000138</td>\n",
       "      <td>0.000092</td>\n",
       "      <td>0.000092</td>\n",
       "      <td>0.000350</td>\n",
       "      <td>0.000126</td>\n",
       "      <td>...</td>\n",
       "      <td>0.000129</td>\n",
       "      <td>0.000036</td>\n",
       "      <td>0.000063</td>\n",
       "      <td>0.000175</td>\n",
       "      <td>0.000140</td>\n",
       "      <td>0.000310</td>\n",
       "      <td>0.000136</td>\n",
       "      <td>0.000037</td>\n",
       "      <td>0.000127</td>\n",
       "      <td>0.000116</td>\n",
       "    </tr>\n",
       "    <tr>\n",
       "      <th>5</th>\n",
       "      <td>2018090600</td>\n",
       "      <td>402</td>\n",
       "      <td>0.000509</td>\n",
       "      <td>0.000357</td>\n",
       "      <td>0.000253</td>\n",
       "      <td>0.000315</td>\n",
       "      <td>0.000452</td>\n",
       "      <td>0.000741</td>\n",
       "      <td>0.000426</td>\n",
       "      <td>0.000776</td>\n",
       "      <td>...</td>\n",
       "      <td>0.000595</td>\n",
       "      <td>0.000376</td>\n",
       "      <td>0.000837</td>\n",
       "      <td>0.000554</td>\n",
       "      <td>0.000592</td>\n",
       "      <td>0.001725</td>\n",
       "      <td>0.000440</td>\n",
       "      <td>0.001076</td>\n",
       "      <td>0.000448</td>\n",
       "      <td>0.000788</td>\n",
       "    </tr>\n",
       "    <tr>\n",
       "      <th>6</th>\n",
       "      <td>2018090600</td>\n",
       "      <td>492</td>\n",
       "      <td>0.000291</td>\n",
       "      <td>0.000036</td>\n",
       "      <td>0.000232</td>\n",
       "      <td>0.000038</td>\n",
       "      <td>0.000127</td>\n",
       "      <td>0.000082</td>\n",
       "      <td>0.000163</td>\n",
       "      <td>0.000040</td>\n",
       "      <td>...</td>\n",
       "      <td>0.000422</td>\n",
       "      <td>0.000079</td>\n",
       "      <td>0.000071</td>\n",
       "      <td>0.000562</td>\n",
       "      <td>0.000291</td>\n",
       "      <td>0.000108</td>\n",
       "      <td>0.000138</td>\n",
       "      <td>0.000210</td>\n",
       "      <td>0.000481</td>\n",
       "      <td>0.000250</td>\n",
       "    </tr>\n",
       "    <tr>\n",
       "      <th>7</th>\n",
       "      <td>2018090600</td>\n",
       "      <td>521</td>\n",
       "      <td>0.000654</td>\n",
       "      <td>0.000221</td>\n",
       "      <td>0.000443</td>\n",
       "      <td>0.000197</td>\n",
       "      <td>0.000395</td>\n",
       "      <td>0.000189</td>\n",
       "      <td>0.000409</td>\n",
       "      <td>0.000099</td>\n",
       "      <td>...</td>\n",
       "      <td>0.000761</td>\n",
       "      <td>0.000215</td>\n",
       "      <td>0.000529</td>\n",
       "      <td>0.001119</td>\n",
       "      <td>0.000848</td>\n",
       "      <td>0.000234</td>\n",
       "      <td>0.000346</td>\n",
       "      <td>0.000967</td>\n",
       "      <td>0.000855</td>\n",
       "      <td>0.001290</td>\n",
       "    </tr>\n",
       "    <tr>\n",
       "      <th>8</th>\n",
       "      <td>2018090600</td>\n",
       "      <td>752</td>\n",
       "      <td>0.000621</td>\n",
       "      <td>0.000035</td>\n",
       "      <td>0.000608</td>\n",
       "      <td>0.000181</td>\n",
       "      <td>0.000275</td>\n",
       "      <td>0.000095</td>\n",
       "      <td>0.000351</td>\n",
       "      <td>0.000068</td>\n",
       "      <td>...</td>\n",
       "      <td>0.000254</td>\n",
       "      <td>0.000249</td>\n",
       "      <td>0.000212</td>\n",
       "      <td>0.000432</td>\n",
       "      <td>0.000599</td>\n",
       "      <td>0.000215</td>\n",
       "      <td>0.000487</td>\n",
       "      <td>0.000267</td>\n",
       "      <td>0.000209</td>\n",
       "      <td>0.000193</td>\n",
       "    </tr>\n",
       "    <tr>\n",
       "      <th>9</th>\n",
       "      <td>2018090600</td>\n",
       "      <td>949</td>\n",
       "      <td>0.000011</td>\n",
       "      <td>0.000007</td>\n",
       "      <td>0.000010</td>\n",
       "      <td>0.000002</td>\n",
       "      <td>0.000011</td>\n",
       "      <td>0.000022</td>\n",
       "      <td>0.000017</td>\n",
       "      <td>0.000001</td>\n",
       "      <td>...</td>\n",
       "      <td>0.000074</td>\n",
       "      <td>0.000004</td>\n",
       "      <td>0.000007</td>\n",
       "      <td>0.000360</td>\n",
       "      <td>0.000058</td>\n",
       "      <td>0.000013</td>\n",
       "      <td>0.000015</td>\n",
       "      <td>0.000028</td>\n",
       "      <td>0.000074</td>\n",
       "      <td>0.000058</td>\n",
       "    </tr>\n",
       "  </tbody>\n",
       "</table>\n",
       "<p>10 rows × 201 columns</p>\n",
       "</div>"
      ],
      "text/plain": [
       "       gameId  playId       -99       -98       -97       -96       -95  \\\n",
       "0  2018090600      75  0.001951  0.000154  0.000157  0.000072  0.000150   \n",
       "1  2018090600     146  0.001686  0.000152  0.000175  0.000127  0.000395   \n",
       "2  2018090600     190  0.000883  0.000478  0.001350  0.001965  0.000690   \n",
       "3  2018090600     256  0.000404  0.000268  0.000225  0.000229  0.000309   \n",
       "4  2018090600     320  0.000038  0.000004  0.000484  0.000138  0.000092   \n",
       "5  2018090600     402  0.000509  0.000357  0.000253  0.000315  0.000452   \n",
       "6  2018090600     492  0.000291  0.000036  0.000232  0.000038  0.000127   \n",
       "7  2018090600     521  0.000654  0.000221  0.000443  0.000197  0.000395   \n",
       "8  2018090600     752  0.000621  0.000035  0.000608  0.000181  0.000275   \n",
       "9  2018090600     949  0.000011  0.000007  0.000010  0.000002  0.000011   \n",
       "\n",
       "        -94       -93       -92  ...        90        91        92        93  \\\n",
       "0  0.000030  0.000285  0.000402  ...  0.000198  0.000470  0.000439  0.000275   \n",
       "1  0.000023  0.000518  0.000176  ...  0.000225  0.001006  0.000985  0.000234   \n",
       "2  0.001047  0.000585  0.001121  ...  0.002044  0.000900  0.000494  0.000849   \n",
       "3  0.000328  0.000512  0.000220  ...  0.000205  0.000690  0.000724  0.000323   \n",
       "4  0.000092  0.000350  0.000126  ...  0.000129  0.000036  0.000063  0.000175   \n",
       "5  0.000741  0.000426  0.000776  ...  0.000595  0.000376  0.000837  0.000554   \n",
       "6  0.000082  0.000163  0.000040  ...  0.000422  0.000079  0.000071  0.000562   \n",
       "7  0.000189  0.000409  0.000099  ...  0.000761  0.000215  0.000529  0.001119   \n",
       "8  0.000095  0.000351  0.000068  ...  0.000254  0.000249  0.000212  0.000432   \n",
       "9  0.000022  0.000017  0.000001  ...  0.000074  0.000004  0.000007  0.000360   \n",
       "\n",
       "         94        95        96        97        98        99  \n",
       "0  0.000329  0.000078  0.000634  0.000267  0.000334  0.000413  \n",
       "1  0.000325  0.000073  0.000589  0.000199  0.000313  0.000486  \n",
       "2  0.001159  0.000397  0.001695  0.001243  0.000929  0.001107  \n",
       "3  0.000295  0.000103  0.000489  0.000356  0.000328  0.000424  \n",
       "4  0.000140  0.000310  0.000136  0.000037  0.000127  0.000116  \n",
       "5  0.000592  0.001725  0.000440  0.001076  0.000448  0.000788  \n",
       "6  0.000291  0.000108  0.000138  0.000210  0.000481  0.000250  \n",
       "7  0.000848  0.000234  0.000346  0.000967  0.000855  0.001290  \n",
       "8  0.000599  0.000215  0.000487  0.000267  0.000209  0.000193  \n",
       "9  0.000058  0.000013  0.000015  0.000028  0.000074  0.000058  \n",
       "\n",
       "[10 rows x 201 columns]"
      ]
     },
     "execution_count": 213,
     "metadata": {},
     "output_type": "execute_result"
    }
   ],
   "source": [
    "full_preds_df2.head(10)"
   ]
  },
  {
   "cell_type": "code",
   "execution_count": 214,
   "metadata": {
    "collapsed": true
   },
   "outputs": [],
   "source": [
    "full_preds_df3 = pd.melt(full_preds_df2, \n",
    "        id_vars=['gameId', 'playId'], \n",
    "        value_vars=[str(int(x - 99)) for x in np.linspace(0,198, 199)],\n",
    "        var_name='offensePlayResult', \n",
    "        value_name='probability')\n",
    "\n",
    "full_preds_df3[\"offensePlayResult\"] = [int(x) for x in np.array(full_preds_df3[\"offensePlayResult\"])]\n",
    "full_preds_df3 = full_preds_df3.sort_values(['gameId','playId','offensePlayResult'])"
   ]
  },
  {
   "cell_type": "code",
   "execution_count": 215,
   "metadata": {},
   "outputs": [
    {
     "data": {
      "text/html": [
       "<div>\n",
       "<style scoped>\n",
       "    .dataframe tbody tr th:only-of-type {\n",
       "        vertical-align: middle;\n",
       "    }\n",
       "\n",
       "    .dataframe tbody tr th {\n",
       "        vertical-align: top;\n",
       "    }\n",
       "\n",
       "    .dataframe thead th {\n",
       "        text-align: right;\n",
       "    }\n",
       "</style>\n",
       "<table border=\"1\" class=\"dataframe\">\n",
       "  <thead>\n",
       "    <tr style=\"text-align: right;\">\n",
       "      <th></th>\n",
       "      <th>gameId</th>\n",
       "      <th>playId</th>\n",
       "      <th>offensePlayResult</th>\n",
       "      <th>probability</th>\n",
       "    </tr>\n",
       "  </thead>\n",
       "  <tbody>\n",
       "    <tr>\n",
       "      <th>0</th>\n",
       "      <td>2018090600</td>\n",
       "      <td>75</td>\n",
       "      <td>-99</td>\n",
       "      <td>0.001951</td>\n",
       "    </tr>\n",
       "    <tr>\n",
       "      <th>14169</th>\n",
       "      <td>2018090600</td>\n",
       "      <td>75</td>\n",
       "      <td>-98</td>\n",
       "      <td>0.000154</td>\n",
       "    </tr>\n",
       "    <tr>\n",
       "      <th>28338</th>\n",
       "      <td>2018090600</td>\n",
       "      <td>75</td>\n",
       "      <td>-97</td>\n",
       "      <td>0.000157</td>\n",
       "    </tr>\n",
       "    <tr>\n",
       "      <th>42507</th>\n",
       "      <td>2018090600</td>\n",
       "      <td>75</td>\n",
       "      <td>-96</td>\n",
       "      <td>0.000072</td>\n",
       "    </tr>\n",
       "    <tr>\n",
       "      <th>56676</th>\n",
       "      <td>2018090600</td>\n",
       "      <td>75</td>\n",
       "      <td>-95</td>\n",
       "      <td>0.000150</td>\n",
       "    </tr>\n",
       "    <tr>\n",
       "      <th>70845</th>\n",
       "      <td>2018090600</td>\n",
       "      <td>75</td>\n",
       "      <td>-94</td>\n",
       "      <td>0.000030</td>\n",
       "    </tr>\n",
       "    <tr>\n",
       "      <th>85014</th>\n",
       "      <td>2018090600</td>\n",
       "      <td>75</td>\n",
       "      <td>-93</td>\n",
       "      <td>0.000285</td>\n",
       "    </tr>\n",
       "    <tr>\n",
       "      <th>99183</th>\n",
       "      <td>2018090600</td>\n",
       "      <td>75</td>\n",
       "      <td>-92</td>\n",
       "      <td>0.000402</td>\n",
       "    </tr>\n",
       "    <tr>\n",
       "      <th>113352</th>\n",
       "      <td>2018090600</td>\n",
       "      <td>75</td>\n",
       "      <td>-91</td>\n",
       "      <td>0.000454</td>\n",
       "    </tr>\n",
       "    <tr>\n",
       "      <th>127521</th>\n",
       "      <td>2018090600</td>\n",
       "      <td>75</td>\n",
       "      <td>-90</td>\n",
       "      <td>0.000217</td>\n",
       "    </tr>\n",
       "  </tbody>\n",
       "</table>\n",
       "</div>"
      ],
      "text/plain": [
       "            gameId  playId  offensePlayResult  probability\n",
       "0       2018090600      75                -99     0.001951\n",
       "14169   2018090600      75                -98     0.000154\n",
       "28338   2018090600      75                -97     0.000157\n",
       "42507   2018090600      75                -96     0.000072\n",
       "56676   2018090600      75                -95     0.000150\n",
       "70845   2018090600      75                -94     0.000030\n",
       "85014   2018090600      75                -93     0.000285\n",
       "99183   2018090600      75                -92     0.000402\n",
       "113352  2018090600      75                -91     0.000454\n",
       "127521  2018090600      75                -90     0.000217"
      ]
     },
     "execution_count": 215,
     "metadata": {},
     "output_type": "execute_result"
    }
   ],
   "source": [
    "full_preds_df3.head(10)"
   ]
  },
  {
   "cell_type": "code",
   "execution_count": 216,
   "metadata": {},
   "outputs": [
    {
     "data": {
      "text/plain": [
       "(2819631, 4)"
      ]
     },
     "execution_count": 216,
     "metadata": {},
     "output_type": "execute_result"
    }
   ],
   "source": [
    "full_preds_df3.shape"
   ]
  },
  {
   "cell_type": "code",
   "execution_count": 218,
   "metadata": {
    "collapsed": true
   },
   "outputs": [],
   "source": [
    "full_preds_df3.to_csv(\"~/Desktop/CoverageNet/src/03_coverageNet/01_score_arrived/outputs/interceptions_yards_probs.csv\", \n",
    "                        index = False)"
   ]
  },
  {
   "cell_type": "code",
   "execution_count": null,
   "metadata": {
    "collapsed": true
   },
   "outputs": [],
   "source": []
  }
 ],
 "metadata": {
  "kernelspec": {
   "display_name": "Python 3",
   "language": "python",
   "name": "python3"
  },
  "language_info": {
   "codemirror_mode": {
    "name": "ipython",
    "version": 3
   },
   "file_extension": ".py",
   "mimetype": "text/x-python",
   "name": "python",
   "nbconvert_exporter": "python",
   "pygments_lexer": "ipython3",
   "version": "3.6.3"
  }
 },
 "nbformat": 4,
 "nbformat_minor": 2
}
