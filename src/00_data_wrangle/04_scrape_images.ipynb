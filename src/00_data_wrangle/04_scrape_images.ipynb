{
 "cells": [
  {
   "cell_type": "code",
   "execution_count": 44,
   "metadata": {
    "collapsed": true
   },
   "outputs": [],
   "source": [
    "import pandas as pd\n",
    "from bs4 import BeautifulSoup\n",
    "import requests\n",
    "import time\n",
    "from selenium import webdriver\n",
    "import numpy as np"
   ]
  },
  {
   "cell_type": "markdown",
   "metadata": {},
   "source": [
    "## Pull Each Team's Roster URL"
   ]
  },
  {
   "cell_type": "code",
   "execution_count": 96,
   "metadata": {
    "collapsed": true
   },
   "outputs": [],
   "source": [
    "team_url = 'https://web.archive.org/web/20181202093151/http://www.espn.com/nfl/players'\n",
    "request = requests.get(team_url)\n",
    "soup = BeautifulSoup(request.text, 'html.parser')"
   ]
  },
  {
   "cell_type": "code",
   "execution_count": 97,
   "metadata": {},
   "outputs": [
    {
     "data": {
      "text/plain": [
       "['https://web.archive.org/web/20181202093151/http://www.espn.com/nfl/team/roster/_/name/buf/buffalo-bills',\n",
       " 'https://web.archive.org/web/20181202093151/http://www.espn.com/nfl/team/roster/_/name/mia/miami-dolphins',\n",
       " 'https://web.archive.org/web/20181202093151/http://www.espn.com/nfl/team/roster/_/name/ne/new-england-patriots',\n",
       " 'https://web.archive.org/web/20181202093151/http://www.espn.com/nfl/team/roster/_/name/nyj/new-york-jets',\n",
       " 'https://web.archive.org/web/20181202093151/http://www.espn.com/nfl/team/roster/_/name/dal/dallas-cowboys',\n",
       " 'https://web.archive.org/web/20181202093151/http://www.espn.com/nfl/team/roster/_/name/nyg/new-york-giants',\n",
       " 'https://web.archive.org/web/20181202093151/http://www.espn.com/nfl/team/roster/_/name/phi/philadelphia-eagles',\n",
       " 'https://web.archive.org/web/20181202093151/http://www.espn.com/nfl/team/roster/_/name/wsh/washington-redskins',\n",
       " 'https://web.archive.org/web/20181202093151/http://www.espn.com/nfl/team/roster/_/name/den/denver-broncos',\n",
       " 'https://web.archive.org/web/20181202093151/http://www.espn.com/nfl/team/roster/_/name/kc/kansas-city-chiefs',\n",
       " 'https://web.archive.org/web/20181202093151/http://www.espn.com/nfl/team/roster/_/name/lac/los-angeles-chargers',\n",
       " 'https://web.archive.org/web/20181202093151/http://www.espn.com/nfl/team/roster/_/name/oak/oakland-raiders',\n",
       " 'https://web.archive.org/web/20181202093151/http://www.espn.com/nfl/team/roster/_/name/ari/arizona-cardinals',\n",
       " 'https://web.archive.org/web/20181202093151/http://www.espn.com/nfl/team/roster/_/name/lar/los-angeles-rams',\n",
       " 'https://web.archive.org/web/20181202093151/http://www.espn.com/nfl/team/roster/_/name/sf/san-francisco-49ers',\n",
       " 'https://web.archive.org/web/20181202093151/http://www.espn.com/nfl/team/roster/_/name/sea/seattle-seahawks',\n",
       " 'https://web.archive.org/web/20181202093151/http://www.espn.com/nfl/team/roster/_/name/bal/baltimore-ravens',\n",
       " 'https://web.archive.org/web/20181202093151/http://www.espn.com/nfl/team/roster/_/name/cin/cincinnati-bengals',\n",
       " 'https://web.archive.org/web/20181202093151/http://www.espn.com/nfl/team/roster/_/name/cle/cleveland-browns',\n",
       " 'https://web.archive.org/web/20181202093151/http://www.espn.com/nfl/team/roster/_/name/pit/pittsburgh-steelers',\n",
       " 'https://web.archive.org/web/20181202093151/http://www.espn.com/nfl/team/roster/_/name/chi/chicago-bears',\n",
       " 'https://web.archive.org/web/20181202093151/http://www.espn.com/nfl/team/roster/_/name/det/detroit-lions',\n",
       " 'https://web.archive.org/web/20181202093151/http://www.espn.com/nfl/team/roster/_/name/gb/green-bay-packers',\n",
       " 'https://web.archive.org/web/20181202093151/http://www.espn.com/nfl/team/roster/_/name/min/minnesota-vikings',\n",
       " 'https://web.archive.org/web/20181202093151/http://www.espn.com/nfl/team/roster/_/name/hou/houston-texans',\n",
       " 'https://web.archive.org/web/20181202093151/http://www.espn.com/nfl/team/roster/_/name/ind/indianapolis-colts',\n",
       " 'https://web.archive.org/web/20181202093151/http://www.espn.com/nfl/team/roster/_/name/jax/jacksonville-jaguars',\n",
       " 'https://web.archive.org/web/20181202093151/http://www.espn.com/nfl/team/roster/_/name/ten/tennessee-titans',\n",
       " 'https://web.archive.org/web/20181202093151/http://www.espn.com/nfl/team/roster/_/name/atl/atlanta-falcons',\n",
       " 'https://web.archive.org/web/20181202093151/http://www.espn.com/nfl/team/roster/_/name/car/carolina-panthers',\n",
       " 'https://web.archive.org/web/20181202093151/http://www.espn.com/nfl/team/roster/_/name/no/new-orleans-saints',\n",
       " 'https://web.archive.org/web/20181202093151/http://www.espn.com/nfl/team/roster/_/name/tb/tampa-bay-buccaneers']"
      ]
     },
     "execution_count": 97,
     "metadata": {},
     "output_type": "execute_result"
    }
   ],
   "source": [
    "[\"https://web.archive.org\" + x[\"href\"] for x in soup.findAll('a') if (\"team/\" in x[\"href\"]) and (\"roster/\" in x[\"href\"])]"
   ]
  },
  {
   "cell_type": "code",
   "execution_count": 98,
   "metadata": {
    "collapsed": true
   },
   "outputs": [],
   "source": [
    "teams = [\"https://web.archive.org\" + x[\"href\"] for x in soup.findAll('a') if (\"team/\" in x[\"href\"]) and (\"roster/\" in x[\"href\"])]"
   ]
  },
  {
   "cell_type": "code",
   "execution_count": 100,
   "metadata": {},
   "outputs": [
    {
     "data": {
      "text/plain": [
       "['AFC East',\n",
       " 'NFC East',\n",
       " 'AFC West',\n",
       " 'NFC West',\n",
       " 'AFC North',\n",
       " 'NFC North',\n",
       " 'AFC South',\n",
       " 'NFC South']"
      ]
     },
     "execution_count": 100,
     "metadata": {},
     "output_type": "execute_result"
    }
   ],
   "source": [
    "[x.text for x in soup.findAll('div', class_ = \"mod-header stathead\")]"
   ]
  },
  {
   "cell_type": "markdown",
   "metadata": {},
   "source": [
    "# Getting Player Ids"
   ]
  },
  {
   "cell_type": "code",
   "execution_count": 119,
   "metadata": {},
   "outputs": [
    {
     "data": {
      "text/plain": [
       "'BUF'"
      ]
     },
     "execution_count": 119,
     "metadata": {},
     "output_type": "execute_result"
    }
   ],
   "source": [
    "teams[0].split(\"/name/\")[1].split(\"/\")[0].upper()"
   ]
  },
  {
   "cell_type": "code",
   "execution_count": 120,
   "metadata": {
    "collapsed": true
   },
   "outputs": [],
   "source": [
    "playerDf_tot = pd.DataFrame()"
   ]
  },
  {
   "cell_type": "code",
   "execution_count": 121,
   "metadata": {},
   "outputs": [
    {
     "name": "stdout",
     "output_type": "stream",
     "text": [
      "Pulling Players From BUF\n",
      "Pulling Players From MIA\n",
      "Pulling Players From NE\n",
      "Pulling Players From NYJ\n",
      "Pulling Players From DAL\n",
      "Pulling Players From NYG\n",
      "Pulling Players From PHI\n",
      "Pulling Players From WSH\n",
      "Pulling Players From DEN\n",
      "Pulling Players From KC\n",
      "Pulling Players From LAC\n",
      "Pulling Players From OAK\n",
      "Pulling Players From ARI\n",
      "Pulling Players From LAR\n",
      "Pulling Players From SF\n",
      "Pulling Players From SEA\n",
      "Pulling Players From BAL\n",
      "Pulling Players From CIN\n",
      "Pulling Players From CLE\n",
      "Pulling Players From PIT\n",
      "Pulling Players From CHI\n",
      "Pulling Players From DET\n",
      "Pulling Players From GB\n",
      "Pulling Players From MIN\n",
      "Pulling Players From HOU\n",
      "Pulling Players From IND\n",
      "Pulling Players From JAX\n",
      "Pulling Players From TEN\n",
      "Pulling Players From ATL\n",
      "Pulling Players From CAR\n",
      "Pulling Players From NO\n",
      "Pulling Players From TB\n"
     ]
    }
   ],
   "source": [
    "for team_url in teams:\n",
    "    \n",
    "    print(\"Pulling Players From \" + team_url.split(\"/name/\")[1].split(\"/\")[0].upper())\n",
    "\n",
    "    request = requests.get(team_url)\n",
    "    soup = BeautifulSoup(request.text, 'html.parser')\n",
    "\n",
    "    player_urls = [x for x in [x['href'] for x in soup.findAll('a') if 'href' in str(x)] if (\"player/\" in x)]\n",
    "\n",
    "    player_ids = [x.split(\"/id/\")[1] for x in player_urls]\n",
    "\n",
    "    player_image_urls = [\"https://a.espncdn.com/combiner/i?img=/i/headshots/nfl/players/full/\" + \n",
    "                        x + \".png&w=350&h=254\" for x in player_ids]\n",
    "\n",
    "    player_names = np.array([x.text for x in soup.findAll('a') if 'href' in str(x)])[np.array([(\"player/\" in x) for x in [x['href'] for x in soup.findAll('a') if 'href' in str(x)]])]\n",
    "\n",
    "    player_positions = [x.text for x in soup.findAll('td', class_ = 'Table2__td')][2::8]\n",
    "\n",
    "    player_schools = [x.text for x in soup.findAll('td', class_ = 'Table2__td')][7::8]\n",
    "\n",
    "    playerDf = pd.DataFrame({\"displayName\": player_names,\n",
    "                  \"team\": team_url.split(\"/name/\")[1].split(\"/\")[0].upper(),\n",
    "                  \"position\": player_positions,\n",
    "                  \"collegeName\": player_schools,\n",
    "                  \"playerId\":player_ids,\n",
    "                  \"playerImageUrl\":player_image_urls})\n",
    "    \n",
    "    playerDf_tot = pd.concat([playerDf_tot,\n",
    "                              playerDf])"
   ]
  },
  {
   "cell_type": "code",
   "execution_count": 122,
   "metadata": {},
   "outputs": [
    {
     "data": {
      "text/plain": [
       "1792"
      ]
     },
     "execution_count": 122,
     "metadata": {},
     "output_type": "execute_result"
    }
   ],
   "source": [
    "56*32"
   ]
  },
  {
   "cell_type": "code",
   "execution_count": 127,
   "metadata": {},
   "outputs": [
    {
     "data": {
      "text/html": [
       "<div>\n",
       "<style scoped>\n",
       "    .dataframe tbody tr th:only-of-type {\n",
       "        vertical-align: middle;\n",
       "    }\n",
       "\n",
       "    .dataframe tbody tr th {\n",
       "        vertical-align: top;\n",
       "    }\n",
       "\n",
       "    .dataframe thead th {\n",
       "        text-align: right;\n",
       "    }\n",
       "</style>\n",
       "<table border=\"1\" class=\"dataframe\">\n",
       "  <thead>\n",
       "    <tr style=\"text-align: right;\">\n",
       "      <th></th>\n",
       "      <th>displayName</th>\n",
       "      <th>team</th>\n",
       "      <th>position</th>\n",
       "      <th>collegeName</th>\n",
       "      <th>playerId</th>\n",
       "      <th>playerImageUrl</th>\n",
       "    </tr>\n",
       "  </thead>\n",
       "  <tbody>\n",
       "    <tr>\n",
       "      <th>0</th>\n",
       "      <td>Josh Allen</td>\n",
       "      <td>BUF</td>\n",
       "      <td>QB</td>\n",
       "      <td>Wyoming</td>\n",
       "      <td>3918298</td>\n",
       "      <td>https://a.espncdn.com/combiner/i?img=/i/headsh...</td>\n",
       "    </tr>\n",
       "    <tr>\n",
       "      <th>1</th>\n",
       "      <td>Derek Anderson</td>\n",
       "      <td>BUF</td>\n",
       "      <td>QB</td>\n",
       "      <td>Oregon State</td>\n",
       "      <td>8627</td>\n",
       "      <td>https://a.espncdn.com/combiner/i?img=/i/headsh...</td>\n",
       "    </tr>\n",
       "    <tr>\n",
       "      <th>2</th>\n",
       "      <td>Matt Barkley</td>\n",
       "      <td>BUF</td>\n",
       "      <td>QB</td>\n",
       "      <td>USC</td>\n",
       "      <td>15948</td>\n",
       "      <td>https://a.espncdn.com/combiner/i?img=/i/headsh...</td>\n",
       "    </tr>\n",
       "    <tr>\n",
       "      <th>3</th>\n",
       "      <td>Chris Ivory</td>\n",
       "      <td>BUF</td>\n",
       "      <td>RB</td>\n",
       "      <td>Tiffin University</td>\n",
       "      <td>13587</td>\n",
       "      <td>https://a.espncdn.com/combiner/i?img=/i/headsh...</td>\n",
       "    </tr>\n",
       "    <tr>\n",
       "      <th>4</th>\n",
       "      <td>Taiwan Jones</td>\n",
       "      <td>BUF</td>\n",
       "      <td>RB</td>\n",
       "      <td>Eastern Washington</td>\n",
       "      <td>14167</td>\n",
       "      <td>https://a.espncdn.com/combiner/i?img=/i/headsh...</td>\n",
       "    </tr>\n",
       "    <tr>\n",
       "      <th>...</th>\n",
       "      <td>...</td>\n",
       "      <td>...</td>\n",
       "      <td>...</td>\n",
       "      <td>...</td>\n",
       "      <td>...</td>\n",
       "      <td>...</td>\n",
       "    </tr>\n",
       "    <tr>\n",
       "      <th>59</th>\n",
       "      <td>Isaiah Johnson</td>\n",
       "      <td>TB</td>\n",
       "      <td>S</td>\n",
       "      <td>South Carolina</td>\n",
       "      <td>2570484</td>\n",
       "      <td>https://a.espncdn.com/combiner/i?img=/i/headsh...</td>\n",
       "    </tr>\n",
       "    <tr>\n",
       "      <th>60</th>\n",
       "      <td>Jordan Whitehead</td>\n",
       "      <td>TB</td>\n",
       "      <td>S</td>\n",
       "      <td>Pittsburgh</td>\n",
       "      <td>3895798</td>\n",
       "      <td>https://a.espncdn.com/combiner/i?img=/i/headsh...</td>\n",
       "    </tr>\n",
       "    <tr>\n",
       "      <th>61</th>\n",
       "      <td>Cairo Santos</td>\n",
       "      <td>TB</td>\n",
       "      <td>PK</td>\n",
       "      <td>Tulane</td>\n",
       "      <td>17427</td>\n",
       "      <td>https://a.espncdn.com/combiner/i?img=/i/headsh...</td>\n",
       "    </tr>\n",
       "    <tr>\n",
       "      <th>62</th>\n",
       "      <td>Bryan Anger</td>\n",
       "      <td>TB</td>\n",
       "      <td>P</td>\n",
       "      <td>California</td>\n",
       "      <td>14950</td>\n",
       "      <td>https://a.espncdn.com/combiner/i?img=/i/headsh...</td>\n",
       "    </tr>\n",
       "    <tr>\n",
       "      <th>63</th>\n",
       "      <td>Garrison Sanborn</td>\n",
       "      <td>TB</td>\n",
       "      <td>LS</td>\n",
       "      <td>Florida State</td>\n",
       "      <td>13078</td>\n",
       "      <td>https://a.espncdn.com/combiner/i?img=/i/headsh...</td>\n",
       "    </tr>\n",
       "  </tbody>\n",
       "</table>\n",
       "<p>1990 rows × 6 columns</p>\n",
       "</div>"
      ],
      "text/plain": [
       "         displayName team position         collegeName playerId  \\\n",
       "0         Josh Allen  BUF       QB             Wyoming  3918298   \n",
       "1     Derek Anderson  BUF       QB        Oregon State     8627   \n",
       "2       Matt Barkley  BUF       QB                 USC    15948   \n",
       "3        Chris Ivory  BUF       RB   Tiffin University    13587   \n",
       "4       Taiwan Jones  BUF       RB  Eastern Washington    14167   \n",
       "..               ...  ...      ...                 ...      ...   \n",
       "59    Isaiah Johnson   TB        S      South Carolina  2570484   \n",
       "60  Jordan Whitehead   TB        S          Pittsburgh  3895798   \n",
       "61      Cairo Santos   TB       PK              Tulane    17427   \n",
       "62       Bryan Anger   TB        P          California    14950   \n",
       "63  Garrison Sanborn   TB       LS       Florida State    13078   \n",
       "\n",
       "                                       playerImageUrl  \n",
       "0   https://a.espncdn.com/combiner/i?img=/i/headsh...  \n",
       "1   https://a.espncdn.com/combiner/i?img=/i/headsh...  \n",
       "2   https://a.espncdn.com/combiner/i?img=/i/headsh...  \n",
       "3   https://a.espncdn.com/combiner/i?img=/i/headsh...  \n",
       "4   https://a.espncdn.com/combiner/i?img=/i/headsh...  \n",
       "..                                                ...  \n",
       "59  https://a.espncdn.com/combiner/i?img=/i/headsh...  \n",
       "60  https://a.espncdn.com/combiner/i?img=/i/headsh...  \n",
       "61  https://a.espncdn.com/combiner/i?img=/i/headsh...  \n",
       "62  https://a.espncdn.com/combiner/i?img=/i/headsh...  \n",
       "63  https://a.espncdn.com/combiner/i?img=/i/headsh...  \n",
       "\n",
       "[1990 rows x 6 columns]"
      ]
     },
     "execution_count": 127,
     "metadata": {},
     "output_type": "execute_result"
    }
   ],
   "source": [
    "playerDf_tot"
   ]
  },
  {
   "cell_type": "code",
   "execution_count": 128,
   "metadata": {
    "collapsed": true
   },
   "outputs": [],
   "source": [
    "playerDf_tot.to_csv(\"/Users/James/Desktop/CoverageNet/src/00_data_wrangle/helper_tables/playerImages.csv\",\n",
    "                 index = False)"
   ]
  },
  {
   "cell_type": "markdown",
   "metadata": {
    "collapsed": true
   },
   "source": [
    "# Scraping College Images"
   ]
  },
  {
   "cell_type": "code",
   "execution_count": 129,
   "metadata": {
    "collapsed": true
   },
   "outputs": [],
   "source": [
    "team_url = 'https://www.espn.com/college-football/teams'\n",
    "request = requests.get(team_url)\n",
    "soup = BeautifulSoup(request.text, 'html.parser')"
   ]
  },
  {
   "cell_type": "code",
   "execution_count": 149,
   "metadata": {},
   "outputs": [],
   "source": [
    "college_full_names = [x[\"title\"] for x in soup.findAll('img', class_ = \"Image Logo Logo__lg\")]"
   ]
  },
  {
   "cell_type": "code",
   "execution_count": 163,
   "metadata": {},
   "outputs": [],
   "source": [
    "college_team_links = ['https://espn.com' + x.find('a')[\"href\"] for x in soup.findAll('div', class_ = \"TeamLinks__Links\")]"
   ]
  },
  {
   "cell_type": "code",
   "execution_count": 152,
   "metadata": {},
   "outputs": [],
   "source": [
    "college_team_ids = [x.find('a')[\"href\"].split('id/')[1] for x in soup.findAll('div', class_ = \"TeamLinks__Links\")]"
   ]
  },
  {
   "cell_type": "code",
   "execution_count": 154,
   "metadata": {},
   "outputs": [],
   "source": [
    "college_team_images = [\"https://a.espncdn.com/combiner/i?img=/i/teamlogos/ncaa/500/\" +\\\n",
    "                        x + \".png&h=80&w=80&scale=crop&cquality=40&location=origin\" for x in college_team_ids]"
   ]
  },
  {
   "cell_type": "code",
   "execution_count": 170,
   "metadata": {},
   "outputs": [
    {
     "name": "stdout",
     "output_type": "stream",
     "text": [
      "Cincinnati\n",
      "East Carolina\n",
      "Houston\n",
      "Memphis\n",
      "Navy\n",
      "SMU\n",
      "South Florida\n",
      "Temple\n",
      "Tulane\n",
      "Tulsa\n",
      "UCF\n",
      "Boston College\n",
      "Clemson\n",
      "Duke\n",
      "Florida State\n",
      "Georgia Tech\n",
      "Louisville\n",
      "Miami\n",
      "NC State\n",
      "North Carolina\n",
      "Notre Dame\n",
      "Pittsburgh\n",
      "Syracuse\n",
      "Virginia\n",
      "Virginia Tech\n",
      "Wake Forest\n",
      "Baylor\n",
      "Iowa State\n",
      "Kansas\n",
      "Kansas State\n",
      "Oklahoma\n",
      "Oklahoma State\n",
      "TCU\n",
      "Texas\n",
      "Texas Tech\n",
      "West Virginia\n",
      "Illinois\n",
      "Indiana\n",
      "Iowa\n",
      "Maryland\n",
      "Michigan State\n",
      "Michigan\n",
      "Minnesota\n",
      "Nebraska\n",
      "Northwestern\n",
      "Ohio State\n",
      "Penn State\n",
      "Purdue\n",
      "Rutgers\n",
      "Wisconsin\n",
      "Charlotte\n",
      "Florida Atlantic\n",
      "Florida International\n",
      "Louisiana Tech\n",
      "Marshall\n",
      "Middle Tennessee\n",
      "North Texas\n",
      "Old Dominion\n",
      "Rice\n",
      "Southern Mississippi\n",
      "UAB\n",
      "UTEP\n",
      "UTSA\n",
      "Western Kentucky\n",
      "Army\n",
      "BYU\n",
      "Liberty\n",
      "New Mexico State\n",
      "UConn\n",
      "UMass\n",
      "Akron\n",
      "Ball State\n",
      "Bowling Green\n",
      "Buffalo\n",
      "Central Michigan\n",
      "Eastern Michigan\n",
      "Kent State\n",
      "Miami (OH)\n",
      "Northern Illinois\n",
      "Ohio\n",
      "Toledo\n",
      "Western Michigan\n",
      "Air Force\n",
      "Boise State\n",
      "Colorado State\n",
      "Fresno State\n",
      "Hawai'i\n",
      "Nevada\n",
      "New Mexico\n",
      "San Diego State\n",
      "San José State\n",
      "UNLV\n",
      "Utah State\n",
      "Wyoming\n",
      "Arizona State\n",
      "Arizona\n",
      "California\n",
      "Colorado\n",
      "Oregon\n",
      "Oregon State\n",
      "Stanford\n",
      "UCLA\n",
      "USC\n",
      "Utah\n",
      "Washington\n",
      "Washington State\n",
      "Alabama\n",
      "Arkansas\n",
      "Auburn\n",
      "Florida\n",
      "Georgia\n",
      "Kentucky\n",
      "LSU\n",
      "Mississippi State\n",
      "Missouri\n",
      "Ole Miss\n",
      "South Carolina\n",
      "Tennessee\n",
      "Texas A&M\n",
      "Vanderbilt\n",
      "Appalachian State\n",
      "Arkansas State\n",
      "Coastal Carolina\n",
      "Georgia Southern\n",
      "Georgia State\n",
      "Louisiana\n",
      "South Alabama\n",
      "Texas State\n",
      "Troy\n",
      "UL Monroe\n"
     ]
    }
   ],
   "source": [
    "# gettng college name\n",
    "college_name = []\n",
    "for link in college_team_links:\n",
    "    team_url = link\n",
    "    request = requests.get(team_url)\n",
    "    soup = BeautifulSoup(request.text, 'html.parser')\n",
    "    name = soup.find('span', class_ = \"db pr3 nowrap fw-bold\").text\n",
    "    college_name.append(name)\n",
    "    print(name)"
   ]
  },
  {
   "cell_type": "code",
   "execution_count": 172,
   "metadata": {},
   "outputs": [],
   "source": [
    "collegeTeamsDf = pd.DataFrame({\"collegeFullName\": college_full_names,\n",
    "                              \"collegeName\": college_name,\n",
    "                              \"collegeId\": college_team_ids,\n",
    "                              \"collegeImageUrl\": college_team_images})"
   ]
  },
  {
   "cell_type": "code",
   "execution_count": 173,
   "metadata": {},
   "outputs": [
    {
     "data": {
      "text/html": [
       "<div>\n",
       "<style scoped>\n",
       "    .dataframe tbody tr th:only-of-type {\n",
       "        vertical-align: middle;\n",
       "    }\n",
       "\n",
       "    .dataframe tbody tr th {\n",
       "        vertical-align: top;\n",
       "    }\n",
       "\n",
       "    .dataframe thead th {\n",
       "        text-align: right;\n",
       "    }\n",
       "</style>\n",
       "<table border=\"1\" class=\"dataframe\">\n",
       "  <thead>\n",
       "    <tr style=\"text-align: right;\">\n",
       "      <th></th>\n",
       "      <th>collegeFullName</th>\n",
       "      <th>collegeName</th>\n",
       "      <th>collegeId</th>\n",
       "      <th>collegeImageUrl</th>\n",
       "    </tr>\n",
       "  </thead>\n",
       "  <tbody>\n",
       "    <tr>\n",
       "      <th>0</th>\n",
       "      <td>Cincinnati Bearcats</td>\n",
       "      <td>Cincinnati</td>\n",
       "      <td>2132</td>\n",
       "      <td>https://a.espncdn.com/combiner/i?img=/i/teamlo...</td>\n",
       "    </tr>\n",
       "    <tr>\n",
       "      <th>1</th>\n",
       "      <td>East Carolina Pirates</td>\n",
       "      <td>East Carolina</td>\n",
       "      <td>151</td>\n",
       "      <td>https://a.espncdn.com/combiner/i?img=/i/teamlo...</td>\n",
       "    </tr>\n",
       "    <tr>\n",
       "      <th>2</th>\n",
       "      <td>Houston Cougars</td>\n",
       "      <td>Houston</td>\n",
       "      <td>248</td>\n",
       "      <td>https://a.espncdn.com/combiner/i?img=/i/teamlo...</td>\n",
       "    </tr>\n",
       "    <tr>\n",
       "      <th>3</th>\n",
       "      <td>Memphis Tigers</td>\n",
       "      <td>Memphis</td>\n",
       "      <td>235</td>\n",
       "      <td>https://a.espncdn.com/combiner/i?img=/i/teamlo...</td>\n",
       "    </tr>\n",
       "    <tr>\n",
       "      <th>4</th>\n",
       "      <td>Navy Midshipmen</td>\n",
       "      <td>Navy</td>\n",
       "      <td>2426</td>\n",
       "      <td>https://a.espncdn.com/combiner/i?img=/i/teamlo...</td>\n",
       "    </tr>\n",
       "    <tr>\n",
       "      <th>...</th>\n",
       "      <td>...</td>\n",
       "      <td>...</td>\n",
       "      <td>...</td>\n",
       "      <td>...</td>\n",
       "    </tr>\n",
       "    <tr>\n",
       "      <th>125</th>\n",
       "      <td>Louisiana Ragin' Cajuns</td>\n",
       "      <td>Louisiana</td>\n",
       "      <td>309</td>\n",
       "      <td>https://a.espncdn.com/combiner/i?img=/i/teamlo...</td>\n",
       "    </tr>\n",
       "    <tr>\n",
       "      <th>126</th>\n",
       "      <td>South Alabama Jaguars</td>\n",
       "      <td>South Alabama</td>\n",
       "      <td>6</td>\n",
       "      <td>https://a.espncdn.com/combiner/i?img=/i/teamlo...</td>\n",
       "    </tr>\n",
       "    <tr>\n",
       "      <th>127</th>\n",
       "      <td>Texas State Bobcats</td>\n",
       "      <td>Texas State</td>\n",
       "      <td>326</td>\n",
       "      <td>https://a.espncdn.com/combiner/i?img=/i/teamlo...</td>\n",
       "    </tr>\n",
       "    <tr>\n",
       "      <th>128</th>\n",
       "      <td>Troy Trojans</td>\n",
       "      <td>Troy</td>\n",
       "      <td>2653</td>\n",
       "      <td>https://a.espncdn.com/combiner/i?img=/i/teamlo...</td>\n",
       "    </tr>\n",
       "    <tr>\n",
       "      <th>129</th>\n",
       "      <td>UL Monroe Warhawks</td>\n",
       "      <td>UL Monroe</td>\n",
       "      <td>2433</td>\n",
       "      <td>https://a.espncdn.com/combiner/i?img=/i/teamlo...</td>\n",
       "    </tr>\n",
       "  </tbody>\n",
       "</table>\n",
       "<p>130 rows × 4 columns</p>\n",
       "</div>"
      ],
      "text/plain": [
       "             collegeFullName    collegeName collegeId  \\\n",
       "0        Cincinnati Bearcats     Cincinnati      2132   \n",
       "1      East Carolina Pirates  East Carolina       151   \n",
       "2            Houston Cougars        Houston       248   \n",
       "3             Memphis Tigers        Memphis       235   \n",
       "4            Navy Midshipmen           Navy      2426   \n",
       "..                       ...            ...       ...   \n",
       "125  Louisiana Ragin' Cajuns      Louisiana       309   \n",
       "126    South Alabama Jaguars  South Alabama         6   \n",
       "127      Texas State Bobcats    Texas State       326   \n",
       "128             Troy Trojans           Troy      2653   \n",
       "129       UL Monroe Warhawks      UL Monroe      2433   \n",
       "\n",
       "                                       collegeImageUrl  \n",
       "0    https://a.espncdn.com/combiner/i?img=/i/teamlo...  \n",
       "1    https://a.espncdn.com/combiner/i?img=/i/teamlo...  \n",
       "2    https://a.espncdn.com/combiner/i?img=/i/teamlo...  \n",
       "3    https://a.espncdn.com/combiner/i?img=/i/teamlo...  \n",
       "4    https://a.espncdn.com/combiner/i?img=/i/teamlo...  \n",
       "..                                                 ...  \n",
       "125  https://a.espncdn.com/combiner/i?img=/i/teamlo...  \n",
       "126  https://a.espncdn.com/combiner/i?img=/i/teamlo...  \n",
       "127  https://a.espncdn.com/combiner/i?img=/i/teamlo...  \n",
       "128  https://a.espncdn.com/combiner/i?img=/i/teamlo...  \n",
       "129  https://a.espncdn.com/combiner/i?img=/i/teamlo...  \n",
       "\n",
       "[130 rows x 4 columns]"
      ]
     },
     "execution_count": 173,
     "metadata": {},
     "output_type": "execute_result"
    }
   ],
   "source": [
    "collegeTeamsDf"
   ]
  },
  {
   "cell_type": "code",
   "execution_count": 176,
   "metadata": {
    "collapsed": true
   },
   "outputs": [],
   "source": [
    "collegeTeamsDf.to_csv(\"/Users/James/Desktop/CoverageNet/src/00_data_wrangle/helper_tables/dashboard_college_info.csv\",\n",
    "                 index = False)"
   ]
  },
  {
   "cell_type": "code",
   "execution_count": null,
   "metadata": {
    "collapsed": true
   },
   "outputs": [],
   "source": []
  }
 ],
 "metadata": {
  "kernelspec": {
   "display_name": "Python 3",
   "language": "python",
   "name": "python3"
  },
  "language_info": {
   "codemirror_mode": {
    "name": "ipython",
    "version": 3
   },
   "file_extension": ".py",
   "mimetype": "text/x-python",
   "name": "python",
   "nbconvert_exporter": "python",
   "pygments_lexer": "ipython3",
   "version": "3.6.3"
  }
 },
 "nbformat": 4,
 "nbformat_minor": 2
}
