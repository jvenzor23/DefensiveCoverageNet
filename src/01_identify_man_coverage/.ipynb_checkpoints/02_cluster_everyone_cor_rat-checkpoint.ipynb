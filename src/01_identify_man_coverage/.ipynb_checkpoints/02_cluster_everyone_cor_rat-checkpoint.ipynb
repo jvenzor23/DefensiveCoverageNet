{
 "cells": [
  {
   "cell_type": "code",
   "execution_count": 1,
   "metadata": {
    "collapsed": true
   },
   "outputs": [],
   "source": [
    "# importing important libraries\n",
    "import matplotlib as plt\n",
    "%matplotlib inline\n",
    "import numpy as np\n",
    "from sklearn import mixture\n",
    "import pandas as pd\n",
    "import seaborn as sns"
   ]
  },
  {
   "cell_type": "code",
   "execution_count": 2,
   "metadata": {},
   "outputs": [
    {
     "data": {
      "text/html": [
       "\n",
       "<style>\n",
       ".output_png {\n",
       "    display: table-cell;\n",
       "    text-align: center;\n",
       "    vertical-align: middle;\n",
       "}\n",
       "</style>\n"
      ],
      "text/plain": [
       "<IPython.core.display.HTML object>"
      ]
     },
     "execution_count": 2,
     "metadata": {},
     "output_type": "execute_result"
    }
   ],
   "source": [
    "from IPython.core.display import HTML\n",
    "HTML(\"\"\"\n",
    "<style>\n",
    ".output_png {\n",
    "    display: table-cell;\n",
    "    text-align: center;\n",
    "    vertical-align: middle;\n",
    "}\n",
    "</style>\n",
    "\"\"\")"
   ]
  },
  {
   "cell_type": "markdown",
   "metadata": {},
   "source": [
    "# Reading in the Data"
   ]
  },
  {
   "cell_type": "code",
   "execution_count": 3,
   "metadata": {},
   "outputs": [
    {
     "data": {
      "text/plain": [
       "(52977, 177)"
      ]
     },
     "execution_count": 3,
     "metadata": {},
     "output_type": "execute_result"
    }
   ],
   "source": [
    "pass_attempt_df_corners = \\\n",
    "    pd.read_csv(\"~/Desktop/CoverageNet/src/01_identify_man_coverage/outputs/corners_pass_attempts_man_zone_gmm_features_no_rushers.csv\")\n",
    "pass_attempt_df_corners.shape"
   ]
  },
  {
   "cell_type": "code",
   "execution_count": 4,
   "metadata": {},
   "outputs": [
    {
     "data": {
      "text/plain": [
       "(32496, 177)"
      ]
     },
     "execution_count": 4,
     "metadata": {},
     "output_type": "execute_result"
    }
   ],
   "source": [
    "pass_attempt_df_safeties = \\\n",
    "    pd.read_csv(\"~/Desktop/CoverageNet/src/01_identify_man_coverage/outputs/safeties_pass_attempts_man_zone_gmm_features_no_rushers.csv\")\n",
    "pass_attempt_df_safeties.shape"
   ]
  },
  {
   "cell_type": "code",
   "execution_count": 5,
   "metadata": {},
   "outputs": [
    {
     "data": {
      "text/plain": [
       "(32496, 177)"
      ]
     },
     "execution_count": 5,
     "metadata": {},
     "output_type": "execute_result"
    }
   ],
   "source": [
    "pass_attempt_df_linebackers = \\\n",
    "    pd.read_csv(\"~/Desktop/CoverageNet/src/01_identify_man_coverage/outputs/linebackers_pass_attempts_man_zone_gmm_features_no_rushers.csv\")\n",
    "pass_attempt_df_safeties.shape"
   ]
  },
  {
   "cell_type": "code",
   "execution_count": 6,
   "metadata": {
    "collapsed": true
   },
   "outputs": [],
   "source": [
    "pass_attempt_df = pd.concat([pass_attempt_df_corners,\n",
    "                             pass_attempt_df_safeties,\n",
    "                             pass_attempt_df_linebackers])"
   ]
  },
  {
   "cell_type": "code",
   "execution_count": 7,
   "metadata": {},
   "outputs": [
    {
     "data": {
      "text/plain": [
       "(114763, 177)"
      ]
     },
     "execution_count": 7,
     "metadata": {},
     "output_type": "execute_result"
    }
   ],
   "source": [
    "pass_attempt_df.shape"
   ]
  },
  {
   "cell_type": "code",
   "execution_count": 8,
   "metadata": {},
   "outputs": [
    {
     "data": {
      "text/plain": [
       "(3796, 110)"
      ]
     },
     "execution_count": 8,
     "metadata": {},
     "output_type": "execute_result"
    }
   ],
   "source": [
    "sacks_df_corners = \\\n",
    "    pd.read_csv(\"~/Desktop/CoverageNet/src/01_identify_man_coverage/outputs/corners_sacks_man_zone_gmm_features_no_rushers.csv\")\n",
    "sacks_df_corners.shape"
   ]
  },
  {
   "cell_type": "code",
   "execution_count": 9,
   "metadata": {},
   "outputs": [
    {
     "data": {
      "text/plain": [
       "(2312, 110)"
      ]
     },
     "execution_count": 9,
     "metadata": {},
     "output_type": "execute_result"
    }
   ],
   "source": [
    "sacks_df_safeties = \\\n",
    "    pd.read_csv(\"~/Desktop/CoverageNet/src/01_identify_man_coverage/outputs/safeties_sacks_man_zone_gmm_features_no_rushers.csv\")\n",
    "sacks_df_safeties.shape"
   ]
  },
  {
   "cell_type": "code",
   "execution_count": 10,
   "metadata": {},
   "outputs": [
    {
     "data": {
      "text/plain": [
       "(2312, 110)"
      ]
     },
     "execution_count": 10,
     "metadata": {},
     "output_type": "execute_result"
    }
   ],
   "source": [
    "sacks_df_linebackers = \\\n",
    "    pd.read_csv(\"~/Desktop/CoverageNet/src/01_identify_man_coverage/outputs/safeties_sacks_man_zone_gmm_features_no_rushers.csv\")\n",
    "sacks_df_safeties.shape"
   ]
  },
  {
   "cell_type": "code",
   "execution_count": 11,
   "metadata": {},
   "outputs": [
    {
     "data": {
      "text/plain": [
       "(8418, 110)"
      ]
     },
     "execution_count": 11,
     "metadata": {},
     "output_type": "execute_result"
    }
   ],
   "source": [
    "sacks_df = pd.concat([sacks_df_corners,\n",
    "                      sacks_df_safeties,\n",
    "                      sacks_df_linebackers]).dropna()\n",
    "sacks_df.shape"
   ]
  },
  {
   "cell_type": "code",
   "execution_count": 12,
   "metadata": {},
   "outputs": [
    {
     "data": {
      "text/plain": [
       "array([ 1,  2,  3,  4,  5,  6,  7,  8,  9, 10, 11, 12, 13, 14, 15, 16, 17])"
      ]
     },
     "execution_count": 12,
     "metadata": {},
     "output_type": "execute_result"
    }
   ],
   "source": [
    "# printing the number of weeks of data available\n",
    "np.unique(pass_attempt_df['week'])"
   ]
  },
  {
   "cell_type": "markdown",
   "metadata": {},
   "source": [
    "# Clustering Pass Attempt Coverage"
   ]
  },
  {
   "cell_type": "code",
   "execution_count": 13,
   "metadata": {
    "collapsed": true
   },
   "outputs": [],
   "source": [
    "filter_col = [col for col in pass_attempt_df if not '_o_' in col]\n",
    "pass_attempt_df = pass_attempt_df[filter_col]"
   ]
  },
  {
   "cell_type": "code",
   "execution_count": 14,
   "metadata": {
    "collapsed": true
   },
   "outputs": [],
   "source": [
    "filter_col = [col for col in pass_attempt_df if not 'facing' in col]\n",
    "pass_attempt_df = pass_attempt_df[filter_col]"
   ]
  },
  {
   "cell_type": "code",
   "execution_count": 15,
   "metadata": {
    "collapsed": true
   },
   "outputs": [],
   "source": [
    "filter_col = [col for col in pass_attempt_df if not 'var_y' in col]\n",
    "pass_attempt_df = pass_attempt_df[filter_col]"
   ]
  },
  {
   "cell_type": "code",
   "execution_count": 16,
   "metadata": {
    "collapsed": true
   },
   "outputs": [],
   "source": [
    "filter_col = [col for col in pass_attempt_df if not 'var_x' in col]\n",
    "pass_attempt_df = pass_attempt_df[filter_col]"
   ]
  },
  {
   "cell_type": "code",
   "execution_count": 17,
   "metadata": {
    "collapsed": true
   },
   "outputs": [],
   "source": [
    "filter_col = [col for col in pass_attempt_df if not 'def_mean_time_0' in col]\n",
    "pass_attempt_df = pass_attempt_df[filter_col]"
   ]
  },
  {
   "cell_type": "code",
   "execution_count": 18,
   "metadata": {
    "collapsed": true
   },
   "outputs": [],
   "source": [
    "filter_col = [col for col in pass_attempt_df if not 'def' in col]\n",
    "pass_attempt_df = pass_attempt_df[filter_col]"
   ]
  },
  {
   "cell_type": "code",
   "execution_count": 19,
   "metadata": {
    "collapsed": true
   },
   "outputs": [],
   "source": [
    "filter_col = [col for col in pass_attempt_df if not 'def_var_time_0' in col]\n",
    "pass_attempt_df = pass_attempt_df[filter_col]"
   ]
  },
  {
   "cell_type": "code",
   "execution_count": 20,
   "metadata": {},
   "outputs": [
    {
     "data": {
      "text/plain": [
       "Index(['week', 'gameId', 'playId', 'nflId', 'displayName', 'position',\n",
       "       'speed_var_time_0', 'speed_var_time_0_1', 'speed_var_time_1',\n",
       "       'speed_var_time_1_2',\n",
       "       ...\n",
       "       'best_cor_y_time_0', 'best_cor_y_time_0_1', 'best_cor_y_time_1',\n",
       "       'best_cor_y_time_1_2', 'best_cor_y_time_2', 'best_cor_x_y_avg_time_0',\n",
       "       'best_cor_x_y_avg_time_0_1', 'best_cor_x_y_avg_time_1',\n",
       "       'best_cor_x_y_avg_time_1_2', 'best_cor_x_y_avg_time_2'],\n",
       "      dtype='object', length=125)"
      ]
     },
     "execution_count": 20,
     "metadata": {},
     "output_type": "execute_result"
    }
   ],
   "source": [
    "pass_attempt_df.columns"
   ]
  },
  {
   "cell_type": "code",
   "execution_count": 21,
   "metadata": {
    "collapsed": true
   },
   "outputs": [],
   "source": [
    "filter_col = [col for col in pass_attempt_df if not (('cor' in col) and ('best' not in col) and ('s' not in col))]\n",
    "pass_attempt_df = pass_attempt_df[filter_col]"
   ]
  },
  {
   "cell_type": "code",
   "execution_count": 22,
   "metadata": {
    "collapsed": true
   },
   "outputs": [],
   "source": [
    "# filter_col = [col for col in pass_attempt_df if not (('cor_rot' in col))]\n",
    "# pass_attempt_df = pass_attempt_df[filter_col]"
   ]
  },
  {
   "cell_type": "code",
   "execution_count": 23,
   "metadata": {
    "collapsed": true
   },
   "outputs": [],
   "source": [
    "# filter_col = [col for col in pass_attempt_df if not (('cor' in col) and ('cor_rot_best' not in col) and ('s' not in col))]\n",
    "filter_col = [col for col in pass_attempt_df if not (('cor' in col) and ('best_cor' not in col) and ('s' not in col))]\n",
    "pass_attempt_df = pass_attempt_df[filter_col]"
   ]
  },
  {
   "cell_type": "code",
   "execution_count": 24,
   "metadata": {
    "collapsed": true
   },
   "outputs": [],
   "source": [
    "filter_col = [col for col in pass_attempt_df if not (('best_cor' in col))]\n",
    "pass_attempt_df = pass_attempt_df[filter_col]"
   ]
  },
  {
   "cell_type": "code",
   "execution_count": 25,
   "metadata": {
    "collapsed": true
   },
   "outputs": [],
   "source": [
    "filter_col = [col for col in pass_attempt_df if not (('cor' in col) and ('time_0' in col))]\n",
    "pass_attempt_df = pass_attempt_df[filter_col]"
   ]
  },
  {
   "cell_type": "code",
   "execution_count": 26,
   "metadata": {
    "collapsed": true
   },
   "outputs": [],
   "source": [
    "# filter_col = [col for col in pass_attempt_df if not (('cor' in col) and ('time_2' in col))]\n",
    "# pass_attempt_df = pass_attempt_df[filter_col]"
   ]
  },
  {
   "cell_type": "code",
   "execution_count": 27,
   "metadata": {
    "collapsed": true
   },
   "outputs": [],
   "source": [
    "# filter_col = [col for col in pass_attempt_df if not (('cor' in col) and ('x_y' not in col))]\n",
    "# pass_attempt_df = pass_attempt_df[filter_col]"
   ]
  },
  {
   "cell_type": "code",
   "execution_count": 28,
   "metadata": {
    "collapsed": true
   },
   "outputs": [],
   "source": [
    "filter_col = [col for col in pass_attempt_df if not 'off_dir_var_time_0' in col]\n",
    "pass_attempt_df = pass_attempt_df[filter_col]"
   ]
  },
  {
   "cell_type": "code",
   "execution_count": 29,
   "metadata": {
    "collapsed": true
   },
   "outputs": [],
   "source": [
    "filter_col = [col for col in pass_attempt_df if not 'speed' in col]\n",
    "pass_attempt_df = pass_attempt_df[filter_col]"
   ]
  },
  {
   "cell_type": "code",
   "execution_count": 30,
   "metadata": {
    "collapsed": true
   },
   "outputs": [],
   "source": [
    "filter_col = [col for col in pass_attempt_df if not 'cor_s' in col]\n",
    "pass_attempt_df = pass_attempt_df[filter_col]"
   ]
  },
  {
   "cell_type": "code",
   "execution_count": 31,
   "metadata": {
    "collapsed": true
   },
   "outputs": [],
   "source": [
    "pass_attempt_df = pass_attempt_df.drop(['cb_off_dir_diff_ball_snap', 'cb_off_dist_ball_snap',\n",
    "                                       'off_dir_mean_time_0', 'cb_off_dist_pass_forward',\n",
    "                                       'off_mean_between_ball_snap_and_pass_forward'], axis = 1)"
   ]
  },
  {
   "cell_type": "code",
   "execution_count": 32,
   "metadata": {
    "collapsed": true
   },
   "outputs": [],
   "source": [
    "# filter_col = [col for col in pass_attempt_df if not (('rat' in col) and ('time_0' in col))]\n",
    "# pass_attempt_df = pass_attempt_df[filter_col]"
   ]
  },
  {
   "cell_type": "code",
   "execution_count": 33,
   "metadata": {
    "collapsed": true
   },
   "outputs": [],
   "source": [
    "filter_col = [col for col in pass_attempt_df if (not 'rat' in col)|('ratio_pass_forward' in col)|('rat_75' in col)|('rat_min' in col)]\n",
    "pass_attempt_df = pass_attempt_df[filter_col]"
   ]
  },
  {
   "cell_type": "code",
   "execution_count": 34,
   "metadata": {},
   "outputs": [
    {
     "data": {
      "text/plain": [
       "Index(['week', 'gameId', 'playId', 'nflId', 'displayName', 'position',\n",
       "       'off_var_time_0', 'off_var_time_0_1', 'off_var_time_1',\n",
       "       'off_var_time_1_2', 'off_var_time_2', 'off_mean_time_0',\n",
       "       'off_mean_time_0_1', 'off_mean_time_1', 'off_mean_time_1_2',\n",
       "       'off_mean_time_2', 'off_dir_var_time_1', 'off_dir_var_time_1_2',\n",
       "       'off_dir_var_time_2', 'off_dir_mean_time_0_1', 'off_dir_mean_time_1',\n",
       "       'off_dir_mean_time_1_2', 'off_dir_mean_time_2', 'rat_min_time_0',\n",
       "       'rat_min_time_0_1', 'rat_min_time_1', 'rat_min_time_1_2',\n",
       "       'rat_min_time_2', 'rat_75th_quartile_time_0',\n",
       "       'rat_75th_quartile_time_0_1', 'rat_75th_quartile_time_1',\n",
       "       'rat_75th_quartile_time_1_2', 'rat_75th_quartile_time_2',\n",
       "       'cor_rot_best_x_time_1', 'cor_rot_best_x_time_1_2',\n",
       "       'cor_rot_best_x_time_2', 'cor_rot_best_y_time_1',\n",
       "       'cor_rot_best_y_time_1_2', 'cor_rot_best_y_time_2',\n",
       "       'cor_rot_best_x_y_time_1', 'cor_rot_best_x_y_time_1_2',\n",
       "       'cor_rot_best_x_y_time_2', 'ratio_pass_forward',\n",
       "       'cb_off_dir_diff_pass_forward',\n",
       "       'off_dir_diff_between_ball_snap_and_pass_forward'],\n",
       "      dtype='object')"
      ]
     },
     "execution_count": 34,
     "metadata": {},
     "output_type": "execute_result"
    }
   ],
   "source": [
    "pass_attempt_df.columns"
   ]
  },
  {
   "cell_type": "code",
   "execution_count": 35,
   "metadata": {
    "collapsed": true
   },
   "outputs": [],
   "source": [
    "# filter_col = [col for col in pass_attempt_df if not (('cor' in col) and ('cor_rot_best_x_y' not in col))]\n",
    "# pass_attempt_df = pass_attempt_df[filter_col]"
   ]
  },
  {
   "cell_type": "code",
   "execution_count": 36,
   "metadata": {
    "collapsed": true
   },
   "outputs": [],
   "source": [
    "pass_attempt_df[\"cor_dist_inter\"] = (pass_attempt_df[\"cor_rot_best_x_y_time_1_2\"]**2)/pass_attempt_df[\"off_mean_time_1\"]\n",
    "pass_attempt_df[\"cor_dist_inter\"] = pass_attempt_df[\"cor_dist_inter\"].fillna(0)\n",
    "pass_attempt_df[\"cor_dist_inter\"] = pass_attempt_df[\"cor_dist_inter\"].replace([np.inf], \\\n",
    "                np.percentile(np.array(pass_attempt_df[\"cor_dist_inter\"]), 99))\n",
    "pass_attempt_df[\"cor_dist_inter\"] = pass_attempt_df[\"cor_dist_inter\"].replace([-np.inf], \\\n",
    "                np.percentile(np.array(pass_attempt_df[\"cor_dist_inter\"]), 1))"
   ]
  },
  {
   "cell_type": "code",
   "execution_count": 37,
   "metadata": {},
   "outputs": [
    {
     "data": {
      "text/html": [
       "<div>\n",
       "<style scoped>\n",
       "    .dataframe tbody tr th:only-of-type {\n",
       "        vertical-align: middle;\n",
       "    }\n",
       "\n",
       "    .dataframe tbody tr th {\n",
       "        vertical-align: top;\n",
       "    }\n",
       "\n",
       "    .dataframe thead th {\n",
       "        text-align: right;\n",
       "    }\n",
       "</style>\n",
       "<table border=\"1\" class=\"dataframe\">\n",
       "  <thead>\n",
       "    <tr style=\"text-align: right;\">\n",
       "      <th></th>\n",
       "      <th>week</th>\n",
       "      <th>gameId</th>\n",
       "      <th>playId</th>\n",
       "      <th>nflId</th>\n",
       "      <th>displayName</th>\n",
       "      <th>position</th>\n",
       "      <th>off_var_time_0</th>\n",
       "      <th>off_var_time_0_1</th>\n",
       "      <th>off_var_time_1</th>\n",
       "      <th>off_var_time_1_2</th>\n",
       "      <th>...</th>\n",
       "      <th>cor_rot_best_y_time_1</th>\n",
       "      <th>cor_rot_best_y_time_1_2</th>\n",
       "      <th>cor_rot_best_y_time_2</th>\n",
       "      <th>cor_rot_best_x_y_time_1</th>\n",
       "      <th>cor_rot_best_x_y_time_1_2</th>\n",
       "      <th>cor_rot_best_x_y_time_2</th>\n",
       "      <th>ratio_pass_forward</th>\n",
       "      <th>cb_off_dir_diff_pass_forward</th>\n",
       "      <th>off_dir_diff_between_ball_snap_and_pass_forward</th>\n",
       "      <th>cor_dist_inter</th>\n",
       "    </tr>\n",
       "  </thead>\n",
       "  <tbody>\n",
       "    <tr>\n",
       "      <th>0</th>\n",
       "      <td>1</td>\n",
       "      <td>2018090600</td>\n",
       "      <td>75</td>\n",
       "      <td>2552689</td>\n",
       "      <td>Ronald Darby</td>\n",
       "      <td>CB</td>\n",
       "      <td>0.000307</td>\n",
       "      <td>2.126595</td>\n",
       "      <td>2.334991</td>\n",
       "      <td>6.760635</td>\n",
       "      <td>...</td>\n",
       "      <td>0.995826</td>\n",
       "      <td>0.997417</td>\n",
       "      <td>0.996696</td>\n",
       "      <td>0.995875</td>\n",
       "      <td>0.996003</td>\n",
       "      <td>0.998342</td>\n",
       "      <td>1.003735</td>\n",
       "      <td>0.69</td>\n",
       "      <td>10.00</td>\n",
       "      <td>0.137406</td>\n",
       "    </tr>\n",
       "    <tr>\n",
       "      <th>1</th>\n",
       "      <td>1</td>\n",
       "      <td>2018090600</td>\n",
       "      <td>75</td>\n",
       "      <td>2555383</td>\n",
       "      <td>Jalen Mills</td>\n",
       "      <td>CB</td>\n",
       "      <td>0.001680</td>\n",
       "      <td>2.051115</td>\n",
       "      <td>2.075317</td>\n",
       "      <td>1.658779</td>\n",
       "      <td>...</td>\n",
       "      <td>0.984774</td>\n",
       "      <td>0.932145</td>\n",
       "      <td>-0.055780</td>\n",
       "      <td>0.990359</td>\n",
       "      <td>0.960059</td>\n",
       "      <td>0.470127</td>\n",
       "      <td>0.535486</td>\n",
       "      <td>20.40</td>\n",
       "      <td>11.75</td>\n",
       "      <td>0.160586</td>\n",
       "    </tr>\n",
       "    <tr>\n",
       "      <th>2</th>\n",
       "      <td>1</td>\n",
       "      <td>2018090600</td>\n",
       "      <td>146</td>\n",
       "      <td>2552689</td>\n",
       "      <td>Ronald Darby</td>\n",
       "      <td>CB</td>\n",
       "      <td>0.000479</td>\n",
       "      <td>1.310370</td>\n",
       "      <td>1.533356</td>\n",
       "      <td>2.695306</td>\n",
       "      <td>...</td>\n",
       "      <td>0.998051</td>\n",
       "      <td>0.996726</td>\n",
       "      <td>0.993640</td>\n",
       "      <td>0.998028</td>\n",
       "      <td>0.997735</td>\n",
       "      <td>0.994476</td>\n",
       "      <td>0.285235</td>\n",
       "      <td>14.63</td>\n",
       "      <td>8.41</td>\n",
       "      <td>0.140470</td>\n",
       "    </tr>\n",
       "    <tr>\n",
       "      <th>3</th>\n",
       "      <td>1</td>\n",
       "      <td>2018090600</td>\n",
       "      <td>146</td>\n",
       "      <td>2555383</td>\n",
       "      <td>Jalen Mills</td>\n",
       "      <td>CB</td>\n",
       "      <td>0.000957</td>\n",
       "      <td>0.967793</td>\n",
       "      <td>1.170710</td>\n",
       "      <td>3.954483</td>\n",
       "      <td>...</td>\n",
       "      <td>0.876798</td>\n",
       "      <td>0.907737</td>\n",
       "      <td>0.951222</td>\n",
       "      <td>0.873405</td>\n",
       "      <td>0.400166</td>\n",
       "      <td>-0.012135</td>\n",
       "      <td>1.104717</td>\n",
       "      <td>129.71</td>\n",
       "      <td>9.22</td>\n",
       "      <td>0.020812</td>\n",
       "    </tr>\n",
       "    <tr>\n",
       "      <th>4</th>\n",
       "      <td>1</td>\n",
       "      <td>2018090600</td>\n",
       "      <td>146</td>\n",
       "      <td>2557958</td>\n",
       "      <td>Sidney Jones</td>\n",
       "      <td>CB</td>\n",
       "      <td>0.123231</td>\n",
       "      <td>1.930732</td>\n",
       "      <td>1.270966</td>\n",
       "      <td>1.080767</td>\n",
       "      <td>...</td>\n",
       "      <td>0.992476</td>\n",
       "      <td>0.978579</td>\n",
       "      <td>0.995797</td>\n",
       "      <td>0.606894</td>\n",
       "      <td>0.829990</td>\n",
       "      <td>0.997751</td>\n",
       "      <td>0.897810</td>\n",
       "      <td>9.97</td>\n",
       "      <td>64.66</td>\n",
       "      <td>0.274418</td>\n",
       "    </tr>\n",
       "    <tr>\n",
       "      <th>5</th>\n",
       "      <td>1</td>\n",
       "      <td>2018090600</td>\n",
       "      <td>168</td>\n",
       "      <td>2552689</td>\n",
       "      <td>Ronald Darby</td>\n",
       "      <td>CB</td>\n",
       "      <td>0.000187</td>\n",
       "      <td>1.283342</td>\n",
       "      <td>1.408920</td>\n",
       "      <td>1.355697</td>\n",
       "      <td>...</td>\n",
       "      <td>0.986690</td>\n",
       "      <td>0.946714</td>\n",
       "      <td>0.926193</td>\n",
       "      <td>0.991692</td>\n",
       "      <td>0.972880</td>\n",
       "      <td>0.882016</td>\n",
       "      <td>1.804993</td>\n",
       "      <td>32.74</td>\n",
       "      <td>6.78</td>\n",
       "      <td>0.118305</td>\n",
       "    </tr>\n",
       "    <tr>\n",
       "      <th>6</th>\n",
       "      <td>1</td>\n",
       "      <td>2018090600</td>\n",
       "      <td>168</td>\n",
       "      <td>2555383</td>\n",
       "      <td>Jalen Mills</td>\n",
       "      <td>CB</td>\n",
       "      <td>0.127870</td>\n",
       "      <td>1.272338</td>\n",
       "      <td>0.430823</td>\n",
       "      <td>1.508115</td>\n",
       "      <td>...</td>\n",
       "      <td>0.932315</td>\n",
       "      <td>0.995562</td>\n",
       "      <td>0.999102</td>\n",
       "      <td>0.937582</td>\n",
       "      <td>0.975832</td>\n",
       "      <td>0.995451</td>\n",
       "      <td>0.533327</td>\n",
       "      <td>25.69</td>\n",
       "      <td>5.44</td>\n",
       "      <td>0.157230</td>\n",
       "    </tr>\n",
       "    <tr>\n",
       "      <th>7</th>\n",
       "      <td>1</td>\n",
       "      <td>2018090600</td>\n",
       "      <td>168</td>\n",
       "      <td>2557958</td>\n",
       "      <td>Sidney Jones</td>\n",
       "      <td>CB</td>\n",
       "      <td>0.865792</td>\n",
       "      <td>1.053149</td>\n",
       "      <td>1.171440</td>\n",
       "      <td>1.094309</td>\n",
       "      <td>...</td>\n",
       "      <td>0.829916</td>\n",
       "      <td>0.722369</td>\n",
       "      <td>0.965893</td>\n",
       "      <td>0.894535</td>\n",
       "      <td>0.783364</td>\n",
       "      <td>0.744048</td>\n",
       "      <td>0.554019</td>\n",
       "      <td>154.82</td>\n",
       "      <td>94.51</td>\n",
       "      <td>0.178119</td>\n",
       "    </tr>\n",
       "    <tr>\n",
       "      <th>8</th>\n",
       "      <td>1</td>\n",
       "      <td>2018090600</td>\n",
       "      <td>190</td>\n",
       "      <td>2552689</td>\n",
       "      <td>Ronald Darby</td>\n",
       "      <td>CB</td>\n",
       "      <td>0.000018</td>\n",
       "      <td>1.984624</td>\n",
       "      <td>1.805685</td>\n",
       "      <td>1.756160</td>\n",
       "      <td>...</td>\n",
       "      <td>0.998201</td>\n",
       "      <td>0.971143</td>\n",
       "      <td>0.842963</td>\n",
       "      <td>0.997157</td>\n",
       "      <td>0.940088</td>\n",
       "      <td>0.860944</td>\n",
       "      <td>0.489154</td>\n",
       "      <td>36.33</td>\n",
       "      <td>2.56</td>\n",
       "      <td>0.124397</td>\n",
       "    </tr>\n",
       "    <tr>\n",
       "      <th>9</th>\n",
       "      <td>1</td>\n",
       "      <td>2018090600</td>\n",
       "      <td>190</td>\n",
       "      <td>2555383</td>\n",
       "      <td>Jalen Mills</td>\n",
       "      <td>CB</td>\n",
       "      <td>0.079316</td>\n",
       "      <td>15.335604</td>\n",
       "      <td>17.552694</td>\n",
       "      <td>21.155270</td>\n",
       "      <td>...</td>\n",
       "      <td>0.816042</td>\n",
       "      <td>0.721554</td>\n",
       "      <td>-0.914034</td>\n",
       "      <td>0.231436</td>\n",
       "      <td>0.033792</td>\n",
       "      <td>-0.702365</td>\n",
       "      <td>4.408636</td>\n",
       "      <td>15.83</td>\n",
       "      <td>146.68</td>\n",
       "      <td>0.000103</td>\n",
       "    </tr>\n",
       "  </tbody>\n",
       "</table>\n",
       "<p>10 rows × 46 columns</p>\n",
       "</div>"
      ],
      "text/plain": [
       "   week      gameId  playId    nflId   displayName position  off_var_time_0  \\\n",
       "0     1  2018090600      75  2552689  Ronald Darby       CB        0.000307   \n",
       "1     1  2018090600      75  2555383   Jalen Mills       CB        0.001680   \n",
       "2     1  2018090600     146  2552689  Ronald Darby       CB        0.000479   \n",
       "3     1  2018090600     146  2555383   Jalen Mills       CB        0.000957   \n",
       "4     1  2018090600     146  2557958  Sidney Jones       CB        0.123231   \n",
       "5     1  2018090600     168  2552689  Ronald Darby       CB        0.000187   \n",
       "6     1  2018090600     168  2555383   Jalen Mills       CB        0.127870   \n",
       "7     1  2018090600     168  2557958  Sidney Jones       CB        0.865792   \n",
       "8     1  2018090600     190  2552689  Ronald Darby       CB        0.000018   \n",
       "9     1  2018090600     190  2555383   Jalen Mills       CB        0.079316   \n",
       "\n",
       "   off_var_time_0_1  off_var_time_1  off_var_time_1_2  ...  \\\n",
       "0          2.126595        2.334991          6.760635  ...   \n",
       "1          2.051115        2.075317          1.658779  ...   \n",
       "2          1.310370        1.533356          2.695306  ...   \n",
       "3          0.967793        1.170710          3.954483  ...   \n",
       "4          1.930732        1.270966          1.080767  ...   \n",
       "5          1.283342        1.408920          1.355697  ...   \n",
       "6          1.272338        0.430823          1.508115  ...   \n",
       "7          1.053149        1.171440          1.094309  ...   \n",
       "8          1.984624        1.805685          1.756160  ...   \n",
       "9         15.335604       17.552694         21.155270  ...   \n",
       "\n",
       "   cor_rot_best_y_time_1  cor_rot_best_y_time_1_2  cor_rot_best_y_time_2  \\\n",
       "0               0.995826                 0.997417               0.996696   \n",
       "1               0.984774                 0.932145              -0.055780   \n",
       "2               0.998051                 0.996726               0.993640   \n",
       "3               0.876798                 0.907737               0.951222   \n",
       "4               0.992476                 0.978579               0.995797   \n",
       "5               0.986690                 0.946714               0.926193   \n",
       "6               0.932315                 0.995562               0.999102   \n",
       "7               0.829916                 0.722369               0.965893   \n",
       "8               0.998201                 0.971143               0.842963   \n",
       "9               0.816042                 0.721554              -0.914034   \n",
       "\n",
       "   cor_rot_best_x_y_time_1  cor_rot_best_x_y_time_1_2  \\\n",
       "0                 0.995875                   0.996003   \n",
       "1                 0.990359                   0.960059   \n",
       "2                 0.998028                   0.997735   \n",
       "3                 0.873405                   0.400166   \n",
       "4                 0.606894                   0.829990   \n",
       "5                 0.991692                   0.972880   \n",
       "6                 0.937582                   0.975832   \n",
       "7                 0.894535                   0.783364   \n",
       "8                 0.997157                   0.940088   \n",
       "9                 0.231436                   0.033792   \n",
       "\n",
       "   cor_rot_best_x_y_time_2  ratio_pass_forward  cb_off_dir_diff_pass_forward  \\\n",
       "0                 0.998342            1.003735                          0.69   \n",
       "1                 0.470127            0.535486                         20.40   \n",
       "2                 0.994476            0.285235                         14.63   \n",
       "3                -0.012135            1.104717                        129.71   \n",
       "4                 0.997751            0.897810                          9.97   \n",
       "5                 0.882016            1.804993                         32.74   \n",
       "6                 0.995451            0.533327                         25.69   \n",
       "7                 0.744048            0.554019                        154.82   \n",
       "8                 0.860944            0.489154                         36.33   \n",
       "9                -0.702365            4.408636                         15.83   \n",
       "\n",
       "   off_dir_diff_between_ball_snap_and_pass_forward  cor_dist_inter  \n",
       "0                                            10.00        0.137406  \n",
       "1                                            11.75        0.160586  \n",
       "2                                             8.41        0.140470  \n",
       "3                                             9.22        0.020812  \n",
       "4                                            64.66        0.274418  \n",
       "5                                             6.78        0.118305  \n",
       "6                                             5.44        0.157230  \n",
       "7                                            94.51        0.178119  \n",
       "8                                             2.56        0.124397  \n",
       "9                                           146.68        0.000103  \n",
       "\n",
       "[10 rows x 46 columns]"
      ]
     },
     "execution_count": 37,
     "metadata": {},
     "output_type": "execute_result"
    }
   ],
   "source": [
    "pass_attempt_df.head(10)"
   ]
  },
  {
   "cell_type": "code",
   "execution_count": 38,
   "metadata": {},
   "outputs": [
    {
     "data": {
      "text/plain": [
       "Index(['week', 'gameId', 'playId', 'nflId', 'displayName', 'position',\n",
       "       'off_var_time_0', 'off_var_time_0_1', 'off_var_time_1',\n",
       "       'off_var_time_1_2', 'off_var_time_2', 'off_mean_time_0',\n",
       "       'off_mean_time_0_1', 'off_mean_time_1', 'off_mean_time_1_2',\n",
       "       'off_mean_time_2', 'off_dir_var_time_1', 'off_dir_var_time_1_2',\n",
       "       'off_dir_var_time_2', 'off_dir_mean_time_0_1', 'off_dir_mean_time_1',\n",
       "       'off_dir_mean_time_1_2', 'off_dir_mean_time_2', 'rat_min_time_0',\n",
       "       'rat_min_time_0_1', 'rat_min_time_1', 'rat_min_time_1_2',\n",
       "       'rat_min_time_2', 'rat_75th_quartile_time_0',\n",
       "       'rat_75th_quartile_time_0_1', 'rat_75th_quartile_time_1',\n",
       "       'rat_75th_quartile_time_1_2', 'rat_75th_quartile_time_2',\n",
       "       'cor_rot_best_x_time_1', 'cor_rot_best_x_time_1_2',\n",
       "       'cor_rot_best_x_time_2', 'cor_rot_best_y_time_1',\n",
       "       'cor_rot_best_y_time_1_2', 'cor_rot_best_y_time_2',\n",
       "       'cor_rot_best_x_y_time_1', 'cor_rot_best_x_y_time_1_2',\n",
       "       'cor_rot_best_x_y_time_2', 'ratio_pass_forward',\n",
       "       'cb_off_dir_diff_pass_forward',\n",
       "       'off_dir_diff_between_ball_snap_and_pass_forward', 'cor_dist_inter'],\n",
       "      dtype='object')"
      ]
     },
     "execution_count": 38,
     "metadata": {},
     "output_type": "execute_result"
    }
   ],
   "source": [
    "pass_attempt_df.columns"
   ]
  },
  {
   "cell_type": "markdown",
   "metadata": {},
   "source": [
    "### Preparing Train/Test Groups"
   ]
  },
  {
   "cell_type": "code",
   "execution_count": 39,
   "metadata": {
    "collapsed": true
   },
   "outputs": [],
   "source": [
    "weeks_exclude = [1, 2, 3]\n",
    "train = pass_attempt_df[[x not in weeks_exclude for x in list(pass_attempt_df[\"week\"])]]\n",
    "test = pass_attempt_df[[x in weeks_exclude for x in list(pass_attempt_df[\"week\"])]]"
   ]
  },
  {
   "cell_type": "code",
   "execution_count": 40,
   "metadata": {
    "collapsed": true
   },
   "outputs": [],
   "source": [
    "X_train = train.drop(['week', 'gameId','playId','nflId','displayName','position'], axis = 1).sample(40000)\n",
    "X_test = test.drop(['week', 'gameId','playId','nflId','displayName','position'], axis = 1)"
   ]
  },
  {
   "cell_type": "code",
   "execution_count": 41,
   "metadata": {},
   "outputs": [
    {
     "name": "stdout",
     "output_type": "stream",
     "text": [
      "(40000, 40)\n",
      "(21376, 40)\n"
     ]
    }
   ],
   "source": [
    "print(X_train.shape)\n",
    "print(X_test.shape)"
   ]
  },
  {
   "cell_type": "markdown",
   "metadata": {},
   "source": [
    "### Fitting GMM Model"
   ]
  },
  {
   "cell_type": "code",
   "execution_count": 42,
   "metadata": {
    "collapsed": true
   },
   "outputs": [],
   "source": [
    "# train\n",
    "clf_train = mixture.GaussianMixture(n_components=2, covariance_type='full')\n",
    "f_train = clf_train.fit(X_train)"
   ]
  },
  {
   "cell_type": "code",
   "execution_count": 43,
   "metadata": {
    "collapsed": true
   },
   "outputs": [],
   "source": [
    "# test\n",
    "clf_test = mixture.GaussianMixture(n_components=2, covariance_type='full')\n",
    "f_test = clf_test.fit(X_test)"
   ]
  },
  {
   "cell_type": "markdown",
   "metadata": {},
   "source": [
    "### Examining Cluster Results"
   ]
  },
  {
   "cell_type": "code",
   "execution_count": 44,
   "metadata": {
    "collapsed": true
   },
   "outputs": [],
   "source": [
    "def get_cluster_means(X, f):\n",
    "    cluster_means = {}\n",
    "    for iCnt in range(len(X.columns)):\n",
    "        cluster_means.update({X.columns[iCnt]:(f.means_[0][iCnt],\n",
    "                                               f.means_[1][iCnt])})\n",
    "    return cluster_means"
   ]
  },
  {
   "cell_type": "code",
   "execution_count": 45,
   "metadata": {},
   "outputs": [
    {
     "data": {
      "text/plain": [
       "{'cb_off_dir_diff_pass_forward': (49.552395453325886, 12.577731071224173),\n",
       " 'cor_dist_inter': (0.10112373966154015, 0.3085942377031415),\n",
       " 'cor_rot_best_x_time_1': (0.6820787091572874, 0.9536930696176013),\n",
       " 'cor_rot_best_x_time_1_2': (0.718744084950457, 0.967105102831023),\n",
       " 'cor_rot_best_x_time_2': (0.6478657576061287, 0.9946915297204129),\n",
       " 'cor_rot_best_x_y_time_1': (0.6741556287371733, 0.9522652935378694),\n",
       " 'cor_rot_best_x_y_time_1_2': (0.7058204639889735, 0.9673626116016847),\n",
       " 'cor_rot_best_x_y_time_2': (0.6239394257962496, 0.9947967106853944),\n",
       " 'cor_rot_best_y_time_1': (0.6662325483170589, 0.9508375174581385),\n",
       " 'cor_rot_best_y_time_1_2': (0.6928968430274899, 0.967620120372346),\n",
       " 'cor_rot_best_y_time_2': (0.6000130939863706, 0.9949018916503771),\n",
       " 'off_dir_diff_between_ball_snap_and_pass_forward': (50.781923106128076,\n",
       "  20.18317374181731),\n",
       " 'off_dir_mean_time_0_1': (64.105287282205, 44.92941240303201),\n",
       " 'off_dir_mean_time_1': (55.67467332383974, 29.23877352331944),\n",
       " 'off_dir_mean_time_1_2': (55.087093585640524, 25.0610561995636),\n",
       " 'off_dir_mean_time_2': (54.57225553582661, 13.500964944583584),\n",
       " 'off_dir_var_time_1': (1298.3207647705701, 986.9261086958999),\n",
       " 'off_dir_var_time_1_2': (1522.7267111086335, 857.9916327661058),\n",
       " 'off_dir_var_time_2': (663.3338557626993, 57.3760131711676),\n",
       " 'off_mean_time_0': (9.880553851337702, 5.7862665447291315),\n",
       " 'off_mean_time_0_1': (8.938506199325884, 4.7271407552575555),\n",
       " 'off_mean_time_1': (8.612997370610913, 4.354149817104407),\n",
       " 'off_mean_time_1_2': (8.184385402275945, 3.9216898742779045),\n",
       " 'off_mean_time_2': (7.093390548202886, 2.7291762401901347),\n",
       " 'off_var_time_0': (0.04634841675235091, 0.0415669925857182),\n",
       " 'off_var_time_0_1': (3.6170509065618246, 2.2195229287535683),\n",
       " 'off_var_time_1': (3.5265433253280833, 2.1041171343514944),\n",
       " 'off_var_time_1_2': (5.822195224708353, 2.755580496647534),\n",
       " 'off_var_time_2': (1.160229759121453, 0.18974152167181363),\n",
       " 'rat_75th_quartile_time_0': (2.4868310807482463, 1.0307848834513622),\n",
       " 'rat_75th_quartile_time_0_1': (3.634898419251577, 1.1150952092281565),\n",
       " 'rat_75th_quartile_time_1': (4.068326282663099, 1.1367852530738287),\n",
       " 'rat_75th_quartile_time_1_2': (4.194434462655839, 1.0538052525183383),\n",
       " 'rat_75th_quartile_time_2': (3.8766060834184812, 0.5227741764967799),\n",
       " 'rat_min_time_0': (2.432720922108526, 1.012822715072239),\n",
       " 'rat_min_time_0_1': (3.004877669148728, 0.9168066520368504),\n",
       " 'rat_min_time_1': (3.219742358641775, 0.8844213775889919),\n",
       " 'rat_min_time_1_2': (3.2409369734558795, 0.775584737417177),\n",
       " 'rat_min_time_2': (3.2762507619562653, 0.4650687807426045),\n",
       " 'ratio_pass_forward': (3.40834621645234, 0.4878768547466825)}"
      ]
     },
     "execution_count": 45,
     "metadata": {},
     "output_type": "execute_result"
    }
   ],
   "source": [
    "get_cluster_means(X_train, f_train)"
   ]
  },
  {
   "cell_type": "markdown",
   "metadata": {
    "collapsed": true
   },
   "source": [
    "### Computing Rand Index"
   ]
  },
  {
   "cell_type": "code",
   "execution_count": 46,
   "metadata": {
    "collapsed": true
   },
   "outputs": [],
   "source": [
    "from sklearn.metrics import adjusted_rand_score"
   ]
  },
  {
   "cell_type": "code",
   "execution_count": 47,
   "metadata": {
    "collapsed": true
   },
   "outputs": [],
   "source": [
    "y_train = f_train.predict(X_test)\n",
    "y_test = f_test.predict(X_test)"
   ]
  },
  {
   "cell_type": "code",
   "execution_count": 48,
   "metadata": {},
   "outputs": [
    {
     "data": {
      "text/plain": [
       "0.953322418155362"
      ]
     },
     "execution_count": 48,
     "metadata": {},
     "output_type": "execute_result"
    }
   ],
   "source": [
    "adjusted_rand_score(y_train, y_test)"
   ]
  },
  {
   "cell_type": "markdown",
   "metadata": {},
   "source": [
    "### Iterating Through To Get Cross-Validation Scores"
   ]
  },
  {
   "cell_type": "code",
   "execution_count": 51,
   "metadata": {
    "collapsed": true
   },
   "outputs": [],
   "source": [
    "weeks_exclude_vect = [[1,2,3],[4,5,6],[7,8,9],[10,11,12],[13,14,15],[15,16,17]]\n",
    "G_vect = [2, 3, 4, 5, 6, 7, 8, 9]\n",
    "rand_index_G_vect = []"
   ]
  },
  {
   "cell_type": "code",
   "execution_count": 52,
   "metadata": {
    "scrolled": true
   },
   "outputs": [
    {
     "name": "stdout",
     "output_type": "stream",
     "text": [
      "0.9552936069736643\n",
      "0.8807981685756926\n",
      "0.793197001868287\n",
      "0.6308909470172092\n",
      "0.6410445685997309\n",
      "0.48587700942037415\n",
      "0.5045106247492014\n",
      "0.42179119086179256\n"
     ]
    }
   ],
   "source": [
    "for G in G_vect:\n",
    "    rand_index_sum = 0\n",
    "    # iterating through the week groupings to leave out\n",
    "    for weeks_exclue in weeks_exclude_vect:\n",
    "        # creating train/test groups\n",
    "        train = pass_attempt_df[[x not in weeks_exclude for x in list(pass_attempt_df[\"week\"])]].sample(40000)\n",
    "        test = pass_attempt_df[[x in weeks_exclude for x in list(pass_attempt_df[\"week\"])]]\n",
    "\n",
    "        X_train = train.drop(['week', 'gameId','playId','nflId','displayName','position'], axis = 1)\n",
    "        X_test = test.drop(['week', 'gameId','playId','nflId','displayName','position'], axis = 1)\n",
    "\n",
    "        # train\n",
    "        clf_train = mixture.GaussianMixture(n_components=G, covariance_type='full', \n",
    "                                            n_init = 2, max_iter = 200)\n",
    "        f_train = clf_train.fit(X_train)\n",
    "\n",
    "        # test\n",
    "        clf_test = mixture.GaussianMixture(n_components=G, covariance_type='full',\n",
    "                                           n_init = 2, max_iter = 200)\n",
    "        f_test = clf_test.fit(X_test)\n",
    "\n",
    "        # classifying test group\n",
    "        y_train = f_train.predict(X_test)\n",
    "        y_test = f_test.predict(X_test)\n",
    "\n",
    "        # appling the adjusted rand index\n",
    "        rand_index_val = adjusted_rand_score(y_train, y_test)\n",
    "        rand_index_sum += rand_index_val\n",
    "\n",
    "    rand_index = rand_index_sum/len(weeks_exclude_vect)\n",
    "    \n",
    "    rand_index_G_vect.append(rand_index)\n",
    "    \n",
    "    print(rand_index)"
   ]
  },
  {
   "cell_type": "markdown",
   "metadata": {},
   "source": [
    "### Plot eliminating x/y var, speed, and def based variables, replacing Ratio with Cor"
   ]
  },
  {
   "cell_type": "code",
   "execution_count": 53,
   "metadata": {},
   "outputs": [
    {
     "data": {
      "image/png": "[encoded data removed]",
      "text/plain": [
       "<matplotlib.figure.Figure at 0x128e60ba8>"
      ]
     },
     "metadata": {},
     "output_type": "display_data"
    }
   ],
   "source": [
    "plt.pyplot.figure(figsize=(10, 6))\n",
    "# plotting the results\n",
    "plt.pyplot.bar(x = G_vect,\n",
    "               height = rand_index_G_vect,\n",
    "               width = .55)\n",
    "plt.pyplot.xlabel('Number of Clusters ($G*$)')\n",
    "plt.pyplot.ylabel('ARI Score')\n",
    "plt.pyplot.ylim(0,1)\n",
    "plt.pyplot.title('ARI Score vs. Number of Clusters')\n",
    "plt.pyplot.show()"
   ]
  },
  {
   "cell_type": "markdown",
   "metadata": {},
   "source": [
    "### Feature Importance"
   ]
  },
  {
   "cell_type": "code",
   "execution_count": 50,
   "metadata": {
    "collapsed": true
   },
   "outputs": [],
   "source": [
    "import sys\n",
    "weeks_exclude_vect = [[1,2,3],[4,5,6],[7,8,9],[10,11,12],[13,14,15],[15,16,17]]\n",
    "feature_list = list(X_train.columns)\n",
    "rand_index_vect = []\n",
    "\n",
    "# making a waitbar\n",
    "toolbar_width = len(feature_list)"
   ]
  },
  {
   "cell_type": "code",
   "execution_count": 51,
   "metadata": {},
   "outputs": [
    {
     "name": "stdout",
     "output_type": "stream",
     "text": [
      "[                                        ----------------------------------------"
     ]
    }
   ],
   "source": [
    "sys.stdout.write(\"[%s]\" % (\" \" * toolbar_width))\n",
    "sys.stdout.flush()\n",
    "sys.stdout.write(\"\\b\" * (toolbar_width+1))\n",
    "\n",
    "for feature in feature_list:\n",
    "    \n",
    "    rand_index_sum = 0\n",
    "\n",
    "    # iterating through the week groupings to leave out\n",
    "    for weeks_exclue in weeks_exclude_vect:\n",
    "        # creating train/test groups\n",
    "        train = pass_attempt_df[[x not in weeks_exclude for \\\n",
    "                                 x in list(pass_attempt_df[\"week\"])]].drop([feature], axis = 1).sample(40000)\n",
    "        test = pass_attempt_df[[x in weeks_exclude for \\\n",
    "                                x in list(pass_attempt_df[\"week\"])]].drop([feature], axis = 1)\n",
    "\n",
    "        X_train = train.drop(['week', 'gameId','playId','nflId','displayName','position'], axis = 1)\n",
    "        X_test = test.drop(['week', 'gameId','playId','nflId','displayName','position'], axis = 1)\n",
    "\n",
    "        # train\n",
    "        clf_train = mixture.GaussianMixture(n_components=2, covariance_type='full')\n",
    "        f_train = clf_train.fit(X_train)\n",
    "\n",
    "        # test\n",
    "        clf_test = mixture.GaussianMixture(n_components=2, covariance_type='full')\n",
    "        f_test = clf_test.fit(X_test)\n",
    "\n",
    "        # classifying test group\n",
    "        y_train = f_train.predict(X_test)\n",
    "        y_test = f_test.predict(X_test)\n",
    "\n",
    "        # appling the adjusted rand index\n",
    "        rand_index_val = adjusted_rand_score(y_train, y_test)\n",
    "        rand_index_sum += rand_index_val\n",
    "\n",
    "    rand_index = rand_index_sum/len(weeks_exclude_vect)\n",
    "    \n",
    "    rand_index_vect.append(rand_index)\n",
    "    \n",
    "    sys.stdout.write(\"-\")\n",
    "    sys.stdout.flush()"
   ]
  },
  {
   "cell_type": "code",
   "execution_count": 55,
   "metadata": {},
   "outputs": [
    {
     "data": {
      "text/plain": [
       "[0.9572853824196962,\n",
       " 0.9619881880163913,\n",
       " 0.9658406696610685,\n",
       " 0.9439785698537043,\n",
       " 0.950906827282723,\n",
       " 0.9674417836828183,\n",
       " 0.9638137472241453,\n",
       " 0.9586746454296725,\n",
       " 0.9524982411441099,\n",
       " 0.9511405022496734,\n",
       " 0.9559667411900165,\n",
       " 0.6054892950166266,\n",
       " 0.6939578910640426,\n",
       " 0.9584848177739328,\n",
       " 0.9503063059111043,\n",
       " 0.9592446255564923,\n",
       " 0.6530800836545524,\n",
       " 0.9591239575289716,\n",
       " 0.9481011489080755,\n",
       " 0.9489117325360653,\n",
       " 0.955625669831304,\n",
       " 0.9519204068120174,\n",
       " 0.9590802381341582,\n",
       " 0.9581867754739117,\n",
       " 0.9585905379519087,\n",
       " 0.9542141502191814,\n",
       " 0.9461024804594516,\n",
       " 0.9543159000378917,\n",
       " 0.9571306010556634,\n",
       " 0.9574983083331432,\n",
       " 0.956888142799404,\n",
       " 0.9536023647938429,\n",
       " 0.9544719654256206,\n",
       " 0.9516646220294032,\n",
       " 0.9541874964237053,\n",
       " 0.9561612515722687,\n",
       " 0.9547688318585742,\n",
       " 0.6727603324334086,\n",
       " 0.9582841589969292,\n",
       " 0.9545224121208974]"
      ]
     },
     "execution_count": 55,
     "metadata": {},
     "output_type": "execute_result"
    }
   ],
   "source": [
    "rand_index_vect"
   ]
  },
  {
   "cell_type": "code",
   "execution_count": 56,
   "metadata": {},
   "outputs": [],
   "source": [
    "d = {'feature': feature_list, 'delta_ARI': rand_index_G_vect[0] - np.array(rand_index_vect)}\n",
    "feature_imp_df = pd.DataFrame(data=d).sort_values('delta_ARI', ascending = False)\n",
    "feature_imp_df[\"base_feature\"] = [x.split('_pass_forward')[0] if \"pass_forward\" in x \\\n",
    "                                  else x.split('_ball_snap')[0] if \"ball_snap\" in x \\\n",
    "                                  else x.split('_time')[0] for x in np.array(feature_imp_df[\"feature\"])]\n",
    "feature_imp_df[\"time_period\"] = [\"Before Ball Thrown\" if \"pass_forward\" in x \\\n",
    "                                 else \"Before Ball Thrown\" if \"ball_snap\" in x \\\n",
    "                                 else \"After Ball Thrown\" if x.endswith(\"2\") \\\n",
    "                                 else \"Before Ball Thrown\" for x in np.array(feature_imp_df[\"feature\"])]\n",
    "feature_imp_df[\"feature\"] = [x.upper() for x in feature_imp_df[\"feature\"]]"
   ]
  },
  {
   "cell_type": "code",
   "execution_count": 57,
   "metadata": {},
   "outputs": [
    {
     "data": {
      "image/png": "[encoded data removed]",
      "text/plain": [
       "<matplotlib.figure.Figure at 0x1253c25f8>"
      ]
     },
     "metadata": {},
     "output_type": "display_data"
    }
   ],
   "source": [
    "plt.pyplot.figure(figsize=(7,7))\n",
    "\n",
    "sns.barplot(x=\"delta_ARI\", y=\"feature\", data=feature_imp_df.head(10).sort_values('delta_ARI', ascending = True),\n",
    "            hue = \"time_period\", dodge = False, palette = [\"red\", \"blue\"])\n",
    "plt.pyplot.gca().legend().set_title('')\n",
    "plt.pyplot.title('Change in ARI vs. Feature')\n",
    "plt.pyplot.ylabel('Feature Name')\n",
    "plt.pyplot.xlabel('Change In ARI')\n",
    "plt.pyplot.show()"
   ]
  },
  {
   "cell_type": "markdown",
   "metadata": {},
   "source": [
    "### Scoring All Plays"
   ]
  },
  {
   "cell_type": "code",
   "execution_count": 71,
   "metadata": {},
   "outputs": [
    {
     "data": {
      "text/html": [
       "<div>\n",
       "<style scoped>\n",
       "    .dataframe tbody tr th:only-of-type {\n",
       "        vertical-align: middle;\n",
       "    }\n",
       "\n",
       "    .dataframe tbody tr th {\n",
       "        vertical-align: top;\n",
       "    }\n",
       "\n",
       "    .dataframe thead th {\n",
       "        text-align: right;\n",
       "    }\n",
       "</style>\n",
       "<table border=\"1\" class=\"dataframe\">\n",
       "  <thead>\n",
       "    <tr style=\"text-align: right;\">\n",
       "      <th></th>\n",
       "      <th>week</th>\n",
       "      <th>gameId</th>\n",
       "      <th>playId</th>\n",
       "      <th>nflId</th>\n",
       "      <th>displayName</th>\n",
       "      <th>position</th>\n",
       "      <th>off_var_time_0</th>\n",
       "      <th>off_var_time_0_1</th>\n",
       "      <th>off_var_time_1</th>\n",
       "      <th>off_var_time_1_2</th>\n",
       "      <th>...</th>\n",
       "      <th>cor_rot_best_y_time_2</th>\n",
       "      <th>cor_rot_best_x_y_time_1</th>\n",
       "      <th>cor_rot_best_x_y_time_1_2</th>\n",
       "      <th>cor_rot_best_x_y_time_2</th>\n",
       "      <th>ratio_pass_forward</th>\n",
       "      <th>cb_off_dir_diff_pass_forward</th>\n",
       "      <th>off_dir_diff_between_ball_snap_and_pass_forward</th>\n",
       "      <th>cor_dist_inter</th>\n",
       "      <th>zone_probability</th>\n",
       "      <th>zone_flag</th>\n",
       "    </tr>\n",
       "  </thead>\n",
       "  <tbody>\n",
       "    <tr>\n",
       "      <th>0</th>\n",
       "      <td>1</td>\n",
       "      <td>2018090600</td>\n",
       "      <td>75</td>\n",
       "      <td>2552689</td>\n",
       "      <td>Ronald Darby</td>\n",
       "      <td>CB</td>\n",
       "      <td>0.000307</td>\n",
       "      <td>2.126595</td>\n",
       "      <td>2.334991</td>\n",
       "      <td>6.760635</td>\n",
       "      <td>...</td>\n",
       "      <td>0.996696</td>\n",
       "      <td>0.995875</td>\n",
       "      <td>0.996003</td>\n",
       "      <td>0.998342</td>\n",
       "      <td>1.003735</td>\n",
       "      <td>0.69</td>\n",
       "      <td>10.00</td>\n",
       "      <td>0.137406</td>\n",
       "      <td>0.000000</td>\n",
       "      <td>0</td>\n",
       "    </tr>\n",
       "    <tr>\n",
       "      <th>1</th>\n",
       "      <td>1</td>\n",
       "      <td>2018090600</td>\n",
       "      <td>75</td>\n",
       "      <td>2555383</td>\n",
       "      <td>Jalen Mills</td>\n",
       "      <td>CB</td>\n",
       "      <td>0.001680</td>\n",
       "      <td>2.051115</td>\n",
       "      <td>2.075317</td>\n",
       "      <td>1.658779</td>\n",
       "      <td>...</td>\n",
       "      <td>-0.055780</td>\n",
       "      <td>0.990359</td>\n",
       "      <td>0.960059</td>\n",
       "      <td>0.470127</td>\n",
       "      <td>0.535486</td>\n",
       "      <td>20.40</td>\n",
       "      <td>11.75</td>\n",
       "      <td>0.160586</td>\n",
       "      <td>1.000000</td>\n",
       "      <td>1</td>\n",
       "    </tr>\n",
       "    <tr>\n",
       "      <th>2</th>\n",
       "      <td>1</td>\n",
       "      <td>2018090600</td>\n",
       "      <td>146</td>\n",
       "      <td>2552689</td>\n",
       "      <td>Ronald Darby</td>\n",
       "      <td>CB</td>\n",
       "      <td>0.000479</td>\n",
       "      <td>1.310370</td>\n",
       "      <td>1.533356</td>\n",
       "      <td>2.695306</td>\n",
       "      <td>...</td>\n",
       "      <td>0.993640</td>\n",
       "      <td>0.998028</td>\n",
       "      <td>0.997735</td>\n",
       "      <td>0.994476</td>\n",
       "      <td>0.285235</td>\n",
       "      <td>14.63</td>\n",
       "      <td>8.41</td>\n",
       "      <td>0.140470</td>\n",
       "      <td>0.000000</td>\n",
       "      <td>0</td>\n",
       "    </tr>\n",
       "    <tr>\n",
       "      <th>3</th>\n",
       "      <td>1</td>\n",
       "      <td>2018090600</td>\n",
       "      <td>146</td>\n",
       "      <td>2555383</td>\n",
       "      <td>Jalen Mills</td>\n",
       "      <td>CB</td>\n",
       "      <td>0.000957</td>\n",
       "      <td>0.967793</td>\n",
       "      <td>1.170710</td>\n",
       "      <td>3.954483</td>\n",
       "      <td>...</td>\n",
       "      <td>0.951222</td>\n",
       "      <td>0.873405</td>\n",
       "      <td>0.400166</td>\n",
       "      <td>-0.012135</td>\n",
       "      <td>1.104717</td>\n",
       "      <td>129.71</td>\n",
       "      <td>9.22</td>\n",
       "      <td>0.020812</td>\n",
       "      <td>1.000000</td>\n",
       "      <td>1</td>\n",
       "    </tr>\n",
       "    <tr>\n",
       "      <th>4</th>\n",
       "      <td>1</td>\n",
       "      <td>2018090600</td>\n",
       "      <td>146</td>\n",
       "      <td>2557958</td>\n",
       "      <td>Sidney Jones</td>\n",
       "      <td>CB</td>\n",
       "      <td>0.123231</td>\n",
       "      <td>1.930732</td>\n",
       "      <td>1.270966</td>\n",
       "      <td>1.080767</td>\n",
       "      <td>...</td>\n",
       "      <td>0.995797</td>\n",
       "      <td>0.606894</td>\n",
       "      <td>0.829990</td>\n",
       "      <td>0.997751</td>\n",
       "      <td>0.897810</td>\n",
       "      <td>9.97</td>\n",
       "      <td>64.66</td>\n",
       "      <td>0.274418</td>\n",
       "      <td>0.997077</td>\n",
       "      <td>1</td>\n",
       "    </tr>\n",
       "    <tr>\n",
       "      <th>...</th>\n",
       "      <td>...</td>\n",
       "      <td>...</td>\n",
       "      <td>...</td>\n",
       "      <td>...</td>\n",
       "      <td>...</td>\n",
       "      <td>...</td>\n",
       "      <td>...</td>\n",
       "      <td>...</td>\n",
       "      <td>...</td>\n",
       "      <td>...</td>\n",
       "      <td>...</td>\n",
       "      <td>...</td>\n",
       "      <td>...</td>\n",
       "      <td>...</td>\n",
       "      <td>...</td>\n",
       "      <td>...</td>\n",
       "      <td>...</td>\n",
       "      <td>...</td>\n",
       "      <td>...</td>\n",
       "      <td>...</td>\n",
       "      <td>...</td>\n",
       "    </tr>\n",
       "    <tr>\n",
       "      <th>29285</th>\n",
       "      <td>17</td>\n",
       "      <td>2018123015</td>\n",
       "      <td>3819</td>\n",
       "      <td>2540140</td>\n",
       "      <td>Barkevious Mingo</td>\n",
       "      <td>OLB</td>\n",
       "      <td>0.477275</td>\n",
       "      <td>2.352230</td>\n",
       "      <td>2.948215</td>\n",
       "      <td>3.977932</td>\n",
       "      <td>...</td>\n",
       "      <td>0.173630</td>\n",
       "      <td>0.660687</td>\n",
       "      <td>0.590865</td>\n",
       "      <td>0.227307</td>\n",
       "      <td>2.130586</td>\n",
       "      <td>83.91</td>\n",
       "      <td>34.85</td>\n",
       "      <td>0.077566</td>\n",
       "      <td>1.000000</td>\n",
       "      <td>1</td>\n",
       "    </tr>\n",
       "    <tr>\n",
       "      <th>29286</th>\n",
       "      <td>17</td>\n",
       "      <td>2018123015</td>\n",
       "      <td>3969</td>\n",
       "      <td>2532966</td>\n",
       "      <td>Bobby Wagner</td>\n",
       "      <td>MLB</td>\n",
       "      <td>0.000304</td>\n",
       "      <td>0.485455</td>\n",
       "      <td>0.608307</td>\n",
       "      <td>0.702361</td>\n",
       "      <td>...</td>\n",
       "      <td>-0.988784</td>\n",
       "      <td>0.797403</td>\n",
       "      <td>0.547650</td>\n",
       "      <td>-0.003473</td>\n",
       "      <td>0.314022</td>\n",
       "      <td>145.89</td>\n",
       "      <td>95.93</td>\n",
       "      <td>0.044237</td>\n",
       "      <td>1.000000</td>\n",
       "      <td>1</td>\n",
       "    </tr>\n",
       "    <tr>\n",
       "      <th>29287</th>\n",
       "      <td>17</td>\n",
       "      <td>2018123015</td>\n",
       "      <td>4057</td>\n",
       "      <td>2543769</td>\n",
       "      <td>Deone Bucannon</td>\n",
       "      <td>ILB</td>\n",
       "      <td>0.000782</td>\n",
       "      <td>1.839250</td>\n",
       "      <td>2.345472</td>\n",
       "      <td>2.278569</td>\n",
       "      <td>...</td>\n",
       "      <td>0.999502</td>\n",
       "      <td>0.872500</td>\n",
       "      <td>0.830232</td>\n",
       "      <td>0.100635</td>\n",
       "      <td>1.776552</td>\n",
       "      <td>67.15</td>\n",
       "      <td>49.12</td>\n",
       "      <td>0.113849</td>\n",
       "      <td>1.000000</td>\n",
       "      <td>1</td>\n",
       "    </tr>\n",
       "    <tr>\n",
       "      <th>29288</th>\n",
       "      <td>17</td>\n",
       "      <td>2018123015</td>\n",
       "      <td>4104</td>\n",
       "      <td>2543769</td>\n",
       "      <td>Deone Bucannon</td>\n",
       "      <td>ILB</td>\n",
       "      <td>0.003812</td>\n",
       "      <td>2.465509</td>\n",
       "      <td>2.247225</td>\n",
       "      <td>2.456899</td>\n",
       "      <td>...</td>\n",
       "      <td>0.048461</td>\n",
       "      <td>0.936742</td>\n",
       "      <td>0.931413</td>\n",
       "      <td>0.466722</td>\n",
       "      <td>5.204992</td>\n",
       "      <td>29.27</td>\n",
       "      <td>22.86</td>\n",
       "      <td>0.114357</td>\n",
       "      <td>1.000000</td>\n",
       "      <td>1</td>\n",
       "    </tr>\n",
       "    <tr>\n",
       "      <th>29289</th>\n",
       "      <td>17</td>\n",
       "      <td>2018123015</td>\n",
       "      <td>4104</td>\n",
       "      <td>2557887</td>\n",
       "      <td>Haason Reddick</td>\n",
       "      <td>ILB</td>\n",
       "      <td>0.000012</td>\n",
       "      <td>3.056008</td>\n",
       "      <td>2.930118</td>\n",
       "      <td>2.547881</td>\n",
       "      <td>...</td>\n",
       "      <td>-0.396346</td>\n",
       "      <td>0.976780</td>\n",
       "      <td>0.962982</td>\n",
       "      <td>0.285612</td>\n",
       "      <td>0.255447</td>\n",
       "      <td>5.87</td>\n",
       "      <td>32.83</td>\n",
       "      <td>0.148564</td>\n",
       "      <td>1.000000</td>\n",
       "      <td>1</td>\n",
       "    </tr>\n",
       "  </tbody>\n",
       "</table>\n",
       "<p>114763 rows × 48 columns</p>\n",
       "</div>"
      ],
      "text/plain": [
       "       week      gameId  playId    nflId       displayName position  \\\n",
       "0         1  2018090600      75  2552689      Ronald Darby       CB   \n",
       "1         1  2018090600      75  2555383       Jalen Mills       CB   \n",
       "2         1  2018090600     146  2552689      Ronald Darby       CB   \n",
       "3         1  2018090600     146  2555383       Jalen Mills       CB   \n",
       "4         1  2018090600     146  2557958      Sidney Jones       CB   \n",
       "...     ...         ...     ...      ...               ...      ...   \n",
       "29285    17  2018123015    3819  2540140  Barkevious Mingo      OLB   \n",
       "29286    17  2018123015    3969  2532966      Bobby Wagner      MLB   \n",
       "29287    17  2018123015    4057  2543769    Deone Bucannon      ILB   \n",
       "29288    17  2018123015    4104  2543769    Deone Bucannon      ILB   \n",
       "29289    17  2018123015    4104  2557887    Haason Reddick      ILB   \n",
       "\n",
       "       off_var_time_0  off_var_time_0_1  off_var_time_1  off_var_time_1_2  \\\n",
       "0            0.000307          2.126595        2.334991          6.760635   \n",
       "1            0.001680          2.051115        2.075317          1.658779   \n",
       "2            0.000479          1.310370        1.533356          2.695306   \n",
       "3            0.000957          0.967793        1.170710          3.954483   \n",
       "4            0.123231          1.930732        1.270966          1.080767   \n",
       "...               ...               ...             ...               ...   \n",
       "29285        0.477275          2.352230        2.948215          3.977932   \n",
       "29286        0.000304          0.485455        0.608307          0.702361   \n",
       "29287        0.000782          1.839250        2.345472          2.278569   \n",
       "29288        0.003812          2.465509        2.247225          2.456899   \n",
       "29289        0.000012          3.056008        2.930118          2.547881   \n",
       "\n",
       "       ...  cor_rot_best_y_time_2  cor_rot_best_x_y_time_1  \\\n",
       "0      ...               0.996696                 0.995875   \n",
       "1      ...              -0.055780                 0.990359   \n",
       "2      ...               0.993640                 0.998028   \n",
       "3      ...               0.951222                 0.873405   \n",
       "4      ...               0.995797                 0.606894   \n",
       "...    ...                    ...                      ...   \n",
       "29285  ...               0.173630                 0.660687   \n",
       "29286  ...              -0.988784                 0.797403   \n",
       "29287  ...               0.999502                 0.872500   \n",
       "29288  ...               0.048461                 0.936742   \n",
       "29289  ...              -0.396346                 0.976780   \n",
       "\n",
       "       cor_rot_best_x_y_time_1_2  cor_rot_best_x_y_time_2  ratio_pass_forward  \\\n",
       "0                       0.996003                 0.998342            1.003735   \n",
       "1                       0.960059                 0.470127            0.535486   \n",
       "2                       0.997735                 0.994476            0.285235   \n",
       "3                       0.400166                -0.012135            1.104717   \n",
       "4                       0.829990                 0.997751            0.897810   \n",
       "...                          ...                      ...                 ...   \n",
       "29285                   0.590865                 0.227307            2.130586   \n",
       "29286                   0.547650                -0.003473            0.314022   \n",
       "29287                   0.830232                 0.100635            1.776552   \n",
       "29288                   0.931413                 0.466722            5.204992   \n",
       "29289                   0.962982                 0.285612            0.255447   \n",
       "\n",
       "       cb_off_dir_diff_pass_forward  \\\n",
       "0                              0.69   \n",
       "1                             20.40   \n",
       "2                             14.63   \n",
       "3                            129.71   \n",
       "4                              9.97   \n",
       "...                             ...   \n",
       "29285                         83.91   \n",
       "29286                        145.89   \n",
       "29287                         67.15   \n",
       "29288                         29.27   \n",
       "29289                          5.87   \n",
       "\n",
       "       off_dir_diff_between_ball_snap_and_pass_forward  cor_dist_inter  \\\n",
       "0                                                10.00        0.137406   \n",
       "1                                                11.75        0.160586   \n",
       "2                                                 8.41        0.140470   \n",
       "3                                                 9.22        0.020812   \n",
       "4                                                64.66        0.274418   \n",
       "...                                                ...             ...   \n",
       "29285                                            34.85        0.077566   \n",
       "29286                                            95.93        0.044237   \n",
       "29287                                            49.12        0.113849   \n",
       "29288                                            22.86        0.114357   \n",
       "29289                                            32.83        0.148564   \n",
       "\n",
       "       zone_probability  zone_flag  \n",
       "0              0.000000          0  \n",
       "1              1.000000          1  \n",
       "2              0.000000          0  \n",
       "3              1.000000          1  \n",
       "4              0.997077          1  \n",
       "...                 ...        ...  \n",
       "29285          1.000000          1  \n",
       "29286          1.000000          1  \n",
       "29287          1.000000          1  \n",
       "29288          1.000000          1  \n",
       "29289          1.000000          1  \n",
       "\n",
       "[114763 rows x 48 columns]"
      ]
     },
     "execution_count": 71,
     "metadata": {},
     "output_type": "execute_result"
    }
   ],
   "source": [
    "pass_attempt_df"
   ]
  },
  {
   "cell_type": "code",
   "execution_count": 50,
   "metadata": {},
   "outputs": [
    {
     "data": {
      "text/plain": [
       "(45000, 40)"
      ]
     },
     "execution_count": 50,
     "metadata": {},
     "output_type": "execute_result"
    }
   ],
   "source": [
    "# sampling 45,000 plays to be within CPU limit\n",
    "X_train = pass_attempt_df.sample(n = 45000) \\\n",
    "                         .drop(['week', 'gameId','playId','nflId','displayName','position'], axis = 1)\n",
    "X_train.shape"
   ]
  },
  {
   "cell_type": "code",
   "execution_count": 51,
   "metadata": {},
   "outputs": [
    {
     "data": {
      "text/plain": [
       "(114763, 40)"
      ]
     },
     "execution_count": 51,
     "metadata": {},
     "output_type": "execute_result"
    }
   ],
   "source": [
    "# all plays to score\n",
    "X_score = pass_attempt_df.drop(['week', 'gameId','playId','nflId','displayName','position'], axis = 1)\n",
    "X_score.shape"
   ]
  },
  {
   "cell_type": "code",
   "execution_count": 52,
   "metadata": {},
   "outputs": [
    {
     "name": "stdout",
     "output_type": "stream",
     "text": [
      "(40000, 40)\n",
      "(40000, 40)\n",
      "(34763, 40)\n"
     ]
    }
   ],
   "source": [
    "X_score1 = X_score[0:40000]\n",
    "X_score2 = X_score[40000:80000]\n",
    "X_score3 = X_score[80000:]\n",
    "print(X_score1.shape)\n",
    "print(X_score2.shape)\n",
    "print(X_score3.shape)"
   ]
  },
  {
   "cell_type": "code",
   "execution_count": 58,
   "metadata": {
    "collapsed": true
   },
   "outputs": [],
   "source": [
    "# train\n",
    "clf_train = mixture.GaussianMixture(n_components=2, covariance_type='full')\n",
    "f_train = clf_train.fit(X_train)"
   ]
  },
  {
   "cell_type": "code",
   "execution_count": 59,
   "metadata": {},
   "outputs": [
    {
     "data": {
      "text/plain": [
       "{'cb_off_dir_diff_pass_forward': (12.54397548639356, 49.66263673780213),\n",
       " 'cor_dist_inter': (0.31162630433638255, 0.10173605398281016),\n",
       " 'cor_rot_best_x_time_1': (0.95795390083033, 0.6779608215810529),\n",
       " 'cor_rot_best_x_time_1_2': (0.9695802938532814, 0.7157050410706983),\n",
       " 'cor_rot_best_x_time_2': (0.9948013790248507, 0.6428415760184064),\n",
       " 'cor_rot_best_x_y_time_1': (0.9556165627857232, 0.6721778306267513),\n",
       " 'cor_rot_best_x_y_time_1_2': (0.9690604858668408, 0.7060409409625373),\n",
       " 'cor_rot_best_x_y_time_2': (0.9948496148828737, 0.6223519156264861),\n",
       " 'cor_rot_best_y_time_1': (0.9532792247411168, 0.6663948396724487),\n",
       " 'cor_rot_best_y_time_1_2': (0.968540677880401, 0.6963768408543772),\n",
       " 'cor_rot_best_y_time_2': (0.9948978507408971, 0.6018622552345654),\n",
       " 'off_dir_diff_between_ball_snap_and_pass_forward': (19.673297518642975,\n",
       "  50.913285273139635),\n",
       " 'off_dir_mean_time_0_1': (44.54732464364354, 64.17101350757547),\n",
       " 'off_dir_mean_time_1': (28.688205876980426, 55.59048213267844),\n",
       " 'off_dir_mean_time_1_2': (24.67919249987725, 55.02339513557379),\n",
       " 'off_dir_mean_time_2': (13.50059406206579, 54.6852320906178),\n",
       " 'off_dir_var_time_1': (966.2749222770283, 1293.125048689101),\n",
       " 'off_dir_var_time_1_2': (836.9038205435231, 1523.5935699293261),\n",
       " 'off_dir_var_time_2': (54.76514146935399, 663.3073007405103),\n",
       " 'off_mean_time_0': (5.780776458868213, 9.857381783036828),\n",
       " 'off_mean_time_0_1': (4.714815712051299, 8.8962705640916),\n",
       " 'off_mean_time_1': (4.337961610975664, 8.566191060402724),\n",
       " 'off_mean_time_1_2': (3.9116556001247176, 8.144904660740902),\n",
       " 'off_mean_time_2': (2.714433403982719, 7.057953663550337),\n",
       " 'off_var_time_0': (0.039524235274856025, 0.04597754266224235),\n",
       " 'off_var_time_0_1': (2.2304875483524187, 3.645245055271008),\n",
       " 'off_var_time_1': (2.1109448913576188, 3.542256297392433),\n",
       " 'off_var_time_1_2': (2.7513246501235242, 5.800122848336528),\n",
       " 'off_var_time_2': (0.1879590287277386, 1.1437338310812522),\n",
       " 'rat_75th_quartile_time_0': (1.0125539126058294, 2.4672597778622714),\n",
       " 'rat_75th_quartile_time_0_1': (1.0927485357062658, 3.5772021797080114),\n",
       " 'rat_75th_quartile_time_1': (1.1119439991875957, 3.987765669474854),\n",
       " 'rat_75th_quartile_time_1_2': (1.0345225581693618, 4.132265256359886),\n",
       " 'rat_75th_quartile_time_2': (0.5180750958429499, 3.8183639918429937),\n",
       " 'rat_min_time_0': (0.9952340173649947, 2.4128926624493148),\n",
       " 'rat_min_time_0_1': (0.8992542244423, 2.948397559864319),\n",
       " 'rat_min_time_1': (0.8662964420975463, 3.152161301251997),\n",
       " 'rat_min_time_1_2': (0.7635897538418096, 3.182882212011835),\n",
       " 'rat_min_time_2': (0.4611168650633391, 3.2301197522416953),\n",
       " 'ratio_pass_forward': (0.4821523521624559, 3.331734871723986)}"
      ]
     },
     "execution_count": 59,
     "metadata": {},
     "output_type": "execute_result"
    }
   ],
   "source": [
    "get_cluster_means(X_train, f_train)"
   ]
  },
  {
   "cell_type": "code",
   "execution_count": 60,
   "metadata": {
    "collapsed": true
   },
   "outputs": [],
   "source": [
    "full_probs1 = [1 - x[0] for x in f_train.predict_proba(X_score1)]\n",
    "full_classes1 = [0 if x == 0 else 1 for x in f_train.predict(X_score1)]\n",
    "\n",
    "full_probs2 = [1 - x[0] for x in f_train.predict_proba(X_score2)]\n",
    "full_classes2 = [0 if x == 0 else 1 for x in f_train.predict(X_score2)]\n",
    "\n",
    "full_probs3 = [1 - x[0] for x in f_train.predict_proba(X_score3)]\n",
    "full_classes3 = [0 if x == 0 else 1 for x in f_train.predict(X_score3)]"
   ]
  },
  {
   "cell_type": "code",
   "execution_count": 61,
   "metadata": {
    "collapsed": true
   },
   "outputs": [],
   "source": [
    "full_probs = np.append(np.append(full_probs1, full_probs2), full_probs3)\n",
    "full_classes = np.append(np.append(full_classes1, full_classes2), full_classes3)"
   ]
  },
  {
   "cell_type": "code",
   "execution_count": 62,
   "metadata": {},
   "outputs": [
    {
     "data": {
      "image/png": "[encoded data removed]",
      "text/plain": [
       "<matplotlib.figure.Figure at 0x12902a5f8>"
      ]
     },
     "metadata": {},
     "output_type": "display_data"
    }
   ],
   "source": [
    "plt.pyplot.hist(full_probs, bins = 50)\n",
    "plt.pyplot.xlabel('Probability of Zone Coverage')\n",
    "plt.pyplot.ylabel('Density')\n",
    "plt.pyplot.show()"
   ]
  },
  {
   "cell_type": "code",
   "execution_count": 63,
   "metadata": {
    "collapsed": true
   },
   "outputs": [],
   "source": [
    "pass_attempt_df[\"zone_probability\"] = full_probs\n",
    "pass_attempt_df[\"zone_flag\"] = full_classes"
   ]
  },
  {
   "cell_type": "markdown",
   "metadata": {},
   "source": [
    "### Saving Results"
   ]
  },
  {
   "cell_type": "code",
   "execution_count": 64,
   "metadata": {
    "collapsed": true
   },
   "outputs": [],
   "source": [
    "pass_attempt_df_final = pass_attempt_df[['week', 'gameId','playId','nflId','displayName','position'] + \\\n",
    "                                     list(pass_attempt_df.columns[[x.startswith('zone') for x in pass_attempt_df.columns]])].sort_values(['gameId', 'playId', 'position'])"
   ]
  },
  {
   "cell_type": "code",
   "execution_count": 65,
   "metadata": {},
   "outputs": [
    {
     "data": {
      "text/html": [
       "<div>\n",
       "<style scoped>\n",
       "    .dataframe tbody tr th:only-of-type {\n",
       "        vertical-align: middle;\n",
       "    }\n",
       "\n",
       "    .dataframe tbody tr th {\n",
       "        vertical-align: top;\n",
       "    }\n",
       "\n",
       "    .dataframe thead th {\n",
       "        text-align: right;\n",
       "    }\n",
       "</style>\n",
       "<table border=\"1\" class=\"dataframe\">\n",
       "  <thead>\n",
       "    <tr style=\"text-align: right;\">\n",
       "      <th></th>\n",
       "      <th>week</th>\n",
       "      <th>gameId</th>\n",
       "      <th>playId</th>\n",
       "      <th>nflId</th>\n",
       "      <th>displayName</th>\n",
       "      <th>position</th>\n",
       "      <th>zone_probability</th>\n",
       "      <th>zone_flag</th>\n",
       "    </tr>\n",
       "  </thead>\n",
       "  <tbody>\n",
       "    <tr>\n",
       "      <th>0</th>\n",
       "      <td>1</td>\n",
       "      <td>2018090600</td>\n",
       "      <td>75</td>\n",
       "      <td>2552689</td>\n",
       "      <td>Ronald Darby</td>\n",
       "      <td>CB</td>\n",
       "      <td>0.0</td>\n",
       "      <td>0</td>\n",
       "    </tr>\n",
       "    <tr>\n",
       "      <th>1</th>\n",
       "      <td>1</td>\n",
       "      <td>2018090600</td>\n",
       "      <td>75</td>\n",
       "      <td>2555383</td>\n",
       "      <td>Jalen Mills</td>\n",
       "      <td>CB</td>\n",
       "      <td>1.0</td>\n",
       "      <td>1</td>\n",
       "    </tr>\n",
       "    <tr>\n",
       "      <th>1</th>\n",
       "      <td>1</td>\n",
       "      <td>2018090600</td>\n",
       "      <td>75</td>\n",
       "      <td>2495613</td>\n",
       "      <td>Corey Graham</td>\n",
       "      <td>FS</td>\n",
       "      <td>1.0</td>\n",
       "      <td>1</td>\n",
       "    </tr>\n",
       "    <tr>\n",
       "      <th>2</th>\n",
       "      <td>1</td>\n",
       "      <td>2018090600</td>\n",
       "      <td>75</td>\n",
       "      <td>2534832</td>\n",
       "      <td>Rodney McLeod</td>\n",
       "      <td>FS</td>\n",
       "      <td>1.0</td>\n",
       "      <td>1</td>\n",
       "    </tr>\n",
       "    <tr>\n",
       "      <th>1</th>\n",
       "      <td>1</td>\n",
       "      <td>2018090600</td>\n",
       "      <td>75</td>\n",
       "      <td>2558175</td>\n",
       "      <td>Nate Gerry</td>\n",
       "      <td>LB</td>\n",
       "      <td>1.0</td>\n",
       "      <td>1</td>\n",
       "    </tr>\n",
       "    <tr>\n",
       "      <th>...</th>\n",
       "      <td>...</td>\n",
       "      <td>...</td>\n",
       "      <td>...</td>\n",
       "      <td>...</td>\n",
       "      <td>...</td>\n",
       "      <td>...</td>\n",
       "      <td>...</td>\n",
       "      <td>...</td>\n",
       "    </tr>\n",
       "    <tr>\n",
       "      <th>52976</th>\n",
       "      <td>17</td>\n",
       "      <td>2018123015</td>\n",
       "      <td>4104</td>\n",
       "      <td>2540170</td>\n",
       "      <td>David Amerson</td>\n",
       "      <td>CB</td>\n",
       "      <td>1.0</td>\n",
       "      <td>1</td>\n",
       "    </tr>\n",
       "    <tr>\n",
       "      <th>32494</th>\n",
       "      <td>17</td>\n",
       "      <td>2018123015</td>\n",
       "      <td>4104</td>\n",
       "      <td>2495807</td>\n",
       "      <td>Antoine Bethea</td>\n",
       "      <td>FS</td>\n",
       "      <td>1.0</td>\n",
       "      <td>1</td>\n",
       "    </tr>\n",
       "    <tr>\n",
       "      <th>32495</th>\n",
       "      <td>17</td>\n",
       "      <td>2018123015</td>\n",
       "      <td>4104</td>\n",
       "      <td>2543830</td>\n",
       "      <td>Tre Boston</td>\n",
       "      <td>FS</td>\n",
       "      <td>1.0</td>\n",
       "      <td>1</td>\n",
       "    </tr>\n",
       "    <tr>\n",
       "      <th>29288</th>\n",
       "      <td>17</td>\n",
       "      <td>2018123015</td>\n",
       "      <td>4104</td>\n",
       "      <td>2543769</td>\n",
       "      <td>Deone Bucannon</td>\n",
       "      <td>ILB</td>\n",
       "      <td>1.0</td>\n",
       "      <td>1</td>\n",
       "    </tr>\n",
       "    <tr>\n",
       "      <th>29289</th>\n",
       "      <td>17</td>\n",
       "      <td>2018123015</td>\n",
       "      <td>4104</td>\n",
       "      <td>2557887</td>\n",
       "      <td>Haason Reddick</td>\n",
       "      <td>ILB</td>\n",
       "      <td>1.0</td>\n",
       "      <td>1</td>\n",
       "    </tr>\n",
       "  </tbody>\n",
       "</table>\n",
       "<p>114763 rows × 8 columns</p>\n",
       "</div>"
      ],
      "text/plain": [
       "       week      gameId  playId    nflId     displayName position  \\\n",
       "0         1  2018090600      75  2552689    Ronald Darby       CB   \n",
       "1         1  2018090600      75  2555383     Jalen Mills       CB   \n",
       "1         1  2018090600      75  2495613    Corey Graham       FS   \n",
       "2         1  2018090600      75  2534832   Rodney McLeod       FS   \n",
       "1         1  2018090600      75  2558175      Nate Gerry       LB   \n",
       "...     ...         ...     ...      ...             ...      ...   \n",
       "52976    17  2018123015    4104  2540170   David Amerson       CB   \n",
       "32494    17  2018123015    4104  2495807  Antoine Bethea       FS   \n",
       "32495    17  2018123015    4104  2543830      Tre Boston       FS   \n",
       "29288    17  2018123015    4104  2543769  Deone Bucannon      ILB   \n",
       "29289    17  2018123015    4104  2557887  Haason Reddick      ILB   \n",
       "\n",
       "       zone_probability  zone_flag  \n",
       "0                   0.0          0  \n",
       "1                   1.0          1  \n",
       "1                   1.0          1  \n",
       "2                   1.0          1  \n",
       "1                   1.0          1  \n",
       "...                 ...        ...  \n",
       "52976               1.0          1  \n",
       "32494               1.0          1  \n",
       "32495               1.0          1  \n",
       "29288               1.0          1  \n",
       "29289               1.0          1  \n",
       "\n",
       "[114763 rows x 8 columns]"
      ]
     },
     "execution_count": 65,
     "metadata": {},
     "output_type": "execute_result"
    }
   ],
   "source": [
    "pass_attempt_df_final"
   ]
  },
  {
   "cell_type": "code",
   "execution_count": 70,
   "metadata": {
    "collapsed": true
   },
   "outputs": [],
   "source": [
    "pass_attempt_df_final.to_csv(\"~/Desktop/CoverageNet/src/01_identify_man_coverage/outputs/all_positions_pass_attempts_man_zone_classes.csv\", \n",
    "                             index = False)"
   ]
  },
  {
   "cell_type": "code",
   "execution_count": 147,
   "metadata": {},
   "outputs": [
    {
     "data": {
      "text/html": [
       "<div>\n",
       "<style scoped>\n",
       "    .dataframe tbody tr th:only-of-type {\n",
       "        vertical-align: middle;\n",
       "    }\n",
       "\n",
       "    .dataframe tbody tr th {\n",
       "        vertical-align: top;\n",
       "    }\n",
       "\n",
       "    .dataframe thead th {\n",
       "        text-align: right;\n",
       "    }\n",
       "</style>\n",
       "<table border=\"1\" class=\"dataframe\">\n",
       "  <thead>\n",
       "    <tr style=\"text-align: right;\">\n",
       "      <th></th>\n",
       "      <th>week</th>\n",
       "      <th>gameId</th>\n",
       "      <th>playId</th>\n",
       "      <th>nflId</th>\n",
       "      <th>displayName</th>\n",
       "      <th>position</th>\n",
       "      <th>off_var_time_0</th>\n",
       "      <th>off_var_time_0_1</th>\n",
       "      <th>off_var_time_1</th>\n",
       "      <th>off_var_time_1_2</th>\n",
       "      <th>...</th>\n",
       "      <th>cor_rot_best_y_time_2</th>\n",
       "      <th>cor_rot_best_x_y_time_1</th>\n",
       "      <th>cor_rot_best_x_y_time_1_2</th>\n",
       "      <th>cor_rot_best_x_y_time_2</th>\n",
       "      <th>ratio_pass_forward</th>\n",
       "      <th>cb_off_dir_diff_pass_forward</th>\n",
       "      <th>off_dir_diff_between_ball_snap_and_pass_forward</th>\n",
       "      <th>cor_dist_inter</th>\n",
       "      <th>zone_probability</th>\n",
       "      <th>zone_flag</th>\n",
       "    </tr>\n",
       "  </thead>\n",
       "  <tbody>\n",
       "  </tbody>\n",
       "</table>\n",
       "<p>0 rows × 48 columns</p>\n",
       "</div>"
      ],
      "text/plain": [
       "Empty DataFrame\n",
       "Columns: [week, gameId, playId, nflId, displayName, position, off_var_time_0, off_var_time_0_1, off_var_time_1, off_var_time_1_2, off_var_time_2, off_mean_time_0, off_mean_time_0_1, off_mean_time_1, off_mean_time_1_2, off_mean_time_2, off_dir_var_time_1, off_dir_var_time_1_2, off_dir_var_time_2, off_dir_mean_time_0_1, off_dir_mean_time_1, off_dir_mean_time_1_2, off_dir_mean_time_2, rat_min_time_0, rat_min_time_0_1, rat_min_time_1, rat_min_time_1_2, rat_min_time_2, rat_75th_quartile_time_0, rat_75th_quartile_time_0_1, rat_75th_quartile_time_1, rat_75th_quartile_time_1_2, rat_75th_quartile_time_2, cor_rot_best_x_time_1, cor_rot_best_x_time_1_2, cor_rot_best_x_time_2, cor_rot_best_y_time_1, cor_rot_best_y_time_1_2, cor_rot_best_y_time_2, cor_rot_best_x_y_time_1, cor_rot_best_x_y_time_1_2, cor_rot_best_x_y_time_2, ratio_pass_forward, cb_off_dir_diff_pass_forward, off_dir_diff_between_ball_snap_and_pass_forward, cor_dist_inter, zone_probability, zone_flag]\n",
       "Index: []\n",
       "\n",
       "[0 rows x 48 columns]"
      ]
     },
     "execution_count": 147,
     "metadata": {},
     "output_type": "execute_result"
    }
   ],
   "source": [
    "pass_attempt_df[(pass_attempt_df[\"gameId\"] == 2018090901) & (pass_attempt_df[\"playId\"] == 1021)]"
   ]
  },
  {
   "cell_type": "code",
   "execution_count": 127,
   "metadata": {},
   "outputs": [
    {
     "data": {
      "text/html": [
       "<div>\n",
       "<style scoped>\n",
       "    .dataframe tbody tr th:only-of-type {\n",
       "        vertical-align: middle;\n",
       "    }\n",
       "\n",
       "    .dataframe tbody tr th {\n",
       "        vertical-align: top;\n",
       "    }\n",
       "\n",
       "    .dataframe thead th {\n",
       "        text-align: right;\n",
       "    }\n",
       "</style>\n",
       "<table border=\"1\" class=\"dataframe\">\n",
       "  <thead>\n",
       "    <tr style=\"text-align: right;\">\n",
       "      <th></th>\n",
       "      <th>displayName</th>\n",
       "      <th>rat_min_time_0</th>\n",
       "      <th>rat_min_time_0_1</th>\n",
       "      <th>rat_min_time_1</th>\n",
       "      <th>rat_min_time_1_2</th>\n",
       "      <th>rat_min_time_2</th>\n",
       "      <th>rat_75th_quartile_time_0</th>\n",
       "      <th>rat_75th_quartile_time_0_1</th>\n",
       "      <th>rat_75th_quartile_time_1</th>\n",
       "      <th>rat_75th_quartile_time_1_2</th>\n",
       "      <th>rat_75th_quartile_time_2</th>\n",
       "      <th>ratio_pass_forward</th>\n",
       "    </tr>\n",
       "  </thead>\n",
       "  <tbody>\n",
       "    <tr>\n",
       "      <th>70</th>\n",
       "      <td>Desmond Trufant</td>\n",
       "      <td>0.166268</td>\n",
       "      <td>0.138382</td>\n",
       "      <td>0.132044</td>\n",
       "      <td>0.140116</td>\n",
       "      <td>0.172403</td>\n",
       "      <td>0.166231</td>\n",
       "      <td>0.167483</td>\n",
       "      <td>0.171605</td>\n",
       "      <td>0.181844</td>\n",
       "      <td>0.192607</td>\n",
       "      <td>0.153413</td>\n",
       "    </tr>\n",
       "    <tr>\n",
       "      <th>71</th>\n",
       "      <td>Robert Alford</td>\n",
       "      <td>0.203123</td>\n",
       "      <td>0.145923</td>\n",
       "      <td>0.132924</td>\n",
       "      <td>0.124743</td>\n",
       "      <td>0.092021</td>\n",
       "      <td>0.203330</td>\n",
       "      <td>0.202051</td>\n",
       "      <td>0.187880</td>\n",
       "      <td>0.178622</td>\n",
       "      <td>0.096294</td>\n",
       "      <td>0.082912</td>\n",
       "    </tr>\n",
       "    <tr>\n",
       "      <th>72</th>\n",
       "      <td>Brian Poole</td>\n",
       "      <td>0.231242</td>\n",
       "      <td>0.176676</td>\n",
       "      <td>0.164275</td>\n",
       "      <td>0.248944</td>\n",
       "      <td>0.587619</td>\n",
       "      <td>0.231958</td>\n",
       "      <td>0.229764</td>\n",
       "      <td>0.191787</td>\n",
       "      <td>0.298457</td>\n",
       "      <td>0.623846</td>\n",
       "      <td>0.524460</td>\n",
       "    </tr>\n",
       "    <tr>\n",
       "      <th>62</th>\n",
       "      <td>Ricardo Allen</td>\n",
       "      <td>3.713660</td>\n",
       "      <td>10.689326</td>\n",
       "      <td>12.274705</td>\n",
       "      <td>13.733480</td>\n",
       "      <td>19.568582</td>\n",
       "      <td>4.039891</td>\n",
       "      <td>14.420835</td>\n",
       "      <td>15.458044</td>\n",
       "      <td>17.944510</td>\n",
       "      <td>21.280024</td>\n",
       "      <td>21.001797</td>\n",
       "    </tr>\n",
       "    <tr>\n",
       "      <th>63</th>\n",
       "      <td>Keanu Neal</td>\n",
       "      <td>7.522530</td>\n",
       "      <td>11.127494</td>\n",
       "      <td>11.946804</td>\n",
       "      <td>11.466229</td>\n",
       "      <td>9.543929</td>\n",
       "      <td>7.577668</td>\n",
       "      <td>13.806092</td>\n",
       "      <td>13.956591</td>\n",
       "      <td>14.237310</td>\n",
       "      <td>16.738749</td>\n",
       "      <td>5.103168</td>\n",
       "    </tr>\n",
       "    <tr>\n",
       "      <th>48</th>\n",
       "      <td>De'Vondre Campbell</td>\n",
       "      <td>1.966596</td>\n",
       "      <td>1.002927</td>\n",
       "      <td>0.783911</td>\n",
       "      <td>0.681770</td>\n",
       "      <td>0.273206</td>\n",
       "      <td>2.020681</td>\n",
       "      <td>1.895277</td>\n",
       "      <td>0.856387</td>\n",
       "      <td>0.401904</td>\n",
       "      <td>0.311404</td>\n",
       "      <td>0.192837</td>\n",
       "    </tr>\n",
       "  </tbody>\n",
       "</table>\n",
       "</div>"
      ],
      "text/plain": [
       "           displayName  rat_min_time_0  rat_min_time_0_1  rat_min_time_1  \\\n",
       "70     Desmond Trufant        0.166268          0.138382        0.132044   \n",
       "71       Robert Alford        0.203123          0.145923        0.132924   \n",
       "72         Brian Poole        0.231242          0.176676        0.164275   \n",
       "62       Ricardo Allen        3.713660         10.689326       12.274705   \n",
       "63          Keanu Neal        7.522530         11.127494       11.946804   \n",
       "48  De'Vondre Campbell        1.966596          1.002927        0.783911   \n",
       "\n",
       "    rat_min_time_1_2  rat_min_time_2  rat_75th_quartile_time_0  \\\n",
       "70          0.140116        0.172403                  0.166231   \n",
       "71          0.124743        0.092021                  0.203330   \n",
       "72          0.248944        0.587619                  0.231958   \n",
       "62         13.733480       19.568582                  4.039891   \n",
       "63         11.466229        9.543929                  7.577668   \n",
       "48          0.681770        0.273206                  2.020681   \n",
       "\n",
       "    rat_75th_quartile_time_0_1  rat_75th_quartile_time_1  \\\n",
       "70                    0.167483                  0.171605   \n",
       "71                    0.202051                  0.187880   \n",
       "72                    0.229764                  0.191787   \n",
       "62                   14.420835                 15.458044   \n",
       "63                   13.806092                 13.956591   \n",
       "48                    1.895277                  0.856387   \n",
       "\n",
       "    rat_75th_quartile_time_1_2  rat_75th_quartile_time_2  ratio_pass_forward  \n",
       "70                    0.181844                  0.192607            0.153413  \n",
       "71                    0.178622                  0.096294            0.082912  \n",
       "72                    0.298457                  0.623846            0.524460  \n",
       "62                   17.944510                 21.280024           21.001797  \n",
       "63                   14.237310                 16.738749            5.103168  \n",
       "48                    0.401904                  0.311404            0.192837  "
      ]
     },
     "execution_count": 127,
     "metadata": {},
     "output_type": "execute_result"
    }
   ],
   "source": [
    "pass_attempt_df[(pass_attempt_df[\"gameId\"] == 2018090600) & (pass_attempt_df[\"playId\"] == 1715)][[\"displayName\"] + \\\n",
    "                            list(pass_attempt_df.columns[['rat' in x for x in pass_attempt_df.columns]])]"
   ]
  },
  {
   "cell_type": "markdown",
   "metadata": {},
   "source": [
    "# Repeating for Sack Plays!"
   ]
  },
  {
   "cell_type": "code",
   "execution_count": 98,
   "metadata": {
    "collapsed": true
   },
   "outputs": [],
   "source": [
    "filter_col = [col for col in sacks_df if not '_o_' in col]\n",
    "sacks_df = sacks_df[filter_col]"
   ]
  },
  {
   "cell_type": "code",
   "execution_count": 99,
   "metadata": {
    "collapsed": true
   },
   "outputs": [],
   "source": [
    "filter_col = [col for col in sacks_df if not 'facing' in col]\n",
    "sacks_df = sacks_df[filter_col]"
   ]
  },
  {
   "cell_type": "code",
   "execution_count": 100,
   "metadata": {
    "collapsed": true
   },
   "outputs": [],
   "source": [
    "filter_col = [col for col in sacks_df if not 'var_y' in col]\n",
    "sacks_df = sacks_df[filter_col]"
   ]
  },
  {
   "cell_type": "code",
   "execution_count": 101,
   "metadata": {
    "collapsed": true
   },
   "outputs": [],
   "source": [
    "filter_col = [col for col in sacks_df if not 'var_x' in col]\n",
    "sacks_df = sacks_df[filter_col]"
   ]
  },
  {
   "cell_type": "code",
   "execution_count": 102,
   "metadata": {
    "collapsed": true
   },
   "outputs": [],
   "source": [
    "filter_col = [col for col in sacks_df if not 'def_mean_time_0' in col]\n",
    "sacks_df = sacks_df[filter_col]"
   ]
  },
  {
   "cell_type": "code",
   "execution_count": 103,
   "metadata": {
    "collapsed": true
   },
   "outputs": [],
   "source": [
    "filter_col = [col for col in sacks_df if not 'def' in col]\n",
    "sacks_df = sacks_df[filter_col]"
   ]
  },
  {
   "cell_type": "code",
   "execution_count": 104,
   "metadata": {
    "collapsed": true
   },
   "outputs": [],
   "source": [
    "filter_col = [col for col in sacks_df if not 'def_var_time_0' in col]\n",
    "sacks_df = sacks_df[filter_col]"
   ]
  },
  {
   "cell_type": "code",
   "execution_count": 105,
   "metadata": {},
   "outputs": [
    {
     "data": {
      "text/plain": [
       "Index(['week', 'gameId', 'playId', 'nflId', 'displayName', 'position',\n",
       "       'speed_var_time_0', 'speed_var_time_0_1', 'speed_var_time_1',\n",
       "       'speed_mean_time_0', 'speed_mean_time_0_1', 'speed_mean_time_1',\n",
       "       'off_var_time_0', 'off_var_time_0_1', 'off_var_time_1',\n",
       "       'off_mean_time_0', 'off_mean_time_0_1', 'off_mean_time_1',\n",
       "       'off_dir_var_time_0', 'off_dir_var_time_0_1', 'off_dir_var_time_1',\n",
       "       'off_dir_mean_time_0', 'off_dir_mean_time_0_1', 'off_dir_mean_time_1',\n",
       "       'rat_mean_time_0', 'rat_mean_time_0_1', 'rat_mean_time_1',\n",
       "       'rat_min_time_0', 'rat_min_time_0_1', 'rat_min_time_1',\n",
       "       'rat_25th_quartile_time_0', 'rat_25th_quartile_time_0_1',\n",
       "       'rat_25th_quartile_time_1', 'rat_50th_quartile_time_0',\n",
       "       'rat_50th_quartile_time_0_1', 'rat_50th_quartile_time_1',\n",
       "       'rat_75th_quartile_time_0', 'rat_75th_quartile_time_0_1',\n",
       "       'rat_75th_quartile_time_1', 'rat_var_time_0', 'rat_var_time_0_1',\n",
       "       'rat_var_time_1', 'cor_x_time_0', 'cor_x_time_0_1', 'cor_x_time_1',\n",
       "       'cor_y_time_0', 'cor_y_time_0_1', 'cor_y_time_1', 'cor_s_time_0',\n",
       "       'cor_s_time_0_1', 'cor_s_time_1', 'cor_avg_x_y_time_0',\n",
       "       'cor_avg_x_y_time_0_1', 'cor_avg_x_y_time_1', 'cor_rot_best_x_time_0',\n",
       "       'cor_rot_best_x_time_0_1', 'cor_rot_best_x_time_1',\n",
       "       'cor_rot_best_y_time_0', 'cor_rot_best_y_time_0_1',\n",
       "       'cor_rot_best_y_time_1', 'cor_rot_best_x_y_time_0',\n",
       "       'cor_rot_best_x_y_time_0_1', 'cor_rot_best_x_y_time_1',\n",
       "       'ratio_ball_snap', 'ratio_qb_sack', 'cb_off_dir_diff_ball_snap',\n",
       "       'cb_off_dir_diff_qb_sack', 'cb_off_dist_ball_snap',\n",
       "       'cb_off_dist_qb_sack', 'best_cor_x_time_0', 'best_cor_x_time_0_1',\n",
       "       'best_cor_x_time_1', 'best_cor_y_time_0', 'best_cor_y_time_0_1',\n",
       "       'best_cor_y_time_1', 'best_cor_x_y_avg_time_0',\n",
       "       'best_cor_x_y_avg_time_0_1', 'best_cor_x_y_avg_time_1'],\n",
       "      dtype='object')"
      ]
     },
     "execution_count": 105,
     "metadata": {},
     "output_type": "execute_result"
    }
   ],
   "source": [
    "sacks_df.columns"
   ]
  },
  {
   "cell_type": "code",
   "execution_count": 106,
   "metadata": {
    "collapsed": true
   },
   "outputs": [],
   "source": [
    "filter_col = [col for col in sacks_df if not (('cor' in col) and ('best' not in col) and ('s' not in col))]\n",
    "sacks_df = sacks_df[filter_col]"
   ]
  },
  {
   "cell_type": "code",
   "execution_count": 107,
   "metadata": {
    "collapsed": true
   },
   "outputs": [],
   "source": [
    "# filter_col = [col for col in pass_attempt_df if not (('cor_rot' in col))]\n",
    "# pass_attempt_df = pass_attempt_df[filter_col]"
   ]
  },
  {
   "cell_type": "code",
   "execution_count": 108,
   "metadata": {
    "collapsed": true
   },
   "outputs": [],
   "source": [
    "filter_col = [col for col in sacks_df if not (('cor' in col) and ('cor_rot_best' not in col) and ('s' not in col))]\n",
    "sacks_df = sacks_df[filter_col]"
   ]
  },
  {
   "cell_type": "code",
   "execution_count": 109,
   "metadata": {
    "collapsed": true
   },
   "outputs": [],
   "source": [
    "filter_col = [col for col in sacks_df if not (('best_cor' in col))]\n",
    "# filter_col = [col for col in sacks_df if not (('cor' in col))]\n",
    "sacks_df = sacks_df[filter_col]"
   ]
  },
  {
   "cell_type": "code",
   "execution_count": 110,
   "metadata": {
    "collapsed": true
   },
   "outputs": [],
   "source": [
    "filter_col = [col for col in sacks_df if not (('cor' in col) and ('time_0' in col))]\n",
    "sacks_df = sacks_df[filter_col]"
   ]
  },
  {
   "cell_type": "code",
   "execution_count": 111,
   "metadata": {
    "collapsed": true
   },
   "outputs": [],
   "source": [
    "filter_col = [col for col in sacks_df if not (('cor' in col) and ('time_2' in col))]\n",
    "sacks_df = sacks_df[filter_col]"
   ]
  },
  {
   "cell_type": "code",
   "execution_count": 112,
   "metadata": {
    "collapsed": true
   },
   "outputs": [],
   "source": [
    "# filter_col = [col for col in pass_attempt_df if not (('cor' in col) and ('x_y' not in col))]\n",
    "# pass_attempt_df = pass_attempt_df[filter_col]"
   ]
  },
  {
   "cell_type": "code",
   "execution_count": 113,
   "metadata": {
    "collapsed": true
   },
   "outputs": [],
   "source": [
    "filter_col = [col for col in sacks_df if not 'off_dir_var_time_0' in col]\n",
    "sacks_df = sacks_df[filter_col]"
   ]
  },
  {
   "cell_type": "code",
   "execution_count": 114,
   "metadata": {
    "collapsed": true
   },
   "outputs": [],
   "source": [
    "filter_col = [col for col in sacks_df if not 'speed' in col]\n",
    "sacks_df = sacks_df[filter_col]"
   ]
  },
  {
   "cell_type": "code",
   "execution_count": 115,
   "metadata": {
    "collapsed": true
   },
   "outputs": [],
   "source": [
    "filter_col = [col for col in sacks_df if not 'cor_s' in col]\n",
    "sacks_df = sacks_df[filter_col]"
   ]
  },
  {
   "cell_type": "code",
   "execution_count": 116,
   "metadata": {
    "collapsed": true
   },
   "outputs": [],
   "source": [
    "sacks_df = sacks_df.drop(['cb_off_dir_diff_ball_snap', 'cb_off_dist_ball_snap',\n",
    "                                       'off_dir_mean_time_0'\n",
    "                                       ], axis = 1)"
   ]
  },
  {
   "cell_type": "code",
   "execution_count": 117,
   "metadata": {
    "collapsed": true
   },
   "outputs": [],
   "source": [
    "filter_col = [col for col in sacks_df if (not 'rat' in col)|('ratio_pass_forward' in col)|('rat_75' in col)|('rat_min' in col)]\n",
    "sacks_df = sacks_df[filter_col]"
   ]
  },
  {
   "cell_type": "code",
   "execution_count": 118,
   "metadata": {
    "collapsed": true
   },
   "outputs": [],
   "source": [
    "# filter_col = [col for col in pass_attempt_df if (not 'best' in col)]\n",
    "# pass_attempt_df = pass_attempt_df[filter_col]"
   ]
  },
  {
   "cell_type": "code",
   "execution_count": 119,
   "metadata": {},
   "outputs": [
    {
     "data": {
      "text/plain": [
       "Index(['week', 'gameId', 'playId', 'nflId', 'displayName', 'position',\n",
       "       'off_var_time_0', 'off_var_time_0_1', 'off_var_time_1',\n",
       "       'off_mean_time_0', 'off_mean_time_0_1', 'off_mean_time_1',\n",
       "       'off_dir_var_time_1', 'off_dir_mean_time_0_1', 'off_dir_mean_time_1',\n",
       "       'rat_min_time_0', 'rat_min_time_0_1', 'rat_min_time_1',\n",
       "       'rat_75th_quartile_time_0', 'rat_75th_quartile_time_0_1',\n",
       "       'rat_75th_quartile_time_1', 'cor_rot_best_x_time_1',\n",
       "       'cor_rot_best_y_time_1', 'cor_rot_best_x_y_time_1',\n",
       "       'cb_off_dir_diff_qb_sack', 'cb_off_dist_qb_sack'],\n",
       "      dtype='object')"
      ]
     },
     "execution_count": 119,
     "metadata": {},
     "output_type": "execute_result"
    }
   ],
   "source": [
    "sacks_df.columns"
   ]
  },
  {
   "cell_type": "code",
   "execution_count": 120,
   "metadata": {
    "collapsed": true
   },
   "outputs": [],
   "source": [
    "sacks_df[\"cor_dist_inter\"] = (sacks_df[\"cor_rot_best_x_y_time_1\"]**2)/sacks_df[\"off_mean_time_1\"]\n",
    "sacks_df[\"cor_dist_inter\"] = sacks_df[\"cor_dist_inter\"].fillna(0)\n",
    "sacks_df[\"cor_dist_inter\"] = sacks_df[\"cor_dist_inter\"].replace([np.inf], \\\n",
    "                np.percentile(np.array(sacks_df[\"cor_dist_inter\"]), 99))\n",
    "sacks_df[\"cor_dist_inter\"] = sacks_df[\"cor_dist_inter\"].replace([-np.inf], \\\n",
    "                np.percentile(np.array(sacks_df[\"cor_dist_inter\"]), 1))"
   ]
  },
  {
   "cell_type": "code",
   "execution_count": 121,
   "metadata": {},
   "outputs": [
    {
     "data": {
      "text/html": [
       "<div>\n",
       "<style scoped>\n",
       "    .dataframe tbody tr th:only-of-type {\n",
       "        vertical-align: middle;\n",
       "    }\n",
       "\n",
       "    .dataframe tbody tr th {\n",
       "        vertical-align: top;\n",
       "    }\n",
       "\n",
       "    .dataframe thead th {\n",
       "        text-align: right;\n",
       "    }\n",
       "</style>\n",
       "<table border=\"1\" class=\"dataframe\">\n",
       "  <thead>\n",
       "    <tr style=\"text-align: right;\">\n",
       "      <th></th>\n",
       "      <th>week</th>\n",
       "      <th>gameId</th>\n",
       "      <th>playId</th>\n",
       "      <th>nflId</th>\n",
       "      <th>displayName</th>\n",
       "      <th>position</th>\n",
       "      <th>off_var_time_0</th>\n",
       "      <th>off_var_time_0_1</th>\n",
       "      <th>off_var_time_1</th>\n",
       "      <th>off_mean_time_0</th>\n",
       "      <th>...</th>\n",
       "      <th>rat_min_time_1</th>\n",
       "      <th>rat_75th_quartile_time_0</th>\n",
       "      <th>rat_75th_quartile_time_0_1</th>\n",
       "      <th>rat_75th_quartile_time_1</th>\n",
       "      <th>cor_rot_best_x_time_1</th>\n",
       "      <th>cor_rot_best_y_time_1</th>\n",
       "      <th>cor_rot_best_x_y_time_1</th>\n",
       "      <th>cb_off_dir_diff_qb_sack</th>\n",
       "      <th>cb_off_dist_qb_sack</th>\n",
       "      <th>cor_dist_inter</th>\n",
       "    </tr>\n",
       "  </thead>\n",
       "  <tbody>\n",
       "    <tr>\n",
       "      <th>0</th>\n",
       "      <td>1</td>\n",
       "      <td>2018090600</td>\n",
       "      <td>776</td>\n",
       "      <td>2539334</td>\n",
       "      <td>Desmond Trufant</td>\n",
       "      <td>CB</td>\n",
       "      <td>0.000389</td>\n",
       "      <td>4.718561</td>\n",
       "      <td>5.473382</td>\n",
       "      <td>4.771215</td>\n",
       "      <td>...</td>\n",
       "      <td>1.051571</td>\n",
       "      <td>0.424492</td>\n",
       "      <td>0.741320</td>\n",
       "      <td>0.944268</td>\n",
       "      <td>0.981215</td>\n",
       "      <td>0.939940</td>\n",
       "      <td>0.960578</td>\n",
       "      <td>37.12</td>\n",
       "      <td>11.512224</td>\n",
       "      <td>0.145751</td>\n",
       "    </tr>\n",
       "    <tr>\n",
       "      <th>1</th>\n",
       "      <td>1</td>\n",
       "      <td>2018090600</td>\n",
       "      <td>776</td>\n",
       "      <td>2539653</td>\n",
       "      <td>Robert Alford</td>\n",
       "      <td>CB</td>\n",
       "      <td>0.000083</td>\n",
       "      <td>0.345370</td>\n",
       "      <td>0.251381</td>\n",
       "      <td>1.983317</td>\n",
       "      <td>...</td>\n",
       "      <td>0.453150</td>\n",
       "      <td>0.790009</td>\n",
       "      <td>0.791630</td>\n",
       "      <td>0.813689</td>\n",
       "      <td>0.997140</td>\n",
       "      <td>0.990316</td>\n",
       "      <td>0.993728</td>\n",
       "      <td>21.84</td>\n",
       "      <td>0.890505</td>\n",
       "      <td>0.942564</td>\n",
       "    </tr>\n",
       "    <tr>\n",
       "      <th>2</th>\n",
       "      <td>1</td>\n",
       "      <td>2018090600</td>\n",
       "      <td>839</td>\n",
       "      <td>2539334</td>\n",
       "      <td>Desmond Trufant</td>\n",
       "      <td>CB</td>\n",
       "      <td>0.019996</td>\n",
       "      <td>1.094198</td>\n",
       "      <td>1.178080</td>\n",
       "      <td>6.975783</td>\n",
       "      <td>...</td>\n",
       "      <td>1.543388</td>\n",
       "      <td>0.754369</td>\n",
       "      <td>1.729301</td>\n",
       "      <td>1.839167</td>\n",
       "      <td>0.988105</td>\n",
       "      <td>0.991394</td>\n",
       "      <td>0.989749</td>\n",
       "      <td>4.38</td>\n",
       "      <td>4.687057</td>\n",
       "      <td>0.161246</td>\n",
       "    </tr>\n",
       "    <tr>\n",
       "      <th>3</th>\n",
       "      <td>1</td>\n",
       "      <td>2018090600</td>\n",
       "      <td>839</td>\n",
       "      <td>2539653</td>\n",
       "      <td>Robert Alford</td>\n",
       "      <td>CB</td>\n",
       "      <td>0.000035</td>\n",
       "      <td>7.452315</td>\n",
       "      <td>8.463855</td>\n",
       "      <td>2.132386</td>\n",
       "      <td>...</td>\n",
       "      <td>1.434075</td>\n",
       "      <td>1.015058</td>\n",
       "      <td>1.383948</td>\n",
       "      <td>1.791958</td>\n",
       "      <td>0.970236</td>\n",
       "      <td>0.885562</td>\n",
       "      <td>0.927899</td>\n",
       "      <td>11.56</td>\n",
       "      <td>1.568949</td>\n",
       "      <td>0.220730</td>\n",
       "    </tr>\n",
       "    <tr>\n",
       "      <th>4</th>\n",
       "      <td>1</td>\n",
       "      <td>2018090600</td>\n",
       "      <td>839</td>\n",
       "      <td>2556445</td>\n",
       "      <td>Brian Poole</td>\n",
       "      <td>CB</td>\n",
       "      <td>0.080615</td>\n",
       "      <td>1.350028</td>\n",
       "      <td>1.574009</td>\n",
       "      <td>6.138672</td>\n",
       "      <td>...</td>\n",
       "      <td>0.998685</td>\n",
       "      <td>0.949254</td>\n",
       "      <td>1.234637</td>\n",
       "      <td>1.266424</td>\n",
       "      <td>0.820367</td>\n",
       "      <td>0.844053</td>\n",
       "      <td>0.832210</td>\n",
       "      <td>115.44</td>\n",
       "      <td>5.015117</td>\n",
       "      <td>0.122687</td>\n",
       "    </tr>\n",
       "    <tr>\n",
       "      <th>5</th>\n",
       "      <td>1</td>\n",
       "      <td>2018090600</td>\n",
       "      <td>1568</td>\n",
       "      <td>2552689</td>\n",
       "      <td>Ronald Darby</td>\n",
       "      <td>CB</td>\n",
       "      <td>0.000058</td>\n",
       "      <td>10.208990</td>\n",
       "      <td>8.961597</td>\n",
       "      <td>9.037849</td>\n",
       "      <td>...</td>\n",
       "      <td>0.809777</td>\n",
       "      <td>1.571795</td>\n",
       "      <td>1.564787</td>\n",
       "      <td>1.450282</td>\n",
       "      <td>0.985556</td>\n",
       "      <td>0.998488</td>\n",
       "      <td>0.992022</td>\n",
       "      <td>8.67</td>\n",
       "      <td>1.552192</td>\n",
       "      <td>0.209515</td>\n",
       "    </tr>\n",
       "    <tr>\n",
       "      <th>6</th>\n",
       "      <td>1</td>\n",
       "      <td>2018090600</td>\n",
       "      <td>1568</td>\n",
       "      <td>2555383</td>\n",
       "      <td>Jalen Mills</td>\n",
       "      <td>CB</td>\n",
       "      <td>0.038938</td>\n",
       "      <td>2.510159</td>\n",
       "      <td>1.547464</td>\n",
       "      <td>4.623992</td>\n",
       "      <td>...</td>\n",
       "      <td>0.294681</td>\n",
       "      <td>0.773840</td>\n",
       "      <td>0.696417</td>\n",
       "      <td>0.593505</td>\n",
       "      <td>0.980798</td>\n",
       "      <td>0.990751</td>\n",
       "      <td>0.985775</td>\n",
       "      <td>9.47</td>\n",
       "      <td>0.889550</td>\n",
       "      <td>0.530008</td>\n",
       "    </tr>\n",
       "    <tr>\n",
       "      <th>7</th>\n",
       "      <td>1</td>\n",
       "      <td>2018090600</td>\n",
       "      <td>1568</td>\n",
       "      <td>2557958</td>\n",
       "      <td>Sidney Jones</td>\n",
       "      <td>CB</td>\n",
       "      <td>0.482190</td>\n",
       "      <td>0.753213</td>\n",
       "      <td>0.523905</td>\n",
       "      <td>3.230003</td>\n",
       "      <td>...</td>\n",
       "      <td>0.485743</td>\n",
       "      <td>0.730457</td>\n",
       "      <td>0.662149</td>\n",
       "      <td>0.634893</td>\n",
       "      <td>0.998328</td>\n",
       "      <td>0.989455</td>\n",
       "      <td>0.993891</td>\n",
       "      <td>4.31</td>\n",
       "      <td>1.185116</td>\n",
       "      <td>0.494314</td>\n",
       "    </tr>\n",
       "    <tr>\n",
       "      <th>8</th>\n",
       "      <td>1</td>\n",
       "      <td>2018090600</td>\n",
       "      <td>3815</td>\n",
       "      <td>2552689</td>\n",
       "      <td>Ronald Darby</td>\n",
       "      <td>CB</td>\n",
       "      <td>0.000051</td>\n",
       "      <td>9.803451</td>\n",
       "      <td>8.094433</td>\n",
       "      <td>11.349277</td>\n",
       "      <td>...</td>\n",
       "      <td>0.637355</td>\n",
       "      <td>0.765165</td>\n",
       "      <td>0.799341</td>\n",
       "      <td>0.832809</td>\n",
       "      <td>0.963428</td>\n",
       "      <td>0.999730</td>\n",
       "      <td>0.981579</td>\n",
       "      <td>6.99</td>\n",
       "      <td>4.393290</td>\n",
       "      <td>0.142228</td>\n",
       "    </tr>\n",
       "    <tr>\n",
       "      <th>9</th>\n",
       "      <td>1</td>\n",
       "      <td>2018090600</td>\n",
       "      <td>3815</td>\n",
       "      <td>2555383</td>\n",
       "      <td>Jalen Mills</td>\n",
       "      <td>CB</td>\n",
       "      <td>0.000510</td>\n",
       "      <td>3.415404</td>\n",
       "      <td>3.359826</td>\n",
       "      <td>9.701411</td>\n",
       "      <td>...</td>\n",
       "      <td>1.611694</td>\n",
       "      <td>0.941875</td>\n",
       "      <td>1.534740</td>\n",
       "      <td>1.745861</td>\n",
       "      <td>0.975904</td>\n",
       "      <td>0.929361</td>\n",
       "      <td>0.952633</td>\n",
       "      <td>43.73</td>\n",
       "      <td>11.496617</td>\n",
       "      <td>0.119711</td>\n",
       "    </tr>\n",
       "  </tbody>\n",
       "</table>\n",
       "<p>10 rows × 27 columns</p>\n",
       "</div>"
      ],
      "text/plain": [
       "   week      gameId  playId    nflId      displayName position  \\\n",
       "0     1  2018090600     776  2539334  Desmond Trufant       CB   \n",
       "1     1  2018090600     776  2539653    Robert Alford       CB   \n",
       "2     1  2018090600     839  2539334  Desmond Trufant       CB   \n",
       "3     1  2018090600     839  2539653    Robert Alford       CB   \n",
       "4     1  2018090600     839  2556445      Brian Poole       CB   \n",
       "5     1  2018090600    1568  2552689     Ronald Darby       CB   \n",
       "6     1  2018090600    1568  2555383      Jalen Mills       CB   \n",
       "7     1  2018090600    1568  2557958     Sidney Jones       CB   \n",
       "8     1  2018090600    3815  2552689     Ronald Darby       CB   \n",
       "9     1  2018090600    3815  2555383      Jalen Mills       CB   \n",
       "\n",
       "   off_var_time_0  off_var_time_0_1  off_var_time_1  off_mean_time_0  ...  \\\n",
       "0        0.000389          4.718561        5.473382         4.771215  ...   \n",
       "1        0.000083          0.345370        0.251381         1.983317  ...   \n",
       "2        0.019996          1.094198        1.178080         6.975783  ...   \n",
       "3        0.000035          7.452315        8.463855         2.132386  ...   \n",
       "4        0.080615          1.350028        1.574009         6.138672  ...   \n",
       "5        0.000058         10.208990        8.961597         9.037849  ...   \n",
       "6        0.038938          2.510159        1.547464         4.623992  ...   \n",
       "7        0.482190          0.753213        0.523905         3.230003  ...   \n",
       "8        0.000051          9.803451        8.094433        11.349277  ...   \n",
       "9        0.000510          3.415404        3.359826         9.701411  ...   \n",
       "\n",
       "   rat_min_time_1  rat_75th_quartile_time_0  rat_75th_quartile_time_0_1  \\\n",
       "0        1.051571                  0.424492                    0.741320   \n",
       "1        0.453150                  0.790009                    0.791630   \n",
       "2        1.543388                  0.754369                    1.729301   \n",
       "3        1.434075                  1.015058                    1.383948   \n",
       "4        0.998685                  0.949254                    1.234637   \n",
       "5        0.809777                  1.571795                    1.564787   \n",
       "6        0.294681                  0.773840                    0.696417   \n",
       "7        0.485743                  0.730457                    0.662149   \n",
       "8        0.637355                  0.765165                    0.799341   \n",
       "9        1.611694                  0.941875                    1.534740   \n",
       "\n",
       "   rat_75th_quartile_time_1  cor_rot_best_x_time_1  cor_rot_best_y_time_1  \\\n",
       "0                  0.944268               0.981215               0.939940   \n",
       "1                  0.813689               0.997140               0.990316   \n",
       "2                  1.839167               0.988105               0.991394   \n",
       "3                  1.791958               0.970236               0.885562   \n",
       "4                  1.266424               0.820367               0.844053   \n",
       "5                  1.450282               0.985556               0.998488   \n",
       "6                  0.593505               0.980798               0.990751   \n",
       "7                  0.634893               0.998328               0.989455   \n",
       "8                  0.832809               0.963428               0.999730   \n",
       "9                  1.745861               0.975904               0.929361   \n",
       "\n",
       "   cor_rot_best_x_y_time_1  cb_off_dir_diff_qb_sack  cb_off_dist_qb_sack  \\\n",
       "0                 0.960578                    37.12            11.512224   \n",
       "1                 0.993728                    21.84             0.890505   \n",
       "2                 0.989749                     4.38             4.687057   \n",
       "3                 0.927899                    11.56             1.568949   \n",
       "4                 0.832210                   115.44             5.015117   \n",
       "5                 0.992022                     8.67             1.552192   \n",
       "6                 0.985775                     9.47             0.889550   \n",
       "7                 0.993891                     4.31             1.185116   \n",
       "8                 0.981579                     6.99             4.393290   \n",
       "9                 0.952633                    43.73            11.496617   \n",
       "\n",
       "   cor_dist_inter  \n",
       "0        0.145751  \n",
       "1        0.942564  \n",
       "2        0.161246  \n",
       "3        0.220730  \n",
       "4        0.122687  \n",
       "5        0.209515  \n",
       "6        0.530008  \n",
       "7        0.494314  \n",
       "8        0.142228  \n",
       "9        0.119711  \n",
       "\n",
       "[10 rows x 27 columns]"
      ]
     },
     "execution_count": 121,
     "metadata": {},
     "output_type": "execute_result"
    }
   ],
   "source": [
    "sacks_df.head(10)"
   ]
  },
  {
   "cell_type": "code",
   "execution_count": 122,
   "metadata": {},
   "outputs": [
    {
     "data": {
      "text/plain": [
       "Index(['week', 'gameId', 'playId', 'nflId', 'displayName', 'position',\n",
       "       'off_var_time_0', 'off_var_time_0_1', 'off_var_time_1',\n",
       "       'off_mean_time_0', 'off_mean_time_0_1', 'off_mean_time_1',\n",
       "       'off_dir_var_time_1', 'off_dir_mean_time_0_1', 'off_dir_mean_time_1',\n",
       "       'rat_min_time_0', 'rat_min_time_0_1', 'rat_min_time_1',\n",
       "       'rat_75th_quartile_time_0', 'rat_75th_quartile_time_0_1',\n",
       "       'rat_75th_quartile_time_1', 'cor_rot_best_x_time_1',\n",
       "       'cor_rot_best_y_time_1', 'cor_rot_best_x_y_time_1',\n",
       "       'cb_off_dir_diff_qb_sack', 'cb_off_dist_qb_sack', 'cor_dist_inter'],\n",
       "      dtype='object')"
      ]
     },
     "execution_count": 122,
     "metadata": {},
     "output_type": "execute_result"
    }
   ],
   "source": [
    "sacks_df.columns"
   ]
  },
  {
   "cell_type": "markdown",
   "metadata": {},
   "source": [
    "### Preparing Train/Test Groups"
   ]
  },
  {
   "cell_type": "code",
   "execution_count": 123,
   "metadata": {
    "collapsed": true
   },
   "outputs": [],
   "source": [
    "weeks_exclude = [1, 2, 3]\n",
    "train = sacks_df[[x not in weeks_exclude for x in list(sacks_df[\"week\"])]]\n",
    "test = sacks_df[[x in weeks_exclude for x in list(sacks_df[\"week\"])]]"
   ]
  },
  {
   "cell_type": "code",
   "execution_count": 124,
   "metadata": {
    "collapsed": true
   },
   "outputs": [],
   "source": [
    "X_train = train.drop(['week', 'gameId','playId','nflId','displayName','position'], axis = 1)\n",
    "X_test = test.drop(['week', 'gameId','playId','nflId','displayName','position'], axis = 1)"
   ]
  },
  {
   "cell_type": "code",
   "execution_count": 125,
   "metadata": {},
   "outputs": [
    {
     "name": "stdout",
     "output_type": "stream",
     "text": [
      "(6889, 21)\n",
      "(1529, 21)\n"
     ]
    }
   ],
   "source": [
    "print(X_train.shape)\n",
    "print(X_test.shape)"
   ]
  },
  {
   "cell_type": "markdown",
   "metadata": {},
   "source": [
    "### Fitting GMM Model"
   ]
  },
  {
   "cell_type": "code",
   "execution_count": 126,
   "metadata": {
    "collapsed": true
   },
   "outputs": [],
   "source": [
    "# train\n",
    "clf_train = mixture.GaussianMixture(n_components=2, covariance_type='full')\n",
    "f_train = clf_train.fit(X_train)"
   ]
  },
  {
   "cell_type": "code",
   "execution_count": 127,
   "metadata": {
    "collapsed": true
   },
   "outputs": [],
   "source": [
    "# test\n",
    "clf_test = mixture.GaussianMixture(n_components=2, covariance_type='full')\n",
    "f_test = clf_test.fit(X_test)"
   ]
  },
  {
   "cell_type": "markdown",
   "metadata": {},
   "source": [
    "### Examining Cluster Results"
   ]
  },
  {
   "cell_type": "code",
   "execution_count": 128,
   "metadata": {
    "collapsed": true
   },
   "outputs": [],
   "source": [
    "def get_cluster_means(X, f):\n",
    "    cluster_means = {}\n",
    "    for iCnt in range(len(X.columns)):\n",
    "        cluster_means.update({X.columns[iCnt]:(f.means_[0][iCnt],f.means_[1][iCnt])})\n",
    "    return cluster_means"
   ]
  },
  {
   "cell_type": "code",
   "execution_count": 129,
   "metadata": {},
   "outputs": [
    {
     "data": {
      "text/plain": [
       "{'cb_off_dir_diff_qb_sack': (48.12245127404412, 22.995869046779617),\n",
       " 'cb_off_dist_qb_sack': (7.555610857090087, 2.6078741383635067),\n",
       " 'cor_dist_inter': (0.08047213062885963, 0.36551007992860735),\n",
       " 'cor_rot_best_x_time_1': (0.7714625570479237, 0.9658553311369759),\n",
       " 'cor_rot_best_x_y_time_1': (0.7612615429535418, 0.9670679483192364),\n",
       " 'cor_rot_best_y_time_1': (0.75106052885916, 0.9682805655014964),\n",
       " 'off_dir_mean_time_0_1': (56.0049543909119, 36.02894964173318),\n",
       " 'off_dir_mean_time_1': (49.10020657218665, 24.302540623551316),\n",
       " 'off_dir_var_time_1': (1419.05707179683, 875.5501383906118),\n",
       " 'off_mean_time_0': (12.955910650790953, 5.616147744335513),\n",
       " 'off_mean_time_0_1': (10.667433950521346, 3.91114787030476),\n",
       " 'off_mean_time_1': (10.146122301472241, 3.507088622164039),\n",
       " 'off_var_time_0': (0.06510992851040208, 0.046362211755807764),\n",
       " 'off_var_time_0_1': (10.067799374441021, 3.537679159470804),\n",
       " 'off_var_time_1': (9.43117935849206, 3.096626362281705),\n",
       " 'rat_75th_quartile_time_0': (3.757077037466415, 1.0018763661453942),\n",
       " 'rat_75th_quartile_time_0_1': (5.856614471033189, 1.0388076406843976),\n",
       " 'rat_75th_quartile_time_1': (6.250383147548066, 0.9717051016341155),\n",
       " 'rat_min_time_0': (3.669765522307517, 0.9849372498734891),\n",
       " 'rat_min_time_0_1': (4.551240411752006, 0.7542009105023224),\n",
       " 'rat_min_time_1': (4.762318876564304, 0.7005300242866401)}"
      ]
     },
     "execution_count": 129,
     "metadata": {},
     "output_type": "execute_result"
    }
   ],
   "source": [
    "get_cluster_means(X_train, f_train)"
   ]
  },
  {
   "cell_type": "markdown",
   "metadata": {
    "collapsed": true
   },
   "source": [
    "### Computing Rand Index"
   ]
  },
  {
   "cell_type": "code",
   "execution_count": 130,
   "metadata": {
    "collapsed": true
   },
   "outputs": [],
   "source": [
    "from sklearn.metrics import adjusted_rand_score"
   ]
  },
  {
   "cell_type": "code",
   "execution_count": 131,
   "metadata": {
    "collapsed": true
   },
   "outputs": [],
   "source": [
    "y_train = f_train.predict(X_test)\n",
    "y_test = f_test.predict(X_test)"
   ]
  },
  {
   "cell_type": "code",
   "execution_count": 132,
   "metadata": {},
   "outputs": [
    {
     "data": {
      "text/plain": [
       "0.9054327612315225"
      ]
     },
     "execution_count": 132,
     "metadata": {},
     "output_type": "execute_result"
    }
   ],
   "source": [
    "adjusted_rand_score(y_train, y_test)"
   ]
  },
  {
   "cell_type": "markdown",
   "metadata": {},
   "source": [
    "### Iterating Through To Get Cross-Validation Scores"
   ]
  },
  {
   "cell_type": "code",
   "execution_count": 301,
   "metadata": {
    "collapsed": true
   },
   "outputs": [],
   "source": [
    "weeks_exclude_vect = [[1,2,3],[4,5,6],[7,8,9],[10,11,12],[13,14,15],[15,16,17]]\n",
    "G_vect = [2, 3, 4, 5, 6, 7, 8, 9]\n",
    "rand_index_G_vect = []"
   ]
  },
  {
   "cell_type": "code",
   "execution_count": 302,
   "metadata": {
    "scrolled": true
   },
   "outputs": [
    {
     "name": "stdout",
     "output_type": "stream",
     "text": [
      "0.928847788175667\n",
      "0.3943926348312478\n"
     ]
    },
    {
     "ename": "KeyboardInterrupt",
     "evalue": "",
     "output_type": "error",
     "traceback": [
      "\u001b[0;31m---------------------------------------------------------------------------\u001b[0m",
      "\u001b[0;31mKeyboardInterrupt\u001b[0m                         Traceback (most recent call last)",
      "\u001b[0;32m<ipython-input-302-7028fce0d2c4>\u001b[0m in \u001b[0;36m<module>\u001b[0;34m()\u001b[0m\n\u001b[1;32m     13\u001b[0m         clf_train = mixture.GaussianMixture(n_components=G, covariance_type='full', \n\u001b[1;32m     14\u001b[0m                                             n_init = 2, max_iter = 200)\n\u001b[0;32m---> 15\u001b[0;31m         \u001b[0mf_train\u001b[0m \u001b[0;34m=\u001b[0m \u001b[0mclf_train\u001b[0m\u001b[0;34m.\u001b[0m\u001b[0mfit\u001b[0m\u001b[0;34m(\u001b[0m\u001b[0mX_train\u001b[0m\u001b[0;34m)\u001b[0m\u001b[0;34m\u001b[0m\u001b[0m\n\u001b[0m\u001b[1;32m     16\u001b[0m \u001b[0;34m\u001b[0m\u001b[0m\n\u001b[1;32m     17\u001b[0m         \u001b[0;31m# test\u001b[0m\u001b[0;34m\u001b[0m\u001b[0;34m\u001b[0m\u001b[0m\n",
      "\u001b[0;32m/anaconda3/lib/python3.6/site-packages/sklearn/mixture/base.py\u001b[0m in \u001b[0;36mfit\u001b[0;34m(self, X, y)\u001b[0m\n\u001b[1;32m    212\u001b[0m \u001b[0;34m\u001b[0m\u001b[0m\n\u001b[1;32m    213\u001b[0m                 \u001b[0mlog_prob_norm\u001b[0m\u001b[0;34m,\u001b[0m \u001b[0mlog_resp\u001b[0m \u001b[0;34m=\u001b[0m \u001b[0mself\u001b[0m\u001b[0;34m.\u001b[0m\u001b[0m_e_step\u001b[0m\u001b[0;34m(\u001b[0m\u001b[0mX\u001b[0m\u001b[0;34m)\u001b[0m\u001b[0;34m\u001b[0m\u001b[0m\n\u001b[0;32m--> 214\u001b[0;31m                 \u001b[0mself\u001b[0m\u001b[0;34m.\u001b[0m\u001b[0m_m_step\u001b[0m\u001b[0;34m(\u001b[0m\u001b[0mX\u001b[0m\u001b[0;34m,\u001b[0m \u001b[0mlog_resp\u001b[0m\u001b[0;34m)\u001b[0m\u001b[0;34m\u001b[0m\u001b[0m\n\u001b[0m\u001b[1;32m    215\u001b[0m                 self.lower_bound_ = self._compute_lower_bound(\n\u001b[1;32m    216\u001b[0m                     log_resp, log_prob_norm)\n",
      "\u001b[0;32m/anaconda3/lib/python3.6/site-packages/sklearn/mixture/gaussian_mixture.py\u001b[0m in \u001b[0;36m_m_step\u001b[0;34m(self, X, log_resp)\u001b[0m\n\u001b[1;32m    666\u001b[0m         self.weights_, self.means_, self.covariances_ = (\n\u001b[1;32m    667\u001b[0m             _estimate_gaussian_parameters(X, np.exp(log_resp), self.reg_covar,\n\u001b[0;32m--> 668\u001b[0;31m                                           self.covariance_type))\n\u001b[0m\u001b[1;32m    669\u001b[0m         \u001b[0mself\u001b[0m\u001b[0;34m.\u001b[0m\u001b[0mweights_\u001b[0m \u001b[0;34m/=\u001b[0m \u001b[0mn_samples\u001b[0m\u001b[0;34m\u001b[0m\u001b[0m\n\u001b[1;32m    670\u001b[0m         self.precisions_cholesky_ = _compute_precision_cholesky(\n",
      "\u001b[0;32m/anaconda3/lib/python3.6/site-packages/sklearn/mixture/gaussian_mixture.py\u001b[0m in \u001b[0;36m_estimate_gaussian_parameters\u001b[0;34m(X, resp, reg_covar, covariance_type)\u001b[0m\n\u001b[1;32m    283\u001b[0m                    \u001b[0;34m\"diag\"\u001b[0m\u001b[0;34m:\u001b[0m \u001b[0m_estimate_gaussian_covariances_diag\u001b[0m\u001b[0;34m,\u001b[0m\u001b[0;34m\u001b[0m\u001b[0m\n\u001b[1;32m    284\u001b[0m                    \u001b[0;34m\"spherical\"\u001b[0m\u001b[0;34m:\u001b[0m \u001b[0m_estimate_gaussian_covariances_spherical\u001b[0m\u001b[0;34m\u001b[0m\u001b[0m\n\u001b[0;32m--> 285\u001b[0;31m                    }[covariance_type](resp, X, nk, means, reg_covar)\n\u001b[0m\u001b[1;32m    286\u001b[0m     \u001b[0;32mreturn\u001b[0m \u001b[0mnk\u001b[0m\u001b[0;34m,\u001b[0m \u001b[0mmeans\u001b[0m\u001b[0;34m,\u001b[0m \u001b[0mcovariances\u001b[0m\u001b[0;34m\u001b[0m\u001b[0m\n\u001b[1;32m    287\u001b[0m \u001b[0;34m\u001b[0m\u001b[0m\n",
      "\u001b[0;32m/anaconda3/lib/python3.6/site-packages/sklearn/mixture/gaussian_mixture.py\u001b[0m in \u001b[0;36m_estimate_gaussian_covariances_full\u001b[0;34m(resp, X, nk, means, reg_covar)\u001b[0m\n\u001b[1;32m    165\u001b[0m     \u001b[0;32mfor\u001b[0m \u001b[0mk\u001b[0m \u001b[0;32min\u001b[0m \u001b[0mrange\u001b[0m\u001b[0;34m(\u001b[0m\u001b[0mn_components\u001b[0m\u001b[0;34m)\u001b[0m\u001b[0;34m:\u001b[0m\u001b[0;34m\u001b[0m\u001b[0m\n\u001b[1;32m    166\u001b[0m         \u001b[0mdiff\u001b[0m \u001b[0;34m=\u001b[0m \u001b[0mX\u001b[0m \u001b[0;34m-\u001b[0m \u001b[0mmeans\u001b[0m\u001b[0;34m[\u001b[0m\u001b[0mk\u001b[0m\u001b[0;34m]\u001b[0m\u001b[0;34m\u001b[0m\u001b[0m\n\u001b[0;32m--> 167\u001b[0;31m         \u001b[0mcovariances\u001b[0m\u001b[0;34m[\u001b[0m\u001b[0mk\u001b[0m\u001b[0;34m]\u001b[0m \u001b[0;34m=\u001b[0m \u001b[0mnp\u001b[0m\u001b[0;34m.\u001b[0m\u001b[0mdot\u001b[0m\u001b[0;34m(\u001b[0m\u001b[0mresp\u001b[0m\u001b[0;34m[\u001b[0m\u001b[0;34m:\u001b[0m\u001b[0;34m,\u001b[0m \u001b[0mk\u001b[0m\u001b[0;34m]\u001b[0m \u001b[0;34m*\u001b[0m \u001b[0mdiff\u001b[0m\u001b[0;34m.\u001b[0m\u001b[0mT\u001b[0m\u001b[0;34m,\u001b[0m \u001b[0mdiff\u001b[0m\u001b[0;34m)\u001b[0m \u001b[0;34m/\u001b[0m \u001b[0mnk\u001b[0m\u001b[0;34m[\u001b[0m\u001b[0mk\u001b[0m\u001b[0;34m]\u001b[0m\u001b[0;34m\u001b[0m\u001b[0m\n\u001b[0m\u001b[1;32m    168\u001b[0m         \u001b[0mcovariances\u001b[0m\u001b[0;34m[\u001b[0m\u001b[0mk\u001b[0m\u001b[0;34m]\u001b[0m\u001b[0;34m.\u001b[0m\u001b[0mflat\u001b[0m\u001b[0;34m[\u001b[0m\u001b[0;34m:\u001b[0m\u001b[0;34m:\u001b[0m\u001b[0mn_features\u001b[0m \u001b[0;34m+\u001b[0m \u001b[0;36m1\u001b[0m\u001b[0;34m]\u001b[0m \u001b[0;34m+=\u001b[0m \u001b[0mreg_covar\u001b[0m\u001b[0;34m\u001b[0m\u001b[0m\n\u001b[1;32m    169\u001b[0m     \u001b[0;32mreturn\u001b[0m \u001b[0mcovariances\u001b[0m\u001b[0;34m\u001b[0m\u001b[0m\n",
      "\u001b[0;32m<__array_function__ internals>\u001b[0m in \u001b[0;36mdot\u001b[0;34m(*args, **kwargs)\u001b[0m\n",
      "\u001b[0;31mKeyboardInterrupt\u001b[0m: "
     ]
    }
   ],
   "source": [
    "for G in G_vect:\n",
    "    rand_index_sum = 0\n",
    "    # iterating through the week groupings to leave out\n",
    "    for weeks_exclue in weeks_exclude_vect:\n",
    "        # creating train/test groups\n",
    "        train = sacks_df[[x not in weeks_exclude for x in list(sacks_df[\"week\"])]]\n",
    "        test = sacks_df[[x in weeks_exclude for x in list(sacks_df[\"week\"])]]\n",
    "\n",
    "        X_train = train.drop(['week', 'gameId','playId','nflId','displayName','position'], axis = 1)\n",
    "        X_test = test.drop(['week', 'gameId','playId','nflId','displayName','position'], axis = 1)\n",
    "\n",
    "        # train\n",
    "        clf_train = mixture.GaussianMixture(n_components=G, covariance_type='full', \n",
    "                                            n_init = 2, max_iter = 200)\n",
    "        f_train = clf_train.fit(X_train)\n",
    "\n",
    "        # test\n",
    "        clf_test = mixture.GaussianMixture(n_components=G, covariance_type='full',\n",
    "                                           n_init = 2, max_iter = 200)\n",
    "        f_test = clf_test.fit(X_test)\n",
    "\n",
    "        # classifying test group\n",
    "        y_train = f_train.predict(X_test)\n",
    "        y_test = f_test.predict(X_test)\n",
    "\n",
    "        # appling the adjusted rand index\n",
    "        rand_index_val = adjusted_rand_score(y_train, y_test)\n",
    "        rand_index_sum += rand_index_val\n",
    "\n",
    "    rand_index = rand_index_sum/len(weeks_exclude_vect)\n",
    "    \n",
    "    rand_index_G_vect.append(rand_index)\n",
    "    \n",
    "    print(rand_index)"
   ]
  },
  {
   "cell_type": "markdown",
   "metadata": {},
   "source": [
    "### Plot eliminating x/y var, speed, and def based variables, replacing Ratio with Cor"
   ]
  },
  {
   "cell_type": "code",
   "execution_count": 169,
   "metadata": {},
   "outputs": [
    {
     "data": {
      "image/png": "[encoded data removed]",
      "text/plain": [
       "<matplotlib.figure.Figure at 0x124312828>"
      ]
     },
     "metadata": {},
     "output_type": "display_data"
    }
   ],
   "source": [
    "plt.pyplot.figure(figsize=(10, 6))\n",
    "# plotting the results\n",
    "plt.pyplot.bar(x = G_vect,\n",
    "               height = rand_index_G_vect,\n",
    "               width = .55)\n",
    "plt.pyplot.xlabel('Number of Clusters ($G*$)')\n",
    "plt.pyplot.ylabel('ARI Score')\n",
    "plt.pyplot.ylim(0,1)\n",
    "plt.pyplot.title('ARI Score vs. Number of Clusters')\n",
    "plt.pyplot.show()"
   ]
  },
  {
   "cell_type": "markdown",
   "metadata": {},
   "source": [
    "### Feature Importance"
   ]
  },
  {
   "cell_type": "code",
   "execution_count": 170,
   "metadata": {
    "collapsed": true
   },
   "outputs": [],
   "source": [
    "import sys\n",
    "weeks_exclude_vect = [[1,2,3],[4,5,6],[7,8,9],[10,11,12],[13,14,15],[15,16,17]]\n",
    "feature_list = list(X_train.columns)\n",
    "rand_index_vect = []\n",
    "\n",
    "# making a waitbar\n",
    "toolbar_width = len(feature_list)"
   ]
  },
  {
   "cell_type": "code",
   "execution_count": 171,
   "metadata": {},
   "outputs": [
    {
     "name": "stdout",
     "output_type": "stream",
     "text": [
      "[                ----------------"
     ]
    }
   ],
   "source": [
    "sys.stdout.write(\"[%s]\" % (\" \" * toolbar_width))\n",
    "sys.stdout.flush()\n",
    "sys.stdout.write(\"\\b\" * (toolbar_width+1))\n",
    "\n",
    "for feature in feature_list:\n",
    "    \n",
    "    rand_index_sum = 0\n",
    "\n",
    "    # iterating through the week groupings to leave out\n",
    "    for weeks_exclue in weeks_exclude_vect:\n",
    "        # creating train/test groups\n",
    "        train = sacks_df[[x not in weeks_exclude for \\\n",
    "                                 x in list(sacks_df[\"week\"])]].drop([feature], axis = 1)\n",
    "        test = sacks_df[[x in weeks_exclude for \\\n",
    "                                x in list(sacks_df[\"week\"])]].drop([feature], axis = 1)\n",
    "\n",
    "        X_train = train.drop(['week', 'gameId','playId','nflId','displayName','position'], axis = 1)\n",
    "        X_test = test.drop(['week', 'gameId','playId','nflId','displayName','position'], axis = 1)\n",
    "\n",
    "        # train\n",
    "        clf_train = mixture.GaussianMixture(n_components=2, covariance_type='full')\n",
    "        f_train = clf_train.fit(X_train)\n",
    "\n",
    "        # test\n",
    "        clf_test = mixture.GaussianMixture(n_components=2, covariance_type='full')\n",
    "        f_test = clf_test.fit(X_test)\n",
    "\n",
    "        # classifying test group\n",
    "        y_train = f_train.predict(X_test)\n",
    "        y_test = f_test.predict(X_test)\n",
    "\n",
    "        # appling the adjusted rand index\n",
    "        rand_index_val = adjusted_rand_score(y_train, y_test)\n",
    "        rand_index_sum += rand_index_val\n",
    "\n",
    "    rand_index = rand_index_sum/len(weeks_exclude_vect)\n",
    "    \n",
    "    rand_index_vect.append(rand_index)\n",
    "    \n",
    "    sys.stdout.write(\"-\")\n",
    "    sys.stdout.flush()"
   ]
  },
  {
   "cell_type": "code",
   "execution_count": 172,
   "metadata": {
    "collapsed": true
   },
   "outputs": [],
   "source": [
    "d = {'feature': feature_list, 'delta_ARI': rand_index_G_vect[0] - np.array(rand_index_vect)}\n",
    "feature_imp_df = pd.DataFrame(data=d).sort_values('delta_ARI', ascending = False)\n",
    "feature_imp_df[\"base_feature\"] = [x.split('_pass_forward')[0] if \"pass_forward\" in x \\\n",
    "                                  else x.split('_ball_snap')[0] if \"ball_snap\" in x \\\n",
    "                                  else x.split('_time')[0] for x in np.array(feature_imp_df[\"feature\"])]\n",
    "feature_imp_df[\"time_period\"] = [\"Before Ball Thrown\" if \"pass_forward\" in x \\\n",
    "                                 else \"Before Ball Thrown\" if \"ball_snap\" in x \\\n",
    "                                 else \"After Ball Thrown\" if x.endswith(\"2\") \\\n",
    "                                 else \"Before Ball Thrown\" for x in np.array(feature_imp_df[\"feature\"])]\n",
    "feature_imp_df[\"feature\"] = [x.upper() for x in feature_imp_df[\"feature\"]]"
   ]
  },
  {
   "cell_type": "code",
   "execution_count": 173,
   "metadata": {},
   "outputs": [
    {
     "data": {
      "image/png": "[encoded data removed]",
      "text/plain": [
       "<matplotlib.figure.Figure at 0x123cc67b8>"
      ]
     },
     "metadata": {},
     "output_type": "display_data"
    }
   ],
   "source": [
    "plt.pyplot.figure(figsize=(7,7))\n",
    "\n",
    "sns.barplot(x=\"delta_ARI\", y=\"feature\", data=feature_imp_df.head(10).sort_values('delta_ARI', ascending = True),\n",
    "            hue = \"time_period\", dodge = False, palette = [\"red\", \"blue\"])\n",
    "plt.pyplot.gca().legend().set_title('')\n",
    "plt.pyplot.title('Change in ARI vs. Feature')\n",
    "plt.pyplot.ylabel('Feature Name')\n",
    "plt.pyplot.xlabel('Change In ARI')\n",
    "plt.pyplot.show()"
   ]
  },
  {
   "cell_type": "markdown",
   "metadata": {},
   "source": [
    "### Scoring All Plays"
   ]
  },
  {
   "cell_type": "code",
   "execution_count": 133,
   "metadata": {},
   "outputs": [
    {
     "data": {
      "text/html": [
       "<div>\n",
       "<style scoped>\n",
       "    .dataframe tbody tr th:only-of-type {\n",
       "        vertical-align: middle;\n",
       "    }\n",
       "\n",
       "    .dataframe tbody tr th {\n",
       "        vertical-align: top;\n",
       "    }\n",
       "\n",
       "    .dataframe thead th {\n",
       "        text-align: right;\n",
       "    }\n",
       "</style>\n",
       "<table border=\"1\" class=\"dataframe\">\n",
       "  <thead>\n",
       "    <tr style=\"text-align: right;\">\n",
       "      <th></th>\n",
       "      <th>week</th>\n",
       "      <th>gameId</th>\n",
       "      <th>playId</th>\n",
       "      <th>nflId</th>\n",
       "      <th>displayName</th>\n",
       "      <th>position</th>\n",
       "      <th>off_var_time_0</th>\n",
       "      <th>off_var_time_0_1</th>\n",
       "      <th>off_var_time_1</th>\n",
       "      <th>off_mean_time_0</th>\n",
       "      <th>...</th>\n",
       "      <th>rat_min_time_1</th>\n",
       "      <th>rat_75th_quartile_time_0</th>\n",
       "      <th>rat_75th_quartile_time_0_1</th>\n",
       "      <th>rat_75th_quartile_time_1</th>\n",
       "      <th>cor_rot_best_x_time_1</th>\n",
       "      <th>cor_rot_best_y_time_1</th>\n",
       "      <th>cor_rot_best_x_y_time_1</th>\n",
       "      <th>cb_off_dir_diff_qb_sack</th>\n",
       "      <th>cb_off_dist_qb_sack</th>\n",
       "      <th>cor_dist_inter</th>\n",
       "    </tr>\n",
       "  </thead>\n",
       "  <tbody>\n",
       "    <tr>\n",
       "      <th>0</th>\n",
       "      <td>1</td>\n",
       "      <td>2018090600</td>\n",
       "      <td>776</td>\n",
       "      <td>2539334</td>\n",
       "      <td>Desmond Trufant</td>\n",
       "      <td>CB</td>\n",
       "      <td>0.000389</td>\n",
       "      <td>4.718561</td>\n",
       "      <td>5.473382</td>\n",
       "      <td>4.771215</td>\n",
       "      <td>...</td>\n",
       "      <td>1.051571</td>\n",
       "      <td>0.424492</td>\n",
       "      <td>0.741320</td>\n",
       "      <td>0.944268</td>\n",
       "      <td>0.981215</td>\n",
       "      <td>0.939940</td>\n",
       "      <td>0.960578</td>\n",
       "      <td>37.12</td>\n",
       "      <td>11.512224</td>\n",
       "      <td>0.145751</td>\n",
       "    </tr>\n",
       "    <tr>\n",
       "      <th>1</th>\n",
       "      <td>1</td>\n",
       "      <td>2018090600</td>\n",
       "      <td>776</td>\n",
       "      <td>2539653</td>\n",
       "      <td>Robert Alford</td>\n",
       "      <td>CB</td>\n",
       "      <td>0.000083</td>\n",
       "      <td>0.345370</td>\n",
       "      <td>0.251381</td>\n",
       "      <td>1.983317</td>\n",
       "      <td>...</td>\n",
       "      <td>0.453150</td>\n",
       "      <td>0.790009</td>\n",
       "      <td>0.791630</td>\n",
       "      <td>0.813689</td>\n",
       "      <td>0.997140</td>\n",
       "      <td>0.990316</td>\n",
       "      <td>0.993728</td>\n",
       "      <td>21.84</td>\n",
       "      <td>0.890505</td>\n",
       "      <td>0.942564</td>\n",
       "    </tr>\n",
       "    <tr>\n",
       "      <th>2</th>\n",
       "      <td>1</td>\n",
       "      <td>2018090600</td>\n",
       "      <td>839</td>\n",
       "      <td>2539334</td>\n",
       "      <td>Desmond Trufant</td>\n",
       "      <td>CB</td>\n",
       "      <td>0.019996</td>\n",
       "      <td>1.094198</td>\n",
       "      <td>1.178080</td>\n",
       "      <td>6.975783</td>\n",
       "      <td>...</td>\n",
       "      <td>1.543388</td>\n",
       "      <td>0.754369</td>\n",
       "      <td>1.729301</td>\n",
       "      <td>1.839167</td>\n",
       "      <td>0.988105</td>\n",
       "      <td>0.991394</td>\n",
       "      <td>0.989749</td>\n",
       "      <td>4.38</td>\n",
       "      <td>4.687057</td>\n",
       "      <td>0.161246</td>\n",
       "    </tr>\n",
       "    <tr>\n",
       "      <th>3</th>\n",
       "      <td>1</td>\n",
       "      <td>2018090600</td>\n",
       "      <td>839</td>\n",
       "      <td>2539653</td>\n",
       "      <td>Robert Alford</td>\n",
       "      <td>CB</td>\n",
       "      <td>0.000035</td>\n",
       "      <td>7.452315</td>\n",
       "      <td>8.463855</td>\n",
       "      <td>2.132386</td>\n",
       "      <td>...</td>\n",
       "      <td>1.434075</td>\n",
       "      <td>1.015058</td>\n",
       "      <td>1.383948</td>\n",
       "      <td>1.791958</td>\n",
       "      <td>0.970236</td>\n",
       "      <td>0.885562</td>\n",
       "      <td>0.927899</td>\n",
       "      <td>11.56</td>\n",
       "      <td>1.568949</td>\n",
       "      <td>0.220730</td>\n",
       "    </tr>\n",
       "    <tr>\n",
       "      <th>4</th>\n",
       "      <td>1</td>\n",
       "      <td>2018090600</td>\n",
       "      <td>839</td>\n",
       "      <td>2556445</td>\n",
       "      <td>Brian Poole</td>\n",
       "      <td>CB</td>\n",
       "      <td>0.080615</td>\n",
       "      <td>1.350028</td>\n",
       "      <td>1.574009</td>\n",
       "      <td>6.138672</td>\n",
       "      <td>...</td>\n",
       "      <td>0.998685</td>\n",
       "      <td>0.949254</td>\n",
       "      <td>1.234637</td>\n",
       "      <td>1.266424</td>\n",
       "      <td>0.820367</td>\n",
       "      <td>0.844053</td>\n",
       "      <td>0.832210</td>\n",
       "      <td>115.44</td>\n",
       "      <td>5.015117</td>\n",
       "      <td>0.122687</td>\n",
       "    </tr>\n",
       "    <tr>\n",
       "      <th>...</th>\n",
       "      <td>...</td>\n",
       "      <td>...</td>\n",
       "      <td>...</td>\n",
       "      <td>...</td>\n",
       "      <td>...</td>\n",
       "      <td>...</td>\n",
       "      <td>...</td>\n",
       "      <td>...</td>\n",
       "      <td>...</td>\n",
       "      <td>...</td>\n",
       "      <td>...</td>\n",
       "      <td>...</td>\n",
       "      <td>...</td>\n",
       "      <td>...</td>\n",
       "      <td>...</td>\n",
       "      <td>...</td>\n",
       "      <td>...</td>\n",
       "      <td>...</td>\n",
       "      <td>...</td>\n",
       "      <td>...</td>\n",
       "      <td>...</td>\n",
       "    </tr>\n",
       "    <tr>\n",
       "      <th>2307</th>\n",
       "      <td>17</td>\n",
       "      <td>2018123015</td>\n",
       "      <td>3734</td>\n",
       "      <td>2495807</td>\n",
       "      <td>Antoine Bethea</td>\n",
       "      <td>FS</td>\n",
       "      <td>0.012140</td>\n",
       "      <td>3.566140</td>\n",
       "      <td>3.681929</td>\n",
       "      <td>8.620985</td>\n",
       "      <td>...</td>\n",
       "      <td>3.828212</td>\n",
       "      <td>3.420869</td>\n",
       "      <td>4.424907</td>\n",
       "      <td>5.240665</td>\n",
       "      <td>0.996041</td>\n",
       "      <td>0.990992</td>\n",
       "      <td>0.993517</td>\n",
       "      <td>41.56</td>\n",
       "      <td>4.121019</td>\n",
       "      <td>0.149447</td>\n",
       "    </tr>\n",
       "    <tr>\n",
       "      <th>2308</th>\n",
       "      <td>17</td>\n",
       "      <td>2018123015</td>\n",
       "      <td>3734</td>\n",
       "      <td>2543830</td>\n",
       "      <td>Tre Boston</td>\n",
       "      <td>FS</td>\n",
       "      <td>0.068163</td>\n",
       "      <td>4.024274</td>\n",
       "      <td>4.449628</td>\n",
       "      <td>7.473905</td>\n",
       "      <td>...</td>\n",
       "      <td>4.731294</td>\n",
       "      <td>2.195886</td>\n",
       "      <td>4.379230</td>\n",
       "      <td>6.286856</td>\n",
       "      <td>0.968495</td>\n",
       "      <td>0.961288</td>\n",
       "      <td>0.964892</td>\n",
       "      <td>18.32</td>\n",
       "      <td>14.767383</td>\n",
       "      <td>0.100404</td>\n",
       "    </tr>\n",
       "    <tr>\n",
       "      <th>2309</th>\n",
       "      <td>17</td>\n",
       "      <td>2018123015</td>\n",
       "      <td>3734</td>\n",
       "      <td>2558009</td>\n",
       "      <td>Budda Baker</td>\n",
       "      <td>FS</td>\n",
       "      <td>0.004576</td>\n",
       "      <td>2.587151</td>\n",
       "      <td>3.336334</td>\n",
       "      <td>2.545003</td>\n",
       "      <td>...</td>\n",
       "      <td>0.544030</td>\n",
       "      <td>0.297083</td>\n",
       "      <td>0.377270</td>\n",
       "      <td>0.656168</td>\n",
       "      <td>0.980874</td>\n",
       "      <td>0.995511</td>\n",
       "      <td>0.988193</td>\n",
       "      <td>110.09</td>\n",
       "      <td>8.273041</td>\n",
       "      <td>0.353867</td>\n",
       "    </tr>\n",
       "    <tr>\n",
       "      <th>2310</th>\n",
       "      <td>17</td>\n",
       "      <td>2018123015</td>\n",
       "      <td>3932</td>\n",
       "      <td>2539243</td>\n",
       "      <td>Bradley McDougald</td>\n",
       "      <td>SS</td>\n",
       "      <td>0.000030</td>\n",
       "      <td>28.891813</td>\n",
       "      <td>27.140984</td>\n",
       "      <td>16.001915</td>\n",
       "      <td>...</td>\n",
       "      <td>1.886878</td>\n",
       "      <td>2.670848</td>\n",
       "      <td>2.677593</td>\n",
       "      <td>2.665640</td>\n",
       "      <td>0.935466</td>\n",
       "      <td>0.985401</td>\n",
       "      <td>0.960433</td>\n",
       "      <td>23.76</td>\n",
       "      <td>0.908020</td>\n",
       "      <td>0.099099</td>\n",
       "    </tr>\n",
       "    <tr>\n",
       "      <th>2311</th>\n",
       "      <td>17</td>\n",
       "      <td>2018123015</td>\n",
       "      <td>3932</td>\n",
       "      <td>2558077</td>\n",
       "      <td>Delano Hill</td>\n",
       "      <td>SS</td>\n",
       "      <td>0.001363</td>\n",
       "      <td>1.823731</td>\n",
       "      <td>1.951535</td>\n",
       "      <td>15.276480</td>\n",
       "      <td>...</td>\n",
       "      <td>7.267299</td>\n",
       "      <td>2.653369</td>\n",
       "      <td>9.231784</td>\n",
       "      <td>10.019207</td>\n",
       "      <td>0.990880</td>\n",
       "      <td>0.850360</td>\n",
       "      <td>0.920620</td>\n",
       "      <td>38.57</td>\n",
       "      <td>15.710980</td>\n",
       "      <td>0.051366</td>\n",
       "    </tr>\n",
       "  </tbody>\n",
       "</table>\n",
       "<p>8418 rows × 27 columns</p>\n",
       "</div>"
      ],
      "text/plain": [
       "      week      gameId  playId    nflId        displayName position  \\\n",
       "0        1  2018090600     776  2539334    Desmond Trufant       CB   \n",
       "1        1  2018090600     776  2539653      Robert Alford       CB   \n",
       "2        1  2018090600     839  2539334    Desmond Trufant       CB   \n",
       "3        1  2018090600     839  2539653      Robert Alford       CB   \n",
       "4        1  2018090600     839  2556445        Brian Poole       CB   \n",
       "...    ...         ...     ...      ...                ...      ...   \n",
       "2307    17  2018123015    3734  2495807     Antoine Bethea       FS   \n",
       "2308    17  2018123015    3734  2543830         Tre Boston       FS   \n",
       "2309    17  2018123015    3734  2558009        Budda Baker       FS   \n",
       "2310    17  2018123015    3932  2539243  Bradley McDougald       SS   \n",
       "2311    17  2018123015    3932  2558077        Delano Hill       SS   \n",
       "\n",
       "      off_var_time_0  off_var_time_0_1  off_var_time_1  off_mean_time_0  ...  \\\n",
       "0           0.000389          4.718561        5.473382         4.771215  ...   \n",
       "1           0.000083          0.345370        0.251381         1.983317  ...   \n",
       "2           0.019996          1.094198        1.178080         6.975783  ...   \n",
       "3           0.000035          7.452315        8.463855         2.132386  ...   \n",
       "4           0.080615          1.350028        1.574009         6.138672  ...   \n",
       "...              ...               ...             ...              ...  ...   \n",
       "2307        0.012140          3.566140        3.681929         8.620985  ...   \n",
       "2308        0.068163          4.024274        4.449628         7.473905  ...   \n",
       "2309        0.004576          2.587151        3.336334         2.545003  ...   \n",
       "2310        0.000030         28.891813       27.140984        16.001915  ...   \n",
       "2311        0.001363          1.823731        1.951535        15.276480  ...   \n",
       "\n",
       "      rat_min_time_1  rat_75th_quartile_time_0  rat_75th_quartile_time_0_1  \\\n",
       "0           1.051571                  0.424492                    0.741320   \n",
       "1           0.453150                  0.790009                    0.791630   \n",
       "2           1.543388                  0.754369                    1.729301   \n",
       "3           1.434075                  1.015058                    1.383948   \n",
       "4           0.998685                  0.949254                    1.234637   \n",
       "...              ...                       ...                         ...   \n",
       "2307        3.828212                  3.420869                    4.424907   \n",
       "2308        4.731294                  2.195886                    4.379230   \n",
       "2309        0.544030                  0.297083                    0.377270   \n",
       "2310        1.886878                  2.670848                    2.677593   \n",
       "2311        7.267299                  2.653369                    9.231784   \n",
       "\n",
       "      rat_75th_quartile_time_1  cor_rot_best_x_time_1  cor_rot_best_y_time_1  \\\n",
       "0                     0.944268               0.981215               0.939940   \n",
       "1                     0.813689               0.997140               0.990316   \n",
       "2                     1.839167               0.988105               0.991394   \n",
       "3                     1.791958               0.970236               0.885562   \n",
       "4                     1.266424               0.820367               0.844053   \n",
       "...                        ...                    ...                    ...   \n",
       "2307                  5.240665               0.996041               0.990992   \n",
       "2308                  6.286856               0.968495               0.961288   \n",
       "2309                  0.656168               0.980874               0.995511   \n",
       "2310                  2.665640               0.935466               0.985401   \n",
       "2311                 10.019207               0.990880               0.850360   \n",
       "\n",
       "      cor_rot_best_x_y_time_1  cb_off_dir_diff_qb_sack  cb_off_dist_qb_sack  \\\n",
       "0                    0.960578                    37.12            11.512224   \n",
       "1                    0.993728                    21.84             0.890505   \n",
       "2                    0.989749                     4.38             4.687057   \n",
       "3                    0.927899                    11.56             1.568949   \n",
       "4                    0.832210                   115.44             5.015117   \n",
       "...                       ...                      ...                  ...   \n",
       "2307                 0.993517                    41.56             4.121019   \n",
       "2308                 0.964892                    18.32            14.767383   \n",
       "2309                 0.988193                   110.09             8.273041   \n",
       "2310                 0.960433                    23.76             0.908020   \n",
       "2311                 0.920620                    38.57            15.710980   \n",
       "\n",
       "      cor_dist_inter  \n",
       "0           0.145751  \n",
       "1           0.942564  \n",
       "2           0.161246  \n",
       "3           0.220730  \n",
       "4           0.122687  \n",
       "...              ...  \n",
       "2307        0.149447  \n",
       "2308        0.100404  \n",
       "2309        0.353867  \n",
       "2310        0.099099  \n",
       "2311        0.051366  \n",
       "\n",
       "[8418 rows x 27 columns]"
      ]
     },
     "execution_count": 133,
     "metadata": {},
     "output_type": "execute_result"
    }
   ],
   "source": [
    "sacks_df"
   ]
  },
  {
   "cell_type": "code",
   "execution_count": 134,
   "metadata": {},
   "outputs": [
    {
     "data": {
      "text/plain": [
       "(8418, 21)"
      ]
     },
     "execution_count": 134,
     "metadata": {},
     "output_type": "execute_result"
    }
   ],
   "source": [
    "# sampling 45,000 plays to be within CPU limit\n",
    "X_train = sacks_df.drop(['week', 'gameId','playId','nflId','displayName','position'], axis = 1)\n",
    "X_train.shape"
   ]
  },
  {
   "cell_type": "code",
   "execution_count": 135,
   "metadata": {},
   "outputs": [
    {
     "data": {
      "text/plain": [
       "(8418, 21)"
      ]
     },
     "execution_count": 135,
     "metadata": {},
     "output_type": "execute_result"
    }
   ],
   "source": [
    "# all plays to score\n",
    "X_score = sacks_df.drop(['week', 'gameId','playId','nflId','displayName','position'], axis = 1)\n",
    "X_score.shape"
   ]
  },
  {
   "cell_type": "code",
   "execution_count": 136,
   "metadata": {
    "collapsed": true
   },
   "outputs": [],
   "source": [
    "# train\n",
    "clf_train = mixture.GaussianMixture(n_components=2, covariance_type='full')\n",
    "f_train = clf_train.fit(X_train)"
   ]
  },
  {
   "cell_type": "code",
   "execution_count": 137,
   "metadata": {},
   "outputs": [
    {
     "data": {
      "text/plain": [
       "{'cb_off_dir_diff_qb_sack': (47.626027251284846, 23.04050802528157),\n",
       " 'cb_off_dist_qb_sack': (7.52814837165528, 2.5800791486623607),\n",
       " 'cor_dist_inter': (0.08211489491419136, 0.36851351256739784),\n",
       " 'cor_rot_best_x_time_1': (0.7718579823500883, 0.9679377631833717),\n",
       " 'cor_rot_best_x_y_time_1': (0.7627639707367623, 0.9692000485036325),\n",
       " 'cor_rot_best_y_time_1': (0.7536699591234363, 0.9704623338238937),\n",
       " 'off_dir_mean_time_0_1': (55.91632474249496, 35.831348499594974),\n",
       " 'off_dir_mean_time_1': (48.9020093146326, 24.114494990354245),\n",
       " 'off_dir_var_time_1': (1403.9282471483775, 872.238416531997),\n",
       " 'off_mean_time_0': (12.859430870428653, 5.57156492408641),\n",
       " 'off_mean_time_0_1': (10.582931547859122, 3.880247526812123),\n",
       " 'off_mean_time_1': (10.063525526440994, 3.478754376163788),\n",
       " 'off_var_time_0': (0.06405397363097425, 0.04675187457705961),\n",
       " 'off_var_time_0_1': (9.92727976098598, 3.478933351796036),\n",
       " 'off_var_time_1': (9.282173421764368, 3.03939475533882),\n",
       " 'rat_75th_quartile_time_0': (3.7412589515582053, 0.976831766468096),\n",
       " 'rat_75th_quartile_time_0_1': (5.826279349175349, 1.0139673714242425),\n",
       " 'rat_75th_quartile_time_1': (6.212325558629463, 0.9543230333704922),\n",
       " 'rat_min_time_0': (3.656606002858996, 0.9602894182904806),\n",
       " 'rat_min_time_0_1': (4.515874321882683, 0.7418794005758649),\n",
       " 'rat_min_time_1': (4.723063552117427, 0.6910620732418508)}"
      ]
     },
     "execution_count": 137,
     "metadata": {},
     "output_type": "execute_result"
    }
   ],
   "source": [
    "get_cluster_means(X_train, f_train)"
   ]
  },
  {
   "cell_type": "code",
   "execution_count": 138,
   "metadata": {
    "collapsed": true
   },
   "outputs": [],
   "source": [
    "full_probs = [x[0] for x in f_train.predict_proba(X_score)]\n",
    "full_classes = 1 - f_train.predict(X_score)"
   ]
  },
  {
   "cell_type": "code",
   "execution_count": 139,
   "metadata": {},
   "outputs": [
    {
     "data": {
      "image/png": "[encoded data removed]",
      "text/plain": [
       "<matplotlib.figure.Figure at 0x12453f0b8>"
      ]
     },
     "metadata": {},
     "output_type": "display_data"
    }
   ],
   "source": [
    "plt.pyplot.hist(full_probs, bins = 50)\n",
    "plt.pyplot.xlabel('Probability of Zone Coverage')\n",
    "plt.pyplot.ylabel('Density')\n",
    "plt.pyplot.show()"
   ]
  },
  {
   "cell_type": "code",
   "execution_count": 140,
   "metadata": {
    "collapsed": true
   },
   "outputs": [],
   "source": [
    "sacks_df[\"zone_probability\"] = full_probs\n",
    "sacks_df[\"zone_flag\"] = full_classes"
   ]
  },
  {
   "cell_type": "markdown",
   "metadata": {},
   "source": [
    "### Saving Results"
   ]
  },
  {
   "cell_type": "code",
   "execution_count": 141,
   "metadata": {
    "collapsed": true
   },
   "outputs": [],
   "source": [
    "sacks_df_final = sacks_df[['week', 'gameId','playId','nflId','displayName','position'] + \\\n",
    "                                     list(sacks_df.columns[[x.startswith('zone') for x in sacks_df.columns]])].sort_values(['gameId','playId','position'])"
   ]
  },
  {
   "cell_type": "code",
   "execution_count": 142,
   "metadata": {},
   "outputs": [
    {
     "data": {
      "text/html": [
       "<div>\n",
       "<style scoped>\n",
       "    .dataframe tbody tr th:only-of-type {\n",
       "        vertical-align: middle;\n",
       "    }\n",
       "\n",
       "    .dataframe tbody tr th {\n",
       "        vertical-align: top;\n",
       "    }\n",
       "\n",
       "    .dataframe thead th {\n",
       "        text-align: right;\n",
       "    }\n",
       "</style>\n",
       "<table border=\"1\" class=\"dataframe\">\n",
       "  <thead>\n",
       "    <tr style=\"text-align: right;\">\n",
       "      <th></th>\n",
       "      <th>week</th>\n",
       "      <th>gameId</th>\n",
       "      <th>playId</th>\n",
       "      <th>nflId</th>\n",
       "      <th>displayName</th>\n",
       "      <th>position</th>\n",
       "      <th>zone_probability</th>\n",
       "      <th>zone_flag</th>\n",
       "    </tr>\n",
       "  </thead>\n",
       "  <tbody>\n",
       "    <tr>\n",
       "      <th>0</th>\n",
       "      <td>1</td>\n",
       "      <td>2018090600</td>\n",
       "      <td>776</td>\n",
       "      <td>2539334</td>\n",
       "      <td>Desmond Trufant</td>\n",
       "      <td>CB</td>\n",
       "      <td>2.892489e-01</td>\n",
       "      <td>0</td>\n",
       "    </tr>\n",
       "    <tr>\n",
       "      <th>1</th>\n",
       "      <td>1</td>\n",
       "      <td>2018090600</td>\n",
       "      <td>776</td>\n",
       "      <td>2539653</td>\n",
       "      <td>Robert Alford</td>\n",
       "      <td>CB</td>\n",
       "      <td>6.487224e-97</td>\n",
       "      <td>0</td>\n",
       "    </tr>\n",
       "    <tr>\n",
       "      <th>1</th>\n",
       "      <td>1</td>\n",
       "      <td>2018090600</td>\n",
       "      <td>776</td>\n",
       "      <td>2555543</td>\n",
       "      <td>Keanu Neal</td>\n",
       "      <td>FS</td>\n",
       "      <td>1.000000e+00</td>\n",
       "      <td>1</td>\n",
       "    </tr>\n",
       "    <tr>\n",
       "      <th>1</th>\n",
       "      <td>1</td>\n",
       "      <td>2018090600</td>\n",
       "      <td>776</td>\n",
       "      <td>2555543</td>\n",
       "      <td>Keanu Neal</td>\n",
       "      <td>FS</td>\n",
       "      <td>1.000000e+00</td>\n",
       "      <td>1</td>\n",
       "    </tr>\n",
       "    <tr>\n",
       "      <th>0</th>\n",
       "      <td>1</td>\n",
       "      <td>2018090600</td>\n",
       "      <td>776</td>\n",
       "      <td>2543850</td>\n",
       "      <td>Ricardo Allen</td>\n",
       "      <td>SS</td>\n",
       "      <td>3.671411e-09</td>\n",
       "      <td>0</td>\n",
       "    </tr>\n",
       "    <tr>\n",
       "      <th>...</th>\n",
       "      <td>...</td>\n",
       "      <td>...</td>\n",
       "      <td>...</td>\n",
       "      <td>...</td>\n",
       "      <td>...</td>\n",
       "      <td>...</td>\n",
       "      <td>...</td>\n",
       "      <td>...</td>\n",
       "    </tr>\n",
       "    <tr>\n",
       "      <th>3795</th>\n",
       "      <td>17</td>\n",
       "      <td>2018123015</td>\n",
       "      <td>3932</td>\n",
       "      <td>2560728</td>\n",
       "      <td>Tre Flowers</td>\n",
       "      <td>CB</td>\n",
       "      <td>4.134358e-13</td>\n",
       "      <td>0</td>\n",
       "    </tr>\n",
       "    <tr>\n",
       "      <th>2310</th>\n",
       "      <td>17</td>\n",
       "      <td>2018123015</td>\n",
       "      <td>3932</td>\n",
       "      <td>2539243</td>\n",
       "      <td>Bradley McDougald</td>\n",
       "      <td>SS</td>\n",
       "      <td>1.000000e+00</td>\n",
       "      <td>1</td>\n",
       "    </tr>\n",
       "    <tr>\n",
       "      <th>2311</th>\n",
       "      <td>17</td>\n",
       "      <td>2018123015</td>\n",
       "      <td>3932</td>\n",
       "      <td>2558077</td>\n",
       "      <td>Delano Hill</td>\n",
       "      <td>SS</td>\n",
       "      <td>1.000000e+00</td>\n",
       "      <td>1</td>\n",
       "    </tr>\n",
       "    <tr>\n",
       "      <th>2310</th>\n",
       "      <td>17</td>\n",
       "      <td>2018123015</td>\n",
       "      <td>3932</td>\n",
       "      <td>2539243</td>\n",
       "      <td>Bradley McDougald</td>\n",
       "      <td>SS</td>\n",
       "      <td>1.000000e+00</td>\n",
       "      <td>1</td>\n",
       "    </tr>\n",
       "    <tr>\n",
       "      <th>2311</th>\n",
       "      <td>17</td>\n",
       "      <td>2018123015</td>\n",
       "      <td>3932</td>\n",
       "      <td>2558077</td>\n",
       "      <td>Delano Hill</td>\n",
       "      <td>SS</td>\n",
       "      <td>1.000000e+00</td>\n",
       "      <td>1</td>\n",
       "    </tr>\n",
       "  </tbody>\n",
       "</table>\n",
       "<p>8418 rows × 8 columns</p>\n",
       "</div>"
      ],
      "text/plain": [
       "      week      gameId  playId    nflId        displayName position  \\\n",
       "0        1  2018090600     776  2539334    Desmond Trufant       CB   \n",
       "1        1  2018090600     776  2539653      Robert Alford       CB   \n",
       "1        1  2018090600     776  2555543         Keanu Neal       FS   \n",
       "1        1  2018090600     776  2555543         Keanu Neal       FS   \n",
       "0        1  2018090600     776  2543850      Ricardo Allen       SS   \n",
       "...    ...         ...     ...      ...                ...      ...   \n",
       "3795    17  2018123015    3932  2560728        Tre Flowers       CB   \n",
       "2310    17  2018123015    3932  2539243  Bradley McDougald       SS   \n",
       "2311    17  2018123015    3932  2558077        Delano Hill       SS   \n",
       "2310    17  2018123015    3932  2539243  Bradley McDougald       SS   \n",
       "2311    17  2018123015    3932  2558077        Delano Hill       SS   \n",
       "\n",
       "      zone_probability  zone_flag  \n",
       "0         2.892489e-01          0  \n",
       "1         6.487224e-97          0  \n",
       "1         1.000000e+00          1  \n",
       "1         1.000000e+00          1  \n",
       "0         3.671411e-09          0  \n",
       "...                ...        ...  \n",
       "3795      4.134358e-13          0  \n",
       "2310      1.000000e+00          1  \n",
       "2311      1.000000e+00          1  \n",
       "2310      1.000000e+00          1  \n",
       "2311      1.000000e+00          1  \n",
       "\n",
       "[8418 rows x 8 columns]"
      ]
     },
     "execution_count": 142,
     "metadata": {},
     "output_type": "execute_result"
    }
   ],
   "source": [
    "sacks_df_final"
   ]
  },
  {
   "cell_type": "code",
   "execution_count": 144,
   "metadata": {
    "collapsed": true
   },
   "outputs": [],
   "source": [
    "sacks_df_final.to_csv(\"~/Desktop/CoverageNet/src/01_identify_man_coverage/outputs/all_positions_sacks_man_zone_classes.csv\", \n",
    "                      index = False)"
   ]
  },
  {
   "cell_type": "code",
   "execution_count": 143,
   "metadata": {},
   "outputs": [
    {
     "data": {
      "text/html": [
       "<div>\n",
       "<style scoped>\n",
       "    .dataframe tbody tr th:only-of-type {\n",
       "        vertical-align: middle;\n",
       "    }\n",
       "\n",
       "    .dataframe tbody tr th {\n",
       "        vertical-align: top;\n",
       "    }\n",
       "\n",
       "    .dataframe thead th {\n",
       "        text-align: right;\n",
       "    }\n",
       "</style>\n",
       "<table border=\"1\" class=\"dataframe\">\n",
       "  <thead>\n",
       "    <tr style=\"text-align: right;\">\n",
       "      <th></th>\n",
       "      <th>week</th>\n",
       "      <th>gameId</th>\n",
       "      <th>playId</th>\n",
       "      <th>nflId</th>\n",
       "      <th>displayName</th>\n",
       "      <th>position</th>\n",
       "      <th>off_var_time_0</th>\n",
       "      <th>off_var_time_0_1</th>\n",
       "      <th>off_var_time_1</th>\n",
       "      <th>off_mean_time_0</th>\n",
       "      <th>...</th>\n",
       "      <th>rat_75th_quartile_time_0_1</th>\n",
       "      <th>rat_75th_quartile_time_1</th>\n",
       "      <th>cor_rot_best_x_time_1</th>\n",
       "      <th>cor_rot_best_y_time_1</th>\n",
       "      <th>cor_rot_best_x_y_time_1</th>\n",
       "      <th>cb_off_dir_diff_qb_sack</th>\n",
       "      <th>cb_off_dist_qb_sack</th>\n",
       "      <th>cor_dist_inter</th>\n",
       "      <th>zone_probability</th>\n",
       "      <th>zone_flag</th>\n",
       "    </tr>\n",
       "  </thead>\n",
       "  <tbody>\n",
       "    <tr>\n",
       "      <th>35</th>\n",
       "      <td>1</td>\n",
       "      <td>2018090901</td>\n",
       "      <td>1021</td>\n",
       "      <td>2543637</td>\n",
       "      <td>Terrance Mitchell</td>\n",
       "      <td>CB</td>\n",
       "      <td>0.022246</td>\n",
       "      <td>10.115166</td>\n",
       "      <td>9.158109</td>\n",
       "      <td>9.494955</td>\n",
       "      <td>...</td>\n",
       "      <td>4.274940</td>\n",
       "      <td>4.195009</td>\n",
       "      <td>0.980101</td>\n",
       "      <td>0.993809</td>\n",
       "      <td>0.986955</td>\n",
       "      <td>18.54</td>\n",
       "      <td>2.500000</td>\n",
       "      <td>0.184860</td>\n",
       "      <td>1.000000e+00</td>\n",
       "      <td>1</td>\n",
       "    </tr>\n",
       "    <tr>\n",
       "      <th>36</th>\n",
       "      <td>1</td>\n",
       "      <td>2018090901</td>\n",
       "      <td>1021</td>\n",
       "      <td>2552389</td>\n",
       "      <td>Damarious Randall</td>\n",
       "      <td>CB</td>\n",
       "      <td>0.001037</td>\n",
       "      <td>44.251250</td>\n",
       "      <td>41.992550</td>\n",
       "      <td>20.960222</td>\n",
       "      <td>...</td>\n",
       "      <td>7.315497</td>\n",
       "      <td>8.390587</td>\n",
       "      <td>0.998881</td>\n",
       "      <td>0.891640</td>\n",
       "      <td>0.945260</td>\n",
       "      <td>7.56</td>\n",
       "      <td>2.362414</td>\n",
       "      <td>0.069774</td>\n",
       "      <td>1.000000e+00</td>\n",
       "      <td>1</td>\n",
       "    </tr>\n",
       "    <tr>\n",
       "      <th>37</th>\n",
       "      <td>1</td>\n",
       "      <td>2018090901</td>\n",
       "      <td>1021</td>\n",
       "      <td>2556475</td>\n",
       "      <td>Briean Boddy-Calhoun</td>\n",
       "      <td>CB</td>\n",
       "      <td>0.343012</td>\n",
       "      <td>18.101456</td>\n",
       "      <td>20.515757</td>\n",
       "      <td>3.052540</td>\n",
       "      <td>...</td>\n",
       "      <td>2.940504</td>\n",
       "      <td>4.609864</td>\n",
       "      <td>0.991290</td>\n",
       "      <td>0.964862</td>\n",
       "      <td>0.978076</td>\n",
       "      <td>95.98</td>\n",
       "      <td>17.576646</td>\n",
       "      <td>0.170564</td>\n",
       "      <td>1.000000e+00</td>\n",
       "      <td>1</td>\n",
       "    </tr>\n",
       "    <tr>\n",
       "      <th>38</th>\n",
       "      <td>1</td>\n",
       "      <td>2018090901</td>\n",
       "      <td>1021</td>\n",
       "      <td>2560916</td>\n",
       "      <td>Denzel Ward</td>\n",
       "      <td>CB</td>\n",
       "      <td>0.000432</td>\n",
       "      <td>6.361468</td>\n",
       "      <td>4.872804</td>\n",
       "      <td>7.352273</td>\n",
       "      <td>...</td>\n",
       "      <td>1.736959</td>\n",
       "      <td>1.082081</td>\n",
       "      <td>0.992915</td>\n",
       "      <td>0.994763</td>\n",
       "      <td>0.993839</td>\n",
       "      <td>81.74</td>\n",
       "      <td>3.410586</td>\n",
       "      <td>0.301733</td>\n",
       "      <td>1.398099e-09</td>\n",
       "      <td>0</td>\n",
       "    </tr>\n",
       "    <tr>\n",
       "      <th>32</th>\n",
       "      <td>1</td>\n",
       "      <td>2018090901</td>\n",
       "      <td>1021</td>\n",
       "      <td>2555540</td>\n",
       "      <td>Derrick Kindred</td>\n",
       "      <td>SS</td>\n",
       "      <td>0.075276</td>\n",
       "      <td>8.029269</td>\n",
       "      <td>6.707487</td>\n",
       "      <td>3.191094</td>\n",
       "      <td>...</td>\n",
       "      <td>6.087359</td>\n",
       "      <td>7.193025</td>\n",
       "      <td>0.853364</td>\n",
       "      <td>0.907460</td>\n",
       "      <td>0.880412</td>\n",
       "      <td>129.18</td>\n",
       "      <td>7.353217</td>\n",
       "      <td>0.105059</td>\n",
       "      <td>1.000000e+00</td>\n",
       "      <td>1</td>\n",
       "    </tr>\n",
       "    <tr>\n",
       "      <th>32</th>\n",
       "      <td>1</td>\n",
       "      <td>2018090901</td>\n",
       "      <td>1021</td>\n",
       "      <td>2555540</td>\n",
       "      <td>Derrick Kindred</td>\n",
       "      <td>SS</td>\n",
       "      <td>0.075276</td>\n",
       "      <td>8.029269</td>\n",
       "      <td>6.707487</td>\n",
       "      <td>3.191094</td>\n",
       "      <td>...</td>\n",
       "      <td>6.087359</td>\n",
       "      <td>7.193025</td>\n",
       "      <td>0.853364</td>\n",
       "      <td>0.907460</td>\n",
       "      <td>0.880412</td>\n",
       "      <td>129.18</td>\n",
       "      <td>7.353217</td>\n",
       "      <td>0.105059</td>\n",
       "      <td>1.000000e+00</td>\n",
       "      <td>1</td>\n",
       "    </tr>\n",
       "  </tbody>\n",
       "</table>\n",
       "<p>6 rows × 29 columns</p>\n",
       "</div>"
      ],
      "text/plain": [
       "    week      gameId  playId    nflId           displayName position  \\\n",
       "35     1  2018090901    1021  2543637     Terrance Mitchell       CB   \n",
       "36     1  2018090901    1021  2552389     Damarious Randall       CB   \n",
       "37     1  2018090901    1021  2556475  Briean Boddy-Calhoun       CB   \n",
       "38     1  2018090901    1021  2560916           Denzel Ward       CB   \n",
       "32     1  2018090901    1021  2555540       Derrick Kindred       SS   \n",
       "32     1  2018090901    1021  2555540       Derrick Kindred       SS   \n",
       "\n",
       "    off_var_time_0  off_var_time_0_1  off_var_time_1  off_mean_time_0  ...  \\\n",
       "35        0.022246         10.115166        9.158109         9.494955  ...   \n",
       "36        0.001037         44.251250       41.992550        20.960222  ...   \n",
       "37        0.343012         18.101456       20.515757         3.052540  ...   \n",
       "38        0.000432          6.361468        4.872804         7.352273  ...   \n",
       "32        0.075276          8.029269        6.707487         3.191094  ...   \n",
       "32        0.075276          8.029269        6.707487         3.191094  ...   \n",
       "\n",
       "    rat_75th_quartile_time_0_1  rat_75th_quartile_time_1  \\\n",
       "35                    4.274940                  4.195009   \n",
       "36                    7.315497                  8.390587   \n",
       "37                    2.940504                  4.609864   \n",
       "38                    1.736959                  1.082081   \n",
       "32                    6.087359                  7.193025   \n",
       "32                    6.087359                  7.193025   \n",
       "\n",
       "    cor_rot_best_x_time_1  cor_rot_best_y_time_1  cor_rot_best_x_y_time_1  \\\n",
       "35               0.980101               0.993809                 0.986955   \n",
       "36               0.998881               0.891640                 0.945260   \n",
       "37               0.991290               0.964862                 0.978076   \n",
       "38               0.992915               0.994763                 0.993839   \n",
       "32               0.853364               0.907460                 0.880412   \n",
       "32               0.853364               0.907460                 0.880412   \n",
       "\n",
       "    cb_off_dir_diff_qb_sack  cb_off_dist_qb_sack  cor_dist_inter  \\\n",
       "35                    18.54             2.500000        0.184860   \n",
       "36                     7.56             2.362414        0.069774   \n",
       "37                    95.98            17.576646        0.170564   \n",
       "38                    81.74             3.410586        0.301733   \n",
       "32                   129.18             7.353217        0.105059   \n",
       "32                   129.18             7.353217        0.105059   \n",
       "\n",
       "    zone_probability  zone_flag  \n",
       "35      1.000000e+00          1  \n",
       "36      1.000000e+00          1  \n",
       "37      1.000000e+00          1  \n",
       "38      1.398099e-09          0  \n",
       "32      1.000000e+00          1  \n",
       "32      1.000000e+00          1  \n",
       "\n",
       "[6 rows x 29 columns]"
      ]
     },
     "execution_count": 143,
     "metadata": {},
     "output_type": "execute_result"
    }
   ],
   "source": [
    "sacks_df[(sacks_df[\"gameId\"] == 2018090901) & (sacks_df[\"playId\"] == 1021)]"
   ]
  },
  {
   "cell_type": "code",
   "execution_count": 285,
   "metadata": {},
   "outputs": [
    {
     "data": {
      "text/html": [
       "<div>\n",
       "<style scoped>\n",
       "    .dataframe tbody tr th:only-of-type {\n",
       "        vertical-align: middle;\n",
       "    }\n",
       "\n",
       "    .dataframe tbody tr th {\n",
       "        vertical-align: top;\n",
       "    }\n",
       "\n",
       "    .dataframe thead th {\n",
       "        text-align: right;\n",
       "    }\n",
       "</style>\n",
       "<table border=\"1\" class=\"dataframe\">\n",
       "  <thead>\n",
       "    <tr style=\"text-align: right;\">\n",
       "      <th></th>\n",
       "      <th>displayName</th>\n",
       "      <th>off_mean_time_0_1</th>\n",
       "    </tr>\n",
       "  </thead>\n",
       "  <tbody>\n",
       "    <tr>\n",
       "      <th>35</th>\n",
       "      <td>Terrance Mitchell</td>\n",
       "      <td>5.950857</td>\n",
       "    </tr>\n",
       "    <tr>\n",
       "      <th>36</th>\n",
       "      <td>Damarious Randall</td>\n",
       "      <td>14.121028</td>\n",
       "    </tr>\n",
       "    <tr>\n",
       "      <th>37</th>\n",
       "      <td>Briean Boddy-Calhoun</td>\n",
       "      <td>5.196362</td>\n",
       "    </tr>\n",
       "    <tr>\n",
       "      <th>38</th>\n",
       "      <td>Denzel Ward</td>\n",
       "      <td>3.931347</td>\n",
       "    </tr>\n",
       "    <tr>\n",
       "      <th>32</th>\n",
       "      <td>Derrick Kindred</td>\n",
       "      <td>6.702678</td>\n",
       "    </tr>\n",
       "    <tr>\n",
       "      <th>32</th>\n",
       "      <td>Derrick Kindred</td>\n",
       "      <td>6.702678</td>\n",
       "    </tr>\n",
       "  </tbody>\n",
       "</table>\n",
       "</div>"
      ],
      "text/plain": [
       "             displayName  off_mean_time_0_1\n",
       "35     Terrance Mitchell           5.950857\n",
       "36     Damarious Randall          14.121028\n",
       "37  Briean Boddy-Calhoun           5.196362\n",
       "38           Denzel Ward           3.931347\n",
       "32       Derrick Kindred           6.702678\n",
       "32       Derrick Kindred           6.702678"
      ]
     },
     "execution_count": 285,
     "metadata": {},
     "output_type": "execute_result"
    }
   ],
   "source": [
    "sacks_df[(sacks_df[\"gameId\"] == 2018090901) & (sacks_df[\"playId\"] == 1021)][[\"displayName\"] + \\\n",
    "                            list(sacks_df.columns[['off_mean_time_0_1' in x for x in sacks_df.columns]])]"
   ]
  },
  {
   "cell_type": "code",
   "execution_count": null,
   "metadata": {
    "collapsed": true
   },
   "outputs": [],
   "source": []
  }
 ],
 "metadata": {
  "kernelspec": {
   "display_name": "Python 3",
   "language": "python",
   "name": "python3"
  },
  "language_info": {
   "codemirror_mode": {
    "name": "ipython",
    "version": 3
   },
   "file_extension": ".py",
   "mimetype": "text/x-python",
   "name": "python",
   "nbconvert_exporter": "python",
   "pygments_lexer": "ipython3",
   "version": "3.6.3"
  }
 },
 "nbformat": 4,
 "nbformat_minor": 2
}
