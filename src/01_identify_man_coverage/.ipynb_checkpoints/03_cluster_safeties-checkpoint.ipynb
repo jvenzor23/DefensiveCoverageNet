{
 "cells": [
  {
   "cell_type": "code",
   "execution_count": 1,
   "metadata": {
    "collapsed": true
   },
   "outputs": [],
   "source": [
    "# importing important libraries\n",
    "import matplotlib as plt\n",
    "%matplotlib inline\n",
    "import numpy as np\n",
    "from sklearn import mixture\n",
    "import pandas as pd\n",
    "import seaborn as sns"
   ]
  },
  {
   "cell_type": "code",
   "execution_count": 2,
   "metadata": {},
   "outputs": [
    {
     "data": {
      "text/html": [
       "\n",
       "<style>\n",
       ".output_png {\n",
       "    display: table-cell;\n",
       "    text-align: center;\n",
       "    vertical-align: middle;\n",
       "}\n",
       "</style>\n"
      ],
      "text/plain": [
       "<IPython.core.display.HTML object>"
      ]
     },
     "execution_count": 2,
     "metadata": {},
     "output_type": "execute_result"
    }
   ],
   "source": [
    "from IPython.core.display import HTML\n",
    "HTML(\"\"\"\n",
    "<style>\n",
    ".output_png {\n",
    "    display: table-cell;\n",
    "    text-align: center;\n",
    "    vertical-align: middle;\n",
    "}\n",
    "</style>\n",
    "\"\"\")"
   ]
  },
  {
   "cell_type": "markdown",
   "metadata": {},
   "source": [
    "# Reading in the Data"
   ]
  },
  {
   "cell_type": "code",
   "execution_count": 3,
   "metadata": {},
   "outputs": [
    {
     "data": {
      "text/plain": [
       "(34350, 157)"
      ]
     },
     "execution_count": 3,
     "metadata": {},
     "output_type": "execute_result"
    }
   ],
   "source": [
    "pass_attempt_df = \\\n",
    "    pd.read_csv(\"~/Desktop/CoverageNet/src/01_identify_man_coverage/outputs/safeties_pass_attempts_man_zone_gmm_features.csv\")\n",
    "pass_attempt_df.shape"
   ]
  },
  {
   "cell_type": "code",
   "execution_count": 5,
   "metadata": {},
   "outputs": [
    {
     "data": {
      "text/plain": [
       "(2496, 98)"
      ]
     },
     "execution_count": 5,
     "metadata": {},
     "output_type": "execute_result"
    }
   ],
   "source": [
    "sacks_df = \\\n",
    "    pd.read_csv(\"~/Desktop/CoverageNet/src/01_identify_man_coverage/outputs/safeties_sacks_man_zone_gmm_features.csv\")\n",
    "sacks_df.shape"
   ]
  },
  {
   "cell_type": "code",
   "execution_count": 6,
   "metadata": {
    "scrolled": true
   },
   "outputs": [
    {
     "data": {
      "text/plain": [
       "array([ 1,  2,  3,  4,  5,  6,  7,  8,  9, 10, 11, 12, 13, 14, 15, 16, 17])"
      ]
     },
     "execution_count": 6,
     "metadata": {},
     "output_type": "execute_result"
    }
   ],
   "source": [
    "# printing the number of weeks of data available\n",
    "np.unique(pass_attempt_df['week'])"
   ]
  },
  {
   "cell_type": "markdown",
   "metadata": {},
   "source": [
    "# Clustering Pass Attempt Coverage"
   ]
  },
  {
   "cell_type": "code",
   "execution_count": 7,
   "metadata": {},
   "outputs": [
    {
     "data": {
      "text/plain": [
       "Index(['week', 'gameId', 'playId', 'nflId', 'displayName', 'position',\n",
       "       'var_x_time_0', 'var_x_time_0_1', 'var_x_time_1', 'var_x_time_1_2',\n",
       "       ...\n",
       "       'best_cor_y_time_0', 'best_cor_y_time_0_1', 'best_cor_y_time_1',\n",
       "       'best_cor_y_time_1_2', 'best_cor_y_time_2', 'best_cor_x_y_avg_time_0',\n",
       "       'best_cor_x_y_avg_time_0_1', 'best_cor_x_y_avg_time_1',\n",
       "       'best_cor_x_y_avg_time_1_2', 'best_cor_x_y_avg_time_2'],\n",
       "      dtype='object', length=157)"
      ]
     },
     "execution_count": 7,
     "metadata": {},
     "output_type": "execute_result"
    }
   ],
   "source": [
    "pass_attempt_df.columns"
   ]
  },
  {
   "cell_type": "code",
   "execution_count": 8,
   "metadata": {},
   "outputs": [
    {
     "data": {
      "text/html": [
       "<div>\n",
       "<style scoped>\n",
       "    .dataframe tbody tr th:only-of-type {\n",
       "        vertical-align: middle;\n",
       "    }\n",
       "\n",
       "    .dataframe tbody tr th {\n",
       "        vertical-align: top;\n",
       "    }\n",
       "\n",
       "    .dataframe thead th {\n",
       "        text-align: right;\n",
       "    }\n",
       "</style>\n",
       "<table border=\"1\" class=\"dataframe\">\n",
       "  <thead>\n",
       "    <tr style=\"text-align: right;\">\n",
       "      <th></th>\n",
       "      <th>week</th>\n",
       "      <th>gameId</th>\n",
       "      <th>playId</th>\n",
       "      <th>nflId</th>\n",
       "      <th>displayName</th>\n",
       "      <th>position</th>\n",
       "      <th>var_x_time_0</th>\n",
       "      <th>var_x_time_0_1</th>\n",
       "      <th>var_x_time_1</th>\n",
       "      <th>var_x_time_1_2</th>\n",
       "      <th>...</th>\n",
       "      <th>best_cor_y_time_0</th>\n",
       "      <th>best_cor_y_time_0_1</th>\n",
       "      <th>best_cor_y_time_1</th>\n",
       "      <th>best_cor_y_time_1_2</th>\n",
       "      <th>best_cor_y_time_2</th>\n",
       "      <th>best_cor_x_y_avg_time_0</th>\n",
       "      <th>best_cor_x_y_avg_time_0_1</th>\n",
       "      <th>best_cor_x_y_avg_time_1</th>\n",
       "      <th>best_cor_x_y_avg_time_1_2</th>\n",
       "      <th>best_cor_x_y_avg_time_2</th>\n",
       "    </tr>\n",
       "  </thead>\n",
       "  <tbody>\n",
       "    <tr>\n",
       "      <th>0</th>\n",
       "      <td>1</td>\n",
       "      <td>2018090600</td>\n",
       "      <td>75</td>\n",
       "      <td>79848</td>\n",
       "      <td>Malcolm Jenkins</td>\n",
       "      <td>SS</td>\n",
       "      <td>0.000040</td>\n",
       "      <td>1.166744</td>\n",
       "      <td>1.381777</td>\n",
       "      <td>5.612926</td>\n",
       "      <td>...</td>\n",
       "      <td>0.301511</td>\n",
       "      <td>0.917693</td>\n",
       "      <td>0.932557</td>\n",
       "      <td>0.967925</td>\n",
       "      <td>0.986645</td>\n",
       "      <td>0.150756</td>\n",
       "      <td>0.940998</td>\n",
       "      <td>0.947474</td>\n",
       "      <td>0.977409</td>\n",
       "      <td>0.992447</td>\n",
       "    </tr>\n",
       "    <tr>\n",
       "      <th>1</th>\n",
       "      <td>1</td>\n",
       "      <td>2018090600</td>\n",
       "      <td>75</td>\n",
       "      <td>2495613</td>\n",
       "      <td>Corey Graham</td>\n",
       "      <td>FS</td>\n",
       "      <td>0.002623</td>\n",
       "      <td>0.101000</td>\n",
       "      <td>0.087121</td>\n",
       "      <td>1.271656</td>\n",
       "      <td>...</td>\n",
       "      <td>0.446596</td>\n",
       "      <td>0.427578</td>\n",
       "      <td>0.969825</td>\n",
       "      <td>0.988005</td>\n",
       "      <td>0.893565</td>\n",
       "      <td>0.223298</td>\n",
       "      <td>0.491547</td>\n",
       "      <td>0.487907</td>\n",
       "      <td>0.888162</td>\n",
       "      <td>0.940889</td>\n",
       "    </tr>\n",
       "    <tr>\n",
       "      <th>2</th>\n",
       "      <td>1</td>\n",
       "      <td>2018090600</td>\n",
       "      <td>75</td>\n",
       "      <td>2534832</td>\n",
       "      <td>Rodney McLeod</td>\n",
       "      <td>FS</td>\n",
       "      <td>0.000117</td>\n",
       "      <td>1.428437</td>\n",
       "      <td>1.601692</td>\n",
       "      <td>3.067787</td>\n",
       "      <td>...</td>\n",
       "      <td>0.763763</td>\n",
       "      <td>0.869607</td>\n",
       "      <td>0.909540</td>\n",
       "      <td>0.985349</td>\n",
       "      <td>0.999951</td>\n",
       "      <td>0.381881</td>\n",
       "      <td>0.930229</td>\n",
       "      <td>0.949713</td>\n",
       "      <td>0.987079</td>\n",
       "      <td>0.994205</td>\n",
       "    </tr>\n",
       "    <tr>\n",
       "      <th>3</th>\n",
       "      <td>1</td>\n",
       "      <td>2018090600</td>\n",
       "      <td>146</td>\n",
       "      <td>79848</td>\n",
       "      <td>Malcolm Jenkins</td>\n",
       "      <td>SS</td>\n",
       "      <td>0.028806</td>\n",
       "      <td>0.031856</td>\n",
       "      <td>0.007075</td>\n",
       "      <td>0.136913</td>\n",
       "      <td>...</td>\n",
       "      <td>0.670661</td>\n",
       "      <td>0.992019</td>\n",
       "      <td>0.996112</td>\n",
       "      <td>0.995376</td>\n",
       "      <td>0.999138</td>\n",
       "      <td>0.780591</td>\n",
       "      <td>0.407083</td>\n",
       "      <td>0.805154</td>\n",
       "      <td>0.913364</td>\n",
       "      <td>0.999173</td>\n",
       "    </tr>\n",
       "    <tr>\n",
       "      <th>4</th>\n",
       "      <td>1</td>\n",
       "      <td>2018090600</td>\n",
       "      <td>146</td>\n",
       "      <td>2534832</td>\n",
       "      <td>Rodney McLeod</td>\n",
       "      <td>FS</td>\n",
       "      <td>0.001173</td>\n",
       "      <td>0.110424</td>\n",
       "      <td>0.113656</td>\n",
       "      <td>0.108629</td>\n",
       "      <td>...</td>\n",
       "      <td>0.666667</td>\n",
       "      <td>0.993856</td>\n",
       "      <td>0.996690</td>\n",
       "      <td>0.997926</td>\n",
       "      <td>0.996815</td>\n",
       "      <td>0.333333</td>\n",
       "      <td>0.991989</td>\n",
       "      <td>0.994843</td>\n",
       "      <td>0.894573</td>\n",
       "      <td>0.498407</td>\n",
       "    </tr>\n",
       "    <tr>\n",
       "      <th>5</th>\n",
       "      <td>1</td>\n",
       "      <td>2018090600</td>\n",
       "      <td>168</td>\n",
       "      <td>79848</td>\n",
       "      <td>Malcolm Jenkins</td>\n",
       "      <td>SS</td>\n",
       "      <td>0.028468</td>\n",
       "      <td>1.218216</td>\n",
       "      <td>1.159298</td>\n",
       "      <td>4.019429</td>\n",
       "      <td>...</td>\n",
       "      <td>0.166667</td>\n",
       "      <td>0.997760</td>\n",
       "      <td>0.997523</td>\n",
       "      <td>0.816806</td>\n",
       "      <td>0.972542</td>\n",
       "      <td>0.578936</td>\n",
       "      <td>0.991354</td>\n",
       "      <td>0.992313</td>\n",
       "      <td>0.907166</td>\n",
       "      <td>0.967231</td>\n",
       "    </tr>\n",
       "    <tr>\n",
       "      <th>6</th>\n",
       "      <td>1</td>\n",
       "      <td>2018090600</td>\n",
       "      <td>168</td>\n",
       "      <td>2534832</td>\n",
       "      <td>Rodney McLeod</td>\n",
       "      <td>FS</td>\n",
       "      <td>0.000388</td>\n",
       "      <td>0.000863</td>\n",
       "      <td>0.000927</td>\n",
       "      <td>0.871543</td>\n",
       "      <td>...</td>\n",
       "      <td>0.500000</td>\n",
       "      <td>0.864665</td>\n",
       "      <td>0.871272</td>\n",
       "      <td>0.970323</td>\n",
       "      <td>0.990507</td>\n",
       "      <td>0.627923</td>\n",
       "      <td>0.757865</td>\n",
       "      <td>0.749660</td>\n",
       "      <td>0.848212</td>\n",
       "      <td>0.903267</td>\n",
       "    </tr>\n",
       "    <tr>\n",
       "      <th>7</th>\n",
       "      <td>1</td>\n",
       "      <td>2018090600</td>\n",
       "      <td>190</td>\n",
       "      <td>79848</td>\n",
       "      <td>Malcolm Jenkins</td>\n",
       "      <td>SS</td>\n",
       "      <td>0.121334</td>\n",
       "      <td>5.880573</td>\n",
       "      <td>3.830211</td>\n",
       "      <td>5.781740</td>\n",
       "      <td>...</td>\n",
       "      <td>0.933806</td>\n",
       "      <td>0.213127</td>\n",
       "      <td>0.657844</td>\n",
       "      <td>0.856207</td>\n",
       "      <td>0.938802</td>\n",
       "      <td>0.956959</td>\n",
       "      <td>0.588050</td>\n",
       "      <td>0.822593</td>\n",
       "      <td>0.838513</td>\n",
       "      <td>0.092874</td>\n",
       "    </tr>\n",
       "    <tr>\n",
       "      <th>8</th>\n",
       "      <td>1</td>\n",
       "      <td>2018090600</td>\n",
       "      <td>190</td>\n",
       "      <td>2495613</td>\n",
       "      <td>Corey Graham</td>\n",
       "      <td>FS</td>\n",
       "      <td>0.109521</td>\n",
       "      <td>6.105973</td>\n",
       "      <td>4.689615</td>\n",
       "      <td>13.428011</td>\n",
       "      <td>...</td>\n",
       "      <td>0.591108</td>\n",
       "      <td>0.529000</td>\n",
       "      <td>0.514270</td>\n",
       "      <td>0.942824</td>\n",
       "      <td>0.999663</td>\n",
       "      <td>0.519904</td>\n",
       "      <td>0.753627</td>\n",
       "      <td>0.752364</td>\n",
       "      <td>0.970513</td>\n",
       "      <td>0.999066</td>\n",
       "    </tr>\n",
       "    <tr>\n",
       "      <th>9</th>\n",
       "      <td>1</td>\n",
       "      <td>2018090600</td>\n",
       "      <td>190</td>\n",
       "      <td>2534832</td>\n",
       "      <td>Rodney McLeod</td>\n",
       "      <td>FS</td>\n",
       "      <td>0.048204</td>\n",
       "      <td>0.108611</td>\n",
       "      <td>0.125185</td>\n",
       "      <td>0.390225</td>\n",
       "      <td>...</td>\n",
       "      <td>0.606070</td>\n",
       "      <td>0.998051</td>\n",
       "      <td>0.998073</td>\n",
       "      <td>0.950927</td>\n",
       "      <td>0.990505</td>\n",
       "      <td>0.116384</td>\n",
       "      <td>0.906997</td>\n",
       "      <td>0.949323</td>\n",
       "      <td>0.769886</td>\n",
       "      <td>0.835551</td>\n",
       "    </tr>\n",
       "  </tbody>\n",
       "</table>\n",
       "<p>10 rows × 157 columns</p>\n",
       "</div>"
      ],
      "text/plain": [
       "   week      gameId  playId    nflId      displayName position  var_x_time_0  \\\n",
       "0     1  2018090600      75    79848  Malcolm Jenkins       SS      0.000040   \n",
       "1     1  2018090600      75  2495613     Corey Graham       FS      0.002623   \n",
       "2     1  2018090600      75  2534832    Rodney McLeod       FS      0.000117   \n",
       "3     1  2018090600     146    79848  Malcolm Jenkins       SS      0.028806   \n",
       "4     1  2018090600     146  2534832    Rodney McLeod       FS      0.001173   \n",
       "5     1  2018090600     168    79848  Malcolm Jenkins       SS      0.028468   \n",
       "6     1  2018090600     168  2534832    Rodney McLeod       FS      0.000388   \n",
       "7     1  2018090600     190    79848  Malcolm Jenkins       SS      0.121334   \n",
       "8     1  2018090600     190  2495613     Corey Graham       FS      0.109521   \n",
       "9     1  2018090600     190  2534832    Rodney McLeod       FS      0.048204   \n",
       "\n",
       "   var_x_time_0_1  var_x_time_1  var_x_time_1_2  ...  best_cor_y_time_0  \\\n",
       "0        1.166744      1.381777        5.612926  ...           0.301511   \n",
       "1        0.101000      0.087121        1.271656  ...           0.446596   \n",
       "2        1.428437      1.601692        3.067787  ...           0.763763   \n",
       "3        0.031856      0.007075        0.136913  ...           0.670661   \n",
       "4        0.110424      0.113656        0.108629  ...           0.666667   \n",
       "5        1.218216      1.159298        4.019429  ...           0.166667   \n",
       "6        0.000863      0.000927        0.871543  ...           0.500000   \n",
       "7        5.880573      3.830211        5.781740  ...           0.933806   \n",
       "8        6.105973      4.689615       13.428011  ...           0.591108   \n",
       "9        0.108611      0.125185        0.390225  ...           0.606070   \n",
       "\n",
       "   best_cor_y_time_0_1  best_cor_y_time_1  best_cor_y_time_1_2  \\\n",
       "0             0.917693           0.932557             0.967925   \n",
       "1             0.427578           0.969825             0.988005   \n",
       "2             0.869607           0.909540             0.985349   \n",
       "3             0.992019           0.996112             0.995376   \n",
       "4             0.993856           0.996690             0.997926   \n",
       "5             0.997760           0.997523             0.816806   \n",
       "6             0.864665           0.871272             0.970323   \n",
       "7             0.213127           0.657844             0.856207   \n",
       "8             0.529000           0.514270             0.942824   \n",
       "9             0.998051           0.998073             0.950927   \n",
       "\n",
       "   best_cor_y_time_2  best_cor_x_y_avg_time_0  best_cor_x_y_avg_time_0_1  \\\n",
       "0           0.986645                 0.150756                   0.940998   \n",
       "1           0.893565                 0.223298                   0.491547   \n",
       "2           0.999951                 0.381881                   0.930229   \n",
       "3           0.999138                 0.780591                   0.407083   \n",
       "4           0.996815                 0.333333                   0.991989   \n",
       "5           0.972542                 0.578936                   0.991354   \n",
       "6           0.990507                 0.627923                   0.757865   \n",
       "7           0.938802                 0.956959                   0.588050   \n",
       "8           0.999663                 0.519904                   0.753627   \n",
       "9           0.990505                 0.116384                   0.906997   \n",
       "\n",
       "   best_cor_x_y_avg_time_1  best_cor_x_y_avg_time_1_2  best_cor_x_y_avg_time_2  \n",
       "0                 0.947474                   0.977409                 0.992447  \n",
       "1                 0.487907                   0.888162                 0.940889  \n",
       "2                 0.949713                   0.987079                 0.994205  \n",
       "3                 0.805154                   0.913364                 0.999173  \n",
       "4                 0.994843                   0.894573                 0.498407  \n",
       "5                 0.992313                   0.907166                 0.967231  \n",
       "6                 0.749660                   0.848212                 0.903267  \n",
       "7                 0.822593                   0.838513                 0.092874  \n",
       "8                 0.752364                   0.970513                 0.999066  \n",
       "9                 0.949323                   0.769886                 0.835551  \n",
       "\n",
       "[10 rows x 157 columns]"
      ]
     },
     "execution_count": 8,
     "metadata": {},
     "output_type": "execute_result"
    }
   ],
   "source": [
    "pass_attempt_df.head(10)"
   ]
  },
  {
   "cell_type": "code",
   "execution_count": 9,
   "metadata": {},
   "outputs": [
    {
     "data": {
      "text/plain": [
       "<matplotlib.axes._subplots.AxesSubplot at 0x10696b390>"
      ]
     },
     "execution_count": 9,
     "metadata": {},
     "output_type": "execute_result"
    },
    {
     "data": {
      "image/png": "[encoded data removed]",
      "text/plain": [
       "<matplotlib.figure.Figure at 0x10924f438>"
      ]
     },
     "metadata": {},
     "output_type": "display_data"
    }
   ],
   "source": [
    "sns.kdeplot(data=np.array(pass_attempt_df[\"best_cor_x_y_avg_time_1_2\"]))"
   ]
  },
  {
   "cell_type": "code",
   "execution_count": 10,
   "metadata": {},
   "outputs": [
    {
     "data": {
      "text/plain": [
       "<matplotlib.axes._subplots.AxesSubplot at 0x11d489828>"
      ]
     },
     "execution_count": 10,
     "metadata": {},
     "output_type": "execute_result"
    },
    {
     "data": {
      "image/png": "[encoded data removed]",
      "text/plain": [
       "<matplotlib.figure.Figure at 0x11d4ac160>"
      ]
     },
     "metadata": {},
     "output_type": "display_data"
    }
   ],
   "source": [
    "sns.kdeplot(data=np.array(pass_attempt_df[\"off_mean_between_ball_snap_and_pass_forward\"]))"
   ]
  },
  {
   "cell_type": "code",
   "execution_count": 11,
   "metadata": {},
   "outputs": [
    {
     "data": {
      "text/plain": [
       "<matplotlib.axes._subplots.AxesSubplot at 0x122f55d30>"
      ]
     },
     "execution_count": 11,
     "metadata": {},
     "output_type": "execute_result"
    },
    {
     "data": {
      "image/png": "[encoded data removed]",
      "text/plain": [
       "<matplotlib.figure.Figure at 0x122f3bfd0>"
      ]
     },
     "metadata": {},
     "output_type": "display_data"
    }
   ],
   "source": [
    "sns.kdeplot(data=np.array(pass_attempt_df[\"ratio_pass_forward\"]))"
   ]
  },
  {
   "cell_type": "code",
   "execution_count": 12,
   "metadata": {},
   "outputs": [
    {
     "data": {
      "text/plain": [
       "<matplotlib.axes._subplots.AxesSubplot at 0x122ffd470>"
      ]
     },
     "execution_count": 12,
     "metadata": {},
     "output_type": "execute_result"
    },
    {
     "data": {
      "image/png": "[encoded data removed]",
      "text/plain": [
       "<matplotlib.figure.Figure at 0x109e4d320>"
      ]
     },
     "metadata": {},
     "output_type": "display_data"
    }
   ],
   "source": [
    "sns.kdeplot(data=np.array(pass_attempt_df[\"off_mean_time_1\"]))"
   ]
  },
  {
   "cell_type": "code",
   "execution_count": 13,
   "metadata": {},
   "outputs": [
    {
     "data": {
      "text/plain": [
       "<matplotlib.axes._subplots.AxesSubplot at 0x10a9fb0f0>"
      ]
     },
     "execution_count": 13,
     "metadata": {},
     "output_type": "execute_result"
    },
    {
     "data": {
      "image/png": "[encoded data removed]",
      "text/plain": [
       "<matplotlib.figure.Figure at 0x10aa08ef0>"
      ]
     },
     "metadata": {},
     "output_type": "display_data"
    }
   ],
   "source": [
    "sns.kdeplot(data=np.array(pass_attempt_df[\"cb_off_dist_ball_snap\"]))"
   ]
  },
  {
   "cell_type": "code",
   "execution_count": 14,
   "metadata": {},
   "outputs": [
    {
     "data": {
      "text/plain": [
       "Index(['week', 'gameId', 'playId', 'nflId', 'displayName', 'position',\n",
       "       'var_x_time_0', 'var_x_time_0_1', 'var_x_time_1', 'var_x_time_1_2',\n",
       "       ...\n",
       "       'best_cor_y_time_0', 'best_cor_y_time_0_1', 'best_cor_y_time_1',\n",
       "       'best_cor_y_time_1_2', 'best_cor_y_time_2', 'best_cor_x_y_avg_time_0',\n",
       "       'best_cor_x_y_avg_time_0_1', 'best_cor_x_y_avg_time_1',\n",
       "       'best_cor_x_y_avg_time_1_2', 'best_cor_x_y_avg_time_2'],\n",
       "      dtype='object', length=157)"
      ]
     },
     "execution_count": 14,
     "metadata": {},
     "output_type": "execute_result"
    }
   ],
   "source": [
    "pass_attempt_df.columns"
   ]
  },
  {
   "cell_type": "code",
   "execution_count": 15,
   "metadata": {
    "collapsed": true
   },
   "outputs": [],
   "source": [
    "pass_attempt_df = pass_attempt_df[['week', 'gameId', 'playId', 'nflId', 'displayName', 'position',\n",
    "                                  'best_cor_x_y_avg_time_1_2','off_mean_between_ball_snap_and_pass_forward',\n",
    "                                   'ratio_pass_forward','cb_off_dist_ball_snap']]"
   ]
  },
  {
   "cell_type": "code",
   "execution_count": 16,
   "metadata": {
    "collapsed": true
   },
   "outputs": [],
   "source": [
    "pass_attempt_df[\"off_mean_between_ball_snap_and_pass_forward\"] = \\\n",
    "np.minimum(np.array(pass_attempt_df[\"off_mean_between_ball_snap_and_pass_forward\"]), 30)\n",
    "\n",
    "pass_attempt_df[\"ratio_pass_forward\"] = \\\n",
    "np.minimum(np.array(pass_attempt_df[\"ratio_pass_forward\"]), 10)"
   ]
  },
  {
   "cell_type": "markdown",
   "metadata": {},
   "source": [
    "### Preparing Train/Test Groups"
   ]
  },
  {
   "cell_type": "code",
   "execution_count": 17,
   "metadata": {
    "collapsed": true
   },
   "outputs": [],
   "source": [
    "weeks_exclude = [1, 2, 3]\n",
    "train = pass_attempt_df[[x not in weeks_exclude for x in list(pass_attempt_df[\"week\"])]]\n",
    "test = pass_attempt_df[[x in weeks_exclude for x in list(pass_attempt_df[\"week\"])]]"
   ]
  },
  {
   "cell_type": "code",
   "execution_count": 18,
   "metadata": {
    "collapsed": true
   },
   "outputs": [],
   "source": [
    "X_train = train.drop(['week', 'gameId','playId','nflId','displayName','position'], axis = 1)\n",
    "X_test = test.drop(['week', 'gameId','playId','nflId','displayName','position'], axis = 1)"
   ]
  },
  {
   "cell_type": "code",
   "execution_count": 19,
   "metadata": {},
   "outputs": [
    {
     "name": "stdout",
     "output_type": "stream",
     "text": [
      "(27947, 4)\n",
      "(6403, 4)\n"
     ]
    }
   ],
   "source": [
    "print(X_train.shape)\n",
    "print(X_test.shape)"
   ]
  },
  {
   "cell_type": "markdown",
   "metadata": {},
   "source": [
    "### Fitting GMM Model"
   ]
  },
  {
   "cell_type": "code",
   "execution_count": 20,
   "metadata": {
    "collapsed": true
   },
   "outputs": [],
   "source": [
    "# train\n",
    "clf_train = mixture.GaussianMixture(n_components=3, covariance_type='full')\n",
    "f_train = clf_train.fit(X_train)"
   ]
  },
  {
   "cell_type": "code",
   "execution_count": 21,
   "metadata": {
    "collapsed": true
   },
   "outputs": [],
   "source": [
    "# test\n",
    "clf_test = mixture.GaussianMixture(n_components=3, covariance_type='full')\n",
    "f_test = clf_test.fit(X_test)"
   ]
  },
  {
   "cell_type": "code",
   "execution_count": 22,
   "metadata": {},
   "outputs": [
    {
     "data": {
      "text/plain": [
       "array([0.91833883, 0.96310451, 0.63972683])"
      ]
     },
     "execution_count": 22,
     "metadata": {},
     "output_type": "execute_result"
    }
   ],
   "source": [
    "f_test.means_[:,0]"
   ]
  },
  {
   "cell_type": "markdown",
   "metadata": {},
   "source": [
    "### Examining Cluster Results"
   ]
  },
  {
   "cell_type": "code",
   "execution_count": 23,
   "metadata": {
    "collapsed": true
   },
   "outputs": [],
   "source": [
    "def get_cluster_means(X, f):\n",
    "    cluster_means = {}\n",
    "    for iCnt in range(len(X.columns)):\n",
    "        cluster_means.update({X.columns[iCnt]:(list(f.means_[:,iCnt]))})\n",
    "    return cluster_means"
   ]
  },
  {
   "cell_type": "code",
   "execution_count": 24,
   "metadata": {},
   "outputs": [
    {
     "data": {
      "text/plain": [
       "{'best_cor_x_y_avg_time_1_2': [0.9624989570101817,\n",
       "  0.6340708961022634,\n",
       "  0.9276202203714465],\n",
       " 'cb_off_dist_ball_snap': [14.707246226293924,\n",
       "  12.804687504194868,\n",
       "  6.700827822656785],\n",
       " 'off_mean_between_ball_snap_and_pass_forward': [13.42274943572566,\n",
       "  10.533775106459,\n",
       "  4.488020143290062],\n",
       " 'ratio_pass_forward': [5.0846634826187245,\n",
       "  3.8870861819549885,\n",
       "  0.46770800778596605]}"
      ]
     },
     "execution_count": 24,
     "metadata": {},
     "output_type": "execute_result"
    }
   ],
   "source": [
    "get_cluster_means(X_train, f_train)"
   ]
  },
  {
   "cell_type": "markdown",
   "metadata": {
    "collapsed": true
   },
   "source": [
    "### Computing Rand Index"
   ]
  },
  {
   "cell_type": "code",
   "execution_count": 25,
   "metadata": {
    "collapsed": true
   },
   "outputs": [],
   "source": [
    "from sklearn.metrics import adjusted_rand_score"
   ]
  },
  {
   "cell_type": "code",
   "execution_count": 26,
   "metadata": {
    "collapsed": true
   },
   "outputs": [],
   "source": [
    "y_train = f_train.predict(X_test)\n",
    "y_test = f_test.predict(X_test)"
   ]
  },
  {
   "cell_type": "code",
   "execution_count": 27,
   "metadata": {},
   "outputs": [
    {
     "data": {
      "text/plain": [
       "array([0, 2, 0, ..., 1, 0, 1])"
      ]
     },
     "execution_count": 27,
     "metadata": {},
     "output_type": "execute_result"
    }
   ],
   "source": [
    "y_train"
   ]
  },
  {
   "cell_type": "code",
   "execution_count": 28,
   "metadata": {},
   "outputs": [
    {
     "data": {
      "text/plain": [
       "0.9269832545796063"
      ]
     },
     "execution_count": 28,
     "metadata": {},
     "output_type": "execute_result"
    }
   ],
   "source": [
    "adjusted_rand_score(y_train, y_test)"
   ]
  },
  {
   "cell_type": "markdown",
   "metadata": {},
   "source": [
    "### Iterating Through To Get Cross-Validation Scores"
   ]
  },
  {
   "cell_type": "code",
   "execution_count": 29,
   "metadata": {
    "collapsed": true
   },
   "outputs": [],
   "source": [
    "weeks_exclude_vect = [[1,2,3],[4,5,6],[7,8,9],[10,11,12],[13,14,15],[15,16,17]]\n",
    "G_vect = [2, 3, 4, 5, 6, 7, 8, 9]\n",
    "rand_index_G_vect = []"
   ]
  },
  {
   "cell_type": "code",
   "execution_count": 30,
   "metadata": {
    "scrolled": true
   },
   "outputs": [
    {
     "name": "stdout",
     "output_type": "stream",
     "text": [
      "0.9334402062378239\n",
      "0.9271051167136899\n",
      "0.5623022330186139\n",
      "0.8231194148116305\n",
      "0.752402286110799\n",
      "0.69672356763055\n",
      "0.7519931975143197\n",
      "0.7944607129155113\n"
     ]
    }
   ],
   "source": [
    "for G in G_vect:\n",
    "    rand_index_sum = 0\n",
    "    # iterating through the week groupings to leave out\n",
    "    for weeks_exclue in weeks_exclude_vect:\n",
    "        # creating train/test groups\n",
    "        train = pass_attempt_df[[x not in weeks_exclude for x in list(pass_attempt_df[\"week\"])]]\n",
    "        test = pass_attempt_df[[x in weeks_exclude for x in list(pass_attempt_df[\"week\"])]]\n",
    "\n",
    "        X_train = train.drop(['week', 'gameId','playId','nflId','displayName','position'], axis = 1)\n",
    "        X_test = test.drop(['week', 'gameId','playId','nflId','displayName','position'], axis = 1)\n",
    "\n",
    "        # train\n",
    "        clf_train = mixture.GaussianMixture(n_components=G, covariance_type='full', \n",
    "                                            n_init = 2, max_iter = 200)\n",
    "        f_train = clf_train.fit(X_train)\n",
    "\n",
    "        # test\n",
    "        clf_test = mixture.GaussianMixture(n_components=G, covariance_type='full',\n",
    "                                           n_init = 2, max_iter = 200)\n",
    "        f_test = clf_test.fit(X_test)\n",
    "\n",
    "        # classifying test group\n",
    "        y_train = f_train.predict(X_test)\n",
    "        y_test = f_test.predict(X_test)\n",
    "\n",
    "        # appling the adjusted rand index\n",
    "        rand_index_val = adjusted_rand_score(y_train, y_test)\n",
    "        rand_index_sum += rand_index_val\n",
    "\n",
    "    rand_index = rand_index_sum/len(weeks_exclude_vect)\n",
    "    \n",
    "    rand_index_G_vect.append(rand_index)\n",
    "    \n",
    "    print(rand_index)"
   ]
  },
  {
   "cell_type": "markdown",
   "metadata": {},
   "source": [
    "### Plot eliminating x/y var, speed, and def based variables, replacing Ratio with Cor"
   ]
  },
  {
   "cell_type": "code",
   "execution_count": 31,
   "metadata": {},
   "outputs": [
    {
     "data": {
      "image/png": "[encoded data removed]",
      "text/plain": [
       "<matplotlib.figure.Figure at 0x10aa28b00>"
      ]
     },
     "metadata": {},
     "output_type": "display_data"
    }
   ],
   "source": [
    "plt.pyplot.figure(figsize=(10, 6))\n",
    "# plotting the results\n",
    "plt.pyplot.bar(x = G_vect,\n",
    "               height = rand_index_G_vect,\n",
    "               width = .55)\n",
    "plt.pyplot.xlabel('Number of Clusters ($G*$)')\n",
    "plt.pyplot.ylabel('ARI Score')\n",
    "plt.pyplot.ylim(0,1)\n",
    "plt.pyplot.title('ARI Score vs. Number of Clusters')\n",
    "plt.pyplot.show()"
   ]
  },
  {
   "cell_type": "markdown",
   "metadata": {},
   "source": [
    "### Feature Importance"
   ]
  },
  {
   "cell_type": "code",
   "execution_count": 32,
   "metadata": {
    "collapsed": true
   },
   "outputs": [],
   "source": [
    "import sys\n",
    "weeks_exclude_vect = [[1,2,3],[4,5,6],[7,8,9],[10,11,12],[13,14,15],[15,16,17]]\n",
    "feature_list = list(X_train.columns)\n",
    "rand_index_vect = []\n",
    "\n",
    "# making a waitbar\n",
    "toolbar_width = len(feature_list)"
   ]
  },
  {
   "cell_type": "code",
   "execution_count": 33,
   "metadata": {},
   "outputs": [
    {
     "name": "stdout",
     "output_type": "stream",
     "text": [
      "[    ----"
     ]
    }
   ],
   "source": [
    "sys.stdout.write(\"[%s]\" % (\" \" * toolbar_width))\n",
    "sys.stdout.flush()\n",
    "sys.stdout.write(\"\\b\" * (toolbar_width+1))\n",
    "\n",
    "for feature in feature_list:\n",
    "    \n",
    "    rand_index_sum = 0\n",
    "\n",
    "    # iterating through the week groupings to leave out\n",
    "    for weeks_exclue in weeks_exclude_vect:\n",
    "        # creating train/test groups\n",
    "        train = pass_attempt_df[[x not in weeks_exclude for \\\n",
    "                                 x in list(pass_attempt_df[\"week\"])]].drop([feature], axis = 1)\n",
    "        test = pass_attempt_df[[x in weeks_exclude for \\\n",
    "                                x in list(pass_attempt_df[\"week\"])]].drop([feature], axis = 1)\n",
    "\n",
    "        X_train = train.drop(['week', 'gameId','playId','nflId','displayName','position'], axis = 1)\n",
    "        X_test = test.drop(['week', 'gameId','playId','nflId','displayName','position'], axis = 1)\n",
    "\n",
    "        # train\n",
    "        clf_train = mixture.GaussianMixture(n_components=3, covariance_type='full')\n",
    "        f_train = clf_train.fit(X_train)\n",
    "\n",
    "        # test\n",
    "        clf_test = mixture.GaussianMixture(n_components=3, covariance_type='full')\n",
    "        f_test = clf_test.fit(X_test)\n",
    "\n",
    "        # classifying test group\n",
    "        y_train = f_train.predict(X_test)\n",
    "        y_test = f_test.predict(X_test)\n",
    "\n",
    "        # appling the adjusted rand index\n",
    "        rand_index_val = adjusted_rand_score(y_train, y_test)\n",
    "        rand_index_sum += rand_index_val\n",
    "\n",
    "    rand_index = rand_index_sum/len(weeks_exclude_vect)\n",
    "    \n",
    "    rand_index_vect.append(rand_index)\n",
    "    \n",
    "    sys.stdout.write(\"-\")\n",
    "    sys.stdout.flush()"
   ]
  },
  {
   "cell_type": "code",
   "execution_count": 34,
   "metadata": {
    "collapsed": true
   },
   "outputs": [],
   "source": [
    "d = {'feature': feature_list, 'delta_ARI': rand_index_G_vect[0] - np.array(rand_index_vect)}\n",
    "feature_imp_df = pd.DataFrame(data=d).sort_values('delta_ARI', ascending = False)\n",
    "feature_imp_df[\"base_feature\"] = [x.split('_pass_forward')[0] if \"pass_forward\" in x \\\n",
    "                                  else x.split('_ball_snap')[0] if \"ball_snap\" in x \\\n",
    "                                  else x.split('_time')[0] for x in np.array(feature_imp_df[\"feature\"])]\n",
    "feature_imp_df[\"time_period\"] = [\"Before Ball Thrown\" if \"pass_forward\" in x \\\n",
    "                                 else \"Before Ball Thrown\" if \"ball_snap\" in x \\\n",
    "                                 else \"After Ball Thrown\" if x.endswith(\"2\") \\\n",
    "                                 else \"Before Ball Thrown\" for x in np.array(feature_imp_df[\"feature\"])]\n",
    "feature_imp_df[\"feature\"] = [x.upper() for x in feature_imp_df[\"feature\"]]"
   ]
  },
  {
   "cell_type": "code",
   "execution_count": 35,
   "metadata": {},
   "outputs": [
    {
     "data": {
      "image/png": "[encoded data removed]",
      "text/plain": [
       "<matplotlib.figure.Figure at 0x11d4c41d0>"
      ]
     },
     "metadata": {},
     "output_type": "display_data"
    }
   ],
   "source": [
    "plt.pyplot.figure(figsize=(7,7))\n",
    "\n",
    "sns.barplot(x=\"delta_ARI\", y=\"feature\", data=feature_imp_df.head(10).sort_values('delta_ARI', ascending = True),\n",
    "            hue = \"time_period\", dodge = False, palette = [\"red\", \"blue\"])\n",
    "plt.pyplot.gca().legend().set_title('')\n",
    "plt.pyplot.title('Change in ARI vs. Feature')\n",
    "plt.pyplot.ylabel('Feature Name')\n",
    "plt.pyplot.xlabel('Change In ARI')\n",
    "plt.pyplot.show()"
   ]
  },
  {
   "cell_type": "markdown",
   "metadata": {},
   "source": [
    "### Scoring All Plays"
   ]
  },
  {
   "cell_type": "code",
   "execution_count": 36,
   "metadata": {},
   "outputs": [
    {
     "data": {
      "text/html": [
       "<div>\n",
       "<style scoped>\n",
       "    .dataframe tbody tr th:only-of-type {\n",
       "        vertical-align: middle;\n",
       "    }\n",
       "\n",
       "    .dataframe tbody tr th {\n",
       "        vertical-align: top;\n",
       "    }\n",
       "\n",
       "    .dataframe thead th {\n",
       "        text-align: right;\n",
       "    }\n",
       "</style>\n",
       "<table border=\"1\" class=\"dataframe\">\n",
       "  <thead>\n",
       "    <tr style=\"text-align: right;\">\n",
       "      <th></th>\n",
       "      <th>week</th>\n",
       "      <th>gameId</th>\n",
       "      <th>playId</th>\n",
       "      <th>nflId</th>\n",
       "      <th>displayName</th>\n",
       "      <th>position</th>\n",
       "      <th>best_cor_x_y_avg_time_1_2</th>\n",
       "      <th>off_mean_between_ball_snap_and_pass_forward</th>\n",
       "      <th>ratio_pass_forward</th>\n",
       "      <th>cb_off_dist_ball_snap</th>\n",
       "    </tr>\n",
       "  </thead>\n",
       "  <tbody>\n",
       "    <tr>\n",
       "      <th>0</th>\n",
       "      <td>1</td>\n",
       "      <td>2018090600</td>\n",
       "      <td>75</td>\n",
       "      <td>79848</td>\n",
       "      <td>Malcolm Jenkins</td>\n",
       "      <td>SS</td>\n",
       "      <td>0.977409</td>\n",
       "      <td>1.154340</td>\n",
       "      <td>1.208153</td>\n",
       "      <td>1.920339</td>\n",
       "    </tr>\n",
       "    <tr>\n",
       "      <th>1</th>\n",
       "      <td>1</td>\n",
       "      <td>2018090600</td>\n",
       "      <td>75</td>\n",
       "      <td>2495613</td>\n",
       "      <td>Corey Graham</td>\n",
       "      <td>FS</td>\n",
       "      <td>0.888162</td>\n",
       "      <td>2.222993</td>\n",
       "      <td>0.359715</td>\n",
       "      <td>4.833353</td>\n",
       "    </tr>\n",
       "    <tr>\n",
       "      <th>2</th>\n",
       "      <td>1</td>\n",
       "      <td>2018090600</td>\n",
       "      <td>75</td>\n",
       "      <td>2534832</td>\n",
       "      <td>Rodney McLeod</td>\n",
       "      <td>FS</td>\n",
       "      <td>0.987079</td>\n",
       "      <td>17.540821</td>\n",
       "      <td>3.763194</td>\n",
       "      <td>18.243295</td>\n",
       "    </tr>\n",
       "    <tr>\n",
       "      <th>3</th>\n",
       "      <td>1</td>\n",
       "      <td>2018090600</td>\n",
       "      <td>146</td>\n",
       "      <td>79848</td>\n",
       "      <td>Malcolm Jenkins</td>\n",
       "      <td>SS</td>\n",
       "      <td>0.913364</td>\n",
       "      <td>3.507079</td>\n",
       "      <td>0.227647</td>\n",
       "      <td>4.016329</td>\n",
       "    </tr>\n",
       "    <tr>\n",
       "      <th>4</th>\n",
       "      <td>1</td>\n",
       "      <td>2018090600</td>\n",
       "      <td>146</td>\n",
       "      <td>2534832</td>\n",
       "      <td>Rodney McLeod</td>\n",
       "      <td>FS</td>\n",
       "      <td>0.894573</td>\n",
       "      <td>16.426722</td>\n",
       "      <td>6.542778</td>\n",
       "      <td>17.296751</td>\n",
       "    </tr>\n",
       "    <tr>\n",
       "      <th>...</th>\n",
       "      <td>...</td>\n",
       "      <td>...</td>\n",
       "      <td>...</td>\n",
       "      <td>...</td>\n",
       "      <td>...</td>\n",
       "      <td>...</td>\n",
       "      <td>...</td>\n",
       "      <td>...</td>\n",
       "      <td>...</td>\n",
       "      <td>...</td>\n",
       "    </tr>\n",
       "    <tr>\n",
       "      <th>34345</th>\n",
       "      <td>17</td>\n",
       "      <td>2018123015</td>\n",
       "      <td>4057</td>\n",
       "      <td>2543830</td>\n",
       "      <td>Tre Boston</td>\n",
       "      <td>FS</td>\n",
       "      <td>0.824539</td>\n",
       "      <td>7.328909</td>\n",
       "      <td>1.035742</td>\n",
       "      <td>7.351258</td>\n",
       "    </tr>\n",
       "    <tr>\n",
       "      <th>34346</th>\n",
       "      <td>17</td>\n",
       "      <td>2018123015</td>\n",
       "      <td>4057</td>\n",
       "      <td>2558009</td>\n",
       "      <td>Budda Baker</td>\n",
       "      <td>FS</td>\n",
       "      <td>0.873067</td>\n",
       "      <td>3.047655</td>\n",
       "      <td>0.562888</td>\n",
       "      <td>5.299075</td>\n",
       "    </tr>\n",
       "    <tr>\n",
       "      <th>34347</th>\n",
       "      <td>17</td>\n",
       "      <td>2018123015</td>\n",
       "      <td>4104</td>\n",
       "      <td>2495807</td>\n",
       "      <td>Antoine Bethea</td>\n",
       "      <td>FS</td>\n",
       "      <td>0.910673</td>\n",
       "      <td>2.191118</td>\n",
       "      <td>0.337100</td>\n",
       "      <td>10.281449</td>\n",
       "    </tr>\n",
       "    <tr>\n",
       "      <th>34348</th>\n",
       "      <td>17</td>\n",
       "      <td>2018123015</td>\n",
       "      <td>4104</td>\n",
       "      <td>2543830</td>\n",
       "      <td>Tre Boston</td>\n",
       "      <td>FS</td>\n",
       "      <td>0.981600</td>\n",
       "      <td>15.569945</td>\n",
       "      <td>2.165334</td>\n",
       "      <td>18.062215</td>\n",
       "    </tr>\n",
       "    <tr>\n",
       "      <th>34349</th>\n",
       "      <td>17</td>\n",
       "      <td>2018123015</td>\n",
       "      <td>4104</td>\n",
       "      <td>2558009</td>\n",
       "      <td>Budda Baker</td>\n",
       "      <td>FS</td>\n",
       "      <td>0.963520</td>\n",
       "      <td>0.791581</td>\n",
       "      <td>0.101613</td>\n",
       "      <td>4.232493</td>\n",
       "    </tr>\n",
       "  </tbody>\n",
       "</table>\n",
       "<p>34350 rows × 10 columns</p>\n",
       "</div>"
      ],
      "text/plain": [
       "       week      gameId  playId    nflId      displayName position  \\\n",
       "0         1  2018090600      75    79848  Malcolm Jenkins       SS   \n",
       "1         1  2018090600      75  2495613     Corey Graham       FS   \n",
       "2         1  2018090600      75  2534832    Rodney McLeod       FS   \n",
       "3         1  2018090600     146    79848  Malcolm Jenkins       SS   \n",
       "4         1  2018090600     146  2534832    Rodney McLeod       FS   \n",
       "...     ...         ...     ...      ...              ...      ...   \n",
       "34345    17  2018123015    4057  2543830       Tre Boston       FS   \n",
       "34346    17  2018123015    4057  2558009      Budda Baker       FS   \n",
       "34347    17  2018123015    4104  2495807   Antoine Bethea       FS   \n",
       "34348    17  2018123015    4104  2543830       Tre Boston       FS   \n",
       "34349    17  2018123015    4104  2558009      Budda Baker       FS   \n",
       "\n",
       "       best_cor_x_y_avg_time_1_2  off_mean_between_ball_snap_and_pass_forward  \\\n",
       "0                       0.977409                                     1.154340   \n",
       "1                       0.888162                                     2.222993   \n",
       "2                       0.987079                                    17.540821   \n",
       "3                       0.913364                                     3.507079   \n",
       "4                       0.894573                                    16.426722   \n",
       "...                          ...                                          ...   \n",
       "34345                   0.824539                                     7.328909   \n",
       "34346                   0.873067                                     3.047655   \n",
       "34347                   0.910673                                     2.191118   \n",
       "34348                   0.981600                                    15.569945   \n",
       "34349                   0.963520                                     0.791581   \n",
       "\n",
       "       ratio_pass_forward  cb_off_dist_ball_snap  \n",
       "0                1.208153               1.920339  \n",
       "1                0.359715               4.833353  \n",
       "2                3.763194              18.243295  \n",
       "3                0.227647               4.016329  \n",
       "4                6.542778              17.296751  \n",
       "...                   ...                    ...  \n",
       "34345            1.035742               7.351258  \n",
       "34346            0.562888               5.299075  \n",
       "34347            0.337100              10.281449  \n",
       "34348            2.165334              18.062215  \n",
       "34349            0.101613               4.232493  \n",
       "\n",
       "[34350 rows x 10 columns]"
      ]
     },
     "execution_count": 36,
     "metadata": {},
     "output_type": "execute_result"
    }
   ],
   "source": [
    "pass_attempt_df"
   ]
  },
  {
   "cell_type": "code",
   "execution_count": 37,
   "metadata": {},
   "outputs": [
    {
     "data": {
      "text/plain": [
       "(34350, 4)"
      ]
     },
     "execution_count": 37,
     "metadata": {},
     "output_type": "execute_result"
    }
   ],
   "source": [
    "# sampling 45,000 plays to be within CPU limit\n",
    "X_train = pass_attempt_df.drop(['week', 'gameId','playId','nflId','displayName','position'], axis = 1)\n",
    "X_train.shape"
   ]
  },
  {
   "cell_type": "code",
   "execution_count": 38,
   "metadata": {},
   "outputs": [
    {
     "data": {
      "text/plain": [
       "(34350, 4)"
      ]
     },
     "execution_count": 38,
     "metadata": {},
     "output_type": "execute_result"
    }
   ],
   "source": [
    "# all plays to score\n",
    "X_score = pass_attempt_df.drop(['week', 'gameId','playId','nflId','displayName','position'], axis = 1)\n",
    "X_score.shape"
   ]
  },
  {
   "cell_type": "code",
   "execution_count": 39,
   "metadata": {
    "collapsed": true
   },
   "outputs": [],
   "source": [
    "# train\n",
    "clf_train = mixture.GaussianMixture(n_components=3, covariance_type='full')\n",
    "f_train = clf_train.fit(X_train)"
   ]
  },
  {
   "cell_type": "code",
   "execution_count": 40,
   "metadata": {},
   "outputs": [
    {
     "data": {
      "text/plain": [
       "{'best_cor_x_y_avg_time_1_2': [0.6363915156733361,\n",
       "  0.9267421185058801,\n",
       "  0.9628425997698584],\n",
       " 'cb_off_dist_ball_snap': [12.90437579296576,\n",
       "  6.800702416043162,\n",
       "  14.716910052757784],\n",
       " 'off_mean_between_ball_snap_and_pass_forward': [10.63855172344025,\n",
       "  4.554920059044799,\n",
       "  13.437660324201184],\n",
       " 'ratio_pass_forward': [3.9043673575067137,\n",
       "  0.47586927152340786,\n",
       "  5.083052666126601]}"
      ]
     },
     "execution_count": 40,
     "metadata": {},
     "output_type": "execute_result"
    }
   ],
   "source": [
    "get_cluster_means(X_train, f_train)"
   ]
  },
  {
   "cell_type": "code",
   "execution_count": 41,
   "metadata": {
    "collapsed": true
   },
   "outputs": [],
   "source": [
    "full_probs = [1 - x[1] for x in f_train.predict_proba(X_score)]\n",
    "full_classes = f_train.predict(X_score)"
   ]
  },
  {
   "cell_type": "code",
   "execution_count": 42,
   "metadata": {
    "collapsed": true
   },
   "outputs": [],
   "source": [
    "full_classes2 = [0 if x == 1 else 1 for x in full_classes]"
   ]
  },
  {
   "cell_type": "code",
   "execution_count": 43,
   "metadata": {},
   "outputs": [
    {
     "data": {
      "image/png": "[encoded data removed]",
      "text/plain": [
       "<matplotlib.figure.Figure at 0x11d533208>"
      ]
     },
     "metadata": {},
     "output_type": "display_data"
    }
   ],
   "source": [
    "plt.pyplot.hist(full_probs, bins = 50)\n",
    "plt.pyplot.xlabel('Probability of Zone Coverage')\n",
    "plt.pyplot.ylabel('Density')\n",
    "plt.pyplot.show()"
   ]
  },
  {
   "cell_type": "code",
   "execution_count": 44,
   "metadata": {
    "collapsed": true
   },
   "outputs": [],
   "source": [
    "pass_attempt_df[\"zone_probability\"] = full_probs\n",
    "pass_attempt_df[\"zone_flag\"] = full_classes2\n",
    "pass_attempt_df[\"gmm_class\"] = full_classes"
   ]
  },
  {
   "cell_type": "code",
   "execution_count": 45,
   "metadata": {
    "collapsed": true
   },
   "outputs": [],
   "source": [
    "pass_attempt_df = pd.concat([pd.DataFrame(f_train.predict_proba(X_score)), pass_attempt_df], axis = 1)"
   ]
  },
  {
   "cell_type": "code",
   "execution_count": 46,
   "metadata": {},
   "outputs": [
    {
     "data": {
      "text/plain": [
       "0.7277729257641922"
      ]
     },
     "execution_count": 46,
     "metadata": {},
     "output_type": "execute_result"
    }
   ],
   "source": [
    "np.mean(pass_attempt_df[\"zone_flag\"])"
   ]
  },
  {
   "cell_type": "markdown",
   "metadata": {},
   "source": [
    "### Saving Results"
   ]
  },
  {
   "cell_type": "code",
   "execution_count": 47,
   "metadata": {
    "collapsed": true
   },
   "outputs": [],
   "source": [
    "pass_attempt_df_final = pass_attempt_df[['week', 'gameId','playId','nflId','displayName','position'] + \\\n",
    "                                     list(pass_attempt_df.columns[[str(x).startswith('zone') for x in pass_attempt_df.columns]])]"
   ]
  },
  {
   "cell_type": "code",
   "execution_count": 48,
   "metadata": {},
   "outputs": [
    {
     "data": {
      "text/html": [
       "<div>\n",
       "<style scoped>\n",
       "    .dataframe tbody tr th:only-of-type {\n",
       "        vertical-align: middle;\n",
       "    }\n",
       "\n",
       "    .dataframe tbody tr th {\n",
       "        vertical-align: top;\n",
       "    }\n",
       "\n",
       "    .dataframe thead th {\n",
       "        text-align: right;\n",
       "    }\n",
       "</style>\n",
       "<table border=\"1\" class=\"dataframe\">\n",
       "  <thead>\n",
       "    <tr style=\"text-align: right;\">\n",
       "      <th></th>\n",
       "      <th>week</th>\n",
       "      <th>gameId</th>\n",
       "      <th>playId</th>\n",
       "      <th>nflId</th>\n",
       "      <th>displayName</th>\n",
       "      <th>position</th>\n",
       "      <th>zone_probability</th>\n",
       "      <th>zone_flag</th>\n",
       "    </tr>\n",
       "  </thead>\n",
       "  <tbody>\n",
       "    <tr>\n",
       "      <th>0</th>\n",
       "      <td>1</td>\n",
       "      <td>2018090600</td>\n",
       "      <td>75</td>\n",
       "      <td>79848</td>\n",
       "      <td>Malcolm Jenkins</td>\n",
       "      <td>SS</td>\n",
       "      <td>0.702765</td>\n",
       "      <td>1</td>\n",
       "    </tr>\n",
       "    <tr>\n",
       "      <th>1</th>\n",
       "      <td>1</td>\n",
       "      <td>2018090600</td>\n",
       "      <td>75</td>\n",
       "      <td>2495613</td>\n",
       "      <td>Corey Graham</td>\n",
       "      <td>FS</td>\n",
       "      <td>0.003977</td>\n",
       "      <td>0</td>\n",
       "    </tr>\n",
       "    <tr>\n",
       "      <th>2</th>\n",
       "      <td>1</td>\n",
       "      <td>2018090600</td>\n",
       "      <td>75</td>\n",
       "      <td>2534832</td>\n",
       "      <td>Rodney McLeod</td>\n",
       "      <td>FS</td>\n",
       "      <td>1.000000</td>\n",
       "      <td>1</td>\n",
       "    </tr>\n",
       "    <tr>\n",
       "      <th>3</th>\n",
       "      <td>1</td>\n",
       "      <td>2018090600</td>\n",
       "      <td>146</td>\n",
       "      <td>79848</td>\n",
       "      <td>Malcolm Jenkins</td>\n",
       "      <td>SS</td>\n",
       "      <td>0.008440</td>\n",
       "      <td>0</td>\n",
       "    </tr>\n",
       "    <tr>\n",
       "      <th>4</th>\n",
       "      <td>1</td>\n",
       "      <td>2018090600</td>\n",
       "      <td>146</td>\n",
       "      <td>2534832</td>\n",
       "      <td>Rodney McLeod</td>\n",
       "      <td>FS</td>\n",
       "      <td>1.000000</td>\n",
       "      <td>1</td>\n",
       "    </tr>\n",
       "    <tr>\n",
       "      <th>...</th>\n",
       "      <td>...</td>\n",
       "      <td>...</td>\n",
       "      <td>...</td>\n",
       "      <td>...</td>\n",
       "      <td>...</td>\n",
       "      <td>...</td>\n",
       "      <td>...</td>\n",
       "      <td>...</td>\n",
       "    </tr>\n",
       "    <tr>\n",
       "      <th>34345</th>\n",
       "      <td>17</td>\n",
       "      <td>2018123015</td>\n",
       "      <td>4057</td>\n",
       "      <td>2543830</td>\n",
       "      <td>Tre Boston</td>\n",
       "      <td>FS</td>\n",
       "      <td>0.032006</td>\n",
       "      <td>0</td>\n",
       "    </tr>\n",
       "    <tr>\n",
       "      <th>34346</th>\n",
       "      <td>17</td>\n",
       "      <td>2018123015</td>\n",
       "      <td>4057</td>\n",
       "      <td>2558009</td>\n",
       "      <td>Budda Baker</td>\n",
       "      <td>FS</td>\n",
       "      <td>0.004110</td>\n",
       "      <td>0</td>\n",
       "    </tr>\n",
       "    <tr>\n",
       "      <th>34347</th>\n",
       "      <td>17</td>\n",
       "      <td>2018123015</td>\n",
       "      <td>4104</td>\n",
       "      <td>2495807</td>\n",
       "      <td>Antoine Bethea</td>\n",
       "      <td>FS</td>\n",
       "      <td>0.045031</td>\n",
       "      <td>0</td>\n",
       "    </tr>\n",
       "    <tr>\n",
       "      <th>34348</th>\n",
       "      <td>17</td>\n",
       "      <td>2018123015</td>\n",
       "      <td>4104</td>\n",
       "      <td>2543830</td>\n",
       "      <td>Tre Boston</td>\n",
       "      <td>FS</td>\n",
       "      <td>0.999999</td>\n",
       "      <td>1</td>\n",
       "    </tr>\n",
       "    <tr>\n",
       "      <th>34349</th>\n",
       "      <td>17</td>\n",
       "      <td>2018123015</td>\n",
       "      <td>4104</td>\n",
       "      <td>2558009</td>\n",
       "      <td>Budda Baker</td>\n",
       "      <td>FS</td>\n",
       "      <td>0.019407</td>\n",
       "      <td>0</td>\n",
       "    </tr>\n",
       "  </tbody>\n",
       "</table>\n",
       "<p>34350 rows × 8 columns</p>\n",
       "</div>"
      ],
      "text/plain": [
       "       week      gameId  playId    nflId      displayName position  \\\n",
       "0         1  2018090600      75    79848  Malcolm Jenkins       SS   \n",
       "1         1  2018090600      75  2495613     Corey Graham       FS   \n",
       "2         1  2018090600      75  2534832    Rodney McLeod       FS   \n",
       "3         1  2018090600     146    79848  Malcolm Jenkins       SS   \n",
       "4         1  2018090600     146  2534832    Rodney McLeod       FS   \n",
       "...     ...         ...     ...      ...              ...      ...   \n",
       "34345    17  2018123015    4057  2543830       Tre Boston       FS   \n",
       "34346    17  2018123015    4057  2558009      Budda Baker       FS   \n",
       "34347    17  2018123015    4104  2495807   Antoine Bethea       FS   \n",
       "34348    17  2018123015    4104  2543830       Tre Boston       FS   \n",
       "34349    17  2018123015    4104  2558009      Budda Baker       FS   \n",
       "\n",
       "       zone_probability  zone_flag  \n",
       "0              0.702765          1  \n",
       "1              0.003977          0  \n",
       "2              1.000000          1  \n",
       "3              0.008440          0  \n",
       "4              1.000000          1  \n",
       "...                 ...        ...  \n",
       "34345          0.032006          0  \n",
       "34346          0.004110          0  \n",
       "34347          0.045031          0  \n",
       "34348          0.999999          1  \n",
       "34349          0.019407          0  \n",
       "\n",
       "[34350 rows x 8 columns]"
      ]
     },
     "execution_count": 48,
     "metadata": {},
     "output_type": "execute_result"
    }
   ],
   "source": [
    "pass_attempt_df_final"
   ]
  },
  {
   "cell_type": "code",
   "execution_count": 49,
   "metadata": {
    "collapsed": true
   },
   "outputs": [],
   "source": [
    "pass_attempt_df_final.to_csv(\"~/Desktop/CoverageNet/src/01_identify_man_coverage/outputs/safeties_pass_attempts_man_zone_classes.csv\", \n",
    "                             index = False)"
   ]
  },
  {
   "cell_type": "code",
   "execution_count": 50,
   "metadata": {},
   "outputs": [
    {
     "data": {
      "text/html": [
       "<div>\n",
       "<style scoped>\n",
       "    .dataframe tbody tr th:only-of-type {\n",
       "        vertical-align: middle;\n",
       "    }\n",
       "\n",
       "    .dataframe tbody tr th {\n",
       "        vertical-align: top;\n",
       "    }\n",
       "\n",
       "    .dataframe thead th {\n",
       "        text-align: right;\n",
       "    }\n",
       "</style>\n",
       "<table border=\"1\" class=\"dataframe\">\n",
       "  <thead>\n",
       "    <tr style=\"text-align: right;\">\n",
       "      <th></th>\n",
       "      <th>0</th>\n",
       "      <th>1</th>\n",
       "      <th>2</th>\n",
       "      <th>week</th>\n",
       "      <th>gameId</th>\n",
       "      <th>playId</th>\n",
       "      <th>nflId</th>\n",
       "      <th>displayName</th>\n",
       "      <th>position</th>\n",
       "      <th>best_cor_x_y_avg_time_1_2</th>\n",
       "      <th>off_mean_between_ball_snap_and_pass_forward</th>\n",
       "      <th>ratio_pass_forward</th>\n",
       "      <th>cb_off_dist_ball_snap</th>\n",
       "      <th>zone_probability</th>\n",
       "      <th>zone_flag</th>\n",
       "      <th>gmm_class</th>\n",
       "    </tr>\n",
       "  </thead>\n",
       "  <tbody>\n",
       "    <tr>\n",
       "      <th>134</th>\n",
       "      <td>0.050341</td>\n",
       "      <td>7.981734e-01</td>\n",
       "      <td>1.514857e-01</td>\n",
       "      <td>1</td>\n",
       "      <td>2018090600</td>\n",
       "      <td>3279</td>\n",
       "      <td>79848</td>\n",
       "      <td>Malcolm Jenkins</td>\n",
       "      <td>SS</td>\n",
       "      <td>0.917509</td>\n",
       "      <td>1.694993</td>\n",
       "      <td>1.094996</td>\n",
       "      <td>2.900000</td>\n",
       "      <td>0.201827</td>\n",
       "      <td>0</td>\n",
       "      <td>1</td>\n",
       "    </tr>\n",
       "    <tr>\n",
       "      <th>135</th>\n",
       "      <td>0.324817</td>\n",
       "      <td>1.524242e-88</td>\n",
       "      <td>6.751830e-01</td>\n",
       "      <td>1</td>\n",
       "      <td>2018090600</td>\n",
       "      <td>3279</td>\n",
       "      <td>2495613</td>\n",
       "      <td>Corey Graham</td>\n",
       "      <td>FS</td>\n",
       "      <td>0.889913</td>\n",
       "      <td>16.754874</td>\n",
       "      <td>6.935442</td>\n",
       "      <td>18.010511</td>\n",
       "      <td>1.000000</td>\n",
       "      <td>1</td>\n",
       "      <td>2</td>\n",
       "    </tr>\n",
       "    <tr>\n",
       "      <th>136</th>\n",
       "      <td>0.998734</td>\n",
       "      <td>1.266402e-03</td>\n",
       "      <td>1.047870e-31</td>\n",
       "      <td>1</td>\n",
       "      <td>2018090600</td>\n",
       "      <td>3279</td>\n",
       "      <td>2534832</td>\n",
       "      <td>Rodney McLeod</td>\n",
       "      <td>FS</td>\n",
       "      <td>0.602469</td>\n",
       "      <td>6.368940</td>\n",
       "      <td>1.164173</td>\n",
       "      <td>12.193802</td>\n",
       "      <td>0.998734</td>\n",
       "      <td>1</td>\n",
       "      <td>0</td>\n",
       "    </tr>\n",
       "  </tbody>\n",
       "</table>\n",
       "</div>"
      ],
      "text/plain": [
       "            0             1             2  week      gameId  playId    nflId  \\\n",
       "134  0.050341  7.981734e-01  1.514857e-01     1  2018090600    3279    79848   \n",
       "135  0.324817  1.524242e-88  6.751830e-01     1  2018090600    3279  2495613   \n",
       "136  0.998734  1.266402e-03  1.047870e-31     1  2018090600    3279  2534832   \n",
       "\n",
       "         displayName position  best_cor_x_y_avg_time_1_2  \\\n",
       "134  Malcolm Jenkins       SS                   0.917509   \n",
       "135     Corey Graham       FS                   0.889913   \n",
       "136    Rodney McLeod       FS                   0.602469   \n",
       "\n",
       "     off_mean_between_ball_snap_and_pass_forward  ratio_pass_forward  \\\n",
       "134                                     1.694993            1.094996   \n",
       "135                                    16.754874            6.935442   \n",
       "136                                     6.368940            1.164173   \n",
       "\n",
       "     cb_off_dist_ball_snap  zone_probability  zone_flag  gmm_class  \n",
       "134               2.900000          0.201827          0          1  \n",
       "135              18.010511          1.000000          1          2  \n",
       "136              12.193802          0.998734          1          0  "
      ]
     },
     "execution_count": 50,
     "metadata": {},
     "output_type": "execute_result"
    }
   ],
   "source": [
    "pass_attempt_df[(pass_attempt_df[\"gameId\"] == 2018090600) & (pass_attempt_df[\"playId\"] == 3279)]"
   ]
  },
  {
   "cell_type": "code",
   "execution_count": 51,
   "metadata": {},
   "outputs": [
    {
     "data": {
      "text/html": [
       "<div>\n",
       "<style scoped>\n",
       "    .dataframe tbody tr th:only-of-type {\n",
       "        vertical-align: middle;\n",
       "    }\n",
       "\n",
       "    .dataframe tbody tr th {\n",
       "        vertical-align: top;\n",
       "    }\n",
       "\n",
       "    .dataframe thead th {\n",
       "        text-align: right;\n",
       "    }\n",
       "</style>\n",
       "<table border=\"1\" class=\"dataframe\">\n",
       "  <thead>\n",
       "    <tr style=\"text-align: right;\">\n",
       "      <th></th>\n",
       "      <th>displayName</th>\n",
       "      <th>ratio_pass_forward</th>\n",
       "    </tr>\n",
       "  </thead>\n",
       "  <tbody>\n",
       "    <tr>\n",
       "      <th>847</th>\n",
       "      <td>Chris Conte</td>\n",
       "      <td>5.973377</td>\n",
       "    </tr>\n",
       "    <tr>\n",
       "      <th>848</th>\n",
       "      <td>Justin Evans</td>\n",
       "      <td>6.415971</td>\n",
       "    </tr>\n",
       "  </tbody>\n",
       "</table>\n",
       "</div>"
      ],
      "text/plain": [
       "      displayName  ratio_pass_forward\n",
       "847   Chris Conte            5.973377\n",
       "848  Justin Evans            6.415971"
      ]
     },
     "execution_count": 51,
     "metadata": {},
     "output_type": "execute_result"
    }
   ],
   "source": [
    "pass_attempt_df[(pass_attempt_df[\"gameId\"] == 2018090906) & (pass_attempt_df[\"playId\"] == 142)][[\"displayName\"] + \\\n",
    "                            list(pass_attempt_df.columns[['ratio' in str(x) for x in pass_attempt_df.columns]])]"
   ]
  },
  {
   "cell_type": "code",
   "execution_count": 52,
   "metadata": {},
   "outputs": [
    {
     "data": {
      "text/plain": [
       "{'best_cor_x_y_avg_time_1_2': [0.6363915156733361,\n",
       "  0.9267421185058801,\n",
       "  0.9628425997698584],\n",
       " 'cb_off_dist_ball_snap': [12.90437579296576,\n",
       "  6.800702416043162,\n",
       "  14.716910052757784],\n",
       " 'off_mean_between_ball_snap_and_pass_forward': [10.63855172344025,\n",
       "  4.554920059044799,\n",
       "  13.437660324201184],\n",
       " 'ratio_pass_forward': [3.9043673575067137,\n",
       "  0.47586927152340786,\n",
       "  5.083052666126601]}"
      ]
     },
     "execution_count": 52,
     "metadata": {},
     "output_type": "execute_result"
    }
   ],
   "source": [
    "get_cluster_means(X_train, f_train)"
   ]
  },
  {
   "cell_type": "markdown",
   "metadata": {},
   "source": [
    "# Repeating for Sack Plays!"
   ]
  },
  {
   "cell_type": "code",
   "execution_count": 53,
   "metadata": {
    "collapsed": true
   },
   "outputs": [],
   "source": [
    "sacks_df = sacks_df[['week', 'gameId', 'playId', 'nflId', 'displayName', 'position',\n",
    "                                  'best_cor_x_y_avg_time_1','cb_off_dist_qb_sack',\n",
    "                                   'ratio_qb_sack','cb_off_dist_ball_snap']]"
   ]
  },
  {
   "cell_type": "code",
   "execution_count": 54,
   "metadata": {
    "collapsed": true
   },
   "outputs": [],
   "source": [
    "sacks_df[\"cb_off_dist_qb_sack\"] = \\\n",
    "np.minimum(np.array(sacks_df[\"cb_off_dist_qb_sack\"]), 30)\n",
    "\n",
    "sacks_df[\"ratio_qb_sack\"] = \\\n",
    "np.minimum(np.array(sacks_df[\"ratio_qb_sack\"]), 10)"
   ]
  },
  {
   "cell_type": "code",
   "execution_count": 55,
   "metadata": {},
   "outputs": [
    {
     "data": {
      "text/html": [
       "<div>\n",
       "<style scoped>\n",
       "    .dataframe tbody tr th:only-of-type {\n",
       "        vertical-align: middle;\n",
       "    }\n",
       "\n",
       "    .dataframe tbody tr th {\n",
       "        vertical-align: top;\n",
       "    }\n",
       "\n",
       "    .dataframe thead th {\n",
       "        text-align: right;\n",
       "    }\n",
       "</style>\n",
       "<table border=\"1\" class=\"dataframe\">\n",
       "  <thead>\n",
       "    <tr style=\"text-align: right;\">\n",
       "      <th></th>\n",
       "      <th>week</th>\n",
       "      <th>gameId</th>\n",
       "      <th>playId</th>\n",
       "      <th>nflId</th>\n",
       "      <th>displayName</th>\n",
       "      <th>position</th>\n",
       "      <th>best_cor_x_y_avg_time_1</th>\n",
       "      <th>cb_off_dist_qb_sack</th>\n",
       "      <th>ratio_qb_sack</th>\n",
       "      <th>cb_off_dist_ball_snap</th>\n",
       "    </tr>\n",
       "  </thead>\n",
       "  <tbody>\n",
       "    <tr>\n",
       "      <th>0</th>\n",
       "      <td>1</td>\n",
       "      <td>2018090600</td>\n",
       "      <td>776</td>\n",
       "      <td>2543850</td>\n",
       "      <td>Ricardo Allen</td>\n",
       "      <td>SS</td>\n",
       "      <td>0.924724</td>\n",
       "      <td>6.598015</td>\n",
       "      <td>0.644028</td>\n",
       "      <td>6.581565</td>\n",
       "    </tr>\n",
       "    <tr>\n",
       "      <th>1</th>\n",
       "      <td>1</td>\n",
       "      <td>2018090600</td>\n",
       "      <td>776</td>\n",
       "      <td>2555543</td>\n",
       "      <td>Keanu Neal</td>\n",
       "      <td>FS</td>\n",
       "      <td>0.979696</td>\n",
       "      <td>5.365855</td>\n",
       "      <td>4.228230</td>\n",
       "      <td>18.345596</td>\n",
       "    </tr>\n",
       "    <tr>\n",
       "      <th>2</th>\n",
       "      <td>1</td>\n",
       "      <td>2018090600</td>\n",
       "      <td>839</td>\n",
       "      <td>2543850</td>\n",
       "      <td>Ricardo Allen</td>\n",
       "      <td>SS</td>\n",
       "      <td>0.826277</td>\n",
       "      <td>7.749194</td>\n",
       "      <td>1.653318</td>\n",
       "      <td>17.794314</td>\n",
       "    </tr>\n",
       "    <tr>\n",
       "      <th>3</th>\n",
       "      <td>1</td>\n",
       "      <td>2018090600</td>\n",
       "      <td>839</td>\n",
       "      <td>2555543</td>\n",
       "      <td>Keanu Neal</td>\n",
       "      <td>FS</td>\n",
       "      <td>0.690475</td>\n",
       "      <td>8.188834</td>\n",
       "      <td>1.018290</td>\n",
       "      <td>5.364709</td>\n",
       "    </tr>\n",
       "    <tr>\n",
       "      <th>4</th>\n",
       "      <td>1</td>\n",
       "      <td>2018090600</td>\n",
       "      <td>1568</td>\n",
       "      <td>79848</td>\n",
       "      <td>Malcolm Jenkins</td>\n",
       "      <td>SS</td>\n",
       "      <td>0.964459</td>\n",
       "      <td>1.028591</td>\n",
       "      <td>0.237578</td>\n",
       "      <td>4.433058</td>\n",
       "    </tr>\n",
       "    <tr>\n",
       "      <th>5</th>\n",
       "      <td>1</td>\n",
       "      <td>2018090600</td>\n",
       "      <td>1568</td>\n",
       "      <td>2495613</td>\n",
       "      <td>Corey Graham</td>\n",
       "      <td>FS</td>\n",
       "      <td>0.260185</td>\n",
       "      <td>7.362527</td>\n",
       "      <td>7.157874</td>\n",
       "      <td>16.487089</td>\n",
       "    </tr>\n",
       "    <tr>\n",
       "      <th>6</th>\n",
       "      <td>1</td>\n",
       "      <td>2018090600</td>\n",
       "      <td>1568</td>\n",
       "      <td>2534832</td>\n",
       "      <td>Rodney McLeod</td>\n",
       "      <td>FS</td>\n",
       "      <td>0.673667</td>\n",
       "      <td>4.329492</td>\n",
       "      <td>4.209147</td>\n",
       "      <td>10.286029</td>\n",
       "    </tr>\n",
       "    <tr>\n",
       "      <th>7</th>\n",
       "      <td>1</td>\n",
       "      <td>2018090600</td>\n",
       "      <td>3815</td>\n",
       "      <td>79848</td>\n",
       "      <td>Malcolm Jenkins</td>\n",
       "      <td>SS</td>\n",
       "      <td>0.847724</td>\n",
       "      <td>0.602080</td>\n",
       "      <td>0.060490</td>\n",
       "      <td>9.328049</td>\n",
       "    </tr>\n",
       "    <tr>\n",
       "      <th>8</th>\n",
       "      <td>1</td>\n",
       "      <td>2018090600</td>\n",
       "      <td>3815</td>\n",
       "      <td>2495613</td>\n",
       "      <td>Corey Graham</td>\n",
       "      <td>FS</td>\n",
       "      <td>0.920272</td>\n",
       "      <td>5.482490</td>\n",
       "      <td>0.870262</td>\n",
       "      <td>16.738713</td>\n",
       "    </tr>\n",
       "    <tr>\n",
       "      <th>9</th>\n",
       "      <td>1</td>\n",
       "      <td>2018090600</td>\n",
       "      <td>3815</td>\n",
       "      <td>2534832</td>\n",
       "      <td>Rodney McLeod</td>\n",
       "      <td>FS</td>\n",
       "      <td>0.652776</td>\n",
       "      <td>3.260567</td>\n",
       "      <td>0.265541</td>\n",
       "      <td>14.810216</td>\n",
       "    </tr>\n",
       "  </tbody>\n",
       "</table>\n",
       "</div>"
      ],
      "text/plain": [
       "   week      gameId  playId    nflId      displayName position  \\\n",
       "0     1  2018090600     776  2543850    Ricardo Allen       SS   \n",
       "1     1  2018090600     776  2555543       Keanu Neal       FS   \n",
       "2     1  2018090600     839  2543850    Ricardo Allen       SS   \n",
       "3     1  2018090600     839  2555543       Keanu Neal       FS   \n",
       "4     1  2018090600    1568    79848  Malcolm Jenkins       SS   \n",
       "5     1  2018090600    1568  2495613     Corey Graham       FS   \n",
       "6     1  2018090600    1568  2534832    Rodney McLeod       FS   \n",
       "7     1  2018090600    3815    79848  Malcolm Jenkins       SS   \n",
       "8     1  2018090600    3815  2495613     Corey Graham       FS   \n",
       "9     1  2018090600    3815  2534832    Rodney McLeod       FS   \n",
       "\n",
       "   best_cor_x_y_avg_time_1  cb_off_dist_qb_sack  ratio_qb_sack  \\\n",
       "0                 0.924724             6.598015       0.644028   \n",
       "1                 0.979696             5.365855       4.228230   \n",
       "2                 0.826277             7.749194       1.653318   \n",
       "3                 0.690475             8.188834       1.018290   \n",
       "4                 0.964459             1.028591       0.237578   \n",
       "5                 0.260185             7.362527       7.157874   \n",
       "6                 0.673667             4.329492       4.209147   \n",
       "7                 0.847724             0.602080       0.060490   \n",
       "8                 0.920272             5.482490       0.870262   \n",
       "9                 0.652776             3.260567       0.265541   \n",
       "\n",
       "   cb_off_dist_ball_snap  \n",
       "0               6.581565  \n",
       "1              18.345596  \n",
       "2              17.794314  \n",
       "3               5.364709  \n",
       "4               4.433058  \n",
       "5              16.487089  \n",
       "6              10.286029  \n",
       "7               9.328049  \n",
       "8              16.738713  \n",
       "9              14.810216  "
      ]
     },
     "execution_count": 55,
     "metadata": {},
     "output_type": "execute_result"
    }
   ],
   "source": [
    "sacks_df.head(10)"
   ]
  },
  {
   "cell_type": "code",
   "execution_count": 56,
   "metadata": {},
   "outputs": [
    {
     "data": {
      "text/plain": [
       "Index(['week', 'gameId', 'playId', 'nflId', 'displayName', 'position',\n",
       "       'best_cor_x_y_avg_time_1', 'cb_off_dist_qb_sack', 'ratio_qb_sack',\n",
       "       'cb_off_dist_ball_snap'],\n",
       "      dtype='object')"
      ]
     },
     "execution_count": 56,
     "metadata": {},
     "output_type": "execute_result"
    }
   ],
   "source": [
    "sacks_df.columns"
   ]
  },
  {
   "cell_type": "markdown",
   "metadata": {},
   "source": [
    "### Preparing Train/Test Groups"
   ]
  },
  {
   "cell_type": "code",
   "execution_count": 57,
   "metadata": {
    "collapsed": true
   },
   "outputs": [],
   "source": [
    "weeks_exclude = [1, 2, 3]\n",
    "train = sacks_df[[x not in weeks_exclude for x in list(sacks_df[\"week\"])]]\n",
    "test = sacks_df[[x in weeks_exclude for x in list(sacks_df[\"week\"])]]"
   ]
  },
  {
   "cell_type": "code",
   "execution_count": 58,
   "metadata": {
    "collapsed": true
   },
   "outputs": [],
   "source": [
    "X_train = train.drop(['week', 'gameId','playId','nflId','displayName','position'], axis = 1)\n",
    "X_test = test.drop(['week', 'gameId','playId','nflId','displayName','position'], axis = 1)"
   ]
  },
  {
   "cell_type": "code",
   "execution_count": 59,
   "metadata": {},
   "outputs": [
    {
     "name": "stdout",
     "output_type": "stream",
     "text": [
      "(2047, 4)\n",
      "(449, 4)\n"
     ]
    }
   ],
   "source": [
    "print(X_train.shape)\n",
    "print(X_test.shape)"
   ]
  },
  {
   "cell_type": "markdown",
   "metadata": {},
   "source": [
    "### Fitting GMM Model"
   ]
  },
  {
   "cell_type": "code",
   "execution_count": 60,
   "metadata": {
    "collapsed": true
   },
   "outputs": [],
   "source": [
    "# train\n",
    "clf_train = mixture.GaussianMixture(n_components=4, covariance_type='full')\n",
    "f_train = clf_train.fit(X_train)"
   ]
  },
  {
   "cell_type": "code",
   "execution_count": 61,
   "metadata": {
    "collapsed": true
   },
   "outputs": [],
   "source": [
    "# test\n",
    "clf_test = mixture.GaussianMixture(n_components=4, covariance_type='full')\n",
    "f_test = clf_test.fit(X_test)"
   ]
  },
  {
   "cell_type": "markdown",
   "metadata": {},
   "source": [
    "### Examining Cluster Results"
   ]
  },
  {
   "cell_type": "code",
   "execution_count": 62,
   "metadata": {},
   "outputs": [
    {
     "data": {
      "text/plain": [
       "{'best_cor_x_y_avg_time_1': [0.9589928150599027,\n",
       "  0.961024752917065,\n",
       "  0.6895455593418125,\n",
       "  0.7268301563105832],\n",
       " 'cb_off_dist_ball_snap': [8.006467771139747,\n",
       "  14.809076594479334,\n",
       "  13.726605348009471,\n",
       "  10.325260464254058],\n",
       " 'cb_off_dist_qb_sack': [1.7696059406135365,\n",
       "  9.683775267247857,\n",
       "  9.470716317855825,\n",
       "  3.3469824768734004],\n",
       " 'ratio_qb_sack': [0.21504637673493052,\n",
       "  4.765571757001902,\n",
       "  5.216580572570496,\n",
       "  0.5818607985148957]}"
      ]
     },
     "execution_count": 62,
     "metadata": {},
     "output_type": "execute_result"
    }
   ],
   "source": [
    "get_cluster_means(X_train, f_train)"
   ]
  },
  {
   "cell_type": "markdown",
   "metadata": {
    "collapsed": true
   },
   "source": [
    "### Computing Rand Index"
   ]
  },
  {
   "cell_type": "code",
   "execution_count": 63,
   "metadata": {
    "collapsed": true
   },
   "outputs": [],
   "source": [
    "from sklearn.metrics import adjusted_rand_score"
   ]
  },
  {
   "cell_type": "code",
   "execution_count": 64,
   "metadata": {
    "collapsed": true
   },
   "outputs": [],
   "source": [
    "y_train = f_train.predict(X_test)\n",
    "y_test = f_test.predict(X_test)"
   ]
  },
  {
   "cell_type": "code",
   "execution_count": 65,
   "metadata": {},
   "outputs": [
    {
     "data": {
      "text/plain": [
       "0.7801659316228314"
      ]
     },
     "execution_count": 65,
     "metadata": {},
     "output_type": "execute_result"
    }
   ],
   "source": [
    "adjusted_rand_score(y_train, y_test)"
   ]
  },
  {
   "cell_type": "markdown",
   "metadata": {},
   "source": [
    "### Iterating Through To Get Cross-Validation Scores"
   ]
  },
  {
   "cell_type": "code",
   "execution_count": 66,
   "metadata": {
    "collapsed": true
   },
   "outputs": [],
   "source": [
    "weeks_exclude_vect = [[1,2,3],[4,5,6],[7,8,9],[10,11,12],[13,14,15],[15,16,17]]\n",
    "G_vect = [2, 3, 4, 5, 6, 7, 8, 9]\n",
    "rand_index_G_vect = []"
   ]
  },
  {
   "cell_type": "code",
   "execution_count": null,
   "metadata": {
    "scrolled": true
   },
   "outputs": [
    {
     "name": "stdout",
     "output_type": "stream",
     "text": [
      "0.8788048068159814\n",
      "0.32575119649918016\n",
      "0.7305705262508221\n",
      "0.38298278104116307\n",
      "0.5847041710023886\n",
      "0.4599898112868299\n",
      "0.4843246108193011\n"
     ]
    }
   ],
   "source": [
    "for G in G_vect:\n",
    "    rand_index_sum = 0\n",
    "    # iterating through the week groupings to leave out\n",
    "    for weeks_exclue in weeks_exclude_vect:\n",
    "        # creating train/test groups\n",
    "        train = sacks_df[[x not in weeks_exclude for x in list(sacks_df[\"week\"])]]\n",
    "        test = sacks_df[[x in weeks_exclude for x in list(sacks_df[\"week\"])]]\n",
    "\n",
    "        X_train = train.drop(['week', 'gameId','playId','nflId','displayName','position'], axis = 1)\n",
    "        X_test = test.drop(['week', 'gameId','playId','nflId','displayName','position'], axis = 1)\n",
    "\n",
    "        # train\n",
    "        clf_train = mixture.GaussianMixture(n_components=G, covariance_type='full', \n",
    "                                            n_init = 2, max_iter = 200)\n",
    "        f_train = clf_train.fit(X_train)\n",
    "\n",
    "        # test\n",
    "        clf_test = mixture.GaussianMixture(n_components=G, covariance_type='full',\n",
    "                                           n_init = 2, max_iter = 200)\n",
    "        f_test = clf_test.fit(X_test)\n",
    "\n",
    "        # classifying test group\n",
    "        y_train = f_train.predict(X_test)\n",
    "        y_test = f_test.predict(X_test)\n",
    "\n",
    "        # appling the adjusted rand index\n",
    "        rand_index_val = adjusted_rand_score(y_train, y_test)\n",
    "        rand_index_sum += rand_index_val\n",
    "\n",
    "    rand_index = rand_index_sum/len(weeks_exclude_vect)\n",
    "    \n",
    "    rand_index_G_vect.append(rand_index)\n",
    "    \n",
    "    print(rand_index)"
   ]
  },
  {
   "cell_type": "markdown",
   "metadata": {},
   "source": [
    "### Plot eliminating x/y var, speed, and def based variables, replacing Ratio with Cor"
   ]
  },
  {
   "cell_type": "code",
   "execution_count": 42,
   "metadata": {},
   "outputs": [
    {
     "data": {
      "image/png": "[encoded data removed]",
      "text/plain": [
       "<matplotlib.figure.Figure at 0x118b04f28>"
      ]
     },
     "metadata": {},
     "output_type": "display_data"
    }
   ],
   "source": [
    "plt.pyplot.figure(figsize=(10, 6))\n",
    "# plotting the results\n",
    "plt.pyplot.bar(x = G_vect,\n",
    "               height = rand_index_G_vect,\n",
    "               width = .55)\n",
    "plt.pyplot.xlabel('Number of Clusters ($G*$)')\n",
    "plt.pyplot.ylabel('ARI Score')\n",
    "plt.pyplot.ylim(0,1)\n",
    "plt.pyplot.title('ARI Score vs. Number of Clusters')\n",
    "plt.pyplot.show()"
   ]
  },
  {
   "cell_type": "markdown",
   "metadata": {},
   "source": [
    "### Feature Importance"
   ]
  },
  {
   "cell_type": "code",
   "execution_count": 43,
   "metadata": {
    "collapsed": true
   },
   "outputs": [],
   "source": [
    "import sys\n",
    "weeks_exclude_vect = [[1,2,3],[4,5,6],[7,8,9],[10,11,12],[13,14,15],[15,16,17]]\n",
    "feature_list = list(X_train.columns)\n",
    "rand_index_vect = []\n",
    "\n",
    "# making a waitbar\n",
    "toolbar_width = len(feature_list)"
   ]
  },
  {
   "cell_type": "code",
   "execution_count": 44,
   "metadata": {},
   "outputs": [
    {
     "name": "stdout",
     "output_type": "stream",
     "text": [
      "[                ----------------"
     ]
    }
   ],
   "source": [
    "sys.stdout.write(\"[%s]\" % (\" \" * toolbar_width))\n",
    "sys.stdout.flush()\n",
    "sys.stdout.write(\"\\b\" * (toolbar_width+1))\n",
    "\n",
    "for feature in feature_list:\n",
    "    \n",
    "    rand_index_sum = 0\n",
    "\n",
    "    # iterating through the week groupings to leave out\n",
    "    for weeks_exclue in weeks_exclude_vect:\n",
    "        # creating train/test groups\n",
    "        train = sacks_df[[x not in weeks_exclude for \\\n",
    "                                 x in list(sacks_df[\"week\"])]].drop([feature], axis = 1)\n",
    "        test = sacks_df[[x in weeks_exclude for \\\n",
    "                                x in list(sacks_df[\"week\"])]].drop([feature], axis = 1)\n",
    "\n",
    "        X_train = train.drop(['week', 'gameId','playId','nflId','displayName','position'], axis = 1)\n",
    "        X_test = test.drop(['week', 'gameId','playId','nflId','displayName','position'], axis = 1)\n",
    "\n",
    "        # train\n",
    "        clf_train = mixture.GaussianMixture(n_components=2, covariance_type='full')\n",
    "        f_train = clf_train.fit(X_train)\n",
    "\n",
    "        # test\n",
    "        clf_test = mixture.GaussianMixture(n_components=2, covariance_type='full')\n",
    "        f_test = clf_test.fit(X_test)\n",
    "\n",
    "        # classifying test group\n",
    "        y_train = f_train.predict(X_test)\n",
    "        y_test = f_test.predict(X_test)\n",
    "\n",
    "        # appling the adjusted rand index\n",
    "        rand_index_val = adjusted_rand_score(y_train, y_test)\n",
    "        rand_index_sum += rand_index_val\n",
    "\n",
    "    rand_index = rand_index_sum/len(weeks_exclude_vect)\n",
    "    \n",
    "    rand_index_vect.append(rand_index)\n",
    "    \n",
    "    sys.stdout.write(\"-\")\n",
    "    sys.stdout.flush()"
   ]
  },
  {
   "cell_type": "code",
   "execution_count": 45,
   "metadata": {
    "collapsed": true
   },
   "outputs": [],
   "source": [
    "d = {'feature': feature_list, 'delta_ARI': rand_index_G_vect[0] - np.array(rand_index_vect)}\n",
    "feature_imp_df = pd.DataFrame(data=d).sort_values('delta_ARI', ascending = False)\n",
    "feature_imp_df[\"base_feature\"] = [x.split('_pass_forward')[0] if \"pass_forward\" in x \\\n",
    "                                  else x.split('_ball_snap')[0] if \"ball_snap\" in x \\\n",
    "                                  else x.split('_time')[0] for x in np.array(feature_imp_df[\"feature\"])]\n",
    "feature_imp_df[\"time_period\"] = [\"Before Ball Thrown\" if \"pass_forward\" in x \\\n",
    "                                 else \"Before Ball Thrown\" if \"ball_snap\" in x \\\n",
    "                                 else \"After Ball Thrown\" if x.endswith(\"2\") \\\n",
    "                                 else \"Before Ball Thrown\" for x in np.array(feature_imp_df[\"feature\"])]\n",
    "feature_imp_df[\"feature\"] = [x.upper() for x in feature_imp_df[\"feature\"]]"
   ]
  },
  {
   "cell_type": "code",
   "execution_count": 46,
   "metadata": {},
   "outputs": [
    {
     "data": {
      "image/png": "[encoded data removed]",
      "text/plain": [
       "<matplotlib.figure.Figure at 0x108302ac8>"
      ]
     },
     "metadata": {},
     "output_type": "display_data"
    }
   ],
   "source": [
    "plt.pyplot.figure(figsize=(7,7))\n",
    "\n",
    "sns.barplot(x=\"delta_ARI\", y=\"feature\", data=feature_imp_df.head(10).sort_values('delta_ARI', ascending = True),\n",
    "            hue = \"time_period\", dodge = False, palette = [\"red\", \"blue\"])\n",
    "plt.pyplot.gca().legend().set_title('')\n",
    "plt.pyplot.title('Change in ARI vs. Feature')\n",
    "plt.pyplot.ylabel('Feature Name')\n",
    "plt.pyplot.xlabel('Change In ARI')\n",
    "plt.pyplot.show()"
   ]
  },
  {
   "cell_type": "markdown",
   "metadata": {},
   "source": [
    "### Scoring All Plays"
   ]
  },
  {
   "cell_type": "code",
   "execution_count": 113,
   "metadata": {},
   "outputs": [
    {
     "data": {
      "text/html": [
       "<div>\n",
       "<style scoped>\n",
       "    .dataframe tbody tr th:only-of-type {\n",
       "        vertical-align: middle;\n",
       "    }\n",
       "\n",
       "    .dataframe tbody tr th {\n",
       "        vertical-align: top;\n",
       "    }\n",
       "\n",
       "    .dataframe thead th {\n",
       "        text-align: right;\n",
       "    }\n",
       "</style>\n",
       "<table border=\"1\" class=\"dataframe\">\n",
       "  <thead>\n",
       "    <tr style=\"text-align: right;\">\n",
       "      <th></th>\n",
       "      <th>week</th>\n",
       "      <th>gameId</th>\n",
       "      <th>playId</th>\n",
       "      <th>nflId</th>\n",
       "      <th>displayName</th>\n",
       "      <th>position</th>\n",
       "      <th>best_cor_x_y_avg_time_1</th>\n",
       "      <th>cb_off_dist_qb_sack</th>\n",
       "      <th>ratio_qb_sack</th>\n",
       "      <th>cb_off_dist_ball_snap</th>\n",
       "    </tr>\n",
       "  </thead>\n",
       "  <tbody>\n",
       "    <tr>\n",
       "      <th>0</th>\n",
       "      <td>1</td>\n",
       "      <td>2018090600</td>\n",
       "      <td>776</td>\n",
       "      <td>2543850</td>\n",
       "      <td>Ricardo Allen</td>\n",
       "      <td>SS</td>\n",
       "      <td>0.924724</td>\n",
       "      <td>6.598015</td>\n",
       "      <td>0.644028</td>\n",
       "      <td>6.581565</td>\n",
       "    </tr>\n",
       "    <tr>\n",
       "      <th>1</th>\n",
       "      <td>1</td>\n",
       "      <td>2018090600</td>\n",
       "      <td>776</td>\n",
       "      <td>2555543</td>\n",
       "      <td>Keanu Neal</td>\n",
       "      <td>FS</td>\n",
       "      <td>0.979696</td>\n",
       "      <td>5.365855</td>\n",
       "      <td>4.228230</td>\n",
       "      <td>18.345596</td>\n",
       "    </tr>\n",
       "    <tr>\n",
       "      <th>2</th>\n",
       "      <td>1</td>\n",
       "      <td>2018090600</td>\n",
       "      <td>839</td>\n",
       "      <td>2543850</td>\n",
       "      <td>Ricardo Allen</td>\n",
       "      <td>SS</td>\n",
       "      <td>0.826277</td>\n",
       "      <td>7.749194</td>\n",
       "      <td>1.653318</td>\n",
       "      <td>17.794314</td>\n",
       "    </tr>\n",
       "    <tr>\n",
       "      <th>3</th>\n",
       "      <td>1</td>\n",
       "      <td>2018090600</td>\n",
       "      <td>839</td>\n",
       "      <td>2555543</td>\n",
       "      <td>Keanu Neal</td>\n",
       "      <td>FS</td>\n",
       "      <td>0.690475</td>\n",
       "      <td>8.188834</td>\n",
       "      <td>1.018290</td>\n",
       "      <td>5.364709</td>\n",
       "    </tr>\n",
       "    <tr>\n",
       "      <th>4</th>\n",
       "      <td>1</td>\n",
       "      <td>2018090600</td>\n",
       "      <td>1568</td>\n",
       "      <td>79848</td>\n",
       "      <td>Malcolm Jenkins</td>\n",
       "      <td>SS</td>\n",
       "      <td>0.964459</td>\n",
       "      <td>1.028591</td>\n",
       "      <td>0.237578</td>\n",
       "      <td>4.433058</td>\n",
       "    </tr>\n",
       "    <tr>\n",
       "      <th>...</th>\n",
       "      <td>...</td>\n",
       "      <td>...</td>\n",
       "      <td>...</td>\n",
       "      <td>...</td>\n",
       "      <td>...</td>\n",
       "      <td>...</td>\n",
       "      <td>...</td>\n",
       "      <td>...</td>\n",
       "      <td>...</td>\n",
       "      <td>...</td>\n",
       "    </tr>\n",
       "    <tr>\n",
       "      <th>2491</th>\n",
       "      <td>17</td>\n",
       "      <td>2018123015</td>\n",
       "      <td>3734</td>\n",
       "      <td>2495807</td>\n",
       "      <td>Antoine Bethea</td>\n",
       "      <td>FS</td>\n",
       "      <td>0.987300</td>\n",
       "      <td>4.121019</td>\n",
       "      <td>0.498126</td>\n",
       "      <td>8.829371</td>\n",
       "    </tr>\n",
       "    <tr>\n",
       "      <th>2492</th>\n",
       "      <td>17</td>\n",
       "      <td>2018123015</td>\n",
       "      <td>3734</td>\n",
       "      <td>2543830</td>\n",
       "      <td>Tre Boston</td>\n",
       "      <td>FS</td>\n",
       "      <td>0.816832</td>\n",
       "      <td>14.767383</td>\n",
       "      <td>10.000000</td>\n",
       "      <td>7.037386</td>\n",
       "    </tr>\n",
       "    <tr>\n",
       "      <th>2493</th>\n",
       "      <td>17</td>\n",
       "      <td>2018123015</td>\n",
       "      <td>3734</td>\n",
       "      <td>2558009</td>\n",
       "      <td>Budda Baker</td>\n",
       "      <td>FS</td>\n",
       "      <td>0.938292</td>\n",
       "      <td>8.273041</td>\n",
       "      <td>2.007523</td>\n",
       "      <td>2.703516</td>\n",
       "    </tr>\n",
       "    <tr>\n",
       "      <th>2494</th>\n",
       "      <td>17</td>\n",
       "      <td>2018123015</td>\n",
       "      <td>3932</td>\n",
       "      <td>2539243</td>\n",
       "      <td>Bradley McDougald</td>\n",
       "      <td>SS</td>\n",
       "      <td>0.960433</td>\n",
       "      <td>0.908020</td>\n",
       "      <td>0.064905</td>\n",
       "      <td>16.004453</td>\n",
       "    </tr>\n",
       "    <tr>\n",
       "      <th>2495</th>\n",
       "      <td>17</td>\n",
       "      <td>2018123015</td>\n",
       "      <td>3932</td>\n",
       "      <td>2558077</td>\n",
       "      <td>Delano Hill</td>\n",
       "      <td>SS</td>\n",
       "      <td>0.931072</td>\n",
       "      <td>15.710980</td>\n",
       "      <td>6.331779</td>\n",
       "      <td>15.390234</td>\n",
       "    </tr>\n",
       "  </tbody>\n",
       "</table>\n",
       "<p>2496 rows × 10 columns</p>\n",
       "</div>"
      ],
      "text/plain": [
       "      week      gameId  playId    nflId        displayName position  \\\n",
       "0        1  2018090600     776  2543850      Ricardo Allen       SS   \n",
       "1        1  2018090600     776  2555543         Keanu Neal       FS   \n",
       "2        1  2018090600     839  2543850      Ricardo Allen       SS   \n",
       "3        1  2018090600     839  2555543         Keanu Neal       FS   \n",
       "4        1  2018090600    1568    79848    Malcolm Jenkins       SS   \n",
       "...    ...         ...     ...      ...                ...      ...   \n",
       "2491    17  2018123015    3734  2495807     Antoine Bethea       FS   \n",
       "2492    17  2018123015    3734  2543830         Tre Boston       FS   \n",
       "2493    17  2018123015    3734  2558009        Budda Baker       FS   \n",
       "2494    17  2018123015    3932  2539243  Bradley McDougald       SS   \n",
       "2495    17  2018123015    3932  2558077        Delano Hill       SS   \n",
       "\n",
       "      best_cor_x_y_avg_time_1  cb_off_dist_qb_sack  ratio_qb_sack  \\\n",
       "0                    0.924724             6.598015       0.644028   \n",
       "1                    0.979696             5.365855       4.228230   \n",
       "2                    0.826277             7.749194       1.653318   \n",
       "3                    0.690475             8.188834       1.018290   \n",
       "4                    0.964459             1.028591       0.237578   \n",
       "...                       ...                  ...            ...   \n",
       "2491                 0.987300             4.121019       0.498126   \n",
       "2492                 0.816832            14.767383      10.000000   \n",
       "2493                 0.938292             8.273041       2.007523   \n",
       "2494                 0.960433             0.908020       0.064905   \n",
       "2495                 0.931072            15.710980       6.331779   \n",
       "\n",
       "      cb_off_dist_ball_snap  \n",
       "0                  6.581565  \n",
       "1                 18.345596  \n",
       "2                 17.794314  \n",
       "3                  5.364709  \n",
       "4                  4.433058  \n",
       "...                     ...  \n",
       "2491               8.829371  \n",
       "2492               7.037386  \n",
       "2493               2.703516  \n",
       "2494              16.004453  \n",
       "2495              15.390234  \n",
       "\n",
       "[2496 rows x 10 columns]"
      ]
     },
     "execution_count": 113,
     "metadata": {},
     "output_type": "execute_result"
    }
   ],
   "source": [
    "sacks_df"
   ]
  },
  {
   "cell_type": "code",
   "execution_count": 114,
   "metadata": {},
   "outputs": [
    {
     "data": {
      "text/plain": [
       "(2496, 4)"
      ]
     },
     "execution_count": 114,
     "metadata": {},
     "output_type": "execute_result"
    }
   ],
   "source": [
    "# sampling 45,000 plays to be within CPU limit\n",
    "X_train = sacks_df.drop(['week', 'gameId','playId','nflId','displayName','position'], axis = 1)\n",
    "X_train.shape"
   ]
  },
  {
   "cell_type": "code",
   "execution_count": 115,
   "metadata": {},
   "outputs": [
    {
     "data": {
      "text/plain": [
       "(2496, 4)"
      ]
     },
     "execution_count": 115,
     "metadata": {},
     "output_type": "execute_result"
    }
   ],
   "source": [
    "# all plays to score\n",
    "X_score = sacks_df.drop(['week', 'gameId','playId','nflId','displayName','position'], axis = 1)\n",
    "X_score.shape"
   ]
  },
  {
   "cell_type": "code",
   "execution_count": 116,
   "metadata": {
    "collapsed": true
   },
   "outputs": [],
   "source": [
    "# train\n",
    "clf_train = mixture.GaussianMixture(n_components=4, covariance_type='full')\n",
    "f_train = clf_train.fit(X_train)"
   ]
  },
  {
   "cell_type": "code",
   "execution_count": 117,
   "metadata": {},
   "outputs": [
    {
     "data": {
      "text/plain": [
       "{'best_cor_x_y_avg_time_1': [0.6945966948472138,\n",
       "  0.9543019594708934,\n",
       "  0.7168989647731395,\n",
       "  0.9639073479948512],\n",
       " 'cb_off_dist_ball_snap': [13.737404079934807,\n",
       "  8.129074279619939,\n",
       "  10.49589102346989,\n",
       "  14.799463555318322],\n",
       " 'cb_off_dist_qb_sack': [9.596727577777193,\n",
       "  1.7965044316225538,\n",
       "  3.5822353537228833,\n",
       "  9.689586337208905],\n",
       " 'ratio_qb_sack': [5.309729302268861,\n",
       "  0.220747632774182,\n",
       "  0.6389754837215951,\n",
       "  4.780471884612563]}"
      ]
     },
     "execution_count": 117,
     "metadata": {},
     "output_type": "execute_result"
    }
   ],
   "source": [
    "get_cluster_means(X_train, f_train)"
   ]
  },
  {
   "cell_type": "code",
   "execution_count": 118,
   "metadata": {
    "collapsed": true
   },
   "outputs": [],
   "source": [
    "full_probs = [1 - x[1] for x in f_train.predict_proba(X_score)]\n",
    "full_classes = f_train.predict(X_score)"
   ]
  },
  {
   "cell_type": "code",
   "execution_count": 119,
   "metadata": {
    "collapsed": true
   },
   "outputs": [],
   "source": [
    "full_classes2 = [0 if x == 1 else 1 for x in full_classes]"
   ]
  },
  {
   "cell_type": "code",
   "execution_count": 121,
   "metadata": {},
   "outputs": [
    {
     "data": {
      "image/png": "[encoded data removed]",
      "text/plain": [
       "<matplotlib.figure.Figure at 0x117bddcf8>"
      ]
     },
     "metadata": {},
     "output_type": "display_data"
    }
   ],
   "source": [
    "plt.pyplot.hist(full_probs, bins = 50)\n",
    "plt.pyplot.xlabel('Probability of Zone Coverage')\n",
    "plt.pyplot.ylabel('Density')\n",
    "plt.pyplot.show()"
   ]
  },
  {
   "cell_type": "code",
   "execution_count": 123,
   "metadata": {
    "collapsed": true
   },
   "outputs": [],
   "source": [
    "sacks_df[\"zone_probability\"] = full_probs\n",
    "sacks_df[\"zone_flag\"] = full_classes2\n",
    "sacks_df[\"gmm_class\"] = full_classes"
   ]
  },
  {
   "cell_type": "code",
   "execution_count": 124,
   "metadata": {
    "collapsed": true
   },
   "outputs": [],
   "source": [
    "sacks_df = pd.concat([pd.DataFrame(f_train.predict_proba(X_score)), sacks_df], axis = 1)"
   ]
  },
  {
   "cell_type": "code",
   "execution_count": 125,
   "metadata": {},
   "outputs": [
    {
     "data": {
      "text/plain": [
       "0.7892628205128205"
      ]
     },
     "execution_count": 125,
     "metadata": {},
     "output_type": "execute_result"
    }
   ],
   "source": [
    "np.mean(sacks_df[\"zone_flag\"])"
   ]
  },
  {
   "cell_type": "markdown",
   "metadata": {},
   "source": [
    "### Adding in Time Periods"
   ]
  },
  {
   "cell_type": "code",
   "execution_count": 78,
   "metadata": {
    "collapsed": true
   },
   "outputs": [],
   "source": [
    "def get_man_zone_classifications(sacks_df_new):\n",
    "    # sampling 45,000 plays to be within CPU limit\n",
    "    X_train = sacks_df_new.drop(['week', 'gameId','playId','nflId','displayName','position'], axis = 1)\n",
    "    \n",
    "    # getting df to score\n",
    "    X_score = sacks_df_new.drop(['week', 'gameId','playId','nflId','displayName','position'], axis = 1)\n",
    "    \n",
    "    # train\n",
    "    clf_train = mixture.GaussianMixture(n_components=2, covariance_type='full')\n",
    "    f_train = clf_train.fit(X_train)\n",
    "    \n",
    "    full_probs = [x[1] for x in f_train.predict_proba(X_score)]\n",
    "    full_classes = f_train.predict(X_score)\n",
    "    \n",
    "    plt.pyplot.hist(full_probs, bins = 50)\n",
    "    plt.pyplot.xlabel('Probability of Zone Coverage')\n",
    "    plt.pyplot.ylabel('Density')\n",
    "    plt.pyplot.show()\n",
    "    \n",
    "    print(get_cluster_means(X_train, f_train))\n",
    "    \n",
    "    return full_probs, full_classes"
   ]
  },
  {
   "cell_type": "code",
   "execution_count": 84,
   "metadata": {},
   "outputs": [
    {
     "data": {
      "image/png": "[encoded data removed]",
      "text/plain": [
       "<matplotlib.figure.Figure at 0x11e49d4a8>"
      ]
     },
     "metadata": {},
     "output_type": "display_data"
    },
    {
     "name": "stdout",
     "output_type": "stream",
     "text": [
      "{'off_var_time_0': (0.0014620307949031795, 0.14249862651886927), 'off_mean_time_0': (5.817345549974121, 7.628433596973305)}\n"
     ]
    }
   ],
   "source": [
    "# for time 0\n",
    "sacks_df_new = sacks_df[['week', 'gameId','playId','nflId','displayName','position'] + \\\n",
    "                                     list(sacks_df.columns[[x.endswith('0') for x in sacks_df.columns]]) + \\\n",
    "                                     list(sacks_df.columns[[x.endswith('ball_snap') for x in sacks_df.columns]])]\n",
    "\n",
    "fun0_output = get_man_zone_classifications(sacks_df_new)\n",
    "full_probs0 = fun0_output[0]\n",
    "full_classes0 = fun0_output[1]"
   ]
  },
  {
   "cell_type": "code",
   "execution_count": 86,
   "metadata": {
    "collapsed": true
   },
   "outputs": [],
   "source": [
    "sacks_df[\"zone_probability_ball_snap\"] = full_probs0\n",
    "sacks_df[\"zone_flag_ball_snap\"] = full_classes0"
   ]
  },
  {
   "cell_type": "code",
   "execution_count": 89,
   "metadata": {},
   "outputs": [
    {
     "data": {
      "image/png": "[encoded data removed]",
      "text/plain": [
       "<matplotlib.figure.Figure at 0x11e771ac8>"
      ]
     },
     "metadata": {},
     "output_type": "display_data"
    },
    {
     "name": "stdout",
     "output_type": "stream",
     "text": [
      "{'off_var_time_1': (2.822357857306718, 6.031615418172733), 'off_mean_time_1': (3.400922829684874, 6.2684388189237845), 'off_dir_var_time_1': (751.0758415383764, 1480.6007475257193), 'off_dir_mean_time_1': (20.82909142161382, 46.958642392995564), 'cor_s_time_1': (0.8701991611595982, 0.6278135182943501), 'best_cor_x_time_1': (0.9878861036220289, 0.8116322127366759), 'best_cor_y_time_1': (0.9741409033326406, 0.7735192435853472), 'best_cor_x_y_avg_time_1': (0.9810135034773348, 0.7925757281610112)}\n"
     ]
    }
   ],
   "source": [
    "# for time 1\n",
    "sacks_df_new = sacks_df[['week', 'gameId','playId','nflId','displayName','position'] + \\\n",
    "                                     list(sacks_df.columns[[x.endswith('time_1') for x in sacks_df.columns]])]\n",
    "\n",
    "fun1_output = get_man_zone_classifications(sacks_df_new)\n",
    "full_probs1 = fun1_output[0]\n",
    "full_classes1 = fun1_output[1]"
   ]
  },
  {
   "cell_type": "code",
   "execution_count": 90,
   "metadata": {
    "collapsed": true
   },
   "outputs": [],
   "source": [
    "sacks_df[\"zone_probability_drop_back\"] = full_probs1\n",
    "sacks_df[\"zone_flag_drop_back\"] = full_classes1"
   ]
  },
  {
   "cell_type": "markdown",
   "metadata": {},
   "source": [
    "### Saving Results"
   ]
  },
  {
   "cell_type": "code",
   "execution_count": 127,
   "metadata": {
    "collapsed": true
   },
   "outputs": [],
   "source": [
    "sacks_df_final = sacks_df[['week', 'gameId','playId','nflId','displayName','position'] + \\\n",
    "                                     list(sacks_df.columns[[str(x).startswith('zone') for x in sacks_df.columns]])]"
   ]
  },
  {
   "cell_type": "code",
   "execution_count": 128,
   "metadata": {},
   "outputs": [
    {
     "data": {
      "text/html": [
       "<div>\n",
       "<style scoped>\n",
       "    .dataframe tbody tr th:only-of-type {\n",
       "        vertical-align: middle;\n",
       "    }\n",
       "\n",
       "    .dataframe tbody tr th {\n",
       "        vertical-align: top;\n",
       "    }\n",
       "\n",
       "    .dataframe thead th {\n",
       "        text-align: right;\n",
       "    }\n",
       "</style>\n",
       "<table border=\"1\" class=\"dataframe\">\n",
       "  <thead>\n",
       "    <tr style=\"text-align: right;\">\n",
       "      <th></th>\n",
       "      <th>week</th>\n",
       "      <th>gameId</th>\n",
       "      <th>playId</th>\n",
       "      <th>nflId</th>\n",
       "      <th>displayName</th>\n",
       "      <th>position</th>\n",
       "      <th>zone_probability</th>\n",
       "      <th>zone_flag</th>\n",
       "    </tr>\n",
       "  </thead>\n",
       "  <tbody>\n",
       "    <tr>\n",
       "      <th>0</th>\n",
       "      <td>1</td>\n",
       "      <td>2018090600</td>\n",
       "      <td>776</td>\n",
       "      <td>2543850</td>\n",
       "      <td>Ricardo Allen</td>\n",
       "      <td>SS</td>\n",
       "      <td>0.998902</td>\n",
       "      <td>1</td>\n",
       "    </tr>\n",
       "    <tr>\n",
       "      <th>1</th>\n",
       "      <td>1</td>\n",
       "      <td>2018090600</td>\n",
       "      <td>776</td>\n",
       "      <td>2555543</td>\n",
       "      <td>Keanu Neal</td>\n",
       "      <td>FS</td>\n",
       "      <td>1.000000</td>\n",
       "      <td>1</td>\n",
       "    </tr>\n",
       "    <tr>\n",
       "      <th>2</th>\n",
       "      <td>1</td>\n",
       "      <td>2018090600</td>\n",
       "      <td>839</td>\n",
       "      <td>2543850</td>\n",
       "      <td>Ricardo Allen</td>\n",
       "      <td>SS</td>\n",
       "      <td>1.000000</td>\n",
       "      <td>1</td>\n",
       "    </tr>\n",
       "    <tr>\n",
       "      <th>3</th>\n",
       "      <td>1</td>\n",
       "      <td>2018090600</td>\n",
       "      <td>839</td>\n",
       "      <td>2555543</td>\n",
       "      <td>Keanu Neal</td>\n",
       "      <td>FS</td>\n",
       "      <td>1.000000</td>\n",
       "      <td>1</td>\n",
       "    </tr>\n",
       "    <tr>\n",
       "      <th>4</th>\n",
       "      <td>1</td>\n",
       "      <td>2018090600</td>\n",
       "      <td>1568</td>\n",
       "      <td>79848</td>\n",
       "      <td>Malcolm Jenkins</td>\n",
       "      <td>SS</td>\n",
       "      <td>0.011885</td>\n",
       "      <td>0</td>\n",
       "    </tr>\n",
       "    <tr>\n",
       "      <th>...</th>\n",
       "      <td>...</td>\n",
       "      <td>...</td>\n",
       "      <td>...</td>\n",
       "      <td>...</td>\n",
       "      <td>...</td>\n",
       "      <td>...</td>\n",
       "      <td>...</td>\n",
       "      <td>...</td>\n",
       "    </tr>\n",
       "    <tr>\n",
       "      <th>2491</th>\n",
       "      <td>17</td>\n",
       "      <td>2018123015</td>\n",
       "      <td>3734</td>\n",
       "      <td>2495807</td>\n",
       "      <td>Antoine Bethea</td>\n",
       "      <td>FS</td>\n",
       "      <td>0.210022</td>\n",
       "      <td>0</td>\n",
       "    </tr>\n",
       "    <tr>\n",
       "      <th>2492</th>\n",
       "      <td>17</td>\n",
       "      <td>2018123015</td>\n",
       "      <td>3734</td>\n",
       "      <td>2543830</td>\n",
       "      <td>Tre Boston</td>\n",
       "      <td>FS</td>\n",
       "      <td>1.000000</td>\n",
       "      <td>1</td>\n",
       "    </tr>\n",
       "    <tr>\n",
       "      <th>2493</th>\n",
       "      <td>17</td>\n",
       "      <td>2018123015</td>\n",
       "      <td>3734</td>\n",
       "      <td>2558009</td>\n",
       "      <td>Budda Baker</td>\n",
       "      <td>FS</td>\n",
       "      <td>1.000000</td>\n",
       "      <td>1</td>\n",
       "    </tr>\n",
       "    <tr>\n",
       "      <th>2494</th>\n",
       "      <td>17</td>\n",
       "      <td>2018123015</td>\n",
       "      <td>3932</td>\n",
       "      <td>2539243</td>\n",
       "      <td>Bradley McDougald</td>\n",
       "      <td>SS</td>\n",
       "      <td>0.035466</td>\n",
       "      <td>0</td>\n",
       "    </tr>\n",
       "    <tr>\n",
       "      <th>2495</th>\n",
       "      <td>17</td>\n",
       "      <td>2018123015</td>\n",
       "      <td>3932</td>\n",
       "      <td>2558077</td>\n",
       "      <td>Delano Hill</td>\n",
       "      <td>SS</td>\n",
       "      <td>1.000000</td>\n",
       "      <td>1</td>\n",
       "    </tr>\n",
       "  </tbody>\n",
       "</table>\n",
       "<p>2496 rows × 8 columns</p>\n",
       "</div>"
      ],
      "text/plain": [
       "      week      gameId  playId    nflId        displayName position  \\\n",
       "0        1  2018090600     776  2543850      Ricardo Allen       SS   \n",
       "1        1  2018090600     776  2555543         Keanu Neal       FS   \n",
       "2        1  2018090600     839  2543850      Ricardo Allen       SS   \n",
       "3        1  2018090600     839  2555543         Keanu Neal       FS   \n",
       "4        1  2018090600    1568    79848    Malcolm Jenkins       SS   \n",
       "...    ...         ...     ...      ...                ...      ...   \n",
       "2491    17  2018123015    3734  2495807     Antoine Bethea       FS   \n",
       "2492    17  2018123015    3734  2543830         Tre Boston       FS   \n",
       "2493    17  2018123015    3734  2558009        Budda Baker       FS   \n",
       "2494    17  2018123015    3932  2539243  Bradley McDougald       SS   \n",
       "2495    17  2018123015    3932  2558077        Delano Hill       SS   \n",
       "\n",
       "      zone_probability  zone_flag  \n",
       "0             0.998902          1  \n",
       "1             1.000000          1  \n",
       "2             1.000000          1  \n",
       "3             1.000000          1  \n",
       "4             0.011885          0  \n",
       "...                ...        ...  \n",
       "2491          0.210022          0  \n",
       "2492          1.000000          1  \n",
       "2493          1.000000          1  \n",
       "2494          0.035466          0  \n",
       "2495          1.000000          1  \n",
       "\n",
       "[2496 rows x 8 columns]"
      ]
     },
     "execution_count": 128,
     "metadata": {},
     "output_type": "execute_result"
    }
   ],
   "source": [
    "sacks_df_final"
   ]
  },
  {
   "cell_type": "code",
   "execution_count": 130,
   "metadata": {
    "collapsed": true
   },
   "outputs": [],
   "source": [
    "sacks_df_final.to_csv(\"~/Desktop/NFL_BIG_DATA_BOWL_2021/src/man_vs_zone/outputs/safeties_sacks_man_zone_classification.csv\", index = False)"
   ]
  },
  {
   "cell_type": "code",
   "execution_count": 129,
   "metadata": {},
   "outputs": [
    {
     "data": {
      "text/html": [
       "<div>\n",
       "<style scoped>\n",
       "    .dataframe tbody tr th:only-of-type {\n",
       "        vertical-align: middle;\n",
       "    }\n",
       "\n",
       "    .dataframe tbody tr th {\n",
       "        vertical-align: top;\n",
       "    }\n",
       "\n",
       "    .dataframe thead th {\n",
       "        text-align: right;\n",
       "    }\n",
       "</style>\n",
       "<table border=\"1\" class=\"dataframe\">\n",
       "  <thead>\n",
       "    <tr style=\"text-align: right;\">\n",
       "      <th></th>\n",
       "      <th>0</th>\n",
       "      <th>1</th>\n",
       "      <th>2</th>\n",
       "      <th>3</th>\n",
       "      <th>week</th>\n",
       "      <th>gameId</th>\n",
       "      <th>playId</th>\n",
       "      <th>nflId</th>\n",
       "      <th>displayName</th>\n",
       "      <th>position</th>\n",
       "      <th>best_cor_x_y_avg_time_1</th>\n",
       "      <th>cb_off_dist_qb_sack</th>\n",
       "      <th>ratio_qb_sack</th>\n",
       "      <th>cb_off_dist_ball_snap</th>\n",
       "      <th>zone_probability</th>\n",
       "      <th>zone_flag</th>\n",
       "      <th>gmm_class</th>\n",
       "    </tr>\n",
       "  </thead>\n",
       "  <tbody>\n",
       "  </tbody>\n",
       "</table>\n",
       "</div>"
      ],
      "text/plain": [
       "Empty DataFrame\n",
       "Columns: [0, 1, 2, 3, week, gameId, playId, nflId, displayName, position, best_cor_x_y_avg_time_1, cb_off_dist_qb_sack, ratio_qb_sack, cb_off_dist_ball_snap, zone_probability, zone_flag, gmm_class]\n",
       "Index: []"
      ]
     },
     "execution_count": 129,
     "metadata": {},
     "output_type": "execute_result"
    }
   ],
   "source": [
    "sacks_df[(sacks_df[\"gameId\"] == 2018090901) & (sacks_df[\"playId\"] == 2885)]"
   ]
  },
  {
   "cell_type": "code",
   "execution_count": 497,
   "metadata": {},
   "outputs": [
    {
     "data": {
      "text/html": [
       "<div>\n",
       "<style scoped>\n",
       "    .dataframe tbody tr th:only-of-type {\n",
       "        vertical-align: middle;\n",
       "    }\n",
       "\n",
       "    .dataframe tbody tr th {\n",
       "        vertical-align: top;\n",
       "    }\n",
       "\n",
       "    .dataframe thead th {\n",
       "        text-align: right;\n",
       "    }\n",
       "</style>\n",
       "<table border=\"1\" class=\"dataframe\">\n",
       "  <thead>\n",
       "    <tr style=\"text-align: right;\">\n",
       "      <th></th>\n",
       "      <th>displayName</th>\n",
       "    </tr>\n",
       "  </thead>\n",
       "  <tbody>\n",
       "    <tr>\n",
       "      <th>564</th>\n",
       "      <td>Joe Haden</td>\n",
       "    </tr>\n",
       "    <tr>\n",
       "      <th>565</th>\n",
       "      <td>Artie Burns</td>\n",
       "    </tr>\n",
       "    <tr>\n",
       "      <th>566</th>\n",
       "      <td>Mike Hilton</td>\n",
       "    </tr>\n",
       "    <tr>\n",
       "      <th>567</th>\n",
       "      <td>Terrell Edmunds</td>\n",
       "    </tr>\n",
       "  </tbody>\n",
       "</table>\n",
       "</div>"
      ],
      "text/plain": [
       "         displayName\n",
       "564        Joe Haden\n",
       "565      Artie Burns\n",
       "566      Mike Hilton\n",
       "567  Terrell Edmunds"
      ]
     },
     "execution_count": 497,
     "metadata": {},
     "output_type": "execute_result"
    }
   ],
   "source": [
    "sacks_df[(sacks_df[\"gameId\"] == 2018090901) & (sacks_df[\"playId\"] == 2885)][[\"displayName\"] + \\\n",
    "                            list(sacks_df.columns[['cor_s' in x for x in sacks_df.columns]])]"
   ]
  }
 ],
 "metadata": {
  "kernelspec": {
   "display_name": "Python 3",
   "language": "python",
   "name": "python3"
  },
  "language_info": {
   "codemirror_mode": {
    "name": "ipython",
    "version": 3
   },
   "file_extension": ".py",
   "mimetype": "text/x-python",
   "name": "python",
   "nbconvert_exporter": "python",
   "pygments_lexer": "ipython3",
   "version": "3.6.3"
  }
 },
 "nbformat": 4,
 "nbformat_minor": 2
}
