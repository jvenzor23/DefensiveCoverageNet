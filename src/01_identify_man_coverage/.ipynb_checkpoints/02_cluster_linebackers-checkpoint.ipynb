{
 "cells": [
  {
   "cell_type": "code",
   "execution_count": 1,
   "metadata": {
    "collapsed": true
   },
   "outputs": [],
   "source": [
    "# importing important libraries\n",
    "import matplotlib as plt\n",
    "%matplotlib inline\n",
    "import numpy as np\n",
    "from sklearn import mixture\n",
    "import pandas as pd\n",
    "import seaborn as sns"
   ]
  },
  {
   "cell_type": "code",
   "execution_count": 2,
   "metadata": {},
   "outputs": [
    {
     "data": {
      "text/html": [
       "\n",
       "<style>\n",
       ".output_png {\n",
       "    display: table-cell;\n",
       "    text-align: center;\n",
       "    vertical-align: middle;\n",
       "}\n",
       "</style>\n"
      ],
      "text/plain": [
       "<IPython.core.display.HTML object>"
      ]
     },
     "execution_count": 2,
     "metadata": {},
     "output_type": "execute_result"
    }
   ],
   "source": [
    "from IPython.core.display import HTML\n",
    "HTML(\"\"\"\n",
    "<style>\n",
    ".output_png {\n",
    "    display: table-cell;\n",
    "    text-align: center;\n",
    "    vertical-align: middle;\n",
    "}\n",
    "</style>\n",
    "\"\"\")"
   ]
  },
  {
   "cell_type": "markdown",
   "metadata": {},
   "source": [
    "# Reading in the Data"
   ]
  },
  {
   "cell_type": "code",
   "execution_count": 124,
   "metadata": {},
   "outputs": [
    {
     "data": {
      "text/plain": [
       "(29290, 157)"
      ]
     },
     "execution_count": 124,
     "metadata": {},
     "output_type": "execute_result"
    }
   ],
   "source": [
    "pass_attempt_df = \\\n",
    "    pd.read_csv(\"~/Desktop/CoverageNet/src/01_identify_man_coverage/outputs/linebackers_pass_attempts_man_zone_gmm_features_no_rushers.csv\")\n",
    "pass_attempt_df.shape"
   ]
  },
  {
   "cell_type": "code",
   "execution_count": 125,
   "metadata": {},
   "outputs": [
    {
     "data": {
      "text/plain": [
       "(1767, 98)"
      ]
     },
     "execution_count": 125,
     "metadata": {},
     "output_type": "execute_result"
    }
   ],
   "source": [
    "sacks_df = \\\n",
    "    pd.read_csv(\"~/Desktop/CoverageNet/src/01_identify_man_coverage/outputs/linebackers_sacks_man_zone_gmm_features_no_rushers.csv\")\n",
    "sacks_df.shape"
   ]
  },
  {
   "cell_type": "code",
   "execution_count": 126,
   "metadata": {},
   "outputs": [
    {
     "data": {
      "text/plain": [
       "array([ 1,  2,  3,  4,  5,  6,  7,  8,  9, 10, 11, 12, 13, 14, 15, 16, 17])"
      ]
     },
     "execution_count": 126,
     "metadata": {},
     "output_type": "execute_result"
    }
   ],
   "source": [
    "# printing the number of weeks of data available\n",
    "np.unique(pass_attempt_df['week'])"
   ]
  },
  {
   "cell_type": "markdown",
   "metadata": {},
   "source": [
    "# Clustering Pass Attempt Coverage"
   ]
  },
  {
   "cell_type": "code",
   "execution_count": 127,
   "metadata": {
    "collapsed": true
   },
   "outputs": [],
   "source": [
    "filter_col = [col for col in pass_attempt_df if not '_o_' in col]\n",
    "pass_attempt_df = pass_attempt_df[filter_col]"
   ]
  },
  {
   "cell_type": "code",
   "execution_count": 128,
   "metadata": {
    "collapsed": true
   },
   "outputs": [],
   "source": [
    "filter_col = [col for col in pass_attempt_df if not 'facing' in col]\n",
    "pass_attempt_df = pass_attempt_df[filter_col]"
   ]
  },
  {
   "cell_type": "code",
   "execution_count": 129,
   "metadata": {
    "collapsed": true
   },
   "outputs": [],
   "source": [
    "filter_col = [col for col in pass_attempt_df if not 'var_y' in col]\n",
    "pass_attempt_df = pass_attempt_df[filter_col]"
   ]
  },
  {
   "cell_type": "code",
   "execution_count": 130,
   "metadata": {
    "collapsed": true
   },
   "outputs": [],
   "source": [
    "filter_col = [col for col in pass_attempt_df if not 'var_x' in col]\n",
    "pass_attempt_df = pass_attempt_df[filter_col]"
   ]
  },
  {
   "cell_type": "code",
   "execution_count": 131,
   "metadata": {
    "collapsed": true
   },
   "outputs": [],
   "source": [
    "filter_col = [col for col in pass_attempt_df if not 'def_mean_time_0' in col]\n",
    "pass_attempt_df = pass_attempt_df[filter_col]"
   ]
  },
  {
   "cell_type": "code",
   "execution_count": 132,
   "metadata": {
    "collapsed": true
   },
   "outputs": [],
   "source": [
    "filter_col = [col for col in pass_attempt_df if not 'def' in col]\n",
    "pass_attempt_df = pass_attempt_df[filter_col]"
   ]
  },
  {
   "cell_type": "code",
   "execution_count": 133,
   "metadata": {
    "collapsed": true
   },
   "outputs": [],
   "source": [
    "filter_col = [col for col in pass_attempt_df if not 'def_var_time_0' in col]\n",
    "pass_attempt_df = pass_attempt_df[filter_col]"
   ]
  },
  {
   "cell_type": "code",
   "execution_count": 134,
   "metadata": {},
   "outputs": [
    {
     "data": {
      "text/plain": [
       "Index(['week', 'gameId', 'playId', 'nflId', 'displayName', 'position',\n",
       "       'speed_var_time_0', 'speed_var_time_0_1', 'speed_var_time_1',\n",
       "       'speed_var_time_1_2',\n",
       "       ...\n",
       "       'best_cor_y_time_0', 'best_cor_y_time_0_1', 'best_cor_y_time_1',\n",
       "       'best_cor_y_time_1_2', 'best_cor_y_time_2', 'best_cor_x_y_avg_time_0',\n",
       "       'best_cor_x_y_avg_time_0_1', 'best_cor_x_y_avg_time_1',\n",
       "       'best_cor_x_y_avg_time_1_2', 'best_cor_x_y_avg_time_2'],\n",
       "      dtype='object', length=105)"
      ]
     },
     "execution_count": 134,
     "metadata": {},
     "output_type": "execute_result"
    }
   ],
   "source": [
    "pass_attempt_df.columns"
   ]
  },
  {
   "cell_type": "code",
   "execution_count": 135,
   "metadata": {
    "collapsed": true
   },
   "outputs": [],
   "source": [
    "filter_col = [col for col in pass_attempt_df if not (('cor' in col) and ('best' not in col) and ('s' not in col))]\n",
    "pass_attempt_df = pass_attempt_df[filter_col]"
   ]
  },
  {
   "cell_type": "code",
   "execution_count": 136,
   "metadata": {
    "collapsed": true
   },
   "outputs": [],
   "source": [
    "filter_col = [col for col in pass_attempt_df if not (('cor_rot' in col))]\n",
    "pass_attempt_df = pass_attempt_df[filter_col]"
   ]
  },
  {
   "cell_type": "code",
   "execution_count": 137,
   "metadata": {
    "collapsed": true
   },
   "outputs": [],
   "source": [
    "filter_col = [col for col in pass_attempt_df if not (('cor' in col) and ('time_0' in col))]\n",
    "pass_attempt_df = pass_attempt_df[filter_col]"
   ]
  },
  {
   "cell_type": "code",
   "execution_count": 138,
   "metadata": {
    "collapsed": true
   },
   "outputs": [],
   "source": [
    "filter_col = [col for col in pass_attempt_df if not (('cor' in col) and ('time_2' in col))]\n",
    "pass_attempt_df = pass_attempt_df[filter_col]"
   ]
  },
  {
   "cell_type": "code",
   "execution_count": 139,
   "metadata": {
    "collapsed": true
   },
   "outputs": [],
   "source": [
    "# filter_col = [col for col in pass_attempt_df if not (('cor' in col) and ('x_y' not in col))]\n",
    "# pass_attempt_df = pass_attempt_df[filter_col]"
   ]
  },
  {
   "cell_type": "code",
   "execution_count": 140,
   "metadata": {
    "collapsed": true
   },
   "outputs": [],
   "source": [
    "filter_col = [col for col in pass_attempt_df if not 'off_dir_var_time_0' in col]\n",
    "pass_attempt_df = pass_attempt_df[filter_col]"
   ]
  },
  {
   "cell_type": "code",
   "execution_count": 141,
   "metadata": {
    "collapsed": true
   },
   "outputs": [],
   "source": [
    "filter_col = [col for col in pass_attempt_df if not 'speed' in col]\n",
    "pass_attempt_df = pass_attempt_df[filter_col]"
   ]
  },
  {
   "cell_type": "code",
   "execution_count": 142,
   "metadata": {
    "collapsed": true
   },
   "outputs": [],
   "source": [
    "pass_attempt_df = pass_attempt_df.drop(['cb_off_dir_diff_ball_snap', 'cb_off_dist_ball_snap',\n",
    "                                       'off_dir_mean_time_0', 'cb_off_dist_pass_forward',\n",
    "                                       'off_mean_between_ball_snap_and_pass_forward'], axis = 1)"
   ]
  },
  {
   "cell_type": "code",
   "execution_count": 143,
   "metadata": {
    "collapsed": true
   },
   "outputs": [],
   "source": [
    "filter_col = [col for col in pass_attempt_df if (not 'rat' in col)|('ratio_pass_forward' in col)]\n",
    "pass_attempt_df = pass_attempt_df[filter_col]"
   ]
  },
  {
   "cell_type": "code",
   "execution_count": 144,
   "metadata": {
    "collapsed": true
   },
   "outputs": [],
   "source": [
    "# filter_col = [col for col in pass_attempt_df if (not 'best' in col)]\n",
    "# pass_attempt_df = pass_attempt_df[filter_col]"
   ]
  },
  {
   "cell_type": "code",
   "execution_count": 145,
   "metadata": {},
   "outputs": [
    {
     "data": {
      "text/plain": [
       "Index(['week', 'gameId', 'playId', 'nflId', 'displayName', 'position',\n",
       "       'off_var_time_0', 'off_var_time_0_1', 'off_var_time_1',\n",
       "       'off_var_time_1_2', 'off_var_time_2', 'off_mean_time_0',\n",
       "       'off_mean_time_0_1', 'off_mean_time_1', 'off_mean_time_1_2',\n",
       "       'off_mean_time_2', 'off_dir_var_time_1', 'off_dir_var_time_1_2',\n",
       "       'off_dir_var_time_2', 'off_dir_mean_time_0_1', 'off_dir_mean_time_1',\n",
       "       'off_dir_mean_time_1_2', 'off_dir_mean_time_2', 'cor_s_time_1',\n",
       "       'cor_s_time_1_2', 'ratio_pass_forward', 'cb_off_dir_diff_pass_forward',\n",
       "       'off_dir_diff_between_ball_snap_and_pass_forward', 'best_cor_x_time_1',\n",
       "       'best_cor_x_time_1_2', 'best_cor_y_time_1', 'best_cor_y_time_1_2',\n",
       "       'best_cor_x_y_avg_time_1', 'best_cor_x_y_avg_time_1_2'],\n",
       "      dtype='object')"
      ]
     },
     "execution_count": 145,
     "metadata": {},
     "output_type": "execute_result"
    }
   ],
   "source": [
    "pass_attempt_df.columns"
   ]
  },
  {
   "cell_type": "code",
   "execution_count": 146,
   "metadata": {
    "collapsed": true
   },
   "outputs": [],
   "source": [
    "pass_attempt_df[\"cor_dist_inter\"] = (pass_attempt_df[\"best_cor_x_y_avg_time_1\"]**2)/pass_attempt_df[\"off_mean_time_1\"]\n",
    "pass_attempt_df[\"cor_dist_inter\"] = pass_attempt_df[\"cor_dist_inter\"].fillna(0)\n",
    "pass_attempt_df[\"cor_dist_inter\"] = pass_attempt_df[\"cor_dist_inter\"].replace([np.inf], \\\n",
    "                np.percentile(np.array(pass_attempt_df[\"cor_dist_inter\"]), 99))\n",
    "pass_attempt_df[\"cor_dist_inter\"] = pass_attempt_df[\"cor_dist_inter\"].replace([-np.inf], \\\n",
    "                np.percentile(np.array(pass_attempt_df[\"cor_dist_inter\"]), 1))"
   ]
  },
  {
   "cell_type": "code",
   "execution_count": 147,
   "metadata": {},
   "outputs": [
    {
     "data": {
      "text/html": [
       "<div>\n",
       "<style scoped>\n",
       "    .dataframe tbody tr th:only-of-type {\n",
       "        vertical-align: middle;\n",
       "    }\n",
       "\n",
       "    .dataframe tbody tr th {\n",
       "        vertical-align: top;\n",
       "    }\n",
       "\n",
       "    .dataframe thead th {\n",
       "        text-align: right;\n",
       "    }\n",
       "</style>\n",
       "<table border=\"1\" class=\"dataframe\">\n",
       "  <thead>\n",
       "    <tr style=\"text-align: right;\">\n",
       "      <th></th>\n",
       "      <th>week</th>\n",
       "      <th>gameId</th>\n",
       "      <th>playId</th>\n",
       "      <th>nflId</th>\n",
       "      <th>displayName</th>\n",
       "      <th>position</th>\n",
       "      <th>off_var_time_0</th>\n",
       "      <th>off_var_time_0_1</th>\n",
       "      <th>off_var_time_1</th>\n",
       "      <th>off_var_time_1_2</th>\n",
       "      <th>...</th>\n",
       "      <th>ratio_pass_forward</th>\n",
       "      <th>cb_off_dir_diff_pass_forward</th>\n",
       "      <th>off_dir_diff_between_ball_snap_and_pass_forward</th>\n",
       "      <th>best_cor_x_time_1</th>\n",
       "      <th>best_cor_x_time_1_2</th>\n",
       "      <th>best_cor_y_time_1</th>\n",
       "      <th>best_cor_y_time_1_2</th>\n",
       "      <th>best_cor_x_y_avg_time_1</th>\n",
       "      <th>best_cor_x_y_avg_time_1_2</th>\n",
       "      <th>cor_dist_inter</th>\n",
       "    </tr>\n",
       "  </thead>\n",
       "  <tbody>\n",
       "    <tr>\n",
       "      <th>0</th>\n",
       "      <td>1</td>\n",
       "      <td>2018090600</td>\n",
       "      <td>75</td>\n",
       "      <td>2552315</td>\n",
       "      <td>Jordan Hicks</td>\n",
       "      <td>MLB</td>\n",
       "      <td>0.001303</td>\n",
       "      <td>2.085897</td>\n",
       "      <td>2.002326</td>\n",
       "      <td>1.467688</td>\n",
       "      <td>...</td>\n",
       "      <td>0.827710</td>\n",
       "      <td>38.51</td>\n",
       "      <td>171.86</td>\n",
       "      <td>-0.109033</td>\n",
       "      <td>0.795172</td>\n",
       "      <td>0.990021</td>\n",
       "      <td>0.927844</td>\n",
       "      <td>0.440494</td>\n",
       "      <td>0.861508</td>\n",
       "      <td>0.040278</td>\n",
       "    </tr>\n",
       "    <tr>\n",
       "      <th>1</th>\n",
       "      <td>1</td>\n",
       "      <td>2018090600</td>\n",
       "      <td>75</td>\n",
       "      <td>2558175</td>\n",
       "      <td>Nate Gerry</td>\n",
       "      <td>LB</td>\n",
       "      <td>0.000493</td>\n",
       "      <td>0.670105</td>\n",
       "      <td>0.878753</td>\n",
       "      <td>0.839347</td>\n",
       "      <td>...</td>\n",
       "      <td>1.179711</td>\n",
       "      <td>42.82</td>\n",
       "      <td>56.16</td>\n",
       "      <td>0.946952</td>\n",
       "      <td>0.957219</td>\n",
       "      <td>0.990986</td>\n",
       "      <td>0.864381</td>\n",
       "      <td>0.968969</td>\n",
       "      <td>0.910800</td>\n",
       "      <td>0.168264</td>\n",
       "    </tr>\n",
       "    <tr>\n",
       "      <th>2</th>\n",
       "      <td>1</td>\n",
       "      <td>2018090600</td>\n",
       "      <td>146</td>\n",
       "      <td>2552315</td>\n",
       "      <td>Jordan Hicks</td>\n",
       "      <td>MLB</td>\n",
       "      <td>0.000034</td>\n",
       "      <td>0.414321</td>\n",
       "      <td>0.553661</td>\n",
       "      <td>2.006090</td>\n",
       "      <td>...</td>\n",
       "      <td>1.024368</td>\n",
       "      <td>95.42</td>\n",
       "      <td>14.56</td>\n",
       "      <td>0.894274</td>\n",
       "      <td>0.957562</td>\n",
       "      <td>0.963245</td>\n",
       "      <td>0.953468</td>\n",
       "      <td>0.928760</td>\n",
       "      <td>0.955515</td>\n",
       "      <td>0.136255</td>\n",
       "    </tr>\n",
       "    <tr>\n",
       "      <th>3</th>\n",
       "      <td>1</td>\n",
       "      <td>2018090600</td>\n",
       "      <td>146</td>\n",
       "      <td>2556363</td>\n",
       "      <td>Kamu Grugier-Hill</td>\n",
       "      <td>OLB</td>\n",
       "      <td>0.003086</td>\n",
       "      <td>2.208688</td>\n",
       "      <td>2.400657</td>\n",
       "      <td>2.309942</td>\n",
       "      <td>...</td>\n",
       "      <td>1.113821</td>\n",
       "      <td>49.97</td>\n",
       "      <td>106.82</td>\n",
       "      <td>0.818192</td>\n",
       "      <td>0.867466</td>\n",
       "      <td>0.954204</td>\n",
       "      <td>0.598747</td>\n",
       "      <td>0.886198</td>\n",
       "      <td>0.733106</td>\n",
       "      <td>0.182547</td>\n",
       "    </tr>\n",
       "    <tr>\n",
       "      <th>4</th>\n",
       "      <td>1</td>\n",
       "      <td>2018090600</td>\n",
       "      <td>168</td>\n",
       "      <td>2552315</td>\n",
       "      <td>Jordan Hicks</td>\n",
       "      <td>MLB</td>\n",
       "      <td>0.000127</td>\n",
       "      <td>3.665084</td>\n",
       "      <td>3.950894</td>\n",
       "      <td>3.611672</td>\n",
       "      <td>...</td>\n",
       "      <td>1.304995</td>\n",
       "      <td>82.31</td>\n",
       "      <td>71.29</td>\n",
       "      <td>-0.978096</td>\n",
       "      <td>0.545482</td>\n",
       "      <td>0.996558</td>\n",
       "      <td>-0.129083</td>\n",
       "      <td>0.009231</td>\n",
       "      <td>0.208199</td>\n",
       "      <td>0.000011</td>\n",
       "    </tr>\n",
       "    <tr>\n",
       "      <th>5</th>\n",
       "      <td>1</td>\n",
       "      <td>2018090600</td>\n",
       "      <td>168</td>\n",
       "      <td>2556363</td>\n",
       "      <td>Kamu Grugier-Hill</td>\n",
       "      <td>OLB</td>\n",
       "      <td>0.000631</td>\n",
       "      <td>4.088357</td>\n",
       "      <td>4.393762</td>\n",
       "      <td>9.359914</td>\n",
       "      <td>...</td>\n",
       "      <td>0.766287</td>\n",
       "      <td>55.44</td>\n",
       "      <td>66.40</td>\n",
       "      <td>-0.966562</td>\n",
       "      <td>-0.783156</td>\n",
       "      <td>0.993911</td>\n",
       "      <td>0.997322</td>\n",
       "      <td>0.013674</td>\n",
       "      <td>0.107083</td>\n",
       "      <td>0.000023</td>\n",
       "    </tr>\n",
       "    <tr>\n",
       "      <th>6</th>\n",
       "      <td>1</td>\n",
       "      <td>2018090600</td>\n",
       "      <td>256</td>\n",
       "      <td>2552315</td>\n",
       "      <td>Jordan Hicks</td>\n",
       "      <td>MLB</td>\n",
       "      <td>0.012023</td>\n",
       "      <td>0.184167</td>\n",
       "      <td>0.220404</td>\n",
       "      <td>0.284113</td>\n",
       "      <td>...</td>\n",
       "      <td>3.060857</td>\n",
       "      <td>21.24</td>\n",
       "      <td>81.14</td>\n",
       "      <td>0.978594</td>\n",
       "      <td>0.971132</td>\n",
       "      <td>0.907902</td>\n",
       "      <td>0.983829</td>\n",
       "      <td>0.943248</td>\n",
       "      <td>0.977480</td>\n",
       "      <td>0.120258</td>\n",
       "    </tr>\n",
       "    <tr>\n",
       "      <th>7</th>\n",
       "      <td>1</td>\n",
       "      <td>2018090600</td>\n",
       "      <td>256</td>\n",
       "      <td>2556363</td>\n",
       "      <td>Kamu Grugier-Hill</td>\n",
       "      <td>OLB</td>\n",
       "      <td>0.030573</td>\n",
       "      <td>0.584233</td>\n",
       "      <td>0.617497</td>\n",
       "      <td>2.236578</td>\n",
       "      <td>...</td>\n",
       "      <td>0.614270</td>\n",
       "      <td>46.12</td>\n",
       "      <td>24.10</td>\n",
       "      <td>0.997387</td>\n",
       "      <td>0.953758</td>\n",
       "      <td>0.981838</td>\n",
       "      <td>0.991478</td>\n",
       "      <td>0.989613</td>\n",
       "      <td>0.972618</td>\n",
       "      <td>0.187451</td>\n",
       "    </tr>\n",
       "    <tr>\n",
       "      <th>8</th>\n",
       "      <td>1</td>\n",
       "      <td>2018090600</td>\n",
       "      <td>256</td>\n",
       "      <td>2558175</td>\n",
       "      <td>Nate Gerry</td>\n",
       "      <td>LB</td>\n",
       "      <td>0.161107</td>\n",
       "      <td>2.033718</td>\n",
       "      <td>1.310102</td>\n",
       "      <td>1.148418</td>\n",
       "      <td>...</td>\n",
       "      <td>0.326706</td>\n",
       "      <td>26.25</td>\n",
       "      <td>170.25</td>\n",
       "      <td>0.930260</td>\n",
       "      <td>0.968140</td>\n",
       "      <td>0.770423</td>\n",
       "      <td>0.987884</td>\n",
       "      <td>0.850342</td>\n",
       "      <td>0.978012</td>\n",
       "      <td>0.211647</td>\n",
       "    </tr>\n",
       "    <tr>\n",
       "      <th>9</th>\n",
       "      <td>1</td>\n",
       "      <td>2018090600</td>\n",
       "      <td>320</td>\n",
       "      <td>2555162</td>\n",
       "      <td>Deion Jones</td>\n",
       "      <td>MLB</td>\n",
       "      <td>0.001273</td>\n",
       "      <td>1.523941</td>\n",
       "      <td>1.778932</td>\n",
       "      <td>1.835451</td>\n",
       "      <td>...</td>\n",
       "      <td>1.493859</td>\n",
       "      <td>2.03</td>\n",
       "      <td>46.17</td>\n",
       "      <td>0.995846</td>\n",
       "      <td>0.998418</td>\n",
       "      <td>0.988831</td>\n",
       "      <td>0.964001</td>\n",
       "      <td>0.992338</td>\n",
       "      <td>0.981209</td>\n",
       "      <td>0.158514</td>\n",
       "    </tr>\n",
       "  </tbody>\n",
       "</table>\n",
       "<p>10 rows × 35 columns</p>\n",
       "</div>"
      ],
      "text/plain": [
       "   week      gameId  playId    nflId        displayName position  \\\n",
       "0     1  2018090600      75  2552315       Jordan Hicks      MLB   \n",
       "1     1  2018090600      75  2558175         Nate Gerry       LB   \n",
       "2     1  2018090600     146  2552315       Jordan Hicks      MLB   \n",
       "3     1  2018090600     146  2556363  Kamu Grugier-Hill      OLB   \n",
       "4     1  2018090600     168  2552315       Jordan Hicks      MLB   \n",
       "5     1  2018090600     168  2556363  Kamu Grugier-Hill      OLB   \n",
       "6     1  2018090600     256  2552315       Jordan Hicks      MLB   \n",
       "7     1  2018090600     256  2556363  Kamu Grugier-Hill      OLB   \n",
       "8     1  2018090600     256  2558175         Nate Gerry       LB   \n",
       "9     1  2018090600     320  2555162        Deion Jones      MLB   \n",
       "\n",
       "   off_var_time_0  off_var_time_0_1  off_var_time_1  off_var_time_1_2  ...  \\\n",
       "0        0.001303          2.085897        2.002326          1.467688  ...   \n",
       "1        0.000493          0.670105        0.878753          0.839347  ...   \n",
       "2        0.000034          0.414321        0.553661          2.006090  ...   \n",
       "3        0.003086          2.208688        2.400657          2.309942  ...   \n",
       "4        0.000127          3.665084        3.950894          3.611672  ...   \n",
       "5        0.000631          4.088357        4.393762          9.359914  ...   \n",
       "6        0.012023          0.184167        0.220404          0.284113  ...   \n",
       "7        0.030573          0.584233        0.617497          2.236578  ...   \n",
       "8        0.161107          2.033718        1.310102          1.148418  ...   \n",
       "9        0.001273          1.523941        1.778932          1.835451  ...   \n",
       "\n",
       "   ratio_pass_forward  cb_off_dir_diff_pass_forward  \\\n",
       "0            0.827710                         38.51   \n",
       "1            1.179711                         42.82   \n",
       "2            1.024368                         95.42   \n",
       "3            1.113821                         49.97   \n",
       "4            1.304995                         82.31   \n",
       "5            0.766287                         55.44   \n",
       "6            3.060857                         21.24   \n",
       "7            0.614270                         46.12   \n",
       "8            0.326706                         26.25   \n",
       "9            1.493859                          2.03   \n",
       "\n",
       "   off_dir_diff_between_ball_snap_and_pass_forward  best_cor_x_time_1  \\\n",
       "0                                           171.86          -0.109033   \n",
       "1                                            56.16           0.946952   \n",
       "2                                            14.56           0.894274   \n",
       "3                                           106.82           0.818192   \n",
       "4                                            71.29          -0.978096   \n",
       "5                                            66.40          -0.966562   \n",
       "6                                            81.14           0.978594   \n",
       "7                                            24.10           0.997387   \n",
       "8                                           170.25           0.930260   \n",
       "9                                            46.17           0.995846   \n",
       "\n",
       "   best_cor_x_time_1_2  best_cor_y_time_1  best_cor_y_time_1_2  \\\n",
       "0             0.795172           0.990021             0.927844   \n",
       "1             0.957219           0.990986             0.864381   \n",
       "2             0.957562           0.963245             0.953468   \n",
       "3             0.867466           0.954204             0.598747   \n",
       "4             0.545482           0.996558            -0.129083   \n",
       "5            -0.783156           0.993911             0.997322   \n",
       "6             0.971132           0.907902             0.983829   \n",
       "7             0.953758           0.981838             0.991478   \n",
       "8             0.968140           0.770423             0.987884   \n",
       "9             0.998418           0.988831             0.964001   \n",
       "\n",
       "   best_cor_x_y_avg_time_1  best_cor_x_y_avg_time_1_2  cor_dist_inter  \n",
       "0                 0.440494                   0.861508        0.040278  \n",
       "1                 0.968969                   0.910800        0.168264  \n",
       "2                 0.928760                   0.955515        0.136255  \n",
       "3                 0.886198                   0.733106        0.182547  \n",
       "4                 0.009231                   0.208199        0.000011  \n",
       "5                 0.013674                   0.107083        0.000023  \n",
       "6                 0.943248                   0.977480        0.120258  \n",
       "7                 0.989613                   0.972618        0.187451  \n",
       "8                 0.850342                   0.978012        0.211647  \n",
       "9                 0.992338                   0.981209        0.158514  \n",
       "\n",
       "[10 rows x 35 columns]"
      ]
     },
     "execution_count": 147,
     "metadata": {},
     "output_type": "execute_result"
    }
   ],
   "source": [
    "pass_attempt_df.head(10)"
   ]
  },
  {
   "cell_type": "code",
   "execution_count": 148,
   "metadata": {},
   "outputs": [
    {
     "data": {
      "text/plain": [
       "Index(['week', 'gameId', 'playId', 'nflId', 'displayName', 'position',\n",
       "       'off_var_time_0', 'off_var_time_0_1', 'off_var_time_1',\n",
       "       'off_var_time_1_2', 'off_var_time_2', 'off_mean_time_0',\n",
       "       'off_mean_time_0_1', 'off_mean_time_1', 'off_mean_time_1_2',\n",
       "       'off_mean_time_2', 'off_dir_var_time_1', 'off_dir_var_time_1_2',\n",
       "       'off_dir_var_time_2', 'off_dir_mean_time_0_1', 'off_dir_mean_time_1',\n",
       "       'off_dir_mean_time_1_2', 'off_dir_mean_time_2', 'cor_s_time_1',\n",
       "       'cor_s_time_1_2', 'ratio_pass_forward', 'cb_off_dir_diff_pass_forward',\n",
       "       'off_dir_diff_between_ball_snap_and_pass_forward', 'best_cor_x_time_1',\n",
       "       'best_cor_x_time_1_2', 'best_cor_y_time_1', 'best_cor_y_time_1_2',\n",
       "       'best_cor_x_y_avg_time_1', 'best_cor_x_y_avg_time_1_2',\n",
       "       'cor_dist_inter'],\n",
       "      dtype='object')"
      ]
     },
     "execution_count": 148,
     "metadata": {},
     "output_type": "execute_result"
    }
   ],
   "source": [
    "pass_attempt_df.columns"
   ]
  },
  {
   "cell_type": "markdown",
   "metadata": {},
   "source": [
    "### Preparing Train/Test Groups"
   ]
  },
  {
   "cell_type": "code",
   "execution_count": 149,
   "metadata": {
    "collapsed": true
   },
   "outputs": [],
   "source": [
    "weeks_exclude = [1, 2, 3]\n",
    "train = pass_attempt_df[[x not in weeks_exclude for x in list(pass_attempt_df[\"week\"])]]\n",
    "test = pass_attempt_df[[x in weeks_exclude for x in list(pass_attempt_df[\"week\"])]]"
   ]
  },
  {
   "cell_type": "code",
   "execution_count": 150,
   "metadata": {},
   "outputs": [],
   "source": [
    "X_train = train.drop(['week', 'gameId','playId','nflId','displayName','position'], axis = 1)\n",
    "X_test = test.drop(['week', 'gameId','playId','nflId','displayName','position'], axis = 1)"
   ]
  },
  {
   "cell_type": "code",
   "execution_count": 151,
   "metadata": {},
   "outputs": [
    {
     "name": "stdout",
     "output_type": "stream",
     "text": [
      "(23646, 29)\n",
      "(5644, 29)\n"
     ]
    }
   ],
   "source": [
    "print(X_train.shape)\n",
    "print(X_test.shape)"
   ]
  },
  {
   "cell_type": "markdown",
   "metadata": {},
   "source": [
    "### Fitting GMM Model"
   ]
  },
  {
   "cell_type": "code",
   "execution_count": 152,
   "metadata": {
    "collapsed": true
   },
   "outputs": [],
   "source": [
    "# train\n",
    "clf_train = mixture.GaussianMixture(n_components=3, covariance_type='full')\n",
    "f_train = clf_train.fit(X_train)"
   ]
  },
  {
   "cell_type": "code",
   "execution_count": 153,
   "metadata": {
    "collapsed": true
   },
   "outputs": [],
   "source": [
    "# test\n",
    "clf_test = mixture.GaussianMixture(n_components=3, covariance_type='full')\n",
    "f_test = clf_test.fit(X_test)"
   ]
  },
  {
   "cell_type": "markdown",
   "metadata": {},
   "source": [
    "### Examining Cluster Results"
   ]
  },
  {
   "cell_type": "code",
   "execution_count": 154,
   "metadata": {
    "collapsed": true
   },
   "outputs": [],
   "source": [
    "def get_cluster_means(X, f):\n",
    "    cluster_means = {}\n",
    "    for iCnt in range(len(X.columns)):\n",
    "        cluster_means.update({X.columns[iCnt]:(f.means_[0][iCnt],\n",
    "                                               f.means_[1][iCnt],\n",
    "                                               f.means_[2][iCnt])})\n",
    "    return cluster_means"
   ]
  },
  {
   "cell_type": "code",
   "execution_count": 155,
   "metadata": {},
   "outputs": [
    {
     "data": {
      "text/plain": [
       "{'best_cor_x_time_1': (0.7155018313500486,\n",
       "  0.9761931557181974,\n",
       "  0.7876569803555526),\n",
       " 'best_cor_x_time_1_2': (0.6894563432166846,\n",
       "  0.9708742513094798,\n",
       "  0.7555058238579467),\n",
       " 'best_cor_x_y_avg_time_1': (0.7159926170211794,\n",
       "  0.9762838224135815,\n",
       "  0.7669395832801416),\n",
       " 'best_cor_x_y_avg_time_1_2': (0.7286120326360858,\n",
       "  0.9661081688034576,\n",
       "  0.7523265789313552),\n",
       " 'best_cor_y_time_1': (0.7164834026373259,\n",
       "  0.9763744895139489,\n",
       "  0.7462221865090629),\n",
       " 'best_cor_y_time_1_2': (0.7677677215735907,\n",
       "  0.9613420863666177,\n",
       "  0.7491473346140346),\n",
       " 'cb_off_dir_diff_pass_forward': (38.0267644253485,\n",
       "  33.179537766084,\n",
       "  71.23810158734165),\n",
       " 'cor_dist_inter': (0.1135664080559506,\n",
       "  0.21952550205993954,\n",
       "  0.11686436187057285),\n",
       " 'cor_s_time_1': (0.7269911612683141, 0.8774638375326284, 0.6260531391536068),\n",
       " 'cor_s_time_1_2': (0.6450532913570887,\n",
       "  0.768816535238976,\n",
       "  0.47796110269857356),\n",
       " 'off_dir_diff_between_ball_snap_and_pass_forward': (72.81991545627184,\n",
       "  35.29113055612706,\n",
       "  63.69342699132053),\n",
       " 'off_dir_mean_time_0_1': (75.01418664787751,\n",
       "  58.21313362704903,\n",
       "  73.5256331643372),\n",
       " 'off_dir_mean_time_1': (68.42271363917084,\n",
       "  45.76548925503209,\n",
       "  67.89371289722871),\n",
       " 'off_dir_mean_time_1_2': (59.58758807883963,\n",
       "  43.89994064348228,\n",
       "  67.7392785368331),\n",
       " 'off_dir_mean_time_2': (35.15153356622001,\n",
       "  39.61093074624328,\n",
       "  70.78123952129916),\n",
       " 'off_dir_var_time_1': (1712.8391324294814,\n",
       "  1142.4475096721126,\n",
       "  1694.4496302627556),\n",
       " 'off_dir_var_time_1_2': (1773.228393678349,\n",
       "  1169.597898706389,\n",
       "  2032.125982899514),\n",
       " 'off_dir_var_time_2': (196.9973053742026,\n",
       "  447.2830095990703,\n",
       "  1150.6354218522808),\n",
       " 'off_mean_time_0': (6.86547771246967, 6.622387367134616, 7.146766795005622),\n",
       " 'off_mean_time_0_1': (5.999962083194713,\n",
       "  5.690937272823662,\n",
       "  6.520521484991257),\n",
       " 'off_mean_time_1': (5.687665869269559, 5.337029886685491, 6.300660910780292),\n",
       " 'off_mean_time_1_2': (5.355366103102173,\n",
       "  5.038869129946282,\n",
       "  6.403341924003265),\n",
       " 'off_mean_time_2': (4.460675236762202, 4.157244123003235, 6.642820923942098),\n",
       " 'off_var_time_0': (0.0030814516999246593,\n",
       "  0.027320153501627756,\n",
       "  0.03529624230485976),\n",
       " 'off_var_time_0_1': (2.0938512388835475, 1.96571652494243, 3.230050844133361),\n",
       " 'off_var_time_1': (2.102347326686083, 1.8934923627091307, 3.2446136912774954),\n",
       " 'off_var_time_1_2': (2.6867497345669964,\n",
       "  2.4569467961283635,\n",
       "  5.413853290395497),\n",
       " 'off_var_time_2': (0.3369800436780782,\n",
       "  0.42770704924393443,\n",
       "  1.5747440577285012),\n",
       " 'ratio_pass_forward': (1.6367647668832535,\n",
       "  1.0217642447340856,\n",
       "  2.6576585268066477)}"
      ]
     },
     "execution_count": 155,
     "metadata": {},
     "output_type": "execute_result"
    }
   ],
   "source": [
    "get_cluster_means(X_train, f_train)"
   ]
  },
  {
   "cell_type": "markdown",
   "metadata": {
    "collapsed": true
   },
   "source": [
    "### Computing Rand Index"
   ]
  },
  {
   "cell_type": "code",
   "execution_count": 156,
   "metadata": {
    "collapsed": true
   },
   "outputs": [],
   "source": [
    "from sklearn.metrics import adjusted_rand_score"
   ]
  },
  {
   "cell_type": "code",
   "execution_count": 157,
   "metadata": {
    "collapsed": true
   },
   "outputs": [],
   "source": [
    "y_train = f_train.predict(X_test)\n",
    "y_test = f_test.predict(X_test)"
   ]
  },
  {
   "cell_type": "code",
   "execution_count": 158,
   "metadata": {},
   "outputs": [
    {
     "data": {
      "text/plain": [
       "0.5953051317629995"
      ]
     },
     "execution_count": 158,
     "metadata": {},
     "output_type": "execute_result"
    }
   ],
   "source": [
    "adjusted_rand_score(y_train, y_test)"
   ]
  },
  {
   "cell_type": "markdown",
   "metadata": {},
   "source": [
    "### Iterating Through To Get Cross-Validation Scores"
   ]
  },
  {
   "cell_type": "code",
   "execution_count": 159,
   "metadata": {
    "collapsed": true
   },
   "outputs": [],
   "source": [
    "weeks_exclude_vect = [[1,2,3],[4,5,6],[7,8,9],[10,11,12],[13,14,15],[15,16,17]]\n",
    "G_vect = [2, 3, 4, 5, 6, 7, 8, 9]\n",
    "rand_index_G_vect = []"
   ]
  },
  {
   "cell_type": "code",
   "execution_count": 160,
   "metadata": {
    "scrolled": true
   },
   "outputs": [
    {
     "name": "stdout",
     "output_type": "stream",
     "text": [
      "0.3961365052417733\n",
      "0.5969924106293699\n"
     ]
    },
    {
     "ename": "KeyboardInterrupt",
     "evalue": "",
     "output_type": "error",
     "traceback": [
      "\u001b[0;31m---------------------------------------------------------------------------\u001b[0m",
      "\u001b[0;31mKeyboardInterrupt\u001b[0m                         Traceback (most recent call last)",
      "\u001b[0;32m<ipython-input-160-23707354a8c7>\u001b[0m in \u001b[0;36m<module>\u001b[0;34m()\u001b[0m\n\u001b[1;32m     13\u001b[0m         clf_train = mixture.GaussianMixture(n_components=G, covariance_type='full', \n\u001b[1;32m     14\u001b[0m                                             n_init = 2, max_iter = 200)\n\u001b[0;32m---> 15\u001b[0;31m         \u001b[0mf_train\u001b[0m \u001b[0;34m=\u001b[0m \u001b[0mclf_train\u001b[0m\u001b[0;34m.\u001b[0m\u001b[0mfit\u001b[0m\u001b[0;34m(\u001b[0m\u001b[0mX_train\u001b[0m\u001b[0;34m)\u001b[0m\u001b[0;34m\u001b[0m\u001b[0m\n\u001b[0m\u001b[1;32m     16\u001b[0m \u001b[0;34m\u001b[0m\u001b[0m\n\u001b[1;32m     17\u001b[0m         \u001b[0;31m# test\u001b[0m\u001b[0;34m\u001b[0m\u001b[0;34m\u001b[0m\u001b[0m\n",
      "\u001b[0;32m/anaconda3/lib/python3.6/site-packages/sklearn/mixture/base.py\u001b[0m in \u001b[0;36mfit\u001b[0;34m(self, X, y)\u001b[0m\n\u001b[1;32m    212\u001b[0m \u001b[0;34m\u001b[0m\u001b[0m\n\u001b[1;32m    213\u001b[0m                 \u001b[0mlog_prob_norm\u001b[0m\u001b[0;34m,\u001b[0m \u001b[0mlog_resp\u001b[0m \u001b[0;34m=\u001b[0m \u001b[0mself\u001b[0m\u001b[0;34m.\u001b[0m\u001b[0m_e_step\u001b[0m\u001b[0;34m(\u001b[0m\u001b[0mX\u001b[0m\u001b[0;34m)\u001b[0m\u001b[0;34m\u001b[0m\u001b[0m\n\u001b[0;32m--> 214\u001b[0;31m                 \u001b[0mself\u001b[0m\u001b[0;34m.\u001b[0m\u001b[0m_m_step\u001b[0m\u001b[0;34m(\u001b[0m\u001b[0mX\u001b[0m\u001b[0;34m,\u001b[0m \u001b[0mlog_resp\u001b[0m\u001b[0;34m)\u001b[0m\u001b[0;34m\u001b[0m\u001b[0m\n\u001b[0m\u001b[1;32m    215\u001b[0m                 self.lower_bound_ = self._compute_lower_bound(\n\u001b[1;32m    216\u001b[0m                     log_resp, log_prob_norm)\n",
      "\u001b[0;32m/anaconda3/lib/python3.6/site-packages/sklearn/mixture/gaussian_mixture.py\u001b[0m in \u001b[0;36m_m_step\u001b[0;34m(self, X, log_resp)\u001b[0m\n\u001b[1;32m    666\u001b[0m         self.weights_, self.means_, self.covariances_ = (\n\u001b[1;32m    667\u001b[0m             _estimate_gaussian_parameters(X, np.exp(log_resp), self.reg_covar,\n\u001b[0;32m--> 668\u001b[0;31m                                           self.covariance_type))\n\u001b[0m\u001b[1;32m    669\u001b[0m         \u001b[0mself\u001b[0m\u001b[0;34m.\u001b[0m\u001b[0mweights_\u001b[0m \u001b[0;34m/=\u001b[0m \u001b[0mn_samples\u001b[0m\u001b[0;34m\u001b[0m\u001b[0m\n\u001b[1;32m    670\u001b[0m         self.precisions_cholesky_ = _compute_precision_cholesky(\n",
      "\u001b[0;32m/anaconda3/lib/python3.6/site-packages/sklearn/mixture/gaussian_mixture.py\u001b[0m in \u001b[0;36m_estimate_gaussian_parameters\u001b[0;34m(X, resp, reg_covar, covariance_type)\u001b[0m\n\u001b[1;32m    283\u001b[0m                    \u001b[0;34m\"diag\"\u001b[0m\u001b[0;34m:\u001b[0m \u001b[0m_estimate_gaussian_covariances_diag\u001b[0m\u001b[0;34m,\u001b[0m\u001b[0;34m\u001b[0m\u001b[0m\n\u001b[1;32m    284\u001b[0m                    \u001b[0;34m\"spherical\"\u001b[0m\u001b[0;34m:\u001b[0m \u001b[0m_estimate_gaussian_covariances_spherical\u001b[0m\u001b[0;34m\u001b[0m\u001b[0m\n\u001b[0;32m--> 285\u001b[0;31m                    }[covariance_type](resp, X, nk, means, reg_covar)\n\u001b[0m\u001b[1;32m    286\u001b[0m     \u001b[0;32mreturn\u001b[0m \u001b[0mnk\u001b[0m\u001b[0;34m,\u001b[0m \u001b[0mmeans\u001b[0m\u001b[0;34m,\u001b[0m \u001b[0mcovariances\u001b[0m\u001b[0;34m\u001b[0m\u001b[0m\n\u001b[1;32m    287\u001b[0m \u001b[0;34m\u001b[0m\u001b[0m\n",
      "\u001b[0;32m/anaconda3/lib/python3.6/site-packages/sklearn/mixture/gaussian_mixture.py\u001b[0m in \u001b[0;36m_estimate_gaussian_covariances_full\u001b[0;34m(resp, X, nk, means, reg_covar)\u001b[0m\n\u001b[1;32m    164\u001b[0m     \u001b[0mcovariances\u001b[0m \u001b[0;34m=\u001b[0m \u001b[0mnp\u001b[0m\u001b[0;34m.\u001b[0m\u001b[0mempty\u001b[0m\u001b[0;34m(\u001b[0m\u001b[0;34m(\u001b[0m\u001b[0mn_components\u001b[0m\u001b[0;34m,\u001b[0m \u001b[0mn_features\u001b[0m\u001b[0;34m,\u001b[0m \u001b[0mn_features\u001b[0m\u001b[0;34m)\u001b[0m\u001b[0;34m)\u001b[0m\u001b[0;34m\u001b[0m\u001b[0m\n\u001b[1;32m    165\u001b[0m     \u001b[0;32mfor\u001b[0m \u001b[0mk\u001b[0m \u001b[0;32min\u001b[0m \u001b[0mrange\u001b[0m\u001b[0;34m(\u001b[0m\u001b[0mn_components\u001b[0m\u001b[0;34m)\u001b[0m\u001b[0;34m:\u001b[0m\u001b[0;34m\u001b[0m\u001b[0m\n\u001b[0;32m--> 166\u001b[0;31m         \u001b[0mdiff\u001b[0m \u001b[0;34m=\u001b[0m \u001b[0mX\u001b[0m \u001b[0;34m-\u001b[0m \u001b[0mmeans\u001b[0m\u001b[0;34m[\u001b[0m\u001b[0mk\u001b[0m\u001b[0;34m]\u001b[0m\u001b[0;34m\u001b[0m\u001b[0m\n\u001b[0m\u001b[1;32m    167\u001b[0m         \u001b[0mcovariances\u001b[0m\u001b[0;34m[\u001b[0m\u001b[0mk\u001b[0m\u001b[0;34m]\u001b[0m \u001b[0;34m=\u001b[0m \u001b[0mnp\u001b[0m\u001b[0;34m.\u001b[0m\u001b[0mdot\u001b[0m\u001b[0;34m(\u001b[0m\u001b[0mresp\u001b[0m\u001b[0;34m[\u001b[0m\u001b[0;34m:\u001b[0m\u001b[0;34m,\u001b[0m \u001b[0mk\u001b[0m\u001b[0;34m]\u001b[0m \u001b[0;34m*\u001b[0m \u001b[0mdiff\u001b[0m\u001b[0;34m.\u001b[0m\u001b[0mT\u001b[0m\u001b[0;34m,\u001b[0m \u001b[0mdiff\u001b[0m\u001b[0;34m)\u001b[0m \u001b[0;34m/\u001b[0m \u001b[0mnk\u001b[0m\u001b[0;34m[\u001b[0m\u001b[0mk\u001b[0m\u001b[0;34m]\u001b[0m\u001b[0;34m\u001b[0m\u001b[0m\n\u001b[1;32m    168\u001b[0m         \u001b[0mcovariances\u001b[0m\u001b[0;34m[\u001b[0m\u001b[0mk\u001b[0m\u001b[0;34m]\u001b[0m\u001b[0;34m.\u001b[0m\u001b[0mflat\u001b[0m\u001b[0;34m[\u001b[0m\u001b[0;34m:\u001b[0m\u001b[0;34m:\u001b[0m\u001b[0mn_features\u001b[0m \u001b[0;34m+\u001b[0m \u001b[0;36m1\u001b[0m\u001b[0;34m]\u001b[0m \u001b[0;34m+=\u001b[0m \u001b[0mreg_covar\u001b[0m\u001b[0;34m\u001b[0m\u001b[0m\n",
      "\u001b[0;31mKeyboardInterrupt\u001b[0m: "
     ]
    }
   ],
   "source": [
    "for G in G_vect:\n",
    "    rand_index_sum = 0\n",
    "    # iterating through the week groupings to leave out\n",
    "    for weeks_exclue in weeks_exclude_vect:\n",
    "        # creating train/test groups\n",
    "        train = pass_attempt_df[[x not in weeks_exclude for x in list(pass_attempt_df[\"week\"])]]\n",
    "        test = pass_attempt_df[[x in weeks_exclude for x in list(pass_attempt_df[\"week\"])]]\n",
    "\n",
    "        X_train = train.drop(['week', 'gameId','playId','nflId','displayName','position'], axis = 1)\n",
    "        X_test = test.drop(['week', 'gameId','playId','nflId','displayName','position'], axis = 1)\n",
    "\n",
    "        # train\n",
    "        clf_train = mixture.GaussianMixture(n_components=G, covariance_type='full', \n",
    "                                            n_init = 2, max_iter = 200)\n",
    "        f_train = clf_train.fit(X_train)\n",
    "\n",
    "        # test\n",
    "        clf_test = mixture.GaussianMixture(n_components=G, covariance_type='full',\n",
    "                                           n_init = 2, max_iter = 200)\n",
    "        f_test = clf_test.fit(X_test)\n",
    "\n",
    "        # classifying test group\n",
    "        y_train = f_train.predict(X_test)\n",
    "        y_test = f_test.predict(X_test)\n",
    "\n",
    "        # appling the adjusted rand index\n",
    "        rand_index_val = adjusted_rand_score(y_train, y_test)\n",
    "        rand_index_sum += rand_index_val\n",
    "\n",
    "    rand_index = rand_index_sum/len(weeks_exclude_vect)\n",
    "    \n",
    "    rand_index_G_vect.append(rand_index)\n",
    "    \n",
    "    print(rand_index)"
   ]
  },
  {
   "cell_type": "markdown",
   "metadata": {},
   "source": [
    "### Plot eliminating x/y var, speed, and def based variables, replacing Ratio with Cor"
   ]
  },
  {
   "cell_type": "code",
   "execution_count": 40,
   "metadata": {},
   "outputs": [
    {
     "data": {
      "image/png": "[encoded data removed]",
      "text/plain": [
       "<matplotlib.figure.Figure at 0x12e559be0>"
      ]
     },
     "metadata": {},
     "output_type": "display_data"
    }
   ],
   "source": [
    "plt.pyplot.figure(figsize=(10, 6))\n",
    "# plotting the results\n",
    "plt.pyplot.bar(x = G_vect,\n",
    "               height = rand_index_G_vect,\n",
    "               width = .55)\n",
    "plt.pyplot.xlabel('Number of Clusters ($G*$)')\n",
    "plt.pyplot.ylabel('ARI Score')\n",
    "plt.pyplot.ylim(0,1)\n",
    "plt.pyplot.title('ARI Score vs. Number of Clusters')\n",
    "plt.pyplot.show()"
   ]
  },
  {
   "cell_type": "markdown",
   "metadata": {},
   "source": [
    "### Feature Importance"
   ]
  },
  {
   "cell_type": "code",
   "execution_count": 41,
   "metadata": {
    "collapsed": true
   },
   "outputs": [],
   "source": [
    "import sys\n",
    "weeks_exclude_vect = [[1,2,3],[4,5,6],[7,8,9],[10,11,12],[13,14,15],[15,16,17]]\n",
    "feature_list = list(X_train.columns)\n",
    "rand_index_vect = []\n",
    "\n",
    "# making a waitbar\n",
    "toolbar_width = len(feature_list)"
   ]
  },
  {
   "cell_type": "code",
   "execution_count": 42,
   "metadata": {},
   "outputs": [
    {
     "name": "stdout",
     "output_type": "stream",
     "text": [
      "[                            -----------------------------"
     ]
    }
   ],
   "source": [
    "sys.stdout.write(\"[%s]\" % (\" \" * toolbar_width))\n",
    "sys.stdout.flush()\n",
    "sys.stdout.write(\"\\b\" * (toolbar_width+1))\n",
    "\n",
    "for feature in feature_list:\n",
    "    \n",
    "    rand_index_sum = 0\n",
    "\n",
    "    # iterating through the week groupings to leave out\n",
    "    for weeks_exclue in weeks_exclude_vect:\n",
    "        # creating train/test groups\n",
    "        train = pass_attempt_df[[x not in weeks_exclude for \\\n",
    "                                 x in list(pass_attempt_df[\"week\"])]].drop([feature], axis = 1)\n",
    "        test = pass_attempt_df[[x in weeks_exclude for \\\n",
    "                                x in list(pass_attempt_df[\"week\"])]].drop([feature], axis = 1)\n",
    "\n",
    "        X_train = train.drop(['week', 'gameId','playId','nflId','displayName','position'], axis = 1)\n",
    "        X_test = test.drop(['week', 'gameId','playId','nflId','displayName','position'], axis = 1)\n",
    "\n",
    "        # train\n",
    "        clf_train = mixture.GaussianMixture(n_components=2, covariance_type='full')\n",
    "        f_train = clf_train.fit(X_train)\n",
    "\n",
    "        # test\n",
    "        clf_test = mixture.GaussianMixture(n_components=2, covariance_type='full')\n",
    "        f_test = clf_test.fit(X_test)\n",
    "\n",
    "        # classifying test group\n",
    "        y_train = f_train.predict(X_test)\n",
    "        y_test = f_test.predict(X_test)\n",
    "\n",
    "        # appling the adjusted rand index\n",
    "        rand_index_val = adjusted_rand_score(y_train, y_test)\n",
    "        rand_index_sum += rand_index_val\n",
    "\n",
    "    rand_index = rand_index_sum/len(weeks_exclude_vect)\n",
    "    \n",
    "    rand_index_vect.append(rand_index)\n",
    "    \n",
    "    sys.stdout.write(\"-\")\n",
    "    sys.stdout.flush()"
   ]
  },
  {
   "cell_type": "code",
   "execution_count": 43,
   "metadata": {
    "collapsed": true
   },
   "outputs": [],
   "source": [
    "d = {'feature': feature_list, 'delta_ARI': rand_index_G_vect[0] - np.array(rand_index_vect)}\n",
    "feature_imp_df = pd.DataFrame(data=d).sort_values('delta_ARI', ascending = False)\n",
    "feature_imp_df[\"base_feature\"] = [x.split('_pass_forward')[0] if \"pass_forward\" in x \\\n",
    "                                  else x.split('_ball_snap')[0] if \"ball_snap\" in x \\\n",
    "                                  else x.split('_time')[0] for x in np.array(feature_imp_df[\"feature\"])]\n",
    "feature_imp_df[\"time_period\"] = [\"Before Ball Thrown\" if \"pass_forward\" in x \\\n",
    "                                 else \"Before Ball Thrown\" if \"ball_snap\" in x \\\n",
    "                                 else \"After Ball Thrown\" if x.endswith(\"2\") \\\n",
    "                                 else \"Before Ball Thrown\" for x in np.array(feature_imp_df[\"feature\"])]\n",
    "feature_imp_df[\"feature\"] = [x.upper() for x in feature_imp_df[\"feature\"]]"
   ]
  },
  {
   "cell_type": "code",
   "execution_count": 44,
   "metadata": {},
   "outputs": [
    {
     "data": {
      "image/png": "[encoded data removed]",
      "text/plain": [
       "<matplotlib.figure.Figure at 0x12e566da0>"
      ]
     },
     "metadata": {},
     "output_type": "display_data"
    }
   ],
   "source": [
    "plt.pyplot.figure(figsize=(7,7))\n",
    "\n",
    "sns.barplot(x=\"delta_ARI\", y=\"feature\", data=feature_imp_df.head(10).sort_values('delta_ARI', ascending = True),\n",
    "            hue = \"time_period\", dodge = False, palette = [\"red\", \"blue\"])\n",
    "plt.pyplot.gca().legend().set_title('')\n",
    "plt.pyplot.title('Change in ARI vs. Feature')\n",
    "plt.pyplot.ylabel('Feature Name')\n",
    "plt.pyplot.xlabel('Change In ARI')\n",
    "plt.pyplot.show()"
   ]
  },
  {
   "cell_type": "markdown",
   "metadata": {},
   "source": [
    "### Scoring All Plays"
   ]
  },
  {
   "cell_type": "code",
   "execution_count": 161,
   "metadata": {},
   "outputs": [
    {
     "data": {
      "text/html": [
       "<div>\n",
       "<style scoped>\n",
       "    .dataframe tbody tr th:only-of-type {\n",
       "        vertical-align: middle;\n",
       "    }\n",
       "\n",
       "    .dataframe tbody tr th {\n",
       "        vertical-align: top;\n",
       "    }\n",
       "\n",
       "    .dataframe thead th {\n",
       "        text-align: right;\n",
       "    }\n",
       "</style>\n",
       "<table border=\"1\" class=\"dataframe\">\n",
       "  <thead>\n",
       "    <tr style=\"text-align: right;\">\n",
       "      <th></th>\n",
       "      <th>week</th>\n",
       "      <th>gameId</th>\n",
       "      <th>playId</th>\n",
       "      <th>nflId</th>\n",
       "      <th>displayName</th>\n",
       "      <th>position</th>\n",
       "      <th>off_var_time_0</th>\n",
       "      <th>off_var_time_0_1</th>\n",
       "      <th>off_var_time_1</th>\n",
       "      <th>off_var_time_1_2</th>\n",
       "      <th>...</th>\n",
       "      <th>ratio_pass_forward</th>\n",
       "      <th>cb_off_dir_diff_pass_forward</th>\n",
       "      <th>off_dir_diff_between_ball_snap_and_pass_forward</th>\n",
       "      <th>best_cor_x_time_1</th>\n",
       "      <th>best_cor_x_time_1_2</th>\n",
       "      <th>best_cor_y_time_1</th>\n",
       "      <th>best_cor_y_time_1_2</th>\n",
       "      <th>best_cor_x_y_avg_time_1</th>\n",
       "      <th>best_cor_x_y_avg_time_1_2</th>\n",
       "      <th>cor_dist_inter</th>\n",
       "    </tr>\n",
       "  </thead>\n",
       "  <tbody>\n",
       "    <tr>\n",
       "      <th>0</th>\n",
       "      <td>1</td>\n",
       "      <td>2018090600</td>\n",
       "      <td>75</td>\n",
       "      <td>2552315</td>\n",
       "      <td>Jordan Hicks</td>\n",
       "      <td>MLB</td>\n",
       "      <td>0.001303</td>\n",
       "      <td>2.085897</td>\n",
       "      <td>2.002326</td>\n",
       "      <td>1.467688</td>\n",
       "      <td>...</td>\n",
       "      <td>0.827710</td>\n",
       "      <td>38.51</td>\n",
       "      <td>171.86</td>\n",
       "      <td>-0.109033</td>\n",
       "      <td>0.795172</td>\n",
       "      <td>0.990021</td>\n",
       "      <td>0.927844</td>\n",
       "      <td>0.440494</td>\n",
       "      <td>0.861508</td>\n",
       "      <td>0.040278</td>\n",
       "    </tr>\n",
       "    <tr>\n",
       "      <th>1</th>\n",
       "      <td>1</td>\n",
       "      <td>2018090600</td>\n",
       "      <td>75</td>\n",
       "      <td>2558175</td>\n",
       "      <td>Nate Gerry</td>\n",
       "      <td>LB</td>\n",
       "      <td>0.000493</td>\n",
       "      <td>0.670105</td>\n",
       "      <td>0.878753</td>\n",
       "      <td>0.839347</td>\n",
       "      <td>...</td>\n",
       "      <td>1.179711</td>\n",
       "      <td>42.82</td>\n",
       "      <td>56.16</td>\n",
       "      <td>0.946952</td>\n",
       "      <td>0.957219</td>\n",
       "      <td>0.990986</td>\n",
       "      <td>0.864381</td>\n",
       "      <td>0.968969</td>\n",
       "      <td>0.910800</td>\n",
       "      <td>0.168264</td>\n",
       "    </tr>\n",
       "    <tr>\n",
       "      <th>2</th>\n",
       "      <td>1</td>\n",
       "      <td>2018090600</td>\n",
       "      <td>146</td>\n",
       "      <td>2552315</td>\n",
       "      <td>Jordan Hicks</td>\n",
       "      <td>MLB</td>\n",
       "      <td>0.000034</td>\n",
       "      <td>0.414321</td>\n",
       "      <td>0.553661</td>\n",
       "      <td>2.006090</td>\n",
       "      <td>...</td>\n",
       "      <td>1.024368</td>\n",
       "      <td>95.42</td>\n",
       "      <td>14.56</td>\n",
       "      <td>0.894274</td>\n",
       "      <td>0.957562</td>\n",
       "      <td>0.963245</td>\n",
       "      <td>0.953468</td>\n",
       "      <td>0.928760</td>\n",
       "      <td>0.955515</td>\n",
       "      <td>0.136255</td>\n",
       "    </tr>\n",
       "    <tr>\n",
       "      <th>3</th>\n",
       "      <td>1</td>\n",
       "      <td>2018090600</td>\n",
       "      <td>146</td>\n",
       "      <td>2556363</td>\n",
       "      <td>Kamu Grugier-Hill</td>\n",
       "      <td>OLB</td>\n",
       "      <td>0.003086</td>\n",
       "      <td>2.208688</td>\n",
       "      <td>2.400657</td>\n",
       "      <td>2.309942</td>\n",
       "      <td>...</td>\n",
       "      <td>1.113821</td>\n",
       "      <td>49.97</td>\n",
       "      <td>106.82</td>\n",
       "      <td>0.818192</td>\n",
       "      <td>0.867466</td>\n",
       "      <td>0.954204</td>\n",
       "      <td>0.598747</td>\n",
       "      <td>0.886198</td>\n",
       "      <td>0.733106</td>\n",
       "      <td>0.182547</td>\n",
       "    </tr>\n",
       "    <tr>\n",
       "      <th>4</th>\n",
       "      <td>1</td>\n",
       "      <td>2018090600</td>\n",
       "      <td>168</td>\n",
       "      <td>2552315</td>\n",
       "      <td>Jordan Hicks</td>\n",
       "      <td>MLB</td>\n",
       "      <td>0.000127</td>\n",
       "      <td>3.665084</td>\n",
       "      <td>3.950894</td>\n",
       "      <td>3.611672</td>\n",
       "      <td>...</td>\n",
       "      <td>1.304995</td>\n",
       "      <td>82.31</td>\n",
       "      <td>71.29</td>\n",
       "      <td>-0.978096</td>\n",
       "      <td>0.545482</td>\n",
       "      <td>0.996558</td>\n",
       "      <td>-0.129083</td>\n",
       "      <td>0.009231</td>\n",
       "      <td>0.208199</td>\n",
       "      <td>0.000011</td>\n",
       "    </tr>\n",
       "    <tr>\n",
       "      <th>...</th>\n",
       "      <td>...</td>\n",
       "      <td>...</td>\n",
       "      <td>...</td>\n",
       "      <td>...</td>\n",
       "      <td>...</td>\n",
       "      <td>...</td>\n",
       "      <td>...</td>\n",
       "      <td>...</td>\n",
       "      <td>...</td>\n",
       "      <td>...</td>\n",
       "      <td>...</td>\n",
       "      <td>...</td>\n",
       "      <td>...</td>\n",
       "      <td>...</td>\n",
       "      <td>...</td>\n",
       "      <td>...</td>\n",
       "      <td>...</td>\n",
       "      <td>...</td>\n",
       "      <td>...</td>\n",
       "      <td>...</td>\n",
       "      <td>...</td>\n",
       "    </tr>\n",
       "    <tr>\n",
       "      <th>29285</th>\n",
       "      <td>17</td>\n",
       "      <td>2018123015</td>\n",
       "      <td>3819</td>\n",
       "      <td>2540140</td>\n",
       "      <td>Barkevious Mingo</td>\n",
       "      <td>OLB</td>\n",
       "      <td>0.477275</td>\n",
       "      <td>2.352230</td>\n",
       "      <td>2.948215</td>\n",
       "      <td>3.977932</td>\n",
       "      <td>...</td>\n",
       "      <td>2.130586</td>\n",
       "      <td>83.91</td>\n",
       "      <td>34.85</td>\n",
       "      <td>0.988546</td>\n",
       "      <td>0.992104</td>\n",
       "      <td>0.979727</td>\n",
       "      <td>0.991328</td>\n",
       "      <td>0.984136</td>\n",
       "      <td>0.991716</td>\n",
       "      <td>0.215182</td>\n",
       "    </tr>\n",
       "    <tr>\n",
       "      <th>29286</th>\n",
       "      <td>17</td>\n",
       "      <td>2018123015</td>\n",
       "      <td>3969</td>\n",
       "      <td>2532966</td>\n",
       "      <td>Bobby Wagner</td>\n",
       "      <td>MLB</td>\n",
       "      <td>0.000304</td>\n",
       "      <td>0.485455</td>\n",
       "      <td>0.608307</td>\n",
       "      <td>0.702361</td>\n",
       "      <td>...</td>\n",
       "      <td>0.314022</td>\n",
       "      <td>145.89</td>\n",
       "      <td>95.93</td>\n",
       "      <td>0.589404</td>\n",
       "      <td>0.572559</td>\n",
       "      <td>0.929103</td>\n",
       "      <td>-0.179764</td>\n",
       "      <td>0.759254</td>\n",
       "      <td>0.196397</td>\n",
       "      <td>0.085026</td>\n",
       "    </tr>\n",
       "    <tr>\n",
       "      <th>29287</th>\n",
       "      <td>17</td>\n",
       "      <td>2018123015</td>\n",
       "      <td>4057</td>\n",
       "      <td>2543769</td>\n",
       "      <td>Deone Bucannon</td>\n",
       "      <td>ILB</td>\n",
       "      <td>0.000782</td>\n",
       "      <td>1.839250</td>\n",
       "      <td>2.345472</td>\n",
       "      <td>2.278569</td>\n",
       "      <td>...</td>\n",
       "      <td>1.776552</td>\n",
       "      <td>67.15</td>\n",
       "      <td>49.12</td>\n",
       "      <td>0.995493</td>\n",
       "      <td>0.973682</td>\n",
       "      <td>0.998709</td>\n",
       "      <td>0.999536</td>\n",
       "      <td>0.997101</td>\n",
       "      <td>0.986609</td>\n",
       "      <td>0.164214</td>\n",
       "    </tr>\n",
       "    <tr>\n",
       "      <th>29288</th>\n",
       "      <td>17</td>\n",
       "      <td>2018123015</td>\n",
       "      <td>4104</td>\n",
       "      <td>2543769</td>\n",
       "      <td>Deone Bucannon</td>\n",
       "      <td>ILB</td>\n",
       "      <td>0.003812</td>\n",
       "      <td>2.465509</td>\n",
       "      <td>2.247225</td>\n",
       "      <td>2.456899</td>\n",
       "      <td>...</td>\n",
       "      <td>5.204992</td>\n",
       "      <td>29.27</td>\n",
       "      <td>22.86</td>\n",
       "      <td>0.997233</td>\n",
       "      <td>0.987676</td>\n",
       "      <td>0.984874</td>\n",
       "      <td>0.990796</td>\n",
       "      <td>0.991054</td>\n",
       "      <td>0.989236</td>\n",
       "      <td>0.129471</td>\n",
       "    </tr>\n",
       "    <tr>\n",
       "      <th>29289</th>\n",
       "      <td>17</td>\n",
       "      <td>2018123015</td>\n",
       "      <td>4104</td>\n",
       "      <td>2557887</td>\n",
       "      <td>Haason Reddick</td>\n",
       "      <td>ILB</td>\n",
       "      <td>0.000012</td>\n",
       "      <td>3.056008</td>\n",
       "      <td>2.930118</td>\n",
       "      <td>2.547881</td>\n",
       "      <td>...</td>\n",
       "      <td>0.255447</td>\n",
       "      <td>5.87</td>\n",
       "      <td>32.83</td>\n",
       "      <td>0.932744</td>\n",
       "      <td>0.942910</td>\n",
       "      <td>0.997538</td>\n",
       "      <td>0.983054</td>\n",
       "      <td>0.965141</td>\n",
       "      <td>0.962982</td>\n",
       "      <td>0.149231</td>\n",
       "    </tr>\n",
       "  </tbody>\n",
       "</table>\n",
       "<p>29290 rows × 35 columns</p>\n",
       "</div>"
      ],
      "text/plain": [
       "       week      gameId  playId    nflId        displayName position  \\\n",
       "0         1  2018090600      75  2552315       Jordan Hicks      MLB   \n",
       "1         1  2018090600      75  2558175         Nate Gerry       LB   \n",
       "2         1  2018090600     146  2552315       Jordan Hicks      MLB   \n",
       "3         1  2018090600     146  2556363  Kamu Grugier-Hill      OLB   \n",
       "4         1  2018090600     168  2552315       Jordan Hicks      MLB   \n",
       "...     ...         ...     ...      ...                ...      ...   \n",
       "29285    17  2018123015    3819  2540140   Barkevious Mingo      OLB   \n",
       "29286    17  2018123015    3969  2532966       Bobby Wagner      MLB   \n",
       "29287    17  2018123015    4057  2543769     Deone Bucannon      ILB   \n",
       "29288    17  2018123015    4104  2543769     Deone Bucannon      ILB   \n",
       "29289    17  2018123015    4104  2557887     Haason Reddick      ILB   \n",
       "\n",
       "       off_var_time_0  off_var_time_0_1  off_var_time_1  off_var_time_1_2  \\\n",
       "0            0.001303          2.085897        2.002326          1.467688   \n",
       "1            0.000493          0.670105        0.878753          0.839347   \n",
       "2            0.000034          0.414321        0.553661          2.006090   \n",
       "3            0.003086          2.208688        2.400657          2.309942   \n",
       "4            0.000127          3.665084        3.950894          3.611672   \n",
       "...               ...               ...             ...               ...   \n",
       "29285        0.477275          2.352230        2.948215          3.977932   \n",
       "29286        0.000304          0.485455        0.608307          0.702361   \n",
       "29287        0.000782          1.839250        2.345472          2.278569   \n",
       "29288        0.003812          2.465509        2.247225          2.456899   \n",
       "29289        0.000012          3.056008        2.930118          2.547881   \n",
       "\n",
       "       ...  ratio_pass_forward  cb_off_dir_diff_pass_forward  \\\n",
       "0      ...            0.827710                         38.51   \n",
       "1      ...            1.179711                         42.82   \n",
       "2      ...            1.024368                         95.42   \n",
       "3      ...            1.113821                         49.97   \n",
       "4      ...            1.304995                         82.31   \n",
       "...    ...                 ...                           ...   \n",
       "29285  ...            2.130586                         83.91   \n",
       "29286  ...            0.314022                        145.89   \n",
       "29287  ...            1.776552                         67.15   \n",
       "29288  ...            5.204992                         29.27   \n",
       "29289  ...            0.255447                          5.87   \n",
       "\n",
       "       off_dir_diff_between_ball_snap_and_pass_forward  best_cor_x_time_1  \\\n",
       "0                                               171.86          -0.109033   \n",
       "1                                                56.16           0.946952   \n",
       "2                                                14.56           0.894274   \n",
       "3                                               106.82           0.818192   \n",
       "4                                                71.29          -0.978096   \n",
       "...                                                ...                ...   \n",
       "29285                                            34.85           0.988546   \n",
       "29286                                            95.93           0.589404   \n",
       "29287                                            49.12           0.995493   \n",
       "29288                                            22.86           0.997233   \n",
       "29289                                            32.83           0.932744   \n",
       "\n",
       "       best_cor_x_time_1_2  best_cor_y_time_1  best_cor_y_time_1_2  \\\n",
       "0                 0.795172           0.990021             0.927844   \n",
       "1                 0.957219           0.990986             0.864381   \n",
       "2                 0.957562           0.963245             0.953468   \n",
       "3                 0.867466           0.954204             0.598747   \n",
       "4                 0.545482           0.996558            -0.129083   \n",
       "...                    ...                ...                  ...   \n",
       "29285             0.992104           0.979727             0.991328   \n",
       "29286             0.572559           0.929103            -0.179764   \n",
       "29287             0.973682           0.998709             0.999536   \n",
       "29288             0.987676           0.984874             0.990796   \n",
       "29289             0.942910           0.997538             0.983054   \n",
       "\n",
       "       best_cor_x_y_avg_time_1  best_cor_x_y_avg_time_1_2  cor_dist_inter  \n",
       "0                     0.440494                   0.861508        0.040278  \n",
       "1                     0.968969                   0.910800        0.168264  \n",
       "2                     0.928760                   0.955515        0.136255  \n",
       "3                     0.886198                   0.733106        0.182547  \n",
       "4                     0.009231                   0.208199        0.000011  \n",
       "...                        ...                        ...             ...  \n",
       "29285                 0.984136                   0.991716        0.215182  \n",
       "29286                 0.759254                   0.196397        0.085026  \n",
       "29287                 0.997101                   0.986609        0.164214  \n",
       "29288                 0.991054                   0.989236        0.129471  \n",
       "29289                 0.965141                   0.962982        0.149231  \n",
       "\n",
       "[29290 rows x 35 columns]"
      ]
     },
     "execution_count": 161,
     "metadata": {},
     "output_type": "execute_result"
    }
   ],
   "source": [
    "pass_attempt_df"
   ]
  },
  {
   "cell_type": "code",
   "execution_count": 166,
   "metadata": {},
   "outputs": [
    {
     "data": {
      "text/plain": [
       "(29290, 29)"
      ]
     },
     "execution_count": 166,
     "metadata": {},
     "output_type": "execute_result"
    }
   ],
   "source": [
    "# sampling 45,000 plays to be within CPU limit\n",
    "X_train = pass_attempt_df \\\n",
    "                         .drop(['week', 'gameId','playId','nflId','displayName','position'], axis = 1)\n",
    "X_train.shape"
   ]
  },
  {
   "cell_type": "code",
   "execution_count": 167,
   "metadata": {},
   "outputs": [
    {
     "data": {
      "text/plain": [
       "(29290, 29)"
      ]
     },
     "execution_count": 167,
     "metadata": {},
     "output_type": "execute_result"
    }
   ],
   "source": [
    "# all plays to score\n",
    "X_score = pass_attempt_df.drop(['week', 'gameId','playId','nflId','displayName','position'], axis = 1)\n",
    "X_score.shape"
   ]
  },
  {
   "cell_type": "code",
   "execution_count": 168,
   "metadata": {
    "collapsed": true
   },
   "outputs": [],
   "source": [
    "# train\n",
    "clf_train = mixture.GaussianMixture(n_components=3, covariance_type='full')\n",
    "f_train = clf_train.fit(X_train)"
   ]
  },
  {
   "cell_type": "code",
   "execution_count": 169,
   "metadata": {},
   "outputs": [
    {
     "data": {
      "text/plain": [
       "{'best_cor_x_time_1': (0.7267040994609629,\n",
       "  0.9653578049733542,\n",
       "  0.795548334131586),\n",
       " 'best_cor_x_time_1_2': (0.6898536313890502,\n",
       "  0.9612146789744176,\n",
       "  0.7880912141870372),\n",
       " 'best_cor_x_y_avg_time_1': (0.7207489282578313,\n",
       "  0.9617421608591372,\n",
       "  0.7914948933274797),\n",
       " 'best_cor_x_y_avg_time_1_2': (0.720189293285737,\n",
       "  0.9521798660938294,\n",
       "  0.7933943560101102),\n",
       " 'best_cor_y_time_1': (0.7147937572824052,\n",
       "  0.9581265165146443,\n",
       "  0.7874414530410703),\n",
       " 'best_cor_y_time_1_2': (0.7505249549317008,\n",
       "  0.9431450532433142,\n",
       "  0.7986974983990572),\n",
       " 'cb_off_dir_diff_pass_forward': (56.696741146061605,\n",
       "  25.51695077011659,\n",
       "  56.27005820874645),\n",
       " 'cor_dist_inter': (0.10797392599514924,\n",
       "  0.21207955930616462,\n",
       "  0.13796099226632424),\n",
       " 'cor_s_time_1': (0.7245135083852339, 0.8566047514359992, 0.6128699842723311),\n",
       " 'cor_s_time_1_2': (0.5959898253110673,\n",
       "  0.7703177080178134,\n",
       "  0.49811408073309343),\n",
       " 'off_dir_diff_between_ball_snap_and_pass_forward': (71.67375658530985,\n",
       "  38.3351031936369,\n",
       "  59.13077260915897),\n",
       " 'off_dir_mean_time_0_1': (75.97643029929372,\n",
       "  59.19982932458409,\n",
       "  69.63433285212672),\n",
       " 'off_dir_mean_time_1': (69.64564738169415,\n",
       "  46.913684091284885,\n",
       "  63.59415995803174),\n",
       " 'off_dir_mean_time_1_2': (65.58253615638381,\n",
       "  41.8053437077055,\n",
       "  61.43488920796703),\n",
       " 'off_dir_mean_time_2': (56.98341025867105,\n",
       "  26.652850124615203,\n",
       "  57.04061376400936),\n",
       " 'off_dir_var_time_1': (1676.27605866419,\n",
       "  1211.6551343349154,\n",
       "  1650.6788225852195),\n",
       " 'off_dir_var_time_1_2': (1947.9227991838775,\n",
       "  1135.8057955070565,\n",
       "  1813.2819000469908),\n",
       " 'off_dir_var_time_2': (769.6247343821639,\n",
       "  135.82476469842783,\n",
       "  736.6074471785234),\n",
       " 'off_mean_time_0': (7.028257644587105, 6.580098768295442, 7.0530545822835675),\n",
       " 'off_mean_time_0_1': (6.266816914904807,\n",
       "  5.599728912913281,\n",
       "  6.325583352117681),\n",
       " 'off_mean_time_1': (5.976901634775983, 5.237783524826932, 6.090949598694964),\n",
       " 'off_mean_time_1_2': (5.695611507308639,\n",
       "  4.9082849220866365,\n",
       "  6.2943730725025135),\n",
       " 'off_mean_time_2': (4.98359252038547, 3.9237266445370675, 6.70831015336754),\n",
       " 'off_var_time_0': (0.002567330401685601,\n",
       "  0.006670788371229636,\n",
       "  0.07413666336395275),\n",
       " 'off_var_time_0_1': (1.880568017187064, 2.089822332371813, 3.996845849029173),\n",
       " 'off_var_time_1': (1.930576688511526, 2.0172676536204532, 3.910056250541509),\n",
       " 'off_var_time_1_2': (2.6647664341987176,\n",
       "  2.4997573573098872,\n",
       "  6.465124809848212),\n",
       " 'off_var_time_2': (0.5588833783266174,\n",
       "  0.3000466353762528,\n",
       "  1.7581587841624575),\n",
       " 'ratio_pass_forward': (1.924960770224541,\n",
       "  0.9783257909698193,\n",
       "  2.478136148033626)}"
      ]
     },
     "execution_count": 169,
     "metadata": {},
     "output_type": "execute_result"
    }
   ],
   "source": [
    "get_cluster_means(X_train, f_train)"
   ]
  },
  {
   "cell_type": "code",
   "execution_count": 170,
   "metadata": {
    "collapsed": true
   },
   "outputs": [],
   "source": [
    "full_probs = [1 - x[1] for x in f_train.predict_proba(X_score)]\n",
    "full_classes = [0 if x == 1 else 1 for x in f_train.predict(X_score)]"
   ]
  },
  {
   "cell_type": "code",
   "execution_count": 171,
   "metadata": {},
   "outputs": [
    {
     "data": {
      "image/png": "[encoded data removed]",
      "text/plain": [
       "<matplotlib.figure.Figure at 0x11f268240>"
      ]
     },
     "metadata": {},
     "output_type": "display_data"
    }
   ],
   "source": [
    "plt.pyplot.hist(full_probs, bins = 50)\n",
    "plt.pyplot.xlabel('Probability of Zone Coverage')\n",
    "plt.pyplot.ylabel('Density')\n",
    "plt.pyplot.show()"
   ]
  },
  {
   "cell_type": "code",
   "execution_count": 172,
   "metadata": {
    "collapsed": true
   },
   "outputs": [],
   "source": [
    "pass_attempt_df[\"zone_probability\"] = full_probs\n",
    "pass_attempt_df[\"zone_flag\"] = full_classes"
   ]
  },
  {
   "cell_type": "markdown",
   "metadata": {},
   "source": [
    "### Saving Results"
   ]
  },
  {
   "cell_type": "code",
   "execution_count": 173,
   "metadata": {
    "collapsed": true
   },
   "outputs": [],
   "source": [
    "pass_attempt_df_final = pass_attempt_df[['week', 'gameId','playId','nflId','displayName','position'] + \\\n",
    "                                     list(pass_attempt_df.columns[[x.startswith('zone') for x in pass_attempt_df.columns]])].sort_values(['gameId', 'playId', 'position'])"
   ]
  },
  {
   "cell_type": "code",
   "execution_count": 174,
   "metadata": {},
   "outputs": [
    {
     "data": {
      "text/html": [
       "<div>\n",
       "<style scoped>\n",
       "    .dataframe tbody tr th:only-of-type {\n",
       "        vertical-align: middle;\n",
       "    }\n",
       "\n",
       "    .dataframe tbody tr th {\n",
       "        vertical-align: top;\n",
       "    }\n",
       "\n",
       "    .dataframe thead th {\n",
       "        text-align: right;\n",
       "    }\n",
       "</style>\n",
       "<table border=\"1\" class=\"dataframe\">\n",
       "  <thead>\n",
       "    <tr style=\"text-align: right;\">\n",
       "      <th></th>\n",
       "      <th>week</th>\n",
       "      <th>gameId</th>\n",
       "      <th>playId</th>\n",
       "      <th>nflId</th>\n",
       "      <th>displayName</th>\n",
       "      <th>position</th>\n",
       "      <th>zone_probability</th>\n",
       "      <th>zone_flag</th>\n",
       "    </tr>\n",
       "  </thead>\n",
       "  <tbody>\n",
       "    <tr>\n",
       "      <th>1</th>\n",
       "      <td>1</td>\n",
       "      <td>2018090600</td>\n",
       "      <td>75</td>\n",
       "      <td>2558175</td>\n",
       "      <td>Nate Gerry</td>\n",
       "      <td>LB</td>\n",
       "      <td>0.000006</td>\n",
       "      <td>0</td>\n",
       "    </tr>\n",
       "    <tr>\n",
       "      <th>0</th>\n",
       "      <td>1</td>\n",
       "      <td>2018090600</td>\n",
       "      <td>75</td>\n",
       "      <td>2552315</td>\n",
       "      <td>Jordan Hicks</td>\n",
       "      <td>MLB</td>\n",
       "      <td>1.000000</td>\n",
       "      <td>1</td>\n",
       "    </tr>\n",
       "    <tr>\n",
       "      <th>2</th>\n",
       "      <td>1</td>\n",
       "      <td>2018090600</td>\n",
       "      <td>146</td>\n",
       "      <td>2552315</td>\n",
       "      <td>Jordan Hicks</td>\n",
       "      <td>MLB</td>\n",
       "      <td>0.982440</td>\n",
       "      <td>1</td>\n",
       "    </tr>\n",
       "    <tr>\n",
       "      <th>3</th>\n",
       "      <td>1</td>\n",
       "      <td>2018090600</td>\n",
       "      <td>146</td>\n",
       "      <td>2556363</td>\n",
       "      <td>Kamu Grugier-Hill</td>\n",
       "      <td>OLB</td>\n",
       "      <td>0.967312</td>\n",
       "      <td>1</td>\n",
       "    </tr>\n",
       "    <tr>\n",
       "      <th>4</th>\n",
       "      <td>1</td>\n",
       "      <td>2018090600</td>\n",
       "      <td>168</td>\n",
       "      <td>2552315</td>\n",
       "      <td>Jordan Hicks</td>\n",
       "      <td>MLB</td>\n",
       "      <td>1.000000</td>\n",
       "      <td>1</td>\n",
       "    </tr>\n",
       "    <tr>\n",
       "      <th>...</th>\n",
       "      <td>...</td>\n",
       "      <td>...</td>\n",
       "      <td>...</td>\n",
       "      <td>...</td>\n",
       "      <td>...</td>\n",
       "      <td>...</td>\n",
       "      <td>...</td>\n",
       "      <td>...</td>\n",
       "    </tr>\n",
       "    <tr>\n",
       "      <th>29285</th>\n",
       "      <td>17</td>\n",
       "      <td>2018123015</td>\n",
       "      <td>3819</td>\n",
       "      <td>2540140</td>\n",
       "      <td>Barkevious Mingo</td>\n",
       "      <td>OLB</td>\n",
       "      <td>1.000000</td>\n",
       "      <td>1</td>\n",
       "    </tr>\n",
       "    <tr>\n",
       "      <th>29286</th>\n",
       "      <td>17</td>\n",
       "      <td>2018123015</td>\n",
       "      <td>3969</td>\n",
       "      <td>2532966</td>\n",
       "      <td>Bobby Wagner</td>\n",
       "      <td>MLB</td>\n",
       "      <td>1.000000</td>\n",
       "      <td>1</td>\n",
       "    </tr>\n",
       "    <tr>\n",
       "      <th>29287</th>\n",
       "      <td>17</td>\n",
       "      <td>2018123015</td>\n",
       "      <td>4057</td>\n",
       "      <td>2543769</td>\n",
       "      <td>Deone Bucannon</td>\n",
       "      <td>ILB</td>\n",
       "      <td>0.000007</td>\n",
       "      <td>0</td>\n",
       "    </tr>\n",
       "    <tr>\n",
       "      <th>29288</th>\n",
       "      <td>17</td>\n",
       "      <td>2018123015</td>\n",
       "      <td>4104</td>\n",
       "      <td>2543769</td>\n",
       "      <td>Deone Bucannon</td>\n",
       "      <td>ILB</td>\n",
       "      <td>1.000000</td>\n",
       "      <td>1</td>\n",
       "    </tr>\n",
       "    <tr>\n",
       "      <th>29289</th>\n",
       "      <td>17</td>\n",
       "      <td>2018123015</td>\n",
       "      <td>4104</td>\n",
       "      <td>2557887</td>\n",
       "      <td>Haason Reddick</td>\n",
       "      <td>ILB</td>\n",
       "      <td>0.999999</td>\n",
       "      <td>1</td>\n",
       "    </tr>\n",
       "  </tbody>\n",
       "</table>\n",
       "<p>29290 rows × 8 columns</p>\n",
       "</div>"
      ],
      "text/plain": [
       "       week      gameId  playId    nflId        displayName position  \\\n",
       "1         1  2018090600      75  2558175         Nate Gerry       LB   \n",
       "0         1  2018090600      75  2552315       Jordan Hicks      MLB   \n",
       "2         1  2018090600     146  2552315       Jordan Hicks      MLB   \n",
       "3         1  2018090600     146  2556363  Kamu Grugier-Hill      OLB   \n",
       "4         1  2018090600     168  2552315       Jordan Hicks      MLB   \n",
       "...     ...         ...     ...      ...                ...      ...   \n",
       "29285    17  2018123015    3819  2540140   Barkevious Mingo      OLB   \n",
       "29286    17  2018123015    3969  2532966       Bobby Wagner      MLB   \n",
       "29287    17  2018123015    4057  2543769     Deone Bucannon      ILB   \n",
       "29288    17  2018123015    4104  2543769     Deone Bucannon      ILB   \n",
       "29289    17  2018123015    4104  2557887     Haason Reddick      ILB   \n",
       "\n",
       "       zone_probability  zone_flag  \n",
       "1              0.000006          0  \n",
       "0              1.000000          1  \n",
       "2              0.982440          1  \n",
       "3              0.967312          1  \n",
       "4              1.000000          1  \n",
       "...                 ...        ...  \n",
       "29285          1.000000          1  \n",
       "29286          1.000000          1  \n",
       "29287          0.000007          0  \n",
       "29288          1.000000          1  \n",
       "29289          0.999999          1  \n",
       "\n",
       "[29290 rows x 8 columns]"
      ]
     },
     "execution_count": 174,
     "metadata": {},
     "output_type": "execute_result"
    }
   ],
   "source": [
    "pass_attempt_df_final"
   ]
  },
  {
   "cell_type": "code",
   "execution_count": 176,
   "metadata": {
    "collapsed": true
   },
   "outputs": [],
   "source": [
    "pass_attempt_df_final.to_csv(\"~/Desktop/CoverageNet/src/01_identify_man_coverage/outputs/linebackers_pass_attempts_man_zone_classes.csv\", \n",
    "                             index = False)"
   ]
  },
  {
   "cell_type": "code",
   "execution_count": 175,
   "metadata": {},
   "outputs": [
    {
     "data": {
      "text/html": [
       "<div>\n",
       "<style scoped>\n",
       "    .dataframe tbody tr th:only-of-type {\n",
       "        vertical-align: middle;\n",
       "    }\n",
       "\n",
       "    .dataframe tbody tr th {\n",
       "        vertical-align: top;\n",
       "    }\n",
       "\n",
       "    .dataframe thead th {\n",
       "        text-align: right;\n",
       "    }\n",
       "</style>\n",
       "<table border=\"1\" class=\"dataframe\">\n",
       "  <thead>\n",
       "    <tr style=\"text-align: right;\">\n",
       "      <th></th>\n",
       "      <th>week</th>\n",
       "      <th>gameId</th>\n",
       "      <th>playId</th>\n",
       "      <th>nflId</th>\n",
       "      <th>displayName</th>\n",
       "      <th>position</th>\n",
       "      <th>off_var_time_0</th>\n",
       "      <th>off_var_time_0_1</th>\n",
       "      <th>off_var_time_1</th>\n",
       "      <th>off_var_time_1_2</th>\n",
       "      <th>...</th>\n",
       "      <th>off_dir_diff_between_ball_snap_and_pass_forward</th>\n",
       "      <th>best_cor_x_time_1</th>\n",
       "      <th>best_cor_x_time_1_2</th>\n",
       "      <th>best_cor_y_time_1</th>\n",
       "      <th>best_cor_y_time_1_2</th>\n",
       "      <th>best_cor_x_y_avg_time_1</th>\n",
       "      <th>best_cor_x_y_avg_time_1_2</th>\n",
       "      <th>cor_dist_inter</th>\n",
       "      <th>zone_probability</th>\n",
       "      <th>zone_flag</th>\n",
       "    </tr>\n",
       "  </thead>\n",
       "  <tbody>\n",
       "    <tr>\n",
       "      <th>4</th>\n",
       "      <td>1</td>\n",
       "      <td>2018090600</td>\n",
       "      <td>168</td>\n",
       "      <td>2552315</td>\n",
       "      <td>Jordan Hicks</td>\n",
       "      <td>MLB</td>\n",
       "      <td>0.000127</td>\n",
       "      <td>3.665084</td>\n",
       "      <td>3.950894</td>\n",
       "      <td>3.611672</td>\n",
       "      <td>...</td>\n",
       "      <td>71.29</td>\n",
       "      <td>-0.978096</td>\n",
       "      <td>0.545482</td>\n",
       "      <td>0.996558</td>\n",
       "      <td>-0.129083</td>\n",
       "      <td>0.009231</td>\n",
       "      <td>0.208199</td>\n",
       "      <td>0.000011</td>\n",
       "      <td>1.0</td>\n",
       "      <td>1</td>\n",
       "    </tr>\n",
       "    <tr>\n",
       "      <th>5</th>\n",
       "      <td>1</td>\n",
       "      <td>2018090600</td>\n",
       "      <td>168</td>\n",
       "      <td>2556363</td>\n",
       "      <td>Kamu Grugier-Hill</td>\n",
       "      <td>OLB</td>\n",
       "      <td>0.000631</td>\n",
       "      <td>4.088357</td>\n",
       "      <td>4.393762</td>\n",
       "      <td>9.359914</td>\n",
       "      <td>...</td>\n",
       "      <td>66.40</td>\n",
       "      <td>-0.966562</td>\n",
       "      <td>-0.783156</td>\n",
       "      <td>0.993911</td>\n",
       "      <td>0.997322</td>\n",
       "      <td>0.013674</td>\n",
       "      <td>0.107083</td>\n",
       "      <td>0.000023</td>\n",
       "      <td>1.0</td>\n",
       "      <td>1</td>\n",
       "    </tr>\n",
       "  </tbody>\n",
       "</table>\n",
       "<p>2 rows × 37 columns</p>\n",
       "</div>"
      ],
      "text/plain": [
       "   week      gameId  playId    nflId        displayName position  \\\n",
       "4     1  2018090600     168  2552315       Jordan Hicks      MLB   \n",
       "5     1  2018090600     168  2556363  Kamu Grugier-Hill      OLB   \n",
       "\n",
       "   off_var_time_0  off_var_time_0_1  off_var_time_1  off_var_time_1_2  ...  \\\n",
       "4        0.000127          3.665084        3.950894          3.611672  ...   \n",
       "5        0.000631          4.088357        4.393762          9.359914  ...   \n",
       "\n",
       "   off_dir_diff_between_ball_snap_and_pass_forward  best_cor_x_time_1  \\\n",
       "4                                            71.29          -0.978096   \n",
       "5                                            66.40          -0.966562   \n",
       "\n",
       "   best_cor_x_time_1_2  best_cor_y_time_1  best_cor_y_time_1_2  \\\n",
       "4             0.545482           0.996558            -0.129083   \n",
       "5            -0.783156           0.993911             0.997322   \n",
       "\n",
       "   best_cor_x_y_avg_time_1  best_cor_x_y_avg_time_1_2  cor_dist_inter  \\\n",
       "4                 0.009231                   0.208199        0.000011   \n",
       "5                 0.013674                   0.107083        0.000023   \n",
       "\n",
       "   zone_probability  zone_flag  \n",
       "4               1.0          1  \n",
       "5               1.0          1  \n",
       "\n",
       "[2 rows x 37 columns]"
      ]
     },
     "execution_count": 175,
     "metadata": {},
     "output_type": "execute_result"
    }
   ],
   "source": [
    "pass_attempt_df[(pass_attempt_df[\"gameId\"] == 2018090600) & (pass_attempt_df[\"playId\"] == 168)]"
   ]
  },
  {
   "cell_type": "code",
   "execution_count": 78,
   "metadata": {},
   "outputs": [
    {
     "data": {
      "text/html": [
       "<div>\n",
       "<style scoped>\n",
       "    .dataframe tbody tr th:only-of-type {\n",
       "        vertical-align: middle;\n",
       "    }\n",
       "\n",
       "    .dataframe tbody tr th {\n",
       "        vertical-align: top;\n",
       "    }\n",
       "\n",
       "    .dataframe thead th {\n",
       "        text-align: right;\n",
       "    }\n",
       "</style>\n",
       "<table border=\"1\" class=\"dataframe\">\n",
       "  <thead>\n",
       "    <tr style=\"text-align: right;\">\n",
       "      <th></th>\n",
       "      <th>displayName</th>\n",
       "      <th>off_mean_time_0</th>\n",
       "      <th>off_mean_time_0_1</th>\n",
       "      <th>off_mean_time_1</th>\n",
       "      <th>off_mean_time_1_2</th>\n",
       "      <th>off_mean_time_2</th>\n",
       "    </tr>\n",
       "  </thead>\n",
       "  <tbody>\n",
       "    <tr>\n",
       "      <th>2564</th>\n",
       "      <td>Tahir Whitehead</td>\n",
       "      <td>6.427505</td>\n",
       "      <td>6.042054</td>\n",
       "      <td>5.899294</td>\n",
       "      <td>5.894474</td>\n",
       "      <td>5.872787</td>\n",
       "    </tr>\n",
       "    <tr>\n",
       "      <th>2565</th>\n",
       "      <td>Marquel Lee</td>\n",
       "      <td>5.145860</td>\n",
       "      <td>4.424178</td>\n",
       "      <td>4.156889</td>\n",
       "      <td>3.796330</td>\n",
       "      <td>2.173816</td>\n",
       "    </tr>\n",
       "  </tbody>\n",
       "</table>\n",
       "</div>"
      ],
      "text/plain": [
       "          displayName  off_mean_time_0  off_mean_time_0_1  off_mean_time_1  \\\n",
       "2564  Tahir Whitehead         6.427505           6.042054         5.899294   \n",
       "2565      Marquel Lee         5.145860           4.424178         4.156889   \n",
       "\n",
       "      off_mean_time_1_2  off_mean_time_2  \n",
       "2564           5.894474         5.872787  \n",
       "2565           3.796330         2.173816  "
      ]
     },
     "execution_count": 78,
     "metadata": {},
     "output_type": "execute_result"
    }
   ],
   "source": [
    "pass_attempt_df[(pass_attempt_df[\"gameId\"] == 2018091001) & (pass_attempt_df[\"playId\"] == 3175)][[\"displayName\"] + \\\n",
    "                            list(pass_attempt_df.columns[['off_mean' in x for x in pass_attempt_df.columns]])]"
   ]
  },
  {
   "cell_type": "markdown",
   "metadata": {},
   "source": [
    "# Repeating for Sack Plays!"
   ]
  },
  {
   "cell_type": "code",
   "execution_count": 177,
   "metadata": {
    "collapsed": true
   },
   "outputs": [],
   "source": [
    "filter_col = [col for col in sacks_df if not '_o_' in col]\n",
    "sacks_df = sacks_df[filter_col]"
   ]
  },
  {
   "cell_type": "code",
   "execution_count": 178,
   "metadata": {
    "collapsed": true
   },
   "outputs": [],
   "source": [
    "filter_col = [col for col in sacks_df if not 'facing' in col]\n",
    "sacks_df = sacks_df[filter_col]"
   ]
  },
  {
   "cell_type": "code",
   "execution_count": 179,
   "metadata": {
    "collapsed": true
   },
   "outputs": [],
   "source": [
    "filter_col = [col for col in sacks_df if not 'var_y' in col]\n",
    "sacks_df = sacks_df[filter_col]"
   ]
  },
  {
   "cell_type": "code",
   "execution_count": 180,
   "metadata": {
    "collapsed": true
   },
   "outputs": [],
   "source": [
    "filter_col = [col for col in sacks_df if not 'var_x' in col]\n",
    "sacks_df = sacks_df[filter_col]"
   ]
  },
  {
   "cell_type": "code",
   "execution_count": 181,
   "metadata": {
    "collapsed": true
   },
   "outputs": [],
   "source": [
    "filter_col = [col for col in sacks_df if not 'def_mean_time_0' in col]\n",
    "sacks_df = sacks_df[filter_col]"
   ]
  },
  {
   "cell_type": "code",
   "execution_count": 182,
   "metadata": {
    "collapsed": true
   },
   "outputs": [],
   "source": [
    "filter_col = [col for col in sacks_df if not 'def' in col]\n",
    "sacks_df = sacks_df[filter_col]"
   ]
  },
  {
   "cell_type": "code",
   "execution_count": 183,
   "metadata": {
    "collapsed": true
   },
   "outputs": [],
   "source": [
    "filter_col = [col for col in sacks_df if not 'def_var_time_0' in col]\n",
    "sacks_df = sacks_df[filter_col]"
   ]
  },
  {
   "cell_type": "code",
   "execution_count": 184,
   "metadata": {},
   "outputs": [
    {
     "data": {
      "text/plain": [
       "Index(['week', 'gameId', 'playId', 'nflId', 'displayName', 'position',\n",
       "       'speed_var_time_0', 'speed_var_time_0_1', 'speed_var_time_1',\n",
       "       'speed_mean_time_0', 'speed_mean_time_0_1', 'speed_mean_time_1',\n",
       "       'off_var_time_0', 'off_var_time_0_1', 'off_var_time_1',\n",
       "       'off_mean_time_0', 'off_mean_time_0_1', 'off_mean_time_1',\n",
       "       'off_dir_var_time_0', 'off_dir_var_time_0_1', 'off_dir_var_time_1',\n",
       "       'off_dir_mean_time_0', 'off_dir_mean_time_0_1', 'off_dir_mean_time_1',\n",
       "       'rat_mean_time_0', 'rat_mean_time_0_1', 'rat_mean_time_1',\n",
       "       'rat_var_time_0', 'rat_var_time_0_1', 'rat_var_time_1', 'cor_x_time_0',\n",
       "       'cor_x_time_0_1', 'cor_x_time_1', 'cor_y_time_0', 'cor_y_time_0_1',\n",
       "       'cor_y_time_1', 'cor_s_time_0', 'cor_s_time_0_1', 'cor_s_time_1',\n",
       "       'cor_avg_x_y_time_0', 'cor_avg_x_y_time_0_1', 'cor_avg_x_y_time_1',\n",
       "       'cor_rot_best_x_time_0', 'cor_rot_best_x_time_0_1',\n",
       "       'cor_rot_best_x_time_1', 'cor_rot_best_y_time_0',\n",
       "       'cor_rot_best_y_time_0_1', 'cor_rot_best_y_time_1',\n",
       "       'cor_rot_best_x_y_time_0', 'cor_rot_best_x_y_time_0_1',\n",
       "       'cor_rot_best_x_y_time_1', 'ratio_ball_snap', 'ratio_qb_sack',\n",
       "       'cb_off_dir_diff_ball_snap', 'cb_off_dir_diff_qb_sack',\n",
       "       'cb_off_dist_ball_snap', 'cb_off_dist_qb_sack', 'best_cor_x_time_0',\n",
       "       'best_cor_x_time_0_1', 'best_cor_x_time_1', 'best_cor_y_time_0',\n",
       "       'best_cor_y_time_0_1', 'best_cor_y_time_1', 'best_cor_x_y_avg_time_0',\n",
       "       'best_cor_x_y_avg_time_0_1', 'best_cor_x_y_avg_time_1'],\n",
       "      dtype='object')"
      ]
     },
     "execution_count": 184,
     "metadata": {},
     "output_type": "execute_result"
    }
   ],
   "source": [
    "sacks_df.columns"
   ]
  },
  {
   "cell_type": "code",
   "execution_count": 185,
   "metadata": {
    "collapsed": true
   },
   "outputs": [],
   "source": [
    "filter_col = [col for col in sacks_df if not (('cor' in col) and ('best' not in col) and ('s' not in col))]\n",
    "sacks_df = sacks_df[filter_col]"
   ]
  },
  {
   "cell_type": "code",
   "execution_count": 186,
   "metadata": {
    "collapsed": true
   },
   "outputs": [],
   "source": [
    "filter_col = [col for col in sacks_df if not (('cor_rot' in col))]\n",
    "sacks_df = sacks_df[filter_col]"
   ]
  },
  {
   "cell_type": "code",
   "execution_count": 187,
   "metadata": {
    "collapsed": true
   },
   "outputs": [],
   "source": [
    "filter_col = [col for col in sacks_df if not (('cor' in col) and ('time_0' in col))]\n",
    "sacks_df = sacks_df[filter_col]"
   ]
  },
  {
   "cell_type": "code",
   "execution_count": 188,
   "metadata": {
    "collapsed": true
   },
   "outputs": [],
   "source": [
    "filter_col = [col for col in sacks_df if not (('cor' in col) and ('time_2' in col))]\n",
    "sacks_df = sacks_df[filter_col]"
   ]
  },
  {
   "cell_type": "code",
   "execution_count": 189,
   "metadata": {
    "collapsed": true
   },
   "outputs": [],
   "source": [
    "filter_col = [col for col in sacks_df if not 'off_dir_var_time_0' in col]\n",
    "sacks_df = sacks_df[filter_col]"
   ]
  },
  {
   "cell_type": "code",
   "execution_count": 190,
   "metadata": {
    "collapsed": true
   },
   "outputs": [],
   "source": [
    "filter_col = [col for col in sacks_df if not 'speed' in col]\n",
    "sacks_df = sacks_df[filter_col]"
   ]
  },
  {
   "cell_type": "code",
   "execution_count": 191,
   "metadata": {
    "collapsed": true
   },
   "outputs": [],
   "source": [
    "sacks_df = sacks_df.drop(['cb_off_dir_diff_ball_snap', 'cb_off_dist_ball_snap',\n",
    "                                       'off_dir_mean_time_0'\n",
    "                                       ], axis = 1)"
   ]
  },
  {
   "cell_type": "code",
   "execution_count": 192,
   "metadata": {
    "collapsed": true
   },
   "outputs": [],
   "source": [
    "filter_col = [col for col in sacks_df if (not 'rat' in col)|('ratio_pass_forward' in col)]\n",
    "sacks_df = sacks_df[filter_col]"
   ]
  },
  {
   "cell_type": "code",
   "execution_count": 193,
   "metadata": {
    "collapsed": true
   },
   "outputs": [],
   "source": [
    "filter_col = [col for col in sacks_df if (not '2' in col)]\n",
    "sacks_df = sacks_df[filter_col]"
   ]
  },
  {
   "cell_type": "code",
   "execution_count": 194,
   "metadata": {},
   "outputs": [
    {
     "data": {
      "text/plain": [
       "Index(['week', 'gameId', 'playId', 'nflId', 'displayName', 'position',\n",
       "       'off_var_time_0', 'off_var_time_0_1', 'off_var_time_1',\n",
       "       'off_mean_time_0', 'off_mean_time_0_1', 'off_mean_time_1',\n",
       "       'off_dir_var_time_1', 'off_dir_mean_time_0_1', 'off_dir_mean_time_1',\n",
       "       'cor_s_time_1', 'cb_off_dir_diff_qb_sack', 'cb_off_dist_qb_sack',\n",
       "       'best_cor_x_time_1', 'best_cor_y_time_1', 'best_cor_x_y_avg_time_1'],\n",
       "      dtype='object')"
      ]
     },
     "execution_count": 194,
     "metadata": {},
     "output_type": "execute_result"
    }
   ],
   "source": [
    "sacks_df.columns"
   ]
  },
  {
   "cell_type": "code",
   "execution_count": 195,
   "metadata": {
    "collapsed": true
   },
   "outputs": [],
   "source": [
    "sacks_df[\"cor_dist_inter\"] = (sacks_df[\"best_cor_x_y_avg_time_1\"]**2)/sacks_df[\"off_mean_time_1\"]\n",
    "sacks_df[\"cor_dist_inter\"] = sacks_df[\"cor_dist_inter\"].fillna(0)\n",
    "sacks_df[\"cor_dist_inter\"] = sacks_df[\"cor_dist_inter\"].replace([np.inf], \\\n",
    "                np.percentile(np.array(sacks_df[\"cor_dist_inter\"]), 99))\n",
    "sacks_df[\"cor_dist_inter\"] = sacks_df[\"cor_dist_inter\"].replace([-np.inf], \\\n",
    "                np.percentile(np.array(sacks_df[\"cor_dist_inter\"]), 1))"
   ]
  },
  {
   "cell_type": "code",
   "execution_count": 196,
   "metadata": {},
   "outputs": [
    {
     "data": {
      "text/html": [
       "<div>\n",
       "<style scoped>\n",
       "    .dataframe tbody tr th:only-of-type {\n",
       "        vertical-align: middle;\n",
       "    }\n",
       "\n",
       "    .dataframe tbody tr th {\n",
       "        vertical-align: top;\n",
       "    }\n",
       "\n",
       "    .dataframe thead th {\n",
       "        text-align: right;\n",
       "    }\n",
       "</style>\n",
       "<table border=\"1\" class=\"dataframe\">\n",
       "  <thead>\n",
       "    <tr style=\"text-align: right;\">\n",
       "      <th></th>\n",
       "      <th>week</th>\n",
       "      <th>gameId</th>\n",
       "      <th>playId</th>\n",
       "      <th>nflId</th>\n",
       "      <th>displayName</th>\n",
       "      <th>position</th>\n",
       "      <th>off_var_time_0</th>\n",
       "      <th>off_var_time_0_1</th>\n",
       "      <th>off_var_time_1</th>\n",
       "      <th>off_mean_time_0</th>\n",
       "      <th>...</th>\n",
       "      <th>off_dir_var_time_1</th>\n",
       "      <th>off_dir_mean_time_0_1</th>\n",
       "      <th>off_dir_mean_time_1</th>\n",
       "      <th>cor_s_time_1</th>\n",
       "      <th>cb_off_dir_diff_qb_sack</th>\n",
       "      <th>cb_off_dist_qb_sack</th>\n",
       "      <th>best_cor_x_time_1</th>\n",
       "      <th>best_cor_y_time_1</th>\n",
       "      <th>best_cor_x_y_avg_time_1</th>\n",
       "      <th>cor_dist_inter</th>\n",
       "    </tr>\n",
       "  </thead>\n",
       "  <tbody>\n",
       "    <tr>\n",
       "      <th>0</th>\n",
       "      <td>1</td>\n",
       "      <td>2018090600</td>\n",
       "      <td>776</td>\n",
       "      <td>2552301</td>\n",
       "      <td>Vic Beasley</td>\n",
       "      <td>OLB</td>\n",
       "      <td>0.000054</td>\n",
       "      <td>7.225394</td>\n",
       "      <td>8.588984</td>\n",
       "      <td>2.513854</td>\n",
       "      <td>...</td>\n",
       "      <td>2142.696558</td>\n",
       "      <td>74.006458</td>\n",
       "      <td>66.178684</td>\n",
       "      <td>0.764220</td>\n",
       "      <td>31.19</td>\n",
       "      <td>9.550775</td>\n",
       "      <td>0.988115</td>\n",
       "      <td>0.427971</td>\n",
       "      <td>0.708043</td>\n",
       "      <td>0.120127</td>\n",
       "    </tr>\n",
       "    <tr>\n",
       "      <th>1</th>\n",
       "      <td>1</td>\n",
       "      <td>2018090600</td>\n",
       "      <td>776</td>\n",
       "      <td>2555162</td>\n",
       "      <td>Deion Jones</td>\n",
       "      <td>MLB</td>\n",
       "      <td>0.000074</td>\n",
       "      <td>8.788880</td>\n",
       "      <td>7.742856</td>\n",
       "      <td>9.555725</td>\n",
       "      <td>...</td>\n",
       "      <td>456.666513</td>\n",
       "      <td>35.668750</td>\n",
       "      <td>27.611842</td>\n",
       "      <td>0.927958</td>\n",
       "      <td>9.99</td>\n",
       "      <td>1.269055</td>\n",
       "      <td>0.985413</td>\n",
       "      <td>0.640412</td>\n",
       "      <td>0.812913</td>\n",
       "      <td>0.118920</td>\n",
       "    </tr>\n",
       "    <tr>\n",
       "      <th>2</th>\n",
       "      <td>1</td>\n",
       "      <td>2018090600</td>\n",
       "      <td>839</td>\n",
       "      <td>2552301</td>\n",
       "      <td>Vic Beasley</td>\n",
       "      <td>OLB</td>\n",
       "      <td>0.000022</td>\n",
       "      <td>16.777484</td>\n",
       "      <td>16.343167</td>\n",
       "      <td>2.105464</td>\n",
       "      <td>...</td>\n",
       "      <td>1277.701078</td>\n",
       "      <td>70.846271</td>\n",
       "      <td>69.978776</td>\n",
       "      <td>0.014541</td>\n",
       "      <td>65.97</td>\n",
       "      <td>8.770091</td>\n",
       "      <td>0.969199</td>\n",
       "      <td>0.697843</td>\n",
       "      <td>0.833521</td>\n",
       "      <td>0.101113</td>\n",
       "    </tr>\n",
       "    <tr>\n",
       "      <th>3</th>\n",
       "      <td>1</td>\n",
       "      <td>2018090600</td>\n",
       "      <td>839</td>\n",
       "      <td>2555162</td>\n",
       "      <td>Deion Jones</td>\n",
       "      <td>MLB</td>\n",
       "      <td>0.000010</td>\n",
       "      <td>6.422039</td>\n",
       "      <td>7.592978</td>\n",
       "      <td>6.684927</td>\n",
       "      <td>...</td>\n",
       "      <td>2199.712876</td>\n",
       "      <td>62.372034</td>\n",
       "      <td>63.686939</td>\n",
       "      <td>0.538696</td>\n",
       "      <td>60.60</td>\n",
       "      <td>9.355154</td>\n",
       "      <td>0.879990</td>\n",
       "      <td>0.406924</td>\n",
       "      <td>0.643457</td>\n",
       "      <td>0.072606</td>\n",
       "    </tr>\n",
       "    <tr>\n",
       "      <th>4</th>\n",
       "      <td>1</td>\n",
       "      <td>2018090600</td>\n",
       "      <td>839</td>\n",
       "      <td>2555255</td>\n",
       "      <td>De'Vondre Campbell</td>\n",
       "      <td>OLB</td>\n",
       "      <td>0.014267</td>\n",
       "      <td>3.079978</td>\n",
       "      <td>3.718855</td>\n",
       "      <td>6.003950</td>\n",
       "      <td>...</td>\n",
       "      <td>3617.688800</td>\n",
       "      <td>70.053729</td>\n",
       "      <td>63.390000</td>\n",
       "      <td>0.678549</td>\n",
       "      <td>5.19</td>\n",
       "      <td>7.037230</td>\n",
       "      <td>0.933017</td>\n",
       "      <td>0.981179</td>\n",
       "      <td>0.957098</td>\n",
       "      <td>0.151932</td>\n",
       "    </tr>\n",
       "    <tr>\n",
       "      <th>5</th>\n",
       "      <td>1</td>\n",
       "      <td>2018090600</td>\n",
       "      <td>3815</td>\n",
       "      <td>2552315</td>\n",
       "      <td>Jordan Hicks</td>\n",
       "      <td>MLB</td>\n",
       "      <td>0.001452</td>\n",
       "      <td>1.298739</td>\n",
       "      <td>1.168851</td>\n",
       "      <td>7.091151</td>\n",
       "      <td>...</td>\n",
       "      <td>2753.802737</td>\n",
       "      <td>73.947358</td>\n",
       "      <td>80.272326</td>\n",
       "      <td>0.232434</td>\n",
       "      <td>19.85</td>\n",
       "      <td>6.299817</td>\n",
       "      <td>0.927999</td>\n",
       "      <td>0.842411</td>\n",
       "      <td>0.885205</td>\n",
       "      <td>0.140328</td>\n",
       "    </tr>\n",
       "    <tr>\n",
       "      <th>6</th>\n",
       "      <td>1</td>\n",
       "      <td>2018090900</td>\n",
       "      <td>466</td>\n",
       "      <td>2543464</td>\n",
       "      <td>C.J. Mosley</td>\n",
       "      <td>ILB</td>\n",
       "      <td>0.000023</td>\n",
       "      <td>3.030636</td>\n",
       "      <td>3.632676</td>\n",
       "      <td>5.229545</td>\n",
       "      <td>...</td>\n",
       "      <td>689.396401</td>\n",
       "      <td>26.589016</td>\n",
       "      <td>29.052941</td>\n",
       "      <td>0.474874</td>\n",
       "      <td>48.91</td>\n",
       "      <td>6.017317</td>\n",
       "      <td>0.997241</td>\n",
       "      <td>0.978505</td>\n",
       "      <td>0.987873</td>\n",
       "      <td>0.192359</td>\n",
       "    </tr>\n",
       "    <tr>\n",
       "      <th>7</th>\n",
       "      <td>1</td>\n",
       "      <td>2018090900</td>\n",
       "      <td>1385</td>\n",
       "      <td>2557969</td>\n",
       "      <td>Matt Milano</td>\n",
       "      <td>OLB</td>\n",
       "      <td>0.000062</td>\n",
       "      <td>10.685659</td>\n",
       "      <td>10.882569</td>\n",
       "      <td>4.293652</td>\n",
       "      <td>...</td>\n",
       "      <td>2464.414841</td>\n",
       "      <td>72.134762</td>\n",
       "      <td>79.445811</td>\n",
       "      <td>0.359788</td>\n",
       "      <td>98.39</td>\n",
       "      <td>9.978462</td>\n",
       "      <td>0.914318</td>\n",
       "      <td>0.707455</td>\n",
       "      <td>0.810886</td>\n",
       "      <td>0.087279</td>\n",
       "    </tr>\n",
       "    <tr>\n",
       "      <th>8</th>\n",
       "      <td>1</td>\n",
       "      <td>2018090900</td>\n",
       "      <td>1385</td>\n",
       "      <td>2560713</td>\n",
       "      <td>Tremaine Edmunds</td>\n",
       "      <td>LB</td>\n",
       "      <td>0.000230</td>\n",
       "      <td>4.667542</td>\n",
       "      <td>5.284140</td>\n",
       "      <td>5.254359</td>\n",
       "      <td>...</td>\n",
       "      <td>2175.203284</td>\n",
       "      <td>55.892262</td>\n",
       "      <td>44.329189</td>\n",
       "      <td>0.232014</td>\n",
       "      <td>11.68</td>\n",
       "      <td>1.601624</td>\n",
       "      <td>0.592546</td>\n",
       "      <td>0.849366</td>\n",
       "      <td>0.720956</td>\n",
       "      <td>0.107837</td>\n",
       "    </tr>\n",
       "    <tr>\n",
       "      <th>9</th>\n",
       "      <td>1</td>\n",
       "      <td>2018090900</td>\n",
       "      <td>1594</td>\n",
       "      <td>2556642</td>\n",
       "      <td>Patrick Onwuasor</td>\n",
       "      <td>ILB</td>\n",
       "      <td>0.002569</td>\n",
       "      <td>1.644275</td>\n",
       "      <td>1.757581</td>\n",
       "      <td>9.688941</td>\n",
       "      <td>...</td>\n",
       "      <td>2468.648745</td>\n",
       "      <td>60.885915</td>\n",
       "      <td>59.140492</td>\n",
       "      <td>0.592595</td>\n",
       "      <td>48.37</td>\n",
       "      <td>7.965651</td>\n",
       "      <td>-0.432039</td>\n",
       "      <td>0.916592</td>\n",
       "      <td>0.242277</td>\n",
       "      <td>0.006801</td>\n",
       "    </tr>\n",
       "  </tbody>\n",
       "</table>\n",
       "<p>10 rows × 22 columns</p>\n",
       "</div>"
      ],
      "text/plain": [
       "   week      gameId  playId    nflId         displayName position  \\\n",
       "0     1  2018090600     776  2552301         Vic Beasley      OLB   \n",
       "1     1  2018090600     776  2555162         Deion Jones      MLB   \n",
       "2     1  2018090600     839  2552301         Vic Beasley      OLB   \n",
       "3     1  2018090600     839  2555162         Deion Jones      MLB   \n",
       "4     1  2018090600     839  2555255  De'Vondre Campbell      OLB   \n",
       "5     1  2018090600    3815  2552315        Jordan Hicks      MLB   \n",
       "6     1  2018090900     466  2543464         C.J. Mosley      ILB   \n",
       "7     1  2018090900    1385  2557969         Matt Milano      OLB   \n",
       "8     1  2018090900    1385  2560713    Tremaine Edmunds       LB   \n",
       "9     1  2018090900    1594  2556642    Patrick Onwuasor      ILB   \n",
       "\n",
       "   off_var_time_0  off_var_time_0_1  off_var_time_1  off_mean_time_0  ...  \\\n",
       "0        0.000054          7.225394        8.588984         2.513854  ...   \n",
       "1        0.000074          8.788880        7.742856         9.555725  ...   \n",
       "2        0.000022         16.777484       16.343167         2.105464  ...   \n",
       "3        0.000010          6.422039        7.592978         6.684927  ...   \n",
       "4        0.014267          3.079978        3.718855         6.003950  ...   \n",
       "5        0.001452          1.298739        1.168851         7.091151  ...   \n",
       "6        0.000023          3.030636        3.632676         5.229545  ...   \n",
       "7        0.000062         10.685659       10.882569         4.293652  ...   \n",
       "8        0.000230          4.667542        5.284140         5.254359  ...   \n",
       "9        0.002569          1.644275        1.757581         9.688941  ...   \n",
       "\n",
       "   off_dir_var_time_1  off_dir_mean_time_0_1  off_dir_mean_time_1  \\\n",
       "0         2142.696558              74.006458            66.178684   \n",
       "1          456.666513              35.668750            27.611842   \n",
       "2         1277.701078              70.846271            69.978776   \n",
       "3         2199.712876              62.372034            63.686939   \n",
       "4         3617.688800              70.053729            63.390000   \n",
       "5         2753.802737              73.947358            80.272326   \n",
       "6          689.396401              26.589016            29.052941   \n",
       "7         2464.414841              72.134762            79.445811   \n",
       "8         2175.203284              55.892262            44.329189   \n",
       "9         2468.648745              60.885915            59.140492   \n",
       "\n",
       "   cor_s_time_1  cb_off_dir_diff_qb_sack  cb_off_dist_qb_sack  \\\n",
       "0      0.764220                    31.19             9.550775   \n",
       "1      0.927958                     9.99             1.269055   \n",
       "2      0.014541                    65.97             8.770091   \n",
       "3      0.538696                    60.60             9.355154   \n",
       "4      0.678549                     5.19             7.037230   \n",
       "5      0.232434                    19.85             6.299817   \n",
       "6      0.474874                    48.91             6.017317   \n",
       "7      0.359788                    98.39             9.978462   \n",
       "8      0.232014                    11.68             1.601624   \n",
       "9      0.592595                    48.37             7.965651   \n",
       "\n",
       "   best_cor_x_time_1  best_cor_y_time_1  best_cor_x_y_avg_time_1  \\\n",
       "0           0.988115           0.427971                 0.708043   \n",
       "1           0.985413           0.640412                 0.812913   \n",
       "2           0.969199           0.697843                 0.833521   \n",
       "3           0.879990           0.406924                 0.643457   \n",
       "4           0.933017           0.981179                 0.957098   \n",
       "5           0.927999           0.842411                 0.885205   \n",
       "6           0.997241           0.978505                 0.987873   \n",
       "7           0.914318           0.707455                 0.810886   \n",
       "8           0.592546           0.849366                 0.720956   \n",
       "9          -0.432039           0.916592                 0.242277   \n",
       "\n",
       "   cor_dist_inter  \n",
       "0        0.120127  \n",
       "1        0.118920  \n",
       "2        0.101113  \n",
       "3        0.072606  \n",
       "4        0.151932  \n",
       "5        0.140328  \n",
       "6        0.192359  \n",
       "7        0.087279  \n",
       "8        0.107837  \n",
       "9        0.006801  \n",
       "\n",
       "[10 rows x 22 columns]"
      ]
     },
     "execution_count": 196,
     "metadata": {},
     "output_type": "execute_result"
    }
   ],
   "source": [
    "sacks_df.head(10)"
   ]
  },
  {
   "cell_type": "code",
   "execution_count": 197,
   "metadata": {},
   "outputs": [
    {
     "data": {
      "text/plain": [
       "Index(['week', 'gameId', 'playId', 'nflId', 'displayName', 'position',\n",
       "       'off_var_time_0', 'off_var_time_0_1', 'off_var_time_1',\n",
       "       'off_mean_time_0', 'off_mean_time_0_1', 'off_mean_time_1',\n",
       "       'off_dir_var_time_1', 'off_dir_mean_time_0_1', 'off_dir_mean_time_1',\n",
       "       'cor_s_time_1', 'cb_off_dir_diff_qb_sack', 'cb_off_dist_qb_sack',\n",
       "       'best_cor_x_time_1', 'best_cor_y_time_1', 'best_cor_x_y_avg_time_1',\n",
       "       'cor_dist_inter'],\n",
       "      dtype='object')"
      ]
     },
     "execution_count": 197,
     "metadata": {},
     "output_type": "execute_result"
    }
   ],
   "source": [
    "sacks_df.columns"
   ]
  },
  {
   "cell_type": "markdown",
   "metadata": {},
   "source": [
    "### Preparing Train/Test Groups"
   ]
  },
  {
   "cell_type": "code",
   "execution_count": 198,
   "metadata": {
    "collapsed": true
   },
   "outputs": [],
   "source": [
    "weeks_exclude = [1, 2, 3]\n",
    "train = sacks_df[[x not in weeks_exclude for x in list(sacks_df[\"week\"])]]\n",
    "test = sacks_df[[x in weeks_exclude for x in list(sacks_df[\"week\"])]]"
   ]
  },
  {
   "cell_type": "code",
   "execution_count": 199,
   "metadata": {
    "collapsed": true
   },
   "outputs": [],
   "source": [
    "X_train = train.drop(['week', 'gameId','playId','nflId','displayName','position'], axis = 1)\n",
    "X_test = test.drop(['week', 'gameId','playId','nflId','displayName','position'], axis = 1)"
   ]
  },
  {
   "cell_type": "code",
   "execution_count": 200,
   "metadata": {},
   "outputs": [
    {
     "name": "stdout",
     "output_type": "stream",
     "text": [
      "(1420, 16)\n",
      "(347, 16)\n"
     ]
    }
   ],
   "source": [
    "print(X_train.shape)\n",
    "print(X_test.shape)"
   ]
  },
  {
   "cell_type": "markdown",
   "metadata": {},
   "source": [
    "### Fitting GMM Model"
   ]
  },
  {
   "cell_type": "code",
   "execution_count": 201,
   "metadata": {
    "collapsed": true
   },
   "outputs": [],
   "source": [
    "# train\n",
    "clf_train = mixture.GaussianMixture(n_components=3, covariance_type='full')\n",
    "f_train = clf_train.fit(X_train)"
   ]
  },
  {
   "cell_type": "code",
   "execution_count": 202,
   "metadata": {
    "collapsed": true
   },
   "outputs": [],
   "source": [
    "# test\n",
    "clf_test = mixture.GaussianMixture(n_components=3, covariance_type='full')\n",
    "f_test = clf_test.fit(X_test)"
   ]
  },
  {
   "cell_type": "markdown",
   "metadata": {},
   "source": [
    "### Examining Cluster Results"
   ]
  },
  {
   "cell_type": "code",
   "execution_count": 203,
   "metadata": {},
   "outputs": [
    {
     "data": {
      "text/plain": [
       "{'best_cor_x_time_1': (0.7564392015891478,\n",
       "  0.9387072536181404,\n",
       "  0.6180653894337336),\n",
       " 'best_cor_x_y_avg_time_1': (0.8202702543255633,\n",
       "  0.9453720460076375,\n",
       "  0.6303220200683882),\n",
       " 'best_cor_y_time_1': (0.8841013070619788,\n",
       "  0.9520368383971348,\n",
       "  0.6425786507030432),\n",
       " 'cb_off_dir_diff_qb_sack': (50.61881432665116,\n",
       "  27.83420879020384,\n",
       "  61.98986231216991),\n",
       " 'cb_off_dist_qb_sack': (4.14645362675367,\n",
       "  2.454902512312167,\n",
       "  6.451463216402369),\n",
       " 'cor_dist_inter': (0.1465921120994244,\n",
       "  0.3297332068179773,\n",
       "  0.07444930725506588),\n",
       " 'cor_s_time_1': (0.6414318882363822, 0.7215758850356896, 0.5026824515692111),\n",
       " 'off_dir_mean_time_0_1': (61.907243871482635,\n",
       "  44.76441722380161,\n",
       "  71.22110238105834),\n",
       " 'off_dir_mean_time_1': (54.907068687576384,\n",
       "  35.32314827745006,\n",
       "  66.04712448100851),\n",
       " 'off_dir_var_time_1': (1785.6529805341804,\n",
       "  1320.5763941109412,\n",
       "  2007.1568602105147),\n",
       " 'off_mean_time_0': (6.859361779813737, 5.707711125861017, 7.242347117197449),\n",
       " 'off_mean_time_0_1': (5.371069529268442,\n",
       "  3.6151311152963683,\n",
       "  6.688339590054659),\n",
       " 'off_mean_time_1': (5.019106693259515, 3.1575463039080542, 6.55699878188207),\n",
       " 'off_var_time_0': (0.0011526632293266661,\n",
       "  0.06459183541685191,\n",
       "  0.019716356798937077),\n",
       " 'off_var_time_0_1': (3.558969266941607, 4.025287674217493, 5.605443707060468),\n",
       " 'off_var_time_1': (3.4347783237914205, 3.3372452171043197, 5.521354405724158)}"
      ]
     },
     "execution_count": 203,
     "metadata": {},
     "output_type": "execute_result"
    }
   ],
   "source": [
    "get_cluster_means(X_train, f_train)"
   ]
  },
  {
   "cell_type": "markdown",
   "metadata": {
    "collapsed": true
   },
   "source": [
    "### Computing Rand Index"
   ]
  },
  {
   "cell_type": "code",
   "execution_count": 204,
   "metadata": {
    "collapsed": true
   },
   "outputs": [],
   "source": [
    "from sklearn.metrics import adjusted_rand_score"
   ]
  },
  {
   "cell_type": "code",
   "execution_count": 205,
   "metadata": {
    "collapsed": true
   },
   "outputs": [],
   "source": [
    "y_train = f_train.predict(X_test)\n",
    "y_test = f_test.predict(X_test)"
   ]
  },
  {
   "cell_type": "code",
   "execution_count": 206,
   "metadata": {},
   "outputs": [
    {
     "data": {
      "text/plain": [
       "0.3703379941220948"
      ]
     },
     "execution_count": 206,
     "metadata": {},
     "output_type": "execute_result"
    }
   ],
   "source": [
    "adjusted_rand_score(y_train, y_test)"
   ]
  },
  {
   "cell_type": "markdown",
   "metadata": {},
   "source": [
    "### Iterating Through To Get Cross-Validation Scores"
   ]
  },
  {
   "cell_type": "code",
   "execution_count": 109,
   "metadata": {
    "collapsed": true
   },
   "outputs": [],
   "source": [
    "weeks_exclude_vect = [[1,2,3],[4,5,6],[7,8,9],[10,11,12],[13,14,15],[15,16,17]]\n",
    "G_vect = [2, 3, 4, 5, 6, 7, 8, 9]\n",
    "rand_index_G_vect = []"
   ]
  },
  {
   "cell_type": "code",
   "execution_count": 207,
   "metadata": {
    "scrolled": true
   },
   "outputs": [
    {
     "name": "stdout",
     "output_type": "stream",
     "text": [
      "0.3925029734225997\n",
      "0.36753236044752396\n",
      "0.13381979241738343\n",
      "0.11861339195309722\n",
      "0.1808316351274161\n"
     ]
    },
    {
     "ename": "KeyboardInterrupt",
     "evalue": "",
     "output_type": "error",
     "traceback": [
      "\u001b[0;31m---------------------------------------------------------------------------\u001b[0m",
      "\u001b[0;31mKeyboardInterrupt\u001b[0m                         Traceback (most recent call last)",
      "\u001b[0;32m<ipython-input-207-7028fce0d2c4>\u001b[0m in \u001b[0;36m<module>\u001b[0;34m()\u001b[0m\n\u001b[1;32m     13\u001b[0m         clf_train = mixture.GaussianMixture(n_components=G, covariance_type='full', \n\u001b[1;32m     14\u001b[0m                                             n_init = 2, max_iter = 200)\n\u001b[0;32m---> 15\u001b[0;31m         \u001b[0mf_train\u001b[0m \u001b[0;34m=\u001b[0m \u001b[0mclf_train\u001b[0m\u001b[0;34m.\u001b[0m\u001b[0mfit\u001b[0m\u001b[0;34m(\u001b[0m\u001b[0mX_train\u001b[0m\u001b[0;34m)\u001b[0m\u001b[0;34m\u001b[0m\u001b[0m\n\u001b[0m\u001b[1;32m     16\u001b[0m \u001b[0;34m\u001b[0m\u001b[0m\n\u001b[1;32m     17\u001b[0m         \u001b[0;31m# test\u001b[0m\u001b[0;34m\u001b[0m\u001b[0;34m\u001b[0m\u001b[0m\n",
      "\u001b[0;32m/anaconda3/lib/python3.6/site-packages/sklearn/mixture/base.py\u001b[0m in \u001b[0;36mfit\u001b[0;34m(self, X, y)\u001b[0m\n\u001b[1;32m    212\u001b[0m \u001b[0;34m\u001b[0m\u001b[0m\n\u001b[1;32m    213\u001b[0m                 \u001b[0mlog_prob_norm\u001b[0m\u001b[0;34m,\u001b[0m \u001b[0mlog_resp\u001b[0m \u001b[0;34m=\u001b[0m \u001b[0mself\u001b[0m\u001b[0;34m.\u001b[0m\u001b[0m_e_step\u001b[0m\u001b[0;34m(\u001b[0m\u001b[0mX\u001b[0m\u001b[0;34m)\u001b[0m\u001b[0;34m\u001b[0m\u001b[0m\n\u001b[0;32m--> 214\u001b[0;31m                 \u001b[0mself\u001b[0m\u001b[0;34m.\u001b[0m\u001b[0m_m_step\u001b[0m\u001b[0;34m(\u001b[0m\u001b[0mX\u001b[0m\u001b[0;34m,\u001b[0m \u001b[0mlog_resp\u001b[0m\u001b[0;34m)\u001b[0m\u001b[0;34m\u001b[0m\u001b[0m\n\u001b[0m\u001b[1;32m    215\u001b[0m                 self.lower_bound_ = self._compute_lower_bound(\n\u001b[1;32m    216\u001b[0m                     log_resp, log_prob_norm)\n",
      "\u001b[0;32m/anaconda3/lib/python3.6/site-packages/sklearn/mixture/gaussian_mixture.py\u001b[0m in \u001b[0;36m_m_step\u001b[0;34m(self, X, log_resp)\u001b[0m\n\u001b[1;32m    669\u001b[0m         \u001b[0mself\u001b[0m\u001b[0;34m.\u001b[0m\u001b[0mweights_\u001b[0m \u001b[0;34m/=\u001b[0m \u001b[0mn_samples\u001b[0m\u001b[0;34m\u001b[0m\u001b[0m\n\u001b[1;32m    670\u001b[0m         self.precisions_cholesky_ = _compute_precision_cholesky(\n\u001b[0;32m--> 671\u001b[0;31m             self.covariances_, self.covariance_type)\n\u001b[0m\u001b[1;32m    672\u001b[0m \u001b[0;34m\u001b[0m\u001b[0m\n\u001b[1;32m    673\u001b[0m     \u001b[0;32mdef\u001b[0m \u001b[0m_estimate_log_prob\u001b[0m\u001b[0;34m(\u001b[0m\u001b[0mself\u001b[0m\u001b[0;34m,\u001b[0m \u001b[0mX\u001b[0m\u001b[0;34m)\u001b[0m\u001b[0;34m:\u001b[0m\u001b[0;34m\u001b[0m\u001b[0m\n",
      "\u001b[0;32m/anaconda3/lib/python3.6/site-packages/sklearn/mixture/gaussian_mixture.py\u001b[0m in \u001b[0;36m_compute_precision_cholesky\u001b[0;34m(covariances, covariance_type)\u001b[0m\n\u001b[1;32m    316\u001b[0m         \u001b[0;32mfor\u001b[0m \u001b[0mk\u001b[0m\u001b[0;34m,\u001b[0m \u001b[0mcovariance\u001b[0m \u001b[0;32min\u001b[0m \u001b[0menumerate\u001b[0m\u001b[0;34m(\u001b[0m\u001b[0mcovariances\u001b[0m\u001b[0;34m)\u001b[0m\u001b[0;34m:\u001b[0m\u001b[0;34m\u001b[0m\u001b[0m\n\u001b[1;32m    317\u001b[0m             \u001b[0;32mtry\u001b[0m\u001b[0;34m:\u001b[0m\u001b[0;34m\u001b[0m\u001b[0m\n\u001b[0;32m--> 318\u001b[0;31m                 \u001b[0mcov_chol\u001b[0m \u001b[0;34m=\u001b[0m \u001b[0mlinalg\u001b[0m\u001b[0;34m.\u001b[0m\u001b[0mcholesky\u001b[0m\u001b[0;34m(\u001b[0m\u001b[0mcovariance\u001b[0m\u001b[0;34m,\u001b[0m \u001b[0mlower\u001b[0m\u001b[0;34m=\u001b[0m\u001b[0;32mTrue\u001b[0m\u001b[0;34m)\u001b[0m\u001b[0;34m\u001b[0m\u001b[0m\n\u001b[0m\u001b[1;32m    319\u001b[0m             \u001b[0;32mexcept\u001b[0m \u001b[0mlinalg\u001b[0m\u001b[0;34m.\u001b[0m\u001b[0mLinAlgError\u001b[0m\u001b[0;34m:\u001b[0m\u001b[0;34m\u001b[0m\u001b[0m\n\u001b[1;32m    320\u001b[0m                 \u001b[0;32mraise\u001b[0m \u001b[0mValueError\u001b[0m\u001b[0;34m(\u001b[0m\u001b[0mestimate_precision_error_message\u001b[0m\u001b[0;34m)\u001b[0m\u001b[0;34m\u001b[0m\u001b[0m\n",
      "\u001b[0;32m/anaconda3/lib/python3.6/site-packages/scipy/linalg/decomp_cholesky.py\u001b[0m in \u001b[0;36mcholesky\u001b[0;34m(a, lower, overwrite_a, check_finite)\u001b[0m\n\u001b[1;32m     89\u001b[0m     \"\"\"\n\u001b[1;32m     90\u001b[0m     c, lower = _cholesky(a, lower=lower, overwrite_a=overwrite_a, clean=True,\n\u001b[0;32m---> 91\u001b[0;31m                          check_finite=check_finite)\n\u001b[0m\u001b[1;32m     92\u001b[0m     \u001b[0;32mreturn\u001b[0m \u001b[0mc\u001b[0m\u001b[0;34m\u001b[0m\u001b[0m\n\u001b[1;32m     93\u001b[0m \u001b[0;34m\u001b[0m\u001b[0m\n",
      "\u001b[0;32m/anaconda3/lib/python3.6/site-packages/scipy/linalg/decomp_cholesky.py\u001b[0m in \u001b[0;36m_cholesky\u001b[0;34m(a, lower, overwrite_a, clean, check_finite)\u001b[0m\n\u001b[1;32m     17\u001b[0m     \u001b[0;34m\"\"\"Common code for cholesky() and cho_factor().\"\"\"\u001b[0m\u001b[0;34m\u001b[0m\u001b[0m\n\u001b[1;32m     18\u001b[0m \u001b[0;34m\u001b[0m\u001b[0m\n\u001b[0;32m---> 19\u001b[0;31m     \u001b[0ma1\u001b[0m \u001b[0;34m=\u001b[0m \u001b[0masarray_chkfinite\u001b[0m\u001b[0;34m(\u001b[0m\u001b[0ma\u001b[0m\u001b[0;34m)\u001b[0m \u001b[0;32mif\u001b[0m \u001b[0mcheck_finite\u001b[0m \u001b[0;32melse\u001b[0m \u001b[0masarray\u001b[0m\u001b[0;34m(\u001b[0m\u001b[0ma\u001b[0m\u001b[0;34m)\u001b[0m\u001b[0;34m\u001b[0m\u001b[0m\n\u001b[0m\u001b[1;32m     20\u001b[0m     \u001b[0ma1\u001b[0m \u001b[0;34m=\u001b[0m \u001b[0matleast_2d\u001b[0m\u001b[0;34m(\u001b[0m\u001b[0ma1\u001b[0m\u001b[0;34m)\u001b[0m\u001b[0;34m\u001b[0m\u001b[0m\n\u001b[1;32m     21\u001b[0m \u001b[0;34m\u001b[0m\u001b[0m\n",
      "\u001b[0;32m/anaconda3/lib/python3.6/site-packages/numpy/lib/function_base.py\u001b[0m in \u001b[0;36masarray_chkfinite\u001b[0;34m(a, dtype, order)\u001b[0m\n\u001b[1;32m    482\u001b[0m     \"\"\"\n\u001b[1;32m    483\u001b[0m     \u001b[0ma\u001b[0m \u001b[0;34m=\u001b[0m \u001b[0masarray\u001b[0m\u001b[0;34m(\u001b[0m\u001b[0ma\u001b[0m\u001b[0;34m,\u001b[0m \u001b[0mdtype\u001b[0m\u001b[0;34m=\u001b[0m\u001b[0mdtype\u001b[0m\u001b[0;34m,\u001b[0m \u001b[0morder\u001b[0m\u001b[0;34m=\u001b[0m\u001b[0morder\u001b[0m\u001b[0;34m)\u001b[0m\u001b[0;34m\u001b[0m\u001b[0m\n\u001b[0;32m--> 484\u001b[0;31m     \u001b[0;32mif\u001b[0m \u001b[0ma\u001b[0m\u001b[0;34m.\u001b[0m\u001b[0mdtype\u001b[0m\u001b[0;34m.\u001b[0m\u001b[0mchar\u001b[0m \u001b[0;32min\u001b[0m \u001b[0mtypecodes\u001b[0m\u001b[0;34m[\u001b[0m\u001b[0;34m'AllFloat'\u001b[0m\u001b[0;34m]\u001b[0m \u001b[0;32mand\u001b[0m \u001b[0;32mnot\u001b[0m \u001b[0mnp\u001b[0m\u001b[0;34m.\u001b[0m\u001b[0misfinite\u001b[0m\u001b[0;34m(\u001b[0m\u001b[0ma\u001b[0m\u001b[0;34m)\u001b[0m\u001b[0;34m.\u001b[0m\u001b[0mall\u001b[0m\u001b[0;34m(\u001b[0m\u001b[0;34m)\u001b[0m\u001b[0;34m:\u001b[0m\u001b[0;34m\u001b[0m\u001b[0m\n\u001b[0m\u001b[1;32m    485\u001b[0m         raise ValueError(\n\u001b[1;32m    486\u001b[0m             \"array must not contain infs or NaNs\")\n",
      "\u001b[0;32m/anaconda3/lib/python3.6/site-packages/numpy/core/_methods.py\u001b[0m in \u001b[0;36m_all\u001b[0;34m(a, axis, dtype, out, keepdims)\u001b[0m\n\u001b[1;32m     55\u001b[0m \u001b[0;34m\u001b[0m\u001b[0m\n\u001b[1;32m     56\u001b[0m \u001b[0;32mdef\u001b[0m \u001b[0m_all\u001b[0m\u001b[0;34m(\u001b[0m\u001b[0ma\u001b[0m\u001b[0;34m,\u001b[0m \u001b[0maxis\u001b[0m\u001b[0;34m=\u001b[0m\u001b[0;32mNone\u001b[0m\u001b[0;34m,\u001b[0m \u001b[0mdtype\u001b[0m\u001b[0;34m=\u001b[0m\u001b[0;32mNone\u001b[0m\u001b[0;34m,\u001b[0m \u001b[0mout\u001b[0m\u001b[0;34m=\u001b[0m\u001b[0;32mNone\u001b[0m\u001b[0;34m,\u001b[0m \u001b[0mkeepdims\u001b[0m\u001b[0;34m=\u001b[0m\u001b[0;32mFalse\u001b[0m\u001b[0;34m)\u001b[0m\u001b[0;34m:\u001b[0m\u001b[0;34m\u001b[0m\u001b[0m\n\u001b[0;32m---> 57\u001b[0;31m     \u001b[0;32mreturn\u001b[0m \u001b[0mumr_all\u001b[0m\u001b[0;34m(\u001b[0m\u001b[0ma\u001b[0m\u001b[0;34m,\u001b[0m \u001b[0maxis\u001b[0m\u001b[0;34m,\u001b[0m \u001b[0mdtype\u001b[0m\u001b[0;34m,\u001b[0m \u001b[0mout\u001b[0m\u001b[0;34m,\u001b[0m \u001b[0mkeepdims\u001b[0m\u001b[0;34m)\u001b[0m\u001b[0;34m\u001b[0m\u001b[0m\n\u001b[0m\u001b[1;32m     58\u001b[0m \u001b[0;34m\u001b[0m\u001b[0m\n\u001b[1;32m     59\u001b[0m \u001b[0;32mdef\u001b[0m \u001b[0m_count_reduce_items\u001b[0m\u001b[0;34m(\u001b[0m\u001b[0marr\u001b[0m\u001b[0;34m,\u001b[0m \u001b[0maxis\u001b[0m\u001b[0;34m)\u001b[0m\u001b[0;34m:\u001b[0m\u001b[0;34m\u001b[0m\u001b[0m\n",
      "\u001b[0;31mKeyboardInterrupt\u001b[0m: "
     ]
    }
   ],
   "source": [
    "for G in G_vect:\n",
    "    rand_index_sum = 0\n",
    "    # iterating through the week groupings to leave out\n",
    "    for weeks_exclue in weeks_exclude_vect:\n",
    "        # creating train/test groups\n",
    "        train = sacks_df[[x not in weeks_exclude for x in list(sacks_df[\"week\"])]]\n",
    "        test = sacks_df[[x in weeks_exclude for x in list(sacks_df[\"week\"])]]\n",
    "\n",
    "        X_train = train.drop(['week', 'gameId','playId','nflId','displayName','position'], axis = 1)\n",
    "        X_test = test.drop(['week', 'gameId','playId','nflId','displayName','position'], axis = 1)\n",
    "\n",
    "        # train\n",
    "        clf_train = mixture.GaussianMixture(n_components=G, covariance_type='full', \n",
    "                                            n_init = 2, max_iter = 200)\n",
    "        f_train = clf_train.fit(X_train)\n",
    "\n",
    "        # test\n",
    "        clf_test = mixture.GaussianMixture(n_components=G, covariance_type='full',\n",
    "                                           n_init = 2, max_iter = 200)\n",
    "        f_test = clf_test.fit(X_test)\n",
    "\n",
    "        # classifying test group\n",
    "        y_train = f_train.predict(X_test)\n",
    "        y_test = f_test.predict(X_test)\n",
    "\n",
    "        # appling the adjusted rand index\n",
    "        rand_index_val = adjusted_rand_score(y_train, y_test)\n",
    "        rand_index_sum += rand_index_val\n",
    "\n",
    "    rand_index = rand_index_sum/len(weeks_exclude_vect)\n",
    "    \n",
    "    rand_index_G_vect.append(rand_index)\n",
    "    \n",
    "    print(rand_index)"
   ]
  },
  {
   "cell_type": "markdown",
   "metadata": {},
   "source": [
    "### Plot eliminating x/y var, speed, and def based variables, replacing Ratio with Cor"
   ]
  },
  {
   "cell_type": "code",
   "execution_count": 169,
   "metadata": {},
   "outputs": [
    {
     "data": {
      "image/png": "[encoded data removed]",
      "text/plain": [
       "<matplotlib.figure.Figure at 0x124312828>"
      ]
     },
     "metadata": {},
     "output_type": "display_data"
    }
   ],
   "source": [
    "plt.pyplot.figure(figsize=(10, 6))\n",
    "# plotting the results\n",
    "plt.pyplot.bar(x = G_vect,\n",
    "               height = rand_index_G_vect,\n",
    "               width = .55)\n",
    "plt.pyplot.xlabel('Number of Clusters ($G*$)')\n",
    "plt.pyplot.ylabel('ARI Score')\n",
    "plt.pyplot.ylim(0,1)\n",
    "plt.pyplot.title('ARI Score vs. Number of Clusters')\n",
    "plt.pyplot.show()"
   ]
  },
  {
   "cell_type": "markdown",
   "metadata": {},
   "source": [
    "### Feature Importance"
   ]
  },
  {
   "cell_type": "code",
   "execution_count": 170,
   "metadata": {
    "collapsed": true
   },
   "outputs": [],
   "source": [
    "import sys\n",
    "weeks_exclude_vect = [[1,2,3],[4,5,6],[7,8,9],[10,11,12],[13,14,15],[15,16,17]]\n",
    "feature_list = list(X_train.columns)\n",
    "rand_index_vect = []\n",
    "\n",
    "# making a waitbar\n",
    "toolbar_width = len(feature_list)"
   ]
  },
  {
   "cell_type": "code",
   "execution_count": 171,
   "metadata": {},
   "outputs": [
    {
     "name": "stdout",
     "output_type": "stream",
     "text": [
      "[                ----------------"
     ]
    }
   ],
   "source": [
    "sys.stdout.write(\"[%s]\" % (\" \" * toolbar_width))\n",
    "sys.stdout.flush()\n",
    "sys.stdout.write(\"\\b\" * (toolbar_width+1))\n",
    "\n",
    "for feature in feature_list:\n",
    "    \n",
    "    rand_index_sum = 0\n",
    "\n",
    "    # iterating through the week groupings to leave out\n",
    "    for weeks_exclue in weeks_exclude_vect:\n",
    "        # creating train/test groups\n",
    "        train = sacks_df[[x not in weeks_exclude for \\\n",
    "                                 x in list(sacks_df[\"week\"])]].drop([feature], axis = 1)\n",
    "        test = sacks_df[[x in weeks_exclude for \\\n",
    "                                x in list(sacks_df[\"week\"])]].drop([feature], axis = 1)\n",
    "\n",
    "        X_train = train.drop(['week', 'gameId','playId','nflId','displayName','position'], axis = 1)\n",
    "        X_test = test.drop(['week', 'gameId','playId','nflId','displayName','position'], axis = 1)\n",
    "\n",
    "        # train\n",
    "        clf_train = mixture.GaussianMixture(n_components=2, covariance_type='full')\n",
    "        f_train = clf_train.fit(X_train)\n",
    "\n",
    "        # test\n",
    "        clf_test = mixture.GaussianMixture(n_components=2, covariance_type='full')\n",
    "        f_test = clf_test.fit(X_test)\n",
    "\n",
    "        # classifying test group\n",
    "        y_train = f_train.predict(X_test)\n",
    "        y_test = f_test.predict(X_test)\n",
    "\n",
    "        # appling the adjusted rand index\n",
    "        rand_index_val = adjusted_rand_score(y_train, y_test)\n",
    "        rand_index_sum += rand_index_val\n",
    "\n",
    "    rand_index = rand_index_sum/len(weeks_exclude_vect)\n",
    "    \n",
    "    rand_index_vect.append(rand_index)\n",
    "    \n",
    "    sys.stdout.write(\"-\")\n",
    "    sys.stdout.flush()"
   ]
  },
  {
   "cell_type": "code",
   "execution_count": 172,
   "metadata": {
    "collapsed": true
   },
   "outputs": [],
   "source": [
    "d = {'feature': feature_list, 'delta_ARI': rand_index_G_vect[0] - np.array(rand_index_vect)}\n",
    "feature_imp_df = pd.DataFrame(data=d).sort_values('delta_ARI', ascending = False)\n",
    "feature_imp_df[\"base_feature\"] = [x.split('_pass_forward')[0] if \"pass_forward\" in x \\\n",
    "                                  else x.split('_ball_snap')[0] if \"ball_snap\" in x \\\n",
    "                                  else x.split('_time')[0] for x in np.array(feature_imp_df[\"feature\"])]\n",
    "feature_imp_df[\"time_period\"] = [\"Before Ball Thrown\" if \"pass_forward\" in x \\\n",
    "                                 else \"Before Ball Thrown\" if \"ball_snap\" in x \\\n",
    "                                 else \"After Ball Thrown\" if x.endswith(\"2\") \\\n",
    "                                 else \"Before Ball Thrown\" for x in np.array(feature_imp_df[\"feature\"])]\n",
    "feature_imp_df[\"feature\"] = [x.upper() for x in feature_imp_df[\"feature\"]]"
   ]
  },
  {
   "cell_type": "code",
   "execution_count": 173,
   "metadata": {},
   "outputs": [
    {
     "data": {
      "image/png": "[encoded data removed]",
      "text/plain": [
       "<matplotlib.figure.Figure at 0x123cc67b8>"
      ]
     },
     "metadata": {},
     "output_type": "display_data"
    }
   ],
   "source": [
    "plt.pyplot.figure(figsize=(7,7))\n",
    "\n",
    "sns.barplot(x=\"delta_ARI\", y=\"feature\", data=feature_imp_df.head(10).sort_values('delta_ARI', ascending = True),\n",
    "            hue = \"time_period\", dodge = False, palette = [\"red\", \"blue\"])\n",
    "plt.pyplot.gca().legend().set_title('')\n",
    "plt.pyplot.title('Change in ARI vs. Feature')\n",
    "plt.pyplot.ylabel('Feature Name')\n",
    "plt.pyplot.xlabel('Change In ARI')\n",
    "plt.pyplot.show()"
   ]
  },
  {
   "cell_type": "markdown",
   "metadata": {},
   "source": [
    "### Scoring All Plays"
   ]
  },
  {
   "cell_type": "code",
   "execution_count": 208,
   "metadata": {},
   "outputs": [
    {
     "data": {
      "text/html": [
       "<div>\n",
       "<style scoped>\n",
       "    .dataframe tbody tr th:only-of-type {\n",
       "        vertical-align: middle;\n",
       "    }\n",
       "\n",
       "    .dataframe tbody tr th {\n",
       "        vertical-align: top;\n",
       "    }\n",
       "\n",
       "    .dataframe thead th {\n",
       "        text-align: right;\n",
       "    }\n",
       "</style>\n",
       "<table border=\"1\" class=\"dataframe\">\n",
       "  <thead>\n",
       "    <tr style=\"text-align: right;\">\n",
       "      <th></th>\n",
       "      <th>week</th>\n",
       "      <th>gameId</th>\n",
       "      <th>playId</th>\n",
       "      <th>nflId</th>\n",
       "      <th>displayName</th>\n",
       "      <th>position</th>\n",
       "      <th>off_var_time_0</th>\n",
       "      <th>off_var_time_0_1</th>\n",
       "      <th>off_var_time_1</th>\n",
       "      <th>off_mean_time_0</th>\n",
       "      <th>...</th>\n",
       "      <th>off_dir_var_time_1</th>\n",
       "      <th>off_dir_mean_time_0_1</th>\n",
       "      <th>off_dir_mean_time_1</th>\n",
       "      <th>cor_s_time_1</th>\n",
       "      <th>cb_off_dir_diff_qb_sack</th>\n",
       "      <th>cb_off_dist_qb_sack</th>\n",
       "      <th>best_cor_x_time_1</th>\n",
       "      <th>best_cor_y_time_1</th>\n",
       "      <th>best_cor_x_y_avg_time_1</th>\n",
       "      <th>cor_dist_inter</th>\n",
       "    </tr>\n",
       "  </thead>\n",
       "  <tbody>\n",
       "    <tr>\n",
       "      <th>0</th>\n",
       "      <td>1</td>\n",
       "      <td>2018090600</td>\n",
       "      <td>776</td>\n",
       "      <td>2552301</td>\n",
       "      <td>Vic Beasley</td>\n",
       "      <td>OLB</td>\n",
       "      <td>0.000054</td>\n",
       "      <td>7.225394</td>\n",
       "      <td>8.588984</td>\n",
       "      <td>2.513854</td>\n",
       "      <td>...</td>\n",
       "      <td>2142.696558</td>\n",
       "      <td>74.006458</td>\n",
       "      <td>66.178684</td>\n",
       "      <td>0.764220</td>\n",
       "      <td>31.19</td>\n",
       "      <td>9.550775</td>\n",
       "      <td>0.988115</td>\n",
       "      <td>0.427971</td>\n",
       "      <td>0.708043</td>\n",
       "      <td>0.120127</td>\n",
       "    </tr>\n",
       "    <tr>\n",
       "      <th>1</th>\n",
       "      <td>1</td>\n",
       "      <td>2018090600</td>\n",
       "      <td>776</td>\n",
       "      <td>2555162</td>\n",
       "      <td>Deion Jones</td>\n",
       "      <td>MLB</td>\n",
       "      <td>0.000074</td>\n",
       "      <td>8.788880</td>\n",
       "      <td>7.742856</td>\n",
       "      <td>9.555725</td>\n",
       "      <td>...</td>\n",
       "      <td>456.666513</td>\n",
       "      <td>35.668750</td>\n",
       "      <td>27.611842</td>\n",
       "      <td>0.927958</td>\n",
       "      <td>9.99</td>\n",
       "      <td>1.269055</td>\n",
       "      <td>0.985413</td>\n",
       "      <td>0.640412</td>\n",
       "      <td>0.812913</td>\n",
       "      <td>0.118920</td>\n",
       "    </tr>\n",
       "    <tr>\n",
       "      <th>2</th>\n",
       "      <td>1</td>\n",
       "      <td>2018090600</td>\n",
       "      <td>839</td>\n",
       "      <td>2552301</td>\n",
       "      <td>Vic Beasley</td>\n",
       "      <td>OLB</td>\n",
       "      <td>0.000022</td>\n",
       "      <td>16.777484</td>\n",
       "      <td>16.343167</td>\n",
       "      <td>2.105464</td>\n",
       "      <td>...</td>\n",
       "      <td>1277.701078</td>\n",
       "      <td>70.846271</td>\n",
       "      <td>69.978776</td>\n",
       "      <td>0.014541</td>\n",
       "      <td>65.97</td>\n",
       "      <td>8.770091</td>\n",
       "      <td>0.969199</td>\n",
       "      <td>0.697843</td>\n",
       "      <td>0.833521</td>\n",
       "      <td>0.101113</td>\n",
       "    </tr>\n",
       "    <tr>\n",
       "      <th>3</th>\n",
       "      <td>1</td>\n",
       "      <td>2018090600</td>\n",
       "      <td>839</td>\n",
       "      <td>2555162</td>\n",
       "      <td>Deion Jones</td>\n",
       "      <td>MLB</td>\n",
       "      <td>0.000010</td>\n",
       "      <td>6.422039</td>\n",
       "      <td>7.592978</td>\n",
       "      <td>6.684927</td>\n",
       "      <td>...</td>\n",
       "      <td>2199.712876</td>\n",
       "      <td>62.372034</td>\n",
       "      <td>63.686939</td>\n",
       "      <td>0.538696</td>\n",
       "      <td>60.60</td>\n",
       "      <td>9.355154</td>\n",
       "      <td>0.879990</td>\n",
       "      <td>0.406924</td>\n",
       "      <td>0.643457</td>\n",
       "      <td>0.072606</td>\n",
       "    </tr>\n",
       "    <tr>\n",
       "      <th>4</th>\n",
       "      <td>1</td>\n",
       "      <td>2018090600</td>\n",
       "      <td>839</td>\n",
       "      <td>2555255</td>\n",
       "      <td>De'Vondre Campbell</td>\n",
       "      <td>OLB</td>\n",
       "      <td>0.014267</td>\n",
       "      <td>3.079978</td>\n",
       "      <td>3.718855</td>\n",
       "      <td>6.003950</td>\n",
       "      <td>...</td>\n",
       "      <td>3617.688800</td>\n",
       "      <td>70.053729</td>\n",
       "      <td>63.390000</td>\n",
       "      <td>0.678549</td>\n",
       "      <td>5.19</td>\n",
       "      <td>7.037230</td>\n",
       "      <td>0.933017</td>\n",
       "      <td>0.981179</td>\n",
       "      <td>0.957098</td>\n",
       "      <td>0.151932</td>\n",
       "    </tr>\n",
       "    <tr>\n",
       "      <th>...</th>\n",
       "      <td>...</td>\n",
       "      <td>...</td>\n",
       "      <td>...</td>\n",
       "      <td>...</td>\n",
       "      <td>...</td>\n",
       "      <td>...</td>\n",
       "      <td>...</td>\n",
       "      <td>...</td>\n",
       "      <td>...</td>\n",
       "      <td>...</td>\n",
       "      <td>...</td>\n",
       "      <td>...</td>\n",
       "      <td>...</td>\n",
       "      <td>...</td>\n",
       "      <td>...</td>\n",
       "      <td>...</td>\n",
       "      <td>...</td>\n",
       "      <td>...</td>\n",
       "      <td>...</td>\n",
       "      <td>...</td>\n",
       "      <td>...</td>\n",
       "    </tr>\n",
       "    <tr>\n",
       "      <th>1762</th>\n",
       "      <td>17</td>\n",
       "      <td>2018123015</td>\n",
       "      <td>2742</td>\n",
       "      <td>2557887</td>\n",
       "      <td>Haason Reddick</td>\n",
       "      <td>ILB</td>\n",
       "      <td>0.000324</td>\n",
       "      <td>4.623800</td>\n",
       "      <td>3.840018</td>\n",
       "      <td>5.912411</td>\n",
       "      <td>...</td>\n",
       "      <td>868.887316</td>\n",
       "      <td>48.922453</td>\n",
       "      <td>46.378140</td>\n",
       "      <td>0.494366</td>\n",
       "      <td>81.42</td>\n",
       "      <td>2.112061</td>\n",
       "      <td>0.977971</td>\n",
       "      <td>0.650279</td>\n",
       "      <td>0.814125</td>\n",
       "      <td>0.237654</td>\n",
       "    </tr>\n",
       "    <tr>\n",
       "      <th>1763</th>\n",
       "      <td>17</td>\n",
       "      <td>2018123015</td>\n",
       "      <td>3089</td>\n",
       "      <td>2532966</td>\n",
       "      <td>Bobby Wagner</td>\n",
       "      <td>MLB</td>\n",
       "      <td>0.003252</td>\n",
       "      <td>2.537496</td>\n",
       "      <td>2.952989</td>\n",
       "      <td>5.286575</td>\n",
       "      <td>...</td>\n",
       "      <td>1790.933055</td>\n",
       "      <td>99.946429</td>\n",
       "      <td>105.099348</td>\n",
       "      <td>-0.034342</td>\n",
       "      <td>50.34</td>\n",
       "      <td>7.824379</td>\n",
       "      <td>0.708685</td>\n",
       "      <td>0.495275</td>\n",
       "      <td>0.601980</td>\n",
       "      <td>0.058578</td>\n",
       "    </tr>\n",
       "    <tr>\n",
       "      <th>1764</th>\n",
       "      <td>17</td>\n",
       "      <td>2018123015</td>\n",
       "      <td>3734</td>\n",
       "      <td>2543769</td>\n",
       "      <td>Deone Bucannon</td>\n",
       "      <td>ILB</td>\n",
       "      <td>0.009298</td>\n",
       "      <td>0.589036</td>\n",
       "      <td>0.387832</td>\n",
       "      <td>6.409548</td>\n",
       "      <td>...</td>\n",
       "      <td>1078.587029</td>\n",
       "      <td>80.022444</td>\n",
       "      <td>59.500571</td>\n",
       "      <td>0.503906</td>\n",
       "      <td>51.28</td>\n",
       "      <td>6.987453</td>\n",
       "      <td>0.978084</td>\n",
       "      <td>0.925383</td>\n",
       "      <td>0.951734</td>\n",
       "      <td>0.117870</td>\n",
       "    </tr>\n",
       "    <tr>\n",
       "      <th>1765</th>\n",
       "      <td>17</td>\n",
       "      <td>2018123015</td>\n",
       "      <td>3932</td>\n",
       "      <td>2495252</td>\n",
       "      <td>K.J. Wright</td>\n",
       "      <td>OLB</td>\n",
       "      <td>0.000082</td>\n",
       "      <td>11.116993</td>\n",
       "      <td>12.181435</td>\n",
       "      <td>5.766865</td>\n",
       "      <td>...</td>\n",
       "      <td>1665.236532</td>\n",
       "      <td>104.787193</td>\n",
       "      <td>117.330638</td>\n",
       "      <td>0.496298</td>\n",
       "      <td>130.72</td>\n",
       "      <td>7.327892</td>\n",
       "      <td>-0.221693</td>\n",
       "      <td>0.984138</td>\n",
       "      <td>0.381223</td>\n",
       "      <td>0.017071</td>\n",
       "    </tr>\n",
       "    <tr>\n",
       "      <th>1766</th>\n",
       "      <td>17</td>\n",
       "      <td>2018123015</td>\n",
       "      <td>3932</td>\n",
       "      <td>2532966</td>\n",
       "      <td>Bobby Wagner</td>\n",
       "      <td>MLB</td>\n",
       "      <td>0.000074</td>\n",
       "      <td>9.814134</td>\n",
       "      <td>7.985123</td>\n",
       "      <td>8.282616</td>\n",
       "      <td>...</td>\n",
       "      <td>122.285169</td>\n",
       "      <td>22.312807</td>\n",
       "      <td>16.939574</td>\n",
       "      <td>0.827496</td>\n",
       "      <td>20.33</td>\n",
       "      <td>1.906856</td>\n",
       "      <td>0.278390</td>\n",
       "      <td>0.981547</td>\n",
       "      <td>0.629969</td>\n",
       "      <td>0.110826</td>\n",
       "    </tr>\n",
       "  </tbody>\n",
       "</table>\n",
       "<p>1767 rows × 22 columns</p>\n",
       "</div>"
      ],
      "text/plain": [
       "      week      gameId  playId    nflId         displayName position  \\\n",
       "0        1  2018090600     776  2552301         Vic Beasley      OLB   \n",
       "1        1  2018090600     776  2555162         Deion Jones      MLB   \n",
       "2        1  2018090600     839  2552301         Vic Beasley      OLB   \n",
       "3        1  2018090600     839  2555162         Deion Jones      MLB   \n",
       "4        1  2018090600     839  2555255  De'Vondre Campbell      OLB   \n",
       "...    ...         ...     ...      ...                 ...      ...   \n",
       "1762    17  2018123015    2742  2557887      Haason Reddick      ILB   \n",
       "1763    17  2018123015    3089  2532966        Bobby Wagner      MLB   \n",
       "1764    17  2018123015    3734  2543769      Deone Bucannon      ILB   \n",
       "1765    17  2018123015    3932  2495252         K.J. Wright      OLB   \n",
       "1766    17  2018123015    3932  2532966        Bobby Wagner      MLB   \n",
       "\n",
       "      off_var_time_0  off_var_time_0_1  off_var_time_1  off_mean_time_0  ...  \\\n",
       "0           0.000054          7.225394        8.588984         2.513854  ...   \n",
       "1           0.000074          8.788880        7.742856         9.555725  ...   \n",
       "2           0.000022         16.777484       16.343167         2.105464  ...   \n",
       "3           0.000010          6.422039        7.592978         6.684927  ...   \n",
       "4           0.014267          3.079978        3.718855         6.003950  ...   \n",
       "...              ...               ...             ...              ...  ...   \n",
       "1762        0.000324          4.623800        3.840018         5.912411  ...   \n",
       "1763        0.003252          2.537496        2.952989         5.286575  ...   \n",
       "1764        0.009298          0.589036        0.387832         6.409548  ...   \n",
       "1765        0.000082         11.116993       12.181435         5.766865  ...   \n",
       "1766        0.000074          9.814134        7.985123         8.282616  ...   \n",
       "\n",
       "      off_dir_var_time_1  off_dir_mean_time_0_1  off_dir_mean_time_1  \\\n",
       "0            2142.696558              74.006458            66.178684   \n",
       "1             456.666513              35.668750            27.611842   \n",
       "2            1277.701078              70.846271            69.978776   \n",
       "3            2199.712876              62.372034            63.686939   \n",
       "4            3617.688800              70.053729            63.390000   \n",
       "...                  ...                    ...                  ...   \n",
       "1762          868.887316              48.922453            46.378140   \n",
       "1763         1790.933055              99.946429           105.099348   \n",
       "1764         1078.587029              80.022444            59.500571   \n",
       "1765         1665.236532             104.787193           117.330638   \n",
       "1766          122.285169              22.312807            16.939574   \n",
       "\n",
       "      cor_s_time_1  cb_off_dir_diff_qb_sack  cb_off_dist_qb_sack  \\\n",
       "0         0.764220                    31.19             9.550775   \n",
       "1         0.927958                     9.99             1.269055   \n",
       "2         0.014541                    65.97             8.770091   \n",
       "3         0.538696                    60.60             9.355154   \n",
       "4         0.678549                     5.19             7.037230   \n",
       "...            ...                      ...                  ...   \n",
       "1762      0.494366                    81.42             2.112061   \n",
       "1763     -0.034342                    50.34             7.824379   \n",
       "1764      0.503906                    51.28             6.987453   \n",
       "1765      0.496298                   130.72             7.327892   \n",
       "1766      0.827496                    20.33             1.906856   \n",
       "\n",
       "      best_cor_x_time_1  best_cor_y_time_1  best_cor_x_y_avg_time_1  \\\n",
       "0              0.988115           0.427971                 0.708043   \n",
       "1              0.985413           0.640412                 0.812913   \n",
       "2              0.969199           0.697843                 0.833521   \n",
       "3              0.879990           0.406924                 0.643457   \n",
       "4              0.933017           0.981179                 0.957098   \n",
       "...                 ...                ...                      ...   \n",
       "1762           0.977971           0.650279                 0.814125   \n",
       "1763           0.708685           0.495275                 0.601980   \n",
       "1764           0.978084           0.925383                 0.951734   \n",
       "1765          -0.221693           0.984138                 0.381223   \n",
       "1766           0.278390           0.981547                 0.629969   \n",
       "\n",
       "      cor_dist_inter  \n",
       "0           0.120127  \n",
       "1           0.118920  \n",
       "2           0.101113  \n",
       "3           0.072606  \n",
       "4           0.151932  \n",
       "...              ...  \n",
       "1762        0.237654  \n",
       "1763        0.058578  \n",
       "1764        0.117870  \n",
       "1765        0.017071  \n",
       "1766        0.110826  \n",
       "\n",
       "[1767 rows x 22 columns]"
      ]
     },
     "execution_count": 208,
     "metadata": {},
     "output_type": "execute_result"
    }
   ],
   "source": [
    "sacks_df"
   ]
  },
  {
   "cell_type": "code",
   "execution_count": 209,
   "metadata": {},
   "outputs": [
    {
     "data": {
      "text/plain": [
       "(1767, 16)"
      ]
     },
     "execution_count": 209,
     "metadata": {},
     "output_type": "execute_result"
    }
   ],
   "source": [
    "# sampling 45,000 plays to be within CPU limit\n",
    "X_train = sacks_df.drop(['week', 'gameId','playId','nflId','displayName','position'], axis = 1)\n",
    "X_train.shape"
   ]
  },
  {
   "cell_type": "code",
   "execution_count": 210,
   "metadata": {},
   "outputs": [
    {
     "data": {
      "text/plain": [
       "(1767, 16)"
      ]
     },
     "execution_count": 210,
     "metadata": {},
     "output_type": "execute_result"
    }
   ],
   "source": [
    "# all plays to score\n",
    "X_score = sacks_df.drop(['week', 'gameId','playId','nflId','displayName','position'], axis = 1)\n",
    "X_score.shape"
   ]
  },
  {
   "cell_type": "code",
   "execution_count": 211,
   "metadata": {
    "collapsed": true
   },
   "outputs": [],
   "source": [
    "# train\n",
    "clf_train = mixture.GaussianMixture(n_components=3, covariance_type='full')\n",
    "f_train = clf_train.fit(X_train)"
   ]
  },
  {
   "cell_type": "code",
   "execution_count": 212,
   "metadata": {},
   "outputs": [
    {
     "data": {
      "text/plain": [
       "{'best_cor_x_time_1': (0.41176135870267305,\n",
       "  0.9361718743740566,\n",
       "  0.8307003041368405),\n",
       " 'best_cor_x_y_avg_time_1': (0.6143132196181513,\n",
       "  0.9449322824952547,\n",
       "  0.7991983977831953),\n",
       " 'best_cor_y_time_1': (0.8168650805336294,\n",
       "  0.9536926906164529,\n",
       "  0.7676964914295504),\n",
       " 'cb_off_dir_diff_qb_sack': (53.193300471689696,\n",
       "  30.002857825248608,\n",
       "  56.55538576210145),\n",
       " 'cb_off_dist_qb_sack': (4.877527781146536,\n",
       "  2.4992859676702897,\n",
       "  5.346097188392757),\n",
       " 'cor_dist_inter': (0.0834578601570953,\n",
       "  0.31632179030307156,\n",
       "  0.1259956958491019),\n",
       " 'cor_s_time_1': (0.5137969701630074, 0.7442558714239332, 0.6073942459597832),\n",
       " 'off_dir_mean_time_0_1': (66.56827452642442,\n",
       "  46.532841030780325,\n",
       "  65.18855751544336),\n",
       " 'off_dir_mean_time_1': (60.83808429938378,\n",
       "  36.536530435711356,\n",
       "  58.84749771703572),\n",
       " 'off_dir_var_time_1': (1865.5415899776342,\n",
       "  1359.0222317396972,\n",
       "  1833.301658573762),\n",
       " 'off_mean_time_0': (7.509064679739424, 5.600122434501457, 6.840968463735468),\n",
       " 'off_mean_time_0_1': (6.007015045953952,\n",
       "  3.6043069786461466,\n",
       "  5.980576197442093),\n",
       " 'off_mean_time_1': (5.6927483138976465,\n",
       "  3.1493174515643325,\n",
       "  5.760453648277662),\n",
       " 'off_var_time_0': (0.04150707852693226,\n",
       "  0.041106960901787226,\n",
       "  0.001025245836475924),\n",
       " 'off_var_time_0_1': (5.381295671106703,\n",
       "  3.3851658845352177,\n",
       "  4.022814707651286),\n",
       " 'off_var_time_1': (5.042445404803608, 2.79847899061414, 4.049859310769681)}"
      ]
     },
     "execution_count": 212,
     "metadata": {},
     "output_type": "execute_result"
    }
   ],
   "source": [
    "get_cluster_means(X_train, f_train)"
   ]
  },
  {
   "cell_type": "code",
   "execution_count": 213,
   "metadata": {
    "collapsed": true
   },
   "outputs": [],
   "source": [
    "full_probs = [1 - x[1] for x in f_train.predict_proba(X_score)]\n",
    "full_classes = [0 if x==1 else 1 for x in f_train.predict(X_score)]"
   ]
  },
  {
   "cell_type": "code",
   "execution_count": 214,
   "metadata": {},
   "outputs": [
    {
     "data": {
      "image/png": "[encoded data removed]",
      "text/plain": [
       "<matplotlib.figure.Figure at 0x11cec8e48>"
      ]
     },
     "metadata": {},
     "output_type": "display_data"
    }
   ],
   "source": [
    "plt.pyplot.hist(full_probs, bins = 50)\n",
    "plt.pyplot.xlabel('Probability of Zone Coverage')\n",
    "plt.pyplot.ylabel('Density')\n",
    "plt.pyplot.show()"
   ]
  },
  {
   "cell_type": "code",
   "execution_count": 215,
   "metadata": {
    "collapsed": true
   },
   "outputs": [],
   "source": [
    "sacks_df[\"zone_probability\"] = full_probs\n",
    "sacks_df[\"zone_flag\"] = full_classes"
   ]
  },
  {
   "cell_type": "markdown",
   "metadata": {},
   "source": [
    "### Saving Results"
   ]
  },
  {
   "cell_type": "code",
   "execution_count": 216,
   "metadata": {
    "collapsed": true
   },
   "outputs": [],
   "source": [
    "sacks_df_final = sacks_df[['week', 'gameId','playId','nflId','displayName','position'] + \\\n",
    "                                     list(sacks_df.columns[[x.startswith('zone') for x in sacks_df.columns]])].sort_values(['gameId','playId','position'])"
   ]
  },
  {
   "cell_type": "code",
   "execution_count": 217,
   "metadata": {},
   "outputs": [
    {
     "data": {
      "text/html": [
       "<div>\n",
       "<style scoped>\n",
       "    .dataframe tbody tr th:only-of-type {\n",
       "        vertical-align: middle;\n",
       "    }\n",
       "\n",
       "    .dataframe tbody tr th {\n",
       "        vertical-align: top;\n",
       "    }\n",
       "\n",
       "    .dataframe thead th {\n",
       "        text-align: right;\n",
       "    }\n",
       "</style>\n",
       "<table border=\"1\" class=\"dataframe\">\n",
       "  <thead>\n",
       "    <tr style=\"text-align: right;\">\n",
       "      <th></th>\n",
       "      <th>week</th>\n",
       "      <th>gameId</th>\n",
       "      <th>playId</th>\n",
       "      <th>nflId</th>\n",
       "      <th>displayName</th>\n",
       "      <th>position</th>\n",
       "      <th>zone_probability</th>\n",
       "      <th>zone_flag</th>\n",
       "    </tr>\n",
       "  </thead>\n",
       "  <tbody>\n",
       "    <tr>\n",
       "      <th>1</th>\n",
       "      <td>1</td>\n",
       "      <td>2018090600</td>\n",
       "      <td>776</td>\n",
       "      <td>2555162</td>\n",
       "      <td>Deion Jones</td>\n",
       "      <td>MLB</td>\n",
       "      <td>1.000000</td>\n",
       "      <td>1</td>\n",
       "    </tr>\n",
       "    <tr>\n",
       "      <th>0</th>\n",
       "      <td>1</td>\n",
       "      <td>2018090600</td>\n",
       "      <td>776</td>\n",
       "      <td>2552301</td>\n",
       "      <td>Vic Beasley</td>\n",
       "      <td>OLB</td>\n",
       "      <td>1.000000</td>\n",
       "      <td>1</td>\n",
       "    </tr>\n",
       "    <tr>\n",
       "      <th>3</th>\n",
       "      <td>1</td>\n",
       "      <td>2018090600</td>\n",
       "      <td>839</td>\n",
       "      <td>2555162</td>\n",
       "      <td>Deion Jones</td>\n",
       "      <td>MLB</td>\n",
       "      <td>1.000000</td>\n",
       "      <td>1</td>\n",
       "    </tr>\n",
       "    <tr>\n",
       "      <th>2</th>\n",
       "      <td>1</td>\n",
       "      <td>2018090600</td>\n",
       "      <td>839</td>\n",
       "      <td>2552301</td>\n",
       "      <td>Vic Beasley</td>\n",
       "      <td>OLB</td>\n",
       "      <td>1.000000</td>\n",
       "      <td>1</td>\n",
       "    </tr>\n",
       "    <tr>\n",
       "      <th>4</th>\n",
       "      <td>1</td>\n",
       "      <td>2018090600</td>\n",
       "      <td>839</td>\n",
       "      <td>2555255</td>\n",
       "      <td>De'Vondre Campbell</td>\n",
       "      <td>OLB</td>\n",
       "      <td>0.999883</td>\n",
       "      <td>1</td>\n",
       "    </tr>\n",
       "    <tr>\n",
       "      <th>...</th>\n",
       "      <td>...</td>\n",
       "      <td>...</td>\n",
       "      <td>...</td>\n",
       "      <td>...</td>\n",
       "      <td>...</td>\n",
       "      <td>...</td>\n",
       "      <td>...</td>\n",
       "      <td>...</td>\n",
       "    </tr>\n",
       "    <tr>\n",
       "      <th>1762</th>\n",
       "      <td>17</td>\n",
       "      <td>2018123015</td>\n",
       "      <td>2742</td>\n",
       "      <td>2557887</td>\n",
       "      <td>Haason Reddick</td>\n",
       "      <td>ILB</td>\n",
       "      <td>0.999241</td>\n",
       "      <td>1</td>\n",
       "    </tr>\n",
       "    <tr>\n",
       "      <th>1763</th>\n",
       "      <td>17</td>\n",
       "      <td>2018123015</td>\n",
       "      <td>3089</td>\n",
       "      <td>2532966</td>\n",
       "      <td>Bobby Wagner</td>\n",
       "      <td>MLB</td>\n",
       "      <td>1.000000</td>\n",
       "      <td>1</td>\n",
       "    </tr>\n",
       "    <tr>\n",
       "      <th>1764</th>\n",
       "      <td>17</td>\n",
       "      <td>2018123015</td>\n",
       "      <td>3734</td>\n",
       "      <td>2543769</td>\n",
       "      <td>Deone Bucannon</td>\n",
       "      <td>ILB</td>\n",
       "      <td>1.000000</td>\n",
       "      <td>1</td>\n",
       "    </tr>\n",
       "    <tr>\n",
       "      <th>1766</th>\n",
       "      <td>17</td>\n",
       "      <td>2018123015</td>\n",
       "      <td>3932</td>\n",
       "      <td>2532966</td>\n",
       "      <td>Bobby Wagner</td>\n",
       "      <td>MLB</td>\n",
       "      <td>1.000000</td>\n",
       "      <td>1</td>\n",
       "    </tr>\n",
       "    <tr>\n",
       "      <th>1765</th>\n",
       "      <td>17</td>\n",
       "      <td>2018123015</td>\n",
       "      <td>3932</td>\n",
       "      <td>2495252</td>\n",
       "      <td>K.J. Wright</td>\n",
       "      <td>OLB</td>\n",
       "      <td>1.000000</td>\n",
       "      <td>1</td>\n",
       "    </tr>\n",
       "  </tbody>\n",
       "</table>\n",
       "<p>1767 rows × 8 columns</p>\n",
       "</div>"
      ],
      "text/plain": [
       "      week      gameId  playId    nflId         displayName position  \\\n",
       "1        1  2018090600     776  2555162         Deion Jones      MLB   \n",
       "0        1  2018090600     776  2552301         Vic Beasley      OLB   \n",
       "3        1  2018090600     839  2555162         Deion Jones      MLB   \n",
       "2        1  2018090600     839  2552301         Vic Beasley      OLB   \n",
       "4        1  2018090600     839  2555255  De'Vondre Campbell      OLB   \n",
       "...    ...         ...     ...      ...                 ...      ...   \n",
       "1762    17  2018123015    2742  2557887      Haason Reddick      ILB   \n",
       "1763    17  2018123015    3089  2532966        Bobby Wagner      MLB   \n",
       "1764    17  2018123015    3734  2543769      Deone Bucannon      ILB   \n",
       "1766    17  2018123015    3932  2532966        Bobby Wagner      MLB   \n",
       "1765    17  2018123015    3932  2495252         K.J. Wright      OLB   \n",
       "\n",
       "      zone_probability  zone_flag  \n",
       "1             1.000000          1  \n",
       "0             1.000000          1  \n",
       "3             1.000000          1  \n",
       "2             1.000000          1  \n",
       "4             0.999883          1  \n",
       "...                ...        ...  \n",
       "1762          0.999241          1  \n",
       "1763          1.000000          1  \n",
       "1764          1.000000          1  \n",
       "1766          1.000000          1  \n",
       "1765          1.000000          1  \n",
       "\n",
       "[1767 rows x 8 columns]"
      ]
     },
     "execution_count": 217,
     "metadata": {},
     "output_type": "execute_result"
    }
   ],
   "source": [
    "sacks_df_final"
   ]
  },
  {
   "cell_type": "code",
   "execution_count": 218,
   "metadata": {
    "collapsed": true
   },
   "outputs": [],
   "source": [
    "sacks_df_final.to_csv(\"~/Desktop/CoverageNet/src/01_identify_man_coverage/outputs/linebackers_sacks_man_zone_classes.csv\", \n",
    "                      index = False)"
   ]
  },
  {
   "cell_type": "code",
   "execution_count": 122,
   "metadata": {},
   "outputs": [
    {
     "data": {
      "text/html": [
       "<div>\n",
       "<style scoped>\n",
       "    .dataframe tbody tr th:only-of-type {\n",
       "        vertical-align: middle;\n",
       "    }\n",
       "\n",
       "    .dataframe tbody tr th {\n",
       "        vertical-align: top;\n",
       "    }\n",
       "\n",
       "    .dataframe thead th {\n",
       "        text-align: right;\n",
       "    }\n",
       "</style>\n",
       "<table border=\"1\" class=\"dataframe\">\n",
       "  <thead>\n",
       "    <tr style=\"text-align: right;\">\n",
       "      <th></th>\n",
       "      <th>week</th>\n",
       "      <th>gameId</th>\n",
       "      <th>playId</th>\n",
       "      <th>nflId</th>\n",
       "      <th>displayName</th>\n",
       "      <th>position</th>\n",
       "      <th>off_var_time_0</th>\n",
       "      <th>off_var_time_0_1</th>\n",
       "      <th>off_var_time_1</th>\n",
       "      <th>off_mean_time_0</th>\n",
       "      <th>...</th>\n",
       "      <th>off_dir_mean_time_1</th>\n",
       "      <th>cor_s_time_1</th>\n",
       "      <th>cb_off_dir_diff_qb_sack</th>\n",
       "      <th>cb_off_dist_qb_sack</th>\n",
       "      <th>best_cor_x_time_1</th>\n",
       "      <th>best_cor_y_time_1</th>\n",
       "      <th>best_cor_x_y_avg_time_1</th>\n",
       "      <th>cor_dist_inter</th>\n",
       "      <th>zone_probability</th>\n",
       "      <th>zone_flag</th>\n",
       "    </tr>\n",
       "  </thead>\n",
       "  <tbody>\n",
       "  </tbody>\n",
       "</table>\n",
       "<p>0 rows × 24 columns</p>\n",
       "</div>"
      ],
      "text/plain": [
       "Empty DataFrame\n",
       "Columns: [week, gameId, playId, nflId, displayName, position, off_var_time_0, off_var_time_0_1, off_var_time_1, off_mean_time_0, off_mean_time_0_1, off_mean_time_1, off_dir_var_time_1, off_dir_mean_time_0_1, off_dir_mean_time_1, cor_s_time_1, cb_off_dir_diff_qb_sack, cb_off_dist_qb_sack, best_cor_x_time_1, best_cor_y_time_1, best_cor_x_y_avg_time_1, cor_dist_inter, zone_probability, zone_flag]\n",
       "Index: []\n",
       "\n",
       "[0 rows x 24 columns]"
      ]
     },
     "execution_count": 122,
     "metadata": {},
     "output_type": "execute_result"
    }
   ],
   "source": [
    "sacks_df[(sacks_df[\"gameId\"] == 2018090901) & (sacks_df[\"playId\"] == 2885)]"
   ]
  },
  {
   "cell_type": "code",
   "execution_count": 123,
   "metadata": {},
   "outputs": [
    {
     "data": {
      "text/html": [
       "<div>\n",
       "<style scoped>\n",
       "    .dataframe tbody tr th:only-of-type {\n",
       "        vertical-align: middle;\n",
       "    }\n",
       "\n",
       "    .dataframe tbody tr th {\n",
       "        vertical-align: top;\n",
       "    }\n",
       "\n",
       "    .dataframe thead th {\n",
       "        text-align: right;\n",
       "    }\n",
       "</style>\n",
       "<table border=\"1\" class=\"dataframe\">\n",
       "  <thead>\n",
       "    <tr style=\"text-align: right;\">\n",
       "      <th></th>\n",
       "      <th>displayName</th>\n",
       "      <th>cor_s_time_1</th>\n",
       "    </tr>\n",
       "  </thead>\n",
       "  <tbody>\n",
       "  </tbody>\n",
       "</table>\n",
       "</div>"
      ],
      "text/plain": [
       "Empty DataFrame\n",
       "Columns: [displayName, cor_s_time_1]\n",
       "Index: []"
      ]
     },
     "execution_count": 123,
     "metadata": {},
     "output_type": "execute_result"
    }
   ],
   "source": [
    "sacks_df[(sacks_df[\"gameId\"] == 2018090901) & (sacks_df[\"playId\"] == 2885)][[\"displayName\"] + \\\n",
    "                            list(sacks_df.columns[['cor_s' in x for x in sacks_df.columns]])]"
   ]
  },
  {
   "cell_type": "code",
   "execution_count": null,
   "metadata": {
    "collapsed": true
   },
   "outputs": [],
   "source": []
  }
 ],
 "metadata": {
  "kernelspec": {
   "display_name": "Python 3",
   "language": "python",
   "name": "python3"
  },
  "language_info": {
   "codemirror_mode": {
    "name": "ipython",
    "version": 3
   },
   "file_extension": ".py",
   "mimetype": "text/x-python",
   "name": "python",
   "nbconvert_exporter": "python",
   "pygments_lexer": "ipython3",
   "version": "3.6.3"
  }
 },
 "nbformat": 4,
 "nbformat_minor": 2
}
