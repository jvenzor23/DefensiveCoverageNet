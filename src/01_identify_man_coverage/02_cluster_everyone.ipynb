{
 "cells": [
  {
   "cell_type": "code",
   "execution_count": 1,
   "metadata": {
    "collapsed": true
   },
   "outputs": [],
   "source": [
    "# importing important libraries\n",
    "import matplotlib as plt\n",
    "%matplotlib inline\n",
    "import numpy as np\n",
    "from sklearn import mixture\n",
    "import pandas as pd\n",
    "import seaborn as sns"
   ]
  },
  {
   "cell_type": "code",
   "execution_count": 2,
   "metadata": {},
   "outputs": [
    {
     "data": {
      "text/html": [
       "\n",
       "<style>\n",
       ".output_png {\n",
       "    display: table-cell;\n",
       "    text-align: center;\n",
       "    vertical-align: middle;\n",
       "}\n",
       "</style>\n"
      ],
      "text/plain": [
       "<IPython.core.display.HTML object>"
      ]
     },
     "execution_count": 2,
     "metadata": {},
     "output_type": "execute_result"
    }
   ],
   "source": [
    "from IPython.core.display import HTML\n",
    "HTML(\"\"\"\n",
    "<style>\n",
    ".output_png {\n",
    "    display: table-cell;\n",
    "    text-align: center;\n",
    "    vertical-align: middle;\n",
    "}\n",
    "</style>\n",
    "\"\"\")"
   ]
  },
  {
   "cell_type": "markdown",
   "metadata": {},
   "source": [
    "# Reading in the Data"
   ]
  },
  {
   "cell_type": "code",
   "execution_count": 3,
   "metadata": {},
   "outputs": [
    {
     "data": {
      "text/plain": [
       "(54585, 157)"
      ]
     },
     "execution_count": 3,
     "metadata": {},
     "output_type": "execute_result"
    }
   ],
   "source": [
    "pass_attempt_df_corners = \\\n",
    "    pd.read_csv(\"~/Desktop/CoverageNet/src/01_identify_man_coverage/outputs/corners_pass_attempts_man_zone_gmm_features.csv\")\n",
    "pass_attempt_df_corners.shape"
   ]
  },
  {
   "cell_type": "code",
   "execution_count": 4,
   "metadata": {},
   "outputs": [
    {
     "data": {
      "text/plain": [
       "(34350, 157)"
      ]
     },
     "execution_count": 4,
     "metadata": {},
     "output_type": "execute_result"
    }
   ],
   "source": [
    "pass_attempt_df_safeties = \\\n",
    "    pd.read_csv(\"~/Desktop/CoverageNet/src/01_identify_man_coverage/outputs/safeties_pass_attempts_man_zone_gmm_features.csv\")\n",
    "pass_attempt_df_safeties.shape"
   ]
  },
  {
   "cell_type": "code",
   "execution_count": 5,
   "metadata": {
    "collapsed": true
   },
   "outputs": [],
   "source": [
    "pass_attempt_df = pd.concat([pass_attempt_df_corners,\n",
    "                             pass_attempt_df_safeties])"
   ]
  },
  {
   "cell_type": "code",
   "execution_count": 128,
   "metadata": {},
   "outputs": [
    {
     "data": {
      "text/plain": [
       "(3962, 98)"
      ]
     },
     "execution_count": 128,
     "metadata": {},
     "output_type": "execute_result"
    }
   ],
   "source": [
    "sacks_df_corners = \\\n",
    "    pd.read_csv(\"~/Desktop/CoverageNet/src/01_identify_man_coverage/outputs/corners_sacks_man_zone_gmm_features.csv\")\n",
    "sacks_df_corners.shape"
   ]
  },
  {
   "cell_type": "code",
   "execution_count": 129,
   "metadata": {},
   "outputs": [
    {
     "data": {
      "text/plain": [
       "(2496, 98)"
      ]
     },
     "execution_count": 129,
     "metadata": {},
     "output_type": "execute_result"
    }
   ],
   "source": [
    "sacks_df_safeties = \\\n",
    "    pd.read_csv(\"~/Desktop/CoverageNet/src/01_identify_man_coverage/outputs/safeties_sacks_man_zone_gmm_features.csv\")\n",
    "sacks_df_safeties.shape"
   ]
  },
  {
   "cell_type": "code",
   "execution_count": 132,
   "metadata": {},
   "outputs": [
    {
     "data": {
      "text/plain": [
       "(6457, 98)"
      ]
     },
     "execution_count": 132,
     "metadata": {},
     "output_type": "execute_result"
    }
   ],
   "source": [
    "sacks_df = pd.concat([sacks_df_corners,\n",
    "                      sacks_df_safeties]).dropna()\n",
    "sacks_df.shape"
   ]
  },
  {
   "cell_type": "code",
   "execution_count": 134,
   "metadata": {},
   "outputs": [
    {
     "data": {
      "text/plain": [
       "array([ 1,  2,  3,  4,  5,  6,  7,  8,  9, 10, 11, 12, 13, 14, 15, 16, 17])"
      ]
     },
     "execution_count": 134,
     "metadata": {},
     "output_type": "execute_result"
    }
   ],
   "source": [
    "# printing the number of weeks of data available\n",
    "np.unique(pass_attempt_df['week'])"
   ]
  },
  {
   "cell_type": "markdown",
   "metadata": {},
   "source": [
    "# Clustering Pass Attempt Coverage"
   ]
  },
  {
   "cell_type": "code",
   "execution_count": 6,
   "metadata": {
    "collapsed": true
   },
   "outputs": [],
   "source": [
    "filter_col = [col for col in pass_attempt_df if not '_o_' in col]\n",
    "pass_attempt_df = pass_attempt_df[filter_col]"
   ]
  },
  {
   "cell_type": "code",
   "execution_count": 7,
   "metadata": {
    "collapsed": true
   },
   "outputs": [],
   "source": [
    "filter_col = [col for col in pass_attempt_df if not 'facing' in col]\n",
    "pass_attempt_df = pass_attempt_df[filter_col]"
   ]
  },
  {
   "cell_type": "code",
   "execution_count": 8,
   "metadata": {
    "collapsed": true
   },
   "outputs": [],
   "source": [
    "filter_col = [col for col in pass_attempt_df if not 'var_y' in col]\n",
    "pass_attempt_df = pass_attempt_df[filter_col]"
   ]
  },
  {
   "cell_type": "code",
   "execution_count": 9,
   "metadata": {
    "collapsed": true
   },
   "outputs": [],
   "source": [
    "filter_col = [col for col in pass_attempt_df if not 'var_x' in col]\n",
    "pass_attempt_df = pass_attempt_df[filter_col]"
   ]
  },
  {
   "cell_type": "code",
   "execution_count": 10,
   "metadata": {
    "collapsed": true
   },
   "outputs": [],
   "source": [
    "filter_col = [col for col in pass_attempt_df if not 'def_mean_time_0' in col]\n",
    "pass_attempt_df = pass_attempt_df[filter_col]"
   ]
  },
  {
   "cell_type": "code",
   "execution_count": 11,
   "metadata": {
    "collapsed": true
   },
   "outputs": [],
   "source": [
    "filter_col = [col for col in pass_attempt_df if not 'def' in col]\n",
    "pass_attempt_df = pass_attempt_df[filter_col]"
   ]
  },
  {
   "cell_type": "code",
   "execution_count": 12,
   "metadata": {
    "collapsed": true
   },
   "outputs": [],
   "source": [
    "filter_col = [col for col in pass_attempt_df if not 'def_var_time_0' in col]\n",
    "pass_attempt_df = pass_attempt_df[filter_col]"
   ]
  },
  {
   "cell_type": "code",
   "execution_count": 13,
   "metadata": {},
   "outputs": [
    {
     "data": {
      "text/plain": [
       "Index(['week', 'gameId', 'playId', 'nflId', 'displayName', 'position',\n",
       "       'speed_var_time_0', 'speed_var_time_0_1', 'speed_var_time_1',\n",
       "       'speed_var_time_1_2',\n",
       "       ...\n",
       "       'best_cor_y_time_0', 'best_cor_y_time_0_1', 'best_cor_y_time_1',\n",
       "       'best_cor_y_time_1_2', 'best_cor_y_time_2', 'best_cor_x_y_avg_time_0',\n",
       "       'best_cor_x_y_avg_time_0_1', 'best_cor_x_y_avg_time_1',\n",
       "       'best_cor_x_y_avg_time_1_2', 'best_cor_x_y_avg_time_2'],\n",
       "      dtype='object', length=105)"
      ]
     },
     "execution_count": 13,
     "metadata": {},
     "output_type": "execute_result"
    }
   ],
   "source": [
    "pass_attempt_df.columns"
   ]
  },
  {
   "cell_type": "code",
   "execution_count": 14,
   "metadata": {
    "collapsed": true
   },
   "outputs": [],
   "source": [
    "filter_col = [col for col in pass_attempt_df if not (('cor' in col) and ('best' not in col) and ('s' not in col))]\n",
    "pass_attempt_df = pass_attempt_df[filter_col]"
   ]
  },
  {
   "cell_type": "code",
   "execution_count": 15,
   "metadata": {
    "collapsed": true
   },
   "outputs": [],
   "source": [
    "filter_col = [col for col in pass_attempt_df if not (('cor_rot' in col))]\n",
    "pass_attempt_df = pass_attempt_df[filter_col]"
   ]
  },
  {
   "cell_type": "code",
   "execution_count": 16,
   "metadata": {
    "collapsed": true
   },
   "outputs": [],
   "source": [
    "filter_col = [col for col in pass_attempt_df if not (('cor' in col) and ('time_0' in col))]\n",
    "pass_attempt_df = pass_attempt_df[filter_col]"
   ]
  },
  {
   "cell_type": "code",
   "execution_count": 17,
   "metadata": {
    "collapsed": true
   },
   "outputs": [],
   "source": [
    "filter_col = [col for col in pass_attempt_df if not (('cor' in col) and ('time_2' in col))]\n",
    "pass_attempt_df = pass_attempt_df[filter_col]"
   ]
  },
  {
   "cell_type": "code",
   "execution_count": 18,
   "metadata": {
    "collapsed": true
   },
   "outputs": [],
   "source": [
    "# filter_col = [col for col in pass_attempt_df if not (('cor' in col) and ('x_y' not in col))]\n",
    "# pass_attempt_df = pass_attempt_df[filter_col]"
   ]
  },
  {
   "cell_type": "code",
   "execution_count": 19,
   "metadata": {
    "collapsed": true
   },
   "outputs": [],
   "source": [
    "filter_col = [col for col in pass_attempt_df if not 'off_dir_var_time_0' in col]\n",
    "pass_attempt_df = pass_attempt_df[filter_col]"
   ]
  },
  {
   "cell_type": "code",
   "execution_count": 20,
   "metadata": {
    "collapsed": true
   },
   "outputs": [],
   "source": [
    "filter_col = [col for col in pass_attempt_df if not 'speed' in col]\n",
    "pass_attempt_df = pass_attempt_df[filter_col]"
   ]
  },
  {
   "cell_type": "code",
   "execution_count": 21,
   "metadata": {
    "collapsed": true
   },
   "outputs": [],
   "source": [
    "pass_attempt_df = pass_attempt_df.drop(['cb_off_dir_diff_ball_snap', 'cb_off_dist_ball_snap',\n",
    "                                       'off_dir_mean_time_0', 'cb_off_dist_pass_forward',\n",
    "                                       'off_mean_between_ball_snap_and_pass_forward'], axis = 1)"
   ]
  },
  {
   "cell_type": "code",
   "execution_count": 22,
   "metadata": {
    "collapsed": true
   },
   "outputs": [],
   "source": [
    "filter_col = [col for col in pass_attempt_df if (not 'rat' in col)|('ratio_pass_forward' in col)]\n",
    "pass_attempt_df = pass_attempt_df[filter_col]"
   ]
  },
  {
   "cell_type": "code",
   "execution_count": 23,
   "metadata": {
    "collapsed": true
   },
   "outputs": [],
   "source": [
    "# filter_col = [col for col in pass_attempt_df if (not 'best' in col)]\n",
    "# pass_attempt_df = pass_attempt_df[filter_col]"
   ]
  },
  {
   "cell_type": "code",
   "execution_count": 24,
   "metadata": {},
   "outputs": [
    {
     "data": {
      "text/plain": [
       "Index(['week', 'gameId', 'playId', 'nflId', 'displayName', 'position',\n",
       "       'off_var_time_0', 'off_var_time_0_1', 'off_var_time_1',\n",
       "       'off_var_time_1_2', 'off_var_time_2', 'off_mean_time_0',\n",
       "       'off_mean_time_0_1', 'off_mean_time_1', 'off_mean_time_1_2',\n",
       "       'off_mean_time_2', 'off_dir_var_time_1', 'off_dir_var_time_1_2',\n",
       "       'off_dir_var_time_2', 'off_dir_mean_time_0_1', 'off_dir_mean_time_1',\n",
       "       'off_dir_mean_time_1_2', 'off_dir_mean_time_2', 'cor_s_time_1',\n",
       "       'cor_s_time_1_2', 'ratio_pass_forward', 'cb_off_dir_diff_pass_forward',\n",
       "       'off_dir_diff_between_ball_snap_and_pass_forward', 'best_cor_x_time_1',\n",
       "       'best_cor_x_time_1_2', 'best_cor_y_time_1', 'best_cor_y_time_1_2',\n",
       "       'best_cor_x_y_avg_time_1', 'best_cor_x_y_avg_time_1_2'],\n",
       "      dtype='object')"
      ]
     },
     "execution_count": 24,
     "metadata": {},
     "output_type": "execute_result"
    }
   ],
   "source": [
    "pass_attempt_df.columns"
   ]
  },
  {
   "cell_type": "code",
   "execution_count": 25,
   "metadata": {
    "collapsed": true
   },
   "outputs": [],
   "source": [
    "pass_attempt_df[\"cor_dist_inter\"] = (pass_attempt_df[\"best_cor_x_y_avg_time_1\"]**2)/pass_attempt_df[\"off_mean_time_1\"]\n",
    "pass_attempt_df[\"cor_dist_inter\"] = pass_attempt_df[\"cor_dist_inter\"].fillna(0)\n",
    "pass_attempt_df[\"cor_dist_inter\"] = pass_attempt_df[\"cor_dist_inter\"].replace([np.inf], \\\n",
    "                np.percentile(np.array(pass_attempt_df[\"cor_dist_inter\"]), 99))\n",
    "pass_attempt_df[\"cor_dist_inter\"] = pass_attempt_df[\"cor_dist_inter\"].replace([-np.inf], \\\n",
    "                np.percentile(np.array(pass_attempt_df[\"cor_dist_inter\"]), 1))"
   ]
  },
  {
   "cell_type": "code",
   "execution_count": 26,
   "metadata": {},
   "outputs": [
    {
     "data": {
      "text/html": [
       "<div>\n",
       "<style scoped>\n",
       "    .dataframe tbody tr th:only-of-type {\n",
       "        vertical-align: middle;\n",
       "    }\n",
       "\n",
       "    .dataframe tbody tr th {\n",
       "        vertical-align: top;\n",
       "    }\n",
       "\n",
       "    .dataframe thead th {\n",
       "        text-align: right;\n",
       "    }\n",
       "</style>\n",
       "<table border=\"1\" class=\"dataframe\">\n",
       "  <thead>\n",
       "    <tr style=\"text-align: right;\">\n",
       "      <th></th>\n",
       "      <th>week</th>\n",
       "      <th>gameId</th>\n",
       "      <th>playId</th>\n",
       "      <th>nflId</th>\n",
       "      <th>displayName</th>\n",
       "      <th>position</th>\n",
       "      <th>off_var_time_0</th>\n",
       "      <th>off_var_time_0_1</th>\n",
       "      <th>off_var_time_1</th>\n",
       "      <th>off_var_time_1_2</th>\n",
       "      <th>...</th>\n",
       "      <th>ratio_pass_forward</th>\n",
       "      <th>cb_off_dir_diff_pass_forward</th>\n",
       "      <th>off_dir_diff_between_ball_snap_and_pass_forward</th>\n",
       "      <th>best_cor_x_time_1</th>\n",
       "      <th>best_cor_x_time_1_2</th>\n",
       "      <th>best_cor_y_time_1</th>\n",
       "      <th>best_cor_y_time_1_2</th>\n",
       "      <th>best_cor_x_y_avg_time_1</th>\n",
       "      <th>best_cor_x_y_avg_time_1_2</th>\n",
       "      <th>cor_dist_inter</th>\n",
       "    </tr>\n",
       "  </thead>\n",
       "  <tbody>\n",
       "    <tr>\n",
       "      <th>0</th>\n",
       "      <td>1</td>\n",
       "      <td>2018090600</td>\n",
       "      <td>75</td>\n",
       "      <td>2552689</td>\n",
       "      <td>Ronald Darby</td>\n",
       "      <td>CB</td>\n",
       "      <td>0.000307</td>\n",
       "      <td>2.126595</td>\n",
       "      <td>2.334991</td>\n",
       "      <td>6.760635</td>\n",
       "      <td>...</td>\n",
       "      <td>1.003735</td>\n",
       "      <td>0.69</td>\n",
       "      <td>10.00</td>\n",
       "      <td>0.991059</td>\n",
       "      <td>0.996693</td>\n",
       "      <td>0.996152</td>\n",
       "      <td>0.992656</td>\n",
       "      <td>0.993605</td>\n",
       "      <td>0.994675</td>\n",
       "      <td>0.136746</td>\n",
       "    </tr>\n",
       "    <tr>\n",
       "      <th>1</th>\n",
       "      <td>1</td>\n",
       "      <td>2018090600</td>\n",
       "      <td>75</td>\n",
       "      <td>2555383</td>\n",
       "      <td>Jalen Mills</td>\n",
       "      <td>CB</td>\n",
       "      <td>0.001680</td>\n",
       "      <td>2.051115</td>\n",
       "      <td>2.075317</td>\n",
       "      <td>1.658779</td>\n",
       "      <td>...</td>\n",
       "      <td>0.535486</td>\n",
       "      <td>20.40</td>\n",
       "      <td>11.75</td>\n",
       "      <td>0.991839</td>\n",
       "      <td>0.969084</td>\n",
       "      <td>0.893204</td>\n",
       "      <td>0.945554</td>\n",
       "      <td>0.942522</td>\n",
       "      <td>0.957319</td>\n",
       "      <td>0.154773</td>\n",
       "    </tr>\n",
       "    <tr>\n",
       "      <th>2</th>\n",
       "      <td>1</td>\n",
       "      <td>2018090600</td>\n",
       "      <td>146</td>\n",
       "      <td>2552689</td>\n",
       "      <td>Ronald Darby</td>\n",
       "      <td>CB</td>\n",
       "      <td>0.000479</td>\n",
       "      <td>1.310370</td>\n",
       "      <td>1.533356</td>\n",
       "      <td>2.695306</td>\n",
       "      <td>...</td>\n",
       "      <td>0.285235</td>\n",
       "      <td>14.63</td>\n",
       "      <td>8.41</td>\n",
       "      <td>0.998055</td>\n",
       "      <td>0.998745</td>\n",
       "      <td>0.995289</td>\n",
       "      <td>0.996726</td>\n",
       "      <td>0.996672</td>\n",
       "      <td>0.997735</td>\n",
       "      <td>0.140171</td>\n",
       "    </tr>\n",
       "    <tr>\n",
       "      <th>3</th>\n",
       "      <td>1</td>\n",
       "      <td>2018090600</td>\n",
       "      <td>146</td>\n",
       "      <td>2555383</td>\n",
       "      <td>Jalen Mills</td>\n",
       "      <td>CB</td>\n",
       "      <td>0.000957</td>\n",
       "      <td>0.967793</td>\n",
       "      <td>1.170710</td>\n",
       "      <td>3.954483</td>\n",
       "      <td>...</td>\n",
       "      <td>1.104717</td>\n",
       "      <td>129.71</td>\n",
       "      <td>9.22</td>\n",
       "      <td>0.990084</td>\n",
       "      <td>0.508795</td>\n",
       "      <td>0.853983</td>\n",
       "      <td>0.943507</td>\n",
       "      <td>0.922033</td>\n",
       "      <td>0.726151</td>\n",
       "      <td>0.110491</td>\n",
       "    </tr>\n",
       "    <tr>\n",
       "      <th>4</th>\n",
       "      <td>1</td>\n",
       "      <td>2018090600</td>\n",
       "      <td>146</td>\n",
       "      <td>2557958</td>\n",
       "      <td>Sidney Jones</td>\n",
       "      <td>CB</td>\n",
       "      <td>0.123231</td>\n",
       "      <td>1.930732</td>\n",
       "      <td>1.270966</td>\n",
       "      <td>1.080767</td>\n",
       "      <td>...</td>\n",
       "      <td>0.897810</td>\n",
       "      <td>9.97</td>\n",
       "      <td>64.66</td>\n",
       "      <td>0.360666</td>\n",
       "      <td>0.800361</td>\n",
       "      <td>0.975222</td>\n",
       "      <td>0.984590</td>\n",
       "      <td>0.667944</td>\n",
       "      <td>0.892476</td>\n",
       "      <td>0.177724</td>\n",
       "    </tr>\n",
       "    <tr>\n",
       "      <th>5</th>\n",
       "      <td>1</td>\n",
       "      <td>2018090600</td>\n",
       "      <td>168</td>\n",
       "      <td>2552689</td>\n",
       "      <td>Ronald Darby</td>\n",
       "      <td>CB</td>\n",
       "      <td>0.000187</td>\n",
       "      <td>1.283342</td>\n",
       "      <td>1.408920</td>\n",
       "      <td>1.355697</td>\n",
       "      <td>...</td>\n",
       "      <td>1.804993</td>\n",
       "      <td>32.74</td>\n",
       "      <td>6.78</td>\n",
       "      <td>0.999594</td>\n",
       "      <td>0.999047</td>\n",
       "      <td>0.524308</td>\n",
       "      <td>0.946714</td>\n",
       "      <td>0.761951</td>\n",
       "      <td>0.972880</td>\n",
       "      <td>0.072567</td>\n",
       "    </tr>\n",
       "    <tr>\n",
       "      <th>6</th>\n",
       "      <td>1</td>\n",
       "      <td>2018090600</td>\n",
       "      <td>168</td>\n",
       "      <td>2555383</td>\n",
       "      <td>Jalen Mills</td>\n",
       "      <td>CB</td>\n",
       "      <td>0.127870</td>\n",
       "      <td>1.272338</td>\n",
       "      <td>0.430823</td>\n",
       "      <td>1.508115</td>\n",
       "      <td>...</td>\n",
       "      <td>0.533327</td>\n",
       "      <td>25.69</td>\n",
       "      <td>5.44</td>\n",
       "      <td>0.936665</td>\n",
       "      <td>0.956103</td>\n",
       "      <td>0.931165</td>\n",
       "      <td>0.995562</td>\n",
       "      <td>0.933915</td>\n",
       "      <td>0.975832</td>\n",
       "      <td>0.144012</td>\n",
       "    </tr>\n",
       "    <tr>\n",
       "      <th>7</th>\n",
       "      <td>1</td>\n",
       "      <td>2018090600</td>\n",
       "      <td>168</td>\n",
       "      <td>2557958</td>\n",
       "      <td>Sidney Jones</td>\n",
       "      <td>CB</td>\n",
       "      <td>0.865792</td>\n",
       "      <td>1.053149</td>\n",
       "      <td>1.171440</td>\n",
       "      <td>1.094309</td>\n",
       "      <td>...</td>\n",
       "      <td>0.554019</td>\n",
       "      <td>154.82</td>\n",
       "      <td>94.51</td>\n",
       "      <td>0.992267</td>\n",
       "      <td>0.505462</td>\n",
       "      <td>0.964629</td>\n",
       "      <td>0.963594</td>\n",
       "      <td>0.978448</td>\n",
       "      <td>0.734528</td>\n",
       "      <td>0.277880</td>\n",
       "    </tr>\n",
       "    <tr>\n",
       "      <th>8</th>\n",
       "      <td>1</td>\n",
       "      <td>2018090600</td>\n",
       "      <td>190</td>\n",
       "      <td>2552689</td>\n",
       "      <td>Ronald Darby</td>\n",
       "      <td>CB</td>\n",
       "      <td>0.000018</td>\n",
       "      <td>1.984624</td>\n",
       "      <td>1.805685</td>\n",
       "      <td>1.756160</td>\n",
       "      <td>...</td>\n",
       "      <td>0.489154</td>\n",
       "      <td>36.33</td>\n",
       "      <td>2.56</td>\n",
       "      <td>0.996114</td>\n",
       "      <td>0.793176</td>\n",
       "      <td>0.998201</td>\n",
       "      <td>0.947689</td>\n",
       "      <td>0.997157</td>\n",
       "      <td>0.870432</td>\n",
       "      <td>0.139959</td>\n",
       "    </tr>\n",
       "    <tr>\n",
       "      <th>9</th>\n",
       "      <td>1</td>\n",
       "      <td>2018090600</td>\n",
       "      <td>190</td>\n",
       "      <td>2555383</td>\n",
       "      <td>Jalen Mills</td>\n",
       "      <td>CB</td>\n",
       "      <td>0.079316</td>\n",
       "      <td>15.335604</td>\n",
       "      <td>17.552694</td>\n",
       "      <td>21.155270</td>\n",
       "      <td>...</td>\n",
       "      <td>4.408636</td>\n",
       "      <td>15.83</td>\n",
       "      <td>146.68</td>\n",
       "      <td>0.856998</td>\n",
       "      <td>0.631509</td>\n",
       "      <td>0.676553</td>\n",
       "      <td>0.518507</td>\n",
       "      <td>0.766775</td>\n",
       "      <td>0.575008</td>\n",
       "      <td>0.052792</td>\n",
       "    </tr>\n",
       "  </tbody>\n",
       "</table>\n",
       "<p>10 rows × 35 columns</p>\n",
       "</div>"
      ],
      "text/plain": [
       "   week      gameId  playId    nflId   displayName position  off_var_time_0  \\\n",
       "0     1  2018090600      75  2552689  Ronald Darby       CB        0.000307   \n",
       "1     1  2018090600      75  2555383   Jalen Mills       CB        0.001680   \n",
       "2     1  2018090600     146  2552689  Ronald Darby       CB        0.000479   \n",
       "3     1  2018090600     146  2555383   Jalen Mills       CB        0.000957   \n",
       "4     1  2018090600     146  2557958  Sidney Jones       CB        0.123231   \n",
       "5     1  2018090600     168  2552689  Ronald Darby       CB        0.000187   \n",
       "6     1  2018090600     168  2555383   Jalen Mills       CB        0.127870   \n",
       "7     1  2018090600     168  2557958  Sidney Jones       CB        0.865792   \n",
       "8     1  2018090600     190  2552689  Ronald Darby       CB        0.000018   \n",
       "9     1  2018090600     190  2555383   Jalen Mills       CB        0.079316   \n",
       "\n",
       "   off_var_time_0_1  off_var_time_1  off_var_time_1_2  ...  \\\n",
       "0          2.126595        2.334991          6.760635  ...   \n",
       "1          2.051115        2.075317          1.658779  ...   \n",
       "2          1.310370        1.533356          2.695306  ...   \n",
       "3          0.967793        1.170710          3.954483  ...   \n",
       "4          1.930732        1.270966          1.080767  ...   \n",
       "5          1.283342        1.408920          1.355697  ...   \n",
       "6          1.272338        0.430823          1.508115  ...   \n",
       "7          1.053149        1.171440          1.094309  ...   \n",
       "8          1.984624        1.805685          1.756160  ...   \n",
       "9         15.335604       17.552694         21.155270  ...   \n",
       "\n",
       "   ratio_pass_forward  cb_off_dir_diff_pass_forward  \\\n",
       "0            1.003735                          0.69   \n",
       "1            0.535486                         20.40   \n",
       "2            0.285235                         14.63   \n",
       "3            1.104717                        129.71   \n",
       "4            0.897810                          9.97   \n",
       "5            1.804993                         32.74   \n",
       "6            0.533327                         25.69   \n",
       "7            0.554019                        154.82   \n",
       "8            0.489154                         36.33   \n",
       "9            4.408636                         15.83   \n",
       "\n",
       "   off_dir_diff_between_ball_snap_and_pass_forward  best_cor_x_time_1  \\\n",
       "0                                            10.00           0.991059   \n",
       "1                                            11.75           0.991839   \n",
       "2                                             8.41           0.998055   \n",
       "3                                             9.22           0.990084   \n",
       "4                                            64.66           0.360666   \n",
       "5                                             6.78           0.999594   \n",
       "6                                             5.44           0.936665   \n",
       "7                                            94.51           0.992267   \n",
       "8                                             2.56           0.996114   \n",
       "9                                           146.68           0.856998   \n",
       "\n",
       "   best_cor_x_time_1_2  best_cor_y_time_1  best_cor_y_time_1_2  \\\n",
       "0             0.996693           0.996152             0.992656   \n",
       "1             0.969084           0.893204             0.945554   \n",
       "2             0.998745           0.995289             0.996726   \n",
       "3             0.508795           0.853983             0.943507   \n",
       "4             0.800361           0.975222             0.984590   \n",
       "5             0.999047           0.524308             0.946714   \n",
       "6             0.956103           0.931165             0.995562   \n",
       "7             0.505462           0.964629             0.963594   \n",
       "8             0.793176           0.998201             0.947689   \n",
       "9             0.631509           0.676553             0.518507   \n",
       "\n",
       "   best_cor_x_y_avg_time_1  best_cor_x_y_avg_time_1_2  cor_dist_inter  \n",
       "0                 0.993605                   0.994675        0.136746  \n",
       "1                 0.942522                   0.957319        0.154773  \n",
       "2                 0.996672                   0.997735        0.140171  \n",
       "3                 0.922033                   0.726151        0.110491  \n",
       "4                 0.667944                   0.892476        0.177724  \n",
       "5                 0.761951                   0.972880        0.072567  \n",
       "6                 0.933915                   0.975832        0.144012  \n",
       "7                 0.978448                   0.734528        0.277880  \n",
       "8                 0.997157                   0.870432        0.139959  \n",
       "9                 0.766775                   0.575008        0.052792  \n",
       "\n",
       "[10 rows x 35 columns]"
      ]
     },
     "execution_count": 26,
     "metadata": {},
     "output_type": "execute_result"
    }
   ],
   "source": [
    "pass_attempt_df.head(10)"
   ]
  },
  {
   "cell_type": "code",
   "execution_count": 27,
   "metadata": {},
   "outputs": [
    {
     "data": {
      "text/plain": [
       "Index(['week', 'gameId', 'playId', 'nflId', 'displayName', 'position',\n",
       "       'off_var_time_0', 'off_var_time_0_1', 'off_var_time_1',\n",
       "       'off_var_time_1_2', 'off_var_time_2', 'off_mean_time_0',\n",
       "       'off_mean_time_0_1', 'off_mean_time_1', 'off_mean_time_1_2',\n",
       "       'off_mean_time_2', 'off_dir_var_time_1', 'off_dir_var_time_1_2',\n",
       "       'off_dir_var_time_2', 'off_dir_mean_time_0_1', 'off_dir_mean_time_1',\n",
       "       'off_dir_mean_time_1_2', 'off_dir_mean_time_2', 'cor_s_time_1',\n",
       "       'cor_s_time_1_2', 'ratio_pass_forward', 'cb_off_dir_diff_pass_forward',\n",
       "       'off_dir_diff_between_ball_snap_and_pass_forward', 'best_cor_x_time_1',\n",
       "       'best_cor_x_time_1_2', 'best_cor_y_time_1', 'best_cor_y_time_1_2',\n",
       "       'best_cor_x_y_avg_time_1', 'best_cor_x_y_avg_time_1_2',\n",
       "       'cor_dist_inter'],\n",
       "      dtype='object')"
      ]
     },
     "execution_count": 27,
     "metadata": {},
     "output_type": "execute_result"
    }
   ],
   "source": [
    "pass_attempt_df.columns"
   ]
  },
  {
   "cell_type": "markdown",
   "metadata": {},
   "source": [
    "### Preparing Train/Test Groups"
   ]
  },
  {
   "cell_type": "code",
   "execution_count": 28,
   "metadata": {
    "collapsed": true
   },
   "outputs": [],
   "source": [
    "weeks_exclude = [1, 2, 3]\n",
    "train = pass_attempt_df[[x not in weeks_exclude for x in list(pass_attempt_df[\"week\"])]]\n",
    "test = pass_attempt_df[[x in weeks_exclude for x in list(pass_attempt_df[\"week\"])]]"
   ]
  },
  {
   "cell_type": "code",
   "execution_count": 29,
   "metadata": {
    "collapsed": true
   },
   "outputs": [],
   "source": [
    "X_train = train.drop(['week', 'gameId','playId','nflId','displayName','position'], axis = 1).sample(40000)\n",
    "X_test = test.drop(['week', 'gameId','playId','nflId','displayName','position'], axis = 1)"
   ]
  },
  {
   "cell_type": "code",
   "execution_count": 30,
   "metadata": {},
   "outputs": [
    {
     "name": "stdout",
     "output_type": "stream",
     "text": [
      "(40000, 29)\n",
      "(16234, 29)\n"
     ]
    }
   ],
   "source": [
    "print(X_train.shape)\n",
    "print(X_test.shape)"
   ]
  },
  {
   "cell_type": "markdown",
   "metadata": {},
   "source": [
    "### Fitting GMM Model"
   ]
  },
  {
   "cell_type": "code",
   "execution_count": 31,
   "metadata": {
    "collapsed": true
   },
   "outputs": [],
   "source": [
    "# train\n",
    "clf_train = mixture.GaussianMixture(n_components=2, covariance_type='full')\n",
    "f_train = clf_train.fit(X_train)"
   ]
  },
  {
   "cell_type": "code",
   "execution_count": 32,
   "metadata": {
    "collapsed": true
   },
   "outputs": [],
   "source": [
    "# test\n",
    "clf_test = mixture.GaussianMixture(n_components=2, covariance_type='full')\n",
    "f_test = clf_test.fit(X_test)"
   ]
  },
  {
   "cell_type": "markdown",
   "metadata": {},
   "source": [
    "### Examining Cluster Results"
   ]
  },
  {
   "cell_type": "code",
   "execution_count": 33,
   "metadata": {
    "collapsed": true
   },
   "outputs": [],
   "source": [
    "def get_cluster_means(X, f):\n",
    "    cluster_means = {}\n",
    "    for iCnt in range(len(X.columns)):\n",
    "        cluster_means.update({X.columns[iCnt]:(f.means_[0][iCnt],f.means_[1][iCnt])})\n",
    "    return cluster_means"
   ]
  },
  {
   "cell_type": "code",
   "execution_count": 34,
   "metadata": {},
   "outputs": [
    {
     "data": {
      "text/plain": [
       "{'best_cor_x_time_1': (0.8491650554948651, 0.9864284874099171),\n",
       " 'best_cor_x_time_1_2': (0.8136817294887451, 0.984887378109784),\n",
       " 'best_cor_x_y_avg_time_1': (0.8209417193119914, 0.9601090661689409),\n",
       " 'best_cor_x_y_avg_time_1_2': (0.8082051835967573, 0.9630740260577937),\n",
       " 'best_cor_y_time_1': (0.7927183831291178, 0.9337896449279637),\n",
       " 'best_cor_y_time_1_2': (0.8027286377047702, 0.9412606740058033),\n",
       " 'cb_off_dir_diff_pass_forward': (49.401843977979496, 14.474669523377797),\n",
       " 'cor_dist_inter': (0.1316307835279829, 0.2827745220148298),\n",
       " 'cor_s_time_1': (0.6974567773329492, 0.9144166717788328),\n",
       " 'cor_s_time_1_2': (0.596900373817797, 0.8612624842197774),\n",
       " 'off_dir_diff_between_ball_snap_and_pass_forward': (50.478999706474426,\n",
       "  16.699458937228023),\n",
       " 'off_dir_mean_time_0_1': (63.69971002182041, 42.693999712362064),\n",
       " 'off_dir_mean_time_1': (55.92057720748413, 26.41056342646723),\n",
       " 'off_dir_mean_time_1_2': (55.483608563368456, 23.90816047643634),\n",
       " 'off_dir_mean_time_2': (55.199994618796374, 17.239233174628588),\n",
       " 'off_dir_var_time_1': (1331.7138906055657, 838.9379506409464),\n",
       " 'off_dir_var_time_1_2': (1610.6357567987484, 717.8372798891643),\n",
       " 'off_dir_var_time_2': (709.615935160601, 88.97211093625128),\n",
       " 'off_mean_time_0': (10.115103890477165, 7.054373954916185),\n",
       " 'off_mean_time_0_1': (9.025613354191785, 6.098447682296357),\n",
       " 'off_mean_time_1': (8.66114840054163, 5.7571831073647735),\n",
       " 'off_mean_time_1_2': (8.129477874151252, 5.3167296719641515),\n",
       " 'off_mean_time_2': (6.849770508014346, 4.078356881460095),\n",
       " 'off_var_time_0': (0.0856624064968928, 0.025729960800502976),\n",
       " 'off_var_time_0_1': (4.420445967400925, 2.041751846845649),\n",
       " 'off_var_time_1': (4.219696167680306, 1.9854422858343777),\n",
       " 'off_var_time_1_2': (6.941036882721635, 2.811855135193123),\n",
       " 'off_var_time_2': (1.3164699803599886, 0.2540023903414595),\n",
       " 'ratio_pass_forward': (3.500002865441116, 1.3255895138114822)}"
      ]
     },
     "execution_count": 34,
     "metadata": {},
     "output_type": "execute_result"
    }
   ],
   "source": [
    "get_cluster_means(X_train, f_train)"
   ]
  },
  {
   "cell_type": "markdown",
   "metadata": {
    "collapsed": true
   },
   "source": [
    "### Computing Rand Index"
   ]
  },
  {
   "cell_type": "code",
   "execution_count": 35,
   "metadata": {
    "collapsed": true
   },
   "outputs": [],
   "source": [
    "from sklearn.metrics import adjusted_rand_score"
   ]
  },
  {
   "cell_type": "code",
   "execution_count": 36,
   "metadata": {
    "collapsed": true
   },
   "outputs": [],
   "source": [
    "y_train = f_train.predict(X_test)\n",
    "y_test = f_test.predict(X_test)"
   ]
  },
  {
   "cell_type": "code",
   "execution_count": 37,
   "metadata": {},
   "outputs": [
    {
     "data": {
      "text/plain": [
       "0.9527672980954226"
      ]
     },
     "execution_count": 37,
     "metadata": {},
     "output_type": "execute_result"
    }
   ],
   "source": [
    "adjusted_rand_score(y_train, y_test)"
   ]
  },
  {
   "cell_type": "markdown",
   "metadata": {},
   "source": [
    "### Iterating Through To Get Cross-Validation Scores"
   ]
  },
  {
   "cell_type": "code",
   "execution_count": 43,
   "metadata": {
    "collapsed": true
   },
   "outputs": [],
   "source": [
    "weeks_exclude_vect = [[1,2,3],[4,5,6],[7,8,9],[10,11,12],[13,14,15],[15,16,17]]\n",
    "G_vect = [2, 3, 4, 5, 6, 7, 8, 9]\n",
    "rand_index_G_vect = []"
   ]
  },
  {
   "cell_type": "code",
   "execution_count": 44,
   "metadata": {
    "scrolled": true
   },
   "outputs": [
    {
     "name": "stdout",
     "output_type": "stream",
     "text": [
      "0.9313828214774342\n"
     ]
    },
    {
     "ename": "KeyboardInterrupt",
     "evalue": "",
     "output_type": "error",
     "traceback": [
      "\u001b[0;31m---------------------------------------------------------------------------\u001b[0m",
      "\u001b[0;31mKeyboardInterrupt\u001b[0m                         Traceback (most recent call last)",
      "\u001b[0;32m<ipython-input-44-924749aa4204>\u001b[0m in \u001b[0;36m<module>\u001b[0;34m()\u001b[0m\n\u001b[1;32m     13\u001b[0m         clf_train = mixture.GaussianMixture(n_components=G, covariance_type='full', \n\u001b[1;32m     14\u001b[0m                                             n_init = 2, max_iter = 200)\n\u001b[0;32m---> 15\u001b[0;31m         \u001b[0mf_train\u001b[0m \u001b[0;34m=\u001b[0m \u001b[0mclf_train\u001b[0m\u001b[0;34m.\u001b[0m\u001b[0mfit\u001b[0m\u001b[0;34m(\u001b[0m\u001b[0mX_train\u001b[0m\u001b[0;34m)\u001b[0m\u001b[0;34m\u001b[0m\u001b[0m\n\u001b[0m\u001b[1;32m     16\u001b[0m \u001b[0;34m\u001b[0m\u001b[0m\n\u001b[1;32m     17\u001b[0m         \u001b[0;31m# test\u001b[0m\u001b[0;34m\u001b[0m\u001b[0;34m\u001b[0m\u001b[0m\n",
      "\u001b[0;32m/anaconda3/lib/python3.6/site-packages/sklearn/mixture/base.py\u001b[0m in \u001b[0;36mfit\u001b[0;34m(self, X, y)\u001b[0m\n\u001b[1;32m    212\u001b[0m \u001b[0;34m\u001b[0m\u001b[0m\n\u001b[1;32m    213\u001b[0m                 \u001b[0mlog_prob_norm\u001b[0m\u001b[0;34m,\u001b[0m \u001b[0mlog_resp\u001b[0m \u001b[0;34m=\u001b[0m \u001b[0mself\u001b[0m\u001b[0;34m.\u001b[0m\u001b[0m_e_step\u001b[0m\u001b[0;34m(\u001b[0m\u001b[0mX\u001b[0m\u001b[0;34m)\u001b[0m\u001b[0;34m\u001b[0m\u001b[0m\n\u001b[0;32m--> 214\u001b[0;31m                 \u001b[0mself\u001b[0m\u001b[0;34m.\u001b[0m\u001b[0m_m_step\u001b[0m\u001b[0;34m(\u001b[0m\u001b[0mX\u001b[0m\u001b[0;34m,\u001b[0m \u001b[0mlog_resp\u001b[0m\u001b[0;34m)\u001b[0m\u001b[0;34m\u001b[0m\u001b[0m\n\u001b[0m\u001b[1;32m    215\u001b[0m                 self.lower_bound_ = self._compute_lower_bound(\n\u001b[1;32m    216\u001b[0m                     log_resp, log_prob_norm)\n",
      "\u001b[0;32m/anaconda3/lib/python3.6/site-packages/sklearn/mixture/gaussian_mixture.py\u001b[0m in \u001b[0;36m_m_step\u001b[0;34m(self, X, log_resp)\u001b[0m\n\u001b[1;32m    666\u001b[0m         self.weights_, self.means_, self.covariances_ = (\n\u001b[1;32m    667\u001b[0m             _estimate_gaussian_parameters(X, np.exp(log_resp), self.reg_covar,\n\u001b[0;32m--> 668\u001b[0;31m                                           self.covariance_type))\n\u001b[0m\u001b[1;32m    669\u001b[0m         \u001b[0mself\u001b[0m\u001b[0;34m.\u001b[0m\u001b[0mweights_\u001b[0m \u001b[0;34m/=\u001b[0m \u001b[0mn_samples\u001b[0m\u001b[0;34m\u001b[0m\u001b[0m\n\u001b[1;32m    670\u001b[0m         self.precisions_cholesky_ = _compute_precision_cholesky(\n",
      "\u001b[0;32m/anaconda3/lib/python3.6/site-packages/sklearn/mixture/gaussian_mixture.py\u001b[0m in \u001b[0;36m_estimate_gaussian_parameters\u001b[0;34m(X, resp, reg_covar, covariance_type)\u001b[0m\n\u001b[1;32m    283\u001b[0m                    \u001b[0;34m\"diag\"\u001b[0m\u001b[0;34m:\u001b[0m \u001b[0m_estimate_gaussian_covariances_diag\u001b[0m\u001b[0;34m,\u001b[0m\u001b[0;34m\u001b[0m\u001b[0m\n\u001b[1;32m    284\u001b[0m                    \u001b[0;34m\"spherical\"\u001b[0m\u001b[0;34m:\u001b[0m \u001b[0m_estimate_gaussian_covariances_spherical\u001b[0m\u001b[0;34m\u001b[0m\u001b[0m\n\u001b[0;32m--> 285\u001b[0;31m                    }[covariance_type](resp, X, nk, means, reg_covar)\n\u001b[0m\u001b[1;32m    286\u001b[0m     \u001b[0;32mreturn\u001b[0m \u001b[0mnk\u001b[0m\u001b[0;34m,\u001b[0m \u001b[0mmeans\u001b[0m\u001b[0;34m,\u001b[0m \u001b[0mcovariances\u001b[0m\u001b[0;34m\u001b[0m\u001b[0m\n\u001b[1;32m    287\u001b[0m \u001b[0;34m\u001b[0m\u001b[0m\n",
      "\u001b[0;32m/anaconda3/lib/python3.6/site-packages/sklearn/mixture/gaussian_mixture.py\u001b[0m in \u001b[0;36m_estimate_gaussian_covariances_full\u001b[0;34m(resp, X, nk, means, reg_covar)\u001b[0m\n\u001b[1;32m    165\u001b[0m     \u001b[0;32mfor\u001b[0m \u001b[0mk\u001b[0m \u001b[0;32min\u001b[0m \u001b[0mrange\u001b[0m\u001b[0;34m(\u001b[0m\u001b[0mn_components\u001b[0m\u001b[0;34m)\u001b[0m\u001b[0;34m:\u001b[0m\u001b[0;34m\u001b[0m\u001b[0m\n\u001b[1;32m    166\u001b[0m         \u001b[0mdiff\u001b[0m \u001b[0;34m=\u001b[0m \u001b[0mX\u001b[0m \u001b[0;34m-\u001b[0m \u001b[0mmeans\u001b[0m\u001b[0;34m[\u001b[0m\u001b[0mk\u001b[0m\u001b[0;34m]\u001b[0m\u001b[0;34m\u001b[0m\u001b[0m\n\u001b[0;32m--> 167\u001b[0;31m         \u001b[0mcovariances\u001b[0m\u001b[0;34m[\u001b[0m\u001b[0mk\u001b[0m\u001b[0;34m]\u001b[0m \u001b[0;34m=\u001b[0m \u001b[0mnp\u001b[0m\u001b[0;34m.\u001b[0m\u001b[0mdot\u001b[0m\u001b[0;34m(\u001b[0m\u001b[0mresp\u001b[0m\u001b[0;34m[\u001b[0m\u001b[0;34m:\u001b[0m\u001b[0;34m,\u001b[0m \u001b[0mk\u001b[0m\u001b[0;34m]\u001b[0m \u001b[0;34m*\u001b[0m \u001b[0mdiff\u001b[0m\u001b[0;34m.\u001b[0m\u001b[0mT\u001b[0m\u001b[0;34m,\u001b[0m \u001b[0mdiff\u001b[0m\u001b[0;34m)\u001b[0m \u001b[0;34m/\u001b[0m \u001b[0mnk\u001b[0m\u001b[0;34m[\u001b[0m\u001b[0mk\u001b[0m\u001b[0;34m]\u001b[0m\u001b[0;34m\u001b[0m\u001b[0m\n\u001b[0m\u001b[1;32m    168\u001b[0m         \u001b[0mcovariances\u001b[0m\u001b[0;34m[\u001b[0m\u001b[0mk\u001b[0m\u001b[0;34m]\u001b[0m\u001b[0;34m.\u001b[0m\u001b[0mflat\u001b[0m\u001b[0;34m[\u001b[0m\u001b[0;34m:\u001b[0m\u001b[0;34m:\u001b[0m\u001b[0mn_features\u001b[0m \u001b[0;34m+\u001b[0m \u001b[0;36m1\u001b[0m\u001b[0;34m]\u001b[0m \u001b[0;34m+=\u001b[0m \u001b[0mreg_covar\u001b[0m\u001b[0;34m\u001b[0m\u001b[0m\n\u001b[1;32m    169\u001b[0m     \u001b[0;32mreturn\u001b[0m \u001b[0mcovariances\u001b[0m\u001b[0;34m\u001b[0m\u001b[0m\n",
      "\u001b[0;31mKeyboardInterrupt\u001b[0m: "
     ]
    }
   ],
   "source": [
    "for G in G_vect:\n",
    "    rand_index_sum = 0\n",
    "    # iterating through the week groupings to leave out\n",
    "    for weeks_exclue in weeks_exclude_vect:\n",
    "        # creating train/test groups\n",
    "        train = pass_attempt_df[[x not in weeks_exclude for x in list(pass_attempt_df[\"week\"])]].sample(40000)\n",
    "        test = pass_attempt_df[[x in weeks_exclude for x in list(pass_attempt_df[\"week\"])]]\n",
    "\n",
    "        X_train = train.drop(['week', 'gameId','playId','nflId','displayName','position'], axis = 1)\n",
    "        X_test = test.drop(['week', 'gameId','playId','nflId','displayName','position'], axis = 1)\n",
    "\n",
    "        # train\n",
    "        clf_train = mixture.GaussianMixture(n_components=G, covariance_type='full', \n",
    "                                            n_init = 2, max_iter = 200)\n",
    "        f_train = clf_train.fit(X_train)\n",
    "\n",
    "        # test\n",
    "        clf_test = mixture.GaussianMixture(n_components=G, covariance_type='full',\n",
    "                                           n_init = 2, max_iter = 200)\n",
    "        f_test = clf_test.fit(X_test)\n",
    "\n",
    "        # classifying test group\n",
    "        y_train = f_train.predict(X_test)\n",
    "        y_test = f_test.predict(X_test)\n",
    "\n",
    "        # appling the adjusted rand index\n",
    "        rand_index_val = adjusted_rand_score(y_train, y_test)\n",
    "        rand_index_sum += rand_index_val\n",
    "\n",
    "    rand_index = rand_index_sum/len(weeks_exclude_vect)\n",
    "    \n",
    "    rand_index_G_vect.append(rand_index)\n",
    "    \n",
    "    print(rand_index)"
   ]
  },
  {
   "cell_type": "markdown",
   "metadata": {},
   "source": [
    "### Plot eliminating x/y var, speed, and def based variables, replacing Ratio with Cor"
   ]
  },
  {
   "cell_type": "code",
   "execution_count": 40,
   "metadata": {},
   "outputs": [
    {
     "data": {
      "image/png": "[encoded data removed]",
      "text/plain": [
       "<matplotlib.figure.Figure at 0x12e559be0>"
      ]
     },
     "metadata": {},
     "output_type": "display_data"
    }
   ],
   "source": [
    "plt.pyplot.figure(figsize=(10, 6))\n",
    "# plotting the results\n",
    "plt.pyplot.bar(x = G_vect,\n",
    "               height = rand_index_G_vect,\n",
    "               width = .55)\n",
    "plt.pyplot.xlabel('Number of Clusters ($G*$)')\n",
    "plt.pyplot.ylabel('ARI Score')\n",
    "plt.pyplot.ylim(0,1)\n",
    "plt.pyplot.title('ARI Score vs. Number of Clusters')\n",
    "plt.pyplot.show()"
   ]
  },
  {
   "cell_type": "markdown",
   "metadata": {},
   "source": [
    "### Feature Importance"
   ]
  },
  {
   "cell_type": "code",
   "execution_count": 41,
   "metadata": {
    "collapsed": true
   },
   "outputs": [],
   "source": [
    "import sys\n",
    "weeks_exclude_vect = [[1,2,3],[4,5,6],[7,8,9],[10,11,12],[13,14,15],[15,16,17]]\n",
    "feature_list = list(X_train.columns)\n",
    "rand_index_vect = []\n",
    "\n",
    "# making a waitbar\n",
    "toolbar_width = len(feature_list)"
   ]
  },
  {
   "cell_type": "code",
   "execution_count": 42,
   "metadata": {},
   "outputs": [
    {
     "name": "stdout",
     "output_type": "stream",
     "text": [
      "[                            -----------------------------"
     ]
    }
   ],
   "source": [
    "sys.stdout.write(\"[%s]\" % (\" \" * toolbar_width))\n",
    "sys.stdout.flush()\n",
    "sys.stdout.write(\"\\b\" * (toolbar_width+1))\n",
    "\n",
    "for feature in feature_list:\n",
    "    \n",
    "    rand_index_sum = 0\n",
    "\n",
    "    # iterating through the week groupings to leave out\n",
    "    for weeks_exclue in weeks_exclude_vect:\n",
    "        # creating train/test groups\n",
    "        train = pass_attempt_df[[x not in weeks_exclude for \\\n",
    "                                 x in list(pass_attempt_df[\"week\"])]].drop([feature], axis = 1)\n",
    "        test = pass_attempt_df[[x in weeks_exclude for \\\n",
    "                                x in list(pass_attempt_df[\"week\"])]].drop([feature], axis = 1)\n",
    "\n",
    "        X_train = train.drop(['week', 'gameId','playId','nflId','displayName','position'], axis = 1)\n",
    "        X_test = test.drop(['week', 'gameId','playId','nflId','displayName','position'], axis = 1)\n",
    "\n",
    "        # train\n",
    "        clf_train = mixture.GaussianMixture(n_components=2, covariance_type='full')\n",
    "        f_train = clf_train.fit(X_train)\n",
    "\n",
    "        # test\n",
    "        clf_test = mixture.GaussianMixture(n_components=2, covariance_type='full')\n",
    "        f_test = clf_test.fit(X_test)\n",
    "\n",
    "        # classifying test group\n",
    "        y_train = f_train.predict(X_test)\n",
    "        y_test = f_test.predict(X_test)\n",
    "\n",
    "        # appling the adjusted rand index\n",
    "        rand_index_val = adjusted_rand_score(y_train, y_test)\n",
    "        rand_index_sum += rand_index_val\n",
    "\n",
    "    rand_index = rand_index_sum/len(weeks_exclude_vect)\n",
    "    \n",
    "    rand_index_vect.append(rand_index)\n",
    "    \n",
    "    sys.stdout.write(\"-\")\n",
    "    sys.stdout.flush()"
   ]
  },
  {
   "cell_type": "code",
   "execution_count": 43,
   "metadata": {
    "collapsed": true
   },
   "outputs": [],
   "source": [
    "d = {'feature': feature_list, 'delta_ARI': rand_index_G_vect[0] - np.array(rand_index_vect)}\n",
    "feature_imp_df = pd.DataFrame(data=d).sort_values('delta_ARI', ascending = False)\n",
    "feature_imp_df[\"base_feature\"] = [x.split('_pass_forward')[0] if \"pass_forward\" in x \\\n",
    "                                  else x.split('_ball_snap')[0] if \"ball_snap\" in x \\\n",
    "                                  else x.split('_time')[0] for x in np.array(feature_imp_df[\"feature\"])]\n",
    "feature_imp_df[\"time_period\"] = [\"Before Ball Thrown\" if \"pass_forward\" in x \\\n",
    "                                 else \"Before Ball Thrown\" if \"ball_snap\" in x \\\n",
    "                                 else \"After Ball Thrown\" if x.endswith(\"2\") \\\n",
    "                                 else \"Before Ball Thrown\" for x in np.array(feature_imp_df[\"feature\"])]\n",
    "feature_imp_df[\"feature\"] = [x.upper() for x in feature_imp_df[\"feature\"]]"
   ]
  },
  {
   "cell_type": "code",
   "execution_count": 44,
   "metadata": {},
   "outputs": [
    {
     "data": {
      "image/png": "[encoded data removed]",
      "text/plain": [
       "<matplotlib.figure.Figure at 0x12e566da0>"
      ]
     },
     "metadata": {},
     "output_type": "display_data"
    }
   ],
   "source": [
    "plt.pyplot.figure(figsize=(7,7))\n",
    "\n",
    "sns.barplot(x=\"delta_ARI\", y=\"feature\", data=feature_imp_df.head(10).sort_values('delta_ARI', ascending = True),\n",
    "            hue = \"time_period\", dodge = False, palette = [\"red\", \"blue\"])\n",
    "plt.pyplot.gca().legend().set_title('')\n",
    "plt.pyplot.title('Change in ARI vs. Feature')\n",
    "plt.pyplot.ylabel('Feature Name')\n",
    "plt.pyplot.xlabel('Change In ARI')\n",
    "plt.pyplot.show()"
   ]
  },
  {
   "cell_type": "markdown",
   "metadata": {},
   "source": [
    "### Scoring All Plays"
   ]
  },
  {
   "cell_type": "code",
   "execution_count": 38,
   "metadata": {},
   "outputs": [
    {
     "data": {
      "text/html": [
       "<div>\n",
       "<style scoped>\n",
       "    .dataframe tbody tr th:only-of-type {\n",
       "        vertical-align: middle;\n",
       "    }\n",
       "\n",
       "    .dataframe tbody tr th {\n",
       "        vertical-align: top;\n",
       "    }\n",
       "\n",
       "    .dataframe thead th {\n",
       "        text-align: right;\n",
       "    }\n",
       "</style>\n",
       "<table border=\"1\" class=\"dataframe\">\n",
       "  <thead>\n",
       "    <tr style=\"text-align: right;\">\n",
       "      <th></th>\n",
       "      <th>week</th>\n",
       "      <th>gameId</th>\n",
       "      <th>playId</th>\n",
       "      <th>nflId</th>\n",
       "      <th>displayName</th>\n",
       "      <th>position</th>\n",
       "      <th>off_var_time_0</th>\n",
       "      <th>off_var_time_0_1</th>\n",
       "      <th>off_var_time_1</th>\n",
       "      <th>off_var_time_1_2</th>\n",
       "      <th>...</th>\n",
       "      <th>ratio_pass_forward</th>\n",
       "      <th>cb_off_dir_diff_pass_forward</th>\n",
       "      <th>off_dir_diff_between_ball_snap_and_pass_forward</th>\n",
       "      <th>best_cor_x_time_1</th>\n",
       "      <th>best_cor_x_time_1_2</th>\n",
       "      <th>best_cor_y_time_1</th>\n",
       "      <th>best_cor_y_time_1_2</th>\n",
       "      <th>best_cor_x_y_avg_time_1</th>\n",
       "      <th>best_cor_x_y_avg_time_1_2</th>\n",
       "      <th>cor_dist_inter</th>\n",
       "    </tr>\n",
       "  </thead>\n",
       "  <tbody>\n",
       "    <tr>\n",
       "      <th>0</th>\n",
       "      <td>1</td>\n",
       "      <td>2018090600</td>\n",
       "      <td>75</td>\n",
       "      <td>2552689</td>\n",
       "      <td>Ronald Darby</td>\n",
       "      <td>CB</td>\n",
       "      <td>0.000307</td>\n",
       "      <td>2.126595</td>\n",
       "      <td>2.334991</td>\n",
       "      <td>6.760635</td>\n",
       "      <td>...</td>\n",
       "      <td>1.003735</td>\n",
       "      <td>0.69</td>\n",
       "      <td>10.00</td>\n",
       "      <td>0.991059</td>\n",
       "      <td>0.996693</td>\n",
       "      <td>0.996152</td>\n",
       "      <td>0.992656</td>\n",
       "      <td>0.993605</td>\n",
       "      <td>0.994675</td>\n",
       "      <td>0.136746</td>\n",
       "    </tr>\n",
       "    <tr>\n",
       "      <th>1</th>\n",
       "      <td>1</td>\n",
       "      <td>2018090600</td>\n",
       "      <td>75</td>\n",
       "      <td>2555383</td>\n",
       "      <td>Jalen Mills</td>\n",
       "      <td>CB</td>\n",
       "      <td>0.001680</td>\n",
       "      <td>2.051115</td>\n",
       "      <td>2.075317</td>\n",
       "      <td>1.658779</td>\n",
       "      <td>...</td>\n",
       "      <td>0.535486</td>\n",
       "      <td>20.40</td>\n",
       "      <td>11.75</td>\n",
       "      <td>0.991839</td>\n",
       "      <td>0.969084</td>\n",
       "      <td>0.893204</td>\n",
       "      <td>0.945554</td>\n",
       "      <td>0.942522</td>\n",
       "      <td>0.957319</td>\n",
       "      <td>0.154773</td>\n",
       "    </tr>\n",
       "    <tr>\n",
       "      <th>2</th>\n",
       "      <td>1</td>\n",
       "      <td>2018090600</td>\n",
       "      <td>146</td>\n",
       "      <td>2552689</td>\n",
       "      <td>Ronald Darby</td>\n",
       "      <td>CB</td>\n",
       "      <td>0.000479</td>\n",
       "      <td>1.310370</td>\n",
       "      <td>1.533356</td>\n",
       "      <td>2.695306</td>\n",
       "      <td>...</td>\n",
       "      <td>0.285235</td>\n",
       "      <td>14.63</td>\n",
       "      <td>8.41</td>\n",
       "      <td>0.998055</td>\n",
       "      <td>0.998745</td>\n",
       "      <td>0.995289</td>\n",
       "      <td>0.996726</td>\n",
       "      <td>0.996672</td>\n",
       "      <td>0.997735</td>\n",
       "      <td>0.140171</td>\n",
       "    </tr>\n",
       "    <tr>\n",
       "      <th>3</th>\n",
       "      <td>1</td>\n",
       "      <td>2018090600</td>\n",
       "      <td>146</td>\n",
       "      <td>2555383</td>\n",
       "      <td>Jalen Mills</td>\n",
       "      <td>CB</td>\n",
       "      <td>0.000957</td>\n",
       "      <td>0.967793</td>\n",
       "      <td>1.170710</td>\n",
       "      <td>3.954483</td>\n",
       "      <td>...</td>\n",
       "      <td>1.104717</td>\n",
       "      <td>129.71</td>\n",
       "      <td>9.22</td>\n",
       "      <td>0.990084</td>\n",
       "      <td>0.508795</td>\n",
       "      <td>0.853983</td>\n",
       "      <td>0.943507</td>\n",
       "      <td>0.922033</td>\n",
       "      <td>0.726151</td>\n",
       "      <td>0.110491</td>\n",
       "    </tr>\n",
       "    <tr>\n",
       "      <th>4</th>\n",
       "      <td>1</td>\n",
       "      <td>2018090600</td>\n",
       "      <td>146</td>\n",
       "      <td>2557958</td>\n",
       "      <td>Sidney Jones</td>\n",
       "      <td>CB</td>\n",
       "      <td>0.123231</td>\n",
       "      <td>1.930732</td>\n",
       "      <td>1.270966</td>\n",
       "      <td>1.080767</td>\n",
       "      <td>...</td>\n",
       "      <td>0.897810</td>\n",
       "      <td>9.97</td>\n",
       "      <td>64.66</td>\n",
       "      <td>0.360666</td>\n",
       "      <td>0.800361</td>\n",
       "      <td>0.975222</td>\n",
       "      <td>0.984590</td>\n",
       "      <td>0.667944</td>\n",
       "      <td>0.892476</td>\n",
       "      <td>0.177724</td>\n",
       "    </tr>\n",
       "    <tr>\n",
       "      <th>...</th>\n",
       "      <td>...</td>\n",
       "      <td>...</td>\n",
       "      <td>...</td>\n",
       "      <td>...</td>\n",
       "      <td>...</td>\n",
       "      <td>...</td>\n",
       "      <td>...</td>\n",
       "      <td>...</td>\n",
       "      <td>...</td>\n",
       "      <td>...</td>\n",
       "      <td>...</td>\n",
       "      <td>...</td>\n",
       "      <td>...</td>\n",
       "      <td>...</td>\n",
       "      <td>...</td>\n",
       "      <td>...</td>\n",
       "      <td>...</td>\n",
       "      <td>...</td>\n",
       "      <td>...</td>\n",
       "      <td>...</td>\n",
       "      <td>...</td>\n",
       "    </tr>\n",
       "    <tr>\n",
       "      <th>34345</th>\n",
       "      <td>17</td>\n",
       "      <td>2018123015</td>\n",
       "      <td>4057</td>\n",
       "      <td>2543830</td>\n",
       "      <td>Tre Boston</td>\n",
       "      <td>FS</td>\n",
       "      <td>0.463821</td>\n",
       "      <td>1.996526</td>\n",
       "      <td>1.518795</td>\n",
       "      <td>2.304304</td>\n",
       "      <td>...</td>\n",
       "      <td>1.035742</td>\n",
       "      <td>4.87</td>\n",
       "      <td>67.46</td>\n",
       "      <td>0.774822</td>\n",
       "      <td>0.908232</td>\n",
       "      <td>0.942625</td>\n",
       "      <td>0.740846</td>\n",
       "      <td>0.858724</td>\n",
       "      <td>0.824539</td>\n",
       "      <td>0.114588</td>\n",
       "    </tr>\n",
       "    <tr>\n",
       "      <th>34346</th>\n",
       "      <td>17</td>\n",
       "      <td>2018123015</td>\n",
       "      <td>4057</td>\n",
       "      <td>2558009</td>\n",
       "      <td>Budda Baker</td>\n",
       "      <td>FS</td>\n",
       "      <td>0.002373</td>\n",
       "      <td>2.495578</td>\n",
       "      <td>2.223796</td>\n",
       "      <td>1.833104</td>\n",
       "      <td>...</td>\n",
       "      <td>0.562888</td>\n",
       "      <td>44.00</td>\n",
       "      <td>8.74</td>\n",
       "      <td>0.998340</td>\n",
       "      <td>0.988472</td>\n",
       "      <td>0.830953</td>\n",
       "      <td>0.757662</td>\n",
       "      <td>0.914646</td>\n",
       "      <td>0.873067</td>\n",
       "      <td>0.252598</td>\n",
       "    </tr>\n",
       "    <tr>\n",
       "      <th>34347</th>\n",
       "      <td>17</td>\n",
       "      <td>2018123015</td>\n",
       "      <td>4104</td>\n",
       "      <td>2495807</td>\n",
       "      <td>Antoine Bethea</td>\n",
       "      <td>FS</td>\n",
       "      <td>0.046326</td>\n",
       "      <td>11.993010</td>\n",
       "      <td>9.027414</td>\n",
       "      <td>7.001384</td>\n",
       "      <td>...</td>\n",
       "      <td>0.337100</td>\n",
       "      <td>19.93</td>\n",
       "      <td>41.31</td>\n",
       "      <td>0.981135</td>\n",
       "      <td>0.838075</td>\n",
       "      <td>0.961383</td>\n",
       "      <td>0.983272</td>\n",
       "      <td>0.971259</td>\n",
       "      <td>0.910673</td>\n",
       "      <td>0.206264</td>\n",
       "    </tr>\n",
       "    <tr>\n",
       "      <th>34348</th>\n",
       "      <td>17</td>\n",
       "      <td>2018123015</td>\n",
       "      <td>4104</td>\n",
       "      <td>2543830</td>\n",
       "      <td>Tre Boston</td>\n",
       "      <td>FS</td>\n",
       "      <td>0.173464</td>\n",
       "      <td>1.483067</td>\n",
       "      <td>1.751680</td>\n",
       "      <td>12.978997</td>\n",
       "      <td>...</td>\n",
       "      <td>2.165334</td>\n",
       "      <td>34.68</td>\n",
       "      <td>1.59</td>\n",
       "      <td>0.987549</td>\n",
       "      <td>0.998748</td>\n",
       "      <td>0.965411</td>\n",
       "      <td>0.964453</td>\n",
       "      <td>0.976480</td>\n",
       "      <td>0.981600</td>\n",
       "      <td>0.056919</td>\n",
       "    </tr>\n",
       "    <tr>\n",
       "      <th>34349</th>\n",
       "      <td>17</td>\n",
       "      <td>2018123015</td>\n",
       "      <td>4104</td>\n",
       "      <td>2558009</td>\n",
       "      <td>Budda Baker</td>\n",
       "      <td>FS</td>\n",
       "      <td>0.022961</td>\n",
       "      <td>2.081179</td>\n",
       "      <td>1.443685</td>\n",
       "      <td>1.042801</td>\n",
       "      <td>...</td>\n",
       "      <td>0.101613</td>\n",
       "      <td>20.62</td>\n",
       "      <td>13.68</td>\n",
       "      <td>0.998187</td>\n",
       "      <td>0.972341</td>\n",
       "      <td>0.959402</td>\n",
       "      <td>0.954699</td>\n",
       "      <td>0.978795</td>\n",
       "      <td>0.963520</td>\n",
       "      <td>0.459297</td>\n",
       "    </tr>\n",
       "  </tbody>\n",
       "</table>\n",
       "<p>88935 rows × 35 columns</p>\n",
       "</div>"
      ],
      "text/plain": [
       "       week      gameId  playId    nflId     displayName position  \\\n",
       "0         1  2018090600      75  2552689    Ronald Darby       CB   \n",
       "1         1  2018090600      75  2555383     Jalen Mills       CB   \n",
       "2         1  2018090600     146  2552689    Ronald Darby       CB   \n",
       "3         1  2018090600     146  2555383     Jalen Mills       CB   \n",
       "4         1  2018090600     146  2557958    Sidney Jones       CB   \n",
       "...     ...         ...     ...      ...             ...      ...   \n",
       "34345    17  2018123015    4057  2543830      Tre Boston       FS   \n",
       "34346    17  2018123015    4057  2558009     Budda Baker       FS   \n",
       "34347    17  2018123015    4104  2495807  Antoine Bethea       FS   \n",
       "34348    17  2018123015    4104  2543830      Tre Boston       FS   \n",
       "34349    17  2018123015    4104  2558009     Budda Baker       FS   \n",
       "\n",
       "       off_var_time_0  off_var_time_0_1  off_var_time_1  off_var_time_1_2  \\\n",
       "0            0.000307          2.126595        2.334991          6.760635   \n",
       "1            0.001680          2.051115        2.075317          1.658779   \n",
       "2            0.000479          1.310370        1.533356          2.695306   \n",
       "3            0.000957          0.967793        1.170710          3.954483   \n",
       "4            0.123231          1.930732        1.270966          1.080767   \n",
       "...               ...               ...             ...               ...   \n",
       "34345        0.463821          1.996526        1.518795          2.304304   \n",
       "34346        0.002373          2.495578        2.223796          1.833104   \n",
       "34347        0.046326         11.993010        9.027414          7.001384   \n",
       "34348        0.173464          1.483067        1.751680         12.978997   \n",
       "34349        0.022961          2.081179        1.443685          1.042801   \n",
       "\n",
       "       ...  ratio_pass_forward  cb_off_dir_diff_pass_forward  \\\n",
       "0      ...            1.003735                          0.69   \n",
       "1      ...            0.535486                         20.40   \n",
       "2      ...            0.285235                         14.63   \n",
       "3      ...            1.104717                        129.71   \n",
       "4      ...            0.897810                          9.97   \n",
       "...    ...                 ...                           ...   \n",
       "34345  ...            1.035742                          4.87   \n",
       "34346  ...            0.562888                         44.00   \n",
       "34347  ...            0.337100                         19.93   \n",
       "34348  ...            2.165334                         34.68   \n",
       "34349  ...            0.101613                         20.62   \n",
       "\n",
       "       off_dir_diff_between_ball_snap_and_pass_forward  best_cor_x_time_1  \\\n",
       "0                                                10.00           0.991059   \n",
       "1                                                11.75           0.991839   \n",
       "2                                                 8.41           0.998055   \n",
       "3                                                 9.22           0.990084   \n",
       "4                                                64.66           0.360666   \n",
       "...                                                ...                ...   \n",
       "34345                                            67.46           0.774822   \n",
       "34346                                             8.74           0.998340   \n",
       "34347                                            41.31           0.981135   \n",
       "34348                                             1.59           0.987549   \n",
       "34349                                            13.68           0.998187   \n",
       "\n",
       "       best_cor_x_time_1_2  best_cor_y_time_1  best_cor_y_time_1_2  \\\n",
       "0                 0.996693           0.996152             0.992656   \n",
       "1                 0.969084           0.893204             0.945554   \n",
       "2                 0.998745           0.995289             0.996726   \n",
       "3                 0.508795           0.853983             0.943507   \n",
       "4                 0.800361           0.975222             0.984590   \n",
       "...                    ...                ...                  ...   \n",
       "34345             0.908232           0.942625             0.740846   \n",
       "34346             0.988472           0.830953             0.757662   \n",
       "34347             0.838075           0.961383             0.983272   \n",
       "34348             0.998748           0.965411             0.964453   \n",
       "34349             0.972341           0.959402             0.954699   \n",
       "\n",
       "       best_cor_x_y_avg_time_1  best_cor_x_y_avg_time_1_2  cor_dist_inter  \n",
       "0                     0.993605                   0.994675        0.136746  \n",
       "1                     0.942522                   0.957319        0.154773  \n",
       "2                     0.996672                   0.997735        0.140171  \n",
       "3                     0.922033                   0.726151        0.110491  \n",
       "4                     0.667944                   0.892476        0.177724  \n",
       "...                        ...                        ...             ...  \n",
       "34345                 0.858724                   0.824539        0.114588  \n",
       "34346                 0.914646                   0.873067        0.252598  \n",
       "34347                 0.971259                   0.910673        0.206264  \n",
       "34348                 0.976480                   0.981600        0.056919  \n",
       "34349                 0.978795                   0.963520        0.459297  \n",
       "\n",
       "[88935 rows x 35 columns]"
      ]
     },
     "execution_count": 38,
     "metadata": {},
     "output_type": "execute_result"
    }
   ],
   "source": [
    "pass_attempt_df"
   ]
  },
  {
   "cell_type": "code",
   "execution_count": 42,
   "metadata": {},
   "outputs": [
    {
     "data": {
      "text/plain": [
       "(45000, 29)"
      ]
     },
     "execution_count": 42,
     "metadata": {},
     "output_type": "execute_result"
    }
   ],
   "source": [
    "# sampling 45,000 plays to be within CPU limit\n",
    "X_train = pass_attempt_df.sample(n = 45000) \\\n",
    "                         .drop(['week', 'gameId','playId','nflId','displayName','position'], axis = 1)\n",
    "X_train.shape"
   ]
  },
  {
   "cell_type": "code",
   "execution_count": 43,
   "metadata": {},
   "outputs": [
    {
     "data": {
      "text/plain": [
       "(88935, 29)"
      ]
     },
     "execution_count": 43,
     "metadata": {},
     "output_type": "execute_result"
    }
   ],
   "source": [
    "# all plays to score\n",
    "X_score = pass_attempt_df.drop(['week', 'gameId','playId','nflId','displayName','position'], axis = 1)\n",
    "X_score.shape"
   ]
  },
  {
   "cell_type": "code",
   "execution_count": 47,
   "metadata": {},
   "outputs": [
    {
     "name": "stdout",
     "output_type": "stream",
     "text": [
      "(30000, 29)\n",
      "(30000, 29)\n",
      "(28935, 29)\n"
     ]
    }
   ],
   "source": [
    "X_score1 = X_score[0:30000]\n",
    "X_score2 = X_score[30000:60000]\n",
    "X_score3 = X_score[60000:]\n",
    "print(X_score1.shape)\n",
    "print(X_score2.shape)\n",
    "print(X_score3.shape)"
   ]
  },
  {
   "cell_type": "code",
   "execution_count": 48,
   "metadata": {
    "collapsed": true
   },
   "outputs": [],
   "source": [
    "# train\n",
    "clf_train = mixture.GaussianMixture(n_components=2, covariance_type='full')\n",
    "f_train = clf_train.fit(X_train)"
   ]
  },
  {
   "cell_type": "code",
   "execution_count": 49,
   "metadata": {},
   "outputs": [
    {
     "data": {
      "text/plain": [
       "{'best_cor_x_time_1': (0.9868479808954868, 0.8494883410801594),\n",
       " 'best_cor_x_time_1_2': (0.9850740990641934, 0.810788313455585),\n",
       " 'best_cor_x_y_avg_time_1': (0.9595396168808958, 0.8180984372056861),\n",
       " 'best_cor_x_y_avg_time_1_2': (0.9627274475365817, 0.8056657898968137),\n",
       " 'best_cor_y_time_1': (0.9322312528663047, 0.7867085333312138),\n",
       " 'best_cor_y_time_1_2': (0.9403807960089707, 0.8005432663380432),\n",
       " 'cb_off_dir_diff_pass_forward': (15.133122211689887, 50.14361232967756),\n",
       " 'cor_dist_inter': (0.2765036713646723, 0.13184293831766386),\n",
       " 'cor_s_time_1': (0.9143323904756884, 0.6933495209634752),\n",
       " 'cor_s_time_1_2': (0.8588204220731032, 0.591103197853077),\n",
       " 'off_dir_diff_between_ball_snap_and_pass_forward': (17.06921109381843,\n",
       "  50.816058463808986),\n",
       " 'off_dir_mean_time_0_1': (42.682633416084364, 63.91853692614604),\n",
       " 'off_dir_mean_time_1': (26.354136777126154, 56.23306796039046),\n",
       " 'off_dir_mean_time_1_2': (24.051101770286085, 55.749645111654004),\n",
       " 'off_dir_mean_time_2': (18.012292523483193, 55.57783427877292),\n",
       " 'off_dir_var_time_1': (807.9064916365871, 1335.4524598683354),\n",
       " 'off_dir_var_time_1_2': (695.4285868226435, 1618.8834435666765),\n",
       " 'off_dir_var_time_2': (92.1204516343302, 712.9035520041609),\n",
       " 'off_mean_time_0': (7.264618193283612, 10.100187655082602),\n",
       " 'off_mean_time_0_1': (6.311326761172919, 8.984711891781034),\n",
       " 'off_mean_time_1': (5.968836922885168, 8.613203050406115),\n",
       " 'off_mean_time_1_2': (5.516332301441488, 8.088433762822152),\n",
       " 'off_mean_time_2': (4.252230027954352, 6.810883093844945),\n",
       " 'off_var_time_0': (0.025210310367371806, 0.08753814375227571),\n",
       " 'off_var_time_0_1': (2.04310067177448, 4.521606615762225),\n",
       " 'off_var_time_1': (1.9959091673269274, 4.298787254251104),\n",
       " 'off_var_time_1_2': (2.884854373633004, 6.996230014183596),\n",
       " 'off_var_time_2': (0.2691488027397483, 1.3036707848318665),\n",
       " 'ratio_pass_forward': (1.449612045528606, 3.377608658171502)}"
      ]
     },
     "execution_count": 49,
     "metadata": {},
     "output_type": "execute_result"
    }
   ],
   "source": [
    "get_cluster_means(X_train, f_train)"
   ]
  },
  {
   "cell_type": "code",
   "execution_count": 54,
   "metadata": {
    "collapsed": true
   },
   "outputs": [],
   "source": [
    "full_probs1 = [x[1] for x in f_train.predict_proba(X_score1)]\n",
    "full_classes1 = f_train.predict(X_score1)\n",
    "\n",
    "full_probs2 = [x[1] for x in f_train.predict_proba(X_score2)]\n",
    "full_classes2 = f_train.predict(X_score2)\n",
    "\n",
    "full_probs3 = [x[1] for x in f_train.predict_proba(X_score3)]\n",
    "full_classes3 = f_train.predict(X_score3)"
   ]
  },
  {
   "cell_type": "code",
   "execution_count": 55,
   "metadata": {},
   "outputs": [],
   "source": [
    "full_probs = np.append(np.append(full_probs1, full_probs2), full_probs3)\n",
    "full_classes = np.append(np.append(full_classes1, full_classes2), full_classes3)"
   ]
  },
  {
   "cell_type": "code",
   "execution_count": 56,
   "metadata": {},
   "outputs": [
    {
     "data": {
      "image/png": "[encoded data removed]",
      "text/plain": [
       "<matplotlib.figure.Figure at 0x12478f400>"
      ]
     },
     "metadata": {},
     "output_type": "display_data"
    }
   ],
   "source": [
    "plt.pyplot.hist(full_probs, bins = 50)\n",
    "plt.pyplot.xlabel('Probability of Zone Coverage')\n",
    "plt.pyplot.ylabel('Density')\n",
    "plt.pyplot.show()"
   ]
  },
  {
   "cell_type": "code",
   "execution_count": 57,
   "metadata": {
    "collapsed": true
   },
   "outputs": [],
   "source": [
    "pass_attempt_df[\"zone_probability\"] = full_probs\n",
    "pass_attempt_df[\"zone_flag\"] = full_classes"
   ]
  },
  {
   "cell_type": "markdown",
   "metadata": {},
   "source": [
    "### Saving Results"
   ]
  },
  {
   "cell_type": "code",
   "execution_count": 62,
   "metadata": {
    "collapsed": true
   },
   "outputs": [],
   "source": [
    "pass_attempt_df_final = pass_attempt_df[['week', 'gameId','playId','nflId','displayName','position'] + \\\n",
    "                                     list(pass_attempt_df.columns[[x.startswith('zone') for x in pass_attempt_df.columns]])].sort_values(['gameId', 'playId', 'position'])"
   ]
  },
  {
   "cell_type": "code",
   "execution_count": 63,
   "metadata": {},
   "outputs": [
    {
     "data": {
      "text/html": [
       "<div>\n",
       "<style scoped>\n",
       "    .dataframe tbody tr th:only-of-type {\n",
       "        vertical-align: middle;\n",
       "    }\n",
       "\n",
       "    .dataframe tbody tr th {\n",
       "        vertical-align: top;\n",
       "    }\n",
       "\n",
       "    .dataframe thead th {\n",
       "        text-align: right;\n",
       "    }\n",
       "</style>\n",
       "<table border=\"1\" class=\"dataframe\">\n",
       "  <thead>\n",
       "    <tr style=\"text-align: right;\">\n",
       "      <th></th>\n",
       "      <th>week</th>\n",
       "      <th>gameId</th>\n",
       "      <th>playId</th>\n",
       "      <th>nflId</th>\n",
       "      <th>displayName</th>\n",
       "      <th>position</th>\n",
       "      <th>zone_probability</th>\n",
       "      <th>zone_flag</th>\n",
       "    </tr>\n",
       "  </thead>\n",
       "  <tbody>\n",
       "    <tr>\n",
       "      <th>0</th>\n",
       "      <td>1</td>\n",
       "      <td>2018090600</td>\n",
       "      <td>75</td>\n",
       "      <td>2552689</td>\n",
       "      <td>Ronald Darby</td>\n",
       "      <td>CB</td>\n",
       "      <td>1.064975e-12</td>\n",
       "      <td>0</td>\n",
       "    </tr>\n",
       "    <tr>\n",
       "      <th>1</th>\n",
       "      <td>1</td>\n",
       "      <td>2018090600</td>\n",
       "      <td>75</td>\n",
       "      <td>2555383</td>\n",
       "      <td>Jalen Mills</td>\n",
       "      <td>CB</td>\n",
       "      <td>1.412947e-10</td>\n",
       "      <td>0</td>\n",
       "    </tr>\n",
       "    <tr>\n",
       "      <th>1</th>\n",
       "      <td>1</td>\n",
       "      <td>2018090600</td>\n",
       "      <td>75</td>\n",
       "      <td>2495613</td>\n",
       "      <td>Corey Graham</td>\n",
       "      <td>FS</td>\n",
       "      <td>1.000000e+00</td>\n",
       "      <td>1</td>\n",
       "    </tr>\n",
       "    <tr>\n",
       "      <th>2</th>\n",
       "      <td>1</td>\n",
       "      <td>2018090600</td>\n",
       "      <td>75</td>\n",
       "      <td>2534832</td>\n",
       "      <td>Rodney McLeod</td>\n",
       "      <td>FS</td>\n",
       "      <td>9.999838e-01</td>\n",
       "      <td>1</td>\n",
       "    </tr>\n",
       "    <tr>\n",
       "      <th>0</th>\n",
       "      <td>1</td>\n",
       "      <td>2018090600</td>\n",
       "      <td>75</td>\n",
       "      <td>79848</td>\n",
       "      <td>Malcolm Jenkins</td>\n",
       "      <td>SS</td>\n",
       "      <td>2.483592e-07</td>\n",
       "      <td>0</td>\n",
       "    </tr>\n",
       "    <tr>\n",
       "      <th>...</th>\n",
       "      <td>...</td>\n",
       "      <td>...</td>\n",
       "      <td>...</td>\n",
       "      <td>...</td>\n",
       "      <td>...</td>\n",
       "      <td>...</td>\n",
       "      <td>...</td>\n",
       "      <td>...</td>\n",
       "    </tr>\n",
       "    <tr>\n",
       "      <th>54583</th>\n",
       "      <td>17</td>\n",
       "      <td>2018123015</td>\n",
       "      <td>4104</td>\n",
       "      <td>2495504</td>\n",
       "      <td>Patrick Peterson</td>\n",
       "      <td>CB</td>\n",
       "      <td>1.703178e-11</td>\n",
       "      <td>0</td>\n",
       "    </tr>\n",
       "    <tr>\n",
       "      <th>54584</th>\n",
       "      <td>17</td>\n",
       "      <td>2018123015</td>\n",
       "      <td>4104</td>\n",
       "      <td>2540170</td>\n",
       "      <td>David Amerson</td>\n",
       "      <td>CB</td>\n",
       "      <td>1.000000e+00</td>\n",
       "      <td>1</td>\n",
       "    </tr>\n",
       "    <tr>\n",
       "      <th>34347</th>\n",
       "      <td>17</td>\n",
       "      <td>2018123015</td>\n",
       "      <td>4104</td>\n",
       "      <td>2495807</td>\n",
       "      <td>Antoine Bethea</td>\n",
       "      <td>FS</td>\n",
       "      <td>1.000000e+00</td>\n",
       "      <td>1</td>\n",
       "    </tr>\n",
       "    <tr>\n",
       "      <th>34348</th>\n",
       "      <td>17</td>\n",
       "      <td>2018123015</td>\n",
       "      <td>4104</td>\n",
       "      <td>2543830</td>\n",
       "      <td>Tre Boston</td>\n",
       "      <td>FS</td>\n",
       "      <td>1.000000e+00</td>\n",
       "      <td>1</td>\n",
       "    </tr>\n",
       "    <tr>\n",
       "      <th>34349</th>\n",
       "      <td>17</td>\n",
       "      <td>2018123015</td>\n",
       "      <td>4104</td>\n",
       "      <td>2558009</td>\n",
       "      <td>Budda Baker</td>\n",
       "      <td>FS</td>\n",
       "      <td>2.680994e-02</td>\n",
       "      <td>0</td>\n",
       "    </tr>\n",
       "  </tbody>\n",
       "</table>\n",
       "<p>88935 rows × 8 columns</p>\n",
       "</div>"
      ],
      "text/plain": [
       "       week      gameId  playId    nflId       displayName position  \\\n",
       "0         1  2018090600      75  2552689      Ronald Darby       CB   \n",
       "1         1  2018090600      75  2555383       Jalen Mills       CB   \n",
       "1         1  2018090600      75  2495613      Corey Graham       FS   \n",
       "2         1  2018090600      75  2534832     Rodney McLeod       FS   \n",
       "0         1  2018090600      75    79848   Malcolm Jenkins       SS   \n",
       "...     ...         ...     ...      ...               ...      ...   \n",
       "54583    17  2018123015    4104  2495504  Patrick Peterson       CB   \n",
       "54584    17  2018123015    4104  2540170     David Amerson       CB   \n",
       "34347    17  2018123015    4104  2495807    Antoine Bethea       FS   \n",
       "34348    17  2018123015    4104  2543830        Tre Boston       FS   \n",
       "34349    17  2018123015    4104  2558009       Budda Baker       FS   \n",
       "\n",
       "       zone_probability  zone_flag  \n",
       "0          1.064975e-12          0  \n",
       "1          1.412947e-10          0  \n",
       "1          1.000000e+00          1  \n",
       "2          9.999838e-01          1  \n",
       "0          2.483592e-07          0  \n",
       "...                 ...        ...  \n",
       "54583      1.703178e-11          0  \n",
       "54584      1.000000e+00          1  \n",
       "34347      1.000000e+00          1  \n",
       "34348      1.000000e+00          1  \n",
       "34349      2.680994e-02          0  \n",
       "\n",
       "[88935 rows x 8 columns]"
      ]
     },
     "execution_count": 63,
     "metadata": {},
     "output_type": "execute_result"
    }
   ],
   "source": [
    "pass_attempt_df_final"
   ]
  },
  {
   "cell_type": "code",
   "execution_count": 64,
   "metadata": {
    "collapsed": true
   },
   "outputs": [],
   "source": [
    "pass_attempt_df_final.to_csv(\"~/Desktop/CoverageNet/src/01_identify_man_coverage/outputs/all_positions_pass_attempts_man_zone_classes.csv\", \n",
    "                             index = False)"
   ]
  },
  {
   "cell_type": "code",
   "execution_count": 187,
   "metadata": {},
   "outputs": [
    {
     "data": {
      "text/html": [
       "<div>\n",
       "<style scoped>\n",
       "    .dataframe tbody tr th:only-of-type {\n",
       "        vertical-align: middle;\n",
       "    }\n",
       "\n",
       "    .dataframe tbody tr th {\n",
       "        vertical-align: top;\n",
       "    }\n",
       "\n",
       "    .dataframe thead th {\n",
       "        text-align: right;\n",
       "    }\n",
       "</style>\n",
       "<table border=\"1\" class=\"dataframe\">\n",
       "  <thead>\n",
       "    <tr style=\"text-align: right;\">\n",
       "      <th></th>\n",
       "      <th>week</th>\n",
       "      <th>gameId</th>\n",
       "      <th>playId</th>\n",
       "      <th>nflId</th>\n",
       "      <th>displayName</th>\n",
       "      <th>position</th>\n",
       "      <th>off_var_time_0</th>\n",
       "      <th>off_var_time_0_1</th>\n",
       "      <th>off_var_time_1</th>\n",
       "      <th>off_var_time_1_2</th>\n",
       "      <th>...</th>\n",
       "      <th>off_dir_diff_between_ball_snap_and_pass_forward</th>\n",
       "      <th>best_cor_x_time_1</th>\n",
       "      <th>best_cor_x_time_1_2</th>\n",
       "      <th>best_cor_y_time_1</th>\n",
       "      <th>best_cor_y_time_1_2</th>\n",
       "      <th>best_cor_x_y_avg_time_1</th>\n",
       "      <th>best_cor_x_y_avg_time_1_2</th>\n",
       "      <th>cor_dist_inter</th>\n",
       "      <th>zone_probability</th>\n",
       "      <th>zone_flag</th>\n",
       "    </tr>\n",
       "  </thead>\n",
       "  <tbody>\n",
       "    <tr>\n",
       "      <th>2845</th>\n",
       "      <td>1</td>\n",
       "      <td>2018091001</td>\n",
       "      <td>3175</td>\n",
       "      <td>306</td>\n",
       "      <td>Dominique Rodgers-Cromartie</td>\n",
       "      <td>CB</td>\n",
       "      <td>0.001030</td>\n",
       "      <td>1.828340</td>\n",
       "      <td>2.051745</td>\n",
       "      <td>4.374495</td>\n",
       "      <td>...</td>\n",
       "      <td>12.97</td>\n",
       "      <td>0.996619</td>\n",
       "      <td>0.996559</td>\n",
       "      <td>0.998397</td>\n",
       "      <td>0.998692</td>\n",
       "      <td>0.997508</td>\n",
       "      <td>0.997626</td>\n",
       "      <td>0.153284</td>\n",
       "      <td>3.206482e-13</td>\n",
       "      <td>0</td>\n",
       "    </tr>\n",
       "    <tr>\n",
       "      <th>2846</th>\n",
       "      <td>1</td>\n",
       "      <td>2018091001</td>\n",
       "      <td>3175</td>\n",
       "      <td>2495617</td>\n",
       "      <td>Leon Hall</td>\n",
       "      <td>CB</td>\n",
       "      <td>0.135594</td>\n",
       "      <td>0.287196</td>\n",
       "      <td>0.328063</td>\n",
       "      <td>0.468380</td>\n",
       "      <td>...</td>\n",
       "      <td>3.48</td>\n",
       "      <td>0.998389</td>\n",
       "      <td>0.997318</td>\n",
       "      <td>0.968616</td>\n",
       "      <td>0.943793</td>\n",
       "      <td>0.983503</td>\n",
       "      <td>0.970555</td>\n",
       "      <td>0.272477</td>\n",
       "      <td>6.492129e-11</td>\n",
       "      <td>0</td>\n",
       "    </tr>\n",
       "    <tr>\n",
       "      <th>2847</th>\n",
       "      <td>1</td>\n",
       "      <td>2018091001</td>\n",
       "      <td>3175</td>\n",
       "      <td>2558062</td>\n",
       "      <td>Gareon Conley</td>\n",
       "      <td>CB</td>\n",
       "      <td>0.000701</td>\n",
       "      <td>3.846437</td>\n",
       "      <td>3.800498</td>\n",
       "      <td>4.511040</td>\n",
       "      <td>...</td>\n",
       "      <td>36.12</td>\n",
       "      <td>0.844782</td>\n",
       "      <td>0.698956</td>\n",
       "      <td>0.977344</td>\n",
       "      <td>0.838391</td>\n",
       "      <td>0.911063</td>\n",
       "      <td>0.768673</td>\n",
       "      <td>0.203309</td>\n",
       "      <td>1.000000e+00</td>\n",
       "      <td>1</td>\n",
       "    </tr>\n",
       "    <tr>\n",
       "      <th>1831</th>\n",
       "      <td>1</td>\n",
       "      <td>2018091001</td>\n",
       "      <td>3175</td>\n",
       "      <td>2495153</td>\n",
       "      <td>Marcus Gilchrist</td>\n",
       "      <td>FS</td>\n",
       "      <td>0.001652</td>\n",
       "      <td>7.899735</td>\n",
       "      <td>6.650955</td>\n",
       "      <td>6.290162</td>\n",
       "      <td>...</td>\n",
       "      <td>56.72</td>\n",
       "      <td>0.492665</td>\n",
       "      <td>0.502859</td>\n",
       "      <td>0.946094</td>\n",
       "      <td>0.965273</td>\n",
       "      <td>0.719379</td>\n",
       "      <td>0.734066</td>\n",
       "      <td>0.106732</td>\n",
       "      <td>1.000000e+00</td>\n",
       "      <td>1</td>\n",
       "    </tr>\n",
       "    <tr>\n",
       "      <th>1832</th>\n",
       "      <td>1</td>\n",
       "      <td>2018091001</td>\n",
       "      <td>3175</td>\n",
       "      <td>2507167</td>\n",
       "      <td>Reggie Nelson</td>\n",
       "      <td>FS</td>\n",
       "      <td>0.117265</td>\n",
       "      <td>0.259386</td>\n",
       "      <td>0.022739</td>\n",
       "      <td>0.021646</td>\n",
       "      <td>...</td>\n",
       "      <td>5.81</td>\n",
       "      <td>0.999645</td>\n",
       "      <td>0.999365</td>\n",
       "      <td>0.986681</td>\n",
       "      <td>0.987296</td>\n",
       "      <td>0.993163</td>\n",
       "      <td>0.993330</td>\n",
       "      <td>0.105495</td>\n",
       "      <td>7.825182e-11</td>\n",
       "      <td>0</td>\n",
       "    </tr>\n",
       "  </tbody>\n",
       "</table>\n",
       "<p>5 rows × 37 columns</p>\n",
       "</div>"
      ],
      "text/plain": [
       "      week      gameId  playId    nflId                  displayName position  \\\n",
       "2845     1  2018091001    3175      306  Dominique Rodgers-Cromartie       CB   \n",
       "2846     1  2018091001    3175  2495617                    Leon Hall       CB   \n",
       "2847     1  2018091001    3175  2558062                Gareon Conley       CB   \n",
       "1831     1  2018091001    3175  2495153             Marcus Gilchrist       FS   \n",
       "1832     1  2018091001    3175  2507167                Reggie Nelson       FS   \n",
       "\n",
       "      off_var_time_0  off_var_time_0_1  off_var_time_1  off_var_time_1_2  ...  \\\n",
       "2845        0.001030          1.828340        2.051745          4.374495  ...   \n",
       "2846        0.135594          0.287196        0.328063          0.468380  ...   \n",
       "2847        0.000701          3.846437        3.800498          4.511040  ...   \n",
       "1831        0.001652          7.899735        6.650955          6.290162  ...   \n",
       "1832        0.117265          0.259386        0.022739          0.021646  ...   \n",
       "\n",
       "      off_dir_diff_between_ball_snap_and_pass_forward  best_cor_x_time_1  \\\n",
       "2845                                            12.97           0.996619   \n",
       "2846                                             3.48           0.998389   \n",
       "2847                                            36.12           0.844782   \n",
       "1831                                            56.72           0.492665   \n",
       "1832                                             5.81           0.999645   \n",
       "\n",
       "      best_cor_x_time_1_2  best_cor_y_time_1  best_cor_y_time_1_2  \\\n",
       "2845             0.996559           0.998397             0.998692   \n",
       "2846             0.997318           0.968616             0.943793   \n",
       "2847             0.698956           0.977344             0.838391   \n",
       "1831             0.502859           0.946094             0.965273   \n",
       "1832             0.999365           0.986681             0.987296   \n",
       "\n",
       "      best_cor_x_y_avg_time_1  best_cor_x_y_avg_time_1_2  cor_dist_inter  \\\n",
       "2845                 0.997508                   0.997626        0.153284   \n",
       "2846                 0.983503                   0.970555        0.272477   \n",
       "2847                 0.911063                   0.768673        0.203309   \n",
       "1831                 0.719379                   0.734066        0.106732   \n",
       "1832                 0.993163                   0.993330        0.105495   \n",
       "\n",
       "      zone_probability  zone_flag  \n",
       "2845      3.206482e-13          0  \n",
       "2846      6.492129e-11          0  \n",
       "2847      1.000000e+00          1  \n",
       "1831      1.000000e+00          1  \n",
       "1832      7.825182e-11          0  \n",
       "\n",
       "[5 rows x 37 columns]"
      ]
     },
     "execution_count": 187,
     "metadata": {},
     "output_type": "execute_result"
    }
   ],
   "source": [
    "pass_attempt_df[(pass_attempt_df[\"gameId\"] == 2018091001) & (pass_attempt_df[\"playId\"] == 3175)]"
   ]
  },
  {
   "cell_type": "code",
   "execution_count": 188,
   "metadata": {},
   "outputs": [
    {
     "data": {
      "text/html": [
       "<div>\n",
       "<style scoped>\n",
       "    .dataframe tbody tr th:only-of-type {\n",
       "        vertical-align: middle;\n",
       "    }\n",
       "\n",
       "    .dataframe tbody tr th {\n",
       "        vertical-align: top;\n",
       "    }\n",
       "\n",
       "    .dataframe thead th {\n",
       "        text-align: right;\n",
       "    }\n",
       "</style>\n",
       "<table border=\"1\" class=\"dataframe\">\n",
       "  <thead>\n",
       "    <tr style=\"text-align: right;\">\n",
       "      <th></th>\n",
       "      <th>displayName</th>\n",
       "      <th>off_mean_time_0</th>\n",
       "      <th>off_mean_time_0_1</th>\n",
       "      <th>off_mean_time_1</th>\n",
       "      <th>off_mean_time_1_2</th>\n",
       "      <th>off_mean_time_2</th>\n",
       "    </tr>\n",
       "  </thead>\n",
       "  <tbody>\n",
       "    <tr>\n",
       "      <th>2845</th>\n",
       "      <td>Dominique Rodgers-Cromartie</td>\n",
       "      <td>7.798373</td>\n",
       "      <td>6.844617</td>\n",
       "      <td>6.491374</td>\n",
       "      <td>5.734336</td>\n",
       "      <td>2.327666</td>\n",
       "    </tr>\n",
       "    <tr>\n",
       "      <th>2846</th>\n",
       "      <td>Leon Hall</td>\n",
       "      <td>3.834059</td>\n",
       "      <td>3.626730</td>\n",
       "      <td>3.549941</td>\n",
       "      <td>3.489269</td>\n",
       "      <td>3.216243</td>\n",
       "    </tr>\n",
       "    <tr>\n",
       "      <th>2847</th>\n",
       "      <td>Gareon Conley</td>\n",
       "      <td>6.413693</td>\n",
       "      <td>4.712647</td>\n",
       "      <td>4.082630</td>\n",
       "      <td>3.528868</td>\n",
       "      <td>1.036941</td>\n",
       "    </tr>\n",
       "    <tr>\n",
       "      <th>1831</th>\n",
       "      <td>Marcus Gilchrist</td>\n",
       "      <td>8.756698</td>\n",
       "      <td>5.904875</td>\n",
       "      <td>4.848645</td>\n",
       "      <td>4.479064</td>\n",
       "      <td>2.815952</td>\n",
       "    </tr>\n",
       "    <tr>\n",
       "      <th>1832</th>\n",
       "      <td>Reggie Nelson</td>\n",
       "      <td>8.323294</td>\n",
       "      <td>9.072465</td>\n",
       "      <td>9.349936</td>\n",
       "      <td>9.367771</td>\n",
       "      <td>9.448030</td>\n",
       "    </tr>\n",
       "  </tbody>\n",
       "</table>\n",
       "</div>"
      ],
      "text/plain": [
       "                      displayName  off_mean_time_0  off_mean_time_0_1  \\\n",
       "2845  Dominique Rodgers-Cromartie         7.798373           6.844617   \n",
       "2846                    Leon Hall         3.834059           3.626730   \n",
       "2847                Gareon Conley         6.413693           4.712647   \n",
       "1831             Marcus Gilchrist         8.756698           5.904875   \n",
       "1832                Reggie Nelson         8.323294           9.072465   \n",
       "\n",
       "      off_mean_time_1  off_mean_time_1_2  off_mean_time_2  \n",
       "2845         6.491374           5.734336         2.327666  \n",
       "2846         3.549941           3.489269         3.216243  \n",
       "2847         4.082630           3.528868         1.036941  \n",
       "1831         4.848645           4.479064         2.815952  \n",
       "1832         9.349936           9.367771         9.448030  "
      ]
     },
     "execution_count": 188,
     "metadata": {},
     "output_type": "execute_result"
    }
   ],
   "source": [
    "pass_attempt_df[(pass_attempt_df[\"gameId\"] == 2018091001) & (pass_attempt_df[\"playId\"] == 3175)][[\"displayName\"] + \\\n",
    "                            list(pass_attempt_df.columns[['off_mean' in x for x in pass_attempt_df.columns]])]"
   ]
  },
  {
   "cell_type": "markdown",
   "metadata": {},
   "source": [
    "# Repeating for Sack Plays!"
   ]
  },
  {
   "cell_type": "code",
   "execution_count": 135,
   "metadata": {
    "collapsed": true
   },
   "outputs": [],
   "source": [
    "filter_col = [col for col in sacks_df if not '_o_' in col]\n",
    "sacks_df = sacks_df[filter_col]"
   ]
  },
  {
   "cell_type": "code",
   "execution_count": 136,
   "metadata": {
    "collapsed": true
   },
   "outputs": [],
   "source": [
    "filter_col = [col for col in sacks_df if not 'facing' in col]\n",
    "sacks_df = sacks_df[filter_col]"
   ]
  },
  {
   "cell_type": "code",
   "execution_count": 137,
   "metadata": {
    "collapsed": true
   },
   "outputs": [],
   "source": [
    "filter_col = [col for col in sacks_df if not 'var_y' in col]\n",
    "sacks_df = sacks_df[filter_col]"
   ]
  },
  {
   "cell_type": "code",
   "execution_count": 138,
   "metadata": {
    "collapsed": true
   },
   "outputs": [],
   "source": [
    "filter_col = [col for col in sacks_df if not 'var_x' in col]\n",
    "sacks_df = sacks_df[filter_col]"
   ]
  },
  {
   "cell_type": "code",
   "execution_count": 139,
   "metadata": {
    "collapsed": true
   },
   "outputs": [],
   "source": [
    "filter_col = [col for col in sacks_df if not 'def_mean_time_0' in col]\n",
    "sacks_df = sacks_df[filter_col]"
   ]
  },
  {
   "cell_type": "code",
   "execution_count": 140,
   "metadata": {
    "collapsed": true
   },
   "outputs": [],
   "source": [
    "filter_col = [col for col in sacks_df if not 'def' in col]\n",
    "sacks_df = sacks_df[filter_col]"
   ]
  },
  {
   "cell_type": "code",
   "execution_count": 141,
   "metadata": {
    "collapsed": true
   },
   "outputs": [],
   "source": [
    "filter_col = [col for col in sacks_df if not 'def_var_time_0' in col]\n",
    "sacks_df = sacks_df[filter_col]"
   ]
  },
  {
   "cell_type": "code",
   "execution_count": 142,
   "metadata": {},
   "outputs": [
    {
     "data": {
      "text/plain": [
       "Index(['week', 'gameId', 'playId', 'nflId', 'displayName', 'position',\n",
       "       'speed_var_time_0', 'speed_var_time_0_1', 'speed_var_time_1',\n",
       "       'speed_mean_time_0', 'speed_mean_time_0_1', 'speed_mean_time_1',\n",
       "       'off_var_time_0', 'off_var_time_0_1', 'off_var_time_1',\n",
       "       'off_mean_time_0', 'off_mean_time_0_1', 'off_mean_time_1',\n",
       "       'off_dir_var_time_0', 'off_dir_var_time_0_1', 'off_dir_var_time_1',\n",
       "       'off_dir_mean_time_0', 'off_dir_mean_time_0_1', 'off_dir_mean_time_1',\n",
       "       'rat_mean_time_0', 'rat_mean_time_0_1', 'rat_mean_time_1',\n",
       "       'rat_var_time_0', 'rat_var_time_0_1', 'rat_var_time_1', 'cor_x_time_0',\n",
       "       'cor_x_time_0_1', 'cor_x_time_1', 'cor_y_time_0', 'cor_y_time_0_1',\n",
       "       'cor_y_time_1', 'cor_s_time_0', 'cor_s_time_0_1', 'cor_s_time_1',\n",
       "       'cor_avg_x_y_time_0', 'cor_avg_x_y_time_0_1', 'cor_avg_x_y_time_1',\n",
       "       'cor_rot_best_x_time_0', 'cor_rot_best_x_time_0_1',\n",
       "       'cor_rot_best_x_time_1', 'cor_rot_best_y_time_0',\n",
       "       'cor_rot_best_y_time_0_1', 'cor_rot_best_y_time_1',\n",
       "       'cor_rot_best_x_y_time_0', 'cor_rot_best_x_y_time_0_1',\n",
       "       'cor_rot_best_x_y_time_1', 'ratio_ball_snap', 'ratio_qb_sack',\n",
       "       'cb_off_dir_diff_ball_snap', 'cb_off_dir_diff_qb_sack',\n",
       "       'cb_off_dist_ball_snap', 'cb_off_dist_qb_sack', 'best_cor_x_time_0',\n",
       "       'best_cor_x_time_0_1', 'best_cor_x_time_1', 'best_cor_y_time_0',\n",
       "       'best_cor_y_time_0_1', 'best_cor_y_time_1', 'best_cor_x_y_avg_time_0',\n",
       "       'best_cor_x_y_avg_time_0_1', 'best_cor_x_y_avg_time_1'],\n",
       "      dtype='object')"
      ]
     },
     "execution_count": 142,
     "metadata": {},
     "output_type": "execute_result"
    }
   ],
   "source": [
    "sacks_df.columns"
   ]
  },
  {
   "cell_type": "code",
   "execution_count": 143,
   "metadata": {
    "collapsed": true
   },
   "outputs": [],
   "source": [
    "filter_col = [col for col in sacks_df if not (('cor' in col) and ('best' not in col) and ('s' not in col))]\n",
    "sacks_df = sacks_df[filter_col]"
   ]
  },
  {
   "cell_type": "code",
   "execution_count": 144,
   "metadata": {
    "collapsed": true
   },
   "outputs": [],
   "source": [
    "filter_col = [col for col in sacks_df if not (('cor_rot' in col))]\n",
    "sacks_df = sacks_df[filter_col]"
   ]
  },
  {
   "cell_type": "code",
   "execution_count": 145,
   "metadata": {
    "collapsed": true
   },
   "outputs": [],
   "source": [
    "filter_col = [col for col in sacks_df if not (('cor' in col) and ('time_0' in col))]\n",
    "sacks_df = sacks_df[filter_col]"
   ]
  },
  {
   "cell_type": "code",
   "execution_count": 146,
   "metadata": {
    "collapsed": true
   },
   "outputs": [],
   "source": [
    "filter_col = [col for col in sacks_df if not (('cor' in col) and ('time_2' in col))]\n",
    "sacks_df = sacks_df[filter_col]"
   ]
  },
  {
   "cell_type": "code",
   "execution_count": 147,
   "metadata": {
    "collapsed": true
   },
   "outputs": [],
   "source": [
    "filter_col = [col for col in sacks_df if not 'off_dir_var_time_0' in col]\n",
    "sacks_df = sacks_df[filter_col]"
   ]
  },
  {
   "cell_type": "code",
   "execution_count": 148,
   "metadata": {
    "collapsed": true
   },
   "outputs": [],
   "source": [
    "filter_col = [col for col in sacks_df if not 'speed' in col]\n",
    "sacks_df = sacks_df[filter_col]"
   ]
  },
  {
   "cell_type": "code",
   "execution_count": 149,
   "metadata": {
    "collapsed": true
   },
   "outputs": [],
   "source": [
    "sacks_df = sacks_df.drop(['cb_off_dir_diff_ball_snap', 'cb_off_dist_ball_snap',\n",
    "                                       'off_dir_mean_time_0'\n",
    "                                       ], axis = 1)"
   ]
  },
  {
   "cell_type": "code",
   "execution_count": 150,
   "metadata": {
    "collapsed": true
   },
   "outputs": [],
   "source": [
    "filter_col = [col for col in sacks_df if (not 'rat' in col)|('ratio_pass_forward' in col)]\n",
    "sacks_df = sacks_df[filter_col]"
   ]
  },
  {
   "cell_type": "code",
   "execution_count": 151,
   "metadata": {
    "collapsed": true
   },
   "outputs": [],
   "source": [
    "filter_col = [col for col in sacks_df if (not '2' in col)]\n",
    "sacks_df = sacks_df[filter_col]"
   ]
  },
  {
   "cell_type": "code",
   "execution_count": 152,
   "metadata": {},
   "outputs": [
    {
     "data": {
      "text/plain": [
       "Index(['week', 'gameId', 'playId', 'nflId', 'displayName', 'position',\n",
       "       'off_var_time_0', 'off_var_time_0_1', 'off_var_time_1',\n",
       "       'off_mean_time_0', 'off_mean_time_0_1', 'off_mean_time_1',\n",
       "       'off_dir_var_time_1', 'off_dir_mean_time_0_1', 'off_dir_mean_time_1',\n",
       "       'cor_s_time_1', 'cb_off_dir_diff_qb_sack', 'cb_off_dist_qb_sack',\n",
       "       'best_cor_x_time_1', 'best_cor_y_time_1', 'best_cor_x_y_avg_time_1'],\n",
       "      dtype='object')"
      ]
     },
     "execution_count": 152,
     "metadata": {},
     "output_type": "execute_result"
    }
   ],
   "source": [
    "sacks_df.columns"
   ]
  },
  {
   "cell_type": "code",
   "execution_count": 153,
   "metadata": {},
   "outputs": [],
   "source": [
    "sacks_df[\"cor_dist_inter\"] = (sacks_df[\"best_cor_x_y_avg_time_1\"]**2)/sacks_df[\"off_mean_time_1\"]\n",
    "sacks_df[\"cor_dist_inter\"] = sacks_df[\"cor_dist_inter\"].fillna(0)\n",
    "sacks_df[\"cor_dist_inter\"] = sacks_df[\"cor_dist_inter\"].replace([np.inf], \\\n",
    "                np.percentile(np.array(sacks_df[\"cor_dist_inter\"]), 99))\n",
    "sacks_df[\"cor_dist_inter\"] = sacks_df[\"cor_dist_inter\"].replace([-np.inf], \\\n",
    "                np.percentile(np.array(sacks_df[\"cor_dist_inter\"]), 1))"
   ]
  },
  {
   "cell_type": "code",
   "execution_count": 154,
   "metadata": {},
   "outputs": [
    {
     "data": {
      "text/html": [
       "<div>\n",
       "<style scoped>\n",
       "    .dataframe tbody tr th:only-of-type {\n",
       "        vertical-align: middle;\n",
       "    }\n",
       "\n",
       "    .dataframe tbody tr th {\n",
       "        vertical-align: top;\n",
       "    }\n",
       "\n",
       "    .dataframe thead th {\n",
       "        text-align: right;\n",
       "    }\n",
       "</style>\n",
       "<table border=\"1\" class=\"dataframe\">\n",
       "  <thead>\n",
       "    <tr style=\"text-align: right;\">\n",
       "      <th></th>\n",
       "      <th>week</th>\n",
       "      <th>gameId</th>\n",
       "      <th>playId</th>\n",
       "      <th>nflId</th>\n",
       "      <th>displayName</th>\n",
       "      <th>position</th>\n",
       "      <th>off_var_time_0</th>\n",
       "      <th>off_var_time_0_1</th>\n",
       "      <th>off_var_time_1</th>\n",
       "      <th>off_mean_time_0</th>\n",
       "      <th>...</th>\n",
       "      <th>off_dir_var_time_1</th>\n",
       "      <th>off_dir_mean_time_0_1</th>\n",
       "      <th>off_dir_mean_time_1</th>\n",
       "      <th>cor_s_time_1</th>\n",
       "      <th>cb_off_dir_diff_qb_sack</th>\n",
       "      <th>cb_off_dist_qb_sack</th>\n",
       "      <th>best_cor_x_time_1</th>\n",
       "      <th>best_cor_y_time_1</th>\n",
       "      <th>best_cor_x_y_avg_time_1</th>\n",
       "      <th>cor_dist_inter</th>\n",
       "    </tr>\n",
       "  </thead>\n",
       "  <tbody>\n",
       "    <tr>\n",
       "      <th>0</th>\n",
       "      <td>1</td>\n",
       "      <td>2018090600</td>\n",
       "      <td>776</td>\n",
       "      <td>2539334</td>\n",
       "      <td>Desmond Trufant</td>\n",
       "      <td>CB</td>\n",
       "      <td>0.000389</td>\n",
       "      <td>4.718561</td>\n",
       "      <td>5.473382</td>\n",
       "      <td>4.771215</td>\n",
       "      <td>...</td>\n",
       "      <td>514.650934</td>\n",
       "      <td>25.521875</td>\n",
       "      <td>17.195263</td>\n",
       "      <td>0.802340</td>\n",
       "      <td>37.12</td>\n",
       "      <td>11.512224</td>\n",
       "      <td>0.999221</td>\n",
       "      <td>0.993155</td>\n",
       "      <td>0.996188</td>\n",
       "      <td>0.156758</td>\n",
       "    </tr>\n",
       "    <tr>\n",
       "      <th>1</th>\n",
       "      <td>1</td>\n",
       "      <td>2018090600</td>\n",
       "      <td>776</td>\n",
       "      <td>2539653</td>\n",
       "      <td>Robert Alford</td>\n",
       "      <td>CB</td>\n",
       "      <td>0.000083</td>\n",
       "      <td>0.345370</td>\n",
       "      <td>0.251381</td>\n",
       "      <td>1.983317</td>\n",
       "      <td>...</td>\n",
       "      <td>236.038134</td>\n",
       "      <td>43.825208</td>\n",
       "      <td>13.468158</td>\n",
       "      <td>0.865475</td>\n",
       "      <td>21.84</td>\n",
       "      <td>0.890505</td>\n",
       "      <td>0.994428</td>\n",
       "      <td>0.981624</td>\n",
       "      <td>0.988026</td>\n",
       "      <td>0.931778</td>\n",
       "    </tr>\n",
       "    <tr>\n",
       "      <th>2</th>\n",
       "      <td>1</td>\n",
       "      <td>2018090600</td>\n",
       "      <td>776</td>\n",
       "      <td>2556445</td>\n",
       "      <td>Brian Poole</td>\n",
       "      <td>CB</td>\n",
       "      <td>0.001125</td>\n",
       "      <td>1.863231</td>\n",
       "      <td>2.358963</td>\n",
       "      <td>2.334981</td>\n",
       "      <td>...</td>\n",
       "      <td>2865.377275</td>\n",
       "      <td>75.475417</td>\n",
       "      <td>70.152895</td>\n",
       "      <td>0.044042</td>\n",
       "      <td>9.75</td>\n",
       "      <td>0.241868</td>\n",
       "      <td>0.949788</td>\n",
       "      <td>0.783449</td>\n",
       "      <td>0.866618</td>\n",
       "      <td>0.349824</td>\n",
       "    </tr>\n",
       "    <tr>\n",
       "      <th>3</th>\n",
       "      <td>1</td>\n",
       "      <td>2018090600</td>\n",
       "      <td>839</td>\n",
       "      <td>2539334</td>\n",
       "      <td>Desmond Trufant</td>\n",
       "      <td>CB</td>\n",
       "      <td>0.019996</td>\n",
       "      <td>1.094198</td>\n",
       "      <td>1.178080</td>\n",
       "      <td>6.975783</td>\n",
       "      <td>...</td>\n",
       "      <td>52.918508</td>\n",
       "      <td>10.355593</td>\n",
       "      <td>7.144286</td>\n",
       "      <td>0.874752</td>\n",
       "      <td>4.38</td>\n",
       "      <td>4.687057</td>\n",
       "      <td>0.997203</td>\n",
       "      <td>0.996352</td>\n",
       "      <td>0.996778</td>\n",
       "      <td>0.163544</td>\n",
       "    </tr>\n",
       "    <tr>\n",
       "      <th>4</th>\n",
       "      <td>1</td>\n",
       "      <td>2018090600</td>\n",
       "      <td>839</td>\n",
       "      <td>2539653</td>\n",
       "      <td>Robert Alford</td>\n",
       "      <td>CB</td>\n",
       "      <td>0.000035</td>\n",
       "      <td>7.452315</td>\n",
       "      <td>8.463855</td>\n",
       "      <td>2.132386</td>\n",
       "      <td>...</td>\n",
       "      <td>530.482807</td>\n",
       "      <td>38.213051</td>\n",
       "      <td>41.381837</td>\n",
       "      <td>0.953466</td>\n",
       "      <td>11.56</td>\n",
       "      <td>1.568949</td>\n",
       "      <td>0.788554</td>\n",
       "      <td>0.750077</td>\n",
       "      <td>0.769315</td>\n",
       "      <td>0.151729</td>\n",
       "    </tr>\n",
       "    <tr>\n",
       "      <th>5</th>\n",
       "      <td>1</td>\n",
       "      <td>2018090600</td>\n",
       "      <td>839</td>\n",
       "      <td>2556445</td>\n",
       "      <td>Brian Poole</td>\n",
       "      <td>CB</td>\n",
       "      <td>0.080615</td>\n",
       "      <td>1.350028</td>\n",
       "      <td>1.574009</td>\n",
       "      <td>6.138672</td>\n",
       "      <td>...</td>\n",
       "      <td>3075.144862</td>\n",
       "      <td>52.003220</td>\n",
       "      <td>48.922041</td>\n",
       "      <td>0.116535</td>\n",
       "      <td>115.44</td>\n",
       "      <td>5.015117</td>\n",
       "      <td>0.922971</td>\n",
       "      <td>0.888392</td>\n",
       "      <td>0.905682</td>\n",
       "      <td>0.145306</td>\n",
       "    </tr>\n",
       "    <tr>\n",
       "      <th>6</th>\n",
       "      <td>1</td>\n",
       "      <td>2018090600</td>\n",
       "      <td>1568</td>\n",
       "      <td>2552689</td>\n",
       "      <td>Ronald Darby</td>\n",
       "      <td>CB</td>\n",
       "      <td>0.000058</td>\n",
       "      <td>10.208990</td>\n",
       "      <td>8.961597</td>\n",
       "      <td>9.037849</td>\n",
       "      <td>...</td>\n",
       "      <td>67.413851</td>\n",
       "      <td>7.592000</td>\n",
       "      <td>8.275500</td>\n",
       "      <td>0.894654</td>\n",
       "      <td>8.67</td>\n",
       "      <td>1.552192</td>\n",
       "      <td>0.994436</td>\n",
       "      <td>0.856548</td>\n",
       "      <td>0.925492</td>\n",
       "      <td>0.182354</td>\n",
       "    </tr>\n",
       "    <tr>\n",
       "      <th>7</th>\n",
       "      <td>1</td>\n",
       "      <td>2018090600</td>\n",
       "      <td>1568</td>\n",
       "      <td>2555383</td>\n",
       "      <td>Jalen Mills</td>\n",
       "      <td>CB</td>\n",
       "      <td>0.038938</td>\n",
       "      <td>2.510159</td>\n",
       "      <td>1.547464</td>\n",
       "      <td>4.623992</td>\n",
       "      <td>...</td>\n",
       "      <td>2037.377201</td>\n",
       "      <td>25.163000</td>\n",
       "      <td>26.567000</td>\n",
       "      <td>0.876558</td>\n",
       "      <td>9.47</td>\n",
       "      <td>0.889550</td>\n",
       "      <td>0.980798</td>\n",
       "      <td>0.990751</td>\n",
       "      <td>0.985775</td>\n",
       "      <td>0.530008</td>\n",
       "    </tr>\n",
       "    <tr>\n",
       "      <th>8</th>\n",
       "      <td>1</td>\n",
       "      <td>2018090600</td>\n",
       "      <td>1568</td>\n",
       "      <td>2557958</td>\n",
       "      <td>Sidney Jones</td>\n",
       "      <td>CB</td>\n",
       "      <td>0.482190</td>\n",
       "      <td>0.753213</td>\n",
       "      <td>0.523905</td>\n",
       "      <td>3.230003</td>\n",
       "      <td>...</td>\n",
       "      <td>425.069416</td>\n",
       "      <td>17.476200</td>\n",
       "      <td>11.718000</td>\n",
       "      <td>0.975121</td>\n",
       "      <td>4.31</td>\n",
       "      <td>1.185116</td>\n",
       "      <td>0.981283</td>\n",
       "      <td>0.999108</td>\n",
       "      <td>0.990195</td>\n",
       "      <td>0.490645</td>\n",
       "    </tr>\n",
       "    <tr>\n",
       "      <th>9</th>\n",
       "      <td>1</td>\n",
       "      <td>2018090600</td>\n",
       "      <td>3815</td>\n",
       "      <td>2552689</td>\n",
       "      <td>Ronald Darby</td>\n",
       "      <td>CB</td>\n",
       "      <td>0.000051</td>\n",
       "      <td>9.803451</td>\n",
       "      <td>8.094433</td>\n",
       "      <td>11.349277</td>\n",
       "      <td>...</td>\n",
       "      <td>282.765748</td>\n",
       "      <td>18.388113</td>\n",
       "      <td>20.316279</td>\n",
       "      <td>0.880891</td>\n",
       "      <td>6.99</td>\n",
       "      <td>4.393290</td>\n",
       "      <td>0.990762</td>\n",
       "      <td>0.904859</td>\n",
       "      <td>0.947810</td>\n",
       "      <td>0.132611</td>\n",
       "    </tr>\n",
       "  </tbody>\n",
       "</table>\n",
       "<p>10 rows × 22 columns</p>\n",
       "</div>"
      ],
      "text/plain": [
       "   week      gameId  playId    nflId      displayName position  \\\n",
       "0     1  2018090600     776  2539334  Desmond Trufant       CB   \n",
       "1     1  2018090600     776  2539653    Robert Alford       CB   \n",
       "2     1  2018090600     776  2556445      Brian Poole       CB   \n",
       "3     1  2018090600     839  2539334  Desmond Trufant       CB   \n",
       "4     1  2018090600     839  2539653    Robert Alford       CB   \n",
       "5     1  2018090600     839  2556445      Brian Poole       CB   \n",
       "6     1  2018090600    1568  2552689     Ronald Darby       CB   \n",
       "7     1  2018090600    1568  2555383      Jalen Mills       CB   \n",
       "8     1  2018090600    1568  2557958     Sidney Jones       CB   \n",
       "9     1  2018090600    3815  2552689     Ronald Darby       CB   \n",
       "\n",
       "   off_var_time_0  off_var_time_0_1  off_var_time_1  off_mean_time_0  ...  \\\n",
       "0        0.000389          4.718561        5.473382         4.771215  ...   \n",
       "1        0.000083          0.345370        0.251381         1.983317  ...   \n",
       "2        0.001125          1.863231        2.358963         2.334981  ...   \n",
       "3        0.019996          1.094198        1.178080         6.975783  ...   \n",
       "4        0.000035          7.452315        8.463855         2.132386  ...   \n",
       "5        0.080615          1.350028        1.574009         6.138672  ...   \n",
       "6        0.000058         10.208990        8.961597         9.037849  ...   \n",
       "7        0.038938          2.510159        1.547464         4.623992  ...   \n",
       "8        0.482190          0.753213        0.523905         3.230003  ...   \n",
       "9        0.000051          9.803451        8.094433        11.349277  ...   \n",
       "\n",
       "   off_dir_var_time_1  off_dir_mean_time_0_1  off_dir_mean_time_1  \\\n",
       "0          514.650934              25.521875            17.195263   \n",
       "1          236.038134              43.825208            13.468158   \n",
       "2         2865.377275              75.475417            70.152895   \n",
       "3           52.918508              10.355593             7.144286   \n",
       "4          530.482807              38.213051            41.381837   \n",
       "5         3075.144862              52.003220            48.922041   \n",
       "6           67.413851               7.592000             8.275500   \n",
       "7         2037.377201              25.163000            26.567000   \n",
       "8          425.069416              17.476200            11.718000   \n",
       "9          282.765748              18.388113            20.316279   \n",
       "\n",
       "   cor_s_time_1  cb_off_dir_diff_qb_sack  cb_off_dist_qb_sack  \\\n",
       "0      0.802340                    37.12            11.512224   \n",
       "1      0.865475                    21.84             0.890505   \n",
       "2      0.044042                     9.75             0.241868   \n",
       "3      0.874752                     4.38             4.687057   \n",
       "4      0.953466                    11.56             1.568949   \n",
       "5      0.116535                   115.44             5.015117   \n",
       "6      0.894654                     8.67             1.552192   \n",
       "7      0.876558                     9.47             0.889550   \n",
       "8      0.975121                     4.31             1.185116   \n",
       "9      0.880891                     6.99             4.393290   \n",
       "\n",
       "   best_cor_x_time_1  best_cor_y_time_1  best_cor_x_y_avg_time_1  \\\n",
       "0           0.999221           0.993155                 0.996188   \n",
       "1           0.994428           0.981624                 0.988026   \n",
       "2           0.949788           0.783449                 0.866618   \n",
       "3           0.997203           0.996352                 0.996778   \n",
       "4           0.788554           0.750077                 0.769315   \n",
       "5           0.922971           0.888392                 0.905682   \n",
       "6           0.994436           0.856548                 0.925492   \n",
       "7           0.980798           0.990751                 0.985775   \n",
       "8           0.981283           0.999108                 0.990195   \n",
       "9           0.990762           0.904859                 0.947810   \n",
       "\n",
       "   cor_dist_inter  \n",
       "0        0.156758  \n",
       "1        0.931778  \n",
       "2        0.349824  \n",
       "3        0.163544  \n",
       "4        0.151729  \n",
       "5        0.145306  \n",
       "6        0.182354  \n",
       "7        0.530008  \n",
       "8        0.490645  \n",
       "9        0.132611  \n",
       "\n",
       "[10 rows x 22 columns]"
      ]
     },
     "execution_count": 154,
     "metadata": {},
     "output_type": "execute_result"
    }
   ],
   "source": [
    "sacks_df.head(10)"
   ]
  },
  {
   "cell_type": "code",
   "execution_count": 155,
   "metadata": {},
   "outputs": [
    {
     "data": {
      "text/plain": [
       "Index(['week', 'gameId', 'playId', 'nflId', 'displayName', 'position',\n",
       "       'off_var_time_0', 'off_var_time_0_1', 'off_var_time_1',\n",
       "       'off_mean_time_0', 'off_mean_time_0_1', 'off_mean_time_1',\n",
       "       'off_dir_var_time_1', 'off_dir_mean_time_0_1', 'off_dir_mean_time_1',\n",
       "       'cor_s_time_1', 'cb_off_dir_diff_qb_sack', 'cb_off_dist_qb_sack',\n",
       "       'best_cor_x_time_1', 'best_cor_y_time_1', 'best_cor_x_y_avg_time_1',\n",
       "       'cor_dist_inter'],\n",
       "      dtype='object')"
      ]
     },
     "execution_count": 155,
     "metadata": {},
     "output_type": "execute_result"
    }
   ],
   "source": [
    "sacks_df.columns"
   ]
  },
  {
   "cell_type": "markdown",
   "metadata": {},
   "source": [
    "### Preparing Train/Test Groups"
   ]
  },
  {
   "cell_type": "code",
   "execution_count": 157,
   "metadata": {
    "collapsed": true
   },
   "outputs": [],
   "source": [
    "weeks_exclude = [1, 2, 3]\n",
    "train = sacks_df[[x not in weeks_exclude for x in list(sacks_df[\"week\"])]]\n",
    "test = sacks_df[[x in weeks_exclude for x in list(sacks_df[\"week\"])]]"
   ]
  },
  {
   "cell_type": "code",
   "execution_count": 158,
   "metadata": {
    "collapsed": true
   },
   "outputs": [],
   "source": [
    "X_train = train.drop(['week', 'gameId','playId','nflId','displayName','position'], axis = 1)\n",
    "X_test = test.drop(['week', 'gameId','playId','nflId','displayName','position'], axis = 1)"
   ]
  },
  {
   "cell_type": "code",
   "execution_count": 159,
   "metadata": {},
   "outputs": [
    {
     "name": "stdout",
     "output_type": "stream",
     "text": [
      "(5299, 16)\n",
      "(1158, 16)\n"
     ]
    }
   ],
   "source": [
    "print(X_train.shape)\n",
    "print(X_test.shape)"
   ]
  },
  {
   "cell_type": "markdown",
   "metadata": {},
   "source": [
    "### Fitting GMM Model"
   ]
  },
  {
   "cell_type": "code",
   "execution_count": 160,
   "metadata": {
    "collapsed": true
   },
   "outputs": [],
   "source": [
    "# train\n",
    "clf_train = mixture.GaussianMixture(n_components=2, covariance_type='full')\n",
    "f_train = clf_train.fit(X_train)"
   ]
  },
  {
   "cell_type": "code",
   "execution_count": 161,
   "metadata": {},
   "outputs": [],
   "source": [
    "# test\n",
    "clf_test = mixture.GaussianMixture(n_components=2, covariance_type='full')\n",
    "f_test = clf_test.fit(X_test)"
   ]
  },
  {
   "cell_type": "markdown",
   "metadata": {},
   "source": [
    "### Examining Cluster Results"
   ]
  },
  {
   "cell_type": "code",
   "execution_count": 162,
   "metadata": {
    "collapsed": true
   },
   "outputs": [],
   "source": [
    "def get_cluster_means(X, f):\n",
    "    cluster_means = {}\n",
    "    for iCnt in range(len(X.columns)):\n",
    "        cluster_means.update({X.columns[iCnt]:(f.means_[0][iCnt],f.means_[1][iCnt])})\n",
    "    return cluster_means"
   ]
  },
  {
   "cell_type": "code",
   "execution_count": 163,
   "metadata": {},
   "outputs": [
    {
     "data": {
      "text/plain": [
       "{'best_cor_x_time_1': (0.9842513077479108, 0.813459717214616),\n",
       " 'best_cor_x_y_avg_time_1': (0.9738719328130664, 0.7872809084903002),\n",
       " 'best_cor_y_time_1': (0.9634925578782222, 0.7611020997659843),\n",
       " 'cb_off_dir_diff_qb_sack': (25.95095449928021, 44.53918517862503),\n",
       " 'cb_off_dist_qb_sack': (3.8909293374693323, 5.744567628740114),\n",
       " 'cor_dist_inter': (0.327124464603143, 0.13447334851633508),\n",
       " 'cor_s_time_1': (0.8423122682158584, 0.6113688449664119),\n",
       " 'off_dir_mean_time_0_1': (37.01726211013094, 56.353838876974706),\n",
       " 'off_dir_mean_time_1': (25.279928598533576, 49.617015489372484),\n",
       " 'off_dir_var_time_1': (862.3792050531872, 1525.8460218453513),\n",
       " 'off_mean_time_0': (7.109644764793708, 10.128319841834271),\n",
       " 'off_mean_time_0_1': (5.446462107184088, 8.095030158248777),\n",
       " 'off_mean_time_1': (5.048038163742346, 7.633149970632556),\n",
       " 'off_var_time_0': (0.009954827352269961, 0.10522878992032562),\n",
       " 'off_var_time_0_1': (3.5945382877323695, 8.951022631968483),\n",
       " 'off_var_time_1': (3.2614158847979438, 8.308073603790756)}"
      ]
     },
     "execution_count": 163,
     "metadata": {},
     "output_type": "execute_result"
    }
   ],
   "source": [
    "get_cluster_means(X_train, f_train)"
   ]
  },
  {
   "cell_type": "markdown",
   "metadata": {
    "collapsed": true
   },
   "source": [
    "### Computing Rand Index"
   ]
  },
  {
   "cell_type": "code",
   "execution_count": 164,
   "metadata": {
    "collapsed": true
   },
   "outputs": [],
   "source": [
    "from sklearn.metrics import adjusted_rand_score"
   ]
  },
  {
   "cell_type": "code",
   "execution_count": 165,
   "metadata": {
    "collapsed": true
   },
   "outputs": [],
   "source": [
    "y_train = f_train.predict(X_test)\n",
    "y_test = f_test.predict(X_test)"
   ]
  },
  {
   "cell_type": "code",
   "execution_count": 166,
   "metadata": {},
   "outputs": [
    {
     "data": {
      "text/plain": [
       "0.5614735425569741"
      ]
     },
     "execution_count": 166,
     "metadata": {},
     "output_type": "execute_result"
    }
   ],
   "source": [
    "adjusted_rand_score(y_train, y_test)"
   ]
  },
  {
   "cell_type": "markdown",
   "metadata": {},
   "source": [
    "### Iterating Through To Get Cross-Validation Scores"
   ]
  },
  {
   "cell_type": "code",
   "execution_count": 167,
   "metadata": {
    "collapsed": true
   },
   "outputs": [],
   "source": [
    "weeks_exclude_vect = [[1,2,3],[4,5,6],[7,8,9],[10,11,12],[13,14,15],[15,16,17]]\n",
    "G_vect = [2, 3, 4, 5, 6, 7, 8, 9]\n",
    "rand_index_G_vect = []"
   ]
  },
  {
   "cell_type": "code",
   "execution_count": 168,
   "metadata": {
    "scrolled": true
   },
   "outputs": [
    {
     "name": "stdout",
     "output_type": "stream",
     "text": [
      "0.561473542556974\n",
      "0.5919062575596064\n",
      "0.30586623608636493\n",
      "0.24604490768222553\n",
      "0.27733097122708683\n",
      "0.3169831472245106\n",
      "0.3310993168172608\n",
      "0.29090753264663544\n"
     ]
    }
   ],
   "source": [
    "for G in G_vect:\n",
    "    rand_index_sum = 0\n",
    "    # iterating through the week groupings to leave out\n",
    "    for weeks_exclue in weeks_exclude_vect:\n",
    "        # creating train/test groups\n",
    "        train = sacks_df[[x not in weeks_exclude for x in list(sacks_df[\"week\"])]]\n",
    "        test = sacks_df[[x in weeks_exclude for x in list(sacks_df[\"week\"])]]\n",
    "\n",
    "        X_train = train.drop(['week', 'gameId','playId','nflId','displayName','position'], axis = 1)\n",
    "        X_test = test.drop(['week', 'gameId','playId','nflId','displayName','position'], axis = 1)\n",
    "\n",
    "        # train\n",
    "        clf_train = mixture.GaussianMixture(n_components=G, covariance_type='full', \n",
    "                                            n_init = 2, max_iter = 200)\n",
    "        f_train = clf_train.fit(X_train)\n",
    "\n",
    "        # test\n",
    "        clf_test = mixture.GaussianMixture(n_components=G, covariance_type='full',\n",
    "                                           n_init = 2, max_iter = 200)\n",
    "        f_test = clf_test.fit(X_test)\n",
    "\n",
    "        # classifying test group\n",
    "        y_train = f_train.predict(X_test)\n",
    "        y_test = f_test.predict(X_test)\n",
    "\n",
    "        # appling the adjusted rand index\n",
    "        rand_index_val = adjusted_rand_score(y_train, y_test)\n",
    "        rand_index_sum += rand_index_val\n",
    "\n",
    "    rand_index = rand_index_sum/len(weeks_exclude_vect)\n",
    "    \n",
    "    rand_index_G_vect.append(rand_index)\n",
    "    \n",
    "    print(rand_index)"
   ]
  },
  {
   "cell_type": "markdown",
   "metadata": {},
   "source": [
    "### Plot eliminating x/y var, speed, and def based variables, replacing Ratio with Cor"
   ]
  },
  {
   "cell_type": "code",
   "execution_count": 169,
   "metadata": {},
   "outputs": [
    {
     "data": {
      "image/png": "[encoded data removed]",
      "text/plain": [
       "<matplotlib.figure.Figure at 0x124312828>"
      ]
     },
     "metadata": {},
     "output_type": "display_data"
    }
   ],
   "source": [
    "plt.pyplot.figure(figsize=(10, 6))\n",
    "# plotting the results\n",
    "plt.pyplot.bar(x = G_vect,\n",
    "               height = rand_index_G_vect,\n",
    "               width = .55)\n",
    "plt.pyplot.xlabel('Number of Clusters ($G*$)')\n",
    "plt.pyplot.ylabel('ARI Score')\n",
    "plt.pyplot.ylim(0,1)\n",
    "plt.pyplot.title('ARI Score vs. Number of Clusters')\n",
    "plt.pyplot.show()"
   ]
  },
  {
   "cell_type": "markdown",
   "metadata": {},
   "source": [
    "### Feature Importance"
   ]
  },
  {
   "cell_type": "code",
   "execution_count": 170,
   "metadata": {
    "collapsed": true
   },
   "outputs": [],
   "source": [
    "import sys\n",
    "weeks_exclude_vect = [[1,2,3],[4,5,6],[7,8,9],[10,11,12],[13,14,15],[15,16,17]]\n",
    "feature_list = list(X_train.columns)\n",
    "rand_index_vect = []\n",
    "\n",
    "# making a waitbar\n",
    "toolbar_width = len(feature_list)"
   ]
  },
  {
   "cell_type": "code",
   "execution_count": 171,
   "metadata": {},
   "outputs": [
    {
     "name": "stdout",
     "output_type": "stream",
     "text": [
      "[                ----------------"
     ]
    }
   ],
   "source": [
    "sys.stdout.write(\"[%s]\" % (\" \" * toolbar_width))\n",
    "sys.stdout.flush()\n",
    "sys.stdout.write(\"\\b\" * (toolbar_width+1))\n",
    "\n",
    "for feature in feature_list:\n",
    "    \n",
    "    rand_index_sum = 0\n",
    "\n",
    "    # iterating through the week groupings to leave out\n",
    "    for weeks_exclue in weeks_exclude_vect:\n",
    "        # creating train/test groups\n",
    "        train = sacks_df[[x not in weeks_exclude for \\\n",
    "                                 x in list(sacks_df[\"week\"])]].drop([feature], axis = 1)\n",
    "        test = sacks_df[[x in weeks_exclude for \\\n",
    "                                x in list(sacks_df[\"week\"])]].drop([feature], axis = 1)\n",
    "\n",
    "        X_train = train.drop(['week', 'gameId','playId','nflId','displayName','position'], axis = 1)\n",
    "        X_test = test.drop(['week', 'gameId','playId','nflId','displayName','position'], axis = 1)\n",
    "\n",
    "        # train\n",
    "        clf_train = mixture.GaussianMixture(n_components=2, covariance_type='full')\n",
    "        f_train = clf_train.fit(X_train)\n",
    "\n",
    "        # test\n",
    "        clf_test = mixture.GaussianMixture(n_components=2, covariance_type='full')\n",
    "        f_test = clf_test.fit(X_test)\n",
    "\n",
    "        # classifying test group\n",
    "        y_train = f_train.predict(X_test)\n",
    "        y_test = f_test.predict(X_test)\n",
    "\n",
    "        # appling the adjusted rand index\n",
    "        rand_index_val = adjusted_rand_score(y_train, y_test)\n",
    "        rand_index_sum += rand_index_val\n",
    "\n",
    "    rand_index = rand_index_sum/len(weeks_exclude_vect)\n",
    "    \n",
    "    rand_index_vect.append(rand_index)\n",
    "    \n",
    "    sys.stdout.write(\"-\")\n",
    "    sys.stdout.flush()"
   ]
  },
  {
   "cell_type": "code",
   "execution_count": 172,
   "metadata": {
    "collapsed": true
   },
   "outputs": [],
   "source": [
    "d = {'feature': feature_list, 'delta_ARI': rand_index_G_vect[0] - np.array(rand_index_vect)}\n",
    "feature_imp_df = pd.DataFrame(data=d).sort_values('delta_ARI', ascending = False)\n",
    "feature_imp_df[\"base_feature\"] = [x.split('_pass_forward')[0] if \"pass_forward\" in x \\\n",
    "                                  else x.split('_ball_snap')[0] if \"ball_snap\" in x \\\n",
    "                                  else x.split('_time')[0] for x in np.array(feature_imp_df[\"feature\"])]\n",
    "feature_imp_df[\"time_period\"] = [\"Before Ball Thrown\" if \"pass_forward\" in x \\\n",
    "                                 else \"Before Ball Thrown\" if \"ball_snap\" in x \\\n",
    "                                 else \"After Ball Thrown\" if x.endswith(\"2\") \\\n",
    "                                 else \"Before Ball Thrown\" for x in np.array(feature_imp_df[\"feature\"])]\n",
    "feature_imp_df[\"feature\"] = [x.upper() for x in feature_imp_df[\"feature\"]]"
   ]
  },
  {
   "cell_type": "code",
   "execution_count": 173,
   "metadata": {},
   "outputs": [
    {
     "data": {
      "image/png": "[encoded data removed]",
      "text/plain": [
       "<matplotlib.figure.Figure at 0x123cc67b8>"
      ]
     },
     "metadata": {},
     "output_type": "display_data"
    }
   ],
   "source": [
    "plt.pyplot.figure(figsize=(7,7))\n",
    "\n",
    "sns.barplot(x=\"delta_ARI\", y=\"feature\", data=feature_imp_df.head(10).sort_values('delta_ARI', ascending = True),\n",
    "            hue = \"time_period\", dodge = False, palette = [\"red\", \"blue\"])\n",
    "plt.pyplot.gca().legend().set_title('')\n",
    "plt.pyplot.title('Change in ARI vs. Feature')\n",
    "plt.pyplot.ylabel('Feature Name')\n",
    "plt.pyplot.xlabel('Change In ARI')\n",
    "plt.pyplot.show()"
   ]
  },
  {
   "cell_type": "markdown",
   "metadata": {},
   "source": [
    "### Scoring All Plays"
   ]
  },
  {
   "cell_type": "code",
   "execution_count": 174,
   "metadata": {},
   "outputs": [
    {
     "data": {
      "text/html": [
       "<div>\n",
       "<style scoped>\n",
       "    .dataframe tbody tr th:only-of-type {\n",
       "        vertical-align: middle;\n",
       "    }\n",
       "\n",
       "    .dataframe tbody tr th {\n",
       "        vertical-align: top;\n",
       "    }\n",
       "\n",
       "    .dataframe thead th {\n",
       "        text-align: right;\n",
       "    }\n",
       "</style>\n",
       "<table border=\"1\" class=\"dataframe\">\n",
       "  <thead>\n",
       "    <tr style=\"text-align: right;\">\n",
       "      <th></th>\n",
       "      <th>week</th>\n",
       "      <th>gameId</th>\n",
       "      <th>playId</th>\n",
       "      <th>nflId</th>\n",
       "      <th>displayName</th>\n",
       "      <th>position</th>\n",
       "      <th>off_var_time_0</th>\n",
       "      <th>off_var_time_0_1</th>\n",
       "      <th>off_var_time_1</th>\n",
       "      <th>off_mean_time_0</th>\n",
       "      <th>...</th>\n",
       "      <th>off_dir_var_time_1</th>\n",
       "      <th>off_dir_mean_time_0_1</th>\n",
       "      <th>off_dir_mean_time_1</th>\n",
       "      <th>cor_s_time_1</th>\n",
       "      <th>cb_off_dir_diff_qb_sack</th>\n",
       "      <th>cb_off_dist_qb_sack</th>\n",
       "      <th>best_cor_x_time_1</th>\n",
       "      <th>best_cor_y_time_1</th>\n",
       "      <th>best_cor_x_y_avg_time_1</th>\n",
       "      <th>cor_dist_inter</th>\n",
       "    </tr>\n",
       "  </thead>\n",
       "  <tbody>\n",
       "    <tr>\n",
       "      <th>0</th>\n",
       "      <td>1</td>\n",
       "      <td>2018090600</td>\n",
       "      <td>776</td>\n",
       "      <td>2539334</td>\n",
       "      <td>Desmond Trufant</td>\n",
       "      <td>CB</td>\n",
       "      <td>0.000389</td>\n",
       "      <td>4.718561</td>\n",
       "      <td>5.473382</td>\n",
       "      <td>4.771215</td>\n",
       "      <td>...</td>\n",
       "      <td>514.650934</td>\n",
       "      <td>25.521875</td>\n",
       "      <td>17.195263</td>\n",
       "      <td>0.802340</td>\n",
       "      <td>37.12</td>\n",
       "      <td>11.512224</td>\n",
       "      <td>0.999221</td>\n",
       "      <td>0.993155</td>\n",
       "      <td>0.996188</td>\n",
       "      <td>0.156758</td>\n",
       "    </tr>\n",
       "    <tr>\n",
       "      <th>1</th>\n",
       "      <td>1</td>\n",
       "      <td>2018090600</td>\n",
       "      <td>776</td>\n",
       "      <td>2539653</td>\n",
       "      <td>Robert Alford</td>\n",
       "      <td>CB</td>\n",
       "      <td>0.000083</td>\n",
       "      <td>0.345370</td>\n",
       "      <td>0.251381</td>\n",
       "      <td>1.983317</td>\n",
       "      <td>...</td>\n",
       "      <td>236.038134</td>\n",
       "      <td>43.825208</td>\n",
       "      <td>13.468158</td>\n",
       "      <td>0.865475</td>\n",
       "      <td>21.84</td>\n",
       "      <td>0.890505</td>\n",
       "      <td>0.994428</td>\n",
       "      <td>0.981624</td>\n",
       "      <td>0.988026</td>\n",
       "      <td>0.931778</td>\n",
       "    </tr>\n",
       "    <tr>\n",
       "      <th>2</th>\n",
       "      <td>1</td>\n",
       "      <td>2018090600</td>\n",
       "      <td>776</td>\n",
       "      <td>2556445</td>\n",
       "      <td>Brian Poole</td>\n",
       "      <td>CB</td>\n",
       "      <td>0.001125</td>\n",
       "      <td>1.863231</td>\n",
       "      <td>2.358963</td>\n",
       "      <td>2.334981</td>\n",
       "      <td>...</td>\n",
       "      <td>2865.377275</td>\n",
       "      <td>75.475417</td>\n",
       "      <td>70.152895</td>\n",
       "      <td>0.044042</td>\n",
       "      <td>9.75</td>\n",
       "      <td>0.241868</td>\n",
       "      <td>0.949788</td>\n",
       "      <td>0.783449</td>\n",
       "      <td>0.866618</td>\n",
       "      <td>0.349824</td>\n",
       "    </tr>\n",
       "    <tr>\n",
       "      <th>3</th>\n",
       "      <td>1</td>\n",
       "      <td>2018090600</td>\n",
       "      <td>839</td>\n",
       "      <td>2539334</td>\n",
       "      <td>Desmond Trufant</td>\n",
       "      <td>CB</td>\n",
       "      <td>0.019996</td>\n",
       "      <td>1.094198</td>\n",
       "      <td>1.178080</td>\n",
       "      <td>6.975783</td>\n",
       "      <td>...</td>\n",
       "      <td>52.918508</td>\n",
       "      <td>10.355593</td>\n",
       "      <td>7.144286</td>\n",
       "      <td>0.874752</td>\n",
       "      <td>4.38</td>\n",
       "      <td>4.687057</td>\n",
       "      <td>0.997203</td>\n",
       "      <td>0.996352</td>\n",
       "      <td>0.996778</td>\n",
       "      <td>0.163544</td>\n",
       "    </tr>\n",
       "    <tr>\n",
       "      <th>4</th>\n",
       "      <td>1</td>\n",
       "      <td>2018090600</td>\n",
       "      <td>839</td>\n",
       "      <td>2539653</td>\n",
       "      <td>Robert Alford</td>\n",
       "      <td>CB</td>\n",
       "      <td>0.000035</td>\n",
       "      <td>7.452315</td>\n",
       "      <td>8.463855</td>\n",
       "      <td>2.132386</td>\n",
       "      <td>...</td>\n",
       "      <td>530.482807</td>\n",
       "      <td>38.213051</td>\n",
       "      <td>41.381837</td>\n",
       "      <td>0.953466</td>\n",
       "      <td>11.56</td>\n",
       "      <td>1.568949</td>\n",
       "      <td>0.788554</td>\n",
       "      <td>0.750077</td>\n",
       "      <td>0.769315</td>\n",
       "      <td>0.151729</td>\n",
       "    </tr>\n",
       "    <tr>\n",
       "      <th>...</th>\n",
       "      <td>...</td>\n",
       "      <td>...</td>\n",
       "      <td>...</td>\n",
       "      <td>...</td>\n",
       "      <td>...</td>\n",
       "      <td>...</td>\n",
       "      <td>...</td>\n",
       "      <td>...</td>\n",
       "      <td>...</td>\n",
       "      <td>...</td>\n",
       "      <td>...</td>\n",
       "      <td>...</td>\n",
       "      <td>...</td>\n",
       "      <td>...</td>\n",
       "      <td>...</td>\n",
       "      <td>...</td>\n",
       "      <td>...</td>\n",
       "      <td>...</td>\n",
       "      <td>...</td>\n",
       "      <td>...</td>\n",
       "      <td>...</td>\n",
       "    </tr>\n",
       "    <tr>\n",
       "      <th>2491</th>\n",
       "      <td>17</td>\n",
       "      <td>2018123015</td>\n",
       "      <td>3734</td>\n",
       "      <td>2495807</td>\n",
       "      <td>Antoine Bethea</td>\n",
       "      <td>FS</td>\n",
       "      <td>0.012140</td>\n",
       "      <td>3.566140</td>\n",
       "      <td>3.681929</td>\n",
       "      <td>8.620985</td>\n",
       "      <td>...</td>\n",
       "      <td>130.284765</td>\n",
       "      <td>45.588667</td>\n",
       "      <td>17.440000</td>\n",
       "      <td>0.959236</td>\n",
       "      <td>41.56</td>\n",
       "      <td>4.121019</td>\n",
       "      <td>0.998296</td>\n",
       "      <td>0.976304</td>\n",
       "      <td>0.987300</td>\n",
       "      <td>0.147583</td>\n",
       "    </tr>\n",
       "    <tr>\n",
       "      <th>2492</th>\n",
       "      <td>17</td>\n",
       "      <td>2018123015</td>\n",
       "      <td>3734</td>\n",
       "      <td>2543830</td>\n",
       "      <td>Tre Boston</td>\n",
       "      <td>FS</td>\n",
       "      <td>0.068163</td>\n",
       "      <td>4.024274</td>\n",
       "      <td>4.449628</td>\n",
       "      <td>7.473905</td>\n",
       "      <td>...</td>\n",
       "      <td>1362.584561</td>\n",
       "      <td>56.774000</td>\n",
       "      <td>44.654571</td>\n",
       "      <td>0.910430</td>\n",
       "      <td>18.32</td>\n",
       "      <td>14.767383</td>\n",
       "      <td>0.986064</td>\n",
       "      <td>0.647601</td>\n",
       "      <td>0.816832</td>\n",
       "      <td>0.071955</td>\n",
       "    </tr>\n",
       "    <tr>\n",
       "      <th>2493</th>\n",
       "      <td>17</td>\n",
       "      <td>2018123015</td>\n",
       "      <td>3734</td>\n",
       "      <td>2558009</td>\n",
       "      <td>Budda Baker</td>\n",
       "      <td>FS</td>\n",
       "      <td>0.004576</td>\n",
       "      <td>2.587151</td>\n",
       "      <td>3.336334</td>\n",
       "      <td>2.545003</td>\n",
       "      <td>...</td>\n",
       "      <td>622.998302</td>\n",
       "      <td>35.347333</td>\n",
       "      <td>36.604857</td>\n",
       "      <td>0.708743</td>\n",
       "      <td>110.09</td>\n",
       "      <td>8.273041</td>\n",
       "      <td>0.988237</td>\n",
       "      <td>0.888347</td>\n",
       "      <td>0.938292</td>\n",
       "      <td>0.319031</td>\n",
       "    </tr>\n",
       "    <tr>\n",
       "      <th>2494</th>\n",
       "      <td>17</td>\n",
       "      <td>2018123015</td>\n",
       "      <td>3932</td>\n",
       "      <td>2539243</td>\n",
       "      <td>Bradley McDougald</td>\n",
       "      <td>SS</td>\n",
       "      <td>0.000030</td>\n",
       "      <td>28.891813</td>\n",
       "      <td>27.140984</td>\n",
       "      <td>16.001915</td>\n",
       "      <td>...</td>\n",
       "      <td>225.475878</td>\n",
       "      <td>36.777895</td>\n",
       "      <td>19.352128</td>\n",
       "      <td>0.794200</td>\n",
       "      <td>23.76</td>\n",
       "      <td>0.908020</td>\n",
       "      <td>0.935466</td>\n",
       "      <td>0.985401</td>\n",
       "      <td>0.960433</td>\n",
       "      <td>0.099099</td>\n",
       "    </tr>\n",
       "    <tr>\n",
       "      <th>2495</th>\n",
       "      <td>17</td>\n",
       "      <td>2018123015</td>\n",
       "      <td>3932</td>\n",
       "      <td>2558077</td>\n",
       "      <td>Delano Hill</td>\n",
       "      <td>SS</td>\n",
       "      <td>0.001363</td>\n",
       "      <td>1.823731</td>\n",
       "      <td>1.951535</td>\n",
       "      <td>15.276480</td>\n",
       "      <td>...</td>\n",
       "      <td>716.900120</td>\n",
       "      <td>53.803158</td>\n",
       "      <td>54.931915</td>\n",
       "      <td>0.932431</td>\n",
       "      <td>38.57</td>\n",
       "      <td>15.710980</td>\n",
       "      <td>0.988655</td>\n",
       "      <td>0.873488</td>\n",
       "      <td>0.931072</td>\n",
       "      <td>0.052539</td>\n",
       "    </tr>\n",
       "  </tbody>\n",
       "</table>\n",
       "<p>6457 rows × 22 columns</p>\n",
       "</div>"
      ],
      "text/plain": [
       "      week      gameId  playId    nflId        displayName position  \\\n",
       "0        1  2018090600     776  2539334    Desmond Trufant       CB   \n",
       "1        1  2018090600     776  2539653      Robert Alford       CB   \n",
       "2        1  2018090600     776  2556445        Brian Poole       CB   \n",
       "3        1  2018090600     839  2539334    Desmond Trufant       CB   \n",
       "4        1  2018090600     839  2539653      Robert Alford       CB   \n",
       "...    ...         ...     ...      ...                ...      ...   \n",
       "2491    17  2018123015    3734  2495807     Antoine Bethea       FS   \n",
       "2492    17  2018123015    3734  2543830         Tre Boston       FS   \n",
       "2493    17  2018123015    3734  2558009        Budda Baker       FS   \n",
       "2494    17  2018123015    3932  2539243  Bradley McDougald       SS   \n",
       "2495    17  2018123015    3932  2558077        Delano Hill       SS   \n",
       "\n",
       "      off_var_time_0  off_var_time_0_1  off_var_time_1  off_mean_time_0  ...  \\\n",
       "0           0.000389          4.718561        5.473382         4.771215  ...   \n",
       "1           0.000083          0.345370        0.251381         1.983317  ...   \n",
       "2           0.001125          1.863231        2.358963         2.334981  ...   \n",
       "3           0.019996          1.094198        1.178080         6.975783  ...   \n",
       "4           0.000035          7.452315        8.463855         2.132386  ...   \n",
       "...              ...               ...             ...              ...  ...   \n",
       "2491        0.012140          3.566140        3.681929         8.620985  ...   \n",
       "2492        0.068163          4.024274        4.449628         7.473905  ...   \n",
       "2493        0.004576          2.587151        3.336334         2.545003  ...   \n",
       "2494        0.000030         28.891813       27.140984        16.001915  ...   \n",
       "2495        0.001363          1.823731        1.951535        15.276480  ...   \n",
       "\n",
       "      off_dir_var_time_1  off_dir_mean_time_0_1  off_dir_mean_time_1  \\\n",
       "0             514.650934              25.521875            17.195263   \n",
       "1             236.038134              43.825208            13.468158   \n",
       "2            2865.377275              75.475417            70.152895   \n",
       "3              52.918508              10.355593             7.144286   \n",
       "4             530.482807              38.213051            41.381837   \n",
       "...                  ...                    ...                  ...   \n",
       "2491          130.284765              45.588667            17.440000   \n",
       "2492         1362.584561              56.774000            44.654571   \n",
       "2493          622.998302              35.347333            36.604857   \n",
       "2494          225.475878              36.777895            19.352128   \n",
       "2495          716.900120              53.803158            54.931915   \n",
       "\n",
       "      cor_s_time_1  cb_off_dir_diff_qb_sack  cb_off_dist_qb_sack  \\\n",
       "0         0.802340                    37.12            11.512224   \n",
       "1         0.865475                    21.84             0.890505   \n",
       "2         0.044042                     9.75             0.241868   \n",
       "3         0.874752                     4.38             4.687057   \n",
       "4         0.953466                    11.56             1.568949   \n",
       "...            ...                      ...                  ...   \n",
       "2491      0.959236                    41.56             4.121019   \n",
       "2492      0.910430                    18.32            14.767383   \n",
       "2493      0.708743                   110.09             8.273041   \n",
       "2494      0.794200                    23.76             0.908020   \n",
       "2495      0.932431                    38.57            15.710980   \n",
       "\n",
       "      best_cor_x_time_1  best_cor_y_time_1  best_cor_x_y_avg_time_1  \\\n",
       "0              0.999221           0.993155                 0.996188   \n",
       "1              0.994428           0.981624                 0.988026   \n",
       "2              0.949788           0.783449                 0.866618   \n",
       "3              0.997203           0.996352                 0.996778   \n",
       "4              0.788554           0.750077                 0.769315   \n",
       "...                 ...                ...                      ...   \n",
       "2491           0.998296           0.976304                 0.987300   \n",
       "2492           0.986064           0.647601                 0.816832   \n",
       "2493           0.988237           0.888347                 0.938292   \n",
       "2494           0.935466           0.985401                 0.960433   \n",
       "2495           0.988655           0.873488                 0.931072   \n",
       "\n",
       "      cor_dist_inter  \n",
       "0           0.156758  \n",
       "1           0.931778  \n",
       "2           0.349824  \n",
       "3           0.163544  \n",
       "4           0.151729  \n",
       "...              ...  \n",
       "2491        0.147583  \n",
       "2492        0.071955  \n",
       "2493        0.319031  \n",
       "2494        0.099099  \n",
       "2495        0.052539  \n",
       "\n",
       "[6457 rows x 22 columns]"
      ]
     },
     "execution_count": 174,
     "metadata": {},
     "output_type": "execute_result"
    }
   ],
   "source": [
    "sacks_df"
   ]
  },
  {
   "cell_type": "code",
   "execution_count": 175,
   "metadata": {},
   "outputs": [
    {
     "data": {
      "text/plain": [
       "(6457, 16)"
      ]
     },
     "execution_count": 175,
     "metadata": {},
     "output_type": "execute_result"
    }
   ],
   "source": [
    "# sampling 45,000 plays to be within CPU limit\n",
    "X_train = sacks_df.drop(['week', 'gameId','playId','nflId','displayName','position'], axis = 1)\n",
    "X_train.shape"
   ]
  },
  {
   "cell_type": "code",
   "execution_count": 176,
   "metadata": {},
   "outputs": [
    {
     "data": {
      "text/plain": [
       "(6457, 16)"
      ]
     },
     "execution_count": 176,
     "metadata": {},
     "output_type": "execute_result"
    }
   ],
   "source": [
    "# all plays to score\n",
    "X_score = sacks_df.drop(['week', 'gameId','playId','nflId','displayName','position'], axis = 1)\n",
    "X_score.shape"
   ]
  },
  {
   "cell_type": "code",
   "execution_count": 177,
   "metadata": {
    "collapsed": true
   },
   "outputs": [],
   "source": [
    "# train\n",
    "clf_train = mixture.GaussianMixture(n_components=2, covariance_type='full')\n",
    "f_train = clf_train.fit(X_train)"
   ]
  },
  {
   "cell_type": "code",
   "execution_count": 178,
   "metadata": {},
   "outputs": [
    {
     "data": {
      "text/plain": [
       "{'best_cor_x_time_1': (0.9850482128439222, 0.8077506267774032),\n",
       " 'best_cor_x_y_avg_time_1': (0.9759063689038934, 0.7830935625846985),\n",
       " 'best_cor_y_time_1': (0.9667645249638641, 0.758436498391994),\n",
       " 'cb_off_dir_diff_qb_sack': (22.3156668274589, 47.93207352829372),\n",
       " 'cb_off_dist_qb_sack': (3.5754998166112864, 6.0704367433773285),\n",
       " 'cor_dist_inter': (0.3473916289399047, 0.11439091225990106),\n",
       " 'cor_s_time_1': (0.8532135849637946, 0.6018823199207048),\n",
       " 'off_dir_mean_time_0_1': (35.121046848620786, 58.10637807897657),\n",
       " 'off_dir_mean_time_1': (23.19597010377473, 51.53308004207572),\n",
       " 'off_dir_var_time_1': (792.1021055161746, 1584.6620468709036),\n",
       " 'off_mean_time_0': (6.699107193969438, 10.484053410135878),\n",
       " 'off_mean_time_0_1': (5.110017173641322, 8.398652385367155),\n",
       " 'off_mean_time_1': (4.726838929790638, 7.925128199008085),\n",
       " 'off_var_time_0': (0.039169854146065906, 0.07510904784972328),\n",
       " 'off_var_time_0_1': (3.2735383668094564, 9.186008930005807),\n",
       " 'off_var_time_1': (2.960072571513286, 8.523048884100211)}"
      ]
     },
     "execution_count": 178,
     "metadata": {},
     "output_type": "execute_result"
    }
   ],
   "source": [
    "get_cluster_means(X_train, f_train)"
   ]
  },
  {
   "cell_type": "code",
   "execution_count": 179,
   "metadata": {
    "collapsed": true
   },
   "outputs": [],
   "source": [
    "full_probs = [x[1] for x in f_train.predict_proba(X_score)]\n",
    "full_classes = f_train.predict(X_score)"
   ]
  },
  {
   "cell_type": "code",
   "execution_count": 180,
   "metadata": {},
   "outputs": [
    {
     "data": {
      "image/png": "[encoded data removed]",
      "text/plain": [
       "<matplotlib.figure.Figure at 0x1247b3128>"
      ]
     },
     "metadata": {},
     "output_type": "display_data"
    }
   ],
   "source": [
    "plt.pyplot.hist(full_probs, bins = 50)\n",
    "plt.pyplot.xlabel('Probability of Zone Coverage')\n",
    "plt.pyplot.ylabel('Density')\n",
    "plt.pyplot.show()"
   ]
  },
  {
   "cell_type": "code",
   "execution_count": 181,
   "metadata": {
    "collapsed": true
   },
   "outputs": [],
   "source": [
    "sacks_df[\"zone_probability\"] = full_probs\n",
    "sacks_df[\"zone_flag\"] = full_classes"
   ]
  },
  {
   "cell_type": "markdown",
   "metadata": {},
   "source": [
    "### Saving Results"
   ]
  },
  {
   "cell_type": "code",
   "execution_count": 182,
   "metadata": {
    "collapsed": true
   },
   "outputs": [],
   "source": [
    "sacks_df_final = sacks_df[['week', 'gameId','playId','nflId','displayName','position'] + \\\n",
    "                                     list(sacks_df.columns[[x.startswith('zone') for x in sacks_df.columns]])].sort_values(['gameId','playId','position'])"
   ]
  },
  {
   "cell_type": "code",
   "execution_count": 183,
   "metadata": {},
   "outputs": [
    {
     "data": {
      "text/html": [
       "<div>\n",
       "<style scoped>\n",
       "    .dataframe tbody tr th:only-of-type {\n",
       "        vertical-align: middle;\n",
       "    }\n",
       "\n",
       "    .dataframe tbody tr th {\n",
       "        vertical-align: top;\n",
       "    }\n",
       "\n",
       "    .dataframe thead th {\n",
       "        text-align: right;\n",
       "    }\n",
       "</style>\n",
       "<table border=\"1\" class=\"dataframe\">\n",
       "  <thead>\n",
       "    <tr style=\"text-align: right;\">\n",
       "      <th></th>\n",
       "      <th>week</th>\n",
       "      <th>gameId</th>\n",
       "      <th>playId</th>\n",
       "      <th>nflId</th>\n",
       "      <th>displayName</th>\n",
       "      <th>position</th>\n",
       "      <th>zone_probability</th>\n",
       "      <th>zone_flag</th>\n",
       "    </tr>\n",
       "  </thead>\n",
       "  <tbody>\n",
       "    <tr>\n",
       "      <th>0</th>\n",
       "      <td>1</td>\n",
       "      <td>2018090600</td>\n",
       "      <td>776</td>\n",
       "      <td>2539334</td>\n",
       "      <td>Desmond Trufant</td>\n",
       "      <td>CB</td>\n",
       "      <td>1.000000e+00</td>\n",
       "      <td>1</td>\n",
       "    </tr>\n",
       "    <tr>\n",
       "      <th>1</th>\n",
       "      <td>1</td>\n",
       "      <td>2018090600</td>\n",
       "      <td>776</td>\n",
       "      <td>2539653</td>\n",
       "      <td>Robert Alford</td>\n",
       "      <td>CB</td>\n",
       "      <td>2.036692e-53</td>\n",
       "      <td>0</td>\n",
       "    </tr>\n",
       "    <tr>\n",
       "      <th>2</th>\n",
       "      <td>1</td>\n",
       "      <td>2018090600</td>\n",
       "      <td>776</td>\n",
       "      <td>2556445</td>\n",
       "      <td>Brian Poole</td>\n",
       "      <td>CB</td>\n",
       "      <td>9.999972e-01</td>\n",
       "      <td>1</td>\n",
       "    </tr>\n",
       "    <tr>\n",
       "      <th>1</th>\n",
       "      <td>1</td>\n",
       "      <td>2018090600</td>\n",
       "      <td>776</td>\n",
       "      <td>2555543</td>\n",
       "      <td>Keanu Neal</td>\n",
       "      <td>FS</td>\n",
       "      <td>1.000000e+00</td>\n",
       "      <td>1</td>\n",
       "    </tr>\n",
       "    <tr>\n",
       "      <th>0</th>\n",
       "      <td>1</td>\n",
       "      <td>2018090600</td>\n",
       "      <td>776</td>\n",
       "      <td>2543850</td>\n",
       "      <td>Ricardo Allen</td>\n",
       "      <td>SS</td>\n",
       "      <td>1.370852e-01</td>\n",
       "      <td>0</td>\n",
       "    </tr>\n",
       "    <tr>\n",
       "      <th>...</th>\n",
       "      <td>...</td>\n",
       "      <td>...</td>\n",
       "      <td>...</td>\n",
       "      <td>...</td>\n",
       "      <td>...</td>\n",
       "      <td>...</td>\n",
       "      <td>...</td>\n",
       "      <td>...</td>\n",
       "    </tr>\n",
       "    <tr>\n",
       "      <th>3959</th>\n",
       "      <td>17</td>\n",
       "      <td>2018123015</td>\n",
       "      <td>3932</td>\n",
       "      <td>2553456</td>\n",
       "      <td>Akeem King</td>\n",
       "      <td>CB</td>\n",
       "      <td>2.714575e-09</td>\n",
       "      <td>0</td>\n",
       "    </tr>\n",
       "    <tr>\n",
       "      <th>3960</th>\n",
       "      <td>17</td>\n",
       "      <td>2018123015</td>\n",
       "      <td>3932</td>\n",
       "      <td>2553637</td>\n",
       "      <td>Justin Coleman</td>\n",
       "      <td>CB</td>\n",
       "      <td>4.169563e-05</td>\n",
       "      <td>0</td>\n",
       "    </tr>\n",
       "    <tr>\n",
       "      <th>3961</th>\n",
       "      <td>17</td>\n",
       "      <td>2018123015</td>\n",
       "      <td>3932</td>\n",
       "      <td>2560728</td>\n",
       "      <td>Tre Flowers</td>\n",
       "      <td>CB</td>\n",
       "      <td>5.926450e-05</td>\n",
       "      <td>0</td>\n",
       "    </tr>\n",
       "    <tr>\n",
       "      <th>2494</th>\n",
       "      <td>17</td>\n",
       "      <td>2018123015</td>\n",
       "      <td>3932</td>\n",
       "      <td>2539243</td>\n",
       "      <td>Bradley McDougald</td>\n",
       "      <td>SS</td>\n",
       "      <td>1.000000e+00</td>\n",
       "      <td>1</td>\n",
       "    </tr>\n",
       "    <tr>\n",
       "      <th>2495</th>\n",
       "      <td>17</td>\n",
       "      <td>2018123015</td>\n",
       "      <td>3932</td>\n",
       "      <td>2558077</td>\n",
       "      <td>Delano Hill</td>\n",
       "      <td>SS</td>\n",
       "      <td>9.999414e-01</td>\n",
       "      <td>1</td>\n",
       "    </tr>\n",
       "  </tbody>\n",
       "</table>\n",
       "<p>6457 rows × 8 columns</p>\n",
       "</div>"
      ],
      "text/plain": [
       "      week      gameId  playId    nflId        displayName position  \\\n",
       "0        1  2018090600     776  2539334    Desmond Trufant       CB   \n",
       "1        1  2018090600     776  2539653      Robert Alford       CB   \n",
       "2        1  2018090600     776  2556445        Brian Poole       CB   \n",
       "1        1  2018090600     776  2555543         Keanu Neal       FS   \n",
       "0        1  2018090600     776  2543850      Ricardo Allen       SS   \n",
       "...    ...         ...     ...      ...                ...      ...   \n",
       "3959    17  2018123015    3932  2553456         Akeem King       CB   \n",
       "3960    17  2018123015    3932  2553637     Justin Coleman       CB   \n",
       "3961    17  2018123015    3932  2560728        Tre Flowers       CB   \n",
       "2494    17  2018123015    3932  2539243  Bradley McDougald       SS   \n",
       "2495    17  2018123015    3932  2558077        Delano Hill       SS   \n",
       "\n",
       "      zone_probability  zone_flag  \n",
       "0         1.000000e+00          1  \n",
       "1         2.036692e-53          0  \n",
       "2         9.999972e-01          1  \n",
       "1         1.000000e+00          1  \n",
       "0         1.370852e-01          0  \n",
       "...                ...        ...  \n",
       "3959      2.714575e-09          0  \n",
       "3960      4.169563e-05          0  \n",
       "3961      5.926450e-05          0  \n",
       "2494      1.000000e+00          1  \n",
       "2495      9.999414e-01          1  \n",
       "\n",
       "[6457 rows x 8 columns]"
      ]
     },
     "execution_count": 183,
     "metadata": {},
     "output_type": "execute_result"
    }
   ],
   "source": [
    "sacks_df_final"
   ]
  },
  {
   "cell_type": "code",
   "execution_count": 184,
   "metadata": {
    "collapsed": true
   },
   "outputs": [],
   "source": [
    "sacks_df_final.to_csv(\"~/Desktop/CoverageNet/src/01_identify_man_coverage/outputs/all_positions_sacks_man_zone_classes.csv\", \n",
    "                      index = False)"
   ]
  },
  {
   "cell_type": "code",
   "execution_count": 185,
   "metadata": {},
   "outputs": [
    {
     "data": {
      "text/html": [
       "<div>\n",
       "<style scoped>\n",
       "    .dataframe tbody tr th:only-of-type {\n",
       "        vertical-align: middle;\n",
       "    }\n",
       "\n",
       "    .dataframe tbody tr th {\n",
       "        vertical-align: top;\n",
       "    }\n",
       "\n",
       "    .dataframe thead th {\n",
       "        text-align: right;\n",
       "    }\n",
       "</style>\n",
       "<table border=\"1\" class=\"dataframe\">\n",
       "  <thead>\n",
       "    <tr style=\"text-align: right;\">\n",
       "      <th></th>\n",
       "      <th>week</th>\n",
       "      <th>gameId</th>\n",
       "      <th>playId</th>\n",
       "      <th>nflId</th>\n",
       "      <th>displayName</th>\n",
       "      <th>position</th>\n",
       "      <th>off_var_time_0</th>\n",
       "      <th>off_var_time_0_1</th>\n",
       "      <th>off_var_time_1</th>\n",
       "      <th>off_mean_time_0</th>\n",
       "      <th>...</th>\n",
       "      <th>off_dir_mean_time_1</th>\n",
       "      <th>cor_s_time_1</th>\n",
       "      <th>cb_off_dir_diff_qb_sack</th>\n",
       "      <th>cb_off_dist_qb_sack</th>\n",
       "      <th>best_cor_x_time_1</th>\n",
       "      <th>best_cor_y_time_1</th>\n",
       "      <th>best_cor_x_y_avg_time_1</th>\n",
       "      <th>cor_dist_inter</th>\n",
       "      <th>zone_probability</th>\n",
       "      <th>zone_flag</th>\n",
       "    </tr>\n",
       "  </thead>\n",
       "  <tbody>\n",
       "  </tbody>\n",
       "</table>\n",
       "<p>0 rows × 24 columns</p>\n",
       "</div>"
      ],
      "text/plain": [
       "Empty DataFrame\n",
       "Columns: [week, gameId, playId, nflId, displayName, position, off_var_time_0, off_var_time_0_1, off_var_time_1, off_mean_time_0, off_mean_time_0_1, off_mean_time_1, off_dir_var_time_1, off_dir_mean_time_0_1, off_dir_mean_time_1, cor_s_time_1, cb_off_dir_diff_qb_sack, cb_off_dist_qb_sack, best_cor_x_time_1, best_cor_y_time_1, best_cor_x_y_avg_time_1, cor_dist_inter, zone_probability, zone_flag]\n",
       "Index: []\n",
       "\n",
       "[0 rows x 24 columns]"
      ]
     },
     "execution_count": 185,
     "metadata": {},
     "output_type": "execute_result"
    }
   ],
   "source": [
    "sacks_df[(sacks_df[\"gameId\"] == 2018090901) & (sacks_df[\"playId\"] == 2885)]"
   ]
  },
  {
   "cell_type": "code",
   "execution_count": 186,
   "metadata": {},
   "outputs": [
    {
     "data": {
      "text/html": [
       "<div>\n",
       "<style scoped>\n",
       "    .dataframe tbody tr th:only-of-type {\n",
       "        vertical-align: middle;\n",
       "    }\n",
       "\n",
       "    .dataframe tbody tr th {\n",
       "        vertical-align: top;\n",
       "    }\n",
       "\n",
       "    .dataframe thead th {\n",
       "        text-align: right;\n",
       "    }\n",
       "</style>\n",
       "<table border=\"1\" class=\"dataframe\">\n",
       "  <thead>\n",
       "    <tr style=\"text-align: right;\">\n",
       "      <th></th>\n",
       "      <th>displayName</th>\n",
       "      <th>cor_s_time_1</th>\n",
       "    </tr>\n",
       "  </thead>\n",
       "  <tbody>\n",
       "  </tbody>\n",
       "</table>\n",
       "</div>"
      ],
      "text/plain": [
       "Empty DataFrame\n",
       "Columns: [displayName, cor_s_time_1]\n",
       "Index: []"
      ]
     },
     "execution_count": 186,
     "metadata": {},
     "output_type": "execute_result"
    }
   ],
   "source": [
    "sacks_df[(sacks_df[\"gameId\"] == 2018090901) & (sacks_df[\"playId\"] == 2885)][[\"displayName\"] + \\\n",
    "                            list(sacks_df.columns[['cor_s' in x for x in sacks_df.columns]])]"
   ]
  },
  {
   "cell_type": "code",
   "execution_count": null,
   "metadata": {
    "collapsed": true
   },
   "outputs": [],
   "source": []
  }
 ],
 "metadata": {
  "kernelspec": {
   "display_name": "Python 3",
   "language": "python",
   "name": "python3"
  },
  "language_info": {
   "codemirror_mode": {
    "name": "ipython",
    "version": 3
   },
   "file_extension": ".py",
   "mimetype": "text/x-python",
   "name": "python",
   "nbconvert_exporter": "python",
   "pygments_lexer": "ipython3",
   "version": "3.6.3"
  }
 },
 "nbformat": 4,
 "nbformat_minor": 2
}
