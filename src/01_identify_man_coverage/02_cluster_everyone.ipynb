{
 "cells": [
  {
   "cell_type": "code",
   "execution_count": 1,
   "metadata": {
    "collapsed": true
   },
   "outputs": [],
   "source": [
    "# importing important libraries\n",
    "import matplotlib as plt\n",
    "%matplotlib inline\n",
    "import numpy as np\n",
    "from sklearn import mixture\n",
    "import pandas as pd\n",
    "import seaborn as sns"
   ]
  },
  {
   "cell_type": "code",
   "execution_count": 2,
   "metadata": {},
   "outputs": [
    {
     "data": {
      "text/html": [
       "\n",
       "<style>\n",
       ".output_png {\n",
       "    display: table-cell;\n",
       "    text-align: center;\n",
       "    vertical-align: middle;\n",
       "}\n",
       "</style>\n"
      ],
      "text/plain": [
       "<IPython.core.display.HTML object>"
      ]
     },
     "execution_count": 2,
     "metadata": {},
     "output_type": "execute_result"
    }
   ],
   "source": [
    "from IPython.core.display import HTML\n",
    "HTML(\"\"\"\n",
    "<style>\n",
    ".output_png {\n",
    "    display: table-cell;\n",
    "    text-align: center;\n",
    "    vertical-align: middle;\n",
    "}\n",
    "</style>\n",
    "\"\"\")"
   ]
  },
  {
   "cell_type": "markdown",
   "metadata": {},
   "source": [
    "# Reading in the Data"
   ]
  },
  {
   "cell_type": "code",
   "execution_count": 3,
   "metadata": {},
   "outputs": [
    {
     "data": {
      "text/plain": [
       "(52977, 157)"
      ]
     },
     "execution_count": 3,
     "metadata": {},
     "output_type": "execute_result"
    }
   ],
   "source": [
    "pass_attempt_df_corners = \\\n",
    "    pd.read_csv(\"~/Desktop/CoverageNet/src/01_identify_man_coverage/outputs/corners_pass_attempts_man_zone_gmm_features_no_rushers.csv\")\n",
    "pass_attempt_df_corners.shape"
   ]
  },
  {
   "cell_type": "code",
   "execution_count": 4,
   "metadata": {},
   "outputs": [
    {
     "data": {
      "text/plain": [
       "(32496, 157)"
      ]
     },
     "execution_count": 4,
     "metadata": {},
     "output_type": "execute_result"
    }
   ],
   "source": [
    "pass_attempt_df_safeties = \\\n",
    "    pd.read_csv(\"~/Desktop/CoverageNet/src/01_identify_man_coverage/outputs/safeties_pass_attempts_man_zone_gmm_features_no_rushers.csv\")\n",
    "pass_attempt_df_safeties.shape"
   ]
  },
  {
   "cell_type": "code",
   "execution_count": 5,
   "metadata": {
    "collapsed": true
   },
   "outputs": [],
   "source": [
    "pass_attempt_df = pd.concat([pass_attempt_df_corners,\n",
    "                             pass_attempt_df_safeties])"
   ]
  },
  {
   "cell_type": "code",
   "execution_count": 6,
   "metadata": {},
   "outputs": [
    {
     "data": {
      "text/plain": [
       "(85473, 157)"
      ]
     },
     "execution_count": 6,
     "metadata": {},
     "output_type": "execute_result"
    }
   ],
   "source": [
    "pass_attempt_df.shape"
   ]
  },
  {
   "cell_type": "code",
   "execution_count": 7,
   "metadata": {},
   "outputs": [
    {
     "data": {
      "text/plain": [
       "(3796, 98)"
      ]
     },
     "execution_count": 7,
     "metadata": {},
     "output_type": "execute_result"
    }
   ],
   "source": [
    "sacks_df_corners = \\\n",
    "    pd.read_csv(\"~/Desktop/CoverageNet/src/01_identify_man_coverage/outputs/corners_sacks_man_zone_gmm_features_no_rushers.csv\")\n",
    "sacks_df_corners.shape"
   ]
  },
  {
   "cell_type": "code",
   "execution_count": 8,
   "metadata": {},
   "outputs": [
    {
     "data": {
      "text/plain": [
       "(2312, 98)"
      ]
     },
     "execution_count": 8,
     "metadata": {},
     "output_type": "execute_result"
    }
   ],
   "source": [
    "sacks_df_safeties = \\\n",
    "    pd.read_csv(\"~/Desktop/CoverageNet/src/01_identify_man_coverage/outputs/safeties_sacks_man_zone_gmm_features_no_rushers.csv\")\n",
    "sacks_df_safeties.shape"
   ]
  },
  {
   "cell_type": "code",
   "execution_count": 9,
   "metadata": {},
   "outputs": [
    {
     "data": {
      "text/plain": [
       "(6107, 98)"
      ]
     },
     "execution_count": 9,
     "metadata": {},
     "output_type": "execute_result"
    }
   ],
   "source": [
    "sacks_df = pd.concat([sacks_df_corners,\n",
    "                      sacks_df_safeties]).dropna()\n",
    "sacks_df.shape"
   ]
  },
  {
   "cell_type": "code",
   "execution_count": 10,
   "metadata": {},
   "outputs": [
    {
     "data": {
      "text/plain": [
       "array([ 1,  2,  3,  4,  5,  6,  7,  8,  9, 10, 11, 12, 13, 14, 15, 16, 17])"
      ]
     },
     "execution_count": 10,
     "metadata": {},
     "output_type": "execute_result"
    }
   ],
   "source": [
    "# printing the number of weeks of data available\n",
    "np.unique(pass_attempt_df['week'])"
   ]
  },
  {
   "cell_type": "markdown",
   "metadata": {},
   "source": [
    "# Clustering Pass Attempt Coverage"
   ]
  },
  {
   "cell_type": "code",
   "execution_count": 11,
   "metadata": {
    "collapsed": true
   },
   "outputs": [],
   "source": [
    "filter_col = [col for col in pass_attempt_df if not '_o_' in col]\n",
    "pass_attempt_df = pass_attempt_df[filter_col]"
   ]
  },
  {
   "cell_type": "code",
   "execution_count": 12,
   "metadata": {
    "collapsed": true
   },
   "outputs": [],
   "source": [
    "filter_col = [col for col in pass_attempt_df if not 'facing' in col]\n",
    "pass_attempt_df = pass_attempt_df[filter_col]"
   ]
  },
  {
   "cell_type": "code",
   "execution_count": 13,
   "metadata": {
    "collapsed": true
   },
   "outputs": [],
   "source": [
    "filter_col = [col for col in pass_attempt_df if not 'var_y' in col]\n",
    "pass_attempt_df = pass_attempt_df[filter_col]"
   ]
  },
  {
   "cell_type": "code",
   "execution_count": 14,
   "metadata": {
    "collapsed": true
   },
   "outputs": [],
   "source": [
    "filter_col = [col for col in pass_attempt_df if not 'var_x' in col]\n",
    "pass_attempt_df = pass_attempt_df[filter_col]"
   ]
  },
  {
   "cell_type": "code",
   "execution_count": 15,
   "metadata": {
    "collapsed": true
   },
   "outputs": [],
   "source": [
    "filter_col = [col for col in pass_attempt_df if not 'def_mean_time_0' in col]\n",
    "pass_attempt_df = pass_attempt_df[filter_col]"
   ]
  },
  {
   "cell_type": "code",
   "execution_count": 16,
   "metadata": {
    "collapsed": true
   },
   "outputs": [],
   "source": [
    "filter_col = [col for col in pass_attempt_df if not 'def' in col]\n",
    "pass_attempt_df = pass_attempt_df[filter_col]"
   ]
  },
  {
   "cell_type": "code",
   "execution_count": 17,
   "metadata": {
    "collapsed": true
   },
   "outputs": [],
   "source": [
    "filter_col = [col for col in pass_attempt_df if not 'def_var_time_0' in col]\n",
    "pass_attempt_df = pass_attempt_df[filter_col]"
   ]
  },
  {
   "cell_type": "code",
   "execution_count": 18,
   "metadata": {},
   "outputs": [
    {
     "data": {
      "text/plain": [
       "Index(['week', 'gameId', 'playId', 'nflId', 'displayName', 'position',\n",
       "       'speed_var_time_0', 'speed_var_time_0_1', 'speed_var_time_1',\n",
       "       'speed_var_time_1_2',\n",
       "       ...\n",
       "       'best_cor_y_time_0', 'best_cor_y_time_0_1', 'best_cor_y_time_1',\n",
       "       'best_cor_y_time_1_2', 'best_cor_y_time_2', 'best_cor_x_y_avg_time_0',\n",
       "       'best_cor_x_y_avg_time_0_1', 'best_cor_x_y_avg_time_1',\n",
       "       'best_cor_x_y_avg_time_1_2', 'best_cor_x_y_avg_time_2'],\n",
       "      dtype='object', length=105)"
      ]
     },
     "execution_count": 18,
     "metadata": {},
     "output_type": "execute_result"
    }
   ],
   "source": [
    "pass_attempt_df.columns"
   ]
  },
  {
   "cell_type": "code",
   "execution_count": 19,
   "metadata": {
    "collapsed": true
   },
   "outputs": [],
   "source": [
    "filter_col = [col for col in pass_attempt_df if not (('cor' in col) and ('best' not in col) and ('s' not in col))]\n",
    "pass_attempt_df = pass_attempt_df[filter_col]"
   ]
  },
  {
   "cell_type": "code",
   "execution_count": 20,
   "metadata": {
    "collapsed": true
   },
   "outputs": [],
   "source": [
    "filter_col = [col for col in pass_attempt_df if not (('cor_rot' in col))]\n",
    "pass_attempt_df = pass_attempt_df[filter_col]"
   ]
  },
  {
   "cell_type": "code",
   "execution_count": 21,
   "metadata": {
    "collapsed": true
   },
   "outputs": [],
   "source": [
    "filter_col = [col for col in pass_attempt_df if not (('cor' in col) and ('time_0' in col))]\n",
    "pass_attempt_df = pass_attempt_df[filter_col]"
   ]
  },
  {
   "cell_type": "code",
   "execution_count": 22,
   "metadata": {
    "collapsed": true
   },
   "outputs": [],
   "source": [
    "filter_col = [col for col in pass_attempt_df if not (('cor' in col) and ('time_2' in col))]\n",
    "pass_attempt_df = pass_attempt_df[filter_col]"
   ]
  },
  {
   "cell_type": "code",
   "execution_count": 23,
   "metadata": {
    "collapsed": true
   },
   "outputs": [],
   "source": [
    "# filter_col = [col for col in pass_attempt_df if not (('cor' in col) and ('x_y' not in col))]\n",
    "# pass_attempt_df = pass_attempt_df[filter_col]"
   ]
  },
  {
   "cell_type": "code",
   "execution_count": 24,
   "metadata": {
    "collapsed": true
   },
   "outputs": [],
   "source": [
    "filter_col = [col for col in pass_attempt_df if not 'off_dir_var_time_0' in col]\n",
    "pass_attempt_df = pass_attempt_df[filter_col]"
   ]
  },
  {
   "cell_type": "code",
   "execution_count": 25,
   "metadata": {
    "collapsed": true
   },
   "outputs": [],
   "source": [
    "filter_col = [col for col in pass_attempt_df if not 'speed' in col]\n",
    "pass_attempt_df = pass_attempt_df[filter_col]"
   ]
  },
  {
   "cell_type": "code",
   "execution_count": 26,
   "metadata": {
    "collapsed": true
   },
   "outputs": [],
   "source": [
    "pass_attempt_df = pass_attempt_df.drop(['cb_off_dir_diff_ball_snap', 'cb_off_dist_ball_snap',\n",
    "                                       'off_dir_mean_time_0', 'cb_off_dist_pass_forward',\n",
    "                                       'off_mean_between_ball_snap_and_pass_forward'], axis = 1)"
   ]
  },
  {
   "cell_type": "code",
   "execution_count": 27,
   "metadata": {
    "collapsed": true
   },
   "outputs": [],
   "source": [
    "filter_col = [col for col in pass_attempt_df if (not 'rat' in col)|('ratio_pass_forward' in col)]\n",
    "pass_attempt_df = pass_attempt_df[filter_col]"
   ]
  },
  {
   "cell_type": "code",
   "execution_count": 28,
   "metadata": {
    "collapsed": true
   },
   "outputs": [],
   "source": [
    "# filter_col = [col for col in pass_attempt_df if (not 'best' in col)]\n",
    "# pass_attempt_df = pass_attempt_df[filter_col]"
   ]
  },
  {
   "cell_type": "code",
   "execution_count": 29,
   "metadata": {},
   "outputs": [
    {
     "data": {
      "text/plain": [
       "Index(['week', 'gameId', 'playId', 'nflId', 'displayName', 'position',\n",
       "       'off_var_time_0', 'off_var_time_0_1', 'off_var_time_1',\n",
       "       'off_var_time_1_2', 'off_var_time_2', 'off_mean_time_0',\n",
       "       'off_mean_time_0_1', 'off_mean_time_1', 'off_mean_time_1_2',\n",
       "       'off_mean_time_2', 'off_dir_var_time_1', 'off_dir_var_time_1_2',\n",
       "       'off_dir_var_time_2', 'off_dir_mean_time_0_1', 'off_dir_mean_time_1',\n",
       "       'off_dir_mean_time_1_2', 'off_dir_mean_time_2', 'cor_s_time_1',\n",
       "       'cor_s_time_1_2', 'ratio_pass_forward', 'cb_off_dir_diff_pass_forward',\n",
       "       'off_dir_diff_between_ball_snap_and_pass_forward', 'best_cor_x_time_1',\n",
       "       'best_cor_x_time_1_2', 'best_cor_y_time_1', 'best_cor_y_time_1_2',\n",
       "       'best_cor_x_y_avg_time_1', 'best_cor_x_y_avg_time_1_2'],\n",
       "      dtype='object')"
      ]
     },
     "execution_count": 29,
     "metadata": {},
     "output_type": "execute_result"
    }
   ],
   "source": [
    "pass_attempt_df.columns"
   ]
  },
  {
   "cell_type": "code",
   "execution_count": 30,
   "metadata": {
    "collapsed": true
   },
   "outputs": [],
   "source": [
    "pass_attempt_df[\"cor_dist_inter\"] = (pass_attempt_df[\"best_cor_x_y_avg_time_1\"]**2)/pass_attempt_df[\"off_mean_time_1\"]\n",
    "pass_attempt_df[\"cor_dist_inter\"] = pass_attempt_df[\"cor_dist_inter\"].fillna(0)\n",
    "pass_attempt_df[\"cor_dist_inter\"] = pass_attempt_df[\"cor_dist_inter\"].replace([np.inf], \\\n",
    "                np.percentile(np.array(pass_attempt_df[\"cor_dist_inter\"]), 99))\n",
    "pass_attempt_df[\"cor_dist_inter\"] = pass_attempt_df[\"cor_dist_inter\"].replace([-np.inf], \\\n",
    "                np.percentile(np.array(pass_attempt_df[\"cor_dist_inter\"]), 1))"
   ]
  },
  {
   "cell_type": "code",
   "execution_count": 31,
   "metadata": {},
   "outputs": [
    {
     "data": {
      "text/html": [
       "<div>\n",
       "<style scoped>\n",
       "    .dataframe tbody tr th:only-of-type {\n",
       "        vertical-align: middle;\n",
       "    }\n",
       "\n",
       "    .dataframe tbody tr th {\n",
       "        vertical-align: top;\n",
       "    }\n",
       "\n",
       "    .dataframe thead th {\n",
       "        text-align: right;\n",
       "    }\n",
       "</style>\n",
       "<table border=\"1\" class=\"dataframe\">\n",
       "  <thead>\n",
       "    <tr style=\"text-align: right;\">\n",
       "      <th></th>\n",
       "      <th>week</th>\n",
       "      <th>gameId</th>\n",
       "      <th>playId</th>\n",
       "      <th>nflId</th>\n",
       "      <th>displayName</th>\n",
       "      <th>position</th>\n",
       "      <th>off_var_time_0</th>\n",
       "      <th>off_var_time_0_1</th>\n",
       "      <th>off_var_time_1</th>\n",
       "      <th>off_var_time_1_2</th>\n",
       "      <th>...</th>\n",
       "      <th>ratio_pass_forward</th>\n",
       "      <th>cb_off_dir_diff_pass_forward</th>\n",
       "      <th>off_dir_diff_between_ball_snap_and_pass_forward</th>\n",
       "      <th>best_cor_x_time_1</th>\n",
       "      <th>best_cor_x_time_1_2</th>\n",
       "      <th>best_cor_y_time_1</th>\n",
       "      <th>best_cor_y_time_1_2</th>\n",
       "      <th>best_cor_x_y_avg_time_1</th>\n",
       "      <th>best_cor_x_y_avg_time_1_2</th>\n",
       "      <th>cor_dist_inter</th>\n",
       "    </tr>\n",
       "  </thead>\n",
       "  <tbody>\n",
       "    <tr>\n",
       "      <th>0</th>\n",
       "      <td>1</td>\n",
       "      <td>2018090600</td>\n",
       "      <td>75</td>\n",
       "      <td>2552689</td>\n",
       "      <td>Ronald Darby</td>\n",
       "      <td>CB</td>\n",
       "      <td>0.000307</td>\n",
       "      <td>2.126595</td>\n",
       "      <td>2.334991</td>\n",
       "      <td>6.760635</td>\n",
       "      <td>...</td>\n",
       "      <td>1.003735</td>\n",
       "      <td>0.69</td>\n",
       "      <td>10.00</td>\n",
       "      <td>0.991059</td>\n",
       "      <td>0.996693</td>\n",
       "      <td>0.996152</td>\n",
       "      <td>0.992656</td>\n",
       "      <td>0.993605</td>\n",
       "      <td>0.994675</td>\n",
       "      <td>0.136746</td>\n",
       "    </tr>\n",
       "    <tr>\n",
       "      <th>1</th>\n",
       "      <td>1</td>\n",
       "      <td>2018090600</td>\n",
       "      <td>75</td>\n",
       "      <td>2555383</td>\n",
       "      <td>Jalen Mills</td>\n",
       "      <td>CB</td>\n",
       "      <td>0.001680</td>\n",
       "      <td>2.051115</td>\n",
       "      <td>2.075317</td>\n",
       "      <td>1.658779</td>\n",
       "      <td>...</td>\n",
       "      <td>0.535486</td>\n",
       "      <td>20.40</td>\n",
       "      <td>11.75</td>\n",
       "      <td>0.991839</td>\n",
       "      <td>0.969084</td>\n",
       "      <td>0.893204</td>\n",
       "      <td>0.945554</td>\n",
       "      <td>0.942522</td>\n",
       "      <td>0.957319</td>\n",
       "      <td>0.154773</td>\n",
       "    </tr>\n",
       "    <tr>\n",
       "      <th>2</th>\n",
       "      <td>1</td>\n",
       "      <td>2018090600</td>\n",
       "      <td>146</td>\n",
       "      <td>2552689</td>\n",
       "      <td>Ronald Darby</td>\n",
       "      <td>CB</td>\n",
       "      <td>0.000479</td>\n",
       "      <td>1.310370</td>\n",
       "      <td>1.533356</td>\n",
       "      <td>2.695306</td>\n",
       "      <td>...</td>\n",
       "      <td>0.285235</td>\n",
       "      <td>14.63</td>\n",
       "      <td>8.41</td>\n",
       "      <td>0.998055</td>\n",
       "      <td>0.998745</td>\n",
       "      <td>0.995289</td>\n",
       "      <td>0.996726</td>\n",
       "      <td>0.996672</td>\n",
       "      <td>0.997735</td>\n",
       "      <td>0.140171</td>\n",
       "    </tr>\n",
       "    <tr>\n",
       "      <th>3</th>\n",
       "      <td>1</td>\n",
       "      <td>2018090600</td>\n",
       "      <td>146</td>\n",
       "      <td>2555383</td>\n",
       "      <td>Jalen Mills</td>\n",
       "      <td>CB</td>\n",
       "      <td>0.000957</td>\n",
       "      <td>0.967793</td>\n",
       "      <td>1.170710</td>\n",
       "      <td>3.954483</td>\n",
       "      <td>...</td>\n",
       "      <td>1.104717</td>\n",
       "      <td>129.71</td>\n",
       "      <td>9.22</td>\n",
       "      <td>0.990084</td>\n",
       "      <td>0.508795</td>\n",
       "      <td>0.853983</td>\n",
       "      <td>0.943507</td>\n",
       "      <td>0.922033</td>\n",
       "      <td>0.726151</td>\n",
       "      <td>0.110491</td>\n",
       "    </tr>\n",
       "    <tr>\n",
       "      <th>4</th>\n",
       "      <td>1</td>\n",
       "      <td>2018090600</td>\n",
       "      <td>146</td>\n",
       "      <td>2557958</td>\n",
       "      <td>Sidney Jones</td>\n",
       "      <td>CB</td>\n",
       "      <td>0.123231</td>\n",
       "      <td>1.930732</td>\n",
       "      <td>1.270966</td>\n",
       "      <td>1.080767</td>\n",
       "      <td>...</td>\n",
       "      <td>0.897810</td>\n",
       "      <td>9.97</td>\n",
       "      <td>64.66</td>\n",
       "      <td>0.360666</td>\n",
       "      <td>0.800361</td>\n",
       "      <td>0.975222</td>\n",
       "      <td>0.984590</td>\n",
       "      <td>0.667944</td>\n",
       "      <td>0.892476</td>\n",
       "      <td>0.177724</td>\n",
       "    </tr>\n",
       "    <tr>\n",
       "      <th>5</th>\n",
       "      <td>1</td>\n",
       "      <td>2018090600</td>\n",
       "      <td>168</td>\n",
       "      <td>2552689</td>\n",
       "      <td>Ronald Darby</td>\n",
       "      <td>CB</td>\n",
       "      <td>0.000187</td>\n",
       "      <td>1.283342</td>\n",
       "      <td>1.408920</td>\n",
       "      <td>1.355697</td>\n",
       "      <td>...</td>\n",
       "      <td>1.804993</td>\n",
       "      <td>32.74</td>\n",
       "      <td>6.78</td>\n",
       "      <td>0.999594</td>\n",
       "      <td>0.999047</td>\n",
       "      <td>0.524308</td>\n",
       "      <td>0.946714</td>\n",
       "      <td>0.761951</td>\n",
       "      <td>0.972880</td>\n",
       "      <td>0.072567</td>\n",
       "    </tr>\n",
       "    <tr>\n",
       "      <th>6</th>\n",
       "      <td>1</td>\n",
       "      <td>2018090600</td>\n",
       "      <td>168</td>\n",
       "      <td>2555383</td>\n",
       "      <td>Jalen Mills</td>\n",
       "      <td>CB</td>\n",
       "      <td>0.127870</td>\n",
       "      <td>1.272338</td>\n",
       "      <td>0.430823</td>\n",
       "      <td>1.508115</td>\n",
       "      <td>...</td>\n",
       "      <td>0.533327</td>\n",
       "      <td>25.69</td>\n",
       "      <td>5.44</td>\n",
       "      <td>0.936665</td>\n",
       "      <td>0.956103</td>\n",
       "      <td>0.931165</td>\n",
       "      <td>0.995562</td>\n",
       "      <td>0.933915</td>\n",
       "      <td>0.975832</td>\n",
       "      <td>0.144012</td>\n",
       "    </tr>\n",
       "    <tr>\n",
       "      <th>7</th>\n",
       "      <td>1</td>\n",
       "      <td>2018090600</td>\n",
       "      <td>168</td>\n",
       "      <td>2557958</td>\n",
       "      <td>Sidney Jones</td>\n",
       "      <td>CB</td>\n",
       "      <td>0.865792</td>\n",
       "      <td>1.053149</td>\n",
       "      <td>1.171440</td>\n",
       "      <td>1.094309</td>\n",
       "      <td>...</td>\n",
       "      <td>0.554019</td>\n",
       "      <td>154.82</td>\n",
       "      <td>94.51</td>\n",
       "      <td>0.992267</td>\n",
       "      <td>0.505462</td>\n",
       "      <td>0.964629</td>\n",
       "      <td>0.963594</td>\n",
       "      <td>0.978448</td>\n",
       "      <td>0.734528</td>\n",
       "      <td>0.277880</td>\n",
       "    </tr>\n",
       "    <tr>\n",
       "      <th>8</th>\n",
       "      <td>1</td>\n",
       "      <td>2018090600</td>\n",
       "      <td>190</td>\n",
       "      <td>2552689</td>\n",
       "      <td>Ronald Darby</td>\n",
       "      <td>CB</td>\n",
       "      <td>0.000018</td>\n",
       "      <td>1.984624</td>\n",
       "      <td>1.805685</td>\n",
       "      <td>1.756160</td>\n",
       "      <td>...</td>\n",
       "      <td>0.489154</td>\n",
       "      <td>36.33</td>\n",
       "      <td>2.56</td>\n",
       "      <td>0.996114</td>\n",
       "      <td>0.793176</td>\n",
       "      <td>0.998201</td>\n",
       "      <td>0.947689</td>\n",
       "      <td>0.997157</td>\n",
       "      <td>0.870432</td>\n",
       "      <td>0.139959</td>\n",
       "    </tr>\n",
       "    <tr>\n",
       "      <th>9</th>\n",
       "      <td>1</td>\n",
       "      <td>2018090600</td>\n",
       "      <td>190</td>\n",
       "      <td>2555383</td>\n",
       "      <td>Jalen Mills</td>\n",
       "      <td>CB</td>\n",
       "      <td>0.079316</td>\n",
       "      <td>15.335604</td>\n",
       "      <td>17.552694</td>\n",
       "      <td>21.155270</td>\n",
       "      <td>...</td>\n",
       "      <td>4.408636</td>\n",
       "      <td>15.83</td>\n",
       "      <td>146.68</td>\n",
       "      <td>0.856998</td>\n",
       "      <td>0.631509</td>\n",
       "      <td>0.676553</td>\n",
       "      <td>0.518507</td>\n",
       "      <td>0.766775</td>\n",
       "      <td>0.575008</td>\n",
       "      <td>0.052792</td>\n",
       "    </tr>\n",
       "  </tbody>\n",
       "</table>\n",
       "<p>10 rows × 35 columns</p>\n",
       "</div>"
      ],
      "text/plain": [
       "   week      gameId  playId    nflId   displayName position  off_var_time_0  \\\n",
       "0     1  2018090600      75  2552689  Ronald Darby       CB        0.000307   \n",
       "1     1  2018090600      75  2555383   Jalen Mills       CB        0.001680   \n",
       "2     1  2018090600     146  2552689  Ronald Darby       CB        0.000479   \n",
       "3     1  2018090600     146  2555383   Jalen Mills       CB        0.000957   \n",
       "4     1  2018090600     146  2557958  Sidney Jones       CB        0.123231   \n",
       "5     1  2018090600     168  2552689  Ronald Darby       CB        0.000187   \n",
       "6     1  2018090600     168  2555383   Jalen Mills       CB        0.127870   \n",
       "7     1  2018090600     168  2557958  Sidney Jones       CB        0.865792   \n",
       "8     1  2018090600     190  2552689  Ronald Darby       CB        0.000018   \n",
       "9     1  2018090600     190  2555383   Jalen Mills       CB        0.079316   \n",
       "\n",
       "   off_var_time_0_1  off_var_time_1  off_var_time_1_2  ...  \\\n",
       "0          2.126595        2.334991          6.760635  ...   \n",
       "1          2.051115        2.075317          1.658779  ...   \n",
       "2          1.310370        1.533356          2.695306  ...   \n",
       "3          0.967793        1.170710          3.954483  ...   \n",
       "4          1.930732        1.270966          1.080767  ...   \n",
       "5          1.283342        1.408920          1.355697  ...   \n",
       "6          1.272338        0.430823          1.508115  ...   \n",
       "7          1.053149        1.171440          1.094309  ...   \n",
       "8          1.984624        1.805685          1.756160  ...   \n",
       "9         15.335604       17.552694         21.155270  ...   \n",
       "\n",
       "   ratio_pass_forward  cb_off_dir_diff_pass_forward  \\\n",
       "0            1.003735                          0.69   \n",
       "1            0.535486                         20.40   \n",
       "2            0.285235                         14.63   \n",
       "3            1.104717                        129.71   \n",
       "4            0.897810                          9.97   \n",
       "5            1.804993                         32.74   \n",
       "6            0.533327                         25.69   \n",
       "7            0.554019                        154.82   \n",
       "8            0.489154                         36.33   \n",
       "9            4.408636                         15.83   \n",
       "\n",
       "   off_dir_diff_between_ball_snap_and_pass_forward  best_cor_x_time_1  \\\n",
       "0                                            10.00           0.991059   \n",
       "1                                            11.75           0.991839   \n",
       "2                                             8.41           0.998055   \n",
       "3                                             9.22           0.990084   \n",
       "4                                            64.66           0.360666   \n",
       "5                                             6.78           0.999594   \n",
       "6                                             5.44           0.936665   \n",
       "7                                            94.51           0.992267   \n",
       "8                                             2.56           0.996114   \n",
       "9                                           146.68           0.856998   \n",
       "\n",
       "   best_cor_x_time_1_2  best_cor_y_time_1  best_cor_y_time_1_2  \\\n",
       "0             0.996693           0.996152             0.992656   \n",
       "1             0.969084           0.893204             0.945554   \n",
       "2             0.998745           0.995289             0.996726   \n",
       "3             0.508795           0.853983             0.943507   \n",
       "4             0.800361           0.975222             0.984590   \n",
       "5             0.999047           0.524308             0.946714   \n",
       "6             0.956103           0.931165             0.995562   \n",
       "7             0.505462           0.964629             0.963594   \n",
       "8             0.793176           0.998201             0.947689   \n",
       "9             0.631509           0.676553             0.518507   \n",
       "\n",
       "   best_cor_x_y_avg_time_1  best_cor_x_y_avg_time_1_2  cor_dist_inter  \n",
       "0                 0.993605                   0.994675        0.136746  \n",
       "1                 0.942522                   0.957319        0.154773  \n",
       "2                 0.996672                   0.997735        0.140171  \n",
       "3                 0.922033                   0.726151        0.110491  \n",
       "4                 0.667944                   0.892476        0.177724  \n",
       "5                 0.761951                   0.972880        0.072567  \n",
       "6                 0.933915                   0.975832        0.144012  \n",
       "7                 0.978448                   0.734528        0.277880  \n",
       "8                 0.997157                   0.870432        0.139959  \n",
       "9                 0.766775                   0.575008        0.052792  \n",
       "\n",
       "[10 rows x 35 columns]"
      ]
     },
     "execution_count": 31,
     "metadata": {},
     "output_type": "execute_result"
    }
   ],
   "source": [
    "pass_attempt_df.head(10)"
   ]
  },
  {
   "cell_type": "code",
   "execution_count": 32,
   "metadata": {},
   "outputs": [
    {
     "data": {
      "text/plain": [
       "Index(['week', 'gameId', 'playId', 'nflId', 'displayName', 'position',\n",
       "       'off_var_time_0', 'off_var_time_0_1', 'off_var_time_1',\n",
       "       'off_var_time_1_2', 'off_var_time_2', 'off_mean_time_0',\n",
       "       'off_mean_time_0_1', 'off_mean_time_1', 'off_mean_time_1_2',\n",
       "       'off_mean_time_2', 'off_dir_var_time_1', 'off_dir_var_time_1_2',\n",
       "       'off_dir_var_time_2', 'off_dir_mean_time_0_1', 'off_dir_mean_time_1',\n",
       "       'off_dir_mean_time_1_2', 'off_dir_mean_time_2', 'cor_s_time_1',\n",
       "       'cor_s_time_1_2', 'ratio_pass_forward', 'cb_off_dir_diff_pass_forward',\n",
       "       'off_dir_diff_between_ball_snap_and_pass_forward', 'best_cor_x_time_1',\n",
       "       'best_cor_x_time_1_2', 'best_cor_y_time_1', 'best_cor_y_time_1_2',\n",
       "       'best_cor_x_y_avg_time_1', 'best_cor_x_y_avg_time_1_2',\n",
       "       'cor_dist_inter'],\n",
       "      dtype='object')"
      ]
     },
     "execution_count": 32,
     "metadata": {},
     "output_type": "execute_result"
    }
   ],
   "source": [
    "pass_attempt_df.columns"
   ]
  },
  {
   "cell_type": "markdown",
   "metadata": {},
   "source": [
    "### Preparing Train/Test Groups"
   ]
  },
  {
   "cell_type": "code",
   "execution_count": 33,
   "metadata": {
    "collapsed": true
   },
   "outputs": [],
   "source": [
    "weeks_exclude = [1, 2, 3]\n",
    "train = pass_attempt_df[[x not in weeks_exclude for x in list(pass_attempt_df[\"week\"])]]\n",
    "test = pass_attempt_df[[x in weeks_exclude for x in list(pass_attempt_df[\"week\"])]]"
   ]
  },
  {
   "cell_type": "code",
   "execution_count": 34,
   "metadata": {
    "collapsed": true
   },
   "outputs": [],
   "source": [
    "X_train = train.drop(['week', 'gameId','playId','nflId','displayName','position'], axis = 1).sample(40000)\n",
    "X_test = test.drop(['week', 'gameId','playId','nflId','displayName','position'], axis = 1)"
   ]
  },
  {
   "cell_type": "code",
   "execution_count": 35,
   "metadata": {},
   "outputs": [
    {
     "name": "stdout",
     "output_type": "stream",
     "text": [
      "(40000, 29)\n",
      "(15732, 29)\n"
     ]
    }
   ],
   "source": [
    "print(X_train.shape)\n",
    "print(X_test.shape)"
   ]
  },
  {
   "cell_type": "markdown",
   "metadata": {},
   "source": [
    "### Fitting GMM Model"
   ]
  },
  {
   "cell_type": "code",
   "execution_count": 36,
   "metadata": {
    "collapsed": true
   },
   "outputs": [],
   "source": [
    "# train\n",
    "clf_train = mixture.GaussianMixture(n_components=2, covariance_type='full')\n",
    "f_train = clf_train.fit(X_train)"
   ]
  },
  {
   "cell_type": "code",
   "execution_count": 37,
   "metadata": {
    "collapsed": true
   },
   "outputs": [],
   "source": [
    "# test\n",
    "clf_test = mixture.GaussianMixture(n_components=2, covariance_type='full')\n",
    "f_test = clf_test.fit(X_test)"
   ]
  },
  {
   "cell_type": "markdown",
   "metadata": {},
   "source": [
    "### Examining Cluster Results"
   ]
  },
  {
   "cell_type": "code",
   "execution_count": 38,
   "metadata": {
    "collapsed": true
   },
   "outputs": [],
   "source": [
    "def get_cluster_means(X, f):\n",
    "    cluster_means = {}\n",
    "    for iCnt in range(len(X.columns)):\n",
    "        cluster_means.update({X.columns[iCnt]:(f.means_[0][iCnt],f.means_[1][iCnt])})\n",
    "    return cluster_means"
   ]
  },
  {
   "cell_type": "code",
   "execution_count": 39,
   "metadata": {},
   "outputs": [
    {
     "data": {
      "text/plain": [
       "{'best_cor_x_time_1': (0.9867979333629607, 0.8496551943756164),\n",
       " 'best_cor_x_time_1_2': (0.9851813619653677, 0.8153505112031381),\n",
       " 'best_cor_x_y_avg_time_1': (0.96026099329247, 0.8253456892345122),\n",
       " 'best_cor_x_y_avg_time_1_2': (0.9622072488114491, 0.8147574831824143),\n",
       " 'best_cor_y_time_1': (0.9337240529305187, 0.8010361834320572),\n",
       " 'best_cor_y_time_1_2': (0.9392331350948709, 0.8141644560013953),\n",
       " 'cb_off_dir_diff_pass_forward': (14.408746616220892, 49.31472458294711),\n",
       " 'cor_dist_inter': (0.27842507205747646, 0.128883669806648),\n",
       " 'cor_s_time_1': (0.915851141384579, 0.6987628975867425),\n",
       " 'cor_s_time_1_2': (0.8620627254868348, 0.5989190475453885),\n",
       " 'off_dir_diff_between_ball_snap_and_pass_forward': (16.747720982331593,\n",
       "  48.23289549840175),\n",
       " 'off_dir_mean_time_0_1': (42.61000418752303, 62.444235065526094),\n",
       " 'off_dir_mean_time_1': (26.246118216691137, 54.156821635786876),\n",
       " 'off_dir_mean_time_1_2': (23.811978216256012, 54.3439179976555),\n",
       " 'off_dir_mean_time_2': (17.248945655516593, 55.51157664258772),\n",
       " 'off_dir_var_time_1': (824.8530652841476, 1294.110661059089),\n",
       " 'off_dir_var_time_1_2': (707.9636173587821, 1573.7297438188768),\n",
       " 'off_dir_var_time_2': (91.38380181497371, 709.0660471083231),\n",
       " 'off_mean_time_0': (7.163971578414215, 10.393529422213984),\n",
       " 'off_mean_time_0_1': (6.204795259365112, 9.270907029887711),\n",
       " 'off_mean_time_1': (5.860550100571705, 8.899364546717608),\n",
       " 'off_mean_time_1_2': (5.414315764412254, 8.353783003244592),\n",
       " 'off_mean_time_2': (4.155135447620657, 7.0187590555807216),\n",
       " 'off_var_time_0': (0.022944819078528026, 0.08060643628414195),\n",
       " 'off_var_time_0_1': (2.043086791846218, 4.536886351881212),\n",
       " 'off_var_time_1': (1.9906820440446424, 4.323628376226832),\n",
       " 'off_var_time_1_2': (2.836366401200143, 7.1131453308552),\n",
       " 'off_var_time_2': (0.2505246734171727, 1.3136011432394883),\n",
       " 'ratio_pass_forward': (1.357956273032279, 3.5880798194731893)}"
      ]
     },
     "execution_count": 39,
     "metadata": {},
     "output_type": "execute_result"
    }
   ],
   "source": [
    "get_cluster_means(X_train, f_train)"
   ]
  },
  {
   "cell_type": "markdown",
   "metadata": {
    "collapsed": true
   },
   "source": [
    "### Computing Rand Index"
   ]
  },
  {
   "cell_type": "code",
   "execution_count": 40,
   "metadata": {
    "collapsed": true
   },
   "outputs": [],
   "source": [
    "from sklearn.metrics import adjusted_rand_score"
   ]
  },
  {
   "cell_type": "code",
   "execution_count": 41,
   "metadata": {
    "collapsed": true
   },
   "outputs": [],
   "source": [
    "y_train = f_train.predict(X_test)\n",
    "y_test = f_test.predict(X_test)"
   ]
  },
  {
   "cell_type": "code",
   "execution_count": 42,
   "metadata": {},
   "outputs": [
    {
     "data": {
      "text/plain": [
       "0.9604772066361484"
      ]
     },
     "execution_count": 42,
     "metadata": {},
     "output_type": "execute_result"
    }
   ],
   "source": [
    "adjusted_rand_score(y_train, y_test)"
   ]
  },
  {
   "cell_type": "markdown",
   "metadata": {},
   "source": [
    "### Iterating Through To Get Cross-Validation Scores"
   ]
  },
  {
   "cell_type": "code",
   "execution_count": 43,
   "metadata": {
    "collapsed": true
   },
   "outputs": [],
   "source": [
    "weeks_exclude_vect = [[1,2,3],[4,5,6],[7,8,9],[10,11,12],[13,14,15],[15,16,17]]\n",
    "G_vect = [2, 3, 4, 5, 6, 7, 8, 9]\n",
    "rand_index_G_vect = []"
   ]
  },
  {
   "cell_type": "code",
   "execution_count": 44,
   "metadata": {
    "scrolled": true
   },
   "outputs": [
    {
     "name": "stdout",
     "output_type": "stream",
     "text": [
      "0.9034715169075862\n"
     ]
    },
    {
     "ename": "KeyboardInterrupt",
     "evalue": "",
     "output_type": "error",
     "traceback": [
      "\u001b[0;31m---------------------------------------------------------------------------\u001b[0m",
      "\u001b[0;31mKeyboardInterrupt\u001b[0m                         Traceback (most recent call last)",
      "\u001b[0;32m<ipython-input-44-924749aa4204>\u001b[0m in \u001b[0;36m<module>\u001b[0;34m()\u001b[0m\n\u001b[1;32m     13\u001b[0m         clf_train = mixture.GaussianMixture(n_components=G, covariance_type='full', \n\u001b[1;32m     14\u001b[0m                                             n_init = 2, max_iter = 200)\n\u001b[0;32m---> 15\u001b[0;31m         \u001b[0mf_train\u001b[0m \u001b[0;34m=\u001b[0m \u001b[0mclf_train\u001b[0m\u001b[0;34m.\u001b[0m\u001b[0mfit\u001b[0m\u001b[0;34m(\u001b[0m\u001b[0mX_train\u001b[0m\u001b[0;34m)\u001b[0m\u001b[0;34m\u001b[0m\u001b[0m\n\u001b[0m\u001b[1;32m     16\u001b[0m \u001b[0;34m\u001b[0m\u001b[0m\n\u001b[1;32m     17\u001b[0m         \u001b[0;31m# test\u001b[0m\u001b[0;34m\u001b[0m\u001b[0;34m\u001b[0m\u001b[0m\n",
      "\u001b[0;32m/anaconda3/lib/python3.6/site-packages/sklearn/mixture/base.py\u001b[0m in \u001b[0;36mfit\u001b[0;34m(self, X, y)\u001b[0m\n\u001b[1;32m    211\u001b[0m                 \u001b[0mprev_lower_bound\u001b[0m \u001b[0;34m=\u001b[0m \u001b[0mself\u001b[0m\u001b[0;34m.\u001b[0m\u001b[0mlower_bound_\u001b[0m\u001b[0;34m\u001b[0m\u001b[0m\n\u001b[1;32m    212\u001b[0m \u001b[0;34m\u001b[0m\u001b[0m\n\u001b[0;32m--> 213\u001b[0;31m                 \u001b[0mlog_prob_norm\u001b[0m\u001b[0;34m,\u001b[0m \u001b[0mlog_resp\u001b[0m \u001b[0;34m=\u001b[0m \u001b[0mself\u001b[0m\u001b[0;34m.\u001b[0m\u001b[0m_e_step\u001b[0m\u001b[0;34m(\u001b[0m\u001b[0mX\u001b[0m\u001b[0;34m)\u001b[0m\u001b[0;34m\u001b[0m\u001b[0m\n\u001b[0m\u001b[1;32m    214\u001b[0m                 \u001b[0mself\u001b[0m\u001b[0;34m.\u001b[0m\u001b[0m_m_step\u001b[0m\u001b[0;34m(\u001b[0m\u001b[0mX\u001b[0m\u001b[0;34m,\u001b[0m \u001b[0mlog_resp\u001b[0m\u001b[0;34m)\u001b[0m\u001b[0;34m\u001b[0m\u001b[0m\n\u001b[1;32m    215\u001b[0m                 self.lower_bound_ = self._compute_lower_bound(\n",
      "\u001b[0;32m/anaconda3/lib/python3.6/site-packages/sklearn/mixture/base.py\u001b[0m in \u001b[0;36m_e_step\u001b[0;34m(self, X)\u001b[0m\n\u001b[1;32m    258\u001b[0m             \u001b[0mthe\u001b[0m \u001b[0mpoint\u001b[0m \u001b[0mof\u001b[0m \u001b[0meach\u001b[0m \u001b[0msample\u001b[0m \u001b[0;32min\u001b[0m \u001b[0mX\u001b[0m\u001b[0;34m.\u001b[0m\u001b[0;34m\u001b[0m\u001b[0m\n\u001b[1;32m    259\u001b[0m         \"\"\"\n\u001b[0;32m--> 260\u001b[0;31m         \u001b[0mlog_prob_norm\u001b[0m\u001b[0;34m,\u001b[0m \u001b[0mlog_resp\u001b[0m \u001b[0;34m=\u001b[0m \u001b[0mself\u001b[0m\u001b[0;34m.\u001b[0m\u001b[0m_estimate_log_prob_resp\u001b[0m\u001b[0;34m(\u001b[0m\u001b[0mX\u001b[0m\u001b[0;34m)\u001b[0m\u001b[0;34m\u001b[0m\u001b[0m\n\u001b[0m\u001b[1;32m    261\u001b[0m         \u001b[0;32mreturn\u001b[0m \u001b[0mnp\u001b[0m\u001b[0;34m.\u001b[0m\u001b[0mmean\u001b[0m\u001b[0;34m(\u001b[0m\u001b[0mlog_prob_norm\u001b[0m\u001b[0;34m)\u001b[0m\u001b[0;34m,\u001b[0m \u001b[0mlog_resp\u001b[0m\u001b[0;34m\u001b[0m\u001b[0m\n\u001b[1;32m    262\u001b[0m \u001b[0;34m\u001b[0m\u001b[0m\n",
      "\u001b[0;32m/anaconda3/lib/python3.6/site-packages/sklearn/mixture/base.py\u001b[0m in \u001b[0;36m_estimate_log_prob_resp\u001b[0;34m(self, X)\u001b[0m\n\u001b[1;32m    467\u001b[0m             \u001b[0mlogarithm\u001b[0m \u001b[0mof\u001b[0m \u001b[0mthe\u001b[0m \u001b[0mresponsibilities\u001b[0m\u001b[0;34m\u001b[0m\u001b[0m\n\u001b[1;32m    468\u001b[0m         \"\"\"\n\u001b[0;32m--> 469\u001b[0;31m         \u001b[0mweighted_log_prob\u001b[0m \u001b[0;34m=\u001b[0m \u001b[0mself\u001b[0m\u001b[0;34m.\u001b[0m\u001b[0m_estimate_weighted_log_prob\u001b[0m\u001b[0;34m(\u001b[0m\u001b[0mX\u001b[0m\u001b[0;34m)\u001b[0m\u001b[0;34m\u001b[0m\u001b[0m\n\u001b[0m\u001b[1;32m    470\u001b[0m         \u001b[0mlog_prob_norm\u001b[0m \u001b[0;34m=\u001b[0m \u001b[0mlogsumexp\u001b[0m\u001b[0;34m(\u001b[0m\u001b[0mweighted_log_prob\u001b[0m\u001b[0;34m,\u001b[0m \u001b[0maxis\u001b[0m\u001b[0;34m=\u001b[0m\u001b[0;36m1\u001b[0m\u001b[0;34m)\u001b[0m\u001b[0;34m\u001b[0m\u001b[0m\n\u001b[1;32m    471\u001b[0m         \u001b[0;32mwith\u001b[0m \u001b[0mnp\u001b[0m\u001b[0;34m.\u001b[0m\u001b[0merrstate\u001b[0m\u001b[0;34m(\u001b[0m\u001b[0munder\u001b[0m\u001b[0;34m=\u001b[0m\u001b[0;34m'ignore'\u001b[0m\u001b[0;34m)\u001b[0m\u001b[0;34m:\u001b[0m\u001b[0;34m\u001b[0m\u001b[0m\n",
      "\u001b[0;32m/anaconda3/lib/python3.6/site-packages/sklearn/mixture/base.py\u001b[0m in \u001b[0;36m_estimate_weighted_log_prob\u001b[0;34m(self, X)\u001b[0m\n\u001b[1;32m    420\u001b[0m         \u001b[0mweighted_log_prob\u001b[0m \u001b[0;34m:\u001b[0m \u001b[0marray\u001b[0m\u001b[0;34m,\u001b[0m \u001b[0mshape\u001b[0m \u001b[0;34m(\u001b[0m\u001b[0mn_samples\u001b[0m\u001b[0;34m,\u001b[0m \u001b[0mn_component\u001b[0m\u001b[0;34m)\u001b[0m\u001b[0;34m\u001b[0m\u001b[0m\n\u001b[1;32m    421\u001b[0m         \"\"\"\n\u001b[0;32m--> 422\u001b[0;31m         \u001b[0;32mreturn\u001b[0m \u001b[0mself\u001b[0m\u001b[0;34m.\u001b[0m\u001b[0m_estimate_log_prob\u001b[0m\u001b[0;34m(\u001b[0m\u001b[0mX\u001b[0m\u001b[0;34m)\u001b[0m \u001b[0;34m+\u001b[0m \u001b[0mself\u001b[0m\u001b[0;34m.\u001b[0m\u001b[0m_estimate_log_weights\u001b[0m\u001b[0;34m(\u001b[0m\u001b[0;34m)\u001b[0m\u001b[0;34m\u001b[0m\u001b[0m\n\u001b[0m\u001b[1;32m    423\u001b[0m \u001b[0;34m\u001b[0m\u001b[0m\n\u001b[1;32m    424\u001b[0m     \u001b[0;34m@\u001b[0m\u001b[0mabstractmethod\u001b[0m\u001b[0;34m\u001b[0m\u001b[0m\n",
      "\u001b[0;32m/anaconda3/lib/python3.6/site-packages/sklearn/mixture/gaussian_mixture.py\u001b[0m in \u001b[0;36m_estimate_log_prob\u001b[0;34m(self, X)\u001b[0m\n\u001b[1;32m    673\u001b[0m     \u001b[0;32mdef\u001b[0m \u001b[0m_estimate_log_prob\u001b[0m\u001b[0;34m(\u001b[0m\u001b[0mself\u001b[0m\u001b[0;34m,\u001b[0m \u001b[0mX\u001b[0m\u001b[0;34m)\u001b[0m\u001b[0;34m:\u001b[0m\u001b[0;34m\u001b[0m\u001b[0m\n\u001b[1;32m    674\u001b[0m         return _estimate_log_gaussian_prob(\n\u001b[0;32m--> 675\u001b[0;31m             X, self.means_, self.precisions_cholesky_, self.covariance_type)\n\u001b[0m\u001b[1;32m    676\u001b[0m \u001b[0;34m\u001b[0m\u001b[0m\n\u001b[1;32m    677\u001b[0m     \u001b[0;32mdef\u001b[0m \u001b[0m_estimate_log_weights\u001b[0m\u001b[0;34m(\u001b[0m\u001b[0mself\u001b[0m\u001b[0;34m)\u001b[0m\u001b[0;34m:\u001b[0m\u001b[0;34m\u001b[0m\u001b[0m\n",
      "\u001b[0;32m/anaconda3/lib/python3.6/site-packages/sklearn/mixture/gaussian_mixture.py\u001b[0m in \u001b[0;36m_estimate_log_gaussian_prob\u001b[0;34m(X, means, precisions_chol, covariance_type)\u001b[0m\n\u001b[1;32m    410\u001b[0m         \u001b[0mlog_prob\u001b[0m \u001b[0;34m=\u001b[0m \u001b[0mnp\u001b[0m\u001b[0;34m.\u001b[0m\u001b[0mempty\u001b[0m\u001b[0;34m(\u001b[0m\u001b[0;34m(\u001b[0m\u001b[0mn_samples\u001b[0m\u001b[0;34m,\u001b[0m \u001b[0mn_components\u001b[0m\u001b[0;34m)\u001b[0m\u001b[0;34m)\u001b[0m\u001b[0;34m\u001b[0m\u001b[0m\n\u001b[1;32m    411\u001b[0m         \u001b[0;32mfor\u001b[0m \u001b[0mk\u001b[0m\u001b[0;34m,\u001b[0m \u001b[0;34m(\u001b[0m\u001b[0mmu\u001b[0m\u001b[0;34m,\u001b[0m \u001b[0mprec_chol\u001b[0m\u001b[0;34m)\u001b[0m \u001b[0;32min\u001b[0m \u001b[0menumerate\u001b[0m\u001b[0;34m(\u001b[0m\u001b[0mzip\u001b[0m\u001b[0;34m(\u001b[0m\u001b[0mmeans\u001b[0m\u001b[0;34m,\u001b[0m \u001b[0mprecisions_chol\u001b[0m\u001b[0;34m)\u001b[0m\u001b[0;34m)\u001b[0m\u001b[0;34m:\u001b[0m\u001b[0;34m\u001b[0m\u001b[0m\n\u001b[0;32m--> 412\u001b[0;31m             \u001b[0my\u001b[0m \u001b[0;34m=\u001b[0m \u001b[0mnp\u001b[0m\u001b[0;34m.\u001b[0m\u001b[0mdot\u001b[0m\u001b[0;34m(\u001b[0m\u001b[0mX\u001b[0m\u001b[0;34m,\u001b[0m \u001b[0mprec_chol\u001b[0m\u001b[0;34m)\u001b[0m \u001b[0;34m-\u001b[0m \u001b[0mnp\u001b[0m\u001b[0;34m.\u001b[0m\u001b[0mdot\u001b[0m\u001b[0;34m(\u001b[0m\u001b[0mmu\u001b[0m\u001b[0;34m,\u001b[0m \u001b[0mprec_chol\u001b[0m\u001b[0;34m)\u001b[0m\u001b[0;34m\u001b[0m\u001b[0m\n\u001b[0m\u001b[1;32m    413\u001b[0m             \u001b[0mlog_prob\u001b[0m\u001b[0;34m[\u001b[0m\u001b[0;34m:\u001b[0m\u001b[0;34m,\u001b[0m \u001b[0mk\u001b[0m\u001b[0;34m]\u001b[0m \u001b[0;34m=\u001b[0m \u001b[0mnp\u001b[0m\u001b[0;34m.\u001b[0m\u001b[0msum\u001b[0m\u001b[0;34m(\u001b[0m\u001b[0mnp\u001b[0m\u001b[0;34m.\u001b[0m\u001b[0msquare\u001b[0m\u001b[0;34m(\u001b[0m\u001b[0my\u001b[0m\u001b[0;34m)\u001b[0m\u001b[0;34m,\u001b[0m \u001b[0maxis\u001b[0m\u001b[0;34m=\u001b[0m\u001b[0;36m1\u001b[0m\u001b[0;34m)\u001b[0m\u001b[0;34m\u001b[0m\u001b[0m\n\u001b[1;32m    414\u001b[0m \u001b[0;34m\u001b[0m\u001b[0m\n",
      "\u001b[0;31mKeyboardInterrupt\u001b[0m: "
     ]
    }
   ],
   "source": [
    "for G in G_vect:\n",
    "    rand_index_sum = 0\n",
    "    # iterating through the week groupings to leave out\n",
    "    for weeks_exclue in weeks_exclude_vect:\n",
    "        # creating train/test groups\n",
    "        train = pass_attempt_df[[x not in weeks_exclude for x in list(pass_attempt_df[\"week\"])]].sample(40000)\n",
    "        test = pass_attempt_df[[x in weeks_exclude for x in list(pass_attempt_df[\"week\"])]]\n",
    "\n",
    "        X_train = train.drop(['week', 'gameId','playId','nflId','displayName','position'], axis = 1)\n",
    "        X_test = test.drop(['week', 'gameId','playId','nflId','displayName','position'], axis = 1)\n",
    "\n",
    "        # train\n",
    "        clf_train = mixture.GaussianMixture(n_components=G, covariance_type='full', \n",
    "                                            n_init = 2, max_iter = 200)\n",
    "        f_train = clf_train.fit(X_train)\n",
    "\n",
    "        # test\n",
    "        clf_test = mixture.GaussianMixture(n_components=G, covariance_type='full',\n",
    "                                           n_init = 2, max_iter = 200)\n",
    "        f_test = clf_test.fit(X_test)\n",
    "\n",
    "        # classifying test group\n",
    "        y_train = f_train.predict(X_test)\n",
    "        y_test = f_test.predict(X_test)\n",
    "\n",
    "        # appling the adjusted rand index\n",
    "        rand_index_val = adjusted_rand_score(y_train, y_test)\n",
    "        rand_index_sum += rand_index_val\n",
    "\n",
    "    rand_index = rand_index_sum/len(weeks_exclude_vect)\n",
    "    \n",
    "    rand_index_G_vect.append(rand_index)\n",
    "    \n",
    "    print(rand_index)"
   ]
  },
  {
   "cell_type": "markdown",
   "metadata": {},
   "source": [
    "### Plot eliminating x/y var, speed, and def based variables, replacing Ratio with Cor"
   ]
  },
  {
   "cell_type": "code",
   "execution_count": 40,
   "metadata": {},
   "outputs": [
    {
     "data": {
      "image/png": "[encoded data removed]",
      "text/plain": [
       "<matplotlib.figure.Figure at 0x12e559be0>"
      ]
     },
     "metadata": {},
     "output_type": "display_data"
    }
   ],
   "source": [
    "plt.pyplot.figure(figsize=(10, 6))\n",
    "# plotting the results\n",
    "plt.pyplot.bar(x = G_vect,\n",
    "               height = rand_index_G_vect,\n",
    "               width = .55)\n",
    "plt.pyplot.xlabel('Number of Clusters ($G*$)')\n",
    "plt.pyplot.ylabel('ARI Score')\n",
    "plt.pyplot.ylim(0,1)\n",
    "plt.pyplot.title('ARI Score vs. Number of Clusters')\n",
    "plt.pyplot.show()"
   ]
  },
  {
   "cell_type": "markdown",
   "metadata": {},
   "source": [
    "### Feature Importance"
   ]
  },
  {
   "cell_type": "code",
   "execution_count": 41,
   "metadata": {
    "collapsed": true
   },
   "outputs": [],
   "source": [
    "import sys\n",
    "weeks_exclude_vect = [[1,2,3],[4,5,6],[7,8,9],[10,11,12],[13,14,15],[15,16,17]]\n",
    "feature_list = list(X_train.columns)\n",
    "rand_index_vect = []\n",
    "\n",
    "# making a waitbar\n",
    "toolbar_width = len(feature_list)"
   ]
  },
  {
   "cell_type": "code",
   "execution_count": 42,
   "metadata": {},
   "outputs": [
    {
     "name": "stdout",
     "output_type": "stream",
     "text": [
      "[                            -----------------------------"
     ]
    }
   ],
   "source": [
    "sys.stdout.write(\"[%s]\" % (\" \" * toolbar_width))\n",
    "sys.stdout.flush()\n",
    "sys.stdout.write(\"\\b\" * (toolbar_width+1))\n",
    "\n",
    "for feature in feature_list:\n",
    "    \n",
    "    rand_index_sum = 0\n",
    "\n",
    "    # iterating through the week groupings to leave out\n",
    "    for weeks_exclue in weeks_exclude_vect:\n",
    "        # creating train/test groups\n",
    "        train = pass_attempt_df[[x not in weeks_exclude for \\\n",
    "                                 x in list(pass_attempt_df[\"week\"])]].drop([feature], axis = 1)\n",
    "        test = pass_attempt_df[[x in weeks_exclude for \\\n",
    "                                x in list(pass_attempt_df[\"week\"])]].drop([feature], axis = 1)\n",
    "\n",
    "        X_train = train.drop(['week', 'gameId','playId','nflId','displayName','position'], axis = 1)\n",
    "        X_test = test.drop(['week', 'gameId','playId','nflId','displayName','position'], axis = 1)\n",
    "\n",
    "        # train\n",
    "        clf_train = mixture.GaussianMixture(n_components=2, covariance_type='full')\n",
    "        f_train = clf_train.fit(X_train)\n",
    "\n",
    "        # test\n",
    "        clf_test = mixture.GaussianMixture(n_components=2, covariance_type='full')\n",
    "        f_test = clf_test.fit(X_test)\n",
    "\n",
    "        # classifying test group\n",
    "        y_train = f_train.predict(X_test)\n",
    "        y_test = f_test.predict(X_test)\n",
    "\n",
    "        # appling the adjusted rand index\n",
    "        rand_index_val = adjusted_rand_score(y_train, y_test)\n",
    "        rand_index_sum += rand_index_val\n",
    "\n",
    "    rand_index = rand_index_sum/len(weeks_exclude_vect)\n",
    "    \n",
    "    rand_index_vect.append(rand_index)\n",
    "    \n",
    "    sys.stdout.write(\"-\")\n",
    "    sys.stdout.flush()"
   ]
  },
  {
   "cell_type": "code",
   "execution_count": 43,
   "metadata": {
    "collapsed": true
   },
   "outputs": [],
   "source": [
    "d = {'feature': feature_list, 'delta_ARI': rand_index_G_vect[0] - np.array(rand_index_vect)}\n",
    "feature_imp_df = pd.DataFrame(data=d).sort_values('delta_ARI', ascending = False)\n",
    "feature_imp_df[\"base_feature\"] = [x.split('_pass_forward')[0] if \"pass_forward\" in x \\\n",
    "                                  else x.split('_ball_snap')[0] if \"ball_snap\" in x \\\n",
    "                                  else x.split('_time')[0] for x in np.array(feature_imp_df[\"feature\"])]\n",
    "feature_imp_df[\"time_period\"] = [\"Before Ball Thrown\" if \"pass_forward\" in x \\\n",
    "                                 else \"Before Ball Thrown\" if \"ball_snap\" in x \\\n",
    "                                 else \"After Ball Thrown\" if x.endswith(\"2\") \\\n",
    "                                 else \"Before Ball Thrown\" for x in np.array(feature_imp_df[\"feature\"])]\n",
    "feature_imp_df[\"feature\"] = [x.upper() for x in feature_imp_df[\"feature\"]]"
   ]
  },
  {
   "cell_type": "code",
   "execution_count": 44,
   "metadata": {},
   "outputs": [
    {
     "data": {
      "image/png": "[encoded data removed]",
      "text/plain": [
       "<matplotlib.figure.Figure at 0x12e566da0>"
      ]
     },
     "metadata": {},
     "output_type": "display_data"
    }
   ],
   "source": [
    "plt.pyplot.figure(figsize=(7,7))\n",
    "\n",
    "sns.barplot(x=\"delta_ARI\", y=\"feature\", data=feature_imp_df.head(10).sort_values('delta_ARI', ascending = True),\n",
    "            hue = \"time_period\", dodge = False, palette = [\"red\", \"blue\"])\n",
    "plt.pyplot.gca().legend().set_title('')\n",
    "plt.pyplot.title('Change in ARI vs. Feature')\n",
    "plt.pyplot.ylabel('Feature Name')\n",
    "plt.pyplot.xlabel('Change In ARI')\n",
    "plt.pyplot.show()"
   ]
  },
  {
   "cell_type": "markdown",
   "metadata": {},
   "source": [
    "### Scoring All Plays"
   ]
  },
  {
   "cell_type": "code",
   "execution_count": 52,
   "metadata": {},
   "outputs": [
    {
     "data": {
      "text/html": [
       "<div>\n",
       "<style scoped>\n",
       "    .dataframe tbody tr th:only-of-type {\n",
       "        vertical-align: middle;\n",
       "    }\n",
       "\n",
       "    .dataframe tbody tr th {\n",
       "        vertical-align: top;\n",
       "    }\n",
       "\n",
       "    .dataframe thead th {\n",
       "        text-align: right;\n",
       "    }\n",
       "</style>\n",
       "<table border=\"1\" class=\"dataframe\">\n",
       "  <thead>\n",
       "    <tr style=\"text-align: right;\">\n",
       "      <th></th>\n",
       "      <th>week</th>\n",
       "      <th>gameId</th>\n",
       "      <th>playId</th>\n",
       "      <th>nflId</th>\n",
       "      <th>displayName</th>\n",
       "      <th>position</th>\n",
       "      <th>off_var_time_0</th>\n",
       "      <th>off_var_time_0_1</th>\n",
       "      <th>off_var_time_1</th>\n",
       "      <th>off_var_time_1_2</th>\n",
       "      <th>...</th>\n",
       "      <th>ratio_pass_forward</th>\n",
       "      <th>cb_off_dir_diff_pass_forward</th>\n",
       "      <th>off_dir_diff_between_ball_snap_and_pass_forward</th>\n",
       "      <th>best_cor_x_time_1</th>\n",
       "      <th>best_cor_x_time_1_2</th>\n",
       "      <th>best_cor_y_time_1</th>\n",
       "      <th>best_cor_y_time_1_2</th>\n",
       "      <th>best_cor_x_y_avg_time_1</th>\n",
       "      <th>best_cor_x_y_avg_time_1_2</th>\n",
       "      <th>cor_dist_inter</th>\n",
       "    </tr>\n",
       "  </thead>\n",
       "  <tbody>\n",
       "    <tr>\n",
       "      <th>0</th>\n",
       "      <td>1</td>\n",
       "      <td>2018090600</td>\n",
       "      <td>75</td>\n",
       "      <td>2552689</td>\n",
       "      <td>Ronald Darby</td>\n",
       "      <td>CB</td>\n",
       "      <td>0.000307</td>\n",
       "      <td>2.126595</td>\n",
       "      <td>2.334991</td>\n",
       "      <td>6.760635</td>\n",
       "      <td>...</td>\n",
       "      <td>1.003735</td>\n",
       "      <td>0.69</td>\n",
       "      <td>10.00</td>\n",
       "      <td>0.991059</td>\n",
       "      <td>0.996693</td>\n",
       "      <td>0.996152</td>\n",
       "      <td>0.992656</td>\n",
       "      <td>0.993605</td>\n",
       "      <td>0.994675</td>\n",
       "      <td>0.136746</td>\n",
       "    </tr>\n",
       "    <tr>\n",
       "      <th>1</th>\n",
       "      <td>1</td>\n",
       "      <td>2018090600</td>\n",
       "      <td>75</td>\n",
       "      <td>2555383</td>\n",
       "      <td>Jalen Mills</td>\n",
       "      <td>CB</td>\n",
       "      <td>0.001680</td>\n",
       "      <td>2.051115</td>\n",
       "      <td>2.075317</td>\n",
       "      <td>1.658779</td>\n",
       "      <td>...</td>\n",
       "      <td>0.535486</td>\n",
       "      <td>20.40</td>\n",
       "      <td>11.75</td>\n",
       "      <td>0.991839</td>\n",
       "      <td>0.969084</td>\n",
       "      <td>0.893204</td>\n",
       "      <td>0.945554</td>\n",
       "      <td>0.942522</td>\n",
       "      <td>0.957319</td>\n",
       "      <td>0.154773</td>\n",
       "    </tr>\n",
       "    <tr>\n",
       "      <th>2</th>\n",
       "      <td>1</td>\n",
       "      <td>2018090600</td>\n",
       "      <td>146</td>\n",
       "      <td>2552689</td>\n",
       "      <td>Ronald Darby</td>\n",
       "      <td>CB</td>\n",
       "      <td>0.000479</td>\n",
       "      <td>1.310370</td>\n",
       "      <td>1.533356</td>\n",
       "      <td>2.695306</td>\n",
       "      <td>...</td>\n",
       "      <td>0.285235</td>\n",
       "      <td>14.63</td>\n",
       "      <td>8.41</td>\n",
       "      <td>0.998055</td>\n",
       "      <td>0.998745</td>\n",
       "      <td>0.995289</td>\n",
       "      <td>0.996726</td>\n",
       "      <td>0.996672</td>\n",
       "      <td>0.997735</td>\n",
       "      <td>0.140171</td>\n",
       "    </tr>\n",
       "    <tr>\n",
       "      <th>3</th>\n",
       "      <td>1</td>\n",
       "      <td>2018090600</td>\n",
       "      <td>146</td>\n",
       "      <td>2555383</td>\n",
       "      <td>Jalen Mills</td>\n",
       "      <td>CB</td>\n",
       "      <td>0.000957</td>\n",
       "      <td>0.967793</td>\n",
       "      <td>1.170710</td>\n",
       "      <td>3.954483</td>\n",
       "      <td>...</td>\n",
       "      <td>1.104717</td>\n",
       "      <td>129.71</td>\n",
       "      <td>9.22</td>\n",
       "      <td>0.990084</td>\n",
       "      <td>0.508795</td>\n",
       "      <td>0.853983</td>\n",
       "      <td>0.943507</td>\n",
       "      <td>0.922033</td>\n",
       "      <td>0.726151</td>\n",
       "      <td>0.110491</td>\n",
       "    </tr>\n",
       "    <tr>\n",
       "      <th>4</th>\n",
       "      <td>1</td>\n",
       "      <td>2018090600</td>\n",
       "      <td>146</td>\n",
       "      <td>2557958</td>\n",
       "      <td>Sidney Jones</td>\n",
       "      <td>CB</td>\n",
       "      <td>0.123231</td>\n",
       "      <td>1.930732</td>\n",
       "      <td>1.270966</td>\n",
       "      <td>1.080767</td>\n",
       "      <td>...</td>\n",
       "      <td>0.897810</td>\n",
       "      <td>9.97</td>\n",
       "      <td>64.66</td>\n",
       "      <td>0.360666</td>\n",
       "      <td>0.800361</td>\n",
       "      <td>0.975222</td>\n",
       "      <td>0.984590</td>\n",
       "      <td>0.667944</td>\n",
       "      <td>0.892476</td>\n",
       "      <td>0.177724</td>\n",
       "    </tr>\n",
       "    <tr>\n",
       "      <th>...</th>\n",
       "      <td>...</td>\n",
       "      <td>...</td>\n",
       "      <td>...</td>\n",
       "      <td>...</td>\n",
       "      <td>...</td>\n",
       "      <td>...</td>\n",
       "      <td>...</td>\n",
       "      <td>...</td>\n",
       "      <td>...</td>\n",
       "      <td>...</td>\n",
       "      <td>...</td>\n",
       "      <td>...</td>\n",
       "      <td>...</td>\n",
       "      <td>...</td>\n",
       "      <td>...</td>\n",
       "      <td>...</td>\n",
       "      <td>...</td>\n",
       "      <td>...</td>\n",
       "      <td>...</td>\n",
       "      <td>...</td>\n",
       "      <td>...</td>\n",
       "    </tr>\n",
       "    <tr>\n",
       "      <th>32491</th>\n",
       "      <td>17</td>\n",
       "      <td>2018123015</td>\n",
       "      <td>4057</td>\n",
       "      <td>2495807</td>\n",
       "      <td>Antoine Bethea</td>\n",
       "      <td>FS</td>\n",
       "      <td>0.003451</td>\n",
       "      <td>4.046454</td>\n",
       "      <td>4.015351</td>\n",
       "      <td>5.997438</td>\n",
       "      <td>...</td>\n",
       "      <td>4.806075</td>\n",
       "      <td>17.69</td>\n",
       "      <td>12.78</td>\n",
       "      <td>0.994775</td>\n",
       "      <td>0.997779</td>\n",
       "      <td>0.656253</td>\n",
       "      <td>0.927169</td>\n",
       "      <td>0.825514</td>\n",
       "      <td>0.962474</td>\n",
       "      <td>0.052062</td>\n",
       "    </tr>\n",
       "    <tr>\n",
       "      <th>32492</th>\n",
       "      <td>17</td>\n",
       "      <td>2018123015</td>\n",
       "      <td>4057</td>\n",
       "      <td>2543830</td>\n",
       "      <td>Tre Boston</td>\n",
       "      <td>FS</td>\n",
       "      <td>0.463821</td>\n",
       "      <td>1.996526</td>\n",
       "      <td>1.518795</td>\n",
       "      <td>2.304304</td>\n",
       "      <td>...</td>\n",
       "      <td>1.035742</td>\n",
       "      <td>4.87</td>\n",
       "      <td>67.46</td>\n",
       "      <td>0.774822</td>\n",
       "      <td>0.908232</td>\n",
       "      <td>0.942625</td>\n",
       "      <td>0.740846</td>\n",
       "      <td>0.858724</td>\n",
       "      <td>0.824539</td>\n",
       "      <td>0.114588</td>\n",
       "    </tr>\n",
       "    <tr>\n",
       "      <th>32493</th>\n",
       "      <td>17</td>\n",
       "      <td>2018123015</td>\n",
       "      <td>4057</td>\n",
       "      <td>2558009</td>\n",
       "      <td>Budda Baker</td>\n",
       "      <td>FS</td>\n",
       "      <td>0.002373</td>\n",
       "      <td>2.495578</td>\n",
       "      <td>2.223796</td>\n",
       "      <td>1.833104</td>\n",
       "      <td>...</td>\n",
       "      <td>0.562888</td>\n",
       "      <td>44.00</td>\n",
       "      <td>8.74</td>\n",
       "      <td>0.998340</td>\n",
       "      <td>0.988472</td>\n",
       "      <td>0.830953</td>\n",
       "      <td>0.757662</td>\n",
       "      <td>0.914646</td>\n",
       "      <td>0.873067</td>\n",
       "      <td>0.252598</td>\n",
       "    </tr>\n",
       "    <tr>\n",
       "      <th>32494</th>\n",
       "      <td>17</td>\n",
       "      <td>2018123015</td>\n",
       "      <td>4104</td>\n",
       "      <td>2495807</td>\n",
       "      <td>Antoine Bethea</td>\n",
       "      <td>FS</td>\n",
       "      <td>0.046326</td>\n",
       "      <td>11.993010</td>\n",
       "      <td>9.027414</td>\n",
       "      <td>7.001384</td>\n",
       "      <td>...</td>\n",
       "      <td>0.337100</td>\n",
       "      <td>19.93</td>\n",
       "      <td>41.31</td>\n",
       "      <td>0.981135</td>\n",
       "      <td>0.838075</td>\n",
       "      <td>0.961383</td>\n",
       "      <td>0.983272</td>\n",
       "      <td>0.971259</td>\n",
       "      <td>0.910673</td>\n",
       "      <td>0.206264</td>\n",
       "    </tr>\n",
       "    <tr>\n",
       "      <th>32495</th>\n",
       "      <td>17</td>\n",
       "      <td>2018123015</td>\n",
       "      <td>4104</td>\n",
       "      <td>2543830</td>\n",
       "      <td>Tre Boston</td>\n",
       "      <td>FS</td>\n",
       "      <td>0.173464</td>\n",
       "      <td>1.483067</td>\n",
       "      <td>1.751680</td>\n",
       "      <td>12.979000</td>\n",
       "      <td>...</td>\n",
       "      <td>2.165334</td>\n",
       "      <td>34.68</td>\n",
       "      <td>1.59</td>\n",
       "      <td>0.987549</td>\n",
       "      <td>0.998748</td>\n",
       "      <td>0.965411</td>\n",
       "      <td>0.964453</td>\n",
       "      <td>0.976480</td>\n",
       "      <td>0.981600</td>\n",
       "      <td>0.056919</td>\n",
       "    </tr>\n",
       "  </tbody>\n",
       "</table>\n",
       "<p>85473 rows × 35 columns</p>\n",
       "</div>"
      ],
      "text/plain": [
       "       week      gameId  playId    nflId     displayName position  \\\n",
       "0         1  2018090600      75  2552689    Ronald Darby       CB   \n",
       "1         1  2018090600      75  2555383     Jalen Mills       CB   \n",
       "2         1  2018090600     146  2552689    Ronald Darby       CB   \n",
       "3         1  2018090600     146  2555383     Jalen Mills       CB   \n",
       "4         1  2018090600     146  2557958    Sidney Jones       CB   \n",
       "...     ...         ...     ...      ...             ...      ...   \n",
       "32491    17  2018123015    4057  2495807  Antoine Bethea       FS   \n",
       "32492    17  2018123015    4057  2543830      Tre Boston       FS   \n",
       "32493    17  2018123015    4057  2558009     Budda Baker       FS   \n",
       "32494    17  2018123015    4104  2495807  Antoine Bethea       FS   \n",
       "32495    17  2018123015    4104  2543830      Tre Boston       FS   \n",
       "\n",
       "       off_var_time_0  off_var_time_0_1  off_var_time_1  off_var_time_1_2  \\\n",
       "0            0.000307          2.126595        2.334991          6.760635   \n",
       "1            0.001680          2.051115        2.075317          1.658779   \n",
       "2            0.000479          1.310370        1.533356          2.695306   \n",
       "3            0.000957          0.967793        1.170710          3.954483   \n",
       "4            0.123231          1.930732        1.270966          1.080767   \n",
       "...               ...               ...             ...               ...   \n",
       "32491        0.003451          4.046454        4.015351          5.997438   \n",
       "32492        0.463821          1.996526        1.518795          2.304304   \n",
       "32493        0.002373          2.495578        2.223796          1.833104   \n",
       "32494        0.046326         11.993010        9.027414          7.001384   \n",
       "32495        0.173464          1.483067        1.751680         12.979000   \n",
       "\n",
       "       ...  ratio_pass_forward  cb_off_dir_diff_pass_forward  \\\n",
       "0      ...            1.003735                          0.69   \n",
       "1      ...            0.535486                         20.40   \n",
       "2      ...            0.285235                         14.63   \n",
       "3      ...            1.104717                        129.71   \n",
       "4      ...            0.897810                          9.97   \n",
       "...    ...                 ...                           ...   \n",
       "32491  ...            4.806075                         17.69   \n",
       "32492  ...            1.035742                          4.87   \n",
       "32493  ...            0.562888                         44.00   \n",
       "32494  ...            0.337100                         19.93   \n",
       "32495  ...            2.165334                         34.68   \n",
       "\n",
       "       off_dir_diff_between_ball_snap_and_pass_forward  best_cor_x_time_1  \\\n",
       "0                                                10.00           0.991059   \n",
       "1                                                11.75           0.991839   \n",
       "2                                                 8.41           0.998055   \n",
       "3                                                 9.22           0.990084   \n",
       "4                                                64.66           0.360666   \n",
       "...                                                ...                ...   \n",
       "32491                                            12.78           0.994775   \n",
       "32492                                            67.46           0.774822   \n",
       "32493                                             8.74           0.998340   \n",
       "32494                                            41.31           0.981135   \n",
       "32495                                             1.59           0.987549   \n",
       "\n",
       "       best_cor_x_time_1_2  best_cor_y_time_1  best_cor_y_time_1_2  \\\n",
       "0                 0.996693           0.996152             0.992656   \n",
       "1                 0.969084           0.893204             0.945554   \n",
       "2                 0.998745           0.995289             0.996726   \n",
       "3                 0.508795           0.853983             0.943507   \n",
       "4                 0.800361           0.975222             0.984590   \n",
       "...                    ...                ...                  ...   \n",
       "32491             0.997779           0.656253             0.927169   \n",
       "32492             0.908232           0.942625             0.740846   \n",
       "32493             0.988472           0.830953             0.757662   \n",
       "32494             0.838075           0.961383             0.983272   \n",
       "32495             0.998748           0.965411             0.964453   \n",
       "\n",
       "       best_cor_x_y_avg_time_1  best_cor_x_y_avg_time_1_2  cor_dist_inter  \n",
       "0                     0.993605                   0.994675        0.136746  \n",
       "1                     0.942522                   0.957319        0.154773  \n",
       "2                     0.996672                   0.997735        0.140171  \n",
       "3                     0.922033                   0.726151        0.110491  \n",
       "4                     0.667944                   0.892476        0.177724  \n",
       "...                        ...                        ...             ...  \n",
       "32491                 0.825514                   0.962474        0.052062  \n",
       "32492                 0.858724                   0.824539        0.114588  \n",
       "32493                 0.914646                   0.873067        0.252598  \n",
       "32494                 0.971259                   0.910673        0.206264  \n",
       "32495                 0.976480                   0.981600        0.056919  \n",
       "\n",
       "[85473 rows x 35 columns]"
      ]
     },
     "execution_count": 52,
     "metadata": {},
     "output_type": "execute_result"
    }
   ],
   "source": [
    "pass_attempt_df"
   ]
  },
  {
   "cell_type": "code",
   "execution_count": 53,
   "metadata": {},
   "outputs": [
    {
     "data": {
      "text/plain": [
       "(45000, 29)"
      ]
     },
     "execution_count": 53,
     "metadata": {},
     "output_type": "execute_result"
    }
   ],
   "source": [
    "# sampling 45,000 plays to be within CPU limit\n",
    "X_train = pass_attempt_df.sample(n = 45000) \\\n",
    "                         .drop(['week', 'gameId','playId','nflId','displayName','position'], axis = 1)\n",
    "X_train.shape"
   ]
  },
  {
   "cell_type": "code",
   "execution_count": 54,
   "metadata": {},
   "outputs": [
    {
     "data": {
      "text/plain": [
       "(85473, 29)"
      ]
     },
     "execution_count": 54,
     "metadata": {},
     "output_type": "execute_result"
    }
   ],
   "source": [
    "# all plays to score\n",
    "X_score = pass_attempt_df.drop(['week', 'gameId','playId','nflId','displayName','position'], axis = 1)\n",
    "X_score.shape"
   ]
  },
  {
   "cell_type": "code",
   "execution_count": 55,
   "metadata": {},
   "outputs": [
    {
     "name": "stdout",
     "output_type": "stream",
     "text": [
      "(30000, 29)\n",
      "(30000, 29)\n",
      "(25473, 29)\n"
     ]
    }
   ],
   "source": [
    "X_score1 = X_score[0:30000]\n",
    "X_score2 = X_score[30000:60000]\n",
    "X_score3 = X_score[60000:]\n",
    "print(X_score1.shape)\n",
    "print(X_score2.shape)\n",
    "print(X_score3.shape)"
   ]
  },
  {
   "cell_type": "code",
   "execution_count": 56,
   "metadata": {
    "collapsed": true
   },
   "outputs": [],
   "source": [
    "# train\n",
    "clf_train = mixture.GaussianMixture(n_components=2, covariance_type='full')\n",
    "f_train = clf_train.fit(X_train)"
   ]
  },
  {
   "cell_type": "code",
   "execution_count": 57,
   "metadata": {},
   "outputs": [
    {
     "data": {
      "text/plain": [
       "{'best_cor_x_time_1': (0.9871108079238684, 0.846501965506921),\n",
       " 'best_cor_x_time_1_2': (0.9850914036717339, 0.8130535326981686),\n",
       " 'best_cor_x_y_avg_time_1': (0.959985536226488, 0.8238514613983317),\n",
       " 'best_cor_x_y_avg_time_1_2': (0.9619708501213575, 0.8127689973651494),\n",
       " 'best_cor_y_time_1': (0.9328602640910899, 0.8012009572948352),\n",
       " 'best_cor_y_time_1_2': (0.9388502968634388, 0.8124844623343409),\n",
       " 'cb_off_dir_diff_pass_forward': (14.867969240127799, 49.74632052987323),\n",
       " 'cor_dist_inter': (0.2745504707804465, 0.12740659414341762),\n",
       " 'cor_s_time_1': (0.916523360954088, 0.7009127038757051),\n",
       " 'cor_s_time_1_2': (0.8614463052875432, 0.5981345115375725),\n",
       " 'off_dir_diff_between_ball_snap_and_pass_forward': (16.856550577239055,\n",
       "  48.71398733911546),\n",
       " 'off_dir_mean_time_0_1': (42.72592709773036, 62.7284095408571),\n",
       " 'off_dir_mean_time_1': (26.20593683168362, 54.622670892416814),\n",
       " 'off_dir_mean_time_1_2': (23.903410718476657, 54.761188443193504),\n",
       " 'off_dir_mean_time_2': (17.745336660894512, 56.01363172350508),\n",
       " 'off_dir_var_time_1': (813.0199612287458, 1304.2179023592134),\n",
       " 'off_dir_var_time_1_2': (699.6540922463598, 1588.832481234708),\n",
       " 'off_dir_var_time_2': (92.94760542612191, 705.8253582499588),\n",
       " 'off_mean_time_0': (7.282689367856118, 10.416055484358832),\n",
       " 'off_mean_time_0_1': (6.317792449491804, 9.282297407034376),\n",
       " 'off_mean_time_1': (5.971598498334366, 8.905943184068754),\n",
       " 'off_mean_time_1_2': (5.518324176084866, 8.351906812899918),\n",
       " 'off_mean_time_2': (4.235537260717156, 7.002210243200557),\n",
       " 'off_var_time_0': (0.023803451643044576, 0.08145341905762031),\n",
       " 'off_var_time_0_1': (2.0753603486432612, 4.610208171947117),\n",
       " 'off_var_time_1': (2.0278149496341964, 4.3873031620213245),\n",
       " 'off_var_time_1_2': (2.9090393840541076, 7.191588382394025),\n",
       " 'off_var_time_2': (0.26663873335301336, 1.3232656905768307),\n",
       " 'ratio_pass_forward': (1.430205228908685, 3.562542588848397)}"
      ]
     },
     "execution_count": 57,
     "metadata": {},
     "output_type": "execute_result"
    }
   ],
   "source": [
    "get_cluster_means(X_train, f_train)"
   ]
  },
  {
   "cell_type": "code",
   "execution_count": 58,
   "metadata": {
    "collapsed": true
   },
   "outputs": [],
   "source": [
    "full_probs1 = [x[1] for x in f_train.predict_proba(X_score1)]\n",
    "full_classes1 = f_train.predict(X_score1)\n",
    "\n",
    "full_probs2 = [x[1] for x in f_train.predict_proba(X_score2)]\n",
    "full_classes2 = f_train.predict(X_score2)\n",
    "\n",
    "full_probs3 = [x[1] for x in f_train.predict_proba(X_score3)]\n",
    "full_classes3 = f_train.predict(X_score3)"
   ]
  },
  {
   "cell_type": "code",
   "execution_count": 59,
   "metadata": {
    "collapsed": true
   },
   "outputs": [],
   "source": [
    "full_probs = np.append(np.append(full_probs1, full_probs2), full_probs3)\n",
    "full_classes = np.append(np.append(full_classes1, full_classes2), full_classes3)"
   ]
  },
  {
   "cell_type": "code",
   "execution_count": 60,
   "metadata": {},
   "outputs": [
    {
     "data": {
      "image/png": "[encoded data removed]",
      "text/plain": [
       "<matplotlib.figure.Figure at 0x10d46fb38>"
      ]
     },
     "metadata": {},
     "output_type": "display_data"
    }
   ],
   "source": [
    "plt.pyplot.hist(full_probs, bins = 50)\n",
    "plt.pyplot.xlabel('Probability of Zone Coverage')\n",
    "plt.pyplot.ylabel('Density')\n",
    "plt.pyplot.show()"
   ]
  },
  {
   "cell_type": "code",
   "execution_count": 61,
   "metadata": {
    "collapsed": true
   },
   "outputs": [],
   "source": [
    "pass_attempt_df[\"zone_probability\"] = full_probs\n",
    "pass_attempt_df[\"zone_flag\"] = full_classes"
   ]
  },
  {
   "cell_type": "markdown",
   "metadata": {},
   "source": [
    "### Saving Results"
   ]
  },
  {
   "cell_type": "code",
   "execution_count": 62,
   "metadata": {
    "collapsed": true
   },
   "outputs": [],
   "source": [
    "pass_attempt_df_final = pass_attempt_df[['week', 'gameId','playId','nflId','displayName','position'] + \\\n",
    "                                     list(pass_attempt_df.columns[[x.startswith('zone') for x in pass_attempt_df.columns]])].sort_values(['gameId', 'playId', 'position'])"
   ]
  },
  {
   "cell_type": "code",
   "execution_count": 63,
   "metadata": {},
   "outputs": [
    {
     "data": {
      "text/html": [
       "<div>\n",
       "<style scoped>\n",
       "    .dataframe tbody tr th:only-of-type {\n",
       "        vertical-align: middle;\n",
       "    }\n",
       "\n",
       "    .dataframe tbody tr th {\n",
       "        vertical-align: top;\n",
       "    }\n",
       "\n",
       "    .dataframe thead th {\n",
       "        text-align: right;\n",
       "    }\n",
       "</style>\n",
       "<table border=\"1\" class=\"dataframe\">\n",
       "  <thead>\n",
       "    <tr style=\"text-align: right;\">\n",
       "      <th></th>\n",
       "      <th>week</th>\n",
       "      <th>gameId</th>\n",
       "      <th>playId</th>\n",
       "      <th>nflId</th>\n",
       "      <th>displayName</th>\n",
       "      <th>position</th>\n",
       "      <th>zone_probability</th>\n",
       "      <th>zone_flag</th>\n",
       "    </tr>\n",
       "  </thead>\n",
       "  <tbody>\n",
       "    <tr>\n",
       "      <th>0</th>\n",
       "      <td>1</td>\n",
       "      <td>2018090600</td>\n",
       "      <td>75</td>\n",
       "      <td>2552689</td>\n",
       "      <td>Ronald Darby</td>\n",
       "      <td>CB</td>\n",
       "      <td>1.377183e-12</td>\n",
       "      <td>0</td>\n",
       "    </tr>\n",
       "    <tr>\n",
       "      <th>1</th>\n",
       "      <td>1</td>\n",
       "      <td>2018090600</td>\n",
       "      <td>75</td>\n",
       "      <td>2555383</td>\n",
       "      <td>Jalen Mills</td>\n",
       "      <td>CB</td>\n",
       "      <td>1.330787e-10</td>\n",
       "      <td>0</td>\n",
       "    </tr>\n",
       "    <tr>\n",
       "      <th>1</th>\n",
       "      <td>1</td>\n",
       "      <td>2018090600</td>\n",
       "      <td>75</td>\n",
       "      <td>2495613</td>\n",
       "      <td>Corey Graham</td>\n",
       "      <td>FS</td>\n",
       "      <td>1.000000e+00</td>\n",
       "      <td>1</td>\n",
       "    </tr>\n",
       "    <tr>\n",
       "      <th>2</th>\n",
       "      <td>1</td>\n",
       "      <td>2018090600</td>\n",
       "      <td>75</td>\n",
       "      <td>2534832</td>\n",
       "      <td>Rodney McLeod</td>\n",
       "      <td>FS</td>\n",
       "      <td>9.999976e-01</td>\n",
       "      <td>1</td>\n",
       "    </tr>\n",
       "    <tr>\n",
       "      <th>0</th>\n",
       "      <td>1</td>\n",
       "      <td>2018090600</td>\n",
       "      <td>75</td>\n",
       "      <td>79848</td>\n",
       "      <td>Malcolm Jenkins</td>\n",
       "      <td>SS</td>\n",
       "      <td>4.219296e-07</td>\n",
       "      <td>0</td>\n",
       "    </tr>\n",
       "    <tr>\n",
       "      <th>...</th>\n",
       "      <td>...</td>\n",
       "      <td>...</td>\n",
       "      <td>...</td>\n",
       "      <td>...</td>\n",
       "      <td>...</td>\n",
       "      <td>...</td>\n",
       "      <td>...</td>\n",
       "      <td>...</td>\n",
       "    </tr>\n",
       "    <tr>\n",
       "      <th>32493</th>\n",
       "      <td>17</td>\n",
       "      <td>2018123015</td>\n",
       "      <td>4057</td>\n",
       "      <td>2558009</td>\n",
       "      <td>Budda Baker</td>\n",
       "      <td>FS</td>\n",
       "      <td>3.030520e-11</td>\n",
       "      <td>0</td>\n",
       "    </tr>\n",
       "    <tr>\n",
       "      <th>52975</th>\n",
       "      <td>17</td>\n",
       "      <td>2018123015</td>\n",
       "      <td>4104</td>\n",
       "      <td>2495504</td>\n",
       "      <td>Patrick Peterson</td>\n",
       "      <td>CB</td>\n",
       "      <td>2.332915e-11</td>\n",
       "      <td>0</td>\n",
       "    </tr>\n",
       "    <tr>\n",
       "      <th>52976</th>\n",
       "      <td>17</td>\n",
       "      <td>2018123015</td>\n",
       "      <td>4104</td>\n",
       "      <td>2540170</td>\n",
       "      <td>David Amerson</td>\n",
       "      <td>CB</td>\n",
       "      <td>1.000000e+00</td>\n",
       "      <td>1</td>\n",
       "    </tr>\n",
       "    <tr>\n",
       "      <th>32494</th>\n",
       "      <td>17</td>\n",
       "      <td>2018123015</td>\n",
       "      <td>4104</td>\n",
       "      <td>2495807</td>\n",
       "      <td>Antoine Bethea</td>\n",
       "      <td>FS</td>\n",
       "      <td>1.000000e+00</td>\n",
       "      <td>1</td>\n",
       "    </tr>\n",
       "    <tr>\n",
       "      <th>32495</th>\n",
       "      <td>17</td>\n",
       "      <td>2018123015</td>\n",
       "      <td>4104</td>\n",
       "      <td>2543830</td>\n",
       "      <td>Tre Boston</td>\n",
       "      <td>FS</td>\n",
       "      <td>1.000000e+00</td>\n",
       "      <td>1</td>\n",
       "    </tr>\n",
       "  </tbody>\n",
       "</table>\n",
       "<p>85473 rows × 8 columns</p>\n",
       "</div>"
      ],
      "text/plain": [
       "       week      gameId  playId    nflId       displayName position  \\\n",
       "0         1  2018090600      75  2552689      Ronald Darby       CB   \n",
       "1         1  2018090600      75  2555383       Jalen Mills       CB   \n",
       "1         1  2018090600      75  2495613      Corey Graham       FS   \n",
       "2         1  2018090600      75  2534832     Rodney McLeod       FS   \n",
       "0         1  2018090600      75    79848   Malcolm Jenkins       SS   \n",
       "...     ...         ...     ...      ...               ...      ...   \n",
       "32493    17  2018123015    4057  2558009       Budda Baker       FS   \n",
       "52975    17  2018123015    4104  2495504  Patrick Peterson       CB   \n",
       "52976    17  2018123015    4104  2540170     David Amerson       CB   \n",
       "32494    17  2018123015    4104  2495807    Antoine Bethea       FS   \n",
       "32495    17  2018123015    4104  2543830        Tre Boston       FS   \n",
       "\n",
       "       zone_probability  zone_flag  \n",
       "0          1.377183e-12          0  \n",
       "1          1.330787e-10          0  \n",
       "1          1.000000e+00          1  \n",
       "2          9.999976e-01          1  \n",
       "0          4.219296e-07          0  \n",
       "...                 ...        ...  \n",
       "32493      3.030520e-11          0  \n",
       "52975      2.332915e-11          0  \n",
       "52976      1.000000e+00          1  \n",
       "32494      1.000000e+00          1  \n",
       "32495      1.000000e+00          1  \n",
       "\n",
       "[85473 rows x 8 columns]"
      ]
     },
     "execution_count": 63,
     "metadata": {},
     "output_type": "execute_result"
    }
   ],
   "source": [
    "pass_attempt_df_final"
   ]
  },
  {
   "cell_type": "code",
   "execution_count": 65,
   "metadata": {
    "collapsed": true
   },
   "outputs": [],
   "source": [
    "pass_attempt_df_final.to_csv(\"~/Desktop/CoverageNet/src/01_identify_man_coverage/outputs/all_positions_pass_attempts_man_zone_classes.csv\", \n",
    "                             index = False)"
   ]
  },
  {
   "cell_type": "code",
   "execution_count": 64,
   "metadata": {},
   "outputs": [
    {
     "data": {
      "text/html": [
       "<div>\n",
       "<style scoped>\n",
       "    .dataframe tbody tr th:only-of-type {\n",
       "        vertical-align: middle;\n",
       "    }\n",
       "\n",
       "    .dataframe tbody tr th {\n",
       "        vertical-align: top;\n",
       "    }\n",
       "\n",
       "    .dataframe thead th {\n",
       "        text-align: right;\n",
       "    }\n",
       "</style>\n",
       "<table border=\"1\" class=\"dataframe\">\n",
       "  <thead>\n",
       "    <tr style=\"text-align: right;\">\n",
       "      <th></th>\n",
       "      <th>week</th>\n",
       "      <th>gameId</th>\n",
       "      <th>playId</th>\n",
       "      <th>nflId</th>\n",
       "      <th>displayName</th>\n",
       "      <th>position</th>\n",
       "      <th>off_var_time_0</th>\n",
       "      <th>off_var_time_0_1</th>\n",
       "      <th>off_var_time_1</th>\n",
       "      <th>off_var_time_1_2</th>\n",
       "      <th>...</th>\n",
       "      <th>off_dir_diff_between_ball_snap_and_pass_forward</th>\n",
       "      <th>best_cor_x_time_1</th>\n",
       "      <th>best_cor_x_time_1_2</th>\n",
       "      <th>best_cor_y_time_1</th>\n",
       "      <th>best_cor_y_time_1_2</th>\n",
       "      <th>best_cor_x_y_avg_time_1</th>\n",
       "      <th>best_cor_x_y_avg_time_1_2</th>\n",
       "      <th>cor_dist_inter</th>\n",
       "      <th>zone_probability</th>\n",
       "      <th>zone_flag</th>\n",
       "    </tr>\n",
       "  </thead>\n",
       "  <tbody>\n",
       "    <tr>\n",
       "      <th>2791</th>\n",
       "      <td>1</td>\n",
       "      <td>2018091001</td>\n",
       "      <td>3175</td>\n",
       "      <td>306</td>\n",
       "      <td>Dominique Rodgers-Cromartie</td>\n",
       "      <td>CB</td>\n",
       "      <td>0.001030</td>\n",
       "      <td>1.828340</td>\n",
       "      <td>2.051745</td>\n",
       "      <td>4.374495</td>\n",
       "      <td>...</td>\n",
       "      <td>12.97</td>\n",
       "      <td>0.996619</td>\n",
       "      <td>0.996559</td>\n",
       "      <td>0.998397</td>\n",
       "      <td>0.998692</td>\n",
       "      <td>0.997508</td>\n",
       "      <td>0.997626</td>\n",
       "      <td>0.153284</td>\n",
       "      <td>3.289500e-13</td>\n",
       "      <td>0</td>\n",
       "    </tr>\n",
       "    <tr>\n",
       "      <th>2792</th>\n",
       "      <td>1</td>\n",
       "      <td>2018091001</td>\n",
       "      <td>3175</td>\n",
       "      <td>2495617</td>\n",
       "      <td>Leon Hall</td>\n",
       "      <td>CB</td>\n",
       "      <td>0.135594</td>\n",
       "      <td>0.287196</td>\n",
       "      <td>0.328063</td>\n",
       "      <td>0.468380</td>\n",
       "      <td>...</td>\n",
       "      <td>3.48</td>\n",
       "      <td>0.998389</td>\n",
       "      <td>0.997318</td>\n",
       "      <td>0.968616</td>\n",
       "      <td>0.943793</td>\n",
       "      <td>0.983503</td>\n",
       "      <td>0.970555</td>\n",
       "      <td>0.272477</td>\n",
       "      <td>1.016458e-10</td>\n",
       "      <td>0</td>\n",
       "    </tr>\n",
       "    <tr>\n",
       "      <th>2793</th>\n",
       "      <td>1</td>\n",
       "      <td>2018091001</td>\n",
       "      <td>3175</td>\n",
       "      <td>2558062</td>\n",
       "      <td>Gareon Conley</td>\n",
       "      <td>CB</td>\n",
       "      <td>0.000701</td>\n",
       "      <td>3.846437</td>\n",
       "      <td>3.800498</td>\n",
       "      <td>4.511040</td>\n",
       "      <td>...</td>\n",
       "      <td>36.12</td>\n",
       "      <td>0.844782</td>\n",
       "      <td>0.698956</td>\n",
       "      <td>0.977344</td>\n",
       "      <td>0.838391</td>\n",
       "      <td>0.911063</td>\n",
       "      <td>0.768673</td>\n",
       "      <td>0.203309</td>\n",
       "      <td>1.000000e+00</td>\n",
       "      <td>1</td>\n",
       "    </tr>\n",
       "    <tr>\n",
       "      <th>1752</th>\n",
       "      <td>1</td>\n",
       "      <td>2018091001</td>\n",
       "      <td>3175</td>\n",
       "      <td>2495153</td>\n",
       "      <td>Marcus Gilchrist</td>\n",
       "      <td>FS</td>\n",
       "      <td>0.001652</td>\n",
       "      <td>7.899735</td>\n",
       "      <td>6.650955</td>\n",
       "      <td>6.290162</td>\n",
       "      <td>...</td>\n",
       "      <td>56.72</td>\n",
       "      <td>0.492665</td>\n",
       "      <td>0.502859</td>\n",
       "      <td>0.946094</td>\n",
       "      <td>0.965273</td>\n",
       "      <td>0.719379</td>\n",
       "      <td>0.734066</td>\n",
       "      <td>0.106732</td>\n",
       "      <td>1.000000e+00</td>\n",
       "      <td>1</td>\n",
       "    </tr>\n",
       "    <tr>\n",
       "      <th>1753</th>\n",
       "      <td>1</td>\n",
       "      <td>2018091001</td>\n",
       "      <td>3175</td>\n",
       "      <td>2507167</td>\n",
       "      <td>Reggie Nelson</td>\n",
       "      <td>FS</td>\n",
       "      <td>0.117265</td>\n",
       "      <td>0.259386</td>\n",
       "      <td>0.022739</td>\n",
       "      <td>0.021646</td>\n",
       "      <td>...</td>\n",
       "      <td>5.81</td>\n",
       "      <td>0.999645</td>\n",
       "      <td>0.999365</td>\n",
       "      <td>0.986681</td>\n",
       "      <td>0.987296</td>\n",
       "      <td>0.993163</td>\n",
       "      <td>0.993330</td>\n",
       "      <td>0.105495</td>\n",
       "      <td>1.045320e-10</td>\n",
       "      <td>0</td>\n",
       "    </tr>\n",
       "  </tbody>\n",
       "</table>\n",
       "<p>5 rows × 37 columns</p>\n",
       "</div>"
      ],
      "text/plain": [
       "      week      gameId  playId    nflId                  displayName position  \\\n",
       "2791     1  2018091001    3175      306  Dominique Rodgers-Cromartie       CB   \n",
       "2792     1  2018091001    3175  2495617                    Leon Hall       CB   \n",
       "2793     1  2018091001    3175  2558062                Gareon Conley       CB   \n",
       "1752     1  2018091001    3175  2495153             Marcus Gilchrist       FS   \n",
       "1753     1  2018091001    3175  2507167                Reggie Nelson       FS   \n",
       "\n",
       "      off_var_time_0  off_var_time_0_1  off_var_time_1  off_var_time_1_2  ...  \\\n",
       "2791        0.001030          1.828340        2.051745          4.374495  ...   \n",
       "2792        0.135594          0.287196        0.328063          0.468380  ...   \n",
       "2793        0.000701          3.846437        3.800498          4.511040  ...   \n",
       "1752        0.001652          7.899735        6.650955          6.290162  ...   \n",
       "1753        0.117265          0.259386        0.022739          0.021646  ...   \n",
       "\n",
       "      off_dir_diff_between_ball_snap_and_pass_forward  best_cor_x_time_1  \\\n",
       "2791                                            12.97           0.996619   \n",
       "2792                                             3.48           0.998389   \n",
       "2793                                            36.12           0.844782   \n",
       "1752                                            56.72           0.492665   \n",
       "1753                                             5.81           0.999645   \n",
       "\n",
       "      best_cor_x_time_1_2  best_cor_y_time_1  best_cor_y_time_1_2  \\\n",
       "2791             0.996559           0.998397             0.998692   \n",
       "2792             0.997318           0.968616             0.943793   \n",
       "2793             0.698956           0.977344             0.838391   \n",
       "1752             0.502859           0.946094             0.965273   \n",
       "1753             0.999365           0.986681             0.987296   \n",
       "\n",
       "      best_cor_x_y_avg_time_1  best_cor_x_y_avg_time_1_2  cor_dist_inter  \\\n",
       "2791                 0.997508                   0.997626        0.153284   \n",
       "2792                 0.983503                   0.970555        0.272477   \n",
       "2793                 0.911063                   0.768673        0.203309   \n",
       "1752                 0.719379                   0.734066        0.106732   \n",
       "1753                 0.993163                   0.993330        0.105495   \n",
       "\n",
       "      zone_probability  zone_flag  \n",
       "2791      3.289500e-13          0  \n",
       "2792      1.016458e-10          0  \n",
       "2793      1.000000e+00          1  \n",
       "1752      1.000000e+00          1  \n",
       "1753      1.045320e-10          0  \n",
       "\n",
       "[5 rows x 37 columns]"
      ]
     },
     "execution_count": 64,
     "metadata": {},
     "output_type": "execute_result"
    }
   ],
   "source": [
    "pass_attempt_df[(pass_attempt_df[\"gameId\"] == 2018091001) & (pass_attempt_df[\"playId\"] == 3175)]"
   ]
  },
  {
   "cell_type": "code",
   "execution_count": 188,
   "metadata": {},
   "outputs": [
    {
     "data": {
      "text/html": [
       "<div>\n",
       "<style scoped>\n",
       "    .dataframe tbody tr th:only-of-type {\n",
       "        vertical-align: middle;\n",
       "    }\n",
       "\n",
       "    .dataframe tbody tr th {\n",
       "        vertical-align: top;\n",
       "    }\n",
       "\n",
       "    .dataframe thead th {\n",
       "        text-align: right;\n",
       "    }\n",
       "</style>\n",
       "<table border=\"1\" class=\"dataframe\">\n",
       "  <thead>\n",
       "    <tr style=\"text-align: right;\">\n",
       "      <th></th>\n",
       "      <th>displayName</th>\n",
       "      <th>off_mean_time_0</th>\n",
       "      <th>off_mean_time_0_1</th>\n",
       "      <th>off_mean_time_1</th>\n",
       "      <th>off_mean_time_1_2</th>\n",
       "      <th>off_mean_time_2</th>\n",
       "    </tr>\n",
       "  </thead>\n",
       "  <tbody>\n",
       "    <tr>\n",
       "      <th>2845</th>\n",
       "      <td>Dominique Rodgers-Cromartie</td>\n",
       "      <td>7.798373</td>\n",
       "      <td>6.844617</td>\n",
       "      <td>6.491374</td>\n",
       "      <td>5.734336</td>\n",
       "      <td>2.327666</td>\n",
       "    </tr>\n",
       "    <tr>\n",
       "      <th>2846</th>\n",
       "      <td>Leon Hall</td>\n",
       "      <td>3.834059</td>\n",
       "      <td>3.626730</td>\n",
       "      <td>3.549941</td>\n",
       "      <td>3.489269</td>\n",
       "      <td>3.216243</td>\n",
       "    </tr>\n",
       "    <tr>\n",
       "      <th>2847</th>\n",
       "      <td>Gareon Conley</td>\n",
       "      <td>6.413693</td>\n",
       "      <td>4.712647</td>\n",
       "      <td>4.082630</td>\n",
       "      <td>3.528868</td>\n",
       "      <td>1.036941</td>\n",
       "    </tr>\n",
       "    <tr>\n",
       "      <th>1831</th>\n",
       "      <td>Marcus Gilchrist</td>\n",
       "      <td>8.756698</td>\n",
       "      <td>5.904875</td>\n",
       "      <td>4.848645</td>\n",
       "      <td>4.479064</td>\n",
       "      <td>2.815952</td>\n",
       "    </tr>\n",
       "    <tr>\n",
       "      <th>1832</th>\n",
       "      <td>Reggie Nelson</td>\n",
       "      <td>8.323294</td>\n",
       "      <td>9.072465</td>\n",
       "      <td>9.349936</td>\n",
       "      <td>9.367771</td>\n",
       "      <td>9.448030</td>\n",
       "    </tr>\n",
       "  </tbody>\n",
       "</table>\n",
       "</div>"
      ],
      "text/plain": [
       "                      displayName  off_mean_time_0  off_mean_time_0_1  \\\n",
       "2845  Dominique Rodgers-Cromartie         7.798373           6.844617   \n",
       "2846                    Leon Hall         3.834059           3.626730   \n",
       "2847                Gareon Conley         6.413693           4.712647   \n",
       "1831             Marcus Gilchrist         8.756698           5.904875   \n",
       "1832                Reggie Nelson         8.323294           9.072465   \n",
       "\n",
       "      off_mean_time_1  off_mean_time_1_2  off_mean_time_2  \n",
       "2845         6.491374           5.734336         2.327666  \n",
       "2846         3.549941           3.489269         3.216243  \n",
       "2847         4.082630           3.528868         1.036941  \n",
       "1831         4.848645           4.479064         2.815952  \n",
       "1832         9.349936           9.367771         9.448030  "
      ]
     },
     "execution_count": 188,
     "metadata": {},
     "output_type": "execute_result"
    }
   ],
   "source": [
    "pass_attempt_df[(pass_attempt_df[\"gameId\"] == 2018091001) & (pass_attempt_df[\"playId\"] == 3175)][[\"displayName\"] + \\\n",
    "                            list(pass_attempt_df.columns[['off_mean' in x for x in pass_attempt_df.columns]])]"
   ]
  },
  {
   "cell_type": "markdown",
   "metadata": {},
   "source": [
    "# Repeating for Sack Plays!"
   ]
  },
  {
   "cell_type": "code",
   "execution_count": 66,
   "metadata": {
    "collapsed": true
   },
   "outputs": [],
   "source": [
    "filter_col = [col for col in sacks_df if not '_o_' in col]\n",
    "sacks_df = sacks_df[filter_col]"
   ]
  },
  {
   "cell_type": "code",
   "execution_count": 67,
   "metadata": {
    "collapsed": true
   },
   "outputs": [],
   "source": [
    "filter_col = [col for col in sacks_df if not 'facing' in col]\n",
    "sacks_df = sacks_df[filter_col]"
   ]
  },
  {
   "cell_type": "code",
   "execution_count": 68,
   "metadata": {
    "collapsed": true
   },
   "outputs": [],
   "source": [
    "filter_col = [col for col in sacks_df if not 'var_y' in col]\n",
    "sacks_df = sacks_df[filter_col]"
   ]
  },
  {
   "cell_type": "code",
   "execution_count": 69,
   "metadata": {
    "collapsed": true
   },
   "outputs": [],
   "source": [
    "filter_col = [col for col in sacks_df if not 'var_x' in col]\n",
    "sacks_df = sacks_df[filter_col]"
   ]
  },
  {
   "cell_type": "code",
   "execution_count": 70,
   "metadata": {
    "collapsed": true
   },
   "outputs": [],
   "source": [
    "filter_col = [col for col in sacks_df if not 'def_mean_time_0' in col]\n",
    "sacks_df = sacks_df[filter_col]"
   ]
  },
  {
   "cell_type": "code",
   "execution_count": 71,
   "metadata": {
    "collapsed": true
   },
   "outputs": [],
   "source": [
    "filter_col = [col for col in sacks_df if not 'def' in col]\n",
    "sacks_df = sacks_df[filter_col]"
   ]
  },
  {
   "cell_type": "code",
   "execution_count": 72,
   "metadata": {
    "collapsed": true
   },
   "outputs": [],
   "source": [
    "filter_col = [col for col in sacks_df if not 'def_var_time_0' in col]\n",
    "sacks_df = sacks_df[filter_col]"
   ]
  },
  {
   "cell_type": "code",
   "execution_count": 73,
   "metadata": {},
   "outputs": [
    {
     "data": {
      "text/plain": [
       "Index(['week', 'gameId', 'playId', 'nflId', 'displayName', 'position',\n",
       "       'speed_var_time_0', 'speed_var_time_0_1', 'speed_var_time_1',\n",
       "       'speed_mean_time_0', 'speed_mean_time_0_1', 'speed_mean_time_1',\n",
       "       'off_var_time_0', 'off_var_time_0_1', 'off_var_time_1',\n",
       "       'off_mean_time_0', 'off_mean_time_0_1', 'off_mean_time_1',\n",
       "       'off_dir_var_time_0', 'off_dir_var_time_0_1', 'off_dir_var_time_1',\n",
       "       'off_dir_mean_time_0', 'off_dir_mean_time_0_1', 'off_dir_mean_time_1',\n",
       "       'rat_mean_time_0', 'rat_mean_time_0_1', 'rat_mean_time_1',\n",
       "       'rat_var_time_0', 'rat_var_time_0_1', 'rat_var_time_1', 'cor_x_time_0',\n",
       "       'cor_x_time_0_1', 'cor_x_time_1', 'cor_y_time_0', 'cor_y_time_0_1',\n",
       "       'cor_y_time_1', 'cor_s_time_0', 'cor_s_time_0_1', 'cor_s_time_1',\n",
       "       'cor_avg_x_y_time_0', 'cor_avg_x_y_time_0_1', 'cor_avg_x_y_time_1',\n",
       "       'cor_rot_best_x_time_0', 'cor_rot_best_x_time_0_1',\n",
       "       'cor_rot_best_x_time_1', 'cor_rot_best_y_time_0',\n",
       "       'cor_rot_best_y_time_0_1', 'cor_rot_best_y_time_1',\n",
       "       'cor_rot_best_x_y_time_0', 'cor_rot_best_x_y_time_0_1',\n",
       "       'cor_rot_best_x_y_time_1', 'ratio_ball_snap', 'ratio_qb_sack',\n",
       "       'cb_off_dir_diff_ball_snap', 'cb_off_dir_diff_qb_sack',\n",
       "       'cb_off_dist_ball_snap', 'cb_off_dist_qb_sack', 'best_cor_x_time_0',\n",
       "       'best_cor_x_time_0_1', 'best_cor_x_time_1', 'best_cor_y_time_0',\n",
       "       'best_cor_y_time_0_1', 'best_cor_y_time_1', 'best_cor_x_y_avg_time_0',\n",
       "       'best_cor_x_y_avg_time_0_1', 'best_cor_x_y_avg_time_1'],\n",
       "      dtype='object')"
      ]
     },
     "execution_count": 73,
     "metadata": {},
     "output_type": "execute_result"
    }
   ],
   "source": [
    "sacks_df.columns"
   ]
  },
  {
   "cell_type": "code",
   "execution_count": 74,
   "metadata": {
    "collapsed": true
   },
   "outputs": [],
   "source": [
    "filter_col = [col for col in sacks_df if not (('cor' in col) and ('best' not in col) and ('s' not in col))]\n",
    "sacks_df = sacks_df[filter_col]"
   ]
  },
  {
   "cell_type": "code",
   "execution_count": 75,
   "metadata": {
    "collapsed": true
   },
   "outputs": [],
   "source": [
    "filter_col = [col for col in sacks_df if not (('cor_rot' in col))]\n",
    "sacks_df = sacks_df[filter_col]"
   ]
  },
  {
   "cell_type": "code",
   "execution_count": 76,
   "metadata": {
    "collapsed": true
   },
   "outputs": [],
   "source": [
    "filter_col = [col for col in sacks_df if not (('cor' in col) and ('time_0' in col))]\n",
    "sacks_df = sacks_df[filter_col]"
   ]
  },
  {
   "cell_type": "code",
   "execution_count": 77,
   "metadata": {
    "collapsed": true
   },
   "outputs": [],
   "source": [
    "filter_col = [col for col in sacks_df if not (('cor' in col) and ('time_2' in col))]\n",
    "sacks_df = sacks_df[filter_col]"
   ]
  },
  {
   "cell_type": "code",
   "execution_count": 78,
   "metadata": {
    "collapsed": true
   },
   "outputs": [],
   "source": [
    "filter_col = [col for col in sacks_df if not 'off_dir_var_time_0' in col]\n",
    "sacks_df = sacks_df[filter_col]"
   ]
  },
  {
   "cell_type": "code",
   "execution_count": 79,
   "metadata": {
    "collapsed": true
   },
   "outputs": [],
   "source": [
    "filter_col = [col for col in sacks_df if not 'speed' in col]\n",
    "sacks_df = sacks_df[filter_col]"
   ]
  },
  {
   "cell_type": "code",
   "execution_count": 80,
   "metadata": {
    "collapsed": true
   },
   "outputs": [],
   "source": [
    "sacks_df = sacks_df.drop(['cb_off_dir_diff_ball_snap', 'cb_off_dist_ball_snap',\n",
    "                                       'off_dir_mean_time_0'\n",
    "                                       ], axis = 1)"
   ]
  },
  {
   "cell_type": "code",
   "execution_count": 81,
   "metadata": {
    "collapsed": true
   },
   "outputs": [],
   "source": [
    "filter_col = [col for col in sacks_df if (not 'rat' in col)|('ratio_pass_forward' in col)]\n",
    "sacks_df = sacks_df[filter_col]"
   ]
  },
  {
   "cell_type": "code",
   "execution_count": 82,
   "metadata": {
    "collapsed": true
   },
   "outputs": [],
   "source": [
    "filter_col = [col for col in sacks_df if (not '2' in col)]\n",
    "sacks_df = sacks_df[filter_col]"
   ]
  },
  {
   "cell_type": "code",
   "execution_count": 83,
   "metadata": {},
   "outputs": [
    {
     "data": {
      "text/plain": [
       "Index(['week', 'gameId', 'playId', 'nflId', 'displayName', 'position',\n",
       "       'off_var_time_0', 'off_var_time_0_1', 'off_var_time_1',\n",
       "       'off_mean_time_0', 'off_mean_time_0_1', 'off_mean_time_1',\n",
       "       'off_dir_var_time_1', 'off_dir_mean_time_0_1', 'off_dir_mean_time_1',\n",
       "       'cor_s_time_1', 'cb_off_dir_diff_qb_sack', 'cb_off_dist_qb_sack',\n",
       "       'best_cor_x_time_1', 'best_cor_y_time_1', 'best_cor_x_y_avg_time_1'],\n",
       "      dtype='object')"
      ]
     },
     "execution_count": 83,
     "metadata": {},
     "output_type": "execute_result"
    }
   ],
   "source": [
    "sacks_df.columns"
   ]
  },
  {
   "cell_type": "code",
   "execution_count": 84,
   "metadata": {
    "collapsed": true
   },
   "outputs": [],
   "source": [
    "sacks_df[\"cor_dist_inter\"] = (sacks_df[\"best_cor_x_y_avg_time_1\"]**2)/sacks_df[\"off_mean_time_1\"]\n",
    "sacks_df[\"cor_dist_inter\"] = sacks_df[\"cor_dist_inter\"].fillna(0)\n",
    "sacks_df[\"cor_dist_inter\"] = sacks_df[\"cor_dist_inter\"].replace([np.inf], \\\n",
    "                np.percentile(np.array(sacks_df[\"cor_dist_inter\"]), 99))\n",
    "sacks_df[\"cor_dist_inter\"] = sacks_df[\"cor_dist_inter\"].replace([-np.inf], \\\n",
    "                np.percentile(np.array(sacks_df[\"cor_dist_inter\"]), 1))"
   ]
  },
  {
   "cell_type": "code",
   "execution_count": 85,
   "metadata": {},
   "outputs": [
    {
     "data": {
      "text/html": [
       "<div>\n",
       "<style scoped>\n",
       "    .dataframe tbody tr th:only-of-type {\n",
       "        vertical-align: middle;\n",
       "    }\n",
       "\n",
       "    .dataframe tbody tr th {\n",
       "        vertical-align: top;\n",
       "    }\n",
       "\n",
       "    .dataframe thead th {\n",
       "        text-align: right;\n",
       "    }\n",
       "</style>\n",
       "<table border=\"1\" class=\"dataframe\">\n",
       "  <thead>\n",
       "    <tr style=\"text-align: right;\">\n",
       "      <th></th>\n",
       "      <th>week</th>\n",
       "      <th>gameId</th>\n",
       "      <th>playId</th>\n",
       "      <th>nflId</th>\n",
       "      <th>displayName</th>\n",
       "      <th>position</th>\n",
       "      <th>off_var_time_0</th>\n",
       "      <th>off_var_time_0_1</th>\n",
       "      <th>off_var_time_1</th>\n",
       "      <th>off_mean_time_0</th>\n",
       "      <th>...</th>\n",
       "      <th>off_dir_var_time_1</th>\n",
       "      <th>off_dir_mean_time_0_1</th>\n",
       "      <th>off_dir_mean_time_1</th>\n",
       "      <th>cor_s_time_1</th>\n",
       "      <th>cb_off_dir_diff_qb_sack</th>\n",
       "      <th>cb_off_dist_qb_sack</th>\n",
       "      <th>best_cor_x_time_1</th>\n",
       "      <th>best_cor_y_time_1</th>\n",
       "      <th>best_cor_x_y_avg_time_1</th>\n",
       "      <th>cor_dist_inter</th>\n",
       "    </tr>\n",
       "  </thead>\n",
       "  <tbody>\n",
       "    <tr>\n",
       "      <th>0</th>\n",
       "      <td>1</td>\n",
       "      <td>2018090600</td>\n",
       "      <td>776</td>\n",
       "      <td>2539334</td>\n",
       "      <td>Desmond Trufant</td>\n",
       "      <td>CB</td>\n",
       "      <td>0.000389</td>\n",
       "      <td>4.718561</td>\n",
       "      <td>5.473382</td>\n",
       "      <td>4.771215</td>\n",
       "      <td>...</td>\n",
       "      <td>514.650934</td>\n",
       "      <td>25.521875</td>\n",
       "      <td>17.195263</td>\n",
       "      <td>0.802340</td>\n",
       "      <td>37.12</td>\n",
       "      <td>11.512224</td>\n",
       "      <td>0.999221</td>\n",
       "      <td>0.993155</td>\n",
       "      <td>0.996188</td>\n",
       "      <td>0.156758</td>\n",
       "    </tr>\n",
       "    <tr>\n",
       "      <th>1</th>\n",
       "      <td>1</td>\n",
       "      <td>2018090600</td>\n",
       "      <td>776</td>\n",
       "      <td>2539653</td>\n",
       "      <td>Robert Alford</td>\n",
       "      <td>CB</td>\n",
       "      <td>0.000083</td>\n",
       "      <td>0.345370</td>\n",
       "      <td>0.251381</td>\n",
       "      <td>1.983317</td>\n",
       "      <td>...</td>\n",
       "      <td>236.038134</td>\n",
       "      <td>43.825208</td>\n",
       "      <td>13.468158</td>\n",
       "      <td>0.865475</td>\n",
       "      <td>21.84</td>\n",
       "      <td>0.890505</td>\n",
       "      <td>0.994428</td>\n",
       "      <td>0.981624</td>\n",
       "      <td>0.988026</td>\n",
       "      <td>0.931778</td>\n",
       "    </tr>\n",
       "    <tr>\n",
       "      <th>2</th>\n",
       "      <td>1</td>\n",
       "      <td>2018090600</td>\n",
       "      <td>839</td>\n",
       "      <td>2539334</td>\n",
       "      <td>Desmond Trufant</td>\n",
       "      <td>CB</td>\n",
       "      <td>0.019996</td>\n",
       "      <td>1.094198</td>\n",
       "      <td>1.178080</td>\n",
       "      <td>6.975783</td>\n",
       "      <td>...</td>\n",
       "      <td>52.918508</td>\n",
       "      <td>10.355593</td>\n",
       "      <td>7.144286</td>\n",
       "      <td>0.874752</td>\n",
       "      <td>4.38</td>\n",
       "      <td>4.687057</td>\n",
       "      <td>0.997203</td>\n",
       "      <td>0.996352</td>\n",
       "      <td>0.996778</td>\n",
       "      <td>0.163544</td>\n",
       "    </tr>\n",
       "    <tr>\n",
       "      <th>3</th>\n",
       "      <td>1</td>\n",
       "      <td>2018090600</td>\n",
       "      <td>839</td>\n",
       "      <td>2539653</td>\n",
       "      <td>Robert Alford</td>\n",
       "      <td>CB</td>\n",
       "      <td>0.000035</td>\n",
       "      <td>7.452315</td>\n",
       "      <td>8.463855</td>\n",
       "      <td>2.132386</td>\n",
       "      <td>...</td>\n",
       "      <td>530.482807</td>\n",
       "      <td>38.213051</td>\n",
       "      <td>41.381837</td>\n",
       "      <td>0.953466</td>\n",
       "      <td>11.56</td>\n",
       "      <td>1.568949</td>\n",
       "      <td>0.788554</td>\n",
       "      <td>0.750077</td>\n",
       "      <td>0.769315</td>\n",
       "      <td>0.151729</td>\n",
       "    </tr>\n",
       "    <tr>\n",
       "      <th>4</th>\n",
       "      <td>1</td>\n",
       "      <td>2018090600</td>\n",
       "      <td>839</td>\n",
       "      <td>2556445</td>\n",
       "      <td>Brian Poole</td>\n",
       "      <td>CB</td>\n",
       "      <td>0.080615</td>\n",
       "      <td>1.350028</td>\n",
       "      <td>1.574009</td>\n",
       "      <td>6.138672</td>\n",
       "      <td>...</td>\n",
       "      <td>3075.144862</td>\n",
       "      <td>52.003220</td>\n",
       "      <td>48.922041</td>\n",
       "      <td>0.116535</td>\n",
       "      <td>115.44</td>\n",
       "      <td>5.015117</td>\n",
       "      <td>0.922971</td>\n",
       "      <td>0.888392</td>\n",
       "      <td>0.905682</td>\n",
       "      <td>0.145306</td>\n",
       "    </tr>\n",
       "    <tr>\n",
       "      <th>5</th>\n",
       "      <td>1</td>\n",
       "      <td>2018090600</td>\n",
       "      <td>1568</td>\n",
       "      <td>2552689</td>\n",
       "      <td>Ronald Darby</td>\n",
       "      <td>CB</td>\n",
       "      <td>0.000058</td>\n",
       "      <td>10.208990</td>\n",
       "      <td>8.961597</td>\n",
       "      <td>9.037849</td>\n",
       "      <td>...</td>\n",
       "      <td>67.413851</td>\n",
       "      <td>7.592000</td>\n",
       "      <td>8.275500</td>\n",
       "      <td>0.894654</td>\n",
       "      <td>8.67</td>\n",
       "      <td>1.552192</td>\n",
       "      <td>0.994436</td>\n",
       "      <td>0.856548</td>\n",
       "      <td>0.925492</td>\n",
       "      <td>0.182354</td>\n",
       "    </tr>\n",
       "    <tr>\n",
       "      <th>6</th>\n",
       "      <td>1</td>\n",
       "      <td>2018090600</td>\n",
       "      <td>1568</td>\n",
       "      <td>2555383</td>\n",
       "      <td>Jalen Mills</td>\n",
       "      <td>CB</td>\n",
       "      <td>0.038938</td>\n",
       "      <td>2.510159</td>\n",
       "      <td>1.547464</td>\n",
       "      <td>4.623992</td>\n",
       "      <td>...</td>\n",
       "      <td>2037.377201</td>\n",
       "      <td>25.163000</td>\n",
       "      <td>26.567000</td>\n",
       "      <td>0.876558</td>\n",
       "      <td>9.47</td>\n",
       "      <td>0.889550</td>\n",
       "      <td>0.980798</td>\n",
       "      <td>0.990751</td>\n",
       "      <td>0.985775</td>\n",
       "      <td>0.530008</td>\n",
       "    </tr>\n",
       "    <tr>\n",
       "      <th>7</th>\n",
       "      <td>1</td>\n",
       "      <td>2018090600</td>\n",
       "      <td>1568</td>\n",
       "      <td>2557958</td>\n",
       "      <td>Sidney Jones</td>\n",
       "      <td>CB</td>\n",
       "      <td>0.482190</td>\n",
       "      <td>0.753213</td>\n",
       "      <td>0.523905</td>\n",
       "      <td>3.230003</td>\n",
       "      <td>...</td>\n",
       "      <td>425.069416</td>\n",
       "      <td>17.476200</td>\n",
       "      <td>11.718000</td>\n",
       "      <td>0.975121</td>\n",
       "      <td>4.31</td>\n",
       "      <td>1.185116</td>\n",
       "      <td>0.981283</td>\n",
       "      <td>0.999108</td>\n",
       "      <td>0.990195</td>\n",
       "      <td>0.490645</td>\n",
       "    </tr>\n",
       "    <tr>\n",
       "      <th>8</th>\n",
       "      <td>1</td>\n",
       "      <td>2018090600</td>\n",
       "      <td>3815</td>\n",
       "      <td>2552689</td>\n",
       "      <td>Ronald Darby</td>\n",
       "      <td>CB</td>\n",
       "      <td>0.000051</td>\n",
       "      <td>9.803451</td>\n",
       "      <td>8.094433</td>\n",
       "      <td>11.349277</td>\n",
       "      <td>...</td>\n",
       "      <td>282.765748</td>\n",
       "      <td>18.388113</td>\n",
       "      <td>20.316279</td>\n",
       "      <td>0.880891</td>\n",
       "      <td>6.99</td>\n",
       "      <td>4.393290</td>\n",
       "      <td>0.990762</td>\n",
       "      <td>0.904859</td>\n",
       "      <td>0.947810</td>\n",
       "      <td>0.132611</td>\n",
       "    </tr>\n",
       "    <tr>\n",
       "      <th>9</th>\n",
       "      <td>1</td>\n",
       "      <td>2018090600</td>\n",
       "      <td>3815</td>\n",
       "      <td>2555383</td>\n",
       "      <td>Jalen Mills</td>\n",
       "      <td>CB</td>\n",
       "      <td>0.000510</td>\n",
       "      <td>3.415404</td>\n",
       "      <td>3.359826</td>\n",
       "      <td>9.701411</td>\n",
       "      <td>...</td>\n",
       "      <td>304.011646</td>\n",
       "      <td>34.422075</td>\n",
       "      <td>22.467907</td>\n",
       "      <td>0.961576</td>\n",
       "      <td>43.73</td>\n",
       "      <td>11.496617</td>\n",
       "      <td>0.979095</td>\n",
       "      <td>0.952453</td>\n",
       "      <td>0.965774</td>\n",
       "      <td>0.123036</td>\n",
       "    </tr>\n",
       "  </tbody>\n",
       "</table>\n",
       "<p>10 rows × 22 columns</p>\n",
       "</div>"
      ],
      "text/plain": [
       "   week      gameId  playId    nflId      displayName position  \\\n",
       "0     1  2018090600     776  2539334  Desmond Trufant       CB   \n",
       "1     1  2018090600     776  2539653    Robert Alford       CB   \n",
       "2     1  2018090600     839  2539334  Desmond Trufant       CB   \n",
       "3     1  2018090600     839  2539653    Robert Alford       CB   \n",
       "4     1  2018090600     839  2556445      Brian Poole       CB   \n",
       "5     1  2018090600    1568  2552689     Ronald Darby       CB   \n",
       "6     1  2018090600    1568  2555383      Jalen Mills       CB   \n",
       "7     1  2018090600    1568  2557958     Sidney Jones       CB   \n",
       "8     1  2018090600    3815  2552689     Ronald Darby       CB   \n",
       "9     1  2018090600    3815  2555383      Jalen Mills       CB   \n",
       "\n",
       "   off_var_time_0  off_var_time_0_1  off_var_time_1  off_mean_time_0  ...  \\\n",
       "0        0.000389          4.718561        5.473382         4.771215  ...   \n",
       "1        0.000083          0.345370        0.251381         1.983317  ...   \n",
       "2        0.019996          1.094198        1.178080         6.975783  ...   \n",
       "3        0.000035          7.452315        8.463855         2.132386  ...   \n",
       "4        0.080615          1.350028        1.574009         6.138672  ...   \n",
       "5        0.000058         10.208990        8.961597         9.037849  ...   \n",
       "6        0.038938          2.510159        1.547464         4.623992  ...   \n",
       "7        0.482190          0.753213        0.523905         3.230003  ...   \n",
       "8        0.000051          9.803451        8.094433        11.349277  ...   \n",
       "9        0.000510          3.415404        3.359826         9.701411  ...   \n",
       "\n",
       "   off_dir_var_time_1  off_dir_mean_time_0_1  off_dir_mean_time_1  \\\n",
       "0          514.650934              25.521875            17.195263   \n",
       "1          236.038134              43.825208            13.468158   \n",
       "2           52.918508              10.355593             7.144286   \n",
       "3          530.482807              38.213051            41.381837   \n",
       "4         3075.144862              52.003220            48.922041   \n",
       "5           67.413851               7.592000             8.275500   \n",
       "6         2037.377201              25.163000            26.567000   \n",
       "7          425.069416              17.476200            11.718000   \n",
       "8          282.765748              18.388113            20.316279   \n",
       "9          304.011646              34.422075            22.467907   \n",
       "\n",
       "   cor_s_time_1  cb_off_dir_diff_qb_sack  cb_off_dist_qb_sack  \\\n",
       "0      0.802340                    37.12            11.512224   \n",
       "1      0.865475                    21.84             0.890505   \n",
       "2      0.874752                     4.38             4.687057   \n",
       "3      0.953466                    11.56             1.568949   \n",
       "4      0.116535                   115.44             5.015117   \n",
       "5      0.894654                     8.67             1.552192   \n",
       "6      0.876558                     9.47             0.889550   \n",
       "7      0.975121                     4.31             1.185116   \n",
       "8      0.880891                     6.99             4.393290   \n",
       "9      0.961576                    43.73            11.496617   \n",
       "\n",
       "   best_cor_x_time_1  best_cor_y_time_1  best_cor_x_y_avg_time_1  \\\n",
       "0           0.999221           0.993155                 0.996188   \n",
       "1           0.994428           0.981624                 0.988026   \n",
       "2           0.997203           0.996352                 0.996778   \n",
       "3           0.788554           0.750077                 0.769315   \n",
       "4           0.922971           0.888392                 0.905682   \n",
       "5           0.994436           0.856548                 0.925492   \n",
       "6           0.980798           0.990751                 0.985775   \n",
       "7           0.981283           0.999108                 0.990195   \n",
       "8           0.990762           0.904859                 0.947810   \n",
       "9           0.979095           0.952453                 0.965774   \n",
       "\n",
       "   cor_dist_inter  \n",
       "0        0.156758  \n",
       "1        0.931778  \n",
       "2        0.163544  \n",
       "3        0.151729  \n",
       "4        0.145306  \n",
       "5        0.182354  \n",
       "6        0.530008  \n",
       "7        0.490645  \n",
       "8        0.132611  \n",
       "9        0.123036  \n",
       "\n",
       "[10 rows x 22 columns]"
      ]
     },
     "execution_count": 85,
     "metadata": {},
     "output_type": "execute_result"
    }
   ],
   "source": [
    "sacks_df.head(10)"
   ]
  },
  {
   "cell_type": "code",
   "execution_count": 86,
   "metadata": {},
   "outputs": [
    {
     "data": {
      "text/plain": [
       "Index(['week', 'gameId', 'playId', 'nflId', 'displayName', 'position',\n",
       "       'off_var_time_0', 'off_var_time_0_1', 'off_var_time_1',\n",
       "       'off_mean_time_0', 'off_mean_time_0_1', 'off_mean_time_1',\n",
       "       'off_dir_var_time_1', 'off_dir_mean_time_0_1', 'off_dir_mean_time_1',\n",
       "       'cor_s_time_1', 'cb_off_dir_diff_qb_sack', 'cb_off_dist_qb_sack',\n",
       "       'best_cor_x_time_1', 'best_cor_y_time_1', 'best_cor_x_y_avg_time_1',\n",
       "       'cor_dist_inter'],\n",
       "      dtype='object')"
      ]
     },
     "execution_count": 86,
     "metadata": {},
     "output_type": "execute_result"
    }
   ],
   "source": [
    "sacks_df.columns"
   ]
  },
  {
   "cell_type": "markdown",
   "metadata": {},
   "source": [
    "### Preparing Train/Test Groups"
   ]
  },
  {
   "cell_type": "code",
   "execution_count": 87,
   "metadata": {
    "collapsed": true
   },
   "outputs": [],
   "source": [
    "weeks_exclude = [1, 2, 3]\n",
    "train = sacks_df[[x not in weeks_exclude for x in list(sacks_df[\"week\"])]]\n",
    "test = sacks_df[[x in weeks_exclude for x in list(sacks_df[\"week\"])]]"
   ]
  },
  {
   "cell_type": "code",
   "execution_count": 88,
   "metadata": {
    "collapsed": true
   },
   "outputs": [],
   "source": [
    "X_train = train.drop(['week', 'gameId','playId','nflId','displayName','position'], axis = 1)\n",
    "X_test = test.drop(['week', 'gameId','playId','nflId','displayName','position'], axis = 1)"
   ]
  },
  {
   "cell_type": "code",
   "execution_count": 89,
   "metadata": {},
   "outputs": [
    {
     "name": "stdout",
     "output_type": "stream",
     "text": [
      "(5002, 16)\n",
      "(1105, 16)\n"
     ]
    }
   ],
   "source": [
    "print(X_train.shape)\n",
    "print(X_test.shape)"
   ]
  },
  {
   "cell_type": "markdown",
   "metadata": {},
   "source": [
    "### Fitting GMM Model"
   ]
  },
  {
   "cell_type": "code",
   "execution_count": 90,
   "metadata": {
    "collapsed": true
   },
   "outputs": [],
   "source": [
    "# train\n",
    "clf_train = mixture.GaussianMixture(n_components=2, covariance_type='full')\n",
    "f_train = clf_train.fit(X_train)"
   ]
  },
  {
   "cell_type": "code",
   "execution_count": 91,
   "metadata": {
    "collapsed": true
   },
   "outputs": [],
   "source": [
    "# test\n",
    "clf_test = mixture.GaussianMixture(n_components=2, covariance_type='full')\n",
    "f_test = clf_test.fit(X_test)"
   ]
  },
  {
   "cell_type": "markdown",
   "metadata": {},
   "source": [
    "### Examining Cluster Results"
   ]
  },
  {
   "cell_type": "code",
   "execution_count": 92,
   "metadata": {
    "collapsed": true
   },
   "outputs": [],
   "source": [
    "def get_cluster_means(X, f):\n",
    "    cluster_means = {}\n",
    "    for iCnt in range(len(X.columns)):\n",
    "        cluster_means.update({X.columns[iCnt]:(f.means_[0][iCnt],f.means_[1][iCnt])})\n",
    "    return cluster_means"
   ]
  },
  {
   "cell_type": "code",
   "execution_count": 93,
   "metadata": {},
   "outputs": [
    {
     "data": {
      "text/plain": [
       "{'best_cor_x_time_1': (0.9853014762710323, 0.821367607572445),\n",
       " 'best_cor_x_y_avg_time_1': (0.9774283561003013, 0.8013035789766353),\n",
       " 'best_cor_y_time_1': (0.96955523592957, 0.7812395503808254),\n",
       " 'cb_off_dir_diff_qb_sack': (20.926085502183494, 49.23341196067862),\n",
       " 'cb_off_dist_qb_sack': (3.459339957451324, 6.4194304919051115),\n",
       " 'cor_dist_inter': (0.35226048551006556, 0.11030304547356305),\n",
       " 'cor_s_time_1': (0.8604521701578127, 0.6214226489819943),\n",
       " 'off_dir_mean_time_0_1': (34.41658620215814, 56.35621212023103),\n",
       " 'off_dir_mean_time_1': (22.338351517815777, 49.53526648506586),\n",
       " 'off_dir_var_time_1': (758.5179269372616, 1497.9163317733824),\n",
       " 'off_mean_time_0': (6.661796572149317, 10.973599169147993),\n",
       " 'off_mean_time_0_1': (5.026657965834637, 8.849134888184897),\n",
       " 'off_mean_time_1': (4.6335159226174225, 8.369035451722434),\n",
       " 'off_var_time_0': (0.042642681032252064, 0.06503043287544039),\n",
       " 'off_var_time_0_1': (3.345359493611976, 9.505067899258467),\n",
       " 'off_var_time_1': (3.0089238509546163, 8.864722090240225)}"
      ]
     },
     "execution_count": 93,
     "metadata": {},
     "output_type": "execute_result"
    }
   ],
   "source": [
    "get_cluster_means(X_train, f_train)"
   ]
  },
  {
   "cell_type": "markdown",
   "metadata": {
    "collapsed": true
   },
   "source": [
    "### Computing Rand Index"
   ]
  },
  {
   "cell_type": "code",
   "execution_count": 94,
   "metadata": {
    "collapsed": true
   },
   "outputs": [],
   "source": [
    "from sklearn.metrics import adjusted_rand_score"
   ]
  },
  {
   "cell_type": "code",
   "execution_count": 95,
   "metadata": {
    "collapsed": true
   },
   "outputs": [],
   "source": [
    "y_train = f_train.predict(X_test)\n",
    "y_test = f_test.predict(X_test)"
   ]
  },
  {
   "cell_type": "code",
   "execution_count": 96,
   "metadata": {},
   "outputs": [
    {
     "data": {
      "text/plain": [
       "0.7976456757299162"
      ]
     },
     "execution_count": 96,
     "metadata": {},
     "output_type": "execute_result"
    }
   ],
   "source": [
    "adjusted_rand_score(y_train, y_test)"
   ]
  },
  {
   "cell_type": "markdown",
   "metadata": {},
   "source": [
    "### Iterating Through To Get Cross-Validation Scores"
   ]
  },
  {
   "cell_type": "code",
   "execution_count": 97,
   "metadata": {
    "collapsed": true
   },
   "outputs": [],
   "source": [
    "weeks_exclude_vect = [[1,2,3],[4,5,6],[7,8,9],[10,11,12],[13,14,15],[15,16,17]]\n",
    "G_vect = [2, 3, 4, 5, 6, 7, 8, 9]\n",
    "rand_index_G_vect = []"
   ]
  },
  {
   "cell_type": "code",
   "execution_count": 168,
   "metadata": {
    "scrolled": true
   },
   "outputs": [
    {
     "name": "stdout",
     "output_type": "stream",
     "text": [
      "0.561473542556974\n",
      "0.5919062575596064\n",
      "0.30586623608636493\n",
      "0.24604490768222553\n",
      "0.27733097122708683\n",
      "0.3169831472245106\n",
      "0.3310993168172608\n",
      "0.29090753264663544\n"
     ]
    }
   ],
   "source": [
    "for G in G_vect:\n",
    "    rand_index_sum = 0\n",
    "    # iterating through the week groupings to leave out\n",
    "    for weeks_exclue in weeks_exclude_vect:\n",
    "        # creating train/test groups\n",
    "        train = sacks_df[[x not in weeks_exclude for x in list(sacks_df[\"week\"])]]\n",
    "        test = sacks_df[[x in weeks_exclude for x in list(sacks_df[\"week\"])]]\n",
    "\n",
    "        X_train = train.drop(['week', 'gameId','playId','nflId','displayName','position'], axis = 1)\n",
    "        X_test = test.drop(['week', 'gameId','playId','nflId','displayName','position'], axis = 1)\n",
    "\n",
    "        # train\n",
    "        clf_train = mixture.GaussianMixture(n_components=G, covariance_type='full', \n",
    "                                            n_init = 2, max_iter = 200)\n",
    "        f_train = clf_train.fit(X_train)\n",
    "\n",
    "        # test\n",
    "        clf_test = mixture.GaussianMixture(n_components=G, covariance_type='full',\n",
    "                                           n_init = 2, max_iter = 200)\n",
    "        f_test = clf_test.fit(X_test)\n",
    "\n",
    "        # classifying test group\n",
    "        y_train = f_train.predict(X_test)\n",
    "        y_test = f_test.predict(X_test)\n",
    "\n",
    "        # appling the adjusted rand index\n",
    "        rand_index_val = adjusted_rand_score(y_train, y_test)\n",
    "        rand_index_sum += rand_index_val\n",
    "\n",
    "    rand_index = rand_index_sum/len(weeks_exclude_vect)\n",
    "    \n",
    "    rand_index_G_vect.append(rand_index)\n",
    "    \n",
    "    print(rand_index)"
   ]
  },
  {
   "cell_type": "markdown",
   "metadata": {},
   "source": [
    "### Plot eliminating x/y var, speed, and def based variables, replacing Ratio with Cor"
   ]
  },
  {
   "cell_type": "code",
   "execution_count": 169,
   "metadata": {},
   "outputs": [
    {
     "data": {
      "image/png": "[encoded data removed]",
      "text/plain": [
       "<matplotlib.figure.Figure at 0x124312828>"
      ]
     },
     "metadata": {},
     "output_type": "display_data"
    }
   ],
   "source": [
    "plt.pyplot.figure(figsize=(10, 6))\n",
    "# plotting the results\n",
    "plt.pyplot.bar(x = G_vect,\n",
    "               height = rand_index_G_vect,\n",
    "               width = .55)\n",
    "plt.pyplot.xlabel('Number of Clusters ($G*$)')\n",
    "plt.pyplot.ylabel('ARI Score')\n",
    "plt.pyplot.ylim(0,1)\n",
    "plt.pyplot.title('ARI Score vs. Number of Clusters')\n",
    "plt.pyplot.show()"
   ]
  },
  {
   "cell_type": "markdown",
   "metadata": {},
   "source": [
    "### Feature Importance"
   ]
  },
  {
   "cell_type": "code",
   "execution_count": 170,
   "metadata": {
    "collapsed": true
   },
   "outputs": [],
   "source": [
    "import sys\n",
    "weeks_exclude_vect = [[1,2,3],[4,5,6],[7,8,9],[10,11,12],[13,14,15],[15,16,17]]\n",
    "feature_list = list(X_train.columns)\n",
    "rand_index_vect = []\n",
    "\n",
    "# making a waitbar\n",
    "toolbar_width = len(feature_list)"
   ]
  },
  {
   "cell_type": "code",
   "execution_count": 171,
   "metadata": {},
   "outputs": [
    {
     "name": "stdout",
     "output_type": "stream",
     "text": [
      "[                ----------------"
     ]
    }
   ],
   "source": [
    "sys.stdout.write(\"[%s]\" % (\" \" * toolbar_width))\n",
    "sys.stdout.flush()\n",
    "sys.stdout.write(\"\\b\" * (toolbar_width+1))\n",
    "\n",
    "for feature in feature_list:\n",
    "    \n",
    "    rand_index_sum = 0\n",
    "\n",
    "    # iterating through the week groupings to leave out\n",
    "    for weeks_exclue in weeks_exclude_vect:\n",
    "        # creating train/test groups\n",
    "        train = sacks_df[[x not in weeks_exclude for \\\n",
    "                                 x in list(sacks_df[\"week\"])]].drop([feature], axis = 1)\n",
    "        test = sacks_df[[x in weeks_exclude for \\\n",
    "                                x in list(sacks_df[\"week\"])]].drop([feature], axis = 1)\n",
    "\n",
    "        X_train = train.drop(['week', 'gameId','playId','nflId','displayName','position'], axis = 1)\n",
    "        X_test = test.drop(['week', 'gameId','playId','nflId','displayName','position'], axis = 1)\n",
    "\n",
    "        # train\n",
    "        clf_train = mixture.GaussianMixture(n_components=2, covariance_type='full')\n",
    "        f_train = clf_train.fit(X_train)\n",
    "\n",
    "        # test\n",
    "        clf_test = mixture.GaussianMixture(n_components=2, covariance_type='full')\n",
    "        f_test = clf_test.fit(X_test)\n",
    "\n",
    "        # classifying test group\n",
    "        y_train = f_train.predict(X_test)\n",
    "        y_test = f_test.predict(X_test)\n",
    "\n",
    "        # appling the adjusted rand index\n",
    "        rand_index_val = adjusted_rand_score(y_train, y_test)\n",
    "        rand_index_sum += rand_index_val\n",
    "\n",
    "    rand_index = rand_index_sum/len(weeks_exclude_vect)\n",
    "    \n",
    "    rand_index_vect.append(rand_index)\n",
    "    \n",
    "    sys.stdout.write(\"-\")\n",
    "    sys.stdout.flush()"
   ]
  },
  {
   "cell_type": "code",
   "execution_count": 172,
   "metadata": {
    "collapsed": true
   },
   "outputs": [],
   "source": [
    "d = {'feature': feature_list, 'delta_ARI': rand_index_G_vect[0] - np.array(rand_index_vect)}\n",
    "feature_imp_df = pd.DataFrame(data=d).sort_values('delta_ARI', ascending = False)\n",
    "feature_imp_df[\"base_feature\"] = [x.split('_pass_forward')[0] if \"pass_forward\" in x \\\n",
    "                                  else x.split('_ball_snap')[0] if \"ball_snap\" in x \\\n",
    "                                  else x.split('_time')[0] for x in np.array(feature_imp_df[\"feature\"])]\n",
    "feature_imp_df[\"time_period\"] = [\"Before Ball Thrown\" if \"pass_forward\" in x \\\n",
    "                                 else \"Before Ball Thrown\" if \"ball_snap\" in x \\\n",
    "                                 else \"After Ball Thrown\" if x.endswith(\"2\") \\\n",
    "                                 else \"Before Ball Thrown\" for x in np.array(feature_imp_df[\"feature\"])]\n",
    "feature_imp_df[\"feature\"] = [x.upper() for x in feature_imp_df[\"feature\"]]"
   ]
  },
  {
   "cell_type": "code",
   "execution_count": 173,
   "metadata": {},
   "outputs": [
    {
     "data": {
      "image/png": "[encoded data removed]",
      "text/plain": [
       "<matplotlib.figure.Figure at 0x123cc67b8>"
      ]
     },
     "metadata": {},
     "output_type": "display_data"
    }
   ],
   "source": [
    "plt.pyplot.figure(figsize=(7,7))\n",
    "\n",
    "sns.barplot(x=\"delta_ARI\", y=\"feature\", data=feature_imp_df.head(10).sort_values('delta_ARI', ascending = True),\n",
    "            hue = \"time_period\", dodge = False, palette = [\"red\", \"blue\"])\n",
    "plt.pyplot.gca().legend().set_title('')\n",
    "plt.pyplot.title('Change in ARI vs. Feature')\n",
    "plt.pyplot.ylabel('Feature Name')\n",
    "plt.pyplot.xlabel('Change In ARI')\n",
    "plt.pyplot.show()"
   ]
  },
  {
   "cell_type": "markdown",
   "metadata": {},
   "source": [
    "### Scoring All Plays"
   ]
  },
  {
   "cell_type": "code",
   "execution_count": 98,
   "metadata": {},
   "outputs": [
    {
     "data": {
      "text/html": [
       "<div>\n",
       "<style scoped>\n",
       "    .dataframe tbody tr th:only-of-type {\n",
       "        vertical-align: middle;\n",
       "    }\n",
       "\n",
       "    .dataframe tbody tr th {\n",
       "        vertical-align: top;\n",
       "    }\n",
       "\n",
       "    .dataframe thead th {\n",
       "        text-align: right;\n",
       "    }\n",
       "</style>\n",
       "<table border=\"1\" class=\"dataframe\">\n",
       "  <thead>\n",
       "    <tr style=\"text-align: right;\">\n",
       "      <th></th>\n",
       "      <th>week</th>\n",
       "      <th>gameId</th>\n",
       "      <th>playId</th>\n",
       "      <th>nflId</th>\n",
       "      <th>displayName</th>\n",
       "      <th>position</th>\n",
       "      <th>off_var_time_0</th>\n",
       "      <th>off_var_time_0_1</th>\n",
       "      <th>off_var_time_1</th>\n",
       "      <th>off_mean_time_0</th>\n",
       "      <th>...</th>\n",
       "      <th>off_dir_var_time_1</th>\n",
       "      <th>off_dir_mean_time_0_1</th>\n",
       "      <th>off_dir_mean_time_1</th>\n",
       "      <th>cor_s_time_1</th>\n",
       "      <th>cb_off_dir_diff_qb_sack</th>\n",
       "      <th>cb_off_dist_qb_sack</th>\n",
       "      <th>best_cor_x_time_1</th>\n",
       "      <th>best_cor_y_time_1</th>\n",
       "      <th>best_cor_x_y_avg_time_1</th>\n",
       "      <th>cor_dist_inter</th>\n",
       "    </tr>\n",
       "  </thead>\n",
       "  <tbody>\n",
       "    <tr>\n",
       "      <th>0</th>\n",
       "      <td>1</td>\n",
       "      <td>2018090600</td>\n",
       "      <td>776</td>\n",
       "      <td>2539334</td>\n",
       "      <td>Desmond Trufant</td>\n",
       "      <td>CB</td>\n",
       "      <td>0.000389</td>\n",
       "      <td>4.718561</td>\n",
       "      <td>5.473382</td>\n",
       "      <td>4.771215</td>\n",
       "      <td>...</td>\n",
       "      <td>514.650934</td>\n",
       "      <td>25.521875</td>\n",
       "      <td>17.195263</td>\n",
       "      <td>0.802340</td>\n",
       "      <td>37.12</td>\n",
       "      <td>11.512224</td>\n",
       "      <td>0.999221</td>\n",
       "      <td>0.993155</td>\n",
       "      <td>0.996188</td>\n",
       "      <td>0.156758</td>\n",
       "    </tr>\n",
       "    <tr>\n",
       "      <th>1</th>\n",
       "      <td>1</td>\n",
       "      <td>2018090600</td>\n",
       "      <td>776</td>\n",
       "      <td>2539653</td>\n",
       "      <td>Robert Alford</td>\n",
       "      <td>CB</td>\n",
       "      <td>0.000083</td>\n",
       "      <td>0.345370</td>\n",
       "      <td>0.251381</td>\n",
       "      <td>1.983317</td>\n",
       "      <td>...</td>\n",
       "      <td>236.038134</td>\n",
       "      <td>43.825208</td>\n",
       "      <td>13.468158</td>\n",
       "      <td>0.865475</td>\n",
       "      <td>21.84</td>\n",
       "      <td>0.890505</td>\n",
       "      <td>0.994428</td>\n",
       "      <td>0.981624</td>\n",
       "      <td>0.988026</td>\n",
       "      <td>0.931778</td>\n",
       "    </tr>\n",
       "    <tr>\n",
       "      <th>2</th>\n",
       "      <td>1</td>\n",
       "      <td>2018090600</td>\n",
       "      <td>839</td>\n",
       "      <td>2539334</td>\n",
       "      <td>Desmond Trufant</td>\n",
       "      <td>CB</td>\n",
       "      <td>0.019996</td>\n",
       "      <td>1.094198</td>\n",
       "      <td>1.178080</td>\n",
       "      <td>6.975783</td>\n",
       "      <td>...</td>\n",
       "      <td>52.918508</td>\n",
       "      <td>10.355593</td>\n",
       "      <td>7.144286</td>\n",
       "      <td>0.874752</td>\n",
       "      <td>4.38</td>\n",
       "      <td>4.687057</td>\n",
       "      <td>0.997203</td>\n",
       "      <td>0.996352</td>\n",
       "      <td>0.996778</td>\n",
       "      <td>0.163544</td>\n",
       "    </tr>\n",
       "    <tr>\n",
       "      <th>3</th>\n",
       "      <td>1</td>\n",
       "      <td>2018090600</td>\n",
       "      <td>839</td>\n",
       "      <td>2539653</td>\n",
       "      <td>Robert Alford</td>\n",
       "      <td>CB</td>\n",
       "      <td>0.000035</td>\n",
       "      <td>7.452315</td>\n",
       "      <td>8.463855</td>\n",
       "      <td>2.132386</td>\n",
       "      <td>...</td>\n",
       "      <td>530.482807</td>\n",
       "      <td>38.213051</td>\n",
       "      <td>41.381837</td>\n",
       "      <td>0.953466</td>\n",
       "      <td>11.56</td>\n",
       "      <td>1.568949</td>\n",
       "      <td>0.788554</td>\n",
       "      <td>0.750077</td>\n",
       "      <td>0.769315</td>\n",
       "      <td>0.151729</td>\n",
       "    </tr>\n",
       "    <tr>\n",
       "      <th>4</th>\n",
       "      <td>1</td>\n",
       "      <td>2018090600</td>\n",
       "      <td>839</td>\n",
       "      <td>2556445</td>\n",
       "      <td>Brian Poole</td>\n",
       "      <td>CB</td>\n",
       "      <td>0.080615</td>\n",
       "      <td>1.350028</td>\n",
       "      <td>1.574009</td>\n",
       "      <td>6.138672</td>\n",
       "      <td>...</td>\n",
       "      <td>3075.144862</td>\n",
       "      <td>52.003220</td>\n",
       "      <td>48.922041</td>\n",
       "      <td>0.116535</td>\n",
       "      <td>115.44</td>\n",
       "      <td>5.015117</td>\n",
       "      <td>0.922971</td>\n",
       "      <td>0.888392</td>\n",
       "      <td>0.905682</td>\n",
       "      <td>0.145306</td>\n",
       "    </tr>\n",
       "    <tr>\n",
       "      <th>...</th>\n",
       "      <td>...</td>\n",
       "      <td>...</td>\n",
       "      <td>...</td>\n",
       "      <td>...</td>\n",
       "      <td>...</td>\n",
       "      <td>...</td>\n",
       "      <td>...</td>\n",
       "      <td>...</td>\n",
       "      <td>...</td>\n",
       "      <td>...</td>\n",
       "      <td>...</td>\n",
       "      <td>...</td>\n",
       "      <td>...</td>\n",
       "      <td>...</td>\n",
       "      <td>...</td>\n",
       "      <td>...</td>\n",
       "      <td>...</td>\n",
       "      <td>...</td>\n",
       "      <td>...</td>\n",
       "      <td>...</td>\n",
       "      <td>...</td>\n",
       "    </tr>\n",
       "    <tr>\n",
       "      <th>2307</th>\n",
       "      <td>17</td>\n",
       "      <td>2018123015</td>\n",
       "      <td>3734</td>\n",
       "      <td>2495807</td>\n",
       "      <td>Antoine Bethea</td>\n",
       "      <td>FS</td>\n",
       "      <td>0.012140</td>\n",
       "      <td>3.566140</td>\n",
       "      <td>3.681929</td>\n",
       "      <td>8.620985</td>\n",
       "      <td>...</td>\n",
       "      <td>130.284765</td>\n",
       "      <td>45.588667</td>\n",
       "      <td>17.440000</td>\n",
       "      <td>0.959236</td>\n",
       "      <td>41.56</td>\n",
       "      <td>4.121019</td>\n",
       "      <td>0.998296</td>\n",
       "      <td>0.976304</td>\n",
       "      <td>0.987300</td>\n",
       "      <td>0.147583</td>\n",
       "    </tr>\n",
       "    <tr>\n",
       "      <th>2308</th>\n",
       "      <td>17</td>\n",
       "      <td>2018123015</td>\n",
       "      <td>3734</td>\n",
       "      <td>2543830</td>\n",
       "      <td>Tre Boston</td>\n",
       "      <td>FS</td>\n",
       "      <td>0.068163</td>\n",
       "      <td>4.024274</td>\n",
       "      <td>4.449628</td>\n",
       "      <td>7.473905</td>\n",
       "      <td>...</td>\n",
       "      <td>1362.584561</td>\n",
       "      <td>56.774000</td>\n",
       "      <td>44.654571</td>\n",
       "      <td>0.910430</td>\n",
       "      <td>18.32</td>\n",
       "      <td>14.767383</td>\n",
       "      <td>0.986064</td>\n",
       "      <td>0.647601</td>\n",
       "      <td>0.816832</td>\n",
       "      <td>0.071955</td>\n",
       "    </tr>\n",
       "    <tr>\n",
       "      <th>2309</th>\n",
       "      <td>17</td>\n",
       "      <td>2018123015</td>\n",
       "      <td>3734</td>\n",
       "      <td>2558009</td>\n",
       "      <td>Budda Baker</td>\n",
       "      <td>FS</td>\n",
       "      <td>0.004576</td>\n",
       "      <td>2.587151</td>\n",
       "      <td>3.336334</td>\n",
       "      <td>2.545003</td>\n",
       "      <td>...</td>\n",
       "      <td>622.998302</td>\n",
       "      <td>35.347333</td>\n",
       "      <td>36.604857</td>\n",
       "      <td>0.708743</td>\n",
       "      <td>110.09</td>\n",
       "      <td>8.273041</td>\n",
       "      <td>0.988237</td>\n",
       "      <td>0.888347</td>\n",
       "      <td>0.938292</td>\n",
       "      <td>0.319031</td>\n",
       "    </tr>\n",
       "    <tr>\n",
       "      <th>2310</th>\n",
       "      <td>17</td>\n",
       "      <td>2018123015</td>\n",
       "      <td>3932</td>\n",
       "      <td>2539243</td>\n",
       "      <td>Bradley McDougald</td>\n",
       "      <td>SS</td>\n",
       "      <td>0.000030</td>\n",
       "      <td>28.891813</td>\n",
       "      <td>27.140984</td>\n",
       "      <td>16.001915</td>\n",
       "      <td>...</td>\n",
       "      <td>225.475878</td>\n",
       "      <td>36.777895</td>\n",
       "      <td>19.352128</td>\n",
       "      <td>0.794200</td>\n",
       "      <td>23.76</td>\n",
       "      <td>0.908020</td>\n",
       "      <td>0.935466</td>\n",
       "      <td>0.985401</td>\n",
       "      <td>0.960433</td>\n",
       "      <td>0.099099</td>\n",
       "    </tr>\n",
       "    <tr>\n",
       "      <th>2311</th>\n",
       "      <td>17</td>\n",
       "      <td>2018123015</td>\n",
       "      <td>3932</td>\n",
       "      <td>2558077</td>\n",
       "      <td>Delano Hill</td>\n",
       "      <td>SS</td>\n",
       "      <td>0.001363</td>\n",
       "      <td>1.823731</td>\n",
       "      <td>1.951535</td>\n",
       "      <td>15.276480</td>\n",
       "      <td>...</td>\n",
       "      <td>716.900120</td>\n",
       "      <td>53.803158</td>\n",
       "      <td>54.931915</td>\n",
       "      <td>0.932431</td>\n",
       "      <td>38.57</td>\n",
       "      <td>15.710980</td>\n",
       "      <td>0.988655</td>\n",
       "      <td>0.873488</td>\n",
       "      <td>0.931072</td>\n",
       "      <td>0.052539</td>\n",
       "    </tr>\n",
       "  </tbody>\n",
       "</table>\n",
       "<p>6107 rows × 22 columns</p>\n",
       "</div>"
      ],
      "text/plain": [
       "      week      gameId  playId    nflId        displayName position  \\\n",
       "0        1  2018090600     776  2539334    Desmond Trufant       CB   \n",
       "1        1  2018090600     776  2539653      Robert Alford       CB   \n",
       "2        1  2018090600     839  2539334    Desmond Trufant       CB   \n",
       "3        1  2018090600     839  2539653      Robert Alford       CB   \n",
       "4        1  2018090600     839  2556445        Brian Poole       CB   \n",
       "...    ...         ...     ...      ...                ...      ...   \n",
       "2307    17  2018123015    3734  2495807     Antoine Bethea       FS   \n",
       "2308    17  2018123015    3734  2543830         Tre Boston       FS   \n",
       "2309    17  2018123015    3734  2558009        Budda Baker       FS   \n",
       "2310    17  2018123015    3932  2539243  Bradley McDougald       SS   \n",
       "2311    17  2018123015    3932  2558077        Delano Hill       SS   \n",
       "\n",
       "      off_var_time_0  off_var_time_0_1  off_var_time_1  off_mean_time_0  ...  \\\n",
       "0           0.000389          4.718561        5.473382         4.771215  ...   \n",
       "1           0.000083          0.345370        0.251381         1.983317  ...   \n",
       "2           0.019996          1.094198        1.178080         6.975783  ...   \n",
       "3           0.000035          7.452315        8.463855         2.132386  ...   \n",
       "4           0.080615          1.350028        1.574009         6.138672  ...   \n",
       "...              ...               ...             ...              ...  ...   \n",
       "2307        0.012140          3.566140        3.681929         8.620985  ...   \n",
       "2308        0.068163          4.024274        4.449628         7.473905  ...   \n",
       "2309        0.004576          2.587151        3.336334         2.545003  ...   \n",
       "2310        0.000030         28.891813       27.140984        16.001915  ...   \n",
       "2311        0.001363          1.823731        1.951535        15.276480  ...   \n",
       "\n",
       "      off_dir_var_time_1  off_dir_mean_time_0_1  off_dir_mean_time_1  \\\n",
       "0             514.650934              25.521875            17.195263   \n",
       "1             236.038134              43.825208            13.468158   \n",
       "2              52.918508              10.355593             7.144286   \n",
       "3             530.482807              38.213051            41.381837   \n",
       "4            3075.144862              52.003220            48.922041   \n",
       "...                  ...                    ...                  ...   \n",
       "2307          130.284765              45.588667            17.440000   \n",
       "2308         1362.584561              56.774000            44.654571   \n",
       "2309          622.998302              35.347333            36.604857   \n",
       "2310          225.475878              36.777895            19.352128   \n",
       "2311          716.900120              53.803158            54.931915   \n",
       "\n",
       "      cor_s_time_1  cb_off_dir_diff_qb_sack  cb_off_dist_qb_sack  \\\n",
       "0         0.802340                    37.12            11.512224   \n",
       "1         0.865475                    21.84             0.890505   \n",
       "2         0.874752                     4.38             4.687057   \n",
       "3         0.953466                    11.56             1.568949   \n",
       "4         0.116535                   115.44             5.015117   \n",
       "...            ...                      ...                  ...   \n",
       "2307      0.959236                    41.56             4.121019   \n",
       "2308      0.910430                    18.32            14.767383   \n",
       "2309      0.708743                   110.09             8.273041   \n",
       "2310      0.794200                    23.76             0.908020   \n",
       "2311      0.932431                    38.57            15.710980   \n",
       "\n",
       "      best_cor_x_time_1  best_cor_y_time_1  best_cor_x_y_avg_time_1  \\\n",
       "0              0.999221           0.993155                 0.996188   \n",
       "1              0.994428           0.981624                 0.988026   \n",
       "2              0.997203           0.996352                 0.996778   \n",
       "3              0.788554           0.750077                 0.769315   \n",
       "4              0.922971           0.888392                 0.905682   \n",
       "...                 ...                ...                      ...   \n",
       "2307           0.998296           0.976304                 0.987300   \n",
       "2308           0.986064           0.647601                 0.816832   \n",
       "2309           0.988237           0.888347                 0.938292   \n",
       "2310           0.935466           0.985401                 0.960433   \n",
       "2311           0.988655           0.873488                 0.931072   \n",
       "\n",
       "      cor_dist_inter  \n",
       "0           0.156758  \n",
       "1           0.931778  \n",
       "2           0.163544  \n",
       "3           0.151729  \n",
       "4           0.145306  \n",
       "...              ...  \n",
       "2307        0.147583  \n",
       "2308        0.071955  \n",
       "2309        0.319031  \n",
       "2310        0.099099  \n",
       "2311        0.052539  \n",
       "\n",
       "[6107 rows x 22 columns]"
      ]
     },
     "execution_count": 98,
     "metadata": {},
     "output_type": "execute_result"
    }
   ],
   "source": [
    "sacks_df"
   ]
  },
  {
   "cell_type": "code",
   "execution_count": 99,
   "metadata": {},
   "outputs": [
    {
     "data": {
      "text/plain": [
       "(6107, 16)"
      ]
     },
     "execution_count": 99,
     "metadata": {},
     "output_type": "execute_result"
    }
   ],
   "source": [
    "# sampling 45,000 plays to be within CPU limit\n",
    "X_train = sacks_df.drop(['week', 'gameId','playId','nflId','displayName','position'], axis = 1)\n",
    "X_train.shape"
   ]
  },
  {
   "cell_type": "code",
   "execution_count": 100,
   "metadata": {},
   "outputs": [
    {
     "data": {
      "text/plain": [
       "(6107, 16)"
      ]
     },
     "execution_count": 100,
     "metadata": {},
     "output_type": "execute_result"
    }
   ],
   "source": [
    "# all plays to score\n",
    "X_score = sacks_df.drop(['week', 'gameId','playId','nflId','displayName','position'], axis = 1)\n",
    "X_score.shape"
   ]
  },
  {
   "cell_type": "code",
   "execution_count": 101,
   "metadata": {
    "collapsed": true
   },
   "outputs": [],
   "source": [
    "# train\n",
    "clf_train = mixture.GaussianMixture(n_components=2, covariance_type='full')\n",
    "f_train = clf_train.fit(X_train)"
   ]
  },
  {
   "cell_type": "code",
   "execution_count": 102,
   "metadata": {},
   "outputs": [
    {
     "data": {
      "text/plain": [
       "{'best_cor_x_time_1': (0.8161364535286018, 0.9856522870417891),\n",
       " 'best_cor_x_y_avg_time_1': (0.7990346543610695, 0.977067361925995),\n",
       " 'best_cor_y_time_1': (0.781932855193537, 0.968482436810201),\n",
       " 'cb_off_dir_diff_qb_sack': (48.59426609375501, 21.533601521721568),\n",
       " 'cb_off_dist_qb_sack': (6.401470494118663, 3.4975340133721136),\n",
       " 'cor_dist_inter': (0.11003133375061298, 0.3517426859697026),\n",
       " 'cor_s_time_1': (0.6183328074718797, 0.8621786542773768),\n",
       " 'off_dir_mean_time_0_1': (56.38401562663817, 34.39435052393106),\n",
       " 'off_dir_mean_time_1': (49.626650951419826, 22.28825390133307),\n",
       " 'off_dir_var_time_1': (1492.7132587120532, 756.0999706922933),\n",
       " 'off_mean_time_0': (10.963391385336264, 6.630022372318201),\n",
       " 'off_mean_time_0_1': (8.824447824763658, 5.028300072117278),\n",
       " 'off_mean_time_1': (8.340368395782793, 4.6419018424977585),\n",
       " 'off_var_time_0': (0.06445516527913978, 0.04222457489385611),\n",
       " 'off_var_time_0_1': (9.527657869328754, 3.257309265575082),\n",
       " 'off_var_time_1': (8.869786778555618, 2.9315267647379817)}"
      ]
     },
     "execution_count": 102,
     "metadata": {},
     "output_type": "execute_result"
    }
   ],
   "source": [
    "get_cluster_means(X_train, f_train)"
   ]
  },
  {
   "cell_type": "code",
   "execution_count": 103,
   "metadata": {
    "collapsed": true
   },
   "outputs": [],
   "source": [
    "full_probs = [x[0] for x in f_train.predict_proba(X_score)]\n",
    "full_classes = 1 - f_train.predict(X_score)"
   ]
  },
  {
   "cell_type": "code",
   "execution_count": 104,
   "metadata": {},
   "outputs": [
    {
     "data": {
      "image/png": "[encoded data removed]",
      "text/plain": [
       "<matplotlib.figure.Figure at 0x11a709048>"
      ]
     },
     "metadata": {},
     "output_type": "display_data"
    }
   ],
   "source": [
    "plt.pyplot.hist(full_probs, bins = 50)\n",
    "plt.pyplot.xlabel('Probability of Zone Coverage')\n",
    "plt.pyplot.ylabel('Density')\n",
    "plt.pyplot.show()"
   ]
  },
  {
   "cell_type": "code",
   "execution_count": 105,
   "metadata": {
    "collapsed": true
   },
   "outputs": [],
   "source": [
    "sacks_df[\"zone_probability\"] = full_probs\n",
    "sacks_df[\"zone_flag\"] = full_classes"
   ]
  },
  {
   "cell_type": "markdown",
   "metadata": {},
   "source": [
    "### Saving Results"
   ]
  },
  {
   "cell_type": "code",
   "execution_count": 106,
   "metadata": {
    "collapsed": true
   },
   "outputs": [],
   "source": [
    "sacks_df_final = sacks_df[['week', 'gameId','playId','nflId','displayName','position'] + \\\n",
    "                                     list(sacks_df.columns[[x.startswith('zone') for x in sacks_df.columns]])].sort_values(['gameId','playId','position'])"
   ]
  },
  {
   "cell_type": "code",
   "execution_count": 107,
   "metadata": {},
   "outputs": [
    {
     "data": {
      "text/html": [
       "<div>\n",
       "<style scoped>\n",
       "    .dataframe tbody tr th:only-of-type {\n",
       "        vertical-align: middle;\n",
       "    }\n",
       "\n",
       "    .dataframe tbody tr th {\n",
       "        vertical-align: top;\n",
       "    }\n",
       "\n",
       "    .dataframe thead th {\n",
       "        text-align: right;\n",
       "    }\n",
       "</style>\n",
       "<table border=\"1\" class=\"dataframe\">\n",
       "  <thead>\n",
       "    <tr style=\"text-align: right;\">\n",
       "      <th></th>\n",
       "      <th>week</th>\n",
       "      <th>gameId</th>\n",
       "      <th>playId</th>\n",
       "      <th>nflId</th>\n",
       "      <th>displayName</th>\n",
       "      <th>position</th>\n",
       "      <th>zone_probability</th>\n",
       "      <th>zone_flag</th>\n",
       "    </tr>\n",
       "  </thead>\n",
       "  <tbody>\n",
       "    <tr>\n",
       "      <th>0</th>\n",
       "      <td>1</td>\n",
       "      <td>2018090600</td>\n",
       "      <td>776</td>\n",
       "      <td>2539334</td>\n",
       "      <td>Desmond Trufant</td>\n",
       "      <td>CB</td>\n",
       "      <td>1.000000e+00</td>\n",
       "      <td>1</td>\n",
       "    </tr>\n",
       "    <tr>\n",
       "      <th>1</th>\n",
       "      <td>1</td>\n",
       "      <td>2018090600</td>\n",
       "      <td>776</td>\n",
       "      <td>2539653</td>\n",
       "      <td>Robert Alford</td>\n",
       "      <td>CB</td>\n",
       "      <td>5.202723e-65</td>\n",
       "      <td>0</td>\n",
       "    </tr>\n",
       "    <tr>\n",
       "      <th>1</th>\n",
       "      <td>1</td>\n",
       "      <td>2018090600</td>\n",
       "      <td>776</td>\n",
       "      <td>2555543</td>\n",
       "      <td>Keanu Neal</td>\n",
       "      <td>FS</td>\n",
       "      <td>1.000000e+00</td>\n",
       "      <td>1</td>\n",
       "    </tr>\n",
       "    <tr>\n",
       "      <th>0</th>\n",
       "      <td>1</td>\n",
       "      <td>2018090600</td>\n",
       "      <td>776</td>\n",
       "      <td>2543850</td>\n",
       "      <td>Ricardo Allen</td>\n",
       "      <td>SS</td>\n",
       "      <td>3.427258e-01</td>\n",
       "      <td>0</td>\n",
       "    </tr>\n",
       "    <tr>\n",
       "      <th>2</th>\n",
       "      <td>1</td>\n",
       "      <td>2018090600</td>\n",
       "      <td>839</td>\n",
       "      <td>2539334</td>\n",
       "      <td>Desmond Trufant</td>\n",
       "      <td>CB</td>\n",
       "      <td>1.871693e-05</td>\n",
       "      <td>0</td>\n",
       "    </tr>\n",
       "    <tr>\n",
       "      <th>...</th>\n",
       "      <td>...</td>\n",
       "      <td>...</td>\n",
       "      <td>...</td>\n",
       "      <td>...</td>\n",
       "      <td>...</td>\n",
       "      <td>...</td>\n",
       "      <td>...</td>\n",
       "      <td>...</td>\n",
       "    </tr>\n",
       "    <tr>\n",
       "      <th>3793</th>\n",
       "      <td>17</td>\n",
       "      <td>2018123015</td>\n",
       "      <td>3932</td>\n",
       "      <td>2553456</td>\n",
       "      <td>Akeem King</td>\n",
       "      <td>CB</td>\n",
       "      <td>1.692050e-10</td>\n",
       "      <td>0</td>\n",
       "    </tr>\n",
       "    <tr>\n",
       "      <th>3794</th>\n",
       "      <td>17</td>\n",
       "      <td>2018123015</td>\n",
       "      <td>3932</td>\n",
       "      <td>2553637</td>\n",
       "      <td>Justin Coleman</td>\n",
       "      <td>CB</td>\n",
       "      <td>5.936352e-05</td>\n",
       "      <td>0</td>\n",
       "    </tr>\n",
       "    <tr>\n",
       "      <th>3795</th>\n",
       "      <td>17</td>\n",
       "      <td>2018123015</td>\n",
       "      <td>3932</td>\n",
       "      <td>2560728</td>\n",
       "      <td>Tre Flowers</td>\n",
       "      <td>CB</td>\n",
       "      <td>3.571320e-05</td>\n",
       "      <td>0</td>\n",
       "    </tr>\n",
       "    <tr>\n",
       "      <th>2310</th>\n",
       "      <td>17</td>\n",
       "      <td>2018123015</td>\n",
       "      <td>3932</td>\n",
       "      <td>2539243</td>\n",
       "      <td>Bradley McDougald</td>\n",
       "      <td>SS</td>\n",
       "      <td>1.000000e+00</td>\n",
       "      <td>1</td>\n",
       "    </tr>\n",
       "    <tr>\n",
       "      <th>2311</th>\n",
       "      <td>17</td>\n",
       "      <td>2018123015</td>\n",
       "      <td>3932</td>\n",
       "      <td>2558077</td>\n",
       "      <td>Delano Hill</td>\n",
       "      <td>SS</td>\n",
       "      <td>9.999951e-01</td>\n",
       "      <td>1</td>\n",
       "    </tr>\n",
       "  </tbody>\n",
       "</table>\n",
       "<p>6107 rows × 8 columns</p>\n",
       "</div>"
      ],
      "text/plain": [
       "      week      gameId  playId    nflId        displayName position  \\\n",
       "0        1  2018090600     776  2539334    Desmond Trufant       CB   \n",
       "1        1  2018090600     776  2539653      Robert Alford       CB   \n",
       "1        1  2018090600     776  2555543         Keanu Neal       FS   \n",
       "0        1  2018090600     776  2543850      Ricardo Allen       SS   \n",
       "2        1  2018090600     839  2539334    Desmond Trufant       CB   \n",
       "...    ...         ...     ...      ...                ...      ...   \n",
       "3793    17  2018123015    3932  2553456         Akeem King       CB   \n",
       "3794    17  2018123015    3932  2553637     Justin Coleman       CB   \n",
       "3795    17  2018123015    3932  2560728        Tre Flowers       CB   \n",
       "2310    17  2018123015    3932  2539243  Bradley McDougald       SS   \n",
       "2311    17  2018123015    3932  2558077        Delano Hill       SS   \n",
       "\n",
       "      zone_probability  zone_flag  \n",
       "0         1.000000e+00          1  \n",
       "1         5.202723e-65          0  \n",
       "1         1.000000e+00          1  \n",
       "0         3.427258e-01          0  \n",
       "2         1.871693e-05          0  \n",
       "...                ...        ...  \n",
       "3793      1.692050e-10          0  \n",
       "3794      5.936352e-05          0  \n",
       "3795      3.571320e-05          0  \n",
       "2310      1.000000e+00          1  \n",
       "2311      9.999951e-01          1  \n",
       "\n",
       "[6107 rows x 8 columns]"
      ]
     },
     "execution_count": 107,
     "metadata": {},
     "output_type": "execute_result"
    }
   ],
   "source": [
    "sacks_df_final"
   ]
  },
  {
   "cell_type": "code",
   "execution_count": 108,
   "metadata": {
    "collapsed": true
   },
   "outputs": [],
   "source": [
    "sacks_df_final.to_csv(\"~/Desktop/CoverageNet/src/01_identify_man_coverage/outputs/all_positions_sacks_man_zone_classes.csv\", \n",
    "                      index = False)"
   ]
  },
  {
   "cell_type": "code",
   "execution_count": 1,
   "metadata": {},
   "outputs": [
    {
     "ename": "NameError",
     "evalue": "name 'sacks_df' is not defined",
     "output_type": "error",
     "traceback": [
      "\u001b[0;31m---------------------------------------------------------------------------\u001b[0m",
      "\u001b[0;31mNameError\u001b[0m                                 Traceback (most recent call last)",
      "\u001b[0;32m<ipython-input-1-2f50b1f395cc>\u001b[0m in \u001b[0;36m<module>\u001b[0;34m()\u001b[0m\n\u001b[0;32m----> 1\u001b[0;31m \u001b[0msacks_df\u001b[0m\u001b[0;34m[\u001b[0m\u001b[0;34m(\u001b[0m\u001b[0msacks_df\u001b[0m\u001b[0;34m[\u001b[0m\u001b[0;34m\"gameId\"\u001b[0m\u001b[0;34m]\u001b[0m \u001b[0;34m==\u001b[0m \u001b[0;36m2018090901\u001b[0m\u001b[0;34m)\u001b[0m \u001b[0;34m&\u001b[0m \u001b[0;34m(\u001b[0m\u001b[0msacks_df\u001b[0m\u001b[0;34m[\u001b[0m\u001b[0;34m\"playId\"\u001b[0m\u001b[0;34m]\u001b[0m \u001b[0;34m==\u001b[0m \u001b[0;36m2885\u001b[0m\u001b[0;34m)\u001b[0m\u001b[0;34m]\u001b[0m\u001b[0;34m\u001b[0m\u001b[0m\n\u001b[0m",
      "\u001b[0;31mNameError\u001b[0m: name 'sacks_df' is not defined"
     ]
    }
   ],
   "source": [
    "sacks_df[(sacks_df[\"gameId\"] == 2018090901) & (sacks_df[\"playId\"] == 2885)]"
   ]
  },
  {
   "cell_type": "code",
   "execution_count": 186,
   "metadata": {},
   "outputs": [
    {
     "data": {
      "text/html": [
       "<div>\n",
       "<style scoped>\n",
       "    .dataframe tbody tr th:only-of-type {\n",
       "        vertical-align: middle;\n",
       "    }\n",
       "\n",
       "    .dataframe tbody tr th {\n",
       "        vertical-align: top;\n",
       "    }\n",
       "\n",
       "    .dataframe thead th {\n",
       "        text-align: right;\n",
       "    }\n",
       "</style>\n",
       "<table border=\"1\" class=\"dataframe\">\n",
       "  <thead>\n",
       "    <tr style=\"text-align: right;\">\n",
       "      <th></th>\n",
       "      <th>displayName</th>\n",
       "      <th>cor_s_time_1</th>\n",
       "    </tr>\n",
       "  </thead>\n",
       "  <tbody>\n",
       "  </tbody>\n",
       "</table>\n",
       "</div>"
      ],
      "text/plain": [
       "Empty DataFrame\n",
       "Columns: [displayName, cor_s_time_1]\n",
       "Index: []"
      ]
     },
     "execution_count": 186,
     "metadata": {},
     "output_type": "execute_result"
    }
   ],
   "source": [
    "sacks_df[(sacks_df[\"gameId\"] == 2018090901) & (sacks_df[\"playId\"] == 2885)][[\"displayName\"] + \\\n",
    "                            list(sacks_df.columns[['cor_s' in x for x in sacks_df.columns]])]"
   ]
  },
  {
   "cell_type": "code",
   "execution_count": null,
   "metadata": {
    "collapsed": true
   },
   "outputs": [],
   "source": []
  }
 ],
 "metadata": {
  "kernelspec": {
   "display_name": "Python 3",
   "language": "python",
   "name": "python3"
  },
  "language_info": {
   "codemirror_mode": {
    "name": "ipython",
    "version": 3
   },
   "file_extension": ".py",
   "mimetype": "text/x-python",
   "name": "python",
   "nbconvert_exporter": "python",
   "pygments_lexer": "ipython3",
   "version": "3.6.3"
  }
 },
 "nbformat": 4,
 "nbformat_minor": 2
}
