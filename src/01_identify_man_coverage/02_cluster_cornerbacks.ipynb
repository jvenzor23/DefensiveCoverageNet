{
 "cells": [
  {
   "cell_type": "code",
   "execution_count": 1,
   "metadata": {
    "collapsed": true
   },
   "outputs": [],
   "source": [
    "# importing important libraries\n",
    "import matplotlib as plt\n",
    "%matplotlib inline\n",
    "import numpy as np\n",
    "from sklearn import mixture\n",
    "import pandas as pd\n",
    "import seaborn as sns"
   ]
  },
  {
   "cell_type": "code",
   "execution_count": 2,
   "metadata": {},
   "outputs": [
    {
     "data": {
      "text/html": [
       "\n",
       "<style>\n",
       ".output_png {\n",
       "    display: table-cell;\n",
       "    text-align: center;\n",
       "    vertical-align: middle;\n",
       "}\n",
       "</style>\n"
      ],
      "text/plain": [
       "<IPython.core.display.HTML object>"
      ]
     },
     "execution_count": 2,
     "metadata": {},
     "output_type": "execute_result"
    }
   ],
   "source": [
    "from IPython.core.display import HTML\n",
    "HTML(\"\"\"\n",
    "<style>\n",
    ".output_png {\n",
    "    display: table-cell;\n",
    "    text-align: center;\n",
    "    vertical-align: middle;\n",
    "}\n",
    "</style>\n",
    "\"\"\")"
   ]
  },
  {
   "cell_type": "markdown",
   "metadata": {},
   "source": [
    "# Reading in the Data"
   ]
  },
  {
   "cell_type": "code",
   "execution_count": 3,
   "metadata": {},
   "outputs": [
    {
     "data": {
      "text/plain": [
       "(54585, 157)"
      ]
     },
     "execution_count": 3,
     "metadata": {},
     "output_type": "execute_result"
    }
   ],
   "source": [
    "pass_attempt_df = \\\n",
    "    pd.read_csv(\"~/Desktop/CoverageNet/src/01_identify_man_coverage/outputs/corners_pass_attempts_man_zone_gmm_features.csv\")\n",
    "pass_attempt_df.shape"
   ]
  },
  {
   "cell_type": "code",
   "execution_count": 4,
   "metadata": {},
   "outputs": [
    {
     "data": {
      "text/plain": [
       "(3962, 98)"
      ]
     },
     "execution_count": 4,
     "metadata": {},
     "output_type": "execute_result"
    }
   ],
   "source": [
    "sacks_df = \\\n",
    "    pd.read_csv(\"~/Desktop/CoverageNet/src/01_identify_man_coverage/outputs/corners_sacks_man_zone_gmm_features.csv\")\n",
    "sacks_df.shape"
   ]
  },
  {
   "cell_type": "code",
   "execution_count": 5,
   "metadata": {},
   "outputs": [
    {
     "data": {
      "text/plain": [
       "array([ 1,  2,  3,  4,  5,  6,  7,  8,  9, 10, 11, 12, 13, 14, 15, 16, 17])"
      ]
     },
     "execution_count": 5,
     "metadata": {},
     "output_type": "execute_result"
    }
   ],
   "source": [
    "# printing the number of weeks of data available\n",
    "np.unique(pass_attempt_df['week'])"
   ]
  },
  {
   "cell_type": "markdown",
   "metadata": {},
   "source": [
    "# Clustering Pass Attempt Coverage"
   ]
  },
  {
   "cell_type": "code",
   "execution_count": 6,
   "metadata": {
    "collapsed": true
   },
   "outputs": [],
   "source": [
    "filter_col = [col for col in pass_attempt_df if not '_o_' in col]\n",
    "pass_attempt_df = pass_attempt_df[filter_col]"
   ]
  },
  {
   "cell_type": "code",
   "execution_count": 7,
   "metadata": {
    "collapsed": true
   },
   "outputs": [],
   "source": [
    "filter_col = [col for col in pass_attempt_df if not 'facing' in col]\n",
    "pass_attempt_df = pass_attempt_df[filter_col]"
   ]
  },
  {
   "cell_type": "code",
   "execution_count": 8,
   "metadata": {
    "collapsed": true
   },
   "outputs": [],
   "source": [
    "filter_col = [col for col in pass_attempt_df if not 'var_y' in col]\n",
    "pass_attempt_df = pass_attempt_df[filter_col]"
   ]
  },
  {
   "cell_type": "code",
   "execution_count": 9,
   "metadata": {
    "collapsed": true
   },
   "outputs": [],
   "source": [
    "filter_col = [col for col in pass_attempt_df if not 'var_x' in col]\n",
    "pass_attempt_df = pass_attempt_df[filter_col]"
   ]
  },
  {
   "cell_type": "code",
   "execution_count": 10,
   "metadata": {
    "collapsed": true
   },
   "outputs": [],
   "source": [
    "filter_col = [col for col in pass_attempt_df if not 'def_mean_time_0' in col]\n",
    "pass_attempt_df = pass_attempt_df[filter_col]"
   ]
  },
  {
   "cell_type": "code",
   "execution_count": 11,
   "metadata": {
    "collapsed": true
   },
   "outputs": [],
   "source": [
    "filter_col = [col for col in pass_attempt_df if not 'def' in col]\n",
    "pass_attempt_df = pass_attempt_df[filter_col]"
   ]
  },
  {
   "cell_type": "code",
   "execution_count": 12,
   "metadata": {
    "collapsed": true
   },
   "outputs": [],
   "source": [
    "filter_col = [col for col in pass_attempt_df if not 'def_var_time_0' in col]\n",
    "pass_attempt_df = pass_attempt_df[filter_col]"
   ]
  },
  {
   "cell_type": "code",
   "execution_count": 13,
   "metadata": {},
   "outputs": [
    {
     "data": {
      "text/plain": [
       "Index(['week', 'gameId', 'playId', 'nflId', 'displayName', 'position',\n",
       "       'speed_var_time_0', 'speed_var_time_0_1', 'speed_var_time_1',\n",
       "       'speed_var_time_1_2',\n",
       "       ...\n",
       "       'best_cor_y_time_0', 'best_cor_y_time_0_1', 'best_cor_y_time_1',\n",
       "       'best_cor_y_time_1_2', 'best_cor_y_time_2', 'best_cor_x_y_avg_time_0',\n",
       "       'best_cor_x_y_avg_time_0_1', 'best_cor_x_y_avg_time_1',\n",
       "       'best_cor_x_y_avg_time_1_2', 'best_cor_x_y_avg_time_2'],\n",
       "      dtype='object', length=105)"
      ]
     },
     "execution_count": 13,
     "metadata": {},
     "output_type": "execute_result"
    }
   ],
   "source": [
    "pass_attempt_df.columns"
   ]
  },
  {
   "cell_type": "code",
   "execution_count": 14,
   "metadata": {
    "collapsed": true
   },
   "outputs": [],
   "source": [
    "filter_col = [col for col in pass_attempt_df if not (('cor' in col) and ('best' not in col) and ('s' not in col))]\n",
    "pass_attempt_df = pass_attempt_df[filter_col]"
   ]
  },
  {
   "cell_type": "code",
   "execution_count": 15,
   "metadata": {
    "collapsed": true
   },
   "outputs": [],
   "source": [
    "filter_col = [col for col in pass_attempt_df if not (('cor_rot' in col))]\n",
    "pass_attempt_df = pass_attempt_df[filter_col]"
   ]
  },
  {
   "cell_type": "code",
   "execution_count": 16,
   "metadata": {
    "collapsed": true
   },
   "outputs": [],
   "source": [
    "filter_col = [col for col in pass_attempt_df if not (('cor' in col) and ('time_0' in col))]\n",
    "pass_attempt_df = pass_attempt_df[filter_col]"
   ]
  },
  {
   "cell_type": "code",
   "execution_count": 17,
   "metadata": {
    "collapsed": true
   },
   "outputs": [],
   "source": [
    "filter_col = [col for col in pass_attempt_df if not (('cor' in col) and ('time_2' in col))]\n",
    "pass_attempt_df = pass_attempt_df[filter_col]"
   ]
  },
  {
   "cell_type": "code",
   "execution_count": 18,
   "metadata": {
    "collapsed": true
   },
   "outputs": [],
   "source": [
    "# filter_col = [col for col in pass_attempt_df if not (('cor' in col) and ('x_y' not in col))]\n",
    "# pass_attempt_df = pass_attempt_df[filter_col]"
   ]
  },
  {
   "cell_type": "code",
   "execution_count": 19,
   "metadata": {
    "collapsed": true
   },
   "outputs": [],
   "source": [
    "filter_col = [col for col in pass_attempt_df if not 'off_dir_var_time_0' in col]\n",
    "pass_attempt_df = pass_attempt_df[filter_col]"
   ]
  },
  {
   "cell_type": "code",
   "execution_count": 20,
   "metadata": {
    "collapsed": true
   },
   "outputs": [],
   "source": [
    "filter_col = [col for col in pass_attempt_df if not 'speed' in col]\n",
    "pass_attempt_df = pass_attempt_df[filter_col]"
   ]
  },
  {
   "cell_type": "code",
   "execution_count": 21,
   "metadata": {
    "collapsed": true
   },
   "outputs": [],
   "source": [
    "pass_attempt_df = pass_attempt_df.drop(['cb_off_dir_diff_ball_snap', 'cb_off_dist_ball_snap',\n",
    "                                       'off_dir_mean_time_0', 'cb_off_dist_pass_forward',\n",
    "                                       'off_mean_between_ball_snap_and_pass_forward'], axis = 1)"
   ]
  },
  {
   "cell_type": "code",
   "execution_count": 22,
   "metadata": {
    "collapsed": true
   },
   "outputs": [],
   "source": [
    "filter_col = [col for col in pass_attempt_df if (not 'rat' in col)|('ratio_pass_forward' in col)]\n",
    "pass_attempt_df = pass_attempt_df[filter_col]"
   ]
  },
  {
   "cell_type": "code",
   "execution_count": 23,
   "metadata": {
    "collapsed": true
   },
   "outputs": [],
   "source": [
    "# filter_col = [col for col in pass_attempt_df if (not 'best' in col)]\n",
    "# pass_attempt_df = pass_attempt_df[filter_col]"
   ]
  },
  {
   "cell_type": "code",
   "execution_count": 24,
   "metadata": {},
   "outputs": [
    {
     "data": {
      "text/plain": [
       "Index(['week', 'gameId', 'playId', 'nflId', 'displayName', 'position',\n",
       "       'off_var_time_0', 'off_var_time_0_1', 'off_var_time_1',\n",
       "       'off_var_time_1_2', 'off_var_time_2', 'off_mean_time_0',\n",
       "       'off_mean_time_0_1', 'off_mean_time_1', 'off_mean_time_1_2',\n",
       "       'off_mean_time_2', 'off_dir_var_time_1', 'off_dir_var_time_1_2',\n",
       "       'off_dir_var_time_2', 'off_dir_mean_time_0_1', 'off_dir_mean_time_1',\n",
       "       'off_dir_mean_time_1_2', 'off_dir_mean_time_2', 'cor_s_time_1',\n",
       "       'cor_s_time_1_2', 'ratio_pass_forward', 'cb_off_dir_diff_pass_forward',\n",
       "       'off_dir_diff_between_ball_snap_and_pass_forward', 'best_cor_x_time_1',\n",
       "       'best_cor_x_time_1_2', 'best_cor_y_time_1', 'best_cor_y_time_1_2',\n",
       "       'best_cor_x_y_avg_time_1', 'best_cor_x_y_avg_time_1_2'],\n",
       "      dtype='object')"
      ]
     },
     "execution_count": 24,
     "metadata": {},
     "output_type": "execute_result"
    }
   ],
   "source": [
    "pass_attempt_df.columns"
   ]
  },
  {
   "cell_type": "code",
   "execution_count": 25,
   "metadata": {
    "collapsed": true
   },
   "outputs": [],
   "source": [
    "pass_attempt_df[\"cor_dist_inter\"] = (pass_attempt_df[\"best_cor_x_y_avg_time_1\"]**2)/pass_attempt_df[\"off_mean_time_1\"]\n",
    "pass_attempt_df[\"cor_dist_inter\"] = pass_attempt_df[\"cor_dist_inter\"].fillna(0)\n",
    "pass_attempt_df[\"cor_dist_inter\"] = pass_attempt_df[\"cor_dist_inter\"].replace([np.inf], \\\n",
    "                np.percentile(np.array(pass_attempt_df[\"cor_dist_inter\"]), 99))\n",
    "pass_attempt_df[\"cor_dist_inter\"] = pass_attempt_df[\"cor_dist_inter\"].replace([-np.inf], \\\n",
    "                np.percentile(np.array(pass_attempt_df[\"cor_dist_inter\"]), 1))"
   ]
  },
  {
   "cell_type": "code",
   "execution_count": 26,
   "metadata": {},
   "outputs": [
    {
     "data": {
      "text/html": [
       "<div>\n",
       "<style scoped>\n",
       "    .dataframe tbody tr th:only-of-type {\n",
       "        vertical-align: middle;\n",
       "    }\n",
       "\n",
       "    .dataframe tbody tr th {\n",
       "        vertical-align: top;\n",
       "    }\n",
       "\n",
       "    .dataframe thead th {\n",
       "        text-align: right;\n",
       "    }\n",
       "</style>\n",
       "<table border=\"1\" class=\"dataframe\">\n",
       "  <thead>\n",
       "    <tr style=\"text-align: right;\">\n",
       "      <th></th>\n",
       "      <th>week</th>\n",
       "      <th>gameId</th>\n",
       "      <th>playId</th>\n",
       "      <th>nflId</th>\n",
       "      <th>displayName</th>\n",
       "      <th>position</th>\n",
       "      <th>off_var_time_0</th>\n",
       "      <th>off_var_time_0_1</th>\n",
       "      <th>off_var_time_1</th>\n",
       "      <th>off_var_time_1_2</th>\n",
       "      <th>...</th>\n",
       "      <th>ratio_pass_forward</th>\n",
       "      <th>cb_off_dir_diff_pass_forward</th>\n",
       "      <th>off_dir_diff_between_ball_snap_and_pass_forward</th>\n",
       "      <th>best_cor_x_time_1</th>\n",
       "      <th>best_cor_x_time_1_2</th>\n",
       "      <th>best_cor_y_time_1</th>\n",
       "      <th>best_cor_y_time_1_2</th>\n",
       "      <th>best_cor_x_y_avg_time_1</th>\n",
       "      <th>best_cor_x_y_avg_time_1_2</th>\n",
       "      <th>cor_dist_inter</th>\n",
       "    </tr>\n",
       "  </thead>\n",
       "  <tbody>\n",
       "    <tr>\n",
       "      <th>0</th>\n",
       "      <td>1</td>\n",
       "      <td>2018090600</td>\n",
       "      <td>75</td>\n",
       "      <td>2552689</td>\n",
       "      <td>Ronald Darby</td>\n",
       "      <td>CB</td>\n",
       "      <td>0.000307</td>\n",
       "      <td>2.126595</td>\n",
       "      <td>2.334991</td>\n",
       "      <td>6.760635</td>\n",
       "      <td>...</td>\n",
       "      <td>1.003735</td>\n",
       "      <td>0.69</td>\n",
       "      <td>10.00</td>\n",
       "      <td>0.991059</td>\n",
       "      <td>0.996693</td>\n",
       "      <td>0.996152</td>\n",
       "      <td>0.992656</td>\n",
       "      <td>0.993605</td>\n",
       "      <td>0.994675</td>\n",
       "      <td>0.136746</td>\n",
       "    </tr>\n",
       "    <tr>\n",
       "      <th>1</th>\n",
       "      <td>1</td>\n",
       "      <td>2018090600</td>\n",
       "      <td>75</td>\n",
       "      <td>2555383</td>\n",
       "      <td>Jalen Mills</td>\n",
       "      <td>CB</td>\n",
       "      <td>0.001680</td>\n",
       "      <td>2.051115</td>\n",
       "      <td>2.075317</td>\n",
       "      <td>1.658779</td>\n",
       "      <td>...</td>\n",
       "      <td>0.535486</td>\n",
       "      <td>20.40</td>\n",
       "      <td>11.75</td>\n",
       "      <td>0.991839</td>\n",
       "      <td>0.969084</td>\n",
       "      <td>0.893204</td>\n",
       "      <td>0.945554</td>\n",
       "      <td>0.942522</td>\n",
       "      <td>0.957319</td>\n",
       "      <td>0.154773</td>\n",
       "    </tr>\n",
       "    <tr>\n",
       "      <th>2</th>\n",
       "      <td>1</td>\n",
       "      <td>2018090600</td>\n",
       "      <td>146</td>\n",
       "      <td>2552689</td>\n",
       "      <td>Ronald Darby</td>\n",
       "      <td>CB</td>\n",
       "      <td>0.000479</td>\n",
       "      <td>1.310370</td>\n",
       "      <td>1.533356</td>\n",
       "      <td>2.695306</td>\n",
       "      <td>...</td>\n",
       "      <td>0.285235</td>\n",
       "      <td>14.63</td>\n",
       "      <td>8.41</td>\n",
       "      <td>0.998055</td>\n",
       "      <td>0.998745</td>\n",
       "      <td>0.995289</td>\n",
       "      <td>0.996726</td>\n",
       "      <td>0.996672</td>\n",
       "      <td>0.997735</td>\n",
       "      <td>0.140171</td>\n",
       "    </tr>\n",
       "    <tr>\n",
       "      <th>3</th>\n",
       "      <td>1</td>\n",
       "      <td>2018090600</td>\n",
       "      <td>146</td>\n",
       "      <td>2555383</td>\n",
       "      <td>Jalen Mills</td>\n",
       "      <td>CB</td>\n",
       "      <td>0.000957</td>\n",
       "      <td>0.967793</td>\n",
       "      <td>1.170710</td>\n",
       "      <td>3.954483</td>\n",
       "      <td>...</td>\n",
       "      <td>1.104717</td>\n",
       "      <td>129.71</td>\n",
       "      <td>9.22</td>\n",
       "      <td>0.990084</td>\n",
       "      <td>0.508795</td>\n",
       "      <td>0.853983</td>\n",
       "      <td>0.943507</td>\n",
       "      <td>0.922033</td>\n",
       "      <td>0.726151</td>\n",
       "      <td>0.110491</td>\n",
       "    </tr>\n",
       "    <tr>\n",
       "      <th>4</th>\n",
       "      <td>1</td>\n",
       "      <td>2018090600</td>\n",
       "      <td>146</td>\n",
       "      <td>2557958</td>\n",
       "      <td>Sidney Jones</td>\n",
       "      <td>CB</td>\n",
       "      <td>0.123231</td>\n",
       "      <td>1.930732</td>\n",
       "      <td>1.270966</td>\n",
       "      <td>1.080767</td>\n",
       "      <td>...</td>\n",
       "      <td>0.897810</td>\n",
       "      <td>9.97</td>\n",
       "      <td>64.66</td>\n",
       "      <td>0.360666</td>\n",
       "      <td>0.800361</td>\n",
       "      <td>0.975222</td>\n",
       "      <td>0.984590</td>\n",
       "      <td>0.667944</td>\n",
       "      <td>0.892476</td>\n",
       "      <td>0.177724</td>\n",
       "    </tr>\n",
       "    <tr>\n",
       "      <th>5</th>\n",
       "      <td>1</td>\n",
       "      <td>2018090600</td>\n",
       "      <td>168</td>\n",
       "      <td>2552689</td>\n",
       "      <td>Ronald Darby</td>\n",
       "      <td>CB</td>\n",
       "      <td>0.000187</td>\n",
       "      <td>1.283342</td>\n",
       "      <td>1.408920</td>\n",
       "      <td>1.355697</td>\n",
       "      <td>...</td>\n",
       "      <td>1.804993</td>\n",
       "      <td>32.74</td>\n",
       "      <td>6.78</td>\n",
       "      <td>0.999594</td>\n",
       "      <td>0.999047</td>\n",
       "      <td>0.524308</td>\n",
       "      <td>0.946714</td>\n",
       "      <td>0.761951</td>\n",
       "      <td>0.972880</td>\n",
       "      <td>0.072567</td>\n",
       "    </tr>\n",
       "    <tr>\n",
       "      <th>6</th>\n",
       "      <td>1</td>\n",
       "      <td>2018090600</td>\n",
       "      <td>168</td>\n",
       "      <td>2555383</td>\n",
       "      <td>Jalen Mills</td>\n",
       "      <td>CB</td>\n",
       "      <td>0.127870</td>\n",
       "      <td>1.272338</td>\n",
       "      <td>0.430823</td>\n",
       "      <td>1.508115</td>\n",
       "      <td>...</td>\n",
       "      <td>0.533327</td>\n",
       "      <td>25.69</td>\n",
       "      <td>5.44</td>\n",
       "      <td>0.936665</td>\n",
       "      <td>0.956103</td>\n",
       "      <td>0.931165</td>\n",
       "      <td>0.995562</td>\n",
       "      <td>0.933915</td>\n",
       "      <td>0.975832</td>\n",
       "      <td>0.144012</td>\n",
       "    </tr>\n",
       "    <tr>\n",
       "      <th>7</th>\n",
       "      <td>1</td>\n",
       "      <td>2018090600</td>\n",
       "      <td>168</td>\n",
       "      <td>2557958</td>\n",
       "      <td>Sidney Jones</td>\n",
       "      <td>CB</td>\n",
       "      <td>0.865792</td>\n",
       "      <td>1.053149</td>\n",
       "      <td>1.171440</td>\n",
       "      <td>1.094309</td>\n",
       "      <td>...</td>\n",
       "      <td>0.554019</td>\n",
       "      <td>154.82</td>\n",
       "      <td>94.51</td>\n",
       "      <td>0.992267</td>\n",
       "      <td>0.505462</td>\n",
       "      <td>0.964629</td>\n",
       "      <td>0.963594</td>\n",
       "      <td>0.978448</td>\n",
       "      <td>0.734528</td>\n",
       "      <td>0.277880</td>\n",
       "    </tr>\n",
       "    <tr>\n",
       "      <th>8</th>\n",
       "      <td>1</td>\n",
       "      <td>2018090600</td>\n",
       "      <td>190</td>\n",
       "      <td>2552689</td>\n",
       "      <td>Ronald Darby</td>\n",
       "      <td>CB</td>\n",
       "      <td>0.000018</td>\n",
       "      <td>1.984624</td>\n",
       "      <td>1.805685</td>\n",
       "      <td>1.756160</td>\n",
       "      <td>...</td>\n",
       "      <td>0.489154</td>\n",
       "      <td>36.33</td>\n",
       "      <td>2.56</td>\n",
       "      <td>0.996114</td>\n",
       "      <td>0.793176</td>\n",
       "      <td>0.998201</td>\n",
       "      <td>0.947689</td>\n",
       "      <td>0.997157</td>\n",
       "      <td>0.870432</td>\n",
       "      <td>0.139959</td>\n",
       "    </tr>\n",
       "    <tr>\n",
       "      <th>9</th>\n",
       "      <td>1</td>\n",
       "      <td>2018090600</td>\n",
       "      <td>190</td>\n",
       "      <td>2555383</td>\n",
       "      <td>Jalen Mills</td>\n",
       "      <td>CB</td>\n",
       "      <td>0.079316</td>\n",
       "      <td>15.335604</td>\n",
       "      <td>17.552694</td>\n",
       "      <td>21.155270</td>\n",
       "      <td>...</td>\n",
       "      <td>4.408636</td>\n",
       "      <td>15.83</td>\n",
       "      <td>146.68</td>\n",
       "      <td>0.856998</td>\n",
       "      <td>0.631509</td>\n",
       "      <td>0.676553</td>\n",
       "      <td>0.518507</td>\n",
       "      <td>0.766775</td>\n",
       "      <td>0.575008</td>\n",
       "      <td>0.052792</td>\n",
       "    </tr>\n",
       "  </tbody>\n",
       "</table>\n",
       "<p>10 rows × 35 columns</p>\n",
       "</div>"
      ],
      "text/plain": [
       "   week      gameId  playId    nflId   displayName position  off_var_time_0  \\\n",
       "0     1  2018090600      75  2552689  Ronald Darby       CB        0.000307   \n",
       "1     1  2018090600      75  2555383   Jalen Mills       CB        0.001680   \n",
       "2     1  2018090600     146  2552689  Ronald Darby       CB        0.000479   \n",
       "3     1  2018090600     146  2555383   Jalen Mills       CB        0.000957   \n",
       "4     1  2018090600     146  2557958  Sidney Jones       CB        0.123231   \n",
       "5     1  2018090600     168  2552689  Ronald Darby       CB        0.000187   \n",
       "6     1  2018090600     168  2555383   Jalen Mills       CB        0.127870   \n",
       "7     1  2018090600     168  2557958  Sidney Jones       CB        0.865792   \n",
       "8     1  2018090600     190  2552689  Ronald Darby       CB        0.000018   \n",
       "9     1  2018090600     190  2555383   Jalen Mills       CB        0.079316   \n",
       "\n",
       "   off_var_time_0_1  off_var_time_1  off_var_time_1_2  ...  \\\n",
       "0          2.126595        2.334991          6.760635  ...   \n",
       "1          2.051115        2.075317          1.658779  ...   \n",
       "2          1.310370        1.533356          2.695306  ...   \n",
       "3          0.967793        1.170710          3.954483  ...   \n",
       "4          1.930732        1.270966          1.080767  ...   \n",
       "5          1.283342        1.408920          1.355697  ...   \n",
       "6          1.272338        0.430823          1.508115  ...   \n",
       "7          1.053149        1.171440          1.094309  ...   \n",
       "8          1.984624        1.805685          1.756160  ...   \n",
       "9         15.335604       17.552694         21.155270  ...   \n",
       "\n",
       "   ratio_pass_forward  cb_off_dir_diff_pass_forward  \\\n",
       "0            1.003735                          0.69   \n",
       "1            0.535486                         20.40   \n",
       "2            0.285235                         14.63   \n",
       "3            1.104717                        129.71   \n",
       "4            0.897810                          9.97   \n",
       "5            1.804993                         32.74   \n",
       "6            0.533327                         25.69   \n",
       "7            0.554019                        154.82   \n",
       "8            0.489154                         36.33   \n",
       "9            4.408636                         15.83   \n",
       "\n",
       "   off_dir_diff_between_ball_snap_and_pass_forward  best_cor_x_time_1  \\\n",
       "0                                            10.00           0.991059   \n",
       "1                                            11.75           0.991839   \n",
       "2                                             8.41           0.998055   \n",
       "3                                             9.22           0.990084   \n",
       "4                                            64.66           0.360666   \n",
       "5                                             6.78           0.999594   \n",
       "6                                             5.44           0.936665   \n",
       "7                                            94.51           0.992267   \n",
       "8                                             2.56           0.996114   \n",
       "9                                           146.68           0.856998   \n",
       "\n",
       "   best_cor_x_time_1_2  best_cor_y_time_1  best_cor_y_time_1_2  \\\n",
       "0             0.996693           0.996152             0.992656   \n",
       "1             0.969084           0.893204             0.945554   \n",
       "2             0.998745           0.995289             0.996726   \n",
       "3             0.508795           0.853983             0.943507   \n",
       "4             0.800361           0.975222             0.984590   \n",
       "5             0.999047           0.524308             0.946714   \n",
       "6             0.956103           0.931165             0.995562   \n",
       "7             0.505462           0.964629             0.963594   \n",
       "8             0.793176           0.998201             0.947689   \n",
       "9             0.631509           0.676553             0.518507   \n",
       "\n",
       "   best_cor_x_y_avg_time_1  best_cor_x_y_avg_time_1_2  cor_dist_inter  \n",
       "0                 0.993605                   0.994675        0.136746  \n",
       "1                 0.942522                   0.957319        0.154773  \n",
       "2                 0.996672                   0.997735        0.140171  \n",
       "3                 0.922033                   0.726151        0.110491  \n",
       "4                 0.667944                   0.892476        0.177724  \n",
       "5                 0.761951                   0.972880        0.072567  \n",
       "6                 0.933915                   0.975832        0.144012  \n",
       "7                 0.978448                   0.734528        0.277880  \n",
       "8                 0.997157                   0.870432        0.139959  \n",
       "9                 0.766775                   0.575008        0.052792  \n",
       "\n",
       "[10 rows x 35 columns]"
      ]
     },
     "execution_count": 26,
     "metadata": {},
     "output_type": "execute_result"
    }
   ],
   "source": [
    "pass_attempt_df.head(10)"
   ]
  },
  {
   "cell_type": "code",
   "execution_count": 27,
   "metadata": {},
   "outputs": [
    {
     "data": {
      "text/plain": [
       "Index(['week', 'gameId', 'playId', 'nflId', 'displayName', 'position',\n",
       "       'off_var_time_0', 'off_var_time_0_1', 'off_var_time_1',\n",
       "       'off_var_time_1_2', 'off_var_time_2', 'off_mean_time_0',\n",
       "       'off_mean_time_0_1', 'off_mean_time_1', 'off_mean_time_1_2',\n",
       "       'off_mean_time_2', 'off_dir_var_time_1', 'off_dir_var_time_1_2',\n",
       "       'off_dir_var_time_2', 'off_dir_mean_time_0_1', 'off_dir_mean_time_1',\n",
       "       'off_dir_mean_time_1_2', 'off_dir_mean_time_2', 'cor_s_time_1',\n",
       "       'cor_s_time_1_2', 'ratio_pass_forward', 'cb_off_dir_diff_pass_forward',\n",
       "       'off_dir_diff_between_ball_snap_and_pass_forward', 'best_cor_x_time_1',\n",
       "       'best_cor_x_time_1_2', 'best_cor_y_time_1', 'best_cor_y_time_1_2',\n",
       "       'best_cor_x_y_avg_time_1', 'best_cor_x_y_avg_time_1_2',\n",
       "       'cor_dist_inter'],\n",
       "      dtype='object')"
      ]
     },
     "execution_count": 27,
     "metadata": {},
     "output_type": "execute_result"
    }
   ],
   "source": [
    "pass_attempt_df.columns"
   ]
  },
  {
   "cell_type": "markdown",
   "metadata": {},
   "source": [
    "### Preparing Train/Test Groups"
   ]
  },
  {
   "cell_type": "code",
   "execution_count": 28,
   "metadata": {
    "collapsed": true
   },
   "outputs": [],
   "source": [
    "weeks_exclude = [1, 2, 3]\n",
    "train = pass_attempt_df[[x not in weeks_exclude for x in list(pass_attempt_df[\"week\"])]]\n",
    "test = pass_attempt_df[[x in weeks_exclude for x in list(pass_attempt_df[\"week\"])]]"
   ]
  },
  {
   "cell_type": "code",
   "execution_count": 29,
   "metadata": {
    "collapsed": true
   },
   "outputs": [],
   "source": [
    "X_train = train.drop(['week', 'gameId','playId','nflId','displayName','position'], axis = 1)\n",
    "X_test = test.drop(['week', 'gameId','playId','nflId','displayName','position'], axis = 1)"
   ]
  },
  {
   "cell_type": "code",
   "execution_count": 30,
   "metadata": {},
   "outputs": [
    {
     "name": "stdout",
     "output_type": "stream",
     "text": [
      "(44754, 29)\n",
      "(9831, 29)\n"
     ]
    }
   ],
   "source": [
    "print(X_train.shape)\n",
    "print(X_test.shape)"
   ]
  },
  {
   "cell_type": "markdown",
   "metadata": {},
   "source": [
    "### Fitting GMM Model"
   ]
  },
  {
   "cell_type": "code",
   "execution_count": 31,
   "metadata": {
    "collapsed": true
   },
   "outputs": [],
   "source": [
    "# train\n",
    "clf_train = mixture.GaussianMixture(n_components=2, covariance_type='full')\n",
    "f_train = clf_train.fit(X_train)"
   ]
  },
  {
   "cell_type": "code",
   "execution_count": 32,
   "metadata": {
    "collapsed": true
   },
   "outputs": [],
   "source": [
    "# test\n",
    "clf_test = mixture.GaussianMixture(n_components=2, covariance_type='full')\n",
    "f_test = clf_test.fit(X_test)"
   ]
  },
  {
   "cell_type": "markdown",
   "metadata": {},
   "source": [
    "### Examining Cluster Results"
   ]
  },
  {
   "cell_type": "code",
   "execution_count": 33,
   "metadata": {
    "collapsed": true
   },
   "outputs": [],
   "source": [
    "def get_cluster_means(X, f):\n",
    "    cluster_means = {}\n",
    "    for iCnt in range(len(X.columns)):\n",
    "        cluster_means.update({X.columns[iCnt]:(f.means_[0][iCnt],f.means_[1][iCnt])})\n",
    "    return cluster_means"
   ]
  },
  {
   "cell_type": "code",
   "execution_count": 34,
   "metadata": {},
   "outputs": [
    {
     "data": {
      "text/plain": [
       "{'best_cor_x_time_1': (0.9879871304629766, 0.8749510503806619),\n",
       " 'best_cor_x_time_1_2': (0.9872702355925923, 0.8414694570457721),\n",
       " 'best_cor_x_y_avg_time_1': (0.9645639373353243, 0.8433501952884581),\n",
       " 'best_cor_x_y_avg_time_1_2': (0.9704070241759393, 0.8288607451155799),\n",
       " 'best_cor_y_time_1': (0.9411407442076722, 0.8117493401962538),\n",
       " 'best_cor_y_time_1_2': (0.9535438127592866, 0.8162520331853869),\n",
       " 'cb_off_dir_diff_pass_forward': (11.16777803913672, 44.77305445329338),\n",
       " 'cor_dist_inter': (0.34001503301132585, 0.1624743420298194),\n",
       " 'cor_s_time_1': (0.9254306714344155, 0.7361466103233969),\n",
       " 'cor_s_time_1_2': (0.8822866016560982, 0.6381526024344457),\n",
       " 'off_dir_diff_between_ball_snap_and_pass_forward': (13.01606476500018,\n",
       "  42.893556694256816),\n",
       " 'off_dir_mean_time_0_1': (39.94575327028999, 59.03657640263401),\n",
       " 'off_dir_mean_time_1': (22.87739407018534, 49.53348973368033),\n",
       " 'off_dir_mean_time_1_2': (20.187911912396423, 49.69203395708401),\n",
       " 'off_dir_mean_time_2': (13.149483815676335, 50.77425487373121),\n",
       " 'off_dir_var_time_1': (806.0776182901882, 1251.890981822731),\n",
       " 'off_dir_var_time_1_2': (667.5979222487975, 1500.7743254353918),\n",
       " 'off_dir_var_time_2': (59.126672315602626, 708.6744494398647),\n",
       " 'off_mean_time_0': (5.287273874677242, 8.10572572142487),\n",
       " 'off_mean_time_0_1': (4.335606405549727, 7.2432953551309085),\n",
       " 'off_mean_time_1': (3.996133361343588, 6.945836973874187),\n",
       " 'off_mean_time_1_2': (3.6102498424731255, 6.647983075435781),\n",
       " 'off_mean_time_2': (2.5803093730877995, 5.977497262520743),\n",
       " 'off_var_time_0': (0.04532549372317286, 0.055693295751819194),\n",
       " 'off_var_time_0_1': (1.8404248014212494, 3.3406064046352064),\n",
       " 'off_var_time_1': (1.7583707254954763, 3.254308703696356),\n",
       " 'off_var_time_1_2': (2.3392998379135, 5.2341885386158316),\n",
       " 'off_var_time_2': (0.18889007562854304, 1.0611158321110843),\n",
       " 'ratio_pass_forward': (0.481909954993105, 2.336552732333396)}"
      ]
     },
     "execution_count": 34,
     "metadata": {},
     "output_type": "execute_result"
    }
   ],
   "source": [
    "get_cluster_means(X_train, f_train)"
   ]
  },
  {
   "cell_type": "markdown",
   "metadata": {
    "collapsed": true
   },
   "source": [
    "### Computing Rand Index"
   ]
  },
  {
   "cell_type": "code",
   "execution_count": 35,
   "metadata": {
    "collapsed": true
   },
   "outputs": [],
   "source": [
    "from sklearn.metrics import adjusted_rand_score"
   ]
  },
  {
   "cell_type": "code",
   "execution_count": 36,
   "metadata": {
    "collapsed": true
   },
   "outputs": [],
   "source": [
    "y_train = f_train.predict(X_test)\n",
    "y_test = f_test.predict(X_test)"
   ]
  },
  {
   "cell_type": "code",
   "execution_count": 37,
   "metadata": {},
   "outputs": [
    {
     "data": {
      "text/plain": [
       "0.9625143708570731"
      ]
     },
     "execution_count": 37,
     "metadata": {},
     "output_type": "execute_result"
    }
   ],
   "source": [
    "adjusted_rand_score(y_train, y_test)"
   ]
  },
  {
   "cell_type": "markdown",
   "metadata": {},
   "source": [
    "### Iterating Through To Get Cross-Validation Scores"
   ]
  },
  {
   "cell_type": "code",
   "execution_count": 38,
   "metadata": {
    "collapsed": true
   },
   "outputs": [],
   "source": [
    "weeks_exclude_vect = [[1,2,3],[4,5,6],[7,8,9],[10,11,12],[13,14,15],[15,16,17]]\n",
    "G_vect = [2, 3, 4, 5, 6, 7, 8, 9]\n",
    "rand_index_G_vect = []"
   ]
  },
  {
   "cell_type": "code",
   "execution_count": 39,
   "metadata": {
    "scrolled": true
   },
   "outputs": [
    {
     "name": "stdout",
     "output_type": "stream",
     "text": [
      "0.9625143708570733\n",
      "0.8525484986424553\n",
      "0.6268169508191154\n",
      "0.34101933969340315\n",
      "0.42896108450769604\n",
      "0.34762006764750525\n",
      "0.42709382380687266\n",
      "0.41317466792526786\n"
     ]
    }
   ],
   "source": [
    "for G in G_vect:\n",
    "    rand_index_sum = 0\n",
    "    # iterating through the week groupings to leave out\n",
    "    for weeks_exclue in weeks_exclude_vect:\n",
    "        # creating train/test groups\n",
    "        train = pass_attempt_df[[x not in weeks_exclude for x in list(pass_attempt_df[\"week\"])]]\n",
    "        test = pass_attempt_df[[x in weeks_exclude for x in list(pass_attempt_df[\"week\"])]]\n",
    "\n",
    "        X_train = train.drop(['week', 'gameId','playId','nflId','displayName','position'], axis = 1)\n",
    "        X_test = test.drop(['week', 'gameId','playId','nflId','displayName','position'], axis = 1)\n",
    "\n",
    "        # train\n",
    "        clf_train = mixture.GaussianMixture(n_components=G, covariance_type='full', \n",
    "                                            n_init = 2, max_iter = 200)\n",
    "        f_train = clf_train.fit(X_train)\n",
    "\n",
    "        # test\n",
    "        clf_test = mixture.GaussianMixture(n_components=G, covariance_type='full',\n",
    "                                           n_init = 2, max_iter = 200)\n",
    "        f_test = clf_test.fit(X_test)\n",
    "\n",
    "        # classifying test group\n",
    "        y_train = f_train.predict(X_test)\n",
    "        y_test = f_test.predict(X_test)\n",
    "\n",
    "        # appling the adjusted rand index\n",
    "        rand_index_val = adjusted_rand_score(y_train, y_test)\n",
    "        rand_index_sum += rand_index_val\n",
    "\n",
    "    rand_index = rand_index_sum/len(weeks_exclude_vect)\n",
    "    \n",
    "    rand_index_G_vect.append(rand_index)\n",
    "    \n",
    "    print(rand_index)"
   ]
  },
  {
   "cell_type": "markdown",
   "metadata": {},
   "source": [
    "### Plot eliminating x/y var, speed, and def based variables, replacing Ratio with Cor"
   ]
  },
  {
   "cell_type": "code",
   "execution_count": 40,
   "metadata": {},
   "outputs": [
    {
     "data": {
      "image/png": "[encoded data removed]",
      "text/plain": [
       "<matplotlib.figure.Figure at 0x12e559be0>"
      ]
     },
     "metadata": {},
     "output_type": "display_data"
    }
   ],
   "source": [
    "plt.pyplot.figure(figsize=(10, 6))\n",
    "# plotting the results\n",
    "plt.pyplot.bar(x = G_vect,\n",
    "               height = rand_index_G_vect,\n",
    "               width = .55)\n",
    "plt.pyplot.xlabel('Number of Clusters ($G*$)')\n",
    "plt.pyplot.ylabel('ARI Score')\n",
    "plt.pyplot.ylim(0,1)\n",
    "plt.pyplot.title('ARI Score vs. Number of Clusters')\n",
    "plt.pyplot.show()"
   ]
  },
  {
   "cell_type": "markdown",
   "metadata": {},
   "source": [
    "### Feature Importance"
   ]
  },
  {
   "cell_type": "code",
   "execution_count": 41,
   "metadata": {
    "collapsed": true
   },
   "outputs": [],
   "source": [
    "import sys\n",
    "weeks_exclude_vect = [[1,2,3],[4,5,6],[7,8,9],[10,11,12],[13,14,15],[15,16,17]]\n",
    "feature_list = list(X_train.columns)\n",
    "rand_index_vect = []\n",
    "\n",
    "# making a waitbar\n",
    "toolbar_width = len(feature_list)"
   ]
  },
  {
   "cell_type": "code",
   "execution_count": 42,
   "metadata": {},
   "outputs": [
    {
     "name": "stdout",
     "output_type": "stream",
     "text": [
      "[                            -----------------------------"
     ]
    }
   ],
   "source": [
    "sys.stdout.write(\"[%s]\" % (\" \" * toolbar_width))\n",
    "sys.stdout.flush()\n",
    "sys.stdout.write(\"\\b\" * (toolbar_width+1))\n",
    "\n",
    "for feature in feature_list:\n",
    "    \n",
    "    rand_index_sum = 0\n",
    "\n",
    "    # iterating through the week groupings to leave out\n",
    "    for weeks_exclue in weeks_exclude_vect:\n",
    "        # creating train/test groups\n",
    "        train = pass_attempt_df[[x not in weeks_exclude for \\\n",
    "                                 x in list(pass_attempt_df[\"week\"])]].drop([feature], axis = 1)\n",
    "        test = pass_attempt_df[[x in weeks_exclude for \\\n",
    "                                x in list(pass_attempt_df[\"week\"])]].drop([feature], axis = 1)\n",
    "\n",
    "        X_train = train.drop(['week', 'gameId','playId','nflId','displayName','position'], axis = 1)\n",
    "        X_test = test.drop(['week', 'gameId','playId','nflId','displayName','position'], axis = 1)\n",
    "\n",
    "        # train\n",
    "        clf_train = mixture.GaussianMixture(n_components=2, covariance_type='full')\n",
    "        f_train = clf_train.fit(X_train)\n",
    "\n",
    "        # test\n",
    "        clf_test = mixture.GaussianMixture(n_components=2, covariance_type='full')\n",
    "        f_test = clf_test.fit(X_test)\n",
    "\n",
    "        # classifying test group\n",
    "        y_train = f_train.predict(X_test)\n",
    "        y_test = f_test.predict(X_test)\n",
    "\n",
    "        # appling the adjusted rand index\n",
    "        rand_index_val = adjusted_rand_score(y_train, y_test)\n",
    "        rand_index_sum += rand_index_val\n",
    "\n",
    "    rand_index = rand_index_sum/len(weeks_exclude_vect)\n",
    "    \n",
    "    rand_index_vect.append(rand_index)\n",
    "    \n",
    "    sys.stdout.write(\"-\")\n",
    "    sys.stdout.flush()"
   ]
  },
  {
   "cell_type": "code",
   "execution_count": 43,
   "metadata": {
    "collapsed": true
   },
   "outputs": [],
   "source": [
    "d = {'feature': feature_list, 'delta_ARI': rand_index_G_vect[0] - np.array(rand_index_vect)}\n",
    "feature_imp_df = pd.DataFrame(data=d).sort_values('delta_ARI', ascending = False)\n",
    "feature_imp_df[\"base_feature\"] = [x.split('_pass_forward')[0] if \"pass_forward\" in x \\\n",
    "                                  else x.split('_ball_snap')[0] if \"ball_snap\" in x \\\n",
    "                                  else x.split('_time')[0] for x in np.array(feature_imp_df[\"feature\"])]\n",
    "feature_imp_df[\"time_period\"] = [\"Before Ball Thrown\" if \"pass_forward\" in x \\\n",
    "                                 else \"Before Ball Thrown\" if \"ball_snap\" in x \\\n",
    "                                 else \"After Ball Thrown\" if x.endswith(\"2\") \\\n",
    "                                 else \"Before Ball Thrown\" for x in np.array(feature_imp_df[\"feature\"])]\n",
    "feature_imp_df[\"feature\"] = [x.upper() for x in feature_imp_df[\"feature\"]]"
   ]
  },
  {
   "cell_type": "code",
   "execution_count": 44,
   "metadata": {},
   "outputs": [
    {
     "data": {
      "image/png": "[encoded data removed]",
      "text/plain": [
       "<matplotlib.figure.Figure at 0x12e566da0>"
      ]
     },
     "metadata": {},
     "output_type": "display_data"
    }
   ],
   "source": [
    "plt.pyplot.figure(figsize=(7,7))\n",
    "\n",
    "sns.barplot(x=\"delta_ARI\", y=\"feature\", data=feature_imp_df.head(10).sort_values('delta_ARI', ascending = True),\n",
    "            hue = \"time_period\", dodge = False, palette = [\"red\", \"blue\"])\n",
    "plt.pyplot.gca().legend().set_title('')\n",
    "plt.pyplot.title('Change in ARI vs. Feature')\n",
    "plt.pyplot.ylabel('Feature Name')\n",
    "plt.pyplot.xlabel('Change In ARI')\n",
    "plt.pyplot.show()"
   ]
  },
  {
   "cell_type": "markdown",
   "metadata": {},
   "source": [
    "### Scoring All Plays"
   ]
  },
  {
   "cell_type": "code",
   "execution_count": 38,
   "metadata": {},
   "outputs": [
    {
     "data": {
      "text/html": [
       "<div>\n",
       "<style scoped>\n",
       "    .dataframe tbody tr th:only-of-type {\n",
       "        vertical-align: middle;\n",
       "    }\n",
       "\n",
       "    .dataframe tbody tr th {\n",
       "        vertical-align: top;\n",
       "    }\n",
       "\n",
       "    .dataframe thead th {\n",
       "        text-align: right;\n",
       "    }\n",
       "</style>\n",
       "<table border=\"1\" class=\"dataframe\">\n",
       "  <thead>\n",
       "    <tr style=\"text-align: right;\">\n",
       "      <th></th>\n",
       "      <th>week</th>\n",
       "      <th>gameId</th>\n",
       "      <th>playId</th>\n",
       "      <th>nflId</th>\n",
       "      <th>displayName</th>\n",
       "      <th>position</th>\n",
       "      <th>off_var_time_0</th>\n",
       "      <th>off_var_time_0_1</th>\n",
       "      <th>off_var_time_1</th>\n",
       "      <th>off_var_time_1_2</th>\n",
       "      <th>...</th>\n",
       "      <th>ratio_pass_forward</th>\n",
       "      <th>cb_off_dir_diff_pass_forward</th>\n",
       "      <th>off_dir_diff_between_ball_snap_and_pass_forward</th>\n",
       "      <th>best_cor_x_time_1</th>\n",
       "      <th>best_cor_x_time_1_2</th>\n",
       "      <th>best_cor_y_time_1</th>\n",
       "      <th>best_cor_y_time_1_2</th>\n",
       "      <th>best_cor_x_y_avg_time_1</th>\n",
       "      <th>best_cor_x_y_avg_time_1_2</th>\n",
       "      <th>cor_dist_inter</th>\n",
       "    </tr>\n",
       "  </thead>\n",
       "  <tbody>\n",
       "    <tr>\n",
       "      <th>0</th>\n",
       "      <td>1</td>\n",
       "      <td>2018090600</td>\n",
       "      <td>75</td>\n",
       "      <td>2552689</td>\n",
       "      <td>Ronald Darby</td>\n",
       "      <td>CB</td>\n",
       "      <td>0.000307</td>\n",
       "      <td>2.126595</td>\n",
       "      <td>2.334991</td>\n",
       "      <td>6.760635</td>\n",
       "      <td>...</td>\n",
       "      <td>1.003735</td>\n",
       "      <td>0.69</td>\n",
       "      <td>10.00</td>\n",
       "      <td>0.991059</td>\n",
       "      <td>0.996693</td>\n",
       "      <td>0.996152</td>\n",
       "      <td>0.992656</td>\n",
       "      <td>0.993605</td>\n",
       "      <td>0.994675</td>\n",
       "      <td>0.136746</td>\n",
       "    </tr>\n",
       "    <tr>\n",
       "      <th>1</th>\n",
       "      <td>1</td>\n",
       "      <td>2018090600</td>\n",
       "      <td>75</td>\n",
       "      <td>2555383</td>\n",
       "      <td>Jalen Mills</td>\n",
       "      <td>CB</td>\n",
       "      <td>0.001680</td>\n",
       "      <td>2.051115</td>\n",
       "      <td>2.075317</td>\n",
       "      <td>1.658779</td>\n",
       "      <td>...</td>\n",
       "      <td>0.535486</td>\n",
       "      <td>20.40</td>\n",
       "      <td>11.75</td>\n",
       "      <td>0.991839</td>\n",
       "      <td>0.969084</td>\n",
       "      <td>0.893204</td>\n",
       "      <td>0.945554</td>\n",
       "      <td>0.942522</td>\n",
       "      <td>0.957319</td>\n",
       "      <td>0.154773</td>\n",
       "    </tr>\n",
       "    <tr>\n",
       "      <th>2</th>\n",
       "      <td>1</td>\n",
       "      <td>2018090600</td>\n",
       "      <td>146</td>\n",
       "      <td>2552689</td>\n",
       "      <td>Ronald Darby</td>\n",
       "      <td>CB</td>\n",
       "      <td>0.000479</td>\n",
       "      <td>1.310370</td>\n",
       "      <td>1.533356</td>\n",
       "      <td>2.695306</td>\n",
       "      <td>...</td>\n",
       "      <td>0.285235</td>\n",
       "      <td>14.63</td>\n",
       "      <td>8.41</td>\n",
       "      <td>0.998055</td>\n",
       "      <td>0.998745</td>\n",
       "      <td>0.995289</td>\n",
       "      <td>0.996726</td>\n",
       "      <td>0.996672</td>\n",
       "      <td>0.997735</td>\n",
       "      <td>0.140171</td>\n",
       "    </tr>\n",
       "    <tr>\n",
       "      <th>3</th>\n",
       "      <td>1</td>\n",
       "      <td>2018090600</td>\n",
       "      <td>146</td>\n",
       "      <td>2555383</td>\n",
       "      <td>Jalen Mills</td>\n",
       "      <td>CB</td>\n",
       "      <td>0.000957</td>\n",
       "      <td>0.967793</td>\n",
       "      <td>1.170710</td>\n",
       "      <td>3.954483</td>\n",
       "      <td>...</td>\n",
       "      <td>1.104717</td>\n",
       "      <td>129.71</td>\n",
       "      <td>9.22</td>\n",
       "      <td>0.990084</td>\n",
       "      <td>0.508795</td>\n",
       "      <td>0.853983</td>\n",
       "      <td>0.943507</td>\n",
       "      <td>0.922033</td>\n",
       "      <td>0.726151</td>\n",
       "      <td>0.110491</td>\n",
       "    </tr>\n",
       "    <tr>\n",
       "      <th>4</th>\n",
       "      <td>1</td>\n",
       "      <td>2018090600</td>\n",
       "      <td>146</td>\n",
       "      <td>2557958</td>\n",
       "      <td>Sidney Jones</td>\n",
       "      <td>CB</td>\n",
       "      <td>0.123231</td>\n",
       "      <td>1.930732</td>\n",
       "      <td>1.270966</td>\n",
       "      <td>1.080767</td>\n",
       "      <td>...</td>\n",
       "      <td>0.897810</td>\n",
       "      <td>9.97</td>\n",
       "      <td>64.66</td>\n",
       "      <td>0.360666</td>\n",
       "      <td>0.800361</td>\n",
       "      <td>0.975222</td>\n",
       "      <td>0.984590</td>\n",
       "      <td>0.667944</td>\n",
       "      <td>0.892476</td>\n",
       "      <td>0.177724</td>\n",
       "    </tr>\n",
       "    <tr>\n",
       "      <th>...</th>\n",
       "      <td>...</td>\n",
       "      <td>...</td>\n",
       "      <td>...</td>\n",
       "      <td>...</td>\n",
       "      <td>...</td>\n",
       "      <td>...</td>\n",
       "      <td>...</td>\n",
       "      <td>...</td>\n",
       "      <td>...</td>\n",
       "      <td>...</td>\n",
       "      <td>...</td>\n",
       "      <td>...</td>\n",
       "      <td>...</td>\n",
       "      <td>...</td>\n",
       "      <td>...</td>\n",
       "      <td>...</td>\n",
       "      <td>...</td>\n",
       "      <td>...</td>\n",
       "      <td>...</td>\n",
       "      <td>...</td>\n",
       "      <td>...</td>\n",
       "    </tr>\n",
       "    <tr>\n",
       "      <th>54580</th>\n",
       "      <td>17</td>\n",
       "      <td>2018123015</td>\n",
       "      <td>3969</td>\n",
       "      <td>2560728</td>\n",
       "      <td>Tre Flowers</td>\n",
       "      <td>CB</td>\n",
       "      <td>0.000094</td>\n",
       "      <td>7.318052</td>\n",
       "      <td>6.521719</td>\n",
       "      <td>5.824754</td>\n",
       "      <td>...</td>\n",
       "      <td>0.188862</td>\n",
       "      <td>3.50</td>\n",
       "      <td>12.89</td>\n",
       "      <td>0.982178</td>\n",
       "      <td>0.978266</td>\n",
       "      <td>0.798684</td>\n",
       "      <td>0.983026</td>\n",
       "      <td>0.890431</td>\n",
       "      <td>0.980646</td>\n",
       "      <td>0.197942</td>\n",
       "    </tr>\n",
       "    <tr>\n",
       "      <th>54581</th>\n",
       "      <td>17</td>\n",
       "      <td>2018123015</td>\n",
       "      <td>4057</td>\n",
       "      <td>2495504</td>\n",
       "      <td>Patrick Peterson</td>\n",
       "      <td>CB</td>\n",
       "      <td>0.010847</td>\n",
       "      <td>1.752304</td>\n",
       "      <td>1.917106</td>\n",
       "      <td>2.336483</td>\n",
       "      <td>...</td>\n",
       "      <td>0.965492</td>\n",
       "      <td>2.54</td>\n",
       "      <td>1.98</td>\n",
       "      <td>0.991051</td>\n",
       "      <td>0.995540</td>\n",
       "      <td>0.996290</td>\n",
       "      <td>0.998207</td>\n",
       "      <td>0.993670</td>\n",
       "      <td>0.996874</td>\n",
       "      <td>0.154753</td>\n",
       "    </tr>\n",
       "    <tr>\n",
       "      <th>54582</th>\n",
       "      <td>17</td>\n",
       "      <td>2018123015</td>\n",
       "      <td>4057</td>\n",
       "      <td>2540170</td>\n",
       "      <td>David Amerson</td>\n",
       "      <td>CB</td>\n",
       "      <td>0.003717</td>\n",
       "      <td>0.970971</td>\n",
       "      <td>1.212249</td>\n",
       "      <td>1.769824</td>\n",
       "      <td>...</td>\n",
       "      <td>0.093403</td>\n",
       "      <td>1.78</td>\n",
       "      <td>3.12</td>\n",
       "      <td>0.998434</td>\n",
       "      <td>0.999085</td>\n",
       "      <td>0.830865</td>\n",
       "      <td>0.830702</td>\n",
       "      <td>0.914650</td>\n",
       "      <td>0.914894</td>\n",
       "      <td>0.265397</td>\n",
       "    </tr>\n",
       "    <tr>\n",
       "      <th>54583</th>\n",
       "      <td>17</td>\n",
       "      <td>2018123015</td>\n",
       "      <td>4104</td>\n",
       "      <td>2495504</td>\n",
       "      <td>Patrick Peterson</td>\n",
       "      <td>CB</td>\n",
       "      <td>0.102378</td>\n",
       "      <td>0.549758</td>\n",
       "      <td>0.487378</td>\n",
       "      <td>0.878557</td>\n",
       "      <td>...</td>\n",
       "      <td>0.201037</td>\n",
       "      <td>2.71</td>\n",
       "      <td>5.92</td>\n",
       "      <td>0.998686</td>\n",
       "      <td>0.999002</td>\n",
       "      <td>0.984561</td>\n",
       "      <td>0.998647</td>\n",
       "      <td>0.991624</td>\n",
       "      <td>0.998824</td>\n",
       "      <td>0.271782</td>\n",
       "    </tr>\n",
       "    <tr>\n",
       "      <th>54584</th>\n",
       "      <td>17</td>\n",
       "      <td>2018123015</td>\n",
       "      <td>4104</td>\n",
       "      <td>2540170</td>\n",
       "      <td>David Amerson</td>\n",
       "      <td>CB</td>\n",
       "      <td>0.053721</td>\n",
       "      <td>3.613849</td>\n",
       "      <td>4.463146</td>\n",
       "      <td>3.727600</td>\n",
       "      <td>...</td>\n",
       "      <td>2.966477</td>\n",
       "      <td>28.96</td>\n",
       "      <td>15.02</td>\n",
       "      <td>0.933488</td>\n",
       "      <td>0.986633</td>\n",
       "      <td>0.934992</td>\n",
       "      <td>0.923168</td>\n",
       "      <td>0.934240</td>\n",
       "      <td>0.954900</td>\n",
       "      <td>0.204517</td>\n",
       "    </tr>\n",
       "  </tbody>\n",
       "</table>\n",
       "<p>54585 rows × 35 columns</p>\n",
       "</div>"
      ],
      "text/plain": [
       "       week      gameId  playId    nflId       displayName position  \\\n",
       "0         1  2018090600      75  2552689      Ronald Darby       CB   \n",
       "1         1  2018090600      75  2555383       Jalen Mills       CB   \n",
       "2         1  2018090600     146  2552689      Ronald Darby       CB   \n",
       "3         1  2018090600     146  2555383       Jalen Mills       CB   \n",
       "4         1  2018090600     146  2557958      Sidney Jones       CB   \n",
       "...     ...         ...     ...      ...               ...      ...   \n",
       "54580    17  2018123015    3969  2560728       Tre Flowers       CB   \n",
       "54581    17  2018123015    4057  2495504  Patrick Peterson       CB   \n",
       "54582    17  2018123015    4057  2540170     David Amerson       CB   \n",
       "54583    17  2018123015    4104  2495504  Patrick Peterson       CB   \n",
       "54584    17  2018123015    4104  2540170     David Amerson       CB   \n",
       "\n",
       "       off_var_time_0  off_var_time_0_1  off_var_time_1  off_var_time_1_2  \\\n",
       "0            0.000307          2.126595        2.334991          6.760635   \n",
       "1            0.001680          2.051115        2.075317          1.658779   \n",
       "2            0.000479          1.310370        1.533356          2.695306   \n",
       "3            0.000957          0.967793        1.170710          3.954483   \n",
       "4            0.123231          1.930732        1.270966          1.080767   \n",
       "...               ...               ...             ...               ...   \n",
       "54580        0.000094          7.318052        6.521719          5.824754   \n",
       "54581        0.010847          1.752304        1.917106          2.336483   \n",
       "54582        0.003717          0.970971        1.212249          1.769824   \n",
       "54583        0.102378          0.549758        0.487378          0.878557   \n",
       "54584        0.053721          3.613849        4.463146          3.727600   \n",
       "\n",
       "       ...  ratio_pass_forward  cb_off_dir_diff_pass_forward  \\\n",
       "0      ...            1.003735                          0.69   \n",
       "1      ...            0.535486                         20.40   \n",
       "2      ...            0.285235                         14.63   \n",
       "3      ...            1.104717                        129.71   \n",
       "4      ...            0.897810                          9.97   \n",
       "...    ...                 ...                           ...   \n",
       "54580  ...            0.188862                          3.50   \n",
       "54581  ...            0.965492                          2.54   \n",
       "54582  ...            0.093403                          1.78   \n",
       "54583  ...            0.201037                          2.71   \n",
       "54584  ...            2.966477                         28.96   \n",
       "\n",
       "       off_dir_diff_between_ball_snap_and_pass_forward  best_cor_x_time_1  \\\n",
       "0                                                10.00           0.991059   \n",
       "1                                                11.75           0.991839   \n",
       "2                                                 8.41           0.998055   \n",
       "3                                                 9.22           0.990084   \n",
       "4                                                64.66           0.360666   \n",
       "...                                                ...                ...   \n",
       "54580                                            12.89           0.982178   \n",
       "54581                                             1.98           0.991051   \n",
       "54582                                             3.12           0.998434   \n",
       "54583                                             5.92           0.998686   \n",
       "54584                                            15.02           0.933488   \n",
       "\n",
       "       best_cor_x_time_1_2  best_cor_y_time_1  best_cor_y_time_1_2  \\\n",
       "0                 0.996693           0.996152             0.992656   \n",
       "1                 0.969084           0.893204             0.945554   \n",
       "2                 0.998745           0.995289             0.996726   \n",
       "3                 0.508795           0.853983             0.943507   \n",
       "4                 0.800361           0.975222             0.984590   \n",
       "...                    ...                ...                  ...   \n",
       "54580             0.978266           0.798684             0.983026   \n",
       "54581             0.995540           0.996290             0.998207   \n",
       "54582             0.999085           0.830865             0.830702   \n",
       "54583             0.999002           0.984561             0.998647   \n",
       "54584             0.986633           0.934992             0.923168   \n",
       "\n",
       "       best_cor_x_y_avg_time_1  best_cor_x_y_avg_time_1_2  cor_dist_inter  \n",
       "0                     0.993605                   0.994675        0.136746  \n",
       "1                     0.942522                   0.957319        0.154773  \n",
       "2                     0.996672                   0.997735        0.140171  \n",
       "3                     0.922033                   0.726151        0.110491  \n",
       "4                     0.667944                   0.892476        0.177724  \n",
       "...                        ...                        ...             ...  \n",
       "54580                 0.890431                   0.980646        0.197942  \n",
       "54581                 0.993670                   0.996874        0.154753  \n",
       "54582                 0.914650                   0.914894        0.265397  \n",
       "54583                 0.991624                   0.998824        0.271782  \n",
       "54584                 0.934240                   0.954900        0.204517  \n",
       "\n",
       "[54585 rows x 35 columns]"
      ]
     },
     "execution_count": 38,
     "metadata": {},
     "output_type": "execute_result"
    }
   ],
   "source": [
    "pass_attempt_df"
   ]
  },
  {
   "cell_type": "code",
   "execution_count": 39,
   "metadata": {},
   "outputs": [
    {
     "data": {
      "text/plain": [
       "(45000, 29)"
      ]
     },
     "execution_count": 39,
     "metadata": {},
     "output_type": "execute_result"
    }
   ],
   "source": [
    "# sampling 45,000 plays to be within CPU limit\n",
    "X_train = pass_attempt_df.sample(n = 45000) \\\n",
    "                         .drop(['week', 'gameId','playId','nflId','displayName','position'], axis = 1)\n",
    "X_train.shape"
   ]
  },
  {
   "cell_type": "code",
   "execution_count": 40,
   "metadata": {},
   "outputs": [
    {
     "data": {
      "text/plain": [
       "(54585, 29)"
      ]
     },
     "execution_count": 40,
     "metadata": {},
     "output_type": "execute_result"
    }
   ],
   "source": [
    "# all plays to score\n",
    "X_score = pass_attempt_df.drop(['week', 'gameId','playId','nflId','displayName','position'], axis = 1)\n",
    "X_score.shape"
   ]
  },
  {
   "cell_type": "code",
   "execution_count": 41,
   "metadata": {},
   "outputs": [
    {
     "name": "stdout",
     "output_type": "stream",
     "text": [
      "(20000, 29)\n",
      "(34585, 29)\n"
     ]
    }
   ],
   "source": [
    "X_score1 = X_score[0:20000]\n",
    "X_score2 = X_score[20000:]\n",
    "print(X_score1.shape)\n",
    "print(X_score2.shape)"
   ]
  },
  {
   "cell_type": "code",
   "execution_count": 42,
   "metadata": {
    "collapsed": true
   },
   "outputs": [],
   "source": [
    "# train\n",
    "clf_train = mixture.GaussianMixture(n_components=2, covariance_type='full')\n",
    "f_train = clf_train.fit(X_train)"
   ]
  },
  {
   "cell_type": "code",
   "execution_count": 43,
   "metadata": {},
   "outputs": [
    {
     "data": {
      "text/plain": [
       "{'best_cor_x_time_1': (0.9882507791340785, 0.8749518502541503),\n",
       " 'best_cor_x_time_1_2': (0.9872876272995752, 0.8406307671193541),\n",
       " 'best_cor_x_y_avg_time_1': (0.9643283939797832, 0.8441379077477886),\n",
       " 'best_cor_x_y_avg_time_1_2': (0.9703566211490771, 0.8291653201321683),\n",
       " 'best_cor_y_time_1': (0.9404060088254884, 0.8133239652414261),\n",
       " 'best_cor_y_time_1_2': (0.9534256149985814, 0.8176998731449826),\n",
       " 'cb_off_dir_diff_pass_forward': (11.23179439156588, 44.847326229380535),\n",
       " 'cor_dist_inter': (0.34025305690320345, 0.16327059232583122),\n",
       " 'cor_s_time_1': (0.9258167549942822, 0.7377885492348562),\n",
       " 'cor_s_time_1_2': (0.8820283320659168, 0.6389926121729047),\n",
       " 'off_dir_diff_between_ball_snap_and_pass_forward': (13.02729262332309,\n",
       "  42.332047490660116),\n",
       " 'off_dir_mean_time_0_1': (39.77184385330587, 58.72136705591255),\n",
       " 'off_dir_mean_time_1': (22.700022386446683, 49.137707737668144),\n",
       " 'off_dir_mean_time_1_2': (20.07055502808549, 49.43706495400544),\n",
       " 'off_dir_mean_time_2': (13.21130415212741, 50.96010264613623),\n",
       " 'off_dir_var_time_1': (789.2130639430638, 1244.0754916821215),\n",
       " 'off_dir_var_time_1_2': (654.9892197061614, 1496.4726375768016),\n",
       " 'off_dir_var_time_2': (59.254713868080835, 712.6103063249177),\n",
       " 'off_mean_time_0': (5.291342591145584, 8.068370470592496),\n",
       " 'off_mean_time_0_1': (4.339239818310153, 7.199752628720934),\n",
       " 'off_mean_time_1': (3.9983721057739525, 6.901320868679337),\n",
       " 'off_mean_time_1_2': (3.6101683478368054, 6.610651142306591),\n",
       " 'off_mean_time_2': (2.5684488753079457, 5.947404062054953),\n",
       " 'off_var_time_0': (0.04529651244353077, 0.05561843006360916),\n",
       " 'off_var_time_0_1': (1.8422726353638839, 3.343082872248471),\n",
       " 'off_var_time_1': (1.7607469337225508, 3.251884064750769),\n",
       " 'off_var_time_1_2': (2.343276706817919, 5.222121370362766),\n",
       " 'off_var_time_2': (0.1864941224431625, 1.062893306995064),\n",
       " 'ratio_pass_forward': (0.48198992556301884, 2.2958715184517877)}"
      ]
     },
     "execution_count": 43,
     "metadata": {},
     "output_type": "execute_result"
    }
   ],
   "source": [
    "get_cluster_means(X_train, f_train)"
   ]
  },
  {
   "cell_type": "code",
   "execution_count": 44,
   "metadata": {
    "collapsed": true
   },
   "outputs": [],
   "source": [
    "full_probs1 = [x[1] for x in f_train.predict_proba(X_score1)]\n",
    "full_classes1 = f_train.predict(X_score1)\n",
    "\n",
    "full_probs2 = [x[1] for x in f_train.predict_proba(X_score2)]\n",
    "full_classes2 = f_train.predict(X_score2)"
   ]
  },
  {
   "cell_type": "code",
   "execution_count": 45,
   "metadata": {
    "collapsed": true
   },
   "outputs": [],
   "source": [
    "full_probs = np.append(full_probs1, full_probs2)\n",
    "full_classes = np.append(full_classes1, full_classes2)"
   ]
  },
  {
   "cell_type": "code",
   "execution_count": 46,
   "metadata": {},
   "outputs": [
    {
     "data": {
      "image/png": "[encoded data removed]",
      "text/plain": [
       "<matplotlib.figure.Figure at 0x12d62d358>"
      ]
     },
     "metadata": {},
     "output_type": "display_data"
    }
   ],
   "source": [
    "plt.pyplot.hist(full_probs, bins = 50)\n",
    "plt.pyplot.xlabel('Probability of Zone Coverage')\n",
    "plt.pyplot.ylabel('Density')\n",
    "plt.pyplot.show()"
   ]
  },
  {
   "cell_type": "code",
   "execution_count": 47,
   "metadata": {
    "collapsed": true
   },
   "outputs": [],
   "source": [
    "pass_attempt_df[\"zone_probability\"] = full_probs\n",
    "pass_attempt_df[\"zone_flag\"] = full_classes"
   ]
  },
  {
   "cell_type": "markdown",
   "metadata": {},
   "source": [
    "### Adding in Time Periods"
   ]
  },
  {
   "cell_type": "code",
   "execution_count": 54,
   "metadata": {
    "collapsed": true
   },
   "outputs": [],
   "source": [
    "def get_man_zone_classifications(pass_attempt_df_new):\n",
    "    # sampling 45,000 plays to be within CPU limit\n",
    "    X_train = pass_attempt_df_new.sample(n = 45000) \\\n",
    "                    .drop(['week', 'gameId','playId','nflId','displayName','position'], axis = 1)\n",
    "    \n",
    "    # getting df to score\n",
    "    X_score = pass_attempt_df_new.drop(['week', 'gameId','playId','nflId','displayName','position'], axis = 1)\n",
    "\n",
    "    X_score1 = X_score[0:20000]\n",
    "    X_score2 = X_score[20000:]\n",
    "    \n",
    "    # train\n",
    "    clf_train = mixture.GaussianMixture(n_components=2, covariance_type='full')\n",
    "    f_train = clf_train.fit(X_train)\n",
    "    \n",
    "    full_probs1 = [x[1] for x in f_train.predict_proba(X_score1)]\n",
    "    full_classes1 = f_train.predict(X_score1)\n",
    "\n",
    "    full_probs2 = [x[1] for x in f_train.predict_proba(X_score2)]\n",
    "    full_classes2 = f_train.predict(X_score2)\n",
    "    \n",
    "    full_probs = np.append(full_probs1, full_probs2)\n",
    "    full_classes = np.append(full_classes1, full_classes2)\n",
    "    \n",
    "    plt.pyplot.hist(full_probs, bins = 50)\n",
    "    plt.pyplot.xlabel('Probability of Zone Coverage')\n",
    "    plt.pyplot.ylabel('Density')\n",
    "    plt.pyplot.show()\n",
    "    \n",
    "    print(get_cluster_means(X_train, f_train))\n",
    "    \n",
    "    return full_probs, full_classes"
   ]
  },
  {
   "cell_type": "code",
   "execution_count": 55,
   "metadata": {},
   "outputs": [
    {
     "data": {
      "image/png": "[encoded data removed]",
      "text/plain": [
       "<matplotlib.figure.Figure at 0x127b54780>"
      ]
     },
     "metadata": {},
     "output_type": "display_data"
    },
    {
     "name": "stdout",
     "output_type": "stream",
     "text": [
      "{'off_var_time_0': (0.0015512337090819602, 0.1390711620423555), 'off_mean_time_0': (6.026434632538762, 7.688254410588822)}\n"
     ]
    }
   ],
   "source": [
    "# for time 0\n",
    "pass_attempt_df_new = pass_attempt_df[['week', 'gameId','playId','nflId','displayName','position'] + \\\n",
    "                                     list(pass_attempt_df.columns[[x.endswith('0') for x in pass_attempt_df.columns]]) + \\\n",
    "                                     list(pass_attempt_df.columns[[x.endswith('ball_snap') for x in pass_attempt_df.columns]])]\n",
    "\n",
    "fun0_output = get_man_zone_classifications(pass_attempt_df_new)\n",
    "full_probs0 = fun0_output[0]\n",
    "full_classes0 = fun0_output[1]\n"
   ]
  },
  {
   "cell_type": "code",
   "execution_count": 56,
   "metadata": {
    "collapsed": true
   },
   "outputs": [],
   "source": [
    "pass_attempt_df[\"zone_probability_ball_snap\"] = full_probs0\n",
    "pass_attempt_df[\"zone_flag_ball_snap\"] = full_classes0"
   ]
  },
  {
   "cell_type": "code",
   "execution_count": 57,
   "metadata": {},
   "outputs": [
    {
     "data": {
      "image/png": "[encoded data removed]",
      "text/plain": [
       "<matplotlib.figure.Figure at 0x12766e390>"
      ]
     },
     "metadata": {},
     "output_type": "display_data"
    },
    {
     "name": "stdout",
     "output_type": "stream",
     "text": [
      "{'off_var_time_1': (1.8308464452564903, 3.432056075757589), 'off_mean_time_1': (4.150211604764003, 7.2070607606014425), 'off_dir_var_time_1': (786.9078716868943, 1331.7301645504024), 'off_dir_mean_time_1': (23.11789234024693, 53.51550134863725), 'cor_s_time_1': (0.9234417992790517, 0.7058247325469816), 'best_cor_x_time_1': (0.9888072536418284, 0.8529700561521757), 'best_cor_y_time_1': (0.9629543650992592, 0.7562256726979663), 'best_cor_x_y_avg_time_1': (0.9758808093705447, 0.8045978644250708), 'ratio_pass_forward': (0.4818407481705753, 2.615769546965463), 'cb_off_dir_diff_pass_forward': (13.986423040834676, 46.75728661322106), 'off_dir_diff_between_ball_snap_and_pass_forward': (13.095706436112032, 47.82884781571507)}\n"
     ]
    }
   ],
   "source": [
    "# for time 1\n",
    "pass_attempt_df_new = pass_attempt_df[['week', 'gameId','playId','nflId','displayName','position'] + \\\n",
    "                                     list(pass_attempt_df.columns[[x.endswith('time_1') for x in pass_attempt_df.columns]]) + \\\n",
    "                                     list(pass_attempt_df.columns[[x.endswith('pass_forward') for x in pass_attempt_df.columns]])]\n",
    "\n",
    "fun1_output = get_man_zone_classifications(pass_attempt_df_new)\n",
    "full_probs1 = fun1_output[0]\n",
    "full_classes1 = fun1_output[1]"
   ]
  },
  {
   "cell_type": "code",
   "execution_count": 58,
   "metadata": {
    "collapsed": true
   },
   "outputs": [],
   "source": [
    "pass_attempt_df[\"zone_probability_pass_attempt\"] = full_probs1\n",
    "pass_attempt_df[\"zone_flag_pass_attempt\"] = full_classes1"
   ]
  },
  {
   "cell_type": "code",
   "execution_count": 59,
   "metadata": {},
   "outputs": [
    {
     "data": {
      "image/png": "[encoded data removed]",
      "text/plain": [
       "<matplotlib.figure.Figure at 0x127db7710>"
      ]
     },
     "metadata": {},
     "output_type": "display_data"
    },
    {
     "name": "stdout",
     "output_type": "stream",
     "text": [
      "{'off_var_time_2': (0.12601231050681874, 1.1718651957747308), 'off_mean_time_2': (2.5572412148027674, 6.095238767145956), 'off_dir_var_time_2': (25.73945425104754, 782.124576040907), 'off_dir_mean_time_2': (10.880836955449265, 55.520056830406396)}\n"
     ]
    }
   ],
   "source": [
    "# for time 2\n",
    "pass_attempt_df_new = pass_attempt_df[['week', 'gameId','playId','nflId','displayName','position'] + \\\n",
    "                                     list(pass_attempt_df.columns[[x.endswith('time_2') for x in pass_attempt_df.columns]])]\n",
    "\n",
    "fun2_output = get_man_zone_classifications(pass_attempt_df_new)\n",
    "full_probs2 = fun2_output[0]\n",
    "full_classes2 = fun2_output[1]"
   ]
  },
  {
   "cell_type": "code",
   "execution_count": 60,
   "metadata": {
    "collapsed": true
   },
   "outputs": [],
   "source": [
    "pass_attempt_df[\"zone_probability_pass_arrived\"] = full_probs2\n",
    "pass_attempt_df[\"zone_flag_pass_arrived\"] = full_classes2"
   ]
  },
  {
   "cell_type": "markdown",
   "metadata": {},
   "source": [
    "### Saving Results"
   ]
  },
  {
   "cell_type": "code",
   "execution_count": 61,
   "metadata": {
    "collapsed": true
   },
   "outputs": [],
   "source": [
    "pass_attempt_df_final = pass_attempt_df[['week', 'gameId','playId','nflId','displayName','position'] + \\\n",
    "                                     list(pass_attempt_df.columns[[x.startswith('zone') for x in pass_attempt_df.columns]])]"
   ]
  },
  {
   "cell_type": "code",
   "execution_count": 62,
   "metadata": {},
   "outputs": [
    {
     "data": {
      "text/html": [
       "<div>\n",
       "<style scoped>\n",
       "    .dataframe tbody tr th:only-of-type {\n",
       "        vertical-align: middle;\n",
       "    }\n",
       "\n",
       "    .dataframe tbody tr th {\n",
       "        vertical-align: top;\n",
       "    }\n",
       "\n",
       "    .dataframe thead th {\n",
       "        text-align: right;\n",
       "    }\n",
       "</style>\n",
       "<table border=\"1\" class=\"dataframe\">\n",
       "  <thead>\n",
       "    <tr style=\"text-align: right;\">\n",
       "      <th></th>\n",
       "      <th>week</th>\n",
       "      <th>gameId</th>\n",
       "      <th>playId</th>\n",
       "      <th>nflId</th>\n",
       "      <th>displayName</th>\n",
       "      <th>position</th>\n",
       "      <th>zone_probability</th>\n",
       "      <th>zone_flag</th>\n",
       "      <th>zone_probability_ball_snap</th>\n",
       "      <th>zone_flag_ball_snap</th>\n",
       "      <th>zone_probability_pass_attempt</th>\n",
       "      <th>zone_flag_pass_attempt</th>\n",
       "      <th>zone_probability_pass_arrived</th>\n",
       "      <th>zone_flag_pass_arrived</th>\n",
       "    </tr>\n",
       "  </thead>\n",
       "  <tbody>\n",
       "    <tr>\n",
       "      <th>0</th>\n",
       "      <td>1</td>\n",
       "      <td>2018090600</td>\n",
       "      <td>75</td>\n",
       "      <td>2552689</td>\n",
       "      <td>Ronald Darby</td>\n",
       "      <td>CB</td>\n",
       "      <td>8.904672e-12</td>\n",
       "      <td>0</td>\n",
       "      <td>0.005414</td>\n",
       "      <td>0</td>\n",
       "      <td>6.555225e-07</td>\n",
       "      <td>0</td>\n",
       "      <td>0.871465</td>\n",
       "      <td>1</td>\n",
       "    </tr>\n",
       "    <tr>\n",
       "      <th>1</th>\n",
       "      <td>1</td>\n",
       "      <td>2018090600</td>\n",
       "      <td>75</td>\n",
       "      <td>2555383</td>\n",
       "      <td>Jalen Mills</td>\n",
       "      <td>CB</td>\n",
       "      <td>6.429542e-10</td>\n",
       "      <td>0</td>\n",
       "      <td>0.003582</td>\n",
       "      <td>0</td>\n",
       "      <td>6.863604e-06</td>\n",
       "      <td>0</td>\n",
       "      <td>1.000000</td>\n",
       "      <td>1</td>\n",
       "    </tr>\n",
       "    <tr>\n",
       "      <th>2</th>\n",
       "      <td>1</td>\n",
       "      <td>2018090600</td>\n",
       "      <td>146</td>\n",
       "      <td>2552689</td>\n",
       "      <td>Ronald Darby</td>\n",
       "      <td>CB</td>\n",
       "      <td>1.116290e-11</td>\n",
       "      <td>0</td>\n",
       "      <td>0.004702</td>\n",
       "      <td>0</td>\n",
       "      <td>1.325179e-06</td>\n",
       "      <td>0</td>\n",
       "      <td>1.000000</td>\n",
       "      <td>1</td>\n",
       "    </tr>\n",
       "    <tr>\n",
       "      <th>3</th>\n",
       "      <td>1</td>\n",
       "      <td>2018090600</td>\n",
       "      <td>146</td>\n",
       "      <td>2555383</td>\n",
       "      <td>Jalen Mills</td>\n",
       "      <td>CB</td>\n",
       "      <td>1.000000e+00</td>\n",
       "      <td>1</td>\n",
       "      <td>0.004656</td>\n",
       "      <td>0</td>\n",
       "      <td>9.999999e-01</td>\n",
       "      <td>1</td>\n",
       "      <td>1.000000</td>\n",
       "      <td>1</td>\n",
       "    </tr>\n",
       "    <tr>\n",
       "      <th>4</th>\n",
       "      <td>1</td>\n",
       "      <td>2018090600</td>\n",
       "      <td>146</td>\n",
       "      <td>2557958</td>\n",
       "      <td>Sidney Jones</td>\n",
       "      <td>CB</td>\n",
       "      <td>1.000000e+00</td>\n",
       "      <td>1</td>\n",
       "      <td>1.000000</td>\n",
       "      <td>1</td>\n",
       "      <td>1.000000e+00</td>\n",
       "      <td>1</td>\n",
       "      <td>0.001712</td>\n",
       "      <td>0</td>\n",
       "    </tr>\n",
       "    <tr>\n",
       "      <th>...</th>\n",
       "      <td>...</td>\n",
       "      <td>...</td>\n",
       "      <td>...</td>\n",
       "      <td>...</td>\n",
       "      <td>...</td>\n",
       "      <td>...</td>\n",
       "      <td>...</td>\n",
       "      <td>...</td>\n",
       "      <td>...</td>\n",
       "      <td>...</td>\n",
       "      <td>...</td>\n",
       "      <td>...</td>\n",
       "      <td>...</td>\n",
       "      <td>...</td>\n",
       "    </tr>\n",
       "    <tr>\n",
       "      <th>54580</th>\n",
       "      <td>17</td>\n",
       "      <td>2018123015</td>\n",
       "      <td>3969</td>\n",
       "      <td>2560728</td>\n",
       "      <td>Tre Flowers</td>\n",
       "      <td>CB</td>\n",
       "      <td>2.029320e-12</td>\n",
       "      <td>0</td>\n",
       "      <td>0.004569</td>\n",
       "      <td>0</td>\n",
       "      <td>2.840493e-04</td>\n",
       "      <td>0</td>\n",
       "      <td>0.000055</td>\n",
       "      <td>0</td>\n",
       "    </tr>\n",
       "    <tr>\n",
       "      <th>54581</th>\n",
       "      <td>17</td>\n",
       "      <td>2018123015</td>\n",
       "      <td>4057</td>\n",
       "      <td>2495504</td>\n",
       "      <td>Patrick Peterson</td>\n",
       "      <td>CB</td>\n",
       "      <td>5.469435e-14</td>\n",
       "      <td>0</td>\n",
       "      <td>0.757683</td>\n",
       "      <td>1</td>\n",
       "      <td>1.237494e-06</td>\n",
       "      <td>0</td>\n",
       "      <td>0.000169</td>\n",
       "      <td>0</td>\n",
       "    </tr>\n",
       "    <tr>\n",
       "      <th>54582</th>\n",
       "      <td>17</td>\n",
       "      <td>2018123015</td>\n",
       "      <td>4057</td>\n",
       "      <td>2540170</td>\n",
       "      <td>David Amerson</td>\n",
       "      <td>CB</td>\n",
       "      <td>2.139830e-14</td>\n",
       "      <td>0</td>\n",
       "      <td>0.004399</td>\n",
       "      <td>0</td>\n",
       "      <td>1.847978e-06</td>\n",
       "      <td>0</td>\n",
       "      <td>0.000064</td>\n",
       "      <td>0</td>\n",
       "    </tr>\n",
       "    <tr>\n",
       "      <th>54583</th>\n",
       "      <td>17</td>\n",
       "      <td>2018123015</td>\n",
       "      <td>4104</td>\n",
       "      <td>2495504</td>\n",
       "      <td>Patrick Peterson</td>\n",
       "      <td>CB</td>\n",
       "      <td>2.954367e-11</td>\n",
       "      <td>0</td>\n",
       "      <td>1.000000</td>\n",
       "      <td>1</td>\n",
       "      <td>3.185826e-07</td>\n",
       "      <td>0</td>\n",
       "      <td>0.000059</td>\n",
       "      <td>0</td>\n",
       "    </tr>\n",
       "    <tr>\n",
       "      <th>54584</th>\n",
       "      <td>17</td>\n",
       "      <td>2018123015</td>\n",
       "      <td>4104</td>\n",
       "      <td>2540170</td>\n",
       "      <td>David Amerson</td>\n",
       "      <td>CB</td>\n",
       "      <td>1.000000e+00</td>\n",
       "      <td>1</td>\n",
       "      <td>1.000000</td>\n",
       "      <td>1</td>\n",
       "      <td>1.000000e+00</td>\n",
       "      <td>1</td>\n",
       "      <td>1.000000</td>\n",
       "      <td>1</td>\n",
       "    </tr>\n",
       "  </tbody>\n",
       "</table>\n",
       "<p>54585 rows × 14 columns</p>\n",
       "</div>"
      ],
      "text/plain": [
       "       week      gameId  playId    nflId       displayName position  \\\n",
       "0         1  2018090600      75  2552689      Ronald Darby       CB   \n",
       "1         1  2018090600      75  2555383       Jalen Mills       CB   \n",
       "2         1  2018090600     146  2552689      Ronald Darby       CB   \n",
       "3         1  2018090600     146  2555383       Jalen Mills       CB   \n",
       "4         1  2018090600     146  2557958      Sidney Jones       CB   \n",
       "...     ...         ...     ...      ...               ...      ...   \n",
       "54580    17  2018123015    3969  2560728       Tre Flowers       CB   \n",
       "54581    17  2018123015    4057  2495504  Patrick Peterson       CB   \n",
       "54582    17  2018123015    4057  2540170     David Amerson       CB   \n",
       "54583    17  2018123015    4104  2495504  Patrick Peterson       CB   \n",
       "54584    17  2018123015    4104  2540170     David Amerson       CB   \n",
       "\n",
       "       zone_probability  zone_flag  zone_probability_ball_snap  \\\n",
       "0          8.904672e-12          0                    0.005414   \n",
       "1          6.429542e-10          0                    0.003582   \n",
       "2          1.116290e-11          0                    0.004702   \n",
       "3          1.000000e+00          1                    0.004656   \n",
       "4          1.000000e+00          1                    1.000000   \n",
       "...                 ...        ...                         ...   \n",
       "54580      2.029320e-12          0                    0.004569   \n",
       "54581      5.469435e-14          0                    0.757683   \n",
       "54582      2.139830e-14          0                    0.004399   \n",
       "54583      2.954367e-11          0                    1.000000   \n",
       "54584      1.000000e+00          1                    1.000000   \n",
       "\n",
       "       zone_flag_ball_snap  zone_probability_pass_attempt  \\\n",
       "0                        0                   6.555225e-07   \n",
       "1                        0                   6.863604e-06   \n",
       "2                        0                   1.325179e-06   \n",
       "3                        0                   9.999999e-01   \n",
       "4                        1                   1.000000e+00   \n",
       "...                    ...                            ...   \n",
       "54580                    0                   2.840493e-04   \n",
       "54581                    1                   1.237494e-06   \n",
       "54582                    0                   1.847978e-06   \n",
       "54583                    1                   3.185826e-07   \n",
       "54584                    1                   1.000000e+00   \n",
       "\n",
       "       zone_flag_pass_attempt  zone_probability_pass_arrived  \\\n",
       "0                           0                       0.871465   \n",
       "1                           0                       1.000000   \n",
       "2                           0                       1.000000   \n",
       "3                           1                       1.000000   \n",
       "4                           1                       0.001712   \n",
       "...                       ...                            ...   \n",
       "54580                       0                       0.000055   \n",
       "54581                       0                       0.000169   \n",
       "54582                       0                       0.000064   \n",
       "54583                       0                       0.000059   \n",
       "54584                       1                       1.000000   \n",
       "\n",
       "       zone_flag_pass_arrived  \n",
       "0                           1  \n",
       "1                           1  \n",
       "2                           1  \n",
       "3                           1  \n",
       "4                           0  \n",
       "...                       ...  \n",
       "54580                       0  \n",
       "54581                       0  \n",
       "54582                       0  \n",
       "54583                       0  \n",
       "54584                       1  \n",
       "\n",
       "[54585 rows x 14 columns]"
      ]
     },
     "execution_count": 62,
     "metadata": {},
     "output_type": "execute_result"
    }
   ],
   "source": [
    "pass_attempt_df_final"
   ]
  },
  {
   "cell_type": "code",
   "execution_count": 64,
   "metadata": {
    "collapsed": true
   },
   "outputs": [],
   "source": [
    "pass_attempt_df_final.to_csv(\"~/Desktop/CoverageNet/src/01_identify_man_coverage/outputs/corners_pass_attempts_man_zone_classes.csv\", \n",
    "                             index = False)"
   ]
  },
  {
   "cell_type": "code",
   "execution_count": 136,
   "metadata": {},
   "outputs": [
    {
     "data": {
      "text/html": [
       "<div>\n",
       "<style scoped>\n",
       "    .dataframe tbody tr th:only-of-type {\n",
       "        vertical-align: middle;\n",
       "    }\n",
       "\n",
       "    .dataframe tbody tr th {\n",
       "        vertical-align: top;\n",
       "    }\n",
       "\n",
       "    .dataframe thead th {\n",
       "        text-align: right;\n",
       "    }\n",
       "</style>\n",
       "<table border=\"1\" class=\"dataframe\">\n",
       "  <thead>\n",
       "    <tr style=\"text-align: right;\">\n",
       "      <th></th>\n",
       "      <th>week</th>\n",
       "      <th>gameId</th>\n",
       "      <th>playId</th>\n",
       "      <th>nflId</th>\n",
       "      <th>displayName</th>\n",
       "      <th>position</th>\n",
       "      <th>off_var_time_0</th>\n",
       "      <th>off_var_time_0_1</th>\n",
       "      <th>off_var_time_1</th>\n",
       "      <th>off_var_time_1_2</th>\n",
       "      <th>...</th>\n",
       "      <th>best_cor_x_y_avg_time_1_2</th>\n",
       "      <th>cor_dist_inter</th>\n",
       "      <th>zone_probability</th>\n",
       "      <th>zone_flag</th>\n",
       "      <th>zone_probability_ball_snap</th>\n",
       "      <th>zone_flag_ball_snap</th>\n",
       "      <th>zone_probability_pass_attempt</th>\n",
       "      <th>zone_flag_pass_attempt</th>\n",
       "      <th>zone_probability_pass_arrived</th>\n",
       "      <th>zone_flag_pass_arrived</th>\n",
       "    </tr>\n",
       "  </thead>\n",
       "  <tbody>\n",
       "    <tr>\n",
       "      <th>108</th>\n",
       "      <td>1</td>\n",
       "      <td>2018090600</td>\n",
       "      <td>2305</td>\n",
       "      <td>2539334</td>\n",
       "      <td>Desmond Trufant</td>\n",
       "      <td>CB</td>\n",
       "      <td>0.000044</td>\n",
       "      <td>0.292457</td>\n",
       "      <td>0.340575</td>\n",
       "      <td>0.875623</td>\n",
       "      <td>...</td>\n",
       "      <td>0.992858</td>\n",
       "      <td>0.565218</td>\n",
       "      <td>1.107493e-14</td>\n",
       "      <td>0</td>\n",
       "      <td>0.002992</td>\n",
       "      <td>0</td>\n",
       "      <td>1.923706e-07</td>\n",
       "      <td>0</td>\n",
       "      <td>0.000117</td>\n",
       "      <td>0</td>\n",
       "    </tr>\n",
       "    <tr>\n",
       "      <th>109</th>\n",
       "      <td>1</td>\n",
       "      <td>2018090600</td>\n",
       "      <td>2305</td>\n",
       "      <td>2539653</td>\n",
       "      <td>Robert Alford</td>\n",
       "      <td>CB</td>\n",
       "      <td>0.206065</td>\n",
       "      <td>1.529384</td>\n",
       "      <td>1.357446</td>\n",
       "      <td>1.206274</td>\n",
       "      <td>...</td>\n",
       "      <td>0.990962</td>\n",
       "      <td>0.698742</td>\n",
       "      <td>8.013242e-19</td>\n",
       "      <td>0</td>\n",
       "      <td>1.000000</td>\n",
       "      <td>1</td>\n",
       "      <td>1.624926e-07</td>\n",
       "      <td>0</td>\n",
       "      <td>0.000059</td>\n",
       "      <td>0</td>\n",
       "    </tr>\n",
       "    <tr>\n",
       "      <th>110</th>\n",
       "      <td>1</td>\n",
       "      <td>2018090600</td>\n",
       "      <td>2305</td>\n",
       "      <td>2556445</td>\n",
       "      <td>Brian Poole</td>\n",
       "      <td>CB</td>\n",
       "      <td>0.001275</td>\n",
       "      <td>4.932396</td>\n",
       "      <td>4.947763</td>\n",
       "      <td>6.238556</td>\n",
       "      <td>...</td>\n",
       "      <td>0.851002</td>\n",
       "      <td>0.083124</td>\n",
       "      <td>1.000000e+00</td>\n",
       "      <td>1</td>\n",
       "      <td>0.003364</td>\n",
       "      <td>0</td>\n",
       "      <td>1.000000e+00</td>\n",
       "      <td>1</td>\n",
       "      <td>0.000063</td>\n",
       "      <td>0</td>\n",
       "    </tr>\n",
       "  </tbody>\n",
       "</table>\n",
       "<p>3 rows × 43 columns</p>\n",
       "</div>"
      ],
      "text/plain": [
       "     week      gameId  playId    nflId      displayName position  \\\n",
       "108     1  2018090600    2305  2539334  Desmond Trufant       CB   \n",
       "109     1  2018090600    2305  2539653    Robert Alford       CB   \n",
       "110     1  2018090600    2305  2556445      Brian Poole       CB   \n",
       "\n",
       "     off_var_time_0  off_var_time_0_1  off_var_time_1  off_var_time_1_2  ...  \\\n",
       "108        0.000044          0.292457        0.340575          0.875623  ...   \n",
       "109        0.206065          1.529384        1.357446          1.206274  ...   \n",
       "110        0.001275          4.932396        4.947763          6.238556  ...   \n",
       "\n",
       "     best_cor_x_y_avg_time_1_2  cor_dist_inter  zone_probability  zone_flag  \\\n",
       "108                   0.992858        0.565218      1.107493e-14          0   \n",
       "109                   0.990962        0.698742      8.013242e-19          0   \n",
       "110                   0.851002        0.083124      1.000000e+00          1   \n",
       "\n",
       "     zone_probability_ball_snap  zone_flag_ball_snap  \\\n",
       "108                    0.002992                    0   \n",
       "109                    1.000000                    1   \n",
       "110                    0.003364                    0   \n",
       "\n",
       "     zone_probability_pass_attempt  zone_flag_pass_attempt  \\\n",
       "108                   1.923706e-07                       0   \n",
       "109                   1.624926e-07                       0   \n",
       "110                   1.000000e+00                       1   \n",
       "\n",
       "     zone_probability_pass_arrived  zone_flag_pass_arrived  \n",
       "108                       0.000117                       0  \n",
       "109                       0.000059                       0  \n",
       "110                       0.000063                       0  \n",
       "\n",
       "[3 rows x 43 columns]"
      ]
     },
     "execution_count": 136,
     "metadata": {},
     "output_type": "execute_result"
    }
   ],
   "source": [
    "pass_attempt_df[(pass_attempt_df[\"gameId\"] == 2018090600) & (pass_attempt_df[\"playId\"] == 2305)]"
   ]
  },
  {
   "cell_type": "code",
   "execution_count": 137,
   "metadata": {},
   "outputs": [
    {
     "data": {
      "text/html": [
       "<div>\n",
       "<style scoped>\n",
       "    .dataframe tbody tr th:only-of-type {\n",
       "        vertical-align: middle;\n",
       "    }\n",
       "\n",
       "    .dataframe tbody tr th {\n",
       "        vertical-align: top;\n",
       "    }\n",
       "\n",
       "    .dataframe thead th {\n",
       "        text-align: right;\n",
       "    }\n",
       "</style>\n",
       "<table border=\"1\" class=\"dataframe\">\n",
       "  <thead>\n",
       "    <tr style=\"text-align: right;\">\n",
       "      <th></th>\n",
       "      <th>displayName</th>\n",
       "      <th>off_mean_time_0</th>\n",
       "      <th>off_mean_time_0_1</th>\n",
       "      <th>off_mean_time_1</th>\n",
       "      <th>off_mean_time_1_2</th>\n",
       "      <th>off_mean_time_2</th>\n",
       "    </tr>\n",
       "  </thead>\n",
       "  <tbody>\n",
       "    <tr>\n",
       "      <th>108</th>\n",
       "      <td>Desmond Trufant</td>\n",
       "      <td>2.182031</td>\n",
       "      <td>1.851663</td>\n",
       "      <td>1.748423</td>\n",
       "      <td>2.131377</td>\n",
       "      <td>3.663195</td>\n",
       "    </tr>\n",
       "    <tr>\n",
       "      <th>109</th>\n",
       "      <td>Robert Alford</td>\n",
       "      <td>2.965922</td>\n",
       "      <td>1.770077</td>\n",
       "      <td>1.396376</td>\n",
       "      <td>1.220595</td>\n",
       "      <td>0.517474</td>\n",
       "    </tr>\n",
       "    <tr>\n",
       "      <th>110</th>\n",
       "      <td>Brian Poole</td>\n",
       "      <td>6.847698</td>\n",
       "      <td>4.918748</td>\n",
       "      <td>4.315951</td>\n",
       "      <td>3.566870</td>\n",
       "      <td>0.570548</td>\n",
       "    </tr>\n",
       "  </tbody>\n",
       "</table>\n",
       "</div>"
      ],
      "text/plain": [
       "         displayName  off_mean_time_0  off_mean_time_0_1  off_mean_time_1  \\\n",
       "108  Desmond Trufant         2.182031           1.851663         1.748423   \n",
       "109    Robert Alford         2.965922           1.770077         1.396376   \n",
       "110      Brian Poole         6.847698           4.918748         4.315951   \n",
       "\n",
       "     off_mean_time_1_2  off_mean_time_2  \n",
       "108           2.131377         3.663195  \n",
       "109           1.220595         0.517474  \n",
       "110           3.566870         0.570548  "
      ]
     },
     "execution_count": 137,
     "metadata": {},
     "output_type": "execute_result"
    }
   ],
   "source": [
    "pass_attempt_df[(pass_attempt_df[\"gameId\"] == 2018090600) & (pass_attempt_df[\"playId\"] == 2305)][[\"displayName\"] + \\\n",
    "                            list(pass_attempt_df.columns[['off_mean' in x for x in pass_attempt_df.columns]])]"
   ]
  },
  {
   "cell_type": "markdown",
   "metadata": {},
   "source": [
    "# Repeating for Sack Plays!"
   ]
  },
  {
   "cell_type": "code",
   "execution_count": 67,
   "metadata": {
    "collapsed": true
   },
   "outputs": [],
   "source": [
    "filter_col = [col for col in sacks_df if not '_o_' in col]\n",
    "sacks_df = sacks_df[filter_col]"
   ]
  },
  {
   "cell_type": "code",
   "execution_count": 68,
   "metadata": {
    "collapsed": true
   },
   "outputs": [],
   "source": [
    "filter_col = [col for col in sacks_df if not 'facing' in col]\n",
    "sacks_df = sacks_df[filter_col]"
   ]
  },
  {
   "cell_type": "code",
   "execution_count": 69,
   "metadata": {
    "collapsed": true
   },
   "outputs": [],
   "source": [
    "filter_col = [col for col in sacks_df if not 'var_y' in col]\n",
    "sacks_df = sacks_df[filter_col]"
   ]
  },
  {
   "cell_type": "code",
   "execution_count": 70,
   "metadata": {
    "collapsed": true
   },
   "outputs": [],
   "source": [
    "filter_col = [col for col in sacks_df if not 'var_x' in col]\n",
    "sacks_df = sacks_df[filter_col]"
   ]
  },
  {
   "cell_type": "code",
   "execution_count": 71,
   "metadata": {
    "collapsed": true
   },
   "outputs": [],
   "source": [
    "filter_col = [col for col in sacks_df if not 'def_mean_time_0' in col]\n",
    "sacks_df = sacks_df[filter_col]"
   ]
  },
  {
   "cell_type": "code",
   "execution_count": 72,
   "metadata": {
    "collapsed": true
   },
   "outputs": [],
   "source": [
    "filter_col = [col for col in sacks_df if not 'def' in col]\n",
    "sacks_df = sacks_df[filter_col]"
   ]
  },
  {
   "cell_type": "code",
   "execution_count": 73,
   "metadata": {
    "collapsed": true
   },
   "outputs": [],
   "source": [
    "filter_col = [col for col in sacks_df if not 'def_var_time_0' in col]\n",
    "sacks_df = sacks_df[filter_col]"
   ]
  },
  {
   "cell_type": "code",
   "execution_count": 74,
   "metadata": {},
   "outputs": [
    {
     "data": {
      "text/plain": [
       "Index(['week', 'gameId', 'playId', 'nflId', 'displayName', 'position',\n",
       "       'speed_var_time_0', 'speed_var_time_0_1', 'speed_var_time_1',\n",
       "       'speed_mean_time_0', 'speed_mean_time_0_1', 'speed_mean_time_1',\n",
       "       'off_var_time_0', 'off_var_time_0_1', 'off_var_time_1',\n",
       "       'off_mean_time_0', 'off_mean_time_0_1', 'off_mean_time_1',\n",
       "       'off_dir_var_time_0', 'off_dir_var_time_0_1', 'off_dir_var_time_1',\n",
       "       'off_dir_mean_time_0', 'off_dir_mean_time_0_1', 'off_dir_mean_time_1',\n",
       "       'rat_mean_time_0', 'rat_mean_time_0_1', 'rat_mean_time_1',\n",
       "       'rat_var_time_0', 'rat_var_time_0_1', 'rat_var_time_1', 'cor_x_time_0',\n",
       "       'cor_x_time_0_1', 'cor_x_time_1', 'cor_y_time_0', 'cor_y_time_0_1',\n",
       "       'cor_y_time_1', 'cor_s_time_0', 'cor_s_time_0_1', 'cor_s_time_1',\n",
       "       'cor_avg_x_y_time_0', 'cor_avg_x_y_time_0_1', 'cor_avg_x_y_time_1',\n",
       "       'cor_rot_best_x_time_0', 'cor_rot_best_x_time_0_1',\n",
       "       'cor_rot_best_x_time_1', 'cor_rot_best_y_time_0',\n",
       "       'cor_rot_best_y_time_0_1', 'cor_rot_best_y_time_1',\n",
       "       'cor_rot_best_x_y_time_0', 'cor_rot_best_x_y_time_0_1',\n",
       "       'cor_rot_best_x_y_time_1', 'ratio_ball_snap', 'ratio_qb_sack',\n",
       "       'cb_off_dir_diff_ball_snap', 'cb_off_dir_diff_qb_sack',\n",
       "       'cb_off_dist_ball_snap', 'cb_off_dist_qb_sack', 'best_cor_x_time_0',\n",
       "       'best_cor_x_time_0_1', 'best_cor_x_time_1', 'best_cor_y_time_0',\n",
       "       'best_cor_y_time_0_1', 'best_cor_y_time_1', 'best_cor_x_y_avg_time_0',\n",
       "       'best_cor_x_y_avg_time_0_1', 'best_cor_x_y_avg_time_1'],\n",
       "      dtype='object')"
      ]
     },
     "execution_count": 74,
     "metadata": {},
     "output_type": "execute_result"
    }
   ],
   "source": [
    "sacks_df.columns"
   ]
  },
  {
   "cell_type": "code",
   "execution_count": 75,
   "metadata": {
    "collapsed": true
   },
   "outputs": [],
   "source": [
    "filter_col = [col for col in sacks_df if not (('cor' in col) and ('best' not in col) and ('s' not in col))]\n",
    "sacks_df = sacks_df[filter_col]"
   ]
  },
  {
   "cell_type": "code",
   "execution_count": 76,
   "metadata": {
    "collapsed": true
   },
   "outputs": [],
   "source": [
    "filter_col = [col for col in sacks_df if not (('cor_rot' in col))]\n",
    "sacks_df = sacks_df[filter_col]"
   ]
  },
  {
   "cell_type": "code",
   "execution_count": 77,
   "metadata": {
    "collapsed": true
   },
   "outputs": [],
   "source": [
    "filter_col = [col for col in sacks_df if not (('cor' in col) and ('time_0' in col))]\n",
    "sacks_df = sacks_df[filter_col]"
   ]
  },
  {
   "cell_type": "code",
   "execution_count": 78,
   "metadata": {
    "collapsed": true
   },
   "outputs": [],
   "source": [
    "filter_col = [col for col in sacks_df if not (('cor' in col) and ('time_2' in col))]\n",
    "sacks_df = sacks_df[filter_col]"
   ]
  },
  {
   "cell_type": "code",
   "execution_count": 79,
   "metadata": {
    "collapsed": true
   },
   "outputs": [],
   "source": [
    "filter_col = [col for col in sacks_df if not 'off_dir_var_time_0' in col]\n",
    "sacks_df = sacks_df[filter_col]"
   ]
  },
  {
   "cell_type": "code",
   "execution_count": 80,
   "metadata": {
    "collapsed": true
   },
   "outputs": [],
   "source": [
    "filter_col = [col for col in sacks_df if not 'speed' in col]\n",
    "sacks_df = sacks_df[filter_col]"
   ]
  },
  {
   "cell_type": "code",
   "execution_count": 81,
   "metadata": {
    "collapsed": true
   },
   "outputs": [],
   "source": [
    "sacks_df = sacks_df.drop(['cb_off_dir_diff_ball_snap', 'cb_off_dist_ball_snap',\n",
    "                                       'off_dir_mean_time_0'\n",
    "                                       ], axis = 1)"
   ]
  },
  {
   "cell_type": "code",
   "execution_count": 82,
   "metadata": {
    "collapsed": true
   },
   "outputs": [],
   "source": [
    "filter_col = [col for col in sacks_df if (not 'rat' in col)|('ratio_pass_forward' in col)]\n",
    "sacks_df = sacks_df[filter_col]"
   ]
  },
  {
   "cell_type": "code",
   "execution_count": 83,
   "metadata": {
    "collapsed": true
   },
   "outputs": [],
   "source": [
    "filter_col = [col for col in sacks_df if (not '2' in col)]\n",
    "sacks_df = sacks_df[filter_col]"
   ]
  },
  {
   "cell_type": "code",
   "execution_count": 84,
   "metadata": {},
   "outputs": [
    {
     "data": {
      "text/plain": [
       "Index(['week', 'gameId', 'playId', 'nflId', 'displayName', 'position',\n",
       "       'off_var_time_0', 'off_var_time_0_1', 'off_var_time_1',\n",
       "       'off_mean_time_0', 'off_mean_time_0_1', 'off_mean_time_1',\n",
       "       'off_dir_var_time_1', 'off_dir_mean_time_0_1', 'off_dir_mean_time_1',\n",
       "       'cor_s_time_1', 'cb_off_dir_diff_qb_sack', 'cb_off_dist_qb_sack',\n",
       "       'best_cor_x_time_1', 'best_cor_y_time_1', 'best_cor_x_y_avg_time_1'],\n",
       "      dtype='object')"
      ]
     },
     "execution_count": 84,
     "metadata": {},
     "output_type": "execute_result"
    }
   ],
   "source": [
    "sacks_df.columns"
   ]
  },
  {
   "cell_type": "code",
   "execution_count": 85,
   "metadata": {
    "collapsed": true
   },
   "outputs": [],
   "source": [
    "sacks_df[\"cor_dist_inter\"] = (sacks_df[\"best_cor_x_y_avg_time_1\"]**2)/sacks_df[\"off_mean_time_1\"]\n",
    "sacks_df[\"cor_dist_inter\"] = sacks_df[\"cor_dist_inter\"].fillna(0)\n",
    "sacks_df[\"cor_dist_inter\"] = sacks_df[\"cor_dist_inter\"].replace([np.inf], \\\n",
    "                np.percentile(np.array(sacks_df[\"cor_dist_inter\"]), 99))\n",
    "sacks_df[\"cor_dist_inter\"] = sacks_df[\"cor_dist_inter\"].replace([-np.inf], \\\n",
    "                np.percentile(np.array(sacks_df[\"cor_dist_inter\"]), 1))"
   ]
  },
  {
   "cell_type": "code",
   "execution_count": 86,
   "metadata": {},
   "outputs": [
    {
     "data": {
      "text/html": [
       "<div>\n",
       "<style scoped>\n",
       "    .dataframe tbody tr th:only-of-type {\n",
       "        vertical-align: middle;\n",
       "    }\n",
       "\n",
       "    .dataframe tbody tr th {\n",
       "        vertical-align: top;\n",
       "    }\n",
       "\n",
       "    .dataframe thead th {\n",
       "        text-align: right;\n",
       "    }\n",
       "</style>\n",
       "<table border=\"1\" class=\"dataframe\">\n",
       "  <thead>\n",
       "    <tr style=\"text-align: right;\">\n",
       "      <th></th>\n",
       "      <th>week</th>\n",
       "      <th>gameId</th>\n",
       "      <th>playId</th>\n",
       "      <th>nflId</th>\n",
       "      <th>displayName</th>\n",
       "      <th>position</th>\n",
       "      <th>off_var_time_0</th>\n",
       "      <th>off_var_time_0_1</th>\n",
       "      <th>off_var_time_1</th>\n",
       "      <th>off_mean_time_0</th>\n",
       "      <th>...</th>\n",
       "      <th>off_dir_var_time_1</th>\n",
       "      <th>off_dir_mean_time_0_1</th>\n",
       "      <th>off_dir_mean_time_1</th>\n",
       "      <th>cor_s_time_1</th>\n",
       "      <th>cb_off_dir_diff_qb_sack</th>\n",
       "      <th>cb_off_dist_qb_sack</th>\n",
       "      <th>best_cor_x_time_1</th>\n",
       "      <th>best_cor_y_time_1</th>\n",
       "      <th>best_cor_x_y_avg_time_1</th>\n",
       "      <th>cor_dist_inter</th>\n",
       "    </tr>\n",
       "  </thead>\n",
       "  <tbody>\n",
       "    <tr>\n",
       "      <th>0</th>\n",
       "      <td>1</td>\n",
       "      <td>2018090600</td>\n",
       "      <td>776</td>\n",
       "      <td>2539334</td>\n",
       "      <td>Desmond Trufant</td>\n",
       "      <td>CB</td>\n",
       "      <td>0.000389</td>\n",
       "      <td>4.718561</td>\n",
       "      <td>5.473382</td>\n",
       "      <td>4.771215</td>\n",
       "      <td>...</td>\n",
       "      <td>514.650934</td>\n",
       "      <td>25.521875</td>\n",
       "      <td>17.195263</td>\n",
       "      <td>0.802340</td>\n",
       "      <td>37.12</td>\n",
       "      <td>11.512224</td>\n",
       "      <td>0.999221</td>\n",
       "      <td>0.993155</td>\n",
       "      <td>0.996188</td>\n",
       "      <td>0.156758</td>\n",
       "    </tr>\n",
       "    <tr>\n",
       "      <th>1</th>\n",
       "      <td>1</td>\n",
       "      <td>2018090600</td>\n",
       "      <td>776</td>\n",
       "      <td>2539653</td>\n",
       "      <td>Robert Alford</td>\n",
       "      <td>CB</td>\n",
       "      <td>0.000083</td>\n",
       "      <td>0.345370</td>\n",
       "      <td>0.251381</td>\n",
       "      <td>1.983317</td>\n",
       "      <td>...</td>\n",
       "      <td>236.038134</td>\n",
       "      <td>43.825208</td>\n",
       "      <td>13.468158</td>\n",
       "      <td>0.865475</td>\n",
       "      <td>21.84</td>\n",
       "      <td>0.890505</td>\n",
       "      <td>0.994428</td>\n",
       "      <td>0.981624</td>\n",
       "      <td>0.988026</td>\n",
       "      <td>0.931778</td>\n",
       "    </tr>\n",
       "    <tr>\n",
       "      <th>2</th>\n",
       "      <td>1</td>\n",
       "      <td>2018090600</td>\n",
       "      <td>776</td>\n",
       "      <td>2556445</td>\n",
       "      <td>Brian Poole</td>\n",
       "      <td>CB</td>\n",
       "      <td>0.001125</td>\n",
       "      <td>1.863231</td>\n",
       "      <td>2.358963</td>\n",
       "      <td>2.334981</td>\n",
       "      <td>...</td>\n",
       "      <td>2865.377275</td>\n",
       "      <td>75.475417</td>\n",
       "      <td>70.152895</td>\n",
       "      <td>0.044042</td>\n",
       "      <td>9.75</td>\n",
       "      <td>0.241868</td>\n",
       "      <td>0.949788</td>\n",
       "      <td>0.783449</td>\n",
       "      <td>0.866618</td>\n",
       "      <td>0.349824</td>\n",
       "    </tr>\n",
       "    <tr>\n",
       "      <th>3</th>\n",
       "      <td>1</td>\n",
       "      <td>2018090600</td>\n",
       "      <td>839</td>\n",
       "      <td>2539334</td>\n",
       "      <td>Desmond Trufant</td>\n",
       "      <td>CB</td>\n",
       "      <td>0.019996</td>\n",
       "      <td>1.094198</td>\n",
       "      <td>1.178080</td>\n",
       "      <td>6.975783</td>\n",
       "      <td>...</td>\n",
       "      <td>52.918508</td>\n",
       "      <td>10.355593</td>\n",
       "      <td>7.144286</td>\n",
       "      <td>0.874752</td>\n",
       "      <td>4.38</td>\n",
       "      <td>4.687057</td>\n",
       "      <td>0.997203</td>\n",
       "      <td>0.996352</td>\n",
       "      <td>0.996778</td>\n",
       "      <td>0.163544</td>\n",
       "    </tr>\n",
       "    <tr>\n",
       "      <th>4</th>\n",
       "      <td>1</td>\n",
       "      <td>2018090600</td>\n",
       "      <td>839</td>\n",
       "      <td>2539653</td>\n",
       "      <td>Robert Alford</td>\n",
       "      <td>CB</td>\n",
       "      <td>0.000035</td>\n",
       "      <td>7.452315</td>\n",
       "      <td>8.463855</td>\n",
       "      <td>2.132386</td>\n",
       "      <td>...</td>\n",
       "      <td>530.482807</td>\n",
       "      <td>38.213051</td>\n",
       "      <td>41.381837</td>\n",
       "      <td>0.953466</td>\n",
       "      <td>11.56</td>\n",
       "      <td>1.568949</td>\n",
       "      <td>0.788554</td>\n",
       "      <td>0.750077</td>\n",
       "      <td>0.769315</td>\n",
       "      <td>0.151729</td>\n",
       "    </tr>\n",
       "    <tr>\n",
       "      <th>5</th>\n",
       "      <td>1</td>\n",
       "      <td>2018090600</td>\n",
       "      <td>839</td>\n",
       "      <td>2556445</td>\n",
       "      <td>Brian Poole</td>\n",
       "      <td>CB</td>\n",
       "      <td>0.080615</td>\n",
       "      <td>1.350028</td>\n",
       "      <td>1.574009</td>\n",
       "      <td>6.138672</td>\n",
       "      <td>...</td>\n",
       "      <td>3075.144862</td>\n",
       "      <td>52.003220</td>\n",
       "      <td>48.922041</td>\n",
       "      <td>0.116535</td>\n",
       "      <td>115.44</td>\n",
       "      <td>5.015117</td>\n",
       "      <td>0.922971</td>\n",
       "      <td>0.888392</td>\n",
       "      <td>0.905682</td>\n",
       "      <td>0.145306</td>\n",
       "    </tr>\n",
       "    <tr>\n",
       "      <th>6</th>\n",
       "      <td>1</td>\n",
       "      <td>2018090600</td>\n",
       "      <td>1568</td>\n",
       "      <td>2552689</td>\n",
       "      <td>Ronald Darby</td>\n",
       "      <td>CB</td>\n",
       "      <td>0.000058</td>\n",
       "      <td>10.208990</td>\n",
       "      <td>8.961597</td>\n",
       "      <td>9.037849</td>\n",
       "      <td>...</td>\n",
       "      <td>67.413851</td>\n",
       "      <td>7.592000</td>\n",
       "      <td>8.275500</td>\n",
       "      <td>0.894654</td>\n",
       "      <td>8.67</td>\n",
       "      <td>1.552192</td>\n",
       "      <td>0.994436</td>\n",
       "      <td>0.856548</td>\n",
       "      <td>0.925492</td>\n",
       "      <td>0.182354</td>\n",
       "    </tr>\n",
       "    <tr>\n",
       "      <th>7</th>\n",
       "      <td>1</td>\n",
       "      <td>2018090600</td>\n",
       "      <td>1568</td>\n",
       "      <td>2555383</td>\n",
       "      <td>Jalen Mills</td>\n",
       "      <td>CB</td>\n",
       "      <td>0.038938</td>\n",
       "      <td>2.510159</td>\n",
       "      <td>1.547464</td>\n",
       "      <td>4.623992</td>\n",
       "      <td>...</td>\n",
       "      <td>2037.377201</td>\n",
       "      <td>25.163000</td>\n",
       "      <td>26.567000</td>\n",
       "      <td>0.876558</td>\n",
       "      <td>9.47</td>\n",
       "      <td>0.889550</td>\n",
       "      <td>0.980798</td>\n",
       "      <td>0.990751</td>\n",
       "      <td>0.985775</td>\n",
       "      <td>0.530008</td>\n",
       "    </tr>\n",
       "    <tr>\n",
       "      <th>8</th>\n",
       "      <td>1</td>\n",
       "      <td>2018090600</td>\n",
       "      <td>1568</td>\n",
       "      <td>2557958</td>\n",
       "      <td>Sidney Jones</td>\n",
       "      <td>CB</td>\n",
       "      <td>0.482190</td>\n",
       "      <td>0.753213</td>\n",
       "      <td>0.523905</td>\n",
       "      <td>3.230003</td>\n",
       "      <td>...</td>\n",
       "      <td>425.069416</td>\n",
       "      <td>17.476200</td>\n",
       "      <td>11.718000</td>\n",
       "      <td>0.975121</td>\n",
       "      <td>4.31</td>\n",
       "      <td>1.185116</td>\n",
       "      <td>0.981283</td>\n",
       "      <td>0.999108</td>\n",
       "      <td>0.990195</td>\n",
       "      <td>0.490645</td>\n",
       "    </tr>\n",
       "    <tr>\n",
       "      <th>9</th>\n",
       "      <td>1</td>\n",
       "      <td>2018090600</td>\n",
       "      <td>3815</td>\n",
       "      <td>2552689</td>\n",
       "      <td>Ronald Darby</td>\n",
       "      <td>CB</td>\n",
       "      <td>0.000051</td>\n",
       "      <td>9.803451</td>\n",
       "      <td>8.094433</td>\n",
       "      <td>11.349277</td>\n",
       "      <td>...</td>\n",
       "      <td>282.765748</td>\n",
       "      <td>18.388113</td>\n",
       "      <td>20.316279</td>\n",
       "      <td>0.880891</td>\n",
       "      <td>6.99</td>\n",
       "      <td>4.393290</td>\n",
       "      <td>0.990762</td>\n",
       "      <td>0.904859</td>\n",
       "      <td>0.947810</td>\n",
       "      <td>0.132611</td>\n",
       "    </tr>\n",
       "  </tbody>\n",
       "</table>\n",
       "<p>10 rows × 22 columns</p>\n",
       "</div>"
      ],
      "text/plain": [
       "   week      gameId  playId    nflId      displayName position  \\\n",
       "0     1  2018090600     776  2539334  Desmond Trufant       CB   \n",
       "1     1  2018090600     776  2539653    Robert Alford       CB   \n",
       "2     1  2018090600     776  2556445      Brian Poole       CB   \n",
       "3     1  2018090600     839  2539334  Desmond Trufant       CB   \n",
       "4     1  2018090600     839  2539653    Robert Alford       CB   \n",
       "5     1  2018090600     839  2556445      Brian Poole       CB   \n",
       "6     1  2018090600    1568  2552689     Ronald Darby       CB   \n",
       "7     1  2018090600    1568  2555383      Jalen Mills       CB   \n",
       "8     1  2018090600    1568  2557958     Sidney Jones       CB   \n",
       "9     1  2018090600    3815  2552689     Ronald Darby       CB   \n",
       "\n",
       "   off_var_time_0  off_var_time_0_1  off_var_time_1  off_mean_time_0  ...  \\\n",
       "0        0.000389          4.718561        5.473382         4.771215  ...   \n",
       "1        0.000083          0.345370        0.251381         1.983317  ...   \n",
       "2        0.001125          1.863231        2.358963         2.334981  ...   \n",
       "3        0.019996          1.094198        1.178080         6.975783  ...   \n",
       "4        0.000035          7.452315        8.463855         2.132386  ...   \n",
       "5        0.080615          1.350028        1.574009         6.138672  ...   \n",
       "6        0.000058         10.208990        8.961597         9.037849  ...   \n",
       "7        0.038938          2.510159        1.547464         4.623992  ...   \n",
       "8        0.482190          0.753213        0.523905         3.230003  ...   \n",
       "9        0.000051          9.803451        8.094433        11.349277  ...   \n",
       "\n",
       "   off_dir_var_time_1  off_dir_mean_time_0_1  off_dir_mean_time_1  \\\n",
       "0          514.650934              25.521875            17.195263   \n",
       "1          236.038134              43.825208            13.468158   \n",
       "2         2865.377275              75.475417            70.152895   \n",
       "3           52.918508              10.355593             7.144286   \n",
       "4          530.482807              38.213051            41.381837   \n",
       "5         3075.144862              52.003220            48.922041   \n",
       "6           67.413851               7.592000             8.275500   \n",
       "7         2037.377201              25.163000            26.567000   \n",
       "8          425.069416              17.476200            11.718000   \n",
       "9          282.765748              18.388113            20.316279   \n",
       "\n",
       "   cor_s_time_1  cb_off_dir_diff_qb_sack  cb_off_dist_qb_sack  \\\n",
       "0      0.802340                    37.12            11.512224   \n",
       "1      0.865475                    21.84             0.890505   \n",
       "2      0.044042                     9.75             0.241868   \n",
       "3      0.874752                     4.38             4.687057   \n",
       "4      0.953466                    11.56             1.568949   \n",
       "5      0.116535                   115.44             5.015117   \n",
       "6      0.894654                     8.67             1.552192   \n",
       "7      0.876558                     9.47             0.889550   \n",
       "8      0.975121                     4.31             1.185116   \n",
       "9      0.880891                     6.99             4.393290   \n",
       "\n",
       "   best_cor_x_time_1  best_cor_y_time_1  best_cor_x_y_avg_time_1  \\\n",
       "0           0.999221           0.993155                 0.996188   \n",
       "1           0.994428           0.981624                 0.988026   \n",
       "2           0.949788           0.783449                 0.866618   \n",
       "3           0.997203           0.996352                 0.996778   \n",
       "4           0.788554           0.750077                 0.769315   \n",
       "5           0.922971           0.888392                 0.905682   \n",
       "6           0.994436           0.856548                 0.925492   \n",
       "7           0.980798           0.990751                 0.985775   \n",
       "8           0.981283           0.999108                 0.990195   \n",
       "9           0.990762           0.904859                 0.947810   \n",
       "\n",
       "   cor_dist_inter  \n",
       "0        0.156758  \n",
       "1        0.931778  \n",
       "2        0.349824  \n",
       "3        0.163544  \n",
       "4        0.151729  \n",
       "5        0.145306  \n",
       "6        0.182354  \n",
       "7        0.530008  \n",
       "8        0.490645  \n",
       "9        0.132611  \n",
       "\n",
       "[10 rows x 22 columns]"
      ]
     },
     "execution_count": 86,
     "metadata": {},
     "output_type": "execute_result"
    }
   ],
   "source": [
    "sacks_df.head(10)"
   ]
  },
  {
   "cell_type": "code",
   "execution_count": 87,
   "metadata": {},
   "outputs": [
    {
     "data": {
      "text/plain": [
       "Index(['week', 'gameId', 'playId', 'nflId', 'displayName', 'position',\n",
       "       'off_var_time_0', 'off_var_time_0_1', 'off_var_time_1',\n",
       "       'off_mean_time_0', 'off_mean_time_0_1', 'off_mean_time_1',\n",
       "       'off_dir_var_time_1', 'off_dir_mean_time_0_1', 'off_dir_mean_time_1',\n",
       "       'cor_s_time_1', 'cb_off_dir_diff_qb_sack', 'cb_off_dist_qb_sack',\n",
       "       'best_cor_x_time_1', 'best_cor_y_time_1', 'best_cor_x_y_avg_time_1',\n",
       "       'cor_dist_inter'],\n",
       "      dtype='object')"
      ]
     },
     "execution_count": 87,
     "metadata": {},
     "output_type": "execute_result"
    }
   ],
   "source": [
    "sacks_df.columns"
   ]
  },
  {
   "cell_type": "markdown",
   "metadata": {},
   "source": [
    "### Preparing Train/Test Groups"
   ]
  },
  {
   "cell_type": "code",
   "execution_count": 88,
   "metadata": {
    "collapsed": true
   },
   "outputs": [],
   "source": [
    "weeks_exclude = [1, 2, 3]\n",
    "train = sacks_df[[x not in weeks_exclude for x in list(sacks_df[\"week\"])]]\n",
    "test = sacks_df[[x in weeks_exclude for x in list(sacks_df[\"week\"])]]"
   ]
  },
  {
   "cell_type": "code",
   "execution_count": 89,
   "metadata": {
    "collapsed": true
   },
   "outputs": [],
   "source": [
    "X_train = train.drop(['week', 'gameId','playId','nflId','displayName','position'], axis = 1)\n",
    "X_test = test.drop(['week', 'gameId','playId','nflId','displayName','position'], axis = 1)"
   ]
  },
  {
   "cell_type": "code",
   "execution_count": 90,
   "metadata": {},
   "outputs": [
    {
     "name": "stdout",
     "output_type": "stream",
     "text": [
      "(3252, 16)\n",
      "(710, 16)\n"
     ]
    }
   ],
   "source": [
    "print(X_train.shape)\n",
    "print(X_test.shape)"
   ]
  },
  {
   "cell_type": "markdown",
   "metadata": {},
   "source": [
    "### Fitting GMM Model"
   ]
  },
  {
   "cell_type": "code",
   "execution_count": 91,
   "metadata": {
    "collapsed": true
   },
   "outputs": [],
   "source": [
    "# train\n",
    "clf_train = mixture.GaussianMixture(n_components=2, covariance_type='full')\n",
    "f_train = clf_train.fit(X_train)"
   ]
  },
  {
   "cell_type": "code",
   "execution_count": 92,
   "metadata": {
    "collapsed": true
   },
   "outputs": [],
   "source": [
    "# test\n",
    "clf_test = mixture.GaussianMixture(n_components=2, covariance_type='full')\n",
    "f_test = clf_test.fit(X_test)"
   ]
  },
  {
   "cell_type": "markdown",
   "metadata": {},
   "source": [
    "### Examining Cluster Results"
   ]
  },
  {
   "cell_type": "code",
   "execution_count": 93,
   "metadata": {
    "collapsed": true
   },
   "outputs": [],
   "source": [
    "def get_cluster_means(X, f):\n",
    "    cluster_means = {}\n",
    "    for iCnt in range(len(X.columns)):\n",
    "        cluster_means.update({X.columns[iCnt]:(f.means_[0][iCnt],f.means_[1][iCnt])})\n",
    "    return cluster_means"
   ]
  },
  {
   "cell_type": "code",
   "execution_count": 94,
   "metadata": {},
   "outputs": [
    {
     "data": {
      "text/plain": [
       "{'best_cor_x_time_1': (0.9867300224239819, 0.8270084474626589),\n",
       " 'best_cor_x_y_avg_time_1': (0.9783741394670935, 0.8095907464306032),\n",
       " 'best_cor_y_time_1': (0.9700182565102049, 0.7921730453985474),\n",
       " 'cb_off_dir_diff_qb_sack': (18.128057523660484, 45.75767480086321),\n",
       " 'cb_off_dist_qb_sack': (2.260550676086161, 5.608212306723586),\n",
       " 'cor_dist_inter': (0.41277368168641126, 0.14013419302228083),\n",
       " 'cor_s_time_1': (0.8696347891117651, 0.6449415898831857),\n",
       " 'off_dir_mean_time_0_1': (32.59642715282173, 53.72063203107499),\n",
       " 'off_dir_mean_time_1': (20.044948368837026, 46.4509380118431),\n",
       " 'off_dir_var_time_1': (734.2966515969185, 1458.8811008662785),\n",
       " 'off_mean_time_0': (5.104769030630054, 8.210983705907982),\n",
       " 'off_mean_time_0_1': (3.538393488588586, 6.784233227670504),\n",
       " 'off_mean_time_1': (3.167028566859867, 6.4506062784508735),\n",
       " 'off_var_time_0': (0.048165902042107536, 0.05487863725804385),\n",
       " 'off_var_time_0_1': (2.957460378093055, 6.479537555019283),\n",
       " 'off_var_time_1': (2.601530143233574, 6.157080957373409)}"
      ]
     },
     "execution_count": 94,
     "metadata": {},
     "output_type": "execute_result"
    }
   ],
   "source": [
    "get_cluster_means(X_train, f_train)"
   ]
  },
  {
   "cell_type": "markdown",
   "metadata": {
    "collapsed": true
   },
   "source": [
    "### Computing Rand Index"
   ]
  },
  {
   "cell_type": "code",
   "execution_count": 95,
   "metadata": {
    "collapsed": true
   },
   "outputs": [],
   "source": [
    "from sklearn.metrics import adjusted_rand_score"
   ]
  },
  {
   "cell_type": "code",
   "execution_count": 96,
   "metadata": {
    "collapsed": true
   },
   "outputs": [],
   "source": [
    "y_train = f_train.predict(X_test)\n",
    "y_test = f_test.predict(X_test)"
   ]
  },
  {
   "cell_type": "code",
   "execution_count": 97,
   "metadata": {},
   "outputs": [
    {
     "data": {
      "text/plain": [
       "0.8019712813460584"
      ]
     },
     "execution_count": 97,
     "metadata": {},
     "output_type": "execute_result"
    }
   ],
   "source": [
    "adjusted_rand_score(y_train, y_test)"
   ]
  },
  {
   "cell_type": "markdown",
   "metadata": {},
   "source": [
    "### Iterating Through To Get Cross-Validation Scores"
   ]
  },
  {
   "cell_type": "code",
   "execution_count": 40,
   "metadata": {
    "collapsed": true
   },
   "outputs": [],
   "source": [
    "weeks_exclude_vect = [[1,2,3],[4,5,6],[7,8,9],[10,11,12],[13,14,15],[15,16,17]]\n",
    "G_vect = [2, 3, 4, 5, 6, 7, 8, 9]\n",
    "rand_index_G_vect = []"
   ]
  },
  {
   "cell_type": "code",
   "execution_count": 41,
   "metadata": {
    "scrolled": true
   },
   "outputs": [
    {
     "name": "stdout",
     "output_type": "stream",
     "text": [
      "0.8019712813460584\n",
      "0.42449621986862196\n",
      "0.23556349734857682\n",
      "0.28819332063128317\n",
      "0.37500733109858814\n",
      "0.3664688580041606\n",
      "0.28054796190006354\n",
      "0.24936609449313493\n"
     ]
    }
   ],
   "source": [
    "for G in G_vect:\n",
    "    rand_index_sum = 0\n",
    "    # iterating through the week groupings to leave out\n",
    "    for weeks_exclue in weeks_exclude_vect:\n",
    "        # creating train/test groups\n",
    "        train = sacks_df[[x not in weeks_exclude for x in list(sacks_df[\"week\"])]]\n",
    "        test = sacks_df[[x in weeks_exclude for x in list(sacks_df[\"week\"])]]\n",
    "\n",
    "        X_train = train.drop(['week', 'gameId','playId','nflId','displayName','position'], axis = 1)\n",
    "        X_test = test.drop(['week', 'gameId','playId','nflId','displayName','position'], axis = 1)\n",
    "\n",
    "        # train\n",
    "        clf_train = mixture.GaussianMixture(n_components=G, covariance_type='full', \n",
    "                                            n_init = 2, max_iter = 200)\n",
    "        f_train = clf_train.fit(X_train)\n",
    "\n",
    "        # test\n",
    "        clf_test = mixture.GaussianMixture(n_components=G, covariance_type='full',\n",
    "                                           n_init = 2, max_iter = 200)\n",
    "        f_test = clf_test.fit(X_test)\n",
    "\n",
    "        # classifying test group\n",
    "        y_train = f_train.predict(X_test)\n",
    "        y_test = f_test.predict(X_test)\n",
    "\n",
    "        # appling the adjusted rand index\n",
    "        rand_index_val = adjusted_rand_score(y_train, y_test)\n",
    "        rand_index_sum += rand_index_val\n",
    "\n",
    "    rand_index = rand_index_sum/len(weeks_exclude_vect)\n",
    "    \n",
    "    rand_index_G_vect.append(rand_index)\n",
    "    \n",
    "    print(rand_index)"
   ]
  },
  {
   "cell_type": "markdown",
   "metadata": {},
   "source": [
    "### Plot eliminating x/y var, speed, and def based variables, replacing Ratio with Cor"
   ]
  },
  {
   "cell_type": "code",
   "execution_count": 42,
   "metadata": {},
   "outputs": [
    {
     "data": {
      "image/png": "[encoded data removed]",
      "text/plain": [
       "<matplotlib.figure.Figure at 0x118b04f28>"
      ]
     },
     "metadata": {},
     "output_type": "display_data"
    }
   ],
   "source": [
    "plt.pyplot.figure(figsize=(10, 6))\n",
    "# plotting the results\n",
    "plt.pyplot.bar(x = G_vect,\n",
    "               height = rand_index_G_vect,\n",
    "               width = .55)\n",
    "plt.pyplot.xlabel('Number of Clusters ($G*$)')\n",
    "plt.pyplot.ylabel('ARI Score')\n",
    "plt.pyplot.ylim(0,1)\n",
    "plt.pyplot.title('ARI Score vs. Number of Clusters')\n",
    "plt.pyplot.show()"
   ]
  },
  {
   "cell_type": "markdown",
   "metadata": {},
   "source": [
    "### Feature Importance"
   ]
  },
  {
   "cell_type": "code",
   "execution_count": 43,
   "metadata": {
    "collapsed": true
   },
   "outputs": [],
   "source": [
    "import sys\n",
    "weeks_exclude_vect = [[1,2,3],[4,5,6],[7,8,9],[10,11,12],[13,14,15],[15,16,17]]\n",
    "feature_list = list(X_train.columns)\n",
    "rand_index_vect = []\n",
    "\n",
    "# making a waitbar\n",
    "toolbar_width = len(feature_list)"
   ]
  },
  {
   "cell_type": "code",
   "execution_count": 44,
   "metadata": {},
   "outputs": [
    {
     "name": "stdout",
     "output_type": "stream",
     "text": [
      "[                ----------------"
     ]
    }
   ],
   "source": [
    "sys.stdout.write(\"[%s]\" % (\" \" * toolbar_width))\n",
    "sys.stdout.flush()\n",
    "sys.stdout.write(\"\\b\" * (toolbar_width+1))\n",
    "\n",
    "for feature in feature_list:\n",
    "    \n",
    "    rand_index_sum = 0\n",
    "\n",
    "    # iterating through the week groupings to leave out\n",
    "    for weeks_exclue in weeks_exclude_vect:\n",
    "        # creating train/test groups\n",
    "        train = sacks_df[[x not in weeks_exclude for \\\n",
    "                                 x in list(sacks_df[\"week\"])]].drop([feature], axis = 1)\n",
    "        test = sacks_df[[x in weeks_exclude for \\\n",
    "                                x in list(sacks_df[\"week\"])]].drop([feature], axis = 1)\n",
    "\n",
    "        X_train = train.drop(['week', 'gameId','playId','nflId','displayName','position'], axis = 1)\n",
    "        X_test = test.drop(['week', 'gameId','playId','nflId','displayName','position'], axis = 1)\n",
    "\n",
    "        # train\n",
    "        clf_train = mixture.GaussianMixture(n_components=2, covariance_type='full')\n",
    "        f_train = clf_train.fit(X_train)\n",
    "\n",
    "        # test\n",
    "        clf_test = mixture.GaussianMixture(n_components=2, covariance_type='full')\n",
    "        f_test = clf_test.fit(X_test)\n",
    "\n",
    "        # classifying test group\n",
    "        y_train = f_train.predict(X_test)\n",
    "        y_test = f_test.predict(X_test)\n",
    "\n",
    "        # appling the adjusted rand index\n",
    "        rand_index_val = adjusted_rand_score(y_train, y_test)\n",
    "        rand_index_sum += rand_index_val\n",
    "\n",
    "    rand_index = rand_index_sum/len(weeks_exclude_vect)\n",
    "    \n",
    "    rand_index_vect.append(rand_index)\n",
    "    \n",
    "    sys.stdout.write(\"-\")\n",
    "    sys.stdout.flush()"
   ]
  },
  {
   "cell_type": "code",
   "execution_count": 45,
   "metadata": {
    "collapsed": true
   },
   "outputs": [],
   "source": [
    "d = {'feature': feature_list, 'delta_ARI': rand_index_G_vect[0] - np.array(rand_index_vect)}\n",
    "feature_imp_df = pd.DataFrame(data=d).sort_values('delta_ARI', ascending = False)\n",
    "feature_imp_df[\"base_feature\"] = [x.split('_pass_forward')[0] if \"pass_forward\" in x \\\n",
    "                                  else x.split('_ball_snap')[0] if \"ball_snap\" in x \\\n",
    "                                  else x.split('_time')[0] for x in np.array(feature_imp_df[\"feature\"])]\n",
    "feature_imp_df[\"time_period\"] = [\"Before Ball Thrown\" if \"pass_forward\" in x \\\n",
    "                                 else \"Before Ball Thrown\" if \"ball_snap\" in x \\\n",
    "                                 else \"After Ball Thrown\" if x.endswith(\"2\") \\\n",
    "                                 else \"Before Ball Thrown\" for x in np.array(feature_imp_df[\"feature\"])]\n",
    "feature_imp_df[\"feature\"] = [x.upper() for x in feature_imp_df[\"feature\"]]"
   ]
  },
  {
   "cell_type": "code",
   "execution_count": 46,
   "metadata": {},
   "outputs": [
    {
     "data": {
      "image/png": "[encoded data removed]",
      "text/plain": [
       "<matplotlib.figure.Figure at 0x108302ac8>"
      ]
     },
     "metadata": {},
     "output_type": "display_data"
    }
   ],
   "source": [
    "plt.pyplot.figure(figsize=(7,7))\n",
    "\n",
    "sns.barplot(x=\"delta_ARI\", y=\"feature\", data=feature_imp_df.head(10).sort_values('delta_ARI', ascending = True),\n",
    "            hue = \"time_period\", dodge = False, palette = [\"red\", \"blue\"])\n",
    "plt.pyplot.gca().legend().set_title('')\n",
    "plt.pyplot.title('Change in ARI vs. Feature')\n",
    "plt.pyplot.ylabel('Feature Name')\n",
    "plt.pyplot.xlabel('Change In ARI')\n",
    "plt.pyplot.show()"
   ]
  },
  {
   "cell_type": "markdown",
   "metadata": {},
   "source": [
    "### Scoring All Plays"
   ]
  },
  {
   "cell_type": "code",
   "execution_count": 108,
   "metadata": {},
   "outputs": [
    {
     "data": {
      "text/html": [
       "<div>\n",
       "<style scoped>\n",
       "    .dataframe tbody tr th:only-of-type {\n",
       "        vertical-align: middle;\n",
       "    }\n",
       "\n",
       "    .dataframe tbody tr th {\n",
       "        vertical-align: top;\n",
       "    }\n",
       "\n",
       "    .dataframe thead th {\n",
       "        text-align: right;\n",
       "    }\n",
       "</style>\n",
       "<table border=\"1\" class=\"dataframe\">\n",
       "  <thead>\n",
       "    <tr style=\"text-align: right;\">\n",
       "      <th></th>\n",
       "      <th>week</th>\n",
       "      <th>gameId</th>\n",
       "      <th>playId</th>\n",
       "      <th>nflId</th>\n",
       "      <th>displayName</th>\n",
       "      <th>position</th>\n",
       "      <th>off_var_time_0</th>\n",
       "      <th>off_var_time_0_1</th>\n",
       "      <th>off_var_time_1</th>\n",
       "      <th>off_mean_time_0</th>\n",
       "      <th>...</th>\n",
       "      <th>off_dir_var_time_1</th>\n",
       "      <th>off_dir_mean_time_0_1</th>\n",
       "      <th>off_dir_mean_time_1</th>\n",
       "      <th>cor_s_time_1</th>\n",
       "      <th>cb_off_dir_diff_qb_sack</th>\n",
       "      <th>cb_off_dist_qb_sack</th>\n",
       "      <th>best_cor_x_time_1</th>\n",
       "      <th>best_cor_y_time_1</th>\n",
       "      <th>best_cor_x_y_avg_time_1</th>\n",
       "      <th>cor_dist_inter</th>\n",
       "    </tr>\n",
       "  </thead>\n",
       "  <tbody>\n",
       "    <tr>\n",
       "      <th>0</th>\n",
       "      <td>1</td>\n",
       "      <td>2018090600</td>\n",
       "      <td>776</td>\n",
       "      <td>2539334</td>\n",
       "      <td>Desmond Trufant</td>\n",
       "      <td>CB</td>\n",
       "      <td>0.000389</td>\n",
       "      <td>4.718561</td>\n",
       "      <td>5.473382</td>\n",
       "      <td>4.771215</td>\n",
       "      <td>...</td>\n",
       "      <td>514.650934</td>\n",
       "      <td>25.521875</td>\n",
       "      <td>17.195263</td>\n",
       "      <td>0.802340</td>\n",
       "      <td>37.12</td>\n",
       "      <td>11.512224</td>\n",
       "      <td>0.999221</td>\n",
       "      <td>0.993155</td>\n",
       "      <td>0.996188</td>\n",
       "      <td>0.156758</td>\n",
       "    </tr>\n",
       "    <tr>\n",
       "      <th>1</th>\n",
       "      <td>1</td>\n",
       "      <td>2018090600</td>\n",
       "      <td>776</td>\n",
       "      <td>2539653</td>\n",
       "      <td>Robert Alford</td>\n",
       "      <td>CB</td>\n",
       "      <td>0.000083</td>\n",
       "      <td>0.345370</td>\n",
       "      <td>0.251381</td>\n",
       "      <td>1.983317</td>\n",
       "      <td>...</td>\n",
       "      <td>236.038134</td>\n",
       "      <td>43.825208</td>\n",
       "      <td>13.468158</td>\n",
       "      <td>0.865475</td>\n",
       "      <td>21.84</td>\n",
       "      <td>0.890505</td>\n",
       "      <td>0.994428</td>\n",
       "      <td>0.981624</td>\n",
       "      <td>0.988026</td>\n",
       "      <td>0.931778</td>\n",
       "    </tr>\n",
       "    <tr>\n",
       "      <th>2</th>\n",
       "      <td>1</td>\n",
       "      <td>2018090600</td>\n",
       "      <td>776</td>\n",
       "      <td>2556445</td>\n",
       "      <td>Brian Poole</td>\n",
       "      <td>CB</td>\n",
       "      <td>0.001125</td>\n",
       "      <td>1.863231</td>\n",
       "      <td>2.358963</td>\n",
       "      <td>2.334981</td>\n",
       "      <td>...</td>\n",
       "      <td>2865.377275</td>\n",
       "      <td>75.475417</td>\n",
       "      <td>70.152895</td>\n",
       "      <td>0.044042</td>\n",
       "      <td>9.75</td>\n",
       "      <td>0.241868</td>\n",
       "      <td>0.949788</td>\n",
       "      <td>0.783449</td>\n",
       "      <td>0.866618</td>\n",
       "      <td>0.349824</td>\n",
       "    </tr>\n",
       "    <tr>\n",
       "      <th>3</th>\n",
       "      <td>1</td>\n",
       "      <td>2018090600</td>\n",
       "      <td>839</td>\n",
       "      <td>2539334</td>\n",
       "      <td>Desmond Trufant</td>\n",
       "      <td>CB</td>\n",
       "      <td>0.019996</td>\n",
       "      <td>1.094198</td>\n",
       "      <td>1.178080</td>\n",
       "      <td>6.975783</td>\n",
       "      <td>...</td>\n",
       "      <td>52.918508</td>\n",
       "      <td>10.355593</td>\n",
       "      <td>7.144286</td>\n",
       "      <td>0.874752</td>\n",
       "      <td>4.38</td>\n",
       "      <td>4.687057</td>\n",
       "      <td>0.997203</td>\n",
       "      <td>0.996352</td>\n",
       "      <td>0.996778</td>\n",
       "      <td>0.163544</td>\n",
       "    </tr>\n",
       "    <tr>\n",
       "      <th>4</th>\n",
       "      <td>1</td>\n",
       "      <td>2018090600</td>\n",
       "      <td>839</td>\n",
       "      <td>2539653</td>\n",
       "      <td>Robert Alford</td>\n",
       "      <td>CB</td>\n",
       "      <td>0.000035</td>\n",
       "      <td>7.452315</td>\n",
       "      <td>8.463855</td>\n",
       "      <td>2.132386</td>\n",
       "      <td>...</td>\n",
       "      <td>530.482807</td>\n",
       "      <td>38.213051</td>\n",
       "      <td>41.381837</td>\n",
       "      <td>0.953466</td>\n",
       "      <td>11.56</td>\n",
       "      <td>1.568949</td>\n",
       "      <td>0.788554</td>\n",
       "      <td>0.750077</td>\n",
       "      <td>0.769315</td>\n",
       "      <td>0.151729</td>\n",
       "    </tr>\n",
       "    <tr>\n",
       "      <th>...</th>\n",
       "      <td>...</td>\n",
       "      <td>...</td>\n",
       "      <td>...</td>\n",
       "      <td>...</td>\n",
       "      <td>...</td>\n",
       "      <td>...</td>\n",
       "      <td>...</td>\n",
       "      <td>...</td>\n",
       "      <td>...</td>\n",
       "      <td>...</td>\n",
       "      <td>...</td>\n",
       "      <td>...</td>\n",
       "      <td>...</td>\n",
       "      <td>...</td>\n",
       "      <td>...</td>\n",
       "      <td>...</td>\n",
       "      <td>...</td>\n",
       "      <td>...</td>\n",
       "      <td>...</td>\n",
       "      <td>...</td>\n",
       "      <td>...</td>\n",
       "    </tr>\n",
       "    <tr>\n",
       "      <th>3957</th>\n",
       "      <td>17</td>\n",
       "      <td>2018123015</td>\n",
       "      <td>3734</td>\n",
       "      <td>2495504</td>\n",
       "      <td>Patrick Peterson</td>\n",
       "      <td>CB</td>\n",
       "      <td>0.002700</td>\n",
       "      <td>10.834212</td>\n",
       "      <td>10.384614</td>\n",
       "      <td>10.337106</td>\n",
       "      <td>...</td>\n",
       "      <td>205.573173</td>\n",
       "      <td>25.468444</td>\n",
       "      <td>12.405429</td>\n",
       "      <td>0.899431</td>\n",
       "      <td>17.17</td>\n",
       "      <td>1.926577</td>\n",
       "      <td>0.992274</td>\n",
       "      <td>0.977765</td>\n",
       "      <td>0.985019</td>\n",
       "      <td>0.152782</td>\n",
       "    </tr>\n",
       "    <tr>\n",
       "      <th>3958</th>\n",
       "      <td>17</td>\n",
       "      <td>2018123015</td>\n",
       "      <td>3734</td>\n",
       "      <td>2540170</td>\n",
       "      <td>David Amerson</td>\n",
       "      <td>CB</td>\n",
       "      <td>0.002269</td>\n",
       "      <td>9.006402</td>\n",
       "      <td>8.130155</td>\n",
       "      <td>8.507617</td>\n",
       "      <td>...</td>\n",
       "      <td>17.999067</td>\n",
       "      <td>33.923333</td>\n",
       "      <td>5.074857</td>\n",
       "      <td>0.883068</td>\n",
       "      <td>3.51</td>\n",
       "      <td>1.132961</td>\n",
       "      <td>0.996984</td>\n",
       "      <td>0.988526</td>\n",
       "      <td>0.992755</td>\n",
       "      <td>0.215077</td>\n",
       "    </tr>\n",
       "    <tr>\n",
       "      <th>3959</th>\n",
       "      <td>17</td>\n",
       "      <td>2018123015</td>\n",
       "      <td>3932</td>\n",
       "      <td>2553456</td>\n",
       "      <td>Akeem King</td>\n",
       "      <td>CB</td>\n",
       "      <td>0.000193</td>\n",
       "      <td>1.021743</td>\n",
       "      <td>0.703777</td>\n",
       "      <td>3.910985</td>\n",
       "      <td>...</td>\n",
       "      <td>2819.623529</td>\n",
       "      <td>60.645614</td>\n",
       "      <td>45.178723</td>\n",
       "      <td>0.813447</td>\n",
       "      <td>55.69</td>\n",
       "      <td>2.481290</td>\n",
       "      <td>0.983579</td>\n",
       "      <td>0.954403</td>\n",
       "      <td>0.968991</td>\n",
       "      <td>0.431648</td>\n",
       "    </tr>\n",
       "    <tr>\n",
       "      <th>3960</th>\n",
       "      <td>17</td>\n",
       "      <td>2018123015</td>\n",
       "      <td>3932</td>\n",
       "      <td>2553637</td>\n",
       "      <td>Justin Coleman</td>\n",
       "      <td>CB</td>\n",
       "      <td>0.037785</td>\n",
       "      <td>1.455538</td>\n",
       "      <td>1.581337</td>\n",
       "      <td>6.148476</td>\n",
       "      <td>...</td>\n",
       "      <td>2108.753222</td>\n",
       "      <td>58.517895</td>\n",
       "      <td>43.520426</td>\n",
       "      <td>0.877561</td>\n",
       "      <td>8.88</td>\n",
       "      <td>5.778945</td>\n",
       "      <td>0.973878</td>\n",
       "      <td>0.989597</td>\n",
       "      <td>0.981737</td>\n",
       "      <td>0.187605</td>\n",
       "    </tr>\n",
       "    <tr>\n",
       "      <th>3961</th>\n",
       "      <td>17</td>\n",
       "      <td>2018123015</td>\n",
       "      <td>3932</td>\n",
       "      <td>2560728</td>\n",
       "      <td>Tre Flowers</td>\n",
       "      <td>CB</td>\n",
       "      <td>0.000215</td>\n",
       "      <td>0.209008</td>\n",
       "      <td>0.135812</td>\n",
       "      <td>1.940182</td>\n",
       "      <td>...</td>\n",
       "      <td>469.033332</td>\n",
       "      <td>35.659474</td>\n",
       "      <td>18.879362</td>\n",
       "      <td>0.911691</td>\n",
       "      <td>34.98</td>\n",
       "      <td>2.893890</td>\n",
       "      <td>0.992937</td>\n",
       "      <td>0.970065</td>\n",
       "      <td>0.981501</td>\n",
       "      <td>0.349854</td>\n",
       "    </tr>\n",
       "  </tbody>\n",
       "</table>\n",
       "<p>3962 rows × 22 columns</p>\n",
       "</div>"
      ],
      "text/plain": [
       "      week      gameId  playId    nflId       displayName position  \\\n",
       "0        1  2018090600     776  2539334   Desmond Trufant       CB   \n",
       "1        1  2018090600     776  2539653     Robert Alford       CB   \n",
       "2        1  2018090600     776  2556445       Brian Poole       CB   \n",
       "3        1  2018090600     839  2539334   Desmond Trufant       CB   \n",
       "4        1  2018090600     839  2539653     Robert Alford       CB   \n",
       "...    ...         ...     ...      ...               ...      ...   \n",
       "3957    17  2018123015    3734  2495504  Patrick Peterson       CB   \n",
       "3958    17  2018123015    3734  2540170     David Amerson       CB   \n",
       "3959    17  2018123015    3932  2553456        Akeem King       CB   \n",
       "3960    17  2018123015    3932  2553637    Justin Coleman       CB   \n",
       "3961    17  2018123015    3932  2560728       Tre Flowers       CB   \n",
       "\n",
       "      off_var_time_0  off_var_time_0_1  off_var_time_1  off_mean_time_0  ...  \\\n",
       "0           0.000389          4.718561        5.473382         4.771215  ...   \n",
       "1           0.000083          0.345370        0.251381         1.983317  ...   \n",
       "2           0.001125          1.863231        2.358963         2.334981  ...   \n",
       "3           0.019996          1.094198        1.178080         6.975783  ...   \n",
       "4           0.000035          7.452315        8.463855         2.132386  ...   \n",
       "...              ...               ...             ...              ...  ...   \n",
       "3957        0.002700         10.834212       10.384614        10.337106  ...   \n",
       "3958        0.002269          9.006402        8.130155         8.507617  ...   \n",
       "3959        0.000193          1.021743        0.703777         3.910985  ...   \n",
       "3960        0.037785          1.455538        1.581337         6.148476  ...   \n",
       "3961        0.000215          0.209008        0.135812         1.940182  ...   \n",
       "\n",
       "      off_dir_var_time_1  off_dir_mean_time_0_1  off_dir_mean_time_1  \\\n",
       "0             514.650934              25.521875            17.195263   \n",
       "1             236.038134              43.825208            13.468158   \n",
       "2            2865.377275              75.475417            70.152895   \n",
       "3              52.918508              10.355593             7.144286   \n",
       "4             530.482807              38.213051            41.381837   \n",
       "...                  ...                    ...                  ...   \n",
       "3957          205.573173              25.468444            12.405429   \n",
       "3958           17.999067              33.923333             5.074857   \n",
       "3959         2819.623529              60.645614            45.178723   \n",
       "3960         2108.753222              58.517895            43.520426   \n",
       "3961          469.033332              35.659474            18.879362   \n",
       "\n",
       "      cor_s_time_1  cb_off_dir_diff_qb_sack  cb_off_dist_qb_sack  \\\n",
       "0         0.802340                    37.12            11.512224   \n",
       "1         0.865475                    21.84             0.890505   \n",
       "2         0.044042                     9.75             0.241868   \n",
       "3         0.874752                     4.38             4.687057   \n",
       "4         0.953466                    11.56             1.568949   \n",
       "...            ...                      ...                  ...   \n",
       "3957      0.899431                    17.17             1.926577   \n",
       "3958      0.883068                     3.51             1.132961   \n",
       "3959      0.813447                    55.69             2.481290   \n",
       "3960      0.877561                     8.88             5.778945   \n",
       "3961      0.911691                    34.98             2.893890   \n",
       "\n",
       "      best_cor_x_time_1  best_cor_y_time_1  best_cor_x_y_avg_time_1  \\\n",
       "0              0.999221           0.993155                 0.996188   \n",
       "1              0.994428           0.981624                 0.988026   \n",
       "2              0.949788           0.783449                 0.866618   \n",
       "3              0.997203           0.996352                 0.996778   \n",
       "4              0.788554           0.750077                 0.769315   \n",
       "...                 ...                ...                      ...   \n",
       "3957           0.992274           0.977765                 0.985019   \n",
       "3958           0.996984           0.988526                 0.992755   \n",
       "3959           0.983579           0.954403                 0.968991   \n",
       "3960           0.973878           0.989597                 0.981737   \n",
       "3961           0.992937           0.970065                 0.981501   \n",
       "\n",
       "      cor_dist_inter  \n",
       "0           0.156758  \n",
       "1           0.931778  \n",
       "2           0.349824  \n",
       "3           0.163544  \n",
       "4           0.151729  \n",
       "...              ...  \n",
       "3957        0.152782  \n",
       "3958        0.215077  \n",
       "3959        0.431648  \n",
       "3960        0.187605  \n",
       "3961        0.349854  \n",
       "\n",
       "[3962 rows x 22 columns]"
      ]
     },
     "execution_count": 108,
     "metadata": {},
     "output_type": "execute_result"
    }
   ],
   "source": [
    "sacks_df"
   ]
  },
  {
   "cell_type": "code",
   "execution_count": 109,
   "metadata": {},
   "outputs": [
    {
     "data": {
      "text/plain": [
       "(3962, 16)"
      ]
     },
     "execution_count": 109,
     "metadata": {},
     "output_type": "execute_result"
    }
   ],
   "source": [
    "# sampling 45,000 plays to be within CPU limit\n",
    "X_train = sacks_df.drop(['week', 'gameId','playId','nflId','displayName','position'], axis = 1)\n",
    "X_train.shape"
   ]
  },
  {
   "cell_type": "code",
   "execution_count": 110,
   "metadata": {},
   "outputs": [
    {
     "data": {
      "text/plain": [
       "(3962, 16)"
      ]
     },
     "execution_count": 110,
     "metadata": {},
     "output_type": "execute_result"
    }
   ],
   "source": [
    "# all plays to score\n",
    "X_score = sacks_df.drop(['week', 'gameId','playId','nflId','displayName','position'], axis = 1)\n",
    "X_score.shape"
   ]
  },
  {
   "cell_type": "code",
   "execution_count": 113,
   "metadata": {
    "collapsed": true
   },
   "outputs": [],
   "source": [
    "# train\n",
    "clf_train = mixture.GaussianMixture(n_components=2, covariance_type='full')\n",
    "f_train = clf_train.fit(X_train)"
   ]
  },
  {
   "cell_type": "code",
   "execution_count": 114,
   "metadata": {},
   "outputs": [
    {
     "data": {
      "text/plain": [
       "{'best_cor_x_time_1': (0.98705450661198, 0.8238836691226079),\n",
       " 'best_cor_x_y_avg_time_1': (0.9783818919680055, 0.80784159576597),\n",
       " 'best_cor_y_time_1': (0.9697092773240316, 0.7917995224093322),\n",
       " 'cb_off_dir_diff_qb_sack': (18.55384098754475, 45.05236705363773),\n",
       " 'cb_off_dist_qb_sack': (2.280660366792203, 5.574456939198077),\n",
       " 'cor_dist_inter': (0.41329952770025524, 0.14018643191641744),\n",
       " 'cor_s_time_1': (0.8711588662815526, 0.6420455176818568),\n",
       " 'off_dir_mean_time_0_1': (32.506046844538595, 53.56682483316543),\n",
       " 'off_dir_mean_time_1': (20.047197822542753, 46.26830710359069),\n",
       " 'off_dir_var_time_1': (735.9323392943247, 1453.009539433531),\n",
       " 'off_mean_time_0': (5.042773840651562, 8.174875932509368),\n",
       " 'off_mean_time_0_1': (3.5064437357190137, 6.745599133809159),\n",
       " 'off_mean_time_1': (3.142103692759567, 6.4078874154649235),\n",
       " 'off_var_time_0': (0.045494502271372125, 0.05525102829366192),\n",
       " 'off_var_time_0_1': (2.880095560197506, 6.506821648479804),\n",
       " 'off_var_time_1': (2.535869536556111, 6.183732394494628)}"
      ]
     },
     "execution_count": 114,
     "metadata": {},
     "output_type": "execute_result"
    }
   ],
   "source": [
    "get_cluster_means(X_train, f_train)"
   ]
  },
  {
   "cell_type": "code",
   "execution_count": 115,
   "metadata": {
    "collapsed": true
   },
   "outputs": [],
   "source": [
    "full_probs = [x[1] for x in f_train.predict_proba(X_score)]\n",
    "full_classes = f_train.predict(X_score)"
   ]
  },
  {
   "cell_type": "code",
   "execution_count": 116,
   "metadata": {},
   "outputs": [
    {
     "data": {
      "image/png": "[encoded data removed]",
      "text/plain": [
       "<matplotlib.figure.Figure at 0x1278d4b00>"
      ]
     },
     "metadata": {},
     "output_type": "display_data"
    }
   ],
   "source": [
    "plt.pyplot.hist(full_probs, bins = 50)\n",
    "plt.pyplot.xlabel('Probability of Zone Coverage')\n",
    "plt.pyplot.ylabel('Density')\n",
    "plt.pyplot.show()"
   ]
  },
  {
   "cell_type": "code",
   "execution_count": 117,
   "metadata": {
    "collapsed": true
   },
   "outputs": [],
   "source": [
    "sacks_df[\"zone_probability\"] = full_probs\n",
    "sacks_df[\"zone_flag\"] = full_classes"
   ]
  },
  {
   "cell_type": "markdown",
   "metadata": {},
   "source": [
    "### Adding in Time Periods"
   ]
  },
  {
   "cell_type": "code",
   "execution_count": 124,
   "metadata": {
    "collapsed": true
   },
   "outputs": [],
   "source": [
    "def get_man_zone_classifications(sacks_df_new):\n",
    "    # sampling 45,000 plays to be within CPU limit\n",
    "    X_train = sacks_df_new.drop(['week', 'gameId','playId','nflId','displayName','position'], axis = 1)\n",
    "    \n",
    "    # getting df to score\n",
    "    X_score = sacks_df_new.drop(['week', 'gameId','playId','nflId','displayName','position'], axis = 1)\n",
    "    \n",
    "    # train\n",
    "    clf_train = mixture.GaussianMixture(n_components=2, covariance_type='full')\n",
    "    f_train = clf_train.fit(X_train)\n",
    "    \n",
    "    full_probs = [x[1] for x in f_train.predict_proba(X_score)]\n",
    "    full_classes = f_train.predict(X_score)\n",
    "    \n",
    "    plt.pyplot.hist(full_probs, bins = 50)\n",
    "    plt.pyplot.xlabel('Probability of Zone Coverage')\n",
    "    plt.pyplot.ylabel('Density')\n",
    "    plt.pyplot.show()\n",
    "    \n",
    "    print(get_cluster_means(X_train, f_train))\n",
    "    \n",
    "    return full_probs, full_classes"
   ]
  },
  {
   "cell_type": "code",
   "execution_count": 125,
   "metadata": {},
   "outputs": [
    {
     "data": {
      "image/png": "[encoded data removed]",
      "text/plain": [
       "<matplotlib.figure.Figure at 0x126cf6dd8>"
      ]
     },
     "metadata": {},
     "output_type": "display_data"
    },
    {
     "name": "stdout",
     "output_type": "stream",
     "text": [
      "{'off_var_time_0': (0.001462039927121896, 0.14249890688948905), 'off_mean_time_0': (5.817346695342662, 7.628435228312991)}\n"
     ]
    }
   ],
   "source": [
    "# for time 0\n",
    "sacks_df_new = sacks_df[['week', 'gameId','playId','nflId','displayName','position'] + \\\n",
    "                                     list(sacks_df.columns[[x.endswith('0') for x in sacks_df.columns]]) + \\\n",
    "                                     list(sacks_df.columns[[x.endswith('ball_snap') for x in sacks_df.columns]])]\n",
    "\n",
    "fun0_output = get_man_zone_classifications(sacks_df_new)\n",
    "full_probs0 = fun0_output[0]\n",
    "full_classes0 = fun0_output[1]"
   ]
  },
  {
   "cell_type": "code",
   "execution_count": 126,
   "metadata": {
    "collapsed": true
   },
   "outputs": [],
   "source": [
    "sacks_df[\"zone_probability_ball_snap\"] = full_probs0\n",
    "sacks_df[\"zone_flag_ball_snap\"] = full_classes0"
   ]
  },
  {
   "cell_type": "code",
   "execution_count": 127,
   "metadata": {},
   "outputs": [
    {
     "data": {
      "image/png": "[encoded data removed]",
      "text/plain": [
       "<matplotlib.figure.Figure at 0x127f0b3c8>"
      ]
     },
     "metadata": {},
     "output_type": "display_data"
    },
    {
     "name": "stdout",
     "output_type": "stream",
     "text": [
      "{'off_var_time_1': (2.822357857306718, 6.031615418172733), 'off_mean_time_1': (3.400922829684874, 6.2684388189237845), 'off_dir_var_time_1': (751.0758415383764, 1480.6007475257193), 'off_dir_mean_time_1': (20.82909142161382, 46.958642392995564), 'cor_s_time_1': (0.8701991611595982, 0.6278135182943501), 'best_cor_x_time_1': (0.9878861036220289, 0.8116322127366759), 'best_cor_y_time_1': (0.9741409033326406, 0.7735192435853472), 'best_cor_x_y_avg_time_1': (0.9810135034773348, 0.7925757281610112)}\n"
     ]
    }
   ],
   "source": [
    "# for time 1\n",
    "sacks_df_new = sacks_df[['week', 'gameId','playId','nflId','displayName','position'] + \\\n",
    "                                     list(sacks_df.columns[[x.endswith('time_1') for x in sacks_df.columns]])]\n",
    "\n",
    "fun1_output = get_man_zone_classifications(sacks_df_new)\n",
    "full_probs1 = fun1_output[0]\n",
    "full_classes1 = fun1_output[1]"
   ]
  },
  {
   "cell_type": "code",
   "execution_count": 128,
   "metadata": {
    "collapsed": true
   },
   "outputs": [],
   "source": [
    "sacks_df[\"zone_probability_drop_back\"] = full_probs1\n",
    "sacks_df[\"zone_flag_drop_back\"] = full_classes1"
   ]
  },
  {
   "cell_type": "markdown",
   "metadata": {},
   "source": [
    "### Saving Results"
   ]
  },
  {
   "cell_type": "code",
   "execution_count": 129,
   "metadata": {
    "collapsed": true
   },
   "outputs": [],
   "source": [
    "sacks_df_final = sacks_df[['week', 'gameId','playId','nflId','displayName','position'] + \\\n",
    "                                     list(sacks_df.columns[[x.startswith('zone') for x in sacks_df.columns]])]"
   ]
  },
  {
   "cell_type": "code",
   "execution_count": 130,
   "metadata": {},
   "outputs": [
    {
     "data": {
      "text/html": [
       "<div>\n",
       "<style scoped>\n",
       "    .dataframe tbody tr th:only-of-type {\n",
       "        vertical-align: middle;\n",
       "    }\n",
       "\n",
       "    .dataframe tbody tr th {\n",
       "        vertical-align: top;\n",
       "    }\n",
       "\n",
       "    .dataframe thead th {\n",
       "        text-align: right;\n",
       "    }\n",
       "</style>\n",
       "<table border=\"1\" class=\"dataframe\">\n",
       "  <thead>\n",
       "    <tr style=\"text-align: right;\">\n",
       "      <th></th>\n",
       "      <th>week</th>\n",
       "      <th>gameId</th>\n",
       "      <th>playId</th>\n",
       "      <th>nflId</th>\n",
       "      <th>displayName</th>\n",
       "      <th>position</th>\n",
       "      <th>zone_probability</th>\n",
       "      <th>zone_flag</th>\n",
       "      <th>zone_probability_ball_snap</th>\n",
       "      <th>zone_flag_ball_snap</th>\n",
       "      <th>zone_probability_drop_back</th>\n",
       "      <th>zone_flag_drop_back</th>\n",
       "    </tr>\n",
       "  </thead>\n",
       "  <tbody>\n",
       "    <tr>\n",
       "      <th>0</th>\n",
       "      <td>1</td>\n",
       "      <td>2018090600</td>\n",
       "      <td>776</td>\n",
       "      <td>2539334</td>\n",
       "      <td>Desmond Trufant</td>\n",
       "      <td>CB</td>\n",
       "      <td>1.000000e+00</td>\n",
       "      <td>1</td>\n",
       "      <td>0.002588</td>\n",
       "      <td>0</td>\n",
       "      <td>0.000163</td>\n",
       "      <td>0</td>\n",
       "    </tr>\n",
       "    <tr>\n",
       "      <th>1</th>\n",
       "      <td>1</td>\n",
       "      <td>2018090600</td>\n",
       "      <td>776</td>\n",
       "      <td>2539653</td>\n",
       "      <td>Robert Alford</td>\n",
       "      <td>CB</td>\n",
       "      <td>2.316213e-48</td>\n",
       "      <td>0</td>\n",
       "      <td>0.002456</td>\n",
       "      <td>0</td>\n",
       "      <td>0.000014</td>\n",
       "      <td>0</td>\n",
       "    </tr>\n",
       "    <tr>\n",
       "      <th>2</th>\n",
       "      <td>1</td>\n",
       "      <td>2018090600</td>\n",
       "      <td>776</td>\n",
       "      <td>2556445</td>\n",
       "      <td>Brian Poole</td>\n",
       "      <td>CB</td>\n",
       "      <td>1.000000e+00</td>\n",
       "      <td>1</td>\n",
       "      <td>0.002298</td>\n",
       "      <td>0</td>\n",
       "      <td>1.000000</td>\n",
       "      <td>1</td>\n",
       "    </tr>\n",
       "    <tr>\n",
       "      <th>3</th>\n",
       "      <td>1</td>\n",
       "      <td>2018090600</td>\n",
       "      <td>839</td>\n",
       "      <td>2539334</td>\n",
       "      <td>Desmond Trufant</td>\n",
       "      <td>CB</td>\n",
       "      <td>1.013250e-04</td>\n",
       "      <td>0</td>\n",
       "      <td>1.000000</td>\n",
       "      <td>1</td>\n",
       "      <td>0.000497</td>\n",
       "      <td>0</td>\n",
       "    </tr>\n",
       "    <tr>\n",
       "      <th>4</th>\n",
       "      <td>1</td>\n",
       "      <td>2018090600</td>\n",
       "      <td>839</td>\n",
       "      <td>2539653</td>\n",
       "      <td>Robert Alford</td>\n",
       "      <td>CB</td>\n",
       "      <td>1.000000e+00</td>\n",
       "      <td>1</td>\n",
       "      <td>0.002467</td>\n",
       "      <td>0</td>\n",
       "      <td>1.000000</td>\n",
       "      <td>1</td>\n",
       "    </tr>\n",
       "    <tr>\n",
       "      <th>...</th>\n",
       "      <td>...</td>\n",
       "      <td>...</td>\n",
       "      <td>...</td>\n",
       "      <td>...</td>\n",
       "      <td>...</td>\n",
       "      <td>...</td>\n",
       "      <td>...</td>\n",
       "      <td>...</td>\n",
       "      <td>...</td>\n",
       "      <td>...</td>\n",
       "      <td>...</td>\n",
       "      <td>...</td>\n",
       "    </tr>\n",
       "    <tr>\n",
       "      <th>3957</th>\n",
       "      <td>17</td>\n",
       "      <td>2018123015</td>\n",
       "      <td>3734</td>\n",
       "      <td>2495504</td>\n",
       "      <td>Patrick Peterson</td>\n",
       "      <td>CB</td>\n",
       "      <td>1.295397e-04</td>\n",
       "      <td>0</td>\n",
       "      <td>0.006744</td>\n",
       "      <td>0</td>\n",
       "      <td>0.000411</td>\n",
       "      <td>0</td>\n",
       "    </tr>\n",
       "    <tr>\n",
       "      <th>3958</th>\n",
       "      <td>17</td>\n",
       "      <td>2018123015</td>\n",
       "      <td>3734</td>\n",
       "      <td>2540170</td>\n",
       "      <td>David Amerson</td>\n",
       "      <td>CB</td>\n",
       "      <td>6.247320e-06</td>\n",
       "      <td>0</td>\n",
       "      <td>0.004177</td>\n",
       "      <td>0</td>\n",
       "      <td>0.000084</td>\n",
       "      <td>0</td>\n",
       "    </tr>\n",
       "    <tr>\n",
       "      <th>3959</th>\n",
       "      <td>17</td>\n",
       "      <td>2018123015</td>\n",
       "      <td>3932</td>\n",
       "      <td>2553456</td>\n",
       "      <td>Akeem King</td>\n",
       "      <td>CB</td>\n",
       "      <td>1.490960e-08</td>\n",
       "      <td>0</td>\n",
       "      <td>0.002505</td>\n",
       "      <td>0</td>\n",
       "      <td>0.000204</td>\n",
       "      <td>0</td>\n",
       "    </tr>\n",
       "    <tr>\n",
       "      <th>3960</th>\n",
       "      <td>17</td>\n",
       "      <td>2018123015</td>\n",
       "      <td>3932</td>\n",
       "      <td>2553637</td>\n",
       "      <td>Justin Coleman</td>\n",
       "      <td>CB</td>\n",
       "      <td>1.346955e-04</td>\n",
       "      <td>0</td>\n",
       "      <td>1.000000</td>\n",
       "      <td>1</td>\n",
       "      <td>0.000289</td>\n",
       "      <td>0</td>\n",
       "    </tr>\n",
       "    <tr>\n",
       "      <th>3961</th>\n",
       "      <td>17</td>\n",
       "      <td>2018123015</td>\n",
       "      <td>3932</td>\n",
       "      <td>2560728</td>\n",
       "      <td>Tre Flowers</td>\n",
       "      <td>CB</td>\n",
       "      <td>3.186719e-04</td>\n",
       "      <td>0</td>\n",
       "      <td>0.002417</td>\n",
       "      <td>0</td>\n",
       "      <td>0.000014</td>\n",
       "      <td>0</td>\n",
       "    </tr>\n",
       "  </tbody>\n",
       "</table>\n",
       "<p>3962 rows × 12 columns</p>\n",
       "</div>"
      ],
      "text/plain": [
       "      week      gameId  playId    nflId       displayName position  \\\n",
       "0        1  2018090600     776  2539334   Desmond Trufant       CB   \n",
       "1        1  2018090600     776  2539653     Robert Alford       CB   \n",
       "2        1  2018090600     776  2556445       Brian Poole       CB   \n",
       "3        1  2018090600     839  2539334   Desmond Trufant       CB   \n",
       "4        1  2018090600     839  2539653     Robert Alford       CB   \n",
       "...    ...         ...     ...      ...               ...      ...   \n",
       "3957    17  2018123015    3734  2495504  Patrick Peterson       CB   \n",
       "3958    17  2018123015    3734  2540170     David Amerson       CB   \n",
       "3959    17  2018123015    3932  2553456        Akeem King       CB   \n",
       "3960    17  2018123015    3932  2553637    Justin Coleman       CB   \n",
       "3961    17  2018123015    3932  2560728       Tre Flowers       CB   \n",
       "\n",
       "      zone_probability  zone_flag  zone_probability_ball_snap  \\\n",
       "0         1.000000e+00          1                    0.002588   \n",
       "1         2.316213e-48          0                    0.002456   \n",
       "2         1.000000e+00          1                    0.002298   \n",
       "3         1.013250e-04          0                    1.000000   \n",
       "4         1.000000e+00          1                    0.002467   \n",
       "...                ...        ...                         ...   \n",
       "3957      1.295397e-04          0                    0.006744   \n",
       "3958      6.247320e-06          0                    0.004177   \n",
       "3959      1.490960e-08          0                    0.002505   \n",
       "3960      1.346955e-04          0                    1.000000   \n",
       "3961      3.186719e-04          0                    0.002417   \n",
       "\n",
       "      zone_flag_ball_snap  zone_probability_drop_back  zone_flag_drop_back  \n",
       "0                       0                    0.000163                    0  \n",
       "1                       0                    0.000014                    0  \n",
       "2                       0                    1.000000                    1  \n",
       "3                       1                    0.000497                    0  \n",
       "4                       0                    1.000000                    1  \n",
       "...                   ...                         ...                  ...  \n",
       "3957                    0                    0.000411                    0  \n",
       "3958                    0                    0.000084                    0  \n",
       "3959                    0                    0.000204                    0  \n",
       "3960                    1                    0.000289                    0  \n",
       "3961                    0                    0.000014                    0  \n",
       "\n",
       "[3962 rows x 12 columns]"
      ]
     },
     "execution_count": 130,
     "metadata": {},
     "output_type": "execute_result"
    }
   ],
   "source": [
    "sacks_df_final"
   ]
  },
  {
   "cell_type": "code",
   "execution_count": 133,
   "metadata": {
    "collapsed": true
   },
   "outputs": [],
   "source": [
    "sacks_df_final.to_csv(\"~/Desktop/CoverageNet/src/01_identify_man_coverage/outputs/corners_sacks_man_zone_classes.csv\", \n",
    "                      index = False)"
   ]
  },
  {
   "cell_type": "code",
   "execution_count": 131,
   "metadata": {},
   "outputs": [
    {
     "data": {
      "text/html": [
       "<div>\n",
       "<style scoped>\n",
       "    .dataframe tbody tr th:only-of-type {\n",
       "        vertical-align: middle;\n",
       "    }\n",
       "\n",
       "    .dataframe tbody tr th {\n",
       "        vertical-align: top;\n",
       "    }\n",
       "\n",
       "    .dataframe thead th {\n",
       "        text-align: right;\n",
       "    }\n",
       "</style>\n",
       "<table border=\"1\" class=\"dataframe\">\n",
       "  <thead>\n",
       "    <tr style=\"text-align: right;\">\n",
       "      <th></th>\n",
       "      <th>week</th>\n",
       "      <th>gameId</th>\n",
       "      <th>playId</th>\n",
       "      <th>nflId</th>\n",
       "      <th>displayName</th>\n",
       "      <th>position</th>\n",
       "      <th>off_var_time_0</th>\n",
       "      <th>off_var_time_0_1</th>\n",
       "      <th>off_var_time_1</th>\n",
       "      <th>off_mean_time_0</th>\n",
       "      <th>...</th>\n",
       "      <th>best_cor_x_time_1</th>\n",
       "      <th>best_cor_y_time_1</th>\n",
       "      <th>best_cor_x_y_avg_time_1</th>\n",
       "      <th>cor_dist_inter</th>\n",
       "      <th>zone_probability</th>\n",
       "      <th>zone_flag</th>\n",
       "      <th>zone_probability_ball_snap</th>\n",
       "      <th>zone_flag_ball_snap</th>\n",
       "      <th>zone_probability_drop_back</th>\n",
       "      <th>zone_flag_drop_back</th>\n",
       "    </tr>\n",
       "  </thead>\n",
       "  <tbody>\n",
       "  </tbody>\n",
       "</table>\n",
       "<p>0 rows × 28 columns</p>\n",
       "</div>"
      ],
      "text/plain": [
       "Empty DataFrame\n",
       "Columns: [week, gameId, playId, nflId, displayName, position, off_var_time_0, off_var_time_0_1, off_var_time_1, off_mean_time_0, off_mean_time_0_1, off_mean_time_1, off_dir_var_time_1, off_dir_mean_time_0_1, off_dir_mean_time_1, cor_s_time_1, cb_off_dir_diff_qb_sack, cb_off_dist_qb_sack, best_cor_x_time_1, best_cor_y_time_1, best_cor_x_y_avg_time_1, cor_dist_inter, zone_probability, zone_flag, zone_probability_ball_snap, zone_flag_ball_snap, zone_probability_drop_back, zone_flag_drop_back]\n",
       "Index: []\n",
       "\n",
       "[0 rows x 28 columns]"
      ]
     },
     "execution_count": 131,
     "metadata": {},
     "output_type": "execute_result"
    }
   ],
   "source": [
    "sacks_df[(sacks_df[\"gameId\"] == 2018090901) & (sacks_df[\"playId\"] == 2885)]"
   ]
  },
  {
   "cell_type": "code",
   "execution_count": 132,
   "metadata": {},
   "outputs": [
    {
     "data": {
      "text/html": [
       "<div>\n",
       "<style scoped>\n",
       "    .dataframe tbody tr th:only-of-type {\n",
       "        vertical-align: middle;\n",
       "    }\n",
       "\n",
       "    .dataframe tbody tr th {\n",
       "        vertical-align: top;\n",
       "    }\n",
       "\n",
       "    .dataframe thead th {\n",
       "        text-align: right;\n",
       "    }\n",
       "</style>\n",
       "<table border=\"1\" class=\"dataframe\">\n",
       "  <thead>\n",
       "    <tr style=\"text-align: right;\">\n",
       "      <th></th>\n",
       "      <th>displayName</th>\n",
       "      <th>cor_s_time_1</th>\n",
       "    </tr>\n",
       "  </thead>\n",
       "  <tbody>\n",
       "  </tbody>\n",
       "</table>\n",
       "</div>"
      ],
      "text/plain": [
       "Empty DataFrame\n",
       "Columns: [displayName, cor_s_time_1]\n",
       "Index: []"
      ]
     },
     "execution_count": 132,
     "metadata": {},
     "output_type": "execute_result"
    }
   ],
   "source": [
    "sacks_df[(sacks_df[\"gameId\"] == 2018090901) & (sacks_df[\"playId\"] == 2885)][[\"displayName\"] + \\\n",
    "                            list(sacks_df.columns[['cor_s' in x for x in sacks_df.columns]])]"
   ]
  },
  {
   "cell_type": "code",
   "execution_count": null,
   "metadata": {
    "collapsed": true
   },
   "outputs": [],
   "source": []
  }
 ],
 "metadata": {
  "kernelspec": {
   "display_name": "Python 3",
   "language": "python",
   "name": "python3"
  },
  "language_info": {
   "codemirror_mode": {
    "name": "ipython",
    "version": 3
   },
   "file_extension": ".py",
   "mimetype": "text/x-python",
   "name": "python",
   "nbconvert_exporter": "python",
   "pygments_lexer": "ipython3",
   "version": "3.6.3"
  }
 },
 "nbformat": 4,
 "nbformat_minor": 2
}
